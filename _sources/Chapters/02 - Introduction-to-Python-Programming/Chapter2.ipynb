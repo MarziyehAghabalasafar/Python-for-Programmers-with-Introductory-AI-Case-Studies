{
 "cells": [
  {
   "cell_type": "markdown",
   "id": "6c1cb887",
   "metadata": {},
   "source": [
    "<img src=\"https://deitel.com/wp-content/uploads/2020/01/python-for-programmers.jpg\" align = \"left\">\n",
    "\n",
    "\n",
    "<!DOCTYPE html>\n",
    "<html>\n",
    "<head>\n",
    "    <style>\n",
    "    </style>\n",
    "</head>\n",
    "<body>\n",
    "    <h1 style=\"text-align:right;font-size:250%; font-family: 'XB Zar';\"><span style=\"color:#9575cd;font-size:300%;\">پایتون</span> <br>برای برنامه‌نویسان</h1>\n",
    "    <hr>\n",
    "    <p style=\"text-align:right;font-size:150%;font-family: 'XB Zar';\"><b>با مطالعات مقدماتی هوش مصنوعی</b></p>\n",
    "    <p style=\"text-align:right;font-size:150%;font-family: 'XB Zar';\">مولفین : پل دایتل و هاروی دایتل</p>\n",
    "</body>\n",
    "</html>"
   ]
  },
  {
   "cell_type": "markdown",
   "id": "053b476d",
   "metadata": {},
   "source": [
    "\n",
    "<html>\n",
    "<head>\n",
    "    <style>\n",
    "    </style>\n",
    "</head>\n",
    "<body>\n",
    "    <hr>\n",
    "    <p style=\"text-align:right;font-size:150%;font-family:XB Zar;\"><b>استاد:</b> جناب آقای دکتر صالحی</p>\n",
    "    <p style=\"text-align:right;font-size:150%;font-family:XB Zar;\"><b>گردآورنده:</b> مرضیه آقابالاصفر</p>\n",
    "    <p style=\"text-align:right;font-size:150%;font-family:XB Zar;\">دپارتمان علوم‌کامپیوتر، دانشکده علوم ریاضی، دانشگاه شهرکرد</p>\n",
    "    <hr>\n",
    "</body>\n",
    "</html>\n"
   ]
  },
  {
   "cell_type": "markdown",
   "id": "b8222c7c",
   "metadata": {},
   "source": [
    "<h1 style=\"text-align:center;font-size:450%; font-family: 'XB Zar';\"><span style=\"color:#8e24aa;\">فصل ۲: مقدمه‌ای بر برنامه‌نویسی پایتون</span></h1> <a id='1'></a>"
   ]
  },
  {
   "cell_type": "markdown",
   "id": "db318b3b",
   "metadata": {},
   "source": [
    "<h1 style=\"direction:rtl;font-size: 35px;font-family: 'XB Zar';\"><span style=\"color:#F50057;\">اهداف</span></h1>\n",
    "<p style=\"text-align:right;\">\n",
    "<div style=\"direction:rtl; font-size: 17px; font-family: 'XB Zar'; line-height: 200%\">\n",
    "در این فصل :\n",
    "</div>\n",
    "    <div style=\"direction:rtl; font-size: 17px; font-family: 'XB Zar'; line-height: 200%\">\n",
    "    <span style=\"color:#F50057;\">■ </span>دوباره از IPython در مود تعاملی برای وارد کردن کدهای اسنیپت و مشاهده فوری نتایج استفاده خواهید کرد.<br>\n",
    "    <span style=\"color:#F50057;\">■ </span>دستورات و اسکریپت‌های ساده پایتون را می‌نویسید.<br>\n",
    "    <span style=\"color:#F50057;\">■ </span>متغیرهایی را برای ذخیره داده و استفاده بعدی ایجاد خواهید کرد.<br>\n",
    "    <span style=\"color:#F50057;\">■ </span>با انواع داده‌های از پیش تعریف شده آشنا خواهید شد.<br>\n",
    "    <span style=\"color:#F50057;\">■ </span>با عملگرهای ریاضی و مقایسه‌ای کار می‌کنید و با مفهوم اولویت عملگرها آشنا خواهید شد.<br>\n",
    "    <span style=\"color:#F50057;\">■ </span>با رشته‌های محصور با کاراکتر نقل قول تکی، دوتایی و سه تایی کار خواهید کرد.<br> \n",
    "    <span style=\"color:#F50057;\">■ </span>با تابع از پیش تعریف شده print برای نمایش متن کار خواهید کرد.<br> \n",
    "    <span style=\"color:#F50057;\">■ </span>با تابع از پیش تعریف شده input کار خواهید کرد. این تابع پیامی را برای ورود داده از طریق کیبورد به کاربر نشان می‌دهد و داده ورودی را برای استفاده در برنامه دریافت می‌کند.<br>\n",
    "    <span style=\"color:#F50057;\">■ </span>با تابع از پیش تعریف شده convert متن را به عدد تبدیل خواهید کرد.<br> \n",
    "    <span style=\"color:#F50057;\">■ </span>با عملگرهای مقایسه‌ای و دستور if کار خواهید کرد و در مورد اجرا و یا عدم اجرای یک و یا چند دستور تصمیم می‌گیرید.<br>\n",
    "    <span style=\"color:#F50057;\">■ </span>در مورد اشیا و داده‌های پویا در پایتون مطالبی می‌آموزید.<br>\n",
    "    <span style=\"color:#F50057;\">■ </span>با کمک تابع از پیش تعریف شده type نوع یک شیء را مشخص خواهید کرد.<br>\n",
    "    </div>\n",
    "</p>"
   ]
  },
  {
   "cell_type": "markdown",
   "id": "f13db8f0",
   "metadata": {},
   "source": [
    "<h1 style=\"direction:rtl;font-size: 35px;font-family: 'XB Zar';\"><span style=\"color:#8e24aa;\">رئوس مطالب</span></h1>\n",
    "<hr>\n",
    "<div style=\"direction:rtl; font-size: 17px; font-family: 'XB Zar'; line-height: 200%\">\n",
    "  \n",
    "2. [مقدمه‌ای بر برنامه‌نویسی پایتون](#1)\n",
    "    * 2.1 [مقدمه](#2)\n",
    "    * 2.2 [متغیرها و دستورات انتساب](#3)\n",
    "    * 2.3 [ریاضیات](#4)\n",
    "    * 2.4 [تابع print و مقدمه‌ای بر رشته‌های محصور با کاراکتر نقل‌قول تکی، دوتایی](#5)\n",
    "    * 2.5 [رشته‌هایی با کاراکتر نقل‌قول سه‌تایی](#6)\n",
    "    * 2.6 [گرفتن ورودی از کاربر](#7)\n",
    "    * 2.7 [تصمیم‌گیری: دستور if و عملگرهای مقایسه‌ای](#8)\n",
    "    * 2.8 [اشیاء و داده‌ها با نوع پویا ](#9)\n",
    "    * 2.9 [مقدمه‌ای بر علم‌داده: آمار توصیفی پایه](#10)\n",
    "    * 2.10 [جمع‌بندی](#11)\n",
    "    \n",
    "</div>\n"
   ]
  },
  {
   "cell_type": "markdown",
   "id": "f1cb196b",
   "metadata": {},
   "source": [
    "<h1 style=\"direction:rtl;font-size: 35px;font-family: 'XB Zar';color:#8e24aa;\">2.1 <span style=\"color:#F50057;\">مقدمه</span></h1> <a id='2'></a>"
   ]
  },
  {
   "cell_type": "markdown",
   "id": "f0300d92",
   "metadata": {},
   "source": [
    "<div style=\"direction:rtl; font-size: 17px; font-family: 'XB Zar'; line-height: 200%\">در این فصل برنامه نویسی پایتون را معرفی می‌کنیم و برای نشان دادن ویژگی‌های اصلی این زبان مثال‌هایی را ارائه می‌دهیم. فرض را بر این گذاشته‌ایم که قسمت اجرای برنامه‌ها با IPython در فصل ۱ را مطالعه کرده‌اید این بخش مفسر IPython و نحوه استفاده از آن برای ارزیابی عبارت‌های ریاضی را شرح می‌دهد.\n",
    "</div>"
   ]
  },
  {
   "cell_type": "markdown",
   "id": "807b6626",
   "metadata": {},
   "source": [
    "<h1 style=\"direction:rtl;font-size: 35px;font-family: 'XB Zar';color:#8e24aa;\">2.2 <span style=\"color:#F50057;\">متغیرها و دستورات انتساب</span></h1> <a id='3'></a>"
   ]
  },
  {
   "cell_type": "markdown",
   "id": "f7e6e292",
   "metadata": {},
   "source": [
    "<div style=\"direction:rtl; font-size: 17px; font-family: 'XB Zar'; line-height: 200%\">شما با حالت تعاملی IPython به عنوان یک ماشین حساب برای ارزیابی عبارت‌های ریاضی نظیر عبارت ذیل استفاده کرده‌اید:\n",
    "</div>"
   ]
  },
  {
   "cell_type": "code",
   "execution_count": null,
   "id": "dcb970c7",
   "metadata": {},
   "outputs": [],
   "source": [
    "45 + 72"
   ]
  },
  {
   "cell_type": "markdown",
   "id": "8a338b14",
   "metadata": {},
   "source": [
    "<div style=\"direction:rtl; font-size: 17px; font-family: 'XB Zar'; line-height: 200%\">با دستور ذیل یک متغیر با نام x تعریف شده و مقدار ۷ در آن ذخیره می‌گردد:\n",
    "</div>"
   ]
  },
  {
   "cell_type": "code",
   "execution_count": null,
   "id": "0e3d6aac",
   "metadata": {},
   "outputs": [],
   "source": [
    "x = 7"
   ]
  },
  {
   "cell_type": "markdown",
   "id": "8b4e5780",
   "metadata": {},
   "source": [
    "<div style=\"direction:rtl; font-size: 17px; font-family: 'XB Zar'; line-height: 200%\">اسنیپت [2]  یک دستور است. هر دستور وظیفه‌ای را برای اجرا مشخص می‌کند. دستور بالا متغیر x  را ایجاد کرده و با کمک نماد انتساب =   آن را مقدار دهی می‌کند. اکثر دستورها  امکان دارد در انتهای خط متوقف شوند. دستور ذیل متغیر y  را تعریف کرده و به آن مقدار ۳ را تخصیص می‌دهد:\n",
    "</div>"
   ]
  },
  {
   "cell_type": "code",
   "execution_count": null,
   "id": "3f9e0b8b",
   "metadata": {},
   "outputs": [],
   "source": [
    "y = 3"
   ]
  },
  {
   "cell_type": "markdown",
   "id": "bd6d2aa5",
   "metadata": {},
   "source": [
    "<div style=\"direction:rtl; font-size: 17px; font-family: 'XB Zar'; line-height: 200%\">از مقادیر x و y می‌توان در عبارت‌ها استفاده کرد:\n",
    "</div>"
   ]
  },
  {
   "cell_type": "code",
   "execution_count": null,
   "id": "1d29f0f1",
   "metadata": {},
   "outputs": [],
   "source": [
    "x + y"
   ]
  },
  {
   "cell_type": "markdown",
   "id": "524ce8f8",
   "metadata": {},
   "source": [
    "<h2 style=\"direction:rtl;font-size: px;font-family: 'XB Zar';color:#0288d1;\">محاسبات در دستورات انتساب</h2> <a id=''></a>"
   ]
  },
  {
   "cell_type": "markdown",
   "id": "c68c4a5e",
   "metadata": {},
   "source": [
    "<div style=\"direction:rtl; font-size: 17px; font-family: 'XB Zar'; line-height: 200%\">دستور ذیل مقادیر x و y را با یکدیگر جمع کرده و نتیجه را در متغیر total قرار می‌دهد:\n",
    "</div>"
   ]
  },
  {
   "cell_type": "code",
   "execution_count": null,
   "id": "ba42ddfe",
   "metadata": {},
   "outputs": [],
   "source": [
    "total = x + y"
   ]
  },
  {
   "cell_type": "code",
   "execution_count": null,
   "id": "fc502437",
   "metadata": {},
   "outputs": [],
   "source": [
    "total"
   ]
  },
  {
   "cell_type": "markdown",
   "id": "e13e3153",
   "metadata": {},
   "source": [
    "<div style=\"direction:rtl; font-size: 17px; font-family: 'XB Zar'; line-height: 200%\">نماد = یک عملگر محسوب نمی‌شود. همیشه اول سمت راست نماد = محاسبه می‌شود و سپس نتیجه در متغیر سمت چپ ذخیره می‌گردد.\n",
    "</div>"
   ]
  },
  {
   "cell_type": "markdown",
   "id": "fc93eb36",
   "metadata": {},
   "source": [
    "<h2 style=\"direction:rtl;font-size: px;font-family: 'XB Zar';color:#0288d1;\">سبک کدنویسی در پایتون</h2> <a id=''></a>"
   ]
  },
  {
   "cell_type": "markdown",
   "id": "c3deef2b",
   "metadata": {},
   "source": [
    "<div style=\"direction:rtl; font-size: 17px; font-family: 'XB Zar'; line-height: 200%\">راهنمای سبک کدنویسی در پایتون به شما کمک می‌کند کدها را مطابق قراردادهای متعارف برنامه نویسی پایتون بنویسید. این راهنما توصیه می‌کند برای افزایش خوانایی برنامه در دو طرف نماد انتساب و عملگرهای دودویی نظیر + یک فاصله قرار دهید.\n",
    "</div>"
   ]
  },
  {
   "cell_type": "markdown",
   "id": "efff79c0",
   "metadata": {},
   "source": [
    "<h2 style=\"direction:rtl;font-size: px;font-family: 'XB Zar';color:#0288d1;\">نام‌گذاری متغیرها</h2> <a id=''></a>"
   ]
  },
  {
   "cell_type": "markdown",
   "id": "28f0aed7",
   "metadata": {},
   "source": [
    "<div style=\"direction:rtl; font-size: 17px; font-family: 'XB Zar'; line-height: 200%\">نام متغیر نظیر x یک شناسه محسوب می‌شود. هر شناسه می‌تواند از حروف الفبای انگلیسی، ارقام و خط تیره تشکیل شود ولی نمی‌تواند با یک رقم شروع شود. پایتون به حروف کوچک و بزرگ حساس است، بنابراین number و Number شناسه‌های مختلفی هستند چرا که یکی با حرف کوچک و دیگری با یک حرف بزرگ شروع شده است.\n",
    "</div>"
   ]
  },
  {
   "cell_type": "markdown",
   "id": "2b6dab05",
   "metadata": {},
   "source": [
    "<h2 style=\"direction:rtl;font-size: px;font-family: 'XB Zar';color:#0288d1;\">انواع داده</h2> <a id=''></a>"
   ]
  },
  {
   "cell_type": "markdown",
   "id": "21d278fd",
   "metadata": {},
   "source": [
    "<div style=\"direction:rtl; font-size: 17px; font-family: 'XB Zar'; line-height: 200%\">هر مقدار در پایتون دارای یک نوع است و نوع داده‌ای که نمایش می‌دهد را نشان می‌دهد.  با استفاده از تابع از پیش تعریف شده type می‌توانید نوع یک مقدار را مشخص کنید:\n",
    "</div>"
   ]
  },
  {
   "cell_type": "code",
   "execution_count": null,
   "id": "f3520fbd",
   "metadata": {},
   "outputs": [],
   "source": [
    "type(x)"
   ]
  },
  {
   "cell_type": "code",
   "execution_count": null,
   "id": "8390da6d",
   "metadata": {},
   "outputs": [],
   "source": [
    "type(10.5)"
   ]
  },
  {
   "cell_type": "markdown",
   "id": "df4aa751",
   "metadata": {},
   "source": [
    "<div style=\"direction:rtl; font-size: 17px; font-family: 'XB Zar'; line-height: 200%\">مقدار متغیر \n",
    "    x \n",
    "    عدد صحیح \n",
    "    ۷ \n",
    "    است (از اسنیپت ۲). \n",
    "    بنابراین پایتون \n",
    "    int \n",
    "    را نمایش می‌دهد(مخفف \n",
    "    integer). \n",
    "    ۱۰.۵ \n",
    "    یک عدد ممیز شناور است، بنابراین پایتون عبارت \n",
    "    float \n",
    "    را نمایش می‌دهد.\n",
    "</div>"
   ]
  },
  {
   "cell_type": "markdown",
   "id": "76141db6",
   "metadata": {},
   "source": [
    "<h1 style=\"direction:rtl;font-size: 35px;font-family: 'XB Zar';color:#8e24aa;\">2.3 <span style=\"color:#F50057;\">ریاضیات</span></h1> <a id='4'></a>"
   ]
  },
  {
   "cell_type": "markdown",
   "id": "9d3c9bdd",
   "metadata": {},
   "source": [
    "<div style=\"direction:rtl; font-size: 17px; font-family: 'XB Zar'; line-height: 200%\">جدول زیر عملگرهای ریاضی را به طور خلاصه نشان می‌دهد و شامل نمادهایی است که در جبر استفاده نمی‌شود.\n",
    "</div>"
   ]
  },
  {
   "attachments": {
    "Screenshot%20%2825%29.png": {
     "image/png": "[encoded data removed]"
    }
   },
   "cell_type": "markdown",
   "id": "a61659b0",
   "metadata": {},
   "source": [
    "![Screenshot%20%2825%29.png](attachment:Screenshot%20%2825%29.png)"
   ]
  },
  {
   "cell_type": "markdown",
   "id": "96458c59",
   "metadata": {},
   "source": [
    "<h2 style=\"direction:rtl;font-size: px;font-family: 'XB Zar';color:#0288d1;\">ضرب ($*$)</h2> <a id=''></a>"
   ]
  },
  {
   "cell_type": "markdown",
   "id": "3bc54cdd",
   "metadata": {},
   "source": [
    "<div style=\"direction:rtl; font-size: 17px; font-family: 'XB Zar'; line-height: 200%\">پایتون از کاراکتر $*$ به‌عنوان عملگر ضرب استفاده می‌کند.\n",
    "</div>"
   ]
  },
  {
   "cell_type": "code",
   "execution_count": null,
   "id": "1a7d414a",
   "metadata": {},
   "outputs": [],
   "source": [
    "7 * 4"
   ]
  },
  {
   "cell_type": "markdown",
   "id": "340eb0cf",
   "metadata": {},
   "source": [
    "<h2 style=\"direction:rtl;font-size: px;font-family: 'XB Zar';color:#0288d1;\">توان ($**$)</h2> <a id=''></a>"
   ]
  },
  {
   "cell_type": "markdown",
   "id": "bd805d5d",
   "metadata": {},
   "source": [
    "<div style=\"direction:rtl; font-size: 17px; font-family: 'XB Zar'; line-height: 200%\">عملگر توان یک مقدار را به توان یک مقدار دیگر می‌رساند.\n",
    "</div>"
   ]
  },
  {
   "cell_type": "code",
   "execution_count": null,
   "id": "27bb56ce",
   "metadata": {},
   "outputs": [],
   "source": [
    "2 ** 10"
   ]
  },
  {
   "cell_type": "markdown",
   "id": "137c222e",
   "metadata": {},
   "source": [
    "<div style=\"direction:rtl; font-size: 17px; font-family: 'XB Zar'; line-height: 200%\">برای محاسبه ریشه دوم، می توانید از توان $۱/۲$ (یعنی ۰.۵) استفاده کنید:\n",
    "</div>"
   ]
  },
  {
   "cell_type": "code",
   "execution_count": null,
   "id": "28b0bc30",
   "metadata": {},
   "outputs": [],
   "source": [
    "9 ** (1 / 2)"
   ]
  },
  {
   "cell_type": "markdown",
   "id": "7c578660",
   "metadata": {},
   "source": [
    "<h2 style=\"direction:rtl;font-size: px;font-family: 'XB Zar';color:#0288d1;\">تقسیم معمولی ($/$) در قیاس با تقسیم صحیح ($//$)</h2> <a id=''></a>"
   ]
  },
  {
   "cell_type": "markdown",
   "id": "399c3fd8",
   "metadata": {},
   "source": [
    "<div style=\"direction:rtl; font-size: 17px; font-family: 'XB Zar'; line-height: 200%\">تقسیم معمولی یک عدد را بر مقسوم‌علیه تقسیم کرده و یک مقدار اعشاری را به عنوان نتیجه برمی‌گرداند:\n",
    "</div>"
   ]
  },
  {
   "cell_type": "code",
   "execution_count": null,
   "id": "814d123e",
   "metadata": {},
   "outputs": [],
   "source": [
    "7 / 4"
   ]
  },
  {
   "cell_type": "markdown",
   "id": "fba9c4f2",
   "metadata": {},
   "source": [
    "<div style=\"direction:rtl; font-size: 17px; font-family: 'XB Zar'; line-height: 200%\">تقسیم اعشاری یک عدد را بر مقسوم‌علیه تقسیم کرده و بزرگترین عدد صحیحی که از خارج‌قسمت به دست آمده کوچک‌تر و یا مساوی است را برمی‌گرداند. پایتون قسمت اعشاری را حذف می‌کند:\n",
    "</div>"
   ]
  },
  {
   "cell_type": "code",
   "execution_count": null,
   "id": "8c5e7510",
   "metadata": {},
   "outputs": [],
   "source": [
    "7 // 4"
   ]
  },
  {
   "cell_type": "code",
   "execution_count": null,
   "id": "69d08e94",
   "metadata": {},
   "outputs": [],
   "source": [
    "3 // 5"
   ]
  },
  {
   "cell_type": "code",
   "execution_count": null,
   "id": "dfa8d82a",
   "metadata": {},
   "outputs": [],
   "source": [
    "14 // 7"
   ]
  },
  {
   "cell_type": "markdown",
   "id": "6bade9df",
   "metadata": {},
   "source": [
    "<div style=\"direction:rtl; font-size: 17px; font-family: 'XB Zar'; line-height: 200%\">در تقسیم معمولی  $-۱۳$ بر $۴$ مقدار اعشاری $-۳.۲۵$ به دست می‌آید:\n",
    "</div>"
   ]
  },
  {
   "cell_type": "code",
   "execution_count": null,
   "id": "c34168b4",
   "metadata": {},
   "outputs": [],
   "source": [
    "-13 / 4"
   ]
  },
  {
   "cell_type": "markdown",
   "id": "d9396d59",
   "metadata": {},
   "source": [
    "<div style=\"direction:rtl; font-size: 17px; font-family: 'XB Zar'; line-height: 200%\">در تقسیم صحیح مقدار ۴ به دست می‌آید، این مقدار بزرگترین عدد صحیحی است که از ۳.۲۵$-$ بیشتر نیست:\n",
    "</div>"
   ]
  },
  {
   "cell_type": "code",
   "execution_count": null,
   "id": "adf0207a",
   "metadata": {},
   "outputs": [],
   "source": [
    "-13 // 4"
   ]
  },
  {
   "cell_type": "markdown",
   "id": "ea775517",
   "metadata": {},
   "source": [
    "<h2 style=\"direction:rtl;font-size: px;font-family: 'XB Zar';color:#0288d1;\">استثناها و\n",
    "Tracebackها\n",
    "</h2> <a id=''></a>"
   ]
  },
  {
   "cell_type": "markdown",
   "id": "9ac06010",
   "metadata": {},
   "source": [
    "<div style=\"direction:rtl; font-size: 17px; font-family: 'XB Zar'; line-height: 200%\">تقسیم معمولی و صحیح بر صفر مجاز نبوده و منجر به تولید یک استثنا می‌گردد، یک استثنا معرف رویداد یک مشکل می‌باشد.\n",
    "</div>"
   ]
  },
  {
   "cell_type": "code",
   "execution_count": null,
   "id": "f43ba9ae",
   "metadata": {},
   "outputs": [],
   "source": [
    "123 / 0"
   ]
  },
  {
   "cell_type": "markdown",
   "id": "806f8c11",
   "metadata": {},
   "source": [
    "<div style=\"direction:rtl; font-size: 17px; font-family: 'XB Zar'; line-height: 200%\">پایتون یک استثنا را با Traceback گزارش می‌کند. این Traceback معرف آن است که یک استثنا از نوع ZeroDivisionError روی‌داده است. اکثر استثناها به کلمه Error ختم می‌شوند. در حالت محاوره‌ای شماره اسنیپتی که موجب خطا شده ذکر می‌گردد. خط  $---->$  کدی که موجب رخ دادن استثنا شده است را نشان می‌دهد. گاهی اوقات اسنیپت چند خطی است و عدد ۱ در سمت راست نماد  $---->$  شماره خطی که موجب بروز استثنا شده را نشان می‌دهد. در انتها استثنای ایجاد شده و به دنبال آن کاراکتر : به همراه توضیحات کامل‌تری نشان داده می‌شود.\n",
    "</div>"
   ]
  },
  {
   "cell_type": "markdown",
   "id": "7f97c0a5",
   "metadata": {},
   "source": [
    "```Python\n",
    "ZeroDivisionError: division by zero\n",
    "```"
   ]
  },
  {
   "cell_type": "markdown",
   "id": "664650b1",
   "metadata": {},
   "source": [
    "<div style=\"direction:rtl; font-size: 17px; font-family: 'XB Zar'; line-height: 200%\">در فصل فایل‌ها و استثناها، مبحث استثناها با جزئیات کامل مورد بررسی قرار می‌گیرد. اگر سعی کنید از متغیری استفاده کنید که ایجاد نشده، یک استثنا روی خواهد داد. اسنیپت زیر سعی می‌کند مقدار ۷ را با متغیر تعریف نشده  z جمع کند و در نتیجه استثنای  NameError روی می‌دهد.\n",
    "</div>"
   ]
  },
  {
   "cell_type": "code",
   "execution_count": null,
   "id": "c63ae2c4",
   "metadata": {},
   "outputs": [],
   "source": [
    "z + 7"
   ]
  },
  {
   "cell_type": "markdown",
   "id": "68e4be51",
   "metadata": {},
   "source": [
    "<h2 style=\"direction:rtl;font-size: px;font-family: 'XB Zar';color:#0288d1;\">عملگر باقی‌مانده تقسیم</h2><a id=''></a>"
   ]
  },
  {
   "cell_type": "markdown",
   "id": "6a5a6f85",
   "metadata": {},
   "source": [
    "<div style=\"direction:rtl; font-size: 17px; font-family: 'XB Zar'; line-height: 200%\">در پایتون این عملگر (%)، باقیمانده تقسیم عملوند اول بر دوم را برمی‌گرداند.\n",
    "</div>"
   ]
  },
  {
   "cell_type": "code",
   "execution_count": null,
   "id": "11f101b8",
   "metadata": {},
   "outputs": [],
   "source": [
    "17 % 5"
   ]
  },
  {
   "cell_type": "markdown",
   "id": "5fb6eeec",
   "metadata": {},
   "source": [
    "<div style=\"direction:rtl; font-size: 17px; font-family: 'XB Zar'; line-height: 200%\">در مثال بالا با تقسیم ۱۷ بر ۵ خارج قسمت ۳ و باقی‌مانده ۲ به دست می‌آید. معمولاً این عملگر با اعداد صحیح استفاده می‌شود ولی می‌توان آن را با اعداد اعشاری هم استفاده کرد:\n",
    "</div>"
   ]
  },
  {
   "cell_type": "code",
   "execution_count": null,
   "id": "0ea55f7d",
   "metadata": {},
   "outputs": [],
   "source": [
    "7.5 % 3.5"
   ]
  },
  {
   "cell_type": "markdown",
   "id": "edbef777",
   "metadata": {},
   "source": [
    "<h2 style=\"direction:rtl;font-size: px;font-family: 'XB Zar';color:#0288d1;\">فرم تک خطی</h2><a id=''></a>"
   ]
  },
  {
   "cell_type": "markdown",
   "id": "c6a92254",
   "metadata": {},
   "source": [
    "<div style=\"direction:rtl; font-size: 17px; font-family: 'XB Zar'; line-height: 200%\">مفسرها و کامپایلرها معمولاً نماد جبری نظیر\n",
    "    $\\frac{a}{b}$\n",
    "    را قبول نمی‌کنند. به همین دلیل هنگام نوشتن عبارت جبری با استفاده از عملگرهای پایتون باید از فرم تک خطی استفاده کرد. بنابراین باید عبارت بالا را به فرم\n",
    "     <code>a / b</code> (or <code>a // b</code> for floor division) \n",
    "    نوشت تا تمام عملگرها و عملوندها در یک خط قرار بگیرند.\n",
    "</div>"
   ]
  },
  {
   "cell_type": "markdown",
   "id": "8e62621c",
   "metadata": {},
   "source": [
    "<h2 style=\"direction:rtl;font-size: px;font-family: 'XB Zar';color:#0288d1;\">گروه‌بندی عبارت با کمک پرانتزها</h2><a id=''></a>"
   ]
  },
  {
   "cell_type": "markdown",
   "id": "5188691a",
   "metadata": {},
   "source": [
    "<div style=\"direction:rtl; font-size: 17px; font-family: 'XB Zar'; line-height: 200%\">با استفاده از پرانتزها می‌توان در پایتون عبارت‌ها را همانند جبر گروه‌بندی کرد. برای مثال عبارت ذیل حاصل جمع ۵ + ۳ را در ۱۰ ضرب می‌کند:\n",
    "</div>"
   ]
  },
  {
   "cell_type": "code",
   "execution_count": null,
   "id": "aa3f1144",
   "metadata": {},
   "outputs": [],
   "source": [
    "10 * (5 + 3)"
   ]
  },
  {
   "cell_type": "markdown",
   "id": "1773db62",
   "metadata": {},
   "source": [
    "<div style=\"direction:rtl; font-size: 17px; font-family: 'XB Zar'; line-height: 200%\">بدون پرانتزها نتیجه متفاوت خواهد بود:\n",
    "</div>"
   ]
  },
  {
   "cell_type": "code",
   "execution_count": null,
   "id": "42e8676a",
   "metadata": {},
   "outputs": [],
   "source": [
    "10 * 5 + 3"
   ]
  },
  {
   "cell_type": "markdown",
   "id": "5fd42eeb",
   "metadata": {},
   "source": [
    "<div style=\"direction:rtl; font-size: 17px; font-family: 'XB Zar'; line-height: 200%\">اگر با حذف پرانتزها نتیجه تغییر نکند، پرانتزها اضافی محسوب می‌شوند.\n",
    "</div>"
   ]
  },
  {
   "cell_type": "markdown",
   "id": "4c579866",
   "metadata": {},
   "source": [
    "<h2 style=\"direction:rtl;font-size: px;font-family: 'XB Zar';color:#0288d1;\">قواعد اولویت اپراتورها</h2><a id=''></a>"
   ]
  },
  {
   "cell_type": "markdown",
   "id": "b939361d",
   "metadata": {},
   "source": [
    "<div style=\"direction:rtl; font-size: 17px; font-family: 'XB Zar'; line-height: 200%\">پایتون بر اساس قوانین اولویت بندی عملگرهای ذیل، عملگرها را در عبارات ریاضی محاسبه می‌کند. این قوانین معمولاً همانند قوانین جبر هستند:\n",
    "</div>"
   ]
  },
  {
   "cell_type": "markdown",
   "id": "5b1d7825",
   "metadata": {},
   "source": [
    "<div style=\"direction:rtl; font-size: 17px; font-family: 'XB Zar'; line-height: 200%\">\n",
    "    <span style=\"color:#D50000;\">1. </span>عبارات داخل پرانتز ابتدا ارزیابی می‌شوند، بنابراین با استفاده از پرانتز‌ها می‌توانید اولویت ارزیابی عبارت‌ها را تغییر دهید. پرانتز بالاترین سطح اولویت را دارد. در عباراتی که دارای پرانتز تو در تو مثل فلان هستند، داخلی‌ترین پرانتز یعنی فلان ابتدا ارزیابی می‌شود.<br>\n",
    "    <span style=\"color:#D50000;\">2. </span>عملگر توان در مرحله بعدی ارزیابی می‌شود. اگر عبارتی شامل چندین عملگر توان باشد، پایتون آنها را از راست به چپ ارزیابی می‌کند.<br>\n",
    "    <span style=\"color:#D50000;\">3. </span>عملگر ضرب، تقسیم و باقیمانده در مرحله بعد ارزیابی می‌شوند. اگر عبارتی شامل چندین عمل ضرب، تقسیم، تقسیم صحیح و باقیمانده باشد، پایتون آن‌ها را از چپ به راست ارزیابی می‌کند. عملگرهای ضرب، تقسیم و باقیمانده اولویت‌های برابری دارند.<br>\n",
    "    <span style=\"color:#D50000;\">4. </span>عملگر جمع و تفریق در مرحله آخر ارزیابی می‌شوند. اگر عبارتی شامل چندین عملگر جمع و تفریق باشد، پایتون آنها را از چپ به راست ارزیابی می‌کند. عملگرهای جمع و تفریق اولویت‌های برابری دارند.<br>\n",
    "</div>\n",
    "\n",
    "<br>\n",
    "<div style=\"direction:rtl; font-size: 17px; font-family: 'XB Zar'; line-height: 200%\">برای مشاهده لیست کامل عملگرها و اولویت آنها از پایین به بالا به آدرس ذیل مراجعه کنید: \n",
    "    <a href=\"https://docs.python.org/3/reference/expressions.html#operator-precedence\">https://docs.python.org/3/reference/expressions.html#operator-precedence</a><br>\n",
    "</div>"
   ]
  },
  {
   "cell_type": "markdown",
   "id": "b857d4fb",
   "metadata": {},
   "source": [
    "<h2 style=\"direction:rtl;font-size: px;font-family: 'XB Zar';color:#0288d1;\">گروه‌بندی عملگرها</h2><a id=''></a>"
   ]
  },
  {
   "cell_type": "markdown",
   "id": "bf3e60f1",
   "metadata": {},
   "source": [
    "<div style=\"direction:rtl; font-size: 17px; font-family: 'XB Zar'; line-height: 200%\">وقتی می‌گوییم پایتون عملگرها را از چپ به راست ارزیابی می‌کند در حقیقت به طور ضمنی به گروه بندی عملگرها اشاره می‌کنیم. به عنوان مثال، در عبارت ذیل:\n",
    "</div>"
   ]
  },
  {
   "cell_type": "code",
   "execution_count": null,
   "id": "1d76b085",
   "metadata": {},
   "outputs": [],
   "source": [
    "a + b + c"
   ]
  },
  {
   "cell_type": "markdown",
   "id": "9f4aea17",
   "metadata": {},
   "source": [
    "<div style=\"direction:rtl; font-size: 17px; font-family: 'XB Zar'; line-height: 200%\">عملگر جمع از چپ به راست گروه‌بندی می‌شود، یعنی اگر عبارت فوق را به صورت عبارت \n",
    "    (a + b) + c \n",
    "    پرانتز بندی کنیم دو عبارت یکی هستند. پایتون تمامی عملگرها به استثنای عملگر توان\n",
    "    ($**$)  \n",
    "    با اولویت یکسان را از چپ به راست ارزیابی می‌کند.\n",
    "</div>"
   ]
  },
  {
   "cell_type": "markdown",
   "id": "aab3e4f8",
   "metadata": {},
   "source": [
    "<h2 style=\"direction:rtl;font-size: px;font-family: 'XB Zar';color:#0288d1;\">پرانتزهای اضافی</h2><a id=''></a>"
   ]
  },
  {
   "cell_type": "markdown",
   "id": "24dee471",
   "metadata": {},
   "source": [
    "<div style=\"direction:rtl; font-size: 17px; font-family: 'XB Zar'; line-height: 200%\">برای افزایش خوانایی می‌توانید با استفاده از پرانتزهای اضافی عبارت‌ها را گروه‌بندی کنید. برای مثال چند‌جمله‌ای درجه دوم \n",
    "    <br>\n",
    "    $y = a * x ** 2 + b * x + c $\n",
    "    <br>\n",
    "    را می‌توان به صورت عبارت ذیل پرانتز بندی کرد تا خوانایی آن افزایش یابد: \n",
    "    <br>\n",
    "    $y = (a * (x ** 2)) + (b * x) + c $\n",
    "    <br>\n",
    "    تبدیل یک عبارت پیچیده به چندین عبارت کوچک‌تر و ساده‌تر موجب افزایش خوانایی می‌شود.\n",
    "</div>"
   ]
  },
  {
   "cell_type": "markdown",
   "id": "91ca52db",
   "metadata": {},
   "source": [
    "<h2 style=\"direction:rtl;font-size: px;font-family: 'XB Zar';color:#0288d1;\">انواع عملوندها</h2><a id=''></a>"
   ]
  },
  {
   "cell_type": "markdown",
   "id": "21cc2e67",
   "metadata": {},
   "source": [
    "<div style=\"direction:rtl; font-size: 17px; font-family: 'XB Zar'; line-height: 200%\">عملگرهای ریاضی را می‌توان با اعداد صحیح و اعداد اعشاری استفاده کرد. اگر هر دو عملوند عدد صحیح باشند، نتیجه یک عدد صحیح است، به جز عملگر تقسیم فلان که همیشه نتیجه یک عدد اعشاری تولید می‌کند. اگر هر دو عملوند اعشاری باشند، نتیجه یک عدد اعشاری است. عبارت‌هایی که شامل یک عدد صحیح و یک عدد اعشاری باشند، از نوع ترکیبی تلقی شده و همیشه نتیجه اعشاری تولید می‌کنند.\n",
    "</div>"
   ]
  },
  {
   "cell_type": "markdown",
   "id": "16f4acc9",
   "metadata": {},
   "source": [
    "<h1 style=\"direction:rtl;font-size: 35px;font-family: 'XB Zar';color:#8e24aa;\">2.4 <span style=\"color:#F50057;\">تابع \n",
    "    print \n",
    "    و مقدمه‌ای بر رشته‌های محصور با کاراکتر نقل قول تکی، دوتایی</span></h1> <a id='5'></a>"
   ]
  },
  {
   "cell_type": "markdown",
   "id": "2c6eee68",
   "metadata": {},
   "source": [
    "<div style=\"direction:rtl; font-size: 17px; font-family: 'XB Zar'; line-height: 200%\">تابع از پیش تعریف شده\n",
    "    print \n",
    "    آرگومان‌های ورودی خود را به صورت یک خط از متن نشان می‌دهد.\n",
    "</div>"
   ]
  },
  {
   "cell_type": "code",
   "execution_count": null,
   "id": "d9fcbd7e",
   "metadata": {},
   "outputs": [],
   "source": [
    "print('Welcome to Python!')"
   ]
  },
  {
   "cell_type": "markdown",
   "id": "b48be4ed",
   "metadata": {},
   "source": [
    "<div style=\"direction:rtl; font-size: 17px; font-family: 'XB Zar'; line-height: 200%\">در کد بالا، عبارت \n",
    "    'Welcome to Python!' \n",
    "    یک رشته است. رشته دنباله‌ای از کاراکترها است که بین دو علامت نقل قول تکی\n",
    "     (') \n",
    "    محصور شده است. برخلاف زمانی که عبارات را در حالت تعاملی ارزیابی می‌کنید، عبارت\n",
    "     Out[1] \n",
    "    قبل از متنی که به وسیله \n",
    "    print \n",
    "    نمایش داده می‌شود قرار نمی‌گیرد. علاوه بر این \n",
    "    print \n",
    "    علامت‌های نقل قول یک رشته را نمایش نمی‌دهد ولی به زودی نحوه نمایش نقل قول‌های داخل یک رشته را نشان خواهیم داد. یک رشته را می‌توان میان دو علامت نقل قول دوتایی\n",
    "    (\") \n",
    "    قرار داد.\n",
    "</div>"
   ]
  },
  {
   "cell_type": "code",
   "execution_count": null,
   "id": "81e93ac6",
   "metadata": {},
   "outputs": [],
   "source": [
    "print(\"Welcome to Python!\")"
   ]
  },
  {
   "cell_type": "markdown",
   "id": "921ebfbf",
   "metadata": {},
   "source": [
    "<div style=\"direction:rtl; font-size: 17px; font-family: 'XB Zar'; line-height: 200%\">برنامه نویسان پایتون معمولاً علامت نقل قول تکی را ترجیح می‌دهند. تابع \n",
    "    print \n",
    "    بعد از اتمام کار خود، مکان نما \n",
    "     (screen cursor)\n",
    "    را به ابتدای خط بعدی منتقل می‌کند.\n",
    "</div>"
   ]
  },
  {
   "cell_type": "markdown",
   "id": "06e9a380",
   "metadata": {},
   "source": [
    "<h2 style=\"direction:rtl;font-size: px;font-family: 'XB Zar';color:#0288d1;\">نمایش لیستی از داده‌ها که با کاما از هم جدا شده‌اند</h2><a id=''></a>"
   ]
  },
  {
   "cell_type": "markdown",
   "id": "07571989",
   "metadata": {},
   "source": [
    "<div style=\"direction:rtl; font-size: 17px; font-family: 'XB Zar'; line-height: 200%\">تابع \n",
    "    print \n",
    "    می‌تواند لیستی از آرگومان‌های ورودی که با کاما از یکدیگر جدا شده‌اند را دریافت کند:\n",
    "</div>"
   ]
  },
  {
   "cell_type": "code",
   "execution_count": null,
   "id": "9f2a538a",
   "metadata": {},
   "outputs": [],
   "source": [
    "print('Welcome', 'to', 'Python!')"
   ]
  },
  {
   "cell_type": "markdown",
   "id": "3eb29966",
   "metadata": {},
   "source": [
    "<div style=\"direction:rtl; font-size: 17px; font-family: 'XB Zar'; line-height: 200%\">تابع \n",
    "    print \n",
    "    هر آرگومان را به اندازه یک فضای خالی از آرگومان بعدی نمایش می‌دهد. کدهای بالا خروجی یکسانی را با دو کد قبلی تولید می‌کند. این مثال لیستی از رشته‌ها که با کاما تفکیک شده‌اند را نشان می‌دهند ولی می‌توان از هر نوع داده دیگری هم استفاده کرد. در فصل بعدی نحوه جلوگیری از فاصله گذاری خودکار بین مقادیر و یا استفاده از جدا کننده متفاوت را نشان می‌دهیم.\n",
    "</div>"
   ]
  },
  {
   "cell_type": "markdown",
   "id": "7ad72b5d",
   "metadata": {},
   "source": [
    "<h2 style=\"direction:rtl;font-size: px;font-family: 'XB Zar';color:#0288d1;\">چاپ تعدادی خطوط متنی با یک دستور</h2><a id=''></a>"
   ]
  },
  {
   "cell_type": "markdown",
   "id": "81a95ab7",
   "metadata": {},
   "source": [
    "<div style=\"direction:rtl; font-size: 17px; font-family: 'XB Zar'; line-height: 200%\">هنگامی که کاراکتر بک اسلش \n",
    "    (\\) \n",
    "    در یک رشته ظاهر می‌شود، به عنوان یک کاراکتر ویژه شناخته می‌شود. بک اسلش و کاراکتر بعد آن یک دنباله ویژه تشکیل می‌دهند. به عنوان مثال \n",
    "    $\\n$ \n",
    "    معرف خط جدید است به بیان دیگر این دنباله به تابع \n",
    "    print \n",
    "    می‌گوید مکان‌نما را در خروجی به خط بعدی منتقل کند. اسنیپت ذیل برای ایجاد یک خروجی سه خطی از سه \n",
    "    $\\n$ \n",
    "    استفاده می‌کند.\n",
    "</div>"
   ]
  },
  {
   "cell_type": "code",
   "execution_count": null,
   "id": "7b231f2e",
   "metadata": {},
   "outputs": [],
   "source": [
    "print('Welcome\\nto\\n\\nPython!')"
   ]
  },
  {
   "cell_type": "markdown",
   "id": "6038bd66",
   "metadata": {},
   "source": [
    "<h2 style=\"direction:rtl;font-size: px;font-family: 'XB Zar';color:#0288d1;\">سایر کاراکترهای ویژه</h2><a id=''></a>"
   ]
  },
  {
   "cell_type": "markdown",
   "id": "6aa73817",
   "metadata": {},
   "source": [
    "<div style=\"direction:rtl; font-size: 17px; font-family: 'XB Zar'; line-height: 200%\">جدول ذیل تعدادی از دنباله‌های ویژه رایج را نشان می‌دهد:\n",
    "</div>"
   ]
  },
  {
   "attachments": {
    "Screenshot%20%2829%29.png": {
     "image/png": "[encoded data removed]"
    }
   },
   "cell_type": "markdown",
   "id": "457c66d2",
   "metadata": {},
   "source": [
    "![Screenshot%20%2829%29.png](attachment:Screenshot%20%2829%29.png)"
   ]
  },
  {
   "cell_type": "markdown",
   "id": "23b1c31b",
   "metadata": {},
   "source": [
    "<h2 style=\"direction:rtl;font-size: px;font-family: 'XB Zar';color:#0288d1;\">صرف‌نظر کردن از شکسته شدن در یک رشته طولانی</h2><a id=''></a>"
   ]
  },
  {
   "cell_type": "markdown",
   "id": "61136447",
   "metadata": {},
   "source": [
    "<div style=\"direction:rtl; font-size: 17px; font-family: 'XB Zar'; line-height: 200%\">با استفاده از کاراکتر ادامه دادن \n",
    "    (\\)  \n",
    "    می‌توان یک رشته طولانی و یا یک دستور طولانی را در چند خط بسط داد ولی به‌طوری‌که عملاً به عنوان یک خط تلقی شود.\n",
    "</div>"
   ]
  },
  {
   "cell_type": "code",
   "execution_count": null,
   "id": "22ef10eb",
   "metadata": {},
   "outputs": [],
   "source": [
    "print('this is a longer string, so we \\\n",
    "split it over two lines')"
   ]
  },
  {
   "cell_type": "markdown",
   "id": "b4975457",
   "metadata": {},
   "source": [
    "<div style=\"direction:rtl; font-size: 17px; font-family: 'XB Zar'; line-height: 200%\">مفسر اجزای رشته را دوباره به صورت یک رشته و بدون خط شکسته تلفیق می‌کند. اگرچه کاراکتر بک اسلش در اسنیپت قبلی درون یک رشته است، اما این کاراکتر یک کاراکتر ویژه تلقی نمی‌شود و سایر کاراکترها آن را دنبال نمی‌کنند.\n",
    "</div>"
   ]
  },
  {
   "cell_type": "markdown",
   "id": "2dbe7e81",
   "metadata": {},
   "source": [
    "<h2 style=\"direction:rtl;font-size: px;font-family: 'XB Zar';color:#0288d1;\">نمایش مقدار یک عبارت</h2><a id=''></a>"
   ]
  },
  {
   "cell_type": "markdown",
   "id": "9d3c2d2f",
   "metadata": {},
   "source": [
    "<div style=\"direction:rtl; font-size: 17px; font-family: 'XB Zar'; line-height: 200%\">می‌توان محاسبات را در تابع \n",
    "     print  \n",
    "    انجام داد:\n",
    "</div>"
   ]
  },
  {
   "cell_type": "code",
   "execution_count": null,
   "id": "0fbc2842",
   "metadata": {},
   "outputs": [],
   "source": [
    "print('Sum is', 7 + 3)"
   ]
  },
  {
   "cell_type": "markdown",
   "id": "50889dd3",
   "metadata": {},
   "source": [
    "<h1 style=\"direction:rtl;font-size: 35px;font-family: 'XB Zar';color:#8e24aa;\">2.5 <span style=\"color:#F50057;\">رشته‌هایی با کاراکتر نقل‌قول سه‌تایی</span></h1> <a id='6'></a>"
   ]
  },
  {
   "cell_type": "markdown",
   "id": "16f3c17d",
   "metadata": {},
   "source": [
    "<div style=\"direction:rtl; font-size: 17px; font-family: 'XB Zar'; line-height: 200%\">در قسمت‌های قبل رشته‌هایی را معرفی کردیم که میان یک جفت نقل‌قول منفرد (') یا یک جفت نقل‌قول مضاعف (\") محصور شده بودند. رشته‌های سه‌تایی با سه نقل‌قول مضاعف (\"\"\") یا سه نقل‌قول منفرد (''') شروع می‌شوند و به پایان می‌رسند. راهنمای سبک کدنویسی در پایتون سه نقل‌قول مضاعف (\"\"\") را توصیه می‌کند. برای این موارد از نقل‌قول سه‌تایی استفاده کنید:\n",
    "</div>"
   ]
  },
  {
   "cell_type": "markdown",
   "id": "a60d7e56",
   "metadata": {},
   "source": [
    "<div style=\"direction:rtl; font-size: 17px; font-family: 'XB Zar'; line-height: 200%\">\n",
    "    <span style=\"color:#8e24aa;\">• </span>رشته‌های چندخطی<br>\n",
    "</div>\n",
    "\n",
    "<div style=\"direction:rtl; font-size: 17px; font-family: 'XB Zar'; line-height: 200%\">\n",
    "    <span style=\"color:#8e24aa;\">• </span>رشته‌هایی که شامل کاراکتر نقل قول منفرد و مضاعف هستند<br>\n",
    "</div>\n",
    "\n",
    "<div style=\"direction:rtl; font-size: 17px; font-family: 'XB Zar'; line-height: 200%\">\n",
    "    <span style=\"color:#8e24aa;\">• </span>در \n",
    "    docstring\n",
    "    ها، برای مستندسازی و مشخص کردن اهداف اجزای کد از \n",
    "    docstring\n",
    "    ها توصیه می‌شود.<br>\n",
    "</div>"
   ]
  },
  {
   "cell_type": "markdown",
   "id": "86479238",
   "metadata": {},
   "source": [
    "<h2 style=\"direction:rtl;font-size: px;font-family: 'XB Zar';color:#0288d1;\">قرار دادن علامت نقل‌قول در رشته‌ها</h2><a id=''></a>"
   ]
  },
  {
   "cell_type": "markdown",
   "id": "4fd61303",
   "metadata": {},
   "source": [
    "<div style=\"direction:rtl; font-size: 17px; font-family: 'XB Zar'; line-height: 200%\">کاراکتر نقل‌قول مضاعف را می‌توان در رشته‌ای که میان دو کاراکتر نقل‌قول منفرد محصور شده قرار داد:\n",
    "</div>"
   ]
  },
  {
   "cell_type": "code",
   "execution_count": null,
   "id": "967b7bee",
   "metadata": {},
   "outputs": [],
   "source": [
    "print('Display \"hi\" in quotes')"
   ]
  },
  {
   "cell_type": "markdown",
   "id": "cb4305d0",
   "metadata": {},
   "source": [
    "<div style=\"direction:rtl; font-size: 17px; font-family: 'XB Zar'; line-height: 200%\">اما با این روش نمی‌توان کاراکتر نقل‌قول منفرد را در چنین رشته‌ای قرار داد:\n",
    "</div>"
   ]
  },
  {
   "cell_type": "code",
   "execution_count": null,
   "id": "2e221868",
   "metadata": {},
   "outputs": [],
   "source": [
    "print('Display 'hi' in quotes')"
   ]
  },
  {
   "cell_type": "markdown",
   "id": "70a4d7b7",
   "metadata": {},
   "source": [
    "<div style=\"direction:rtl; font-size: 17px; font-family: 'XB Zar'; line-height: 200%\">برای این کار باید از ترکیب  $\\'$ استفاده کرد:\n",
    "</div>"
   ]
  },
  {
   "cell_type": "code",
   "execution_count": null,
   "id": "8d836859",
   "metadata": {},
   "outputs": [],
   "source": [
    "print('Display \\'hi\\' in quotes')"
   ]
  },
  {
   "cell_type": "markdown",
   "id": "9a3b6227",
   "metadata": {},
   "source": [
    "<div style=\"direction:rtl; font-size: 17px; font-family: 'XB Zar'; line-height: 200%\">اسنیپت [2] یک خطای گرامری را نشان می‌دهد، چرا که کاراکتر نقل‌قول ساده در رشته‌ای قرار گرفت که با همین کاراکتر محصورشده است. \n",
    "    IPython\n",
    "    اطلاعات مربوط به خط کدی که باعث خطای گرامری شده است را نشان می‌دهد و با علامت \n",
    "    ^\n",
    "    به خطا اشاره می‌کند. علاوه بر این \n",
    "    IPython \n",
    "    پیام خطای \n",
    "    SyntaxError: invalid syntax \n",
    "    را نشان می‌دهد. کاراکتر نقل‌قول منفرد را می‌توان در رشته‌ای که میان دو کاراکتر نقل قول مضاعف محصورشده، قرار داد:\n",
    "</div>"
   ]
  },
  {
   "cell_type": "code",
   "execution_count": null,
   "id": "c6b4e750",
   "metadata": {},
   "outputs": [],
   "source": [
    "print(\"Display the name O'Brien\")"
   ]
  },
  {
   "cell_type": "markdown",
   "id": "cc9eaf9b",
   "metadata": {},
   "source": [
    "<div style=\"direction:rtl; font-size: 17px; font-family: 'XB Zar'; line-height: 200%\">اما با این روش نمی‌توان کاراکتر نقل‌قول مضاعف را در چنین رشته‌ای قرار داد مگر آنکه از ترکیب \n",
    "    $\\\"$ \n",
    "    استفاده کنید:\n",
    "</div>"
   ]
  },
  {
   "cell_type": "code",
   "execution_count": null,
   "id": "ee823b73",
   "metadata": {},
   "outputs": [],
   "source": [
    "print(\"Display \\\"hi\\\" in quotes\")"
   ]
  },
  {
   "cell_type": "markdown",
   "id": "403d7bec",
   "metadata": {},
   "source": [
    "<div style=\"direction:rtl; font-size: 17px; font-family: 'XB Zar'; line-height: 200%\">برای عدم استفاده از ترکیب \n",
    "   $ \\' $\n",
    "    و \n",
    "    $ \\\" $\n",
    "    در درون یک رشته، رشته مذکور را میان کاراکترهای نقل‌قول سه‌تایی محصور کنید:\n",
    "</div>"
   ]
  },
  {
   "cell_type": "code",
   "execution_count": null,
   "id": "c60a36a0",
   "metadata": {},
   "outputs": [],
   "source": [
    "print(\"\"\"Display \"hi\" and 'bye' in quotes\"\"\")"
   ]
  },
  {
   "cell_type": "markdown",
   "id": "7be9498c",
   "metadata": {},
   "source": [
    "<h2 style=\"direction:rtl;font-size: px;font-family: 'XB Zar';color:#0288d1;\">رشته‌های چندخطی</h2><a id=''></a>"
   ]
  },
  {
   "cell_type": "markdown",
   "id": "76669048",
   "metadata": {},
   "source": [
    "<div style=\"direction:rtl; font-size: 17px; font-family: 'XB Zar'; line-height: 200%\">اسنیپت ذیل یک رشته چندخطی که میان کاراکتر نقل‌قول سه‌تایی محصور شده را به متغیر \n",
    "    triple_quoted_string \n",
    "    اختصاص می‌دهد:\n",
    "</div>"
   ]
  },
  {
   "cell_type": "code",
   "execution_count": null,
   "id": "08702e06",
   "metadata": {},
   "outputs": [],
   "source": [
    "triple_quoted_string = \"\"\"This is a triple-quoted\n",
    "string that spans two lines\"\"\""
   ]
  },
  {
   "cell_type": "markdown",
   "id": "b37559da",
   "metadata": {},
   "source": [
    "<div style=\"direction:rtl; font-size: 17px; font-family: 'XB Zar'; line-height: 200%\">\n",
    "    IPython \n",
    "    می‌داند که این یک رشته کامل نیست چرا که شما کاراکتر \n",
    "    \"\"\" \n",
    "    و یا همان کاراکتر انتهایی رشته را قبل از \n",
    "    Enter\n",
    "    کردن وارد نکردید. به همین دلیل \n",
    "    IPython \n",
    "    کاراکتر \n",
    "    $...:$\n",
    "    و یا اعلان ادامه کار \n",
    "    ^\n",
    "    را نشان می‌دهد و می‌توانید یک رشته چند خطی را وارد کنید. این روند تا زمانی که ترکیب     \"\"\" \n",
    "    و متعاقب آن \n",
    "    Enter\n",
    "    را وارد کنید ادامه خواهد داشت اسنیپت زیر محتوای \n",
    "    triple_quoted_string \n",
    "    را نشان می‌دهد.\n",
    "</div>"
   ]
  },
  {
   "cell_type": "code",
   "execution_count": null,
   "id": "7df1f413",
   "metadata": {},
   "outputs": [],
   "source": [
    "print(triple_quoted_string)"
   ]
  },
  {
   "cell_type": "markdown",
   "id": "de43efa0",
   "metadata": {},
   "source": [
    "<div style=\"direction:rtl; font-size: 17px; font-family: 'XB Zar'; line-height: 200%\">پایتون هنگام ذخیره کردن یک رشته چندخطی کاراکتر \n",
    "    $\\n$\n",
    "    را در آن رشته می‌گنجاند. هنگامی که به جای نمایش \n",
    "    triple_quoted_string\n",
    "    مقدار آن را ارزیابی کنیم، \n",
    "    IPython\n",
    "    یک رشته را به صورت رشته‌ای محصور میان دو کاراکتر نقل‌قول تکی نشان می‌دهد و در جاهایی که در اسنیپت ۷ \n",
    "    Enter\n",
    "    کردید، کاراکتر \n",
    "    $\\n$\n",
    "    را قرار می‌دهد. محصور کردن \n",
    "    triple_quoted_string \n",
    "    با دو علامت نقل‌قول معرف آن است که این متغیر خود به تنهایی یک رشته بوده و قسمتی از رشته دیگری تلقی نمی‌شود.\n",
    "</div>"
   ]
  },
  {
   "cell_type": "code",
   "execution_count": null,
   "id": "f0d8248b",
   "metadata": {},
   "outputs": [],
   "source": [
    "triple_quoted_string"
   ]
  },
  {
   "cell_type": "markdown",
   "id": "582bed91",
   "metadata": {},
   "source": [
    "<h1 style=\"direction:rtl;font-size: 35px;font-family: 'XB Zar';color:#8e24aa;\">2.6 <span style=\"color:#F50057;\">گرفتن ورودی از کاربر</span></h1> <a id='7'></a>"
   ]
  },
  {
   "cell_type": "markdown",
   "id": "1a1672ac",
   "metadata": {},
   "source": [
    "<div style=\"direction:rtl; font-size: 17px; font-family: 'XB Zar'; line-height: 200%\">تابع از پیش تعریف‌شده \n",
    "     input \n",
    "    ورودی را از کاربر تقاضا کرده و آن را دریافت می‌کند:\n",
    "</div>"
   ]
  },
  {
   "cell_type": "code",
   "execution_count": null,
   "id": "eeec7210",
   "metadata": {},
   "outputs": [],
   "source": [
    "name = input(\"What's your name? \")"
   ]
  },
  {
   "cell_type": "code",
   "execution_count": null,
   "id": "2aac8e6a",
   "metadata": {},
   "outputs": [],
   "source": [
    "name"
   ]
  },
  {
   "cell_type": "code",
   "execution_count": null,
   "id": "28fdfaa8",
   "metadata": {},
   "outputs": [],
   "source": [
    "print(name)"
   ]
  },
  {
   "cell_type": "markdown",
   "id": "3b2beed4",
   "metadata": {},
   "source": [
    "<div style=\"direction:rtl; font-size: 17px; font-family: 'XB Zar'; line-height: 200%\">اسنیپت فوق به شرح ذیل اجرا می‌گردد:\n",
    "</div>"
   ]
  },
  {
   "cell_type": "markdown",
   "id": "cb3c0936",
   "metadata": {},
   "source": [
    "<div style=\"direction:rtl; font-size: 17px; font-family: 'XB Zar'; line-height: 200%\">\n",
    "    <span style=\"color:#8e24aa;\">• </span>ابتدا تابع \n",
    "    input\n",
    "    آرگومان رشته‌ای خود را نمایش می‌دهد و به کاربر اعلام می‌کند چه کاری باید انجام دهد و  منتظر پاسخ کاربر می‌ماند. ما کلمه \n",
    "    Paul\n",
    "    را تایپ و \n",
    "    Enter\n",
    "    کردیم.<br>\n",
    "</div>\n",
    "\n",
    "<div style=\"direction:rtl; font-size: 17px; font-family: 'XB Zar'; line-height: 200%\">\n",
    "    <span style=\"color:#8e24aa;\">• </span>در ادامه تابع \n",
    "    input\n",
    "    آن کاراکترها را به عنوان رشته‌ای که برنامه می‌تواند استفاده کند، برمی‌گرداند. در این قسمت رشته مزبور را به متغیر \n",
    "    name\n",
    "    اختصاص داده‌ایم.<br>\n",
    "</div>"
   ]
  },
  {
   "cell_type": "markdown",
   "id": "9ac68525",
   "metadata": {},
   "source": [
    "<div style=\"direction:rtl; font-size: 17px; font-family: 'XB Zar'; line-height: 200%\">اسنیپت [2]  مقدار متغیر \n",
    "    name\n",
    "    را نشان می‌دهد. ارزیابی متغیر \n",
    "    name\n",
    "    آن را به صورت یک رشته محصور میان دو نقل‌قول منفرد و یا به فرم \n",
    "    'Paul'\n",
    "    نشان می‌دهد، چرا که \n",
    "    name\n",
    "    یک رشته تلقی می‌شود. تایپ کلمه \n",
    "    name\n",
    "    در اسنیپت [3] رشته را بدون علامت دو نقل‌قول منفرد نشان می‌دهد. اگر علامت نقل‌قول را وارد کنید به‌عنوان قسمتی از رشته محسوب می‌شوند:\n",
    "</div>"
   ]
  },
  {
   "cell_type": "code",
   "execution_count": null,
   "id": "f89d6067",
   "metadata": {},
   "outputs": [],
   "source": [
    "name = input(\"What's your name? \")"
   ]
  },
  {
   "cell_type": "code",
   "execution_count": null,
   "id": "f8070c80",
   "metadata": {},
   "outputs": [],
   "source": [
    "name"
   ]
  },
  {
   "cell_type": "code",
   "execution_count": null,
   "id": "3fed815c",
   "metadata": {},
   "outputs": [],
   "source": [
    "print(name)"
   ]
  },
  {
   "cell_type": "markdown",
   "id": "bc2bab70",
   "metadata": {},
   "source": [
    "<h2 style=\"direction:rtl;font-size: px;font-family: 'XB Zar';color:#0288d1;\">تابع \n",
    "    input\n",
    "    همیشه یک رشته برمی‌گرداند</h2><a id=''></a>"
   ]
  },
  {
   "cell_type": "markdown",
   "id": "b8842f28",
   "metadata": {},
   "source": [
    "<div style=\"direction:rtl; font-size: 17px; font-family: 'XB Zar'; line-height: 200%\">اسنیپت زیر را در نظر بگیرید. این اسنیپت سعی می‌کند دو عدد را از ورودی بخواند و آنها را با هم جمع کند:\n",
    "</div>"
   ]
  },
  {
   "cell_type": "code",
   "execution_count": null,
   "id": "79374986",
   "metadata": {},
   "outputs": [],
   "source": [
    "value1 = input('Enter first number: ')"
   ]
  },
  {
   "cell_type": "code",
   "execution_count": null,
   "id": "3958ac47",
   "metadata": {},
   "outputs": [],
   "source": [
    "value2 = input('Enter second number: ')"
   ]
  },
  {
   "cell_type": "code",
   "execution_count": null,
   "id": "033cccb8",
   "metadata": {},
   "outputs": [],
   "source": [
    "value1 + value2"
   ]
  },
  {
   "cell_type": "markdown",
   "id": "670f035d",
   "metadata": {},
   "source": [
    "<div style=\"direction:rtl; font-size: 17px; font-family: 'XB Zar'; line-height: 200%\">پایتون به جای جمع کردن اعداد صحیح ۷ و ۳ برای تولید ۱۰، مقادیر رشته '۷' و '۳' را به یکدیگر می‌چسباند و رشته '۷۳' را تولید می‌کند. این عمل به عنوان الحاق رشته شناخته می‌شود. این عمل با چسباندن عملگر سمت راست به انتهای عملگر سمت چپ یک رشته جدید ایجاد می‌کند.\n",
    "</div>"
   ]
  },
  {
   "cell_type": "markdown",
   "id": "47bae632",
   "metadata": {},
   "source": [
    "<h2 style=\"direction:rtl;font-size: px;font-family: 'XB Zar';color:#0288d1;\">گرفتن یک عدد صحیح از کاربر</h2><a id=''></a>"
   ]
  },
  {
   "cell_type": "markdown",
   "id": "88e27000",
   "metadata": {},
   "source": [
    "<div style=\"direction:rtl; font-size: 17px; font-family: 'XB Zar'; line-height: 200%\">اگر به یک عدد صحیح نیاز دارید باید با کمک تابع از پیش تعریف‌شده \n",
    "    int\n",
    "    مقدار رشته را به عدد صحیح تبدیل کنید.\n",
    "</div>"
   ]
  },
  {
   "cell_type": "code",
   "execution_count": null,
   "id": "52c41bcd",
   "metadata": {},
   "outputs": [],
   "source": [
    "value = input('Enter an integer: ')"
   ]
  },
  {
   "cell_type": "code",
   "execution_count": null,
   "id": "6355393b",
   "metadata": {},
   "outputs": [],
   "source": [
    "value = int(value)"
   ]
  },
  {
   "cell_type": "code",
   "execution_count": null,
   "id": "e63ebb9b",
   "metadata": {},
   "outputs": [],
   "source": [
    "value"
   ]
  },
  {
   "cell_type": "markdown",
   "id": "040b9743",
   "metadata": {},
   "source": [
    "<div style=\"direction:rtl; font-size: 17px; font-family: 'XB Zar'; line-height: 200%\">می‌توانیم اسنیپت‌های  [10] و  [11] را با یکدیگر ترکیب کنیم:\n",
    "</div>"
   ]
  },
  {
   "cell_type": "code",
   "execution_count": null,
   "id": "0dd6956d",
   "metadata": {},
   "outputs": [],
   "source": [
    "another_value = int(input('Enter another integer: '))"
   ]
  },
  {
   "cell_type": "code",
   "execution_count": null,
   "id": "13782c0c",
   "metadata": {},
   "outputs": [],
   "source": [
    "another_value"
   ]
  },
  {
   "cell_type": "markdown",
   "id": "0a1f2784",
   "metadata": {},
   "source": [
    "<div style=\"direction:rtl; font-size: 17px; font-family: 'XB Zar'; line-height: 200%\">اکنون متغیرهای \n",
    "    value\n",
    "    و \n",
    "    another_value\n",
    "    دارای عدد مقادیر صحیح هستند. جمع کردن این متغیرها یک نتیجه صحیح تولید می‌کند (به جای الحاق):\n",
    "</div>"
   ]
  },
  {
   "cell_type": "code",
   "execution_count": null,
   "id": "ad63efc0",
   "metadata": {},
   "outputs": [],
   "source": [
    "value + another_value"
   ]
  },
  {
   "cell_type": "markdown",
   "id": "4d162a89",
   "metadata": {},
   "source": [
    "<div style=\"direction:rtl; font-size: 17px; font-family: 'XB Zar'; line-height: 200%\">اگر رشته منتقل شده به \n",
    "    int \n",
    "    قابل تبدیل به عدد صحیح نباشد یک استثنای \n",
    "    ValueError\n",
    "    رخ می‌دهد:\n",
    "</div>"
   ]
  },
  {
   "cell_type": "code",
   "execution_count": null,
   "id": "ac5ae0b7",
   "metadata": {},
   "outputs": [],
   "source": [
    "bad_value = int(input('Enter another integer: '))"
   ]
  },
  {
   "cell_type": "markdown",
   "id": "f6208f85",
   "metadata": {},
   "source": [
    "<div style=\"direction:rtl; font-size: 17px; font-family: 'XB Zar'; line-height: 200%\">علاوه بر این تابع \n",
    "    int\n",
    "    می‌تواند یک مقدار اعشاری را به عدد صحیح تبدیل کند:\n",
    "</div>"
   ]
  },
  {
   "cell_type": "code",
   "execution_count": null,
   "id": "09a713ed",
   "metadata": {},
   "outputs": [],
   "source": [
    "int(10.5)"
   ]
  },
  {
   "cell_type": "markdown",
   "id": "b4d1c60a",
   "metadata": {},
   "source": [
    "<div style=\"direction:rtl; font-size: 17px; font-family: 'XB Zar'; line-height: 200%\">برای تبدیل رشته‌ها به اعداد اعشاری از تابع از پیش تعریف شده \n",
    "    float \n",
    "    استفاده کنید.\n",
    "</div>"
   ]
  },
  {
   "cell_type": "markdown",
   "id": "3af088c9",
   "metadata": {},
   "source": [
    "<h1 style=\"direction:rtl;font-size: 35px;font-family: 'XB Zar';color:#8e24aa;\">2.7 <span style=\"color:#F50057;\">تصمیم‌گیری: دستور\n",
    "    if\n",
    "    و عملگرهای مقایسه‌ای</span></h1> <a id='8'></a>"
   ]
  },
  {
   "cell_type": "markdown",
   "id": "95a2e3d7",
   "metadata": {},
   "source": [
    "<div style=\"direction:rtl; font-size: 17px; font-family: 'XB Zar'; line-height: 200%\">شرط یک عبارت بولین با مقادیر درست و یا نادرست می‌باشد. کدهای ذیل مشخص می‌کنند که آیا ۷ از ۴ بزرگتر است و یا خیر:\n",
    "</div>"
   ]
  },
  {
   "cell_type": "code",
   "execution_count": null,
   "id": "f4122329",
   "metadata": {},
   "outputs": [],
   "source": [
    "7 > 4"
   ]
  },
  {
   "cell_type": "code",
   "execution_count": null,
   "id": "e8b69c8d",
   "metadata": {},
   "outputs": [],
   "source": [
    "7 < 4"
   ]
  },
  {
   "cell_type": "markdown",
   "id": "6e9ca5bc",
   "metadata": {},
   "source": [
    "<div style=\"direction:rtl; font-size: 17px; font-family: 'XB Zar'; line-height: 200%\">True\n",
    "    و \n",
    "    False\n",
    "    کلمات کلیدی پایتون محسوب می‌شوند. استفاده از یک کلمه کلیدی برای شناسه موجب بروز خطای \n",
    "    SyntaxError\n",
    "    می‌گردد. دو کلمه \n",
    "    True\n",
    "    و \n",
    "    False\n",
    "    با حرف بزرگ شروع می‌شوند. اغلب شرط‌ها را با استفاده از عملگرهای مقایسه‌ای در جدول ذیل مشاهده می‌کنید:\n",
    "</div>"
   ]
  },
  {
   "attachments": {
    "Screenshot%20%2827%29.png": {
     "image/png": "[encoded data removed]"
    }
   },
   "cell_type": "markdown",
   "id": "66458fa4",
   "metadata": {},
   "source": [
    "![Screenshot%20%2827%29.png](attachment:Screenshot%20%2827%29.png)"
   ]
  },
  {
   "cell_type": "markdown",
   "id": "b9ba50ca",
   "metadata": {},
   "source": [
    "<div style=\"direction:rtl; font-size: 17px; font-family: 'XB Zar'; line-height: 200%\">عملگرهای \n",
    "    $>$، $<$، $>=$ و $<=$ همه دارای اولویت یکسانی هستند.\n",
    "عملگرهای $==$ و $!=$ هر دو دارای اولویت یکسانی هستند که کمتر از $>$، $<$، $>=$ و $<=$ است.\n",
    "یک syntax error زمانی رخ می دهد که هر یک از عملگرهای $==$، $!=$، $>=$ و $<=$ بین جفت نمادهای خود فاصله داشته باشد:\n",
    "</div>"
   ]
  },
  {
   "cell_type": "code",
   "execution_count": null,
   "id": "7bae0d3b",
   "metadata": {},
   "outputs": [],
   "source": [
    "7 > = 4"
   ]
  },
  {
   "cell_type": "markdown",
   "id": "e3ade9cf",
   "metadata": {},
   "source": [
    "<div style=\"direction:rtl; font-size: 17px; font-family: 'XB Zar'; line-height: 200%\">اگر نمادهای عملگرهای $!=$، $>=$ و $<=$ را معکوس کنید (با نوشتن آنها به صورت $=!$، $=>$ و $=<$) یک syntax error دیگر رخ می دهد.\n",
    "</div>"
   ]
  },
  {
   "cell_type": "markdown",
   "id": "b3d49a36",
   "metadata": {},
   "source": [
    "<h2 style=\"direction:rtl;font-size: px;font-family: 'XB Zar';color:#0288d1;\">تصمیم گیری با دستور \n",
    "    if:\n",
    "    مقدمه‌ای بر اسکریپت‌ها</h2><a id=''></a>"
   ]
  },
  {
   "cell_type": "markdown",
   "id": "06dfafd9",
   "metadata": {},
   "source": [
    "<div style=\"direction:rtl; font-size: 17px; font-family: 'XB Zar'; line-height: 200%\">اکنون یک نسخه ساده از دستور \n",
    "    if\n",
    "    ارائه می‌دهیم که از یک عبارت برای تصمیم گیری در مورد اجرای دستور (گروهی از دستورات) استفاده می‌کند. در اینجا دو عدد صحیح را از کاربر می‌گیریم و آنها را با استفاده از شش دستور متوالی \n",
    "    if\n",
    "    به ازای هر عملگر مقایسه‌ای، مقایسه می‌کنیم. اگر شرط موجود در دستور \n",
    "    if\n",
    "    درست باشد، دستور \n",
    "     print\n",
    "    مربوطه اجرا می‌شود، در غیر این صورت از آن صرف‌نظر می‌شود. \n",
    "</div>\n",
    "<br>\n",
    "\n",
    "<div style=\"direction:rtl; font-size: 17px; font-family: 'XB Zar'; line-height: 200%\">حالت تعاملی IPython برای اجرای کدهای کوتاه و دیدن نتایج فوری مفید است.\n",
    "وقتی دستورات زیادی برای اجرا به صورت گروهی دارید، معمولاً آنها را به صورت یک اسکریپت ذخیره شده در یک فایل با پسوند $.py$ (مخفف Python) می نویسید - مانند fig02_01.py برای اسکریپت این مثال.\n",
    "به اسکریپت ها برنامه نیز گفته می شود.\n",
    "برای دستورالعمل‌های مربوط به مکان‌یابی و اجرای اسکریپت‌ها در این کتاب، به بخش تست درایو IPython فصل ۱ مراجعه کنید.\n",
    "</div>"
   ]
  },
  {
   "cell_type": "markdown",
   "id": "6a135fdc",
   "metadata": {},
   "source": [
    "<div style=\"direction:rtl; font-size: 17px; font-family: 'XB Zar'; line-height: 200%\">هر بار که این اسکریپت را اجرا می‌کنید، سه شرط از شش شرط True هستند. برای نشان دادن این موضوع، اسکریپت را سه بار اجرا می‌کنیم - در بار اول اولین عدد صحیح از عدد دوم کمتر است، دومین بار دو عدد برابر هستند و در اجرای سوم عدد اول از عدد دوم بزرگتر است.\n",
    "سه اجرای نمونه بعد از اسکریپت ظاهر می‌شوند.\n",
    "</div>\n",
    "<br>\n",
    "\n",
    "<div style=\"direction:rtl; font-size: 17px; font-family: 'XB Zar'; line-height: 200%\">هر بار که اسکریپتی مانند تصویر زیر ارائه می‌کنیم، آن را قبل از شکل معرفی می‌کنیم، سپس کد اسکریپت را بعد از شکل توضیح می‌دهیم.\n",
    "ما شماره خطوط را برای راحتی شما نشان می‌دهیم - این شماره ها بخشی از پایتون نیستند.\n",
    "IDE ها به شما این امکان را می‌دهند که انتخاب کنید شماره خطوط نمایش داده شود یا خیر.\n",
    "برای اجرای این مثال، به پوشه نمونه‌های ch02 این فصل بروید، سپس وارد کنید:\n",
    "</div>\n",
    "\n",
    "```Python\n",
    "ipython fig02_01.py\n",
    "```\n",
    "<br>\n",
    "<div style=\"direction:rtl; font-size: 17px; font-family: 'XB Zar'; line-height: 200%\">   \n",
    "یا اگر از قبل در IPython هستید، می‌توانید از دستور ذیل استفاده کنید:\n",
    "</div>\n",
    "\n",
    "```Python\n",
    "run fig02_01.py\n",
    "```"
   ]
  },
  {
   "cell_type": "code",
   "execution_count": null,
   "id": "4f823f8c",
   "metadata": {},
   "outputs": [],
   "source": [
    "# fig02_01.py\n",
    "\"\"\"Compare integers using if statements and comparison operators.\"\"\"\n",
    "\n",
    "print('Enter two integers and I will tell you', \n",
    "      'the relationships they satisfy.')\n",
    "\n",
    "# read first integer\n",
    "number1 = int(input('Enter first integer: '))\n",
    "\n",
    "# read second integer\n",
    "number2 = int(input('Enter second integer: '))\n",
    "\n",
    "if number1 == number2:\n",
    "    print(number1, 'is equal to', number2)\n",
    "\n",
    "if number1 != number2:\n",
    "    print(number1, 'is not equal to', number2)\n",
    "\n",
    "if number1 < number2:\n",
    "    print(number1, 'is less than', number2)\n",
    "\n",
    "if number1 > number2:\n",
    "    print(number1, 'is greater than', number2)\n",
    "\n",
    "if number1 <= number2:\n",
    "    print(number1, 'is less than or equal to', number2)\n",
    "\n",
    "if number1 >= number2:\n",
    "    print(number1, 'is greater than or equal to', number2)\n"
   ]
  },
  {
   "cell_type": "code",
   "execution_count": null,
   "id": "d59c2a3e",
   "metadata": {},
   "outputs": [],
   "source": [
    "#run fig02_01.py"
   ]
  },
  {
   "attachments": {
    "Screenshot%20%2828%29.png": {
     "image/png": "[encoded data removed]"
    }
   },
   "cell_type": "markdown",
   "id": "af4ff8da",
   "metadata": {},
   "source": [
    "![Screenshot%20%2828%29.png](attachment:Screenshot%20%2828%29.png)"
   ]
  },
  {
   "cell_type": "markdown",
   "id": "d4f1ba1e",
   "metadata": {},
   "source": [
    "<h2 style=\"direction:rtl;font-size: px;font-family: 'XB Zar';color:#0288d1;\">کامنت‌ها</h2><a id=''></a>"
   ]
  },
  {
   "cell_type": "markdown",
   "id": "b1ebaa57",
   "metadata": {},
   "source": [
    "<div style=\"direction:rtl; font-size: 17px; font-family: 'XB Zar'; line-height: 200%\">\n",
    "خط 1 با کاراکتر هش (#) شروع می‌شود که نشان می دهد بقیه خط یک کامنت است:\n",
    "</div> \n",
    "\n",
    "```Python\n",
    "# fig02_01.py\n",
    "```\n",
    "    \n",
    "<div style=\"direction:rtl; font-size: 17px; font-family: 'XB Zar'; line-height: 200%\">  \n",
    "برای ارجاع آسان، هر اسکریپت را با یک کامنت شروع می‌کنیم که نام فایل اسکریپت را نشان می‌دهد.\n",
    "یک کامنت همچنین می‌تواند از سمت راست کد در یک خط مشخص شروع شود و تا انتهای آن خط ادامه یابد.\n",
    "</div>"
   ]
  },
  {
   "cell_type": "markdown",
   "id": "8e3a3ef9",
   "metadata": {},
   "source": [
    "<h2 style=\"direction:rtl;font-size: px;font-family: 'XB Zar';color:#0288d1;\">Docstringها</h2><a id=''></a>"
   ]
  },
  {
   "cell_type": "markdown",
   "id": "dbad42c5",
   "metadata": {},
   "source": [
    "<div style=\"direction:rtl; font-size: 17px; font-family: 'XB Zar'; line-height: 200%\">راهنمای سبک کدنویسی پایتون بیان می‌کند که هر اسکریپت باید با یک رشته مستند شروع شود که هدف اسکریپت را توضیح می‌دهد، مانند آنچه در خط ۲ وجود دارد: \n",
    "</div>  \n",
    "\n",
    "```Python\n",
    "\"\"\"Comparing integers using if statements and comparison operators.\"\"\"\n",
    "```\n",
    "<div style=\"direction:rtl; font-size: 17px; font-family: 'XB Zar'; line-height: 200%\">\n",
    "برای اسکریپت‌های پیچیده‌تر، رشته مستند اغلب خطوط زیادی را در بر می‌گیرد.\n",
    "در فصل‌های بعدی، از رشته‌های اسنادی برای توصیف اجزای اسکریپت که تعریف می‌کنید، مانند توابع جدید و انواع جدیدی به نام کلاس‌ها استفاده خواهید کرد.\n",
    "همچنین درباره نحوه دسترسی به رشته‌های اسنادی با مکانیسم کمکی IPython بحث خواهیم کرد.\n",
    "</div>"
   ]
  },
  {
   "cell_type": "markdown",
   "id": "8a997a11",
   "metadata": {},
   "source": [
    "<h2 style=\"direction:rtl;font-size: px;font-family: 'XB Zar';color:#0288d1;\">خطوط خالی</h2><a id=''></a>"
   ]
  },
  {
   "cell_type": "markdown",
   "id": "8b4c3d48",
   "metadata": {},
   "source": [
    "<div style=\"direction:rtl; font-size: 17px; font-family: 'XB Zar'; line-height: 200%\">خط ۳ یک خط خالی است.\n",
    "شما از خطوط خالی و کاراکترهای space استفاده می‌کنید تا کد را راحت‌تر بخوانید.\n",
    "خطوط خالی، کاراکترهای space و کاراکترهای tab با هم به عنوان <b>فضای سفید</b> شناخته می‌شوند.\n",
    "پایتون بیشتر فضای سفید را نادیده می‌گیرد - خواهید دید که مقداری تورفتگی لازم است.\n",
    "</div>"
   ]
  },
  {
   "cell_type": "markdown",
   "id": "1b31e845",
   "metadata": {},
   "source": [
    "<h2 style=\"direction:rtl;font-size: px;font-family: 'XB Zar';color:#0288d1;\">تقسیم یک دستور طولانی به چند خط</h2><a id=''></a>"
   ]
  },
  {
   "cell_type": "markdown",
   "id": "8a5366a6",
   "metadata": {},
   "source": [
    "<div style=\"direction:rtl; font-size: 17px; font-family: 'XB Zar'; line-height: 200%\">خطوط ۴ و ۵ دستورالعمل‌هایی را به کاربر نشان می‌دهد. این دستورالعمل‌ها طولانی هستند و در یک خط جا نمی‌شوند، به همین دلیل آنها را به دو رشته تقسیم کرده‌ایم. به یاد بیاورید که می‌توانید مقادیر مختلفی را با کاما جدا کنید و برای نمایش به تابع \n",
    "    print\n",
    "    ارسال کنید. تابع \n",
    "    print\n",
    "    هر مقدار را با یک فاصله از مقدار بعدی نشان می‌دهد.\n",
    "</div>\n",
    "\n",
    "```Python\n",
    "print('Enter two integers, and I will tell you',\n",
    "      'the relationships they satisfy.')\n",
    "```\n",
    "\n",
    "<div style=\"direction:rtl; font-size: 17px; font-family: 'XB Zar'; line-height: 200%\">به طور معمول، شما دستورها را در یک خط می‌نویسید. ممکن است یک دستور طولانی را با استفاده از کاراکتر \n",
    "    \\\n",
    "    به چند خط تقسیم کنید. علاوه بر این پایتون این امکان را به شما می‌دهد بدون استفاده از کاراکتر\n",
    "    \\\n",
    "    کدهای طولانی درون پرانتز را به چند خط تقسیم کنید (مانند خطوط ۴ و ۵). راهنمای سبک کدنویسی پایتون این روش را توصیه می‌کند. همیشه نقاط شکست را منطقی انتخاب کنید، برای مثال نقاط شکست را پس از یک کاما در فراخوانی تابع \n",
    "    print\n",
    "    و یا قبل از یک عملگر در یک عبارت طولانی قرار دهید. \n",
    "</div>"
   ]
  },
  {
   "cell_type": "markdown",
   "id": "dc4c81aa",
   "metadata": {},
   "source": [
    "<h2 style=\"direction:rtl;font-size: px;font-family: 'XB Zar';color:#0288d1;\">خواندن مقادیر صحیح از کاربر</h2><a id=''></a>"
   ]
  },
  {
   "cell_type": "markdown",
   "id": "113592d4",
   "metadata": {},
   "source": [
    "<div style=\"direction:rtl; font-size: 17px; font-family: 'XB Zar'; line-height: 200%\">سپس، خطوط ۸ و ۱۱ از توابع input و int داخلی برای درخواست و خواندن دو مقدار صحیح از کاربر استفاده می‌کنند.\n",
    "</div>"
   ]
  },
  {
   "cell_type": "markdown",
   "id": "1ce5df20",
   "metadata": {},
   "source": [
    "<h2 style=\"direction:rtl;font-size: px;font-family: 'XB Zar';color:#0288d1;\">دستورات if</h2><a id=''></a>"
   ]
  },
  {
   "cell_type": "markdown",
   "id": "a0b1d5c7",
   "metadata": {},
   "source": [
    "<div style=\"direction:rtl; font-size: 17px; font-family: 'XB Zar'; line-height: 200%\">دستور if در خطوط ۱۳ و ۱۴\n",
    "</div>\n",
    "\n",
    "```Python\n",
    "if number1 == number2:\n",
    "    print(number1, 'is equal to', number2)\n",
    "```\n",
    "\n",
    "<div style=\"direction:rtl; font-size: 17px; font-family: 'XB Zar'; line-height: 200%\">\n",
    "از عملگر مقایسه == برای تعیین مساوی بودن مقادیر متغیرهای number1 و number2 استفاده می‌کند.\n",
    "اگر چنین باشد، شرط True است و خط ۱۴ خطی از متن را نشان می‌دهد که مقادیر برابر هستند.\n",
    "اگر هر یک از شرایط عبارات if باقی‌مانده، True باشد (خطوط ۱۶، ۱۹، ۲۲، ۲۵ و ۲۸)، print مربوطه یک خط متن را نمایش می‌دهد.\n",
    "</div>\n",
    "\n",
    "<div style=\"direction:rtl; font-size: 17px; font-family: 'XB Zar'; line-height: 200%\">هر دستور if متشکل از کلمه کلیدی if، شرطی که باید تست شود، و یک دونقطه (:) به دنبال یک بدنه تورفتگی به نام suite است. هر suite باید حاوی یک یا چند عبارت باشد.\n",
    "فراموش کردن کولون (:) بعد از شرط یک  syntax error رایج است.\n",
    "</div>"
   ]
  },
  {
   "cell_type": "markdown",
   "id": "9011408f",
   "metadata": {},
   "source": [
    "<h2 style=\"direction:rtl;font-size: px;font-family: 'XB Zar';color:#0288d1;\">تورفتگی Suite</h2><a id=''></a>"
   ]
  },
  {
   "cell_type": "markdown",
   "id": "8567af44",
   "metadata": {},
   "source": [
    "<div style=\"direction:rtl; font-size: 17px; font-family: 'XB Zar'; line-height: 200%\">زبان پایتون کدهای \n",
    "    Suite\n",
    "    را با تورفتگی مشخص می‌کند.\n",
    "راهنمای سبک برنامه‌نویسی پایتون برای این کار ۴ کاراکتر \n",
    "    space\n",
    "    را توصیه می‌کند - ما از این قرارداد در سراسر این کتاب استفاده می‌کنیم.\n",
    "در فصل بعدی خواهید دید که تورفتگی نادرست می‌تواند باعث ایجاد خطا شود.\n",
    "</div>"
   ]
  },
  {
   "cell_type": "markdown",
   "id": "face9900",
   "metadata": {},
   "source": [
    "<h2 style=\"direction:rtl;font-size: px;font-family: 'XB Zar';color:#0288d1;\">اشتباه گرفتن =  با ==</h2><a id=''></a>"
   ]
  },
  {
   "cell_type": "markdown",
   "id": "f232adc3",
   "metadata": {},
   "source": [
    "<div style=\"direction:rtl; font-size: 17px; font-family: 'XB Zar'; line-height: 200%\">استفاده از نماد تخصیص (=) به جای عملگر برابری (==) در شرط if یک خطای نحوی رایج است. برای جلوگیری از این امر، == را به عنوان \"برابر است\" و = را به عنوان \"تخصیص داده شده\" بخوانید.\n",
    "در فصل بعدی خواهید دید که استفاده از == به جای = در یک دستور انتساب می‌تواند منجر به مشکلات ظریفی شود.\n",
    "</div>"
   ]
  },
  {
   "cell_type": "markdown",
   "id": "e5c29e08",
   "metadata": {},
   "source": [
    "<h2 style=\"direction:rtl;font-size: px;font-family: 'XB Zar';color:#0288d1;\">مقایسه‌های زنجیره‌ای</h2><a id=''></a>"
   ]
  },
  {
   "cell_type": "markdown",
   "id": "934b2d4c",
   "metadata": {},
   "source": [
    "<div style=\"direction:rtl; font-size: 17px; font-family: 'XB Zar'; line-height: 200%\">با استفاده از عملگرهای مقایسه زنجیره‌ای می‌توان مشخص کرد که آیا یک مقدار در محدوده مورد نظر وجود دارد یا خیر.\n",
    "مقایسه زیر تعیین می‌کند که آیا x در محدوده ۱ تا ۵ قرار دارد یا خیر:\n",
    "</div>"
   ]
  },
  {
   "cell_type": "code",
   "execution_count": null,
   "id": "ce5b3959",
   "metadata": {},
   "outputs": [],
   "source": [
    "x = 3"
   ]
  },
  {
   "cell_type": "code",
   "execution_count": null,
   "id": "09a5016a",
   "metadata": {},
   "outputs": [],
   "source": [
    "1 <= x <= 5"
   ]
  },
  {
   "cell_type": "code",
   "execution_count": null,
   "id": "708b2d63",
   "metadata": {},
   "outputs": [],
   "source": [
    "x = 10"
   ]
  },
  {
   "cell_type": "code",
   "execution_count": null,
   "id": "465311ba",
   "metadata": {},
   "outputs": [],
   "source": [
    "1 <= x <= 5"
   ]
  },
  {
   "cell_type": "markdown",
   "id": "c71522cf",
   "metadata": {},
   "source": [
    "<h2 style=\"direction:rtl;font-size: px;font-family: 'XB Zar';color:#0288d1;\">اولویت عملگرهایی که تاکنون با آنها آشنا شده‌ایم</h2><a id=''></a>\n",
    "\n",
    "<br>\n",
    "<div style=\"direction:rtl; font-size: 17px; font-family: 'XB Zar'; line-height: 200%\">جدول ذیل اولویت عملگرهای بررسی شده در این فصل را نشان می‌دهد:\n",
    "</div>"
   ]
  },
  {
   "attachments": {
    "Screenshot%20%2830%29.png": {
     "image/png": "[encoded data removed]"
    }
   },
   "cell_type": "markdown",
   "id": "0c961c80",
   "metadata": {},
   "source": [
    "![Screenshot%20%2830%29.png](attachment:Screenshot%20%2830%29.png)"
   ]
  },
  {
   "cell_type": "markdown",
   "id": "a098c93d",
   "metadata": {},
   "source": [
    "<div style=\"direction:rtl; font-size: 17px; font-family: 'XB Zar'; line-height: 200%\">در این جدول عملگرهای با اولویت بالا در بالای جدول و عملگرهای با اولویت کم در پایین جدول قرار گرفته‌اند. جدول، عملگرها را از بالا به پایین به ترتیب تقدم نزولی فهرست می‌کند.\n",
    "هنگام نوشتن عبارات حاوی چندین عملگر، تأیید کنید که آنها به ترتیبی که انتظار دارید ارزیابی می‌شوند.\n",
    "  برای اطلاعات بیشتر در خصوص اولویت عملگرها به آدرس ذیل مراجعه کنید:\n",
    "    <a href=\"https://docs.python.org/3/reference/expressions.html#operator-precedence\">https://docs.python.org/3/reference/expressions.html#operator-precedence</a><br>\n",
    "</div>"
   ]
  },
  {
   "cell_type": "markdown",
   "id": "623ec579",
   "metadata": {},
   "source": [
    "<h1 style=\"direction:rtl;font-size: 35px;font-family: 'XB Zar';color:#8e24aa;\">2.8 <span style=\"color:#F50057;\">اشیاء و نوع داده پویا</span></h1> <a id='9'></a>"
   ]
  },
  {
   "cell_type": "markdown",
   "id": "056bc7fc",
   "metadata": {},
   "source": [
    "<div style=\"direction:rtl; font-size: 17px; font-family: 'XB Zar'; line-height: 200%\">مقادیری مانند ۷ (یک عدد صحیح)، ۴.۱ (یک عدد ممیز شناور) و 'dog' همه اشیا هستند.\n",
    "هر شیء یک نوع و یک مقدار دارد:\n",
    "</div>"
   ]
  },
  {
   "cell_type": "code",
   "execution_count": null,
   "id": "4f3a222a",
   "metadata": {},
   "outputs": [],
   "source": [
    "type(7)"
   ]
  },
  {
   "cell_type": "code",
   "execution_count": null,
   "id": "8d148708",
   "metadata": {},
   "outputs": [],
   "source": [
    "type(4.1)"
   ]
  },
  {
   "cell_type": "code",
   "execution_count": null,
   "id": "627d2df6",
   "metadata": {},
   "outputs": [],
   "source": [
    "type('dog')"
   ]
  },
  {
   "cell_type": "markdown",
   "id": "1aa1b145",
   "metadata": {},
   "source": [
    "<div style=\"direction:rtl; font-size: 17px; font-family: 'XB Zar'; line-height: 200%\">مقدار یک شیء، داده‌های ذخیره شده در آن شیء است.\n",
    "اسنیپت‌های بالا اشیایی از انواع داخلی int (برای اعداد صحیح)، float (برای اعداد ممیز شناور) و str (برای رشته‌ها) را نشان می‌دهند.\n",
    "</div>"
   ]
  },
  {
   "cell_type": "markdown",
   "id": "d414bc78",
   "metadata": {},
   "source": [
    "<h2 style=\"direction:rtl;font-size: px;font-family: 'XB Zar';color:#0288d1;\">متغیرها به اشیاء اشاره می‌کنند</h2><a id=''></a>"
   ]
  },
  {
   "cell_type": "markdown",
   "id": "bed7479a",
   "metadata": {},
   "source": [
    "<div style=\"direction:rtl; font-size: 17px; font-family: 'XB Zar'; line-height: 200%\">اختصاص دادن یک شیء به یک متغیر، نام آن متغیر را به شیء متصل می‌کند.\n",
    "همان‌طور که مشاهده کردید، سپس می‌توانید از متغیر موجود در کد خود برای دسترسی به مقدار شیء استفاده کنید:\n",
    "</div>"
   ]
  },
  {
   "cell_type": "code",
   "execution_count": null,
   "id": "bdbd70a3",
   "metadata": {},
   "outputs": [],
   "source": [
    "x = 7"
   ]
  },
  {
   "cell_type": "code",
   "execution_count": null,
   "id": "68b5efa9",
   "metadata": {},
   "outputs": [],
   "source": [
    "x + 10"
   ]
  },
  {
   "cell_type": "code",
   "execution_count": null,
   "id": "0c5072c1",
   "metadata": {},
   "outputs": [],
   "source": [
    "x"
   ]
  },
  {
   "cell_type": "markdown",
   "id": "10ed266d",
   "metadata": {},
   "source": [
    "<div style=\"direction:rtl; font-size: 17px; font-family: 'XB Zar'; line-height: 200%\">پس از انتساب اسنیپت [4]، متغیر x به شیء عدد صحیح حاوی ۷ اشاره می کند.\n",
    "همان‌طور که در اسنیپت [6] نشان داده‌شده است، اسنیپت [5] مقدار x را تغییر نمی دهد.\n",
    "می‌توانید x را به صورت زیر تغییر دهید:\n",
    "</div>"
   ]
  },
  {
   "cell_type": "code",
   "execution_count": null,
   "id": "f0d3523a",
   "metadata": {},
   "outputs": [],
   "source": [
    "x = x + 10"
   ]
  },
  {
   "cell_type": "code",
   "execution_count": null,
   "id": "ca2961c8",
   "metadata": {},
   "outputs": [],
   "source": [
    "x"
   ]
  },
  {
   "cell_type": "markdown",
   "id": "a01f805c",
   "metadata": {},
   "source": [
    "<h2 style=\"direction:rtl;font-size: px;font-family: 'XB Zar';color:#0288d1;\">نوع داده پویا</h2><a id=''></a>"
   ]
  },
  {
   "cell_type": "markdown",
   "id": "84a31f49",
   "metadata": {},
   "source": [
    "<div style=\"direction:rtl; font-size: 17px; font-family: 'XB Zar'; line-height: 200%\">پایتون از نوع داده پویا استفاده می‌کند — با کمک این ویژگی می‌تواند در هنگام اجرای کد، نوع شیئی که یک متغیر به آن اشاره می‌کند را تعیین کند.\n",
    "ما می‌توانیم این را با پیوند مجدد متغیر x به اشیاء مختلف و بررسی نوع داده آنها نشان دهیم:\n",
    "</div>"
   ]
  },
  {
   "cell_type": "code",
   "execution_count": null,
   "id": "3a33f14b",
   "metadata": {},
   "outputs": [],
   "source": [
    "type(x)"
   ]
  },
  {
   "cell_type": "code",
   "execution_count": null,
   "id": "4d39aac9",
   "metadata": {},
   "outputs": [],
   "source": [
    "x = 4.1"
   ]
  },
  {
   "cell_type": "code",
   "execution_count": null,
   "id": "7e7a4489",
   "metadata": {},
   "outputs": [],
   "source": [
    "type(x)"
   ]
  },
  {
   "cell_type": "code",
   "execution_count": null,
   "id": "3ba67129",
   "metadata": {},
   "outputs": [],
   "source": [
    "x = 'dog'"
   ]
  },
  {
   "cell_type": "code",
   "execution_count": null,
   "id": "c4000376",
   "metadata": {},
   "outputs": [],
   "source": [
    "type(x)"
   ]
  },
  {
   "cell_type": "markdown",
   "id": "ab17af31",
   "metadata": {},
   "source": [
    "<h2 style=\"direction:rtl;font-size: px;font-family: 'XB Zar';color:#0288d1;\">بازیابی حافظه یا جمع آوری زباله</h2><a id=''></a>"
   ]
  },
  {
   "cell_type": "markdown",
   "id": "89fe5ffb",
   "metadata": {},
   "source": [
    "<div style=\"direction:rtl; font-size: 17px; font-family: 'XB Zar'; line-height: 200%\">پایتون اشیاء را در حافظه ایجاد می‌کند و در صورت لزوم آنها را از حافظه حذف می‌کند.\n",
    "بعد از اسنیپت [10]، متغیر x اکنون به یک شیء float اشاره می‌کند.\n",
    "شیء عدد صحیح از اسنیپت [7] دیگر به یک متغیر محدود نمی‌شود. همان‌طور که در فصل بعدی بحث خواهیم کرد، پایتون به‌طور خودکار چنین اشیایی را از حافظه حذف می‌کند.\n",
    "این فرآیند - که <b>جمع‌آوری زباله</b> نامیده می‌شود - کمک می‌کند تا اطمینان حاصل شود که حافظه برای اشیاء جدیدی که ایجاد می‌کنید در دسترس است.\n",
    "</div>"
   ]
  },
  {
   "cell_type": "markdown",
   "id": "18a39740",
   "metadata": {},
   "source": [
    "<h1 style=\"direction:rtl;font-size: 35px;font-family: 'XB Zar';color:#8e24aa;\">2.9 <span style=\"color:#F50057;\">مقدمه‌ای بر علم داده: آمار توصیفی پایه</span></h1> <a id='10'></a>"
   ]
  },
  {
   "cell_type": "markdown",
   "id": "88c5c373",
   "metadata": {},
   "source": [
    "<div style=\"direction:rtl; font-size: 17px; font-family: 'XB Zar'; line-height: 200%\">در علم داده، اغلب از آمار برای توصیف و خلاصه کردن داده‌های خود استفاده می‌کنید.\n",
    "در اینجا، با معرفی چندین آمار توصیفی از جمله:\n",
    "</div>\n",
    "\n",
    "\n",
    "<div style=\"direction:rtl; font-size: 17px; font-family: 'XB Zar'; line-height: 200%\">\n",
    "    <span style=\"color:#8e24aa;\">• </span><b>minimum:</b> کم‌ترین مقدار در مجموعه مقادیر<br>\n",
    "    <span style=\"color:#8e24aa;\">• </span><b>maximum:</b> بیش‌ترین مقدار در مجموعه مقادیر<br>\n",
    "    <span style=\"color:#8e24aa;\">• </span><b>range:</b> دامنه مقادیر از حداقل به حداکثر<br>\n",
    "    <span style=\"color:#8e24aa;\">• </span><b>count:</b> تعداد مقادیر موجود در یک مجموعه<br>\n",
    "    <span style=\"color:#8e24aa;\">• </span><b>sum:</b> مجموعه مقادیر موجود در یک مجموعه<br>\n",
    "</div>\n",
    "\n",
    "<div style=\"direction:rtl; font-size: 17px; font-family: 'XB Zar'; line-height: 200%\">ما در فصل بعدی به تعیین \n",
    "    count\n",
    "    و \n",
    "    sum\n",
    "    خواهیم پرداخت. معیارهای پراکندگی (که معیارهای تغییرپذیری نیز نامیده می‌شوند)، مانند \n",
    "    range\n",
    "    ، به تعیین میزان پراکندگی مقادیر کمک می‌کنند.\n",
    "سایر معیارهای پراکندگی که در فصل های بعدی ارائه خواهیم کرد شامل واریانس و انحراف استاندارد است.\n",
    "</div>"
   ]
  },
  {
   "cell_type": "markdown",
   "id": "71a74e9c",
   "metadata": {},
   "source": [
    "<h2 style=\"direction:rtl;font-size: px;font-family: 'XB Zar';color:#0288d1;\">تعیین حداقل سه مقدار</h2><a id=''></a>"
   ]
  },
  {
   "cell_type": "markdown",
   "id": "0015a86a",
   "metadata": {},
   "source": [
    "<div style=\"direction:rtl; font-size: 17px; font-family: 'XB Zar'; line-height: 200%\">ابتدا، اجازه دهید نحوه تعیین حداقل سه مقدار را به صورت دستی نشان دهیم.\n",
    "اسکریپت زیر سه مقدار را درخواست می‌کند و آن را وارد می‌کند، از دستور if برای تعیین حداقل مقدار استفاده می‌کند، سپس آن را نمایش می‌دهد.\n",
    "</div>"
   ]
  },
  {
   "cell_type": "code",
   "execution_count": null,
   "id": "9a1195e7",
   "metadata": {},
   "outputs": [],
   "source": [
    "# Fig. 2.2: fig02_02.py\n",
    "\"\"\"Find the minimum of three values.\"\"\"\n",
    "\n",
    "number1 = int(input('Enter first integer: '))\n",
    "number2 = int(input('Enter second integer: '))\n",
    "number3 = int(input('Enter third integer: '))\n",
    "\n",
    "minimum = number1  \n",
    "\n",
    "if number2 < minimum:\n",
    "    minimum = number2\n",
    "\n",
    "if number3 < minimum:\n",
    "    minimum = number3\n",
    "\n",
    "print('Minimum value is', minimum)\n"
   ]
  },
  {
   "cell_type": "code",
   "execution_count": null,
   "id": "c24dac89",
   "metadata": {},
   "outputs": [],
   "source": [
    "#run fig02_02.py"
   ]
  },
  {
   "attachments": {
    "Screenshot%20%2831%29.png": {
     "image/png": "[encoded data removed]"
    }
   },
   "cell_type": "markdown",
   "id": "7f40917c",
   "metadata": {},
   "source": [
    "![Screenshot%20%2831%29.png](attachment:Screenshot%20%2831%29.png)"
   ]
  },
  {
   "cell_type": "markdown",
   "id": "b748a095",
   "metadata": {},
   "source": [
    "<div style=\"direction:rtl; font-size: 17px; font-family: 'XB Zar'; line-height: 200%\">پس از وارد کردن سه مقدار، در هر زمان یک مقدار را پردازش می کنیم:\n",
    "</div>\n",
    "\n",
    "<div style=\"direction:rtl; font-size: 17px; font-family: 'XB Zar'; line-height: 200%\">\n",
    "    <span style=\"color:#8e24aa;\">• </span>ابتدا فرض می‌کنیم که \n",
    "    number1\n",
    "    حاوی کوچک‌ترین مقدار است، بنابراین خط ۸ آن را به متغیر \n",
    "    minimum\n",
    "    اختصاص می‌دهد.\n",
    "البته، ممکن است که \n",
    "    number2 \n",
    "    یا \n",
    "    number3\n",
    "    دارای کوچک‌ترین مقدار واقعی باشد، بنابراین ما هنوز باید هر یک از اینها را با \n",
    "    minimum\n",
    "    مقایسه کنیم.<br>\n",
    "</div>\n",
    "\n",
    "<div style=\"direction:rtl; font-size: 17px; font-family: 'XB Zar'; line-height: 200%\">\n",
    "    <span style=\"color:#8e24aa;\">• </span> در اولین دستور \n",
    "    if\n",
    "    (خطوط ۱۰-۱۱) شرط \n",
    "    $number2 < minimum$\n",
    "    را آزمایش می‌کند و اگر این شرط \n",
    "    True\n",
    "    باشد، \n",
    "    number2\n",
    "     به متغیر \n",
    "    minimum\n",
    "    تخصیص داده می‌شود.<br>\n",
    "</div>\n",
    "\n",
    "<div style=\"direction:rtl; font-size: 17px; font-family: 'XB Zar'; line-height: 200%\">\n",
    "    <span style=\"color:#8e24aa;\">• </span> در دومین دستور \n",
    "    if\n",
    "    (خطوط ۱۳-۱۴) شرط \n",
    "    $number3 < minimum$\n",
    "    را آزمایش می‌کند و اگر این شرط \n",
    "    True\n",
    "    باشد، \n",
    "    number3\n",
    "     به متغیر \n",
    "    minimum\n",
    "    تخصیص داده می‌شود.<br>\n",
    "</div>\n",
    "\n",
    "<br>\n",
    "<div style=\"direction:rtl; font-size: 17px; font-family: 'XB Zar'; line-height: 200%\">اکنون \n",
    "    minimum\n",
    "    حاوی کوچک‌ترین مقدار است، بنابراین آن را نمایش می‌دهیم.\n",
    "ما اسکریپت را سه بار اجرا کردیم تا نشان دهیم بدون در نظر گرفتن اینکه کاربر آن را بار اول، دوم یا سوم وارد می‌کند همیشه کوچک‌ترین مقدار صحیح پیدا می‌شود.\n",
    "</div>"
   ]
  },
  {
   "cell_type": "markdown",
   "id": "5c7f6686",
   "metadata": {},
   "source": [
    "<h2 style=\"direction:rtl;font-size: px;font-family: 'XB Zar';color:#0288d1;\">تعیین حداقل و حداکثر با توابع داخلی \n",
    "    min\n",
    "    و \n",
    "    max</h2><a id=''></a>"
   ]
  },
  {
   "cell_type": "markdown",
   "id": "55c3dc5a",
   "metadata": {},
   "source": [
    "<div style=\"direction:rtl; font-size: 17px; font-family: 'XB Zar'; line-height: 200%\">پایتون دارای توابع داخلی زیادی برای انجام \n",
    "    وظایف رایج\n",
    "    (common tasks)\n",
    "    است. توابع داخلی \n",
    "    min و max\n",
    "    به ترتیب حداقل و حداکثر مجموعه‌ای از مقادیر را محاسبه می‌کنند:\n",
    "</div>"
   ]
  },
  {
   "cell_type": "code",
   "execution_count": null,
   "id": "fcf5706e",
   "metadata": {},
   "outputs": [],
   "source": [
    "min(36, 27, 12)"
   ]
  },
  {
   "cell_type": "code",
   "execution_count": null,
   "id": "f17bb052",
   "metadata": {},
   "outputs": [],
   "source": [
    "max(36, 27, 12)"
   ]
  },
  {
   "cell_type": "markdown",
   "id": "4e9983bb",
   "metadata": {},
   "source": [
    "<div style=\"direction:rtl; font-size: 17px; font-family: 'XB Zar'; line-height: 200%\">توابع min و max می‌توانند هر تعداد آرگومان را دریافت کنند.\n",
    "</div>"
   ]
  },
  {
   "cell_type": "markdown",
   "id": "bddfcdbc",
   "metadata": {},
   "source": [
    "<h2 style=\"direction:rtl;font-size: px;font-family: 'XB Zar';color:#0288d1;\">تعیین محدوده مجموعه‌ای از ارزش‌ها</h2><a id=''></a>"
   ]
  },
  {
   "cell_type": "markdown",
   "id": "31737ff1",
   "metadata": {},
   "source": [
    "<div style=\"direction:rtl; font-size: 17px; font-family: 'XB Zar'; line-height: 200%\">range\n",
    "    مقادیر به سادگی از مقدار حداقل تا مقدار حداکثر است.\n",
    "    در مثال بالا، \n",
    "    (range)\n",
    "    ۱۲\n",
    "    تا \n",
    "    ۳۶ \n",
    "    است.\n",
    "قسمت عمده علوم‌داده به شناخت داده‌های شما اختصاص دارد.\n",
    "آمار توصیفی بخش مهمی از آن است، اما شما همچنین باید بدانید که چگونه آمار را تفسیر کنید.\n",
    "به‌عنوان مثال، اگر ۱۰۰ عدد با دامنه ۱۲ تا ۳۶ دارید،\n",
    "این اعداد می توانند به طور مساوی در آن محدوده توزیع شوند.\n",
    "در حالت مقابل، این اعداد می‌توانند به صورت ۹۹ مقدار ۱۲ و یک مقدار ۳۶ و یا ۹۹ مقدار ۳۶ و یک مقدار ۱۲ توزیع شوند.\n",
    "</div>"
   ]
  },
  {
   "cell_type": "markdown",
   "id": "e45a03c7",
   "metadata": {},
   "source": [
    "<h2 style=\"direction:rtl;font-size: px;font-family: 'XB Zar';color:#0288d1;\">برنامه نویسی به سبک تابعی: ساده سازی (کاهش)</h2><a id=''></a>"
   ]
  },
  {
   "cell_type": "markdown",
   "id": "341c3785",
   "metadata": {},
   "source": [
    "<div style=\"direction:rtl; font-size: 17px; font-family: 'XB Zar'; line-height: 200%\">در سراسر این کتاب، ما قابلیت های مختلف برنامه‌نویسی به سبک تابعی را معرفی می‌کنیم.\n",
    "این‌ها به شما امکان می‌دهند کدی بنویسید که می‌تواند مختصرتر، واضح‌تر و آسان‌تر برای اشکال‌زدایی باشد، یعنی خطاها را پیدا کرده و تصحیح کنید.\n",
    "توابع min و max نمونه‌هایی از مفهوم برنامه‌نویسی سبک تابعی به نام کاهش هستند.\n",
    "آنها مجموعه‌ای از مقادیر را به یک مقدار کاهش می‌دهند.\n",
    "کاهش‌های دیگری که مشاهده خواهید کرد شامل \n",
    "    sum\n",
    "    ، \n",
    "    average\n",
    "    ، واریانس و انحراف استاندارد مجموعه‌ای از مقادیر است.\n",
    "همچنین خواهید دید که چگونه کاهش‌های سفارشی را تعریف کنید.\n",
    "</div>"
   ]
  },
  {
   "cell_type": "markdown",
   "id": "8bd20c5f",
   "metadata": {},
   "source": [
    "<h2 style=\"direction:rtl;font-size: px;font-family: 'XB Zar';color:#0288d1;\">مقدمه‌ای بر بخش‌های آینده مبحث علم‌داده</h2><a id=''></a>"
   ]
  },
  {
   "cell_type": "markdown",
   "id": "8caf74cb",
   "metadata": {},
   "source": [
    "<div style=\"direction:rtl; font-size: 17px; font-family: 'XB Zar'; line-height: 200%\">در دو فصل بعدی بحث خود را در مورد آمار توصیفی پایه ادامه خواهیم داد. در این فصول شاخص‌های مرکزی نظیر میانگین، میانه و مد و همچنین معیارهای پراکندگی نظیر واریانس و انحراف استاندارد مورد بررسی قرار می‌گیرند\n",
    "</div>"
   ]
  },
  {
   "cell_type": "markdown",
   "id": "373eda55",
   "metadata": {},
   "source": [
    "<h1 style=\"direction:rtl;font-size: 35px;font-family: 'XB Zar';color:#8e24aa;\">2.10 <span style=\"color:#F50057;\">جمع‌بندی</span></h1> <a id='11'></a>"
   ]
  },
  {
   "cell_type": "markdown",
   "id": "60b1aa9c",
   "metadata": {},
   "source": [
    "<div style=\"direction:rtl; font-size: 17px; font-family: 'XB Zar'; line-height: 200%\">در این فصل بحث خود را در مورد ریاضیات ادامه دادیم. از متغیرها برای ذخیره مقادیر استفاده کردید. عملگرهای ریاضی پایتون را معرفی کردیم و نشان دادیم که باید تمام عبارات را به فرم تک خطی بنویسید. از تابع از پیش تعریف شده پرینت برای نمایش داده‌ها استفاده کردید. رشته‌های محصور با علائم نقل‌قول تکی، دوتایی و سه تایی ایجاد کردیم. برای ایجاد رشته‌های چند خطی و قرار دادن علائم نقل‌قول تکی، دوتایی در رشته‌ها از رشته‌هایی با علائم نقل‌قول سه‌تایی استفاده کردید.\n",
    "</div>\n",
    "<br>\n",
    "\n",
    "<div style=\"direction:rtl; font-size: 17px; font-family: 'XB Zar'; line-height: 200%\">شما از تابع input برای درخواست و دریافت ورودی از کاربر در صفحه کلید استفاده کردید.\n",
    "ما از توابع int و float برای تبدیل رشته ها به مقادیر عددی استفاده کردیم. ما عملگرهای مقایسه‌ای پایتون را ارائه کردیم.\n",
    "سپس، شما از آنها در یک اسکریپت استفاده کردید که دو عدد صحیح را از کاربر می خواند و مقادیر آنها را با استفاده از یک سری دستور if مقایسه می کرد.\n",
    "</div>\n",
    "<br>\n",
    "\n",
    "<div style=\"direction:rtl; font-size: 17px; font-family: 'XB Zar'; line-height: 200%\">ما در مورد نوع داده پویای پایتون بحث کردیم و از تابع داخلی type برای نمایش نوع یک شیء استفاده کردیم.\n",
    "در نهایت، حداقل و حداکثر را در آمار توصیفی پایه معرفی کرده و از آنها برای محاسبه محدوده مجموعه‌ای از مقادیر استفاده کردیم.\n",
    "در فصل بعدی، دستورات کنترل پایتون را ارائه می‌کنیم.\n",
    "</div>"
   ]
  }
 ],
 "metadata": {
  "kernelspec": {
   "display_name": "Python 3 (ipykernel)",
   "language": "python",
   "name": "python3"
  },
  "language_info": {
   "codemirror_mode": {
    "name": "ipython",
    "version": 3
   },
   "file_extension": ".py",
   "mimetype": "text/x-python",
   "name": "python",
   "nbconvert_exporter": "python",
   "pygments_lexer": "ipython3",
   "version": "3.11.10"
  }
 },
 "nbformat": 4,
 "nbformat_minor": 5
}
