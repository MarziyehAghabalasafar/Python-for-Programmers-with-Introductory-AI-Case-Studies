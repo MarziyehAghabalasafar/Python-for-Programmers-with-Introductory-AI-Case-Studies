{
 "cells": [
  {
   "cell_type": "markdown",
   "id": "49d87a51-5f6a-45a1-be7d-7c1f93708c25",
   "metadata": {},
   "source": [
    "# Chapter 8"
   ]
  },
  {
   "cell_type": "markdown",
   "id": "a69ff19a-92b7-4ba0-b618-84fac4b69b4f",
   "metadata": {},
   "source": [
    "<img src=\"https://deitel.com/wp-content/uploads/2020/01/python-for-programmers.jpg\" align = \"left\">\n",
    "\n",
    "\n",
    "<!DOCTYPE html>\n",
    "<html>\n",
    "<head>\n",
    "    <style>\n",
    "    </style>\n",
    "</head>\n",
    "<body>\n",
    "    <h1 style=\"text-align:right;font-size:250%; font-family: 'XB Zar';\"><span style=\"color:#9575cd;font-size:300%;\">پایتون</span> <br>برای برنامه‌نویسان</h1>\n",
    "    <hr>\n",
    "    <p style=\"text-align:right;font-size:150%;font-family: 'XB Zar';\"><b>با مطالعات مقدماتی هوش مصنوعی</b></p>\n",
    "    <p style=\"text-align:right;font-size:150%;font-family: 'XB Zar';\">مولفین : پل دایتل و هاروی دایتل</p>\n",
    "</body>\n",
    "</html>"
   ]
  },
  {
   "cell_type": "markdown",
   "id": "5d7acacc-7eca-418e-a1ac-eff63b079284",
   "metadata": {},
   "source": [
    "\n",
    "<html>\n",
    "<head>\n",
    "    <style>\n",
    "    </style>\n",
    "</head>\n",
    "<body>\n",
    "    <hr>\n",
    "    <p style=\"text-align:right;font-size:150%;font-family:XB Zar;\"><b>استاد:</b> جناب آقای دکتر صالحی</p>\n",
    "    <p style=\"text-align:right;font-size:150%;font-family:XB Zar;\"><b>گردآورنده:</b> مرضیه آقابالاصفر</p>\n",
    "    <p style=\"text-align:right;font-size:150%;font-family:XB Zar;\">دپارتمان علوم‌کامپیوتر، دانشکده علوم ریاضی، دانشگاه شهرکرد</p>\n",
    "    <hr>\n",
    "</body>\n",
    "</html>\n"
   ]
  },
  {
   "cell_type": "markdown",
   "id": "d0a73cf0-eb8f-46a9-8800-6b449ad7c5d7",
   "metadata": {},
   "source": [
    "<h1 style=\"text-align:center;font-size:450%; font-family: 'XB Zar';\"><span style=\"color:#8e24aa;\">فصل ۸: رشته‌ها - نگاهی عمیق‌تر</span></h1> <a id='1'></a>"
   ]
  },
  {
   "cell_type": "markdown",
   "id": "5f8e811a-5e33-4588-8c99-e53fc1ac4b9f",
   "metadata": {},
   "source": [
    "<h1 style=\"direction:rtl;font-size: 35px;font-family: 'XB Zar';\"><span style=\"color:#F50057;\">اهداف</span></h1>\n",
    "<p style=\"text-align:right;\">\n",
    "<div style=\"direction:rtl; font-size: 17px; font-family: 'XB Zar'; line-height: 200%\">\n",
    "در این فصل :\n",
    "</div>\n",
    "    <div style=\"direction:rtl; font-size: 17px; font-family: 'XB Zar'; line-height: 200%\">\n",
    "    <span style=\"color:#F50057;\">■ </span>پردازش متن را درک خواهید کرد.<br>\n",
    "    <span style=\"color:#F50057;\">■ </span>از متدهای رشته استفاده خواهید کرد.<br>\n",
    "    <span style=\"color:#F50057;\">■ </span>محتوای رشته را فرمت خواهید کرد.<br>\n",
    "    <span style=\"color:#F50057;\">■ </span>رشته‌ها را به یکدیگر الصاق کرده و آن‌ها را تکرار خواهید کرد.<br>\n",
    "    <span style=\"color:#F50057;\">■ </span>فضای خالی موجود در انتهای رشته‌ها را حذف خواهید کرد.<br>\n",
    "    <span style=\"color:#F50057;\">■ </span>کاراکترها را از حروف کوچک به بزرگ و بالعکس تغییر خواهید داد.<br>\n",
    "    <span style=\"color:#F50057;\">■ </span>با عملگرهای مقایسه‌ای، رشته‌ها را با یکدیگر مقایسه خواهید کرد.<br>\n",
    "    <span style=\"color:#F50057;\">■ </span>رشته‌ها را برای یافتن زیررشته‌ها جست‌وجو کرده و زیررشته‌ها را در رشته جایگزین خواهید کرد.<br>\n",
    "    <span style=\"color:#F50057;\">■ </span>رشته‌ها را به چند توکن تقسیم خواهید کرد.<br>\n",
    "    <span style=\"color:#F50057;\">■ </span>چند رشته که با یک جداکننده خاص از هم تفکیک شده‌اند را در یک رشته الصاق خواهید کرد.<br>\n",
    "    <span style=\"color:#F50057;\">■ </span>عبارات منظم را ایجاد کرده و برای مطابقت الگوها با رشته‌ها، جایگزین کردن زیررشته‌ها و اعتبارسنجی داده‌ها از آن‌ها استفاده خواهید کرد.<br>\n",
    "    <span style=\"color:#F50057;\">■ </span>از \n",
    "        metacharacter\n",
    "        های عبارات منظم، \n",
    "        quantifier\n",
    "        ها، \n",
    "        character class\n",
    "        ها و گروه‌بندی استفاده خواهید کرد.<br>\n",
    "    <span style=\"color:#F50057;\">■ </span>درک خواهید کرد که دستکاری رشته‌ها چقدر برای پردازش زبان طبیعی حیاتی هستند.<br>\n",
    "    <span style=\"color:#F50057;\">■ </span>با اصطلاحات علم داده مانند \n",
    "        data munging\n",
    "        و پاک‌سازی داده‌ها آشنا شده و از عبارات منظم برای آماده‌سازی داده‌ها در فرمت موردنظر استفاده خواهید کرد.<br>\n",
    "    </div>\n",
    "</p>"
   ]
  },
  {
   "cell_type": "markdown",
   "id": "21d25335-941e-40fa-910c-6dfdfcb16c45",
   "metadata": {},
   "source": [
    "<h1 style=\"direction:rtl;font-size: 35px;font-family: 'XB Zar';\"><span style=\"color:#8e24aa;\">رئوس مطالب</span></h1>\n",
    "<hr>\n",
    "<div style=\"direction:rtl; font-size: 17px; font-family: 'XB Zar'; line-height: 200%\">\n",
    "  \n",
    "8. [فصل ۸: رشته‌ها - نگاهی عمیق‌تر](#1)\n",
    "    * 8.1 [مقدمه](#2)\n",
    "    * 8.2 [فرمت کردن رشته‌ها](#3)\n",
    "        * 8.2.1 [نمایش نوع داده](#4)\n",
    "        * 8.2.2 [عرض فیلد و تراز کردن](#5)\n",
    "        * 8.2.3 [فرمت کردن عددی](#6)\n",
    "        * 8.2.4 [متد format در رشته](#7)\n",
    "    * 8.3 [الصاق و تکرار رشته‌ها](#8)\n",
    "    * 8.4 [حذف فضای خالی از رشته‌ها](#9)\n",
    "    * 8.5 [تغییر بزرگی و یا کوچکی حروف](#10)\n",
    "    * 8.6 [عملگرهای مقایسه‌ای برای رشته‌ها](#11)\n",
    "    * 8.7 [جست‌وجو برای زیررشته‌ها](#12)\n",
    "    * 8.8 [جایگزین کردن زیررشته‌ها](#13)\n",
    "    * 8.9 [تفکیک و اتصال رشته‌ها](#14)\n",
    "    * 8.10 [متدهای مربوط به کاراکترها](#15)\n",
    "    * 8.11 [Raw Strings](#16)\n",
    "    * 8.12 [مقدمه‌ای بر عبارات منظم](#17)\n",
    "        * 8.12.1 [ماژول re و تابع fullmatch](#18)\n",
    "        * 8.12.2 [جایگذاری زیررشته‌ها و تفکیک رشته‌ها](#19)\n",
    "        * 8.12.3 [سایر توابع جست‌جو؛ دسترسی به مطابقت‌ها](#20)\n",
    "    * 8.13 [مقدمه‌ای بر علم داده: Pandas، عبارات منظم و Data \n",
    "Munging ](#21)\n",
    "    * 8.14 [جمع‌بندی](#22)\n",
    "    \n",
    "</div>\n"
   ]
  },
  {
   "cell_type": "markdown",
   "id": "de267bbb-9031-4b87-acdb-8d39146afda4",
   "metadata": {},
   "source": [
    "<h1 style=\"direction:rtl;font-size: 35px;font-family: 'XB Zar';color:#8e24aa;\">8.1 <span style=\"color:#F50057;\">مقدمه</span></h1> <a id='2'></a>"
   ]
  },
  {
   "cell_type": "markdown",
   "id": "eb8cce2c-6223-48e2-aae0-631d0d53f898",
   "metadata": {},
   "source": [
    "<div style=\"direction:rtl; font-size: 17px; font-family: 'XB Zar'; line-height: 200%\">تا اینجای کار، رشته‌ها، فرمت کردن اولیه آن‌ها و چندین عملگر و متد رشته را معرفی کردیم. مشاهده کردید که رشته‌ها از تعداد زیادی عملگرهای دنباله‌ای نظیر لیست‌ها و تاپل‌ها پشتیبانی می‌کنند و همانند تاپل‌ها غیرقابل تغییر هستند. در این فصل نگاه عمیق‌تری به رشته‌ها و عبارات منظم می‌اندازیم و ماژول \n",
    "    re\n",
    "    را معرفی می‌کنیم. از این ماژول برای تطابق الگوها با متن استفاده خواهیم کرد. عبارات منظم در برنامه‌های غنی از داده‌های امروزی اهمیت ویژه‌ای دارند. قابلیت‌های ارائه شده در این قسمت به شما کمک می‌کنند تا برای فصل پردازش زبان طبیعی \n",
    "    (NLP)\n",
    "    و سایر فصل‌های اصلی علم داده آماده شوید. در فصل \n",
    "    NLP\n",
    "    سایر روش‌های تغییر متن و درک متن به وسیله کامپیوترها را شرح خواهیم داد. جدول زیر بسیاری از برنامه‌های مربوط به پردازش رشته و \n",
    "    NLP\n",
    "    را نشان می‌دهد.در بخش مقدمه‌ای بر علم داده، به طور خلاصه پاک‌سازی داده‌ها و \n",
    "    data cleaning/munging/wrangling\n",
    "    را با کمک \n",
    "    Series\n",
    "    و \n",
    "    DataFrame\n",
    "    در \n",
    "    Pandas\n",
    "    معرفی می‌کنیم. در فصل‌های مطالعه موردی در زمینه علم داده، خواهیم دید که جست‌وجوی الگوها در متن یک قسمت مهم در یادگیری ماشین محسوب می‌شود.\n",
    "</div>"
   ]
  },
  {
   "attachments": {
    "c0691e57-c214-46f3-a150-a8b24778eb86.png": {
     "image/png": "[encoded data removed]"
    }
   },
   "cell_type": "markdown",
   "id": "9cb9fbbb-369a-4652-8e20-c2ada25075b3",
   "metadata": {},
   "source": [
    "![Screenshot (73).png](attachment:c0691e57-c214-46f3-a150-a8b24778eb86.png)"
   ]
  },
  {
   "cell_type": "markdown",
   "id": "9db09bee-2095-49e5-a8b4-0971a3b52776",
   "metadata": {},
   "source": [
    "<h1 style=\"direction:rtl;font-size: 35px;font-family: 'XB Zar';color:#8e24aa;\">8.2 <span style=\"color:#F50057;\">فرمت کردن رشته‌ها</span></h1> <a id='3'></a>"
   ]
  },
  {
   "cell_type": "markdown",
   "id": "caaab237-12ce-4ab6-8746-ff1a690680a5",
   "metadata": {},
   "source": [
    "<div style=\"direction:rtl; font-size: 17px; font-family: 'XB Zar'; line-height: 200%\">فرمت کردن مناسب متن، خواندن و فهم داده‌ها را آسان‌تر می‌کند. در اینجا، بسیاری از قابلیت‌های فرمت کردن متن را نشان می‌دهیم.\n",
    "</div>"
   ]
  },
  {
   "cell_type": "markdown",
   "id": "8dd23d01-e8f4-4ce2-bbe7-312e868c45aa",
   "metadata": {},
   "source": [
    "<h2 style=\"direction:rtl;font-size: 25px;font-family: 'XB Zar';color:#8e24aa;\">8.2.1 <span style=\"color:#8e24aa;\">نمایش نوع داده</span></h2> <a id='4'></a>"
   ]
  },
  {
   "cell_type": "markdown",
   "id": "8fe0a0bc-5948-4b4a-9282-00277cb01090",
   "metadata": {},
   "source": [
    "<div style=\"direction:rtl; font-size: 17px; font-family: 'XB Zar'; line-height: 200%\">فرمت کردن ابتدایی رشته را با \n",
    "    f-string\n",
    "    مشاهده کرده‌اید. هنگامی که یک \n",
    "    placeholder\n",
    "    را برای  یک مقدار در یک \n",
    "    f-string\n",
    "    تعیین می‌کنید، پایتون فرض می‌کند آن مقدار باید به عنوان یک رشته نمایش داده شود مگر اینکه نوع دیگری را مشخص کنید. در برخی موارد، نوع داده مورد نیاز است. به عنوان مثال، قصد داریم مقدار اعشاری ۱۷.۴۸۹ را تا صدم اعشار گرد کنیم: \n",
    "</div>"
   ]
  },
  {
   "cell_type": "code",
   "execution_count": null,
   "id": "e8bc9571-c3ef-4753-8c9f-b5470e06b283",
   "metadata": {},
   "outputs": [],
   "source": [
    "f'{17.489:.2f}'"
   ]
  },
  {
   "cell_type": "markdown",
   "id": "056220ca-8df6-43c1-9c24-8a3f58e65ec0",
   "metadata": {},
   "source": [
    "<div style=\"direction:rtl; font-size: 17px; font-family: 'XB Zar'; line-height: 200%\">پایتون از این دقت فقط برای مقادیر اعشاری و دسیمال پشتیبانی می‌کند. فرمت کردن به نوع داده بستگی دارد. بنابراین اگر بخواهید از \n",
    "    2f.\n",
    "    برای فرمت کردن یک رشته مانند \n",
    "    'hello'\n",
    "    استفاده کنید یک خطای \n",
    "    ValueError\n",
    "    رخ می‌دهد؛ بنابراین نمایش \n",
    "    f\n",
    "    در مشخص کننده فرمت \n",
    "    2f.\n",
    "    لازم است. این پارامتر نشان می‌دهد چه نوع داده‌ای فرمت خواهد شد و به همین دلیل پایتون می‌تواند تعیین کند که آیا سایر اطلاعات فرمت کردن برای این نوع داده مجاز است یا خیر. در اینجا، انواع مختلفی از نمایش نوع داده را نشان می‌دهیم. برای مشاهده لیست کامل به آدرس زیر مراجعه کنید:\n",
    "    <br>\n",
    "    <a href=\"https://docs.python.org/3/library/string.html#formatspec\">\n",
    "https://docs.python.org/3/library/string.html#formatspec</a>\n",
    "</div>"
   ]
  },
  {
   "cell_type": "markdown",
   "id": "81388567-fc7e-4ebe-9b75-2e9c097a69ce",
   "metadata": {},
   "source": [
    "<h2 style=\"direction:rtl;font-size: px;font-family: 'XB Zar';color:#0288d1;\">اعداد صحیح</h2> <a id=''></a>"
   ]
  },
  {
   "cell_type": "markdown",
   "id": "54efa0b3-caac-455c-91ea-e99bd056d72c",
   "metadata": {},
   "source": [
    "<div style=\"direction:rtl; font-size: 17px; font-family: 'XB Zar'; line-height: 200%\"> نوع نمایشی \n",
    "     d \n",
    "    اعداد صحیح را به صورت رشته فرمت می‌کند:\n",
    "</div>"
   ]
  },
  {
   "cell_type": "code",
   "execution_count": null,
   "id": "85ed0870-dffa-4227-80c7-62cf09475c91",
   "metadata": {},
   "outputs": [],
   "source": [
    "f'{10:d}'"
   ]
  },
  {
   "cell_type": "markdown",
   "id": "003d8a21-f638-40fd-9cdd-d39f78ddf8d6",
   "metadata": {},
   "source": [
    "<div style=\"direction:rtl; font-size: 17px; font-family: 'XB Zar'; line-height: 200%\">نوع داده‌های نمایشی \n",
    "    (b, o, x or X)\n",
    "    برای فرمت‌کردن اعداد صحیح در سیستم‌های اعداد باینری، اکتال و هگزادسیمال به کار می‌روند.\n",
    "</div>"
   ]
  },
  {
   "cell_type": "markdown",
   "id": "f39d24ee-4e22-4e1b-bd2b-fe199e884213",
   "metadata": {},
   "source": [
    "<h2 style=\"direction:rtl;font-size: px;font-family: 'XB Zar';color:#0288d1;\">کاراکترها</h2> <a id=''></a>"
   ]
  },
  {
   "cell_type": "markdown",
   "id": "5e01d236-3870-4239-9b7a-2b75e62e6cde",
   "metadata": {},
   "source": [
    "<div style=\"direction:rtl; font-size: 17px; font-family: 'XB Zar'; line-height: 200%\">نوع داده نمایشی \n",
    "    c\n",
    "    ، کد (عدد صحیح) یک کاراکتر را به کاراکتر مربوطه فرمت می‌کند:\n",
    "</div>"
   ]
  },
  {
   "cell_type": "code",
   "execution_count": null,
   "id": "50870d2e-de6f-47a2-8e6d-d9176b39325f",
   "metadata": {},
   "outputs": [],
   "source": [
    "f'{65:c} {97:c}'"
   ]
  },
  {
   "cell_type": "markdown",
   "id": "82a9525e-f4de-4a6a-9e93-6c4eb7340a48",
   "metadata": {},
   "source": [
    "<h2 style=\"direction:rtl;font-size: px;font-family: 'XB Zar';color:#0288d1;\">رشته‌ها</h2> <a id=''></a>"
   ]
  },
  {
   "cell_type": "markdown",
   "id": "7e0f7746-3bd5-4e0f-970d-8f2ff5c7e797",
   "metadata": {},
   "source": [
    "<div style=\"direction:rtl; font-size: 17px; font-family: 'XB Zar'; line-height: 200%\">نوع داده نمایشی \n",
    "     s\n",
    "    ، نوع داده پیش‌فرض محسوب می‌شود. اگر همانند اولین \n",
    "    placeholder\n",
    "    در کد زیر \n",
    "     s\n",
    "    را به طور صریح مشخص کنید، مقدار فرمت‌شده باید متغیری باشد که به یک رشته ارجاع  داده می‌شود، یا عبارتی باشد که یک رشته تولید کند و یا یک لیترال رشته‌ای باشد. اگر همانند \n",
    "    placeholder\n",
    "    دوم در کد زیر، نوع داده نمایشی \n",
    "    (presentation type)\n",
    "    را مشخص نکنید، مقادیر غیررشته‌ای همانند عدد صحیح ۷ به رشته تبدیل می‌شوند:\n",
    "</div>"
   ]
  },
  {
   "cell_type": "code",
   "execution_count": null,
   "id": "6f9fa292-2132-44ce-bafd-1e594c26b772",
   "metadata": {},
   "outputs": [],
   "source": [
    "f'{\"hello\":s} {7}'"
   ]
  },
  {
   "cell_type": "markdown",
   "id": "b4a25cd5-0636-4994-80d9-0bbe414076b3",
   "metadata": {},
   "source": [
    "<div style=\"direction:rtl; font-size: 17px; font-family: 'XB Zar'; line-height: 200%\">در این اسنیپت، رشته \n",
    "    \"hello\"\n",
    "    میان دو کاراکتر نقل‌قول مضاعف محصور شده است. به یاد بیاورید که نمی‌توانید نقل‌قول‌های تکی را در داخل یک رشته که با نقل‌قول‌های تکی محصور شده است، قرار دهید.\n",
    "</div>"
   ]
  },
  {
   "cell_type": "markdown",
   "id": "adc3e7e6-f02c-4afc-8ff0-8a33e207877d",
   "metadata": {},
   "source": [
    "<h2 style=\"direction:rtl;font-size: px;font-family: 'XB Zar';color:#0288d1;\">مقادیراعشاری و دسیمال</h2> <a id=''></a>"
   ]
  },
  {
   "cell_type": "markdown",
   "id": "9cafbfc9-bc42-4712-8659-5dd26e163c2f",
   "metadata": {},
   "source": [
    "<div style=\"direction:rtl; font-size: 17px; font-family: 'XB Zar'; line-height: 200%\">از نوع داده نمایشی \n",
    "    f\n",
    "    برای فرمت کردن مقادیراعشاری و دسیمال استفاده کرده‌اید. برای مقادیر بسیار بزرگ و کوچک از این نوع، می‌توان از نماد نمایی (نماد علمی) برای فرمت کردن مقادیر به صورت فشرده استفاده کرد. در این قسمت تفاوت بین \n",
    "    f\n",
    "    و \n",
    "    e\n",
    "    برای یک مقدار بزرگ را با دقت سه رقم بعد از نقطه اعشار نشان می‌دهیم:\n",
    "</div>"
   ]
  },
  {
   "cell_type": "code",
   "execution_count": null,
   "id": "e55603a1-d519-4df1-ae0c-16b09cbaa248",
   "metadata": {},
   "outputs": [],
   "source": [
    "from decimal import Decimal"
   ]
  },
  {
   "cell_type": "code",
   "execution_count": null,
   "id": "3d1f1d90-bf7a-412f-bc67-dd897f27dfcb",
   "metadata": {},
   "outputs": [],
   "source": [
    "f'{Decimal(\"10000000000000000000000000.0\"):.3f}'"
   ]
  },
  {
   "cell_type": "code",
   "execution_count": null,
   "id": "3475b098-4cdc-4ab4-a97b-c72459273d04",
   "metadata": {},
   "outputs": [],
   "source": [
    "f'{Decimal(\"10000000000000000000000000.0\"):.3e}'"
   ]
  },
  {
   "cell_type": "markdown",
   "id": "85f5ee59-afcb-4961-a288-f5872f9c1f80",
   "metadata": {},
   "source": [
    "<div style=\"direction:rtl; font-size: 17px; font-family: 'XB Zar'; line-height: 200%\">نوع داده نمایشی \n",
    "    e\n",
    "    مقدار فرمت‌شده \n",
    "    $1.000e+25$\n",
    "    معادل مقدار \n",
    "    $1.000 \\times 10^{25}$\n",
    "    می‌باشد. اگر حرف \n",
    "    E\n",
    "    را برای استفاده ترجیح می‌دهید، می‌توانید در نوع داده نمایشی به جای \n",
    "    e\n",
    "    از \n",
    "    E\n",
    "    استفاده کنید.\n",
    "</div>"
   ]
  },
  {
   "cell_type": "markdown",
   "id": "cf65e70f-8216-4f38-b7d8-61625861aa48",
   "metadata": {},
   "source": [
    "<h2 style=\"direction:rtl;font-size: 25px;font-family: 'XB Zar';color:#8e24aa;\">8.2.2 <span style=\"color:#8e24aa;\">عرض فیلد و تراز</span></h2> <a id='5'></a>"
   ]
  },
  {
   "cell_type": "markdown",
   "id": "6f1ce44a-ab6b-4833-9d4d-a69cd7db8957",
   "metadata": {},
   "source": [
    "<div style=\"direction:rtl; font-size: 17px; font-family: 'XB Zar'; line-height: 200%\">قبلا از\n",
    "    field widths\n",
    "    ها برای فرمت کردن متن در تعداد مشخصی از \n",
    "    موقعیت‌های کاراکترها\n",
    "    استفاده کردید. به طور پیش‌فرض، پایتون مقادیر عددی را از سمت راست و سایر مقادیر مانند رشته‌ها را از چپ تراز می‌کند؛ نتایج زیر را در میان یک جفت کروشه قرار می‌دهیم ([ ]) و به همین دلیل می‌توانید نحوه تراز شدن مقادیر را در فیلد مشاهده کنید:\n",
    "</div>"
   ]
  },
  {
   "cell_type": "code",
   "execution_count": null,
   "id": "213212df-4a85-4da9-9c29-e0e21c75011a",
   "metadata": {},
   "outputs": [],
   "source": [
    "f'[{27:10d}]'"
   ]
  },
  {
   "cell_type": "code",
   "execution_count": null,
   "id": "af0b42bf-b44d-47b6-b3f2-0b9d74c2ab1d",
   "metadata": {},
   "outputs": [],
   "source": [
    "f'[{3.5:10f}]'"
   ]
  },
  {
   "cell_type": "code",
   "execution_count": null,
   "id": "3d9065c2-1193-4108-90f2-6919e98d2cf7",
   "metadata": {},
   "outputs": [],
   "source": [
    "f'[{\"hello\":10}]'"
   ]
  },
  {
   "cell_type": "markdown",
   "id": "87299e56-c05d-409e-81a2-2351ea62d3a9",
   "metadata": {},
   "source": [
    "<div style=\"direction:rtl; font-size: 17px; font-family: 'XB Zar'; line-height: 200%\">اسنیپت [۲] نشان می‌دهد که پایتون به طور پیش‌فرض مقادیر اعشاری را با شش رقم دقت در سمت راست نقطه اعشار فرمت می‌کند. برای مقادیری که کاراکترهای کمتری از عرض فیلد داشته باشند، باقی‌مانده کاراکترها با فاصله خالی پر می‌شوند. مقادیری که تعداد کاراکترهای بیشتری از عرض فیلد دارند، از فضای بیشتری برحسب نیاز استفاده می‌کنند.\n",
    "</div>"
   ]
  },
  {
   "cell_type": "markdown",
   "id": "4a9e3eba-405b-4385-9077-9bd058bcf335",
   "metadata": {},
   "source": [
    "<h2 style=\"direction:rtl;font-size: px;font-family: 'XB Zar';color:#0288d1;\">مشخص نمودن تراز چپ‌چین و راست‌چین در یک فیلد</h2> <a id=''></a>"
   ]
  },
  {
   "cell_type": "markdown",
   "id": "01d364bd-2d7a-4e85-a11b-9b44ce86b60b",
   "metadata": {},
   "source": [
    "<div style=\"direction:rtl; font-size: 17px; font-family: 'XB Zar'; line-height: 200%\">با کمک نمادهای < و > می‌توانید چپ‌چین و یا راست‌چین بودن را مشخص کنید:\n",
    "</div>"
   ]
  },
  {
   "cell_type": "code",
   "execution_count": null,
   "id": "2b7452d7-c67e-4e37-bc29-b98414eed5aa",
   "metadata": {},
   "outputs": [],
   "source": [
    "f'[{27:<15d}]'"
   ]
  },
  {
   "cell_type": "code",
   "execution_count": null,
   "id": "758e7603-c1ab-46b0-8119-2f8f8b79325d",
   "metadata": {},
   "outputs": [],
   "source": [
    "f'[{3.5:<15f}]'"
   ]
  },
  {
   "cell_type": "code",
   "execution_count": null,
   "id": "678dc744-814d-4ec0-a0f1-7c286a2ea386",
   "metadata": {},
   "outputs": [],
   "source": [
    "f'[{\"hello\":>15}]'"
   ]
  },
  {
   "cell_type": "markdown",
   "id": "b1fcfe97-421b-4f4e-ab09-829ef6ed6422",
   "metadata": {},
   "source": [
    "<h2 style=\"direction:rtl;font-size: px;font-family: 'XB Zar';color:#0288d1;\">وسط چین کردن یک مقدار در یک فیلد</h2> <a id=''></a>"
   ]
  },
  {
   "cell_type": "markdown",
   "id": "a9a20faa-cd2b-42b6-8b08-9b46b68ba588",
   "metadata": {},
   "source": [
    "<div style=\"direction:rtl; font-size: 17px; font-family: 'XB Zar'; line-height: 200%\">علاوه‌براین می‌توانید مقادیر را از وسط تراز کنید:\n",
    "</div>"
   ]
  },
  {
   "cell_type": "code",
   "execution_count": null,
   "id": "be02a9d5-2d12-42e1-96f6-dd80b00f3883",
   "metadata": {},
   "outputs": [],
   "source": [
    "f'[{27:^7d}]'"
   ]
  },
  {
   "cell_type": "code",
   "execution_count": null,
   "id": "cd50c744-0e2f-42c1-a904-b5258e3c7f95",
   "metadata": {},
   "outputs": [],
   "source": [
    "f'[{3.5:^7f}]'"
   ]
  },
  {
   "cell_type": "code",
   "execution_count": null,
   "id": "fa0a1a59-3d75-40ab-ae0f-12652d774fbe",
   "metadata": {},
   "outputs": [],
   "source": [
    "f'[{\"hello\":^7}]'"
   ]
  },
  {
   "cell_type": "markdown",
   "id": "9ca70c9e-6a6c-4295-9645-93ca65d0cd5f",
   "metadata": {},
   "source": [
    "<div style=\"direction:rtl; font-size: 17px; font-family: 'XB Zar'; line-height: 200%\">تراز از وسط سعی می‌کند باقی‌مانده کاراکترهای اشغال نشده را به طور مساوی در سمت چپ و راست مقدار مورد نظر فرمت کند. اگر تعداد فردی از موقعیت‌های کاراکترها باقی بماند، پایتون یک فضای خالی در سمت راست قرار می‌دهد.\n",
    "</div>"
   ]
  },
  {
   "cell_type": "markdown",
   "id": "e3596eac-3bf1-469b-83e2-375e8d6e10d5",
   "metadata": {},
   "source": [
    "<h2 style=\"direction:rtl;font-size: 25px;font-family: 'XB Zar';color:#8e24aa;\">8.2.3 <span style=\"color:#8e24aa;\">فرمت کردن اعداد</span></h2> <a id='6'></a>"
   ]
  },
  {
   "cell_type": "markdown",
   "id": "90b3d24f-d372-4372-824b-5e021729954e",
   "metadata": {},
   "source": [
    "<div style=\"direction:rtl; font-size: 17px; font-family: 'XB Zar'; line-height: 200%\">برای فرمت کردن مقادیرعددی قابلیت‌های متعددی وجود دارد.\n",
    "</div>"
   ]
  },
  {
   "cell_type": "markdown",
   "id": "3ad31ba9-65aa-41f3-8daf-9a49fe8fca83",
   "metadata": {},
   "source": [
    "<h2 style=\"direction:rtl;font-size: px;font-family: 'XB Zar';color:#0288d1;\">فرمت کردن اعداد مثبت با علامت</h2> <a id=''></a>"
   ]
  },
  {
   "cell_type": "markdown",
   "id": "e092f23e-34ed-4c91-ac00-65234542a00b",
   "metadata": {},
   "source": [
    "<div style=\"direction:rtl; font-size: 17px; font-family: 'XB Zar'; line-height: 200%\">گاهی اوقات مطلوب است که علامت + را کنار یک عدد مثبت قرار دهید:\n",
    "</div>"
   ]
  },
  {
   "cell_type": "code",
   "execution_count": null,
   "id": "c20a2e94-395f-404d-88e4-7857e886808b",
   "metadata": {},
   "outputs": [],
   "source": [
    "f'[{27:+10d}]'"
   ]
  },
  {
   "cell_type": "markdown",
   "id": "91e29732-dfc9-49ca-9064-9505049ec220",
   "metadata": {},
   "source": [
    "<div style=\"direction:rtl; font-size: 17px; font-family: 'XB Zar'; line-height: 200%\">علامت + قبل از عرض فیلد مشخص می‌کند که باید یک عدد مثبت بعد از یک علامت + قرار گیرد. یک عدد منفی همیشه با - شروع می‌شود. برای پر کردن کاراکترهایی با رقم صفر به جای کاراکتر \n",
    "    space\n",
    "    ، یک صفر قبل از عرض فیلد قرار دهید (و اگر علامت + وجود دارد، بعد از +):\n",
    "</div>"
   ]
  },
  {
   "cell_type": "code",
   "execution_count": null,
   "id": "50948bbf-a21e-4da2-9f40-4eacb0472aa5",
   "metadata": {},
   "outputs": [],
   "source": [
    "f'[{27:+010d}]'"
   ]
  },
  {
   "cell_type": "markdown",
   "id": "de182926-9c71-404b-ae0d-3782935c7365",
   "metadata": {},
   "source": [
    "<h2 style=\"direction:rtl;font-size: px;font-family: 'XB Zar';color:#0288d1;\">استفاده از فضای خالی به جای علامت + در یک مقدار مثبت</h2> <a id=''></a>"
   ]
  },
  {
   "cell_type": "markdown",
   "id": "d39e6031-c934-483e-a218-9a495a0e9f7c",
   "metadata": {},
   "source": [
    "<div style=\"direction:rtl; font-size: 17px; font-family: 'XB Zar'; line-height: 200%\">یک فضای خالی در اعداد مثبت معرف آن است که کاراکتر \n",
    "    space\n",
    "    به جای علامت + قرار گرفته است. این کار برای تراز کردن مقادیر مثبت و منفی هنگام نمایش مفید است:\n",
    "</div>"
   ]
  },
  {
   "cell_type": "code",
   "execution_count": null,
   "id": "1322a8c6-e204-440b-b45e-7900e6468e82",
   "metadata": {},
   "outputs": [],
   "source": [
    "print(f'{27:d}\\n{27: d}\\n{-27: d}')"
   ]
  },
  {
   "cell_type": "markdown",
   "id": "e4eda08b-d02b-4bca-a4b3-6eb08d07560a",
   "metadata": {},
   "source": [
    "<div style=\"direction:rtl; font-size: 17px; font-family: 'XB Zar'; line-height: 200%\">توجه داشته باشید که این دو عدد با کاراکتر\n",
    "    space\n",
    "    در مشخص‌کننده‌های فرمت خود تراز می‌شوند. اگر عرض فیلد مشخص شده باشد، کاراکتر \n",
    "    space\n",
    "    باید قبل از عرض فیلد قرارگیرد.\n",
    "</div>"
   ]
  },
  {
   "cell_type": "markdown",
   "id": "4c98bf43-8591-40f2-b1b6-e0d1c293a08e",
   "metadata": {},
   "source": [
    "<h2 style=\"direction:rtl;font-size: px;font-family: 'XB Zar';color:#0288d1;\">گروه‌بندی ارقام</h2> <a id=''></a>"
   ]
  },
  {
   "cell_type": "markdown",
   "id": "76fb0635-f8f8-4ce1-bd04-d629f82ec74a",
   "metadata": {},
   "source": [
    "<div style=\"direction:rtl; font-size: 17px; font-family: 'XB Zar'; line-height: 200%\">با استفاده از کاراکتر کاما (,) می‌توانید ارقام را سه رقم سه رقم جدا کنید:\n",
    "</div>"
   ]
  },
  {
   "cell_type": "code",
   "execution_count": null,
   "id": "811520bf-dc8a-4803-bd42-923a64b7621f",
   "metadata": {},
   "outputs": [],
   "source": [
    "f'{12345678:,d}'"
   ]
  },
  {
   "cell_type": "code",
   "execution_count": null,
   "id": "f3e9e54a-6852-45b6-99b0-d9aaa238f554",
   "metadata": {},
   "outputs": [],
   "source": [
    "f'{123456.78:,.2f}'"
   ]
  },
  {
   "cell_type": "markdown",
   "id": "cb3b5578-c375-4a9a-b538-61a62b40cb36",
   "metadata": {},
   "source": [
    "<h2 style=\"direction:rtl;font-size: 25px;font-family: 'XB Zar';color:#8e24aa;\">8.2.4 <span style=\"color:#8e24aa;\">متد \n",
    "    format\n",
    "    در رشته‌ها</span></h2> <a id='7'></a>"
   ]
  },
  {
   "cell_type": "markdown",
   "id": "42c8fc2b-dfd3-4670-94b3-afa7081bb665",
   "metadata": {},
   "source": [
    "<div style=\"direction:rtl; font-size: 17px; font-family: 'XB Zar'; line-height: 200%\">f-string\n",
    "    در نسخه ۳.۶ به زبان پایتون اضافه شد. قبل از آن، فرمت کردن با متد \n",
    "    format\n",
    "    در رشته‌ها انجام می‌شد. در واقع فرمت کردن با \n",
    "    f-string\n",
    "    بر اساس قابلیت‌های متد \n",
    "    format\n",
    "    بنا نهاده شده است. در اینجا متد \n",
    "    format\n",
    "    را به شما نشان می‌دهیم زیرا در کدهایی که قبل از پایتون ۳.۶ نوشته شده است با این متد روبرو خواهید شد. متد \n",
    "    format\n",
    "    را در مستندات پایتون، در بسیاری از کتاب‌ها و مقالات پایتون که قبل از معرفی \n",
    "    f-string\n",
    "    نوشته شده‌اند، مشاهده خواهید کرد. با این حال، توصیه می‌کنیم از فرمت کردن جدید \n",
    "    f-string\n",
    "    که در این قسمت ارائه کرده‌ایم استفاده کنید.\n",
    "</div>"
   ]
  },
  {
   "cell_type": "markdown",
   "id": "c3103f4f-4030-43da-98fe-0af6a0ee5941",
   "metadata": {},
   "source": [
    "<div style=\"direction:rtl; font-size: 17px; font-family: 'XB Zar'; line-height: 200%\">متد \n",
    "    format\n",
    "    را روی یک \n",
    "    format string\n",
    "    حاوی  \n",
    "    placeholder\n",
    "    با یک جفت آکولاد \n",
    "    ({})\n",
    "    و احتمالا با \n",
    "    format specifierهای\n",
    "    مرتبط فراخوانی می‌کنید.متد \n",
    "    format\n",
    "    مقداری که می‌بایست فرمت شود را به عنوان آرگومان دریافت می‌کند. در این قسمت مقدار اعشاری ۴۷۹.۱۷ را با صدم اعشار فرمت می‌کنیم:\n",
    "</div>"
   ]
  },
  {
   "cell_type": "code",
   "execution_count": null,
   "id": "b43a86d4-2999-4e04-bfc7-263c681ef352",
   "metadata": {},
   "outputs": [],
   "source": [
    "'{:.2f}'.format(17.489)"
   ]
  },
  {
   "cell_type": "markdown",
   "id": "1314e7c1-e6d5-4952-850a-636d8f70fe04",
   "metadata": {},
   "source": [
    "<div style=\"direction:rtl; font-size: 17px; font-family: 'XB Zar'; line-height: 200%\">اگر در\n",
    "    placeholder\n",
    "    یک \n",
    "    format specifier\n",
    "    وجود داشته باشد، باید همانند \n",
    "    f-string\n",
    "    قبل از آن کاراکتر \n",
    "    (:)\n",
    "    قرار گیرد. نتیجه فراخوانی \n",
    "    format\n",
    "    یک رشته جدید حاوی نتایج فرمت‌شده می‌باشد.\n",
    "</div>"
   ]
  },
  {
   "cell_type": "markdown",
   "id": "dae9a7e4-7d4e-4c61-afa7-9f98df8c733c",
   "metadata": {},
   "source": [
    "<h2 style=\"direction:rtl;font-size: px;font-family: 'XB Zar';color:#0288d1;\">Multiple Placeholders</h2> <a id=''></a>"
   ]
  },
  {
   "cell_type": "markdown",
   "id": "e8b7e0e1-e89d-4a5e-88c0-8faa17a3c293",
   "metadata": {},
   "source": [
    "<div style=\"direction:rtl; font-size: 17px; font-family: 'XB Zar'; line-height: 200%\">یک \n",
    "    format string\n",
    "    ممکن است حاوی چندین \n",
    "    placeholder\n",
    "    باشد، در این صورت آرگومان‌های متد \n",
    "    format\n",
    "    با \n",
    "    placeholder\n",
    "    ها از چپ به راست مطابقت دارند:\n",
    "</div>"
   ]
  },
  {
   "cell_type": "code",
   "execution_count": null,
   "id": "ae4692d6-5b25-4384-b189-c7d58352c036",
   "metadata": {},
   "outputs": [],
   "source": [
    "'{} {}'.format('Amanda', 'Cyan')"
   ]
  },
  {
   "cell_type": "markdown",
   "id": "09668609-cd75-448b-a36e-8f19c3008863",
   "metadata": {},
   "source": [
    "<h2 style=\"direction:rtl;font-size: px;font-family: 'XB Zar';color:#0288d1;\">ارجاع به آرگومان‌ها بر اساس شماره موقعیت</h2> <a id=''></a>"
   ]
  },
  {
   "cell_type": "markdown",
   "id": "32f84a65-586a-4b13-86f5-24488ae3523e",
   "metadata": {},
   "source": [
    "<div style=\"direction:rtl; font-size: 17px; font-family: 'XB Zar'; line-height: 200%\">format string\n",
    "    می‌تواند به آرگومان‌های خاص با توجه به موقعیت آن‌ها در لیست آرگومان متد \n",
    "    format\n",
    "    دسترسی پیدا کند. شماره موقعیت آرگومان‌ها از صفر شروع می‌شود:\n",
    "</div>"
   ]
  },
  {
   "cell_type": "code",
   "execution_count": null,
   "id": "07e0a116-a2d2-4a20-aeb6-d629a93b9067",
   "metadata": {},
   "outputs": [],
   "source": [
    "'{0} {0} {1}'.format('Happy', 'Birthday')"
   ]
  },
  {
   "cell_type": "markdown",
   "id": "6dd00d49-9e7b-4e2e-9f88-9c54682dc01b",
   "metadata": {},
   "source": [
    "<div style=\"direction:rtl; font-size: 17px; font-family: 'XB Zar'; line-height: 200%\">توجه داشته باشید که از موقعیت صفر \n",
    "    ('Happy')\n",
    "    دوبار استفاده کردیم؛ شما می‌توانید هر آرگومان را به دفعات دلخواه و به هر ترتیب ارجاع دهید.\n",
    "</div>"
   ]
  },
  {
   "cell_type": "markdown",
   "id": "6ac62d13-24a9-4b4e-8be4-47a5fd0d53e6",
   "metadata": {},
   "source": [
    "<h2 style=\"direction:rtl;font-size: px;font-family: 'XB Zar';color:#0288d1;\">ارجاع به آرگومان‌های کلیدی</h2> <a id=''></a>"
   ]
  },
  {
   "cell_type": "markdown",
   "id": "af6a438f-8bec-4143-9e9b-7a9ae24a2b07",
   "metadata": {},
   "source": [
    "<div style=\"direction:rtl; font-size: 17px; font-family: 'XB Zar'; line-height: 200%\">با استفاده از \n",
    "    key\n",
    "    ها در \n",
    "     placeholder\n",
    "    می‌توانید آرگومان‌های کلیدی را ارجاع دهید:\n",
    "</div>"
   ]
  },
  {
   "cell_type": "code",
   "execution_count": null,
   "id": "f16188fd-367a-40e8-a424-c8302ea0cb98",
   "metadata": {},
   "outputs": [],
   "source": [
    "'{first} {last}'.format(first='Amanda', last='Gray')"
   ]
  },
  {
   "cell_type": "code",
   "execution_count": null,
   "id": "9e396667-7279-4598-93aa-a16e59f988e9",
   "metadata": {},
   "outputs": [],
   "source": [
    "'{last} {first}'.format(first='Amanda', last='Gray')"
   ]
  },
  {
   "cell_type": "markdown",
   "id": "ebbffd8e-6c7c-482a-957e-5b26e7887263",
   "metadata": {},
   "source": [
    "<h1 style=\"direction:rtl;font-size: 35px;font-family: 'XB Zar';color:#8e24aa;\">8.3 <span style=\"color:#F50057;\">الصاق و تکرار رشته‌ها</span></h1> <a id='8'></a>"
   ]
  },
  {
   "cell_type": "markdown",
   "id": "dd5f9f32-926d-438c-bd5e-0700d46d4dbc",
   "metadata": {},
   "source": [
    "<div style=\"direction:rtl; font-size: 17px; font-family: 'XB Zar'; line-height: 200%\">در فصل‌های قبلی از عملگر + برای اتصال رشته‌ها و از عملگر * برای تکرار رشته‌ها استفاده کردیم. علاوه‌براین می‌توانید این کارها را با عملگرهای مربوطه\n",
    "    و دستور انتساب \n",
    "    (augmented assignments)\n",
    "    انجام دهید. رشته‌ها \n",
    "    immutable\n",
    "    هستند، بنابراین هر عملگر، یک رشته جدید را به متغیر اختصاص می‌دهد:\n",
    "</div>"
   ]
  },
  {
   "cell_type": "code",
   "execution_count": null,
   "id": "a97c1613-244e-48a2-b4a4-31531ace811a",
   "metadata": {},
   "outputs": [],
   "source": [
    "s1 = 'happy'"
   ]
  },
  {
   "cell_type": "code",
   "execution_count": null,
   "id": "76f9a11c-1d99-47b5-8765-86e7a2091568",
   "metadata": {},
   "outputs": [],
   "source": [
    "s2 = 'birthday'"
   ]
  },
  {
   "cell_type": "code",
   "execution_count": null,
   "id": "e723e260-bb21-42a3-b9df-1a76787eb64a",
   "metadata": {},
   "outputs": [],
   "source": [
    "s1 += ' ' + s2"
   ]
  },
  {
   "cell_type": "code",
   "execution_count": null,
   "id": "31ecfdd2-2c07-4093-b278-eac9ede31d8c",
   "metadata": {},
   "outputs": [],
   "source": [
    "s1"
   ]
  },
  {
   "cell_type": "code",
   "execution_count": null,
   "id": "47243a33-4d79-409b-9281-d74babe7037a",
   "metadata": {},
   "outputs": [],
   "source": [
    "symbol = '>'"
   ]
  },
  {
   "cell_type": "code",
   "execution_count": null,
   "id": "763f02cb-fce7-45b9-8cdb-76f0d5b1e231",
   "metadata": {},
   "outputs": [],
   "source": [
    "symbol *= 5"
   ]
  },
  {
   "cell_type": "code",
   "execution_count": null,
   "id": "2b58b893-b4d9-4fd2-bc4b-cec43e6fcc16",
   "metadata": {},
   "outputs": [],
   "source": [
    "symbol"
   ]
  },
  {
   "cell_type": "markdown",
   "id": "f1e02016-bddb-45df-81fc-e6b3a6aae529",
   "metadata": {},
   "source": [
    "<h1 style=\"direction:rtl;font-size: 35px;font-family: 'XB Zar';color:#8e24aa;\">8.4 <span style=\"color:#F50057;\">حذف فضای خالی از رشته‌ها</span></h1> <a id='9'></a>"
   ]
  },
  {
   "cell_type": "markdown",
   "id": "67e887ce-140c-4a40-84f5-fcc200b800bc",
   "metadata": {},
   "source": [
    "<div style=\"direction:rtl; font-size: 17px; font-family: 'XB Zar'; line-height: 200%\">در رشته چندین متد برای از بین بردن فضای خالی از دو طرف یک رشته وجود دارد. هر یک از این متدها رشته جدیدی را برمی‌گرداند و تغییری در رشته اصلی ایجاد نمی‌کنند. رشته‌ها تغییرناپذیر هستند، بنابراین هر متدی که به نظر می‌رسد یک رشته را تغییر می‌دهد، در حقیقت یک رشته جدید را برمی‌گرداند.\n",
    "</div>"
   ]
  },
  {
   "cell_type": "markdown",
   "id": "7ea01181-73bc-471f-8714-04abc6cb0c86",
   "metadata": {},
   "source": [
    "<h2 style=\"direction:rtl;font-size: px;font-family: 'XB Zar';color:#0288d1;\">حذف فضای خالی از دو طرف رشته</h2> <a id=''></a>"
   ]
  },
  {
   "cell_type": "markdown",
   "id": "7a63707e-b1b4-4950-bd59-f6305994bc35",
   "metadata": {},
   "source": [
    "<div style=\"direction:rtl; font-size: 17px; font-family: 'XB Zar'; line-height: 200%\">در این قسمت با کمک متد \n",
    "     strip\n",
    "    فضاهای خالی از دوطرف یک رشته را حذف می‌کنیم:\n",
    "</div>"
   ]
  },
  {
   "cell_type": "code",
   "execution_count": null,
   "id": "a27836f6-c130-4491-9ca1-9e37e61f895a",
   "metadata": {},
   "outputs": [],
   "source": [
    "sentence = '\\t  \\n  This is a test string. \\t\\t \\n'"
   ]
  },
  {
   "cell_type": "code",
   "execution_count": null,
   "id": "536f2d17-38b7-4ec1-9667-25cf71782b80",
   "metadata": {},
   "outputs": [],
   "source": [
    "sentence.strip()"
   ]
  },
  {
   "cell_type": "markdown",
   "id": "888da50e-9658-4516-9db4-60db98e9934a",
   "metadata": {},
   "source": [
    "<h2 style=\"direction:rtl;font-size: px;font-family: 'XB Zar';color:#0288d1;\">حذف فضای خالی از ابتدای رشته</h2> <a id=''></a>"
   ]
  },
  {
   "cell_type": "markdown",
   "id": "b6625ae7-d0dd-4328-850a-e04d2ea4803f",
   "metadata": {},
   "source": [
    "<div style=\"direction:rtl; font-size: 17px; font-family: 'XB Zar'; line-height: 200%\">با متد\n",
    "    lstrip\n",
    "    فضاهای خالی را از ابتدای رشته حذف می‌کنیم:\n",
    "</div>"
   ]
  },
  {
   "cell_type": "code",
   "execution_count": null,
   "id": "b7381c43-dd59-436a-a53f-787d62765213",
   "metadata": {},
   "outputs": [],
   "source": [
    "sentence.lstrip()"
   ]
  },
  {
   "cell_type": "markdown",
   "id": "8a5f23dc-6474-467b-b83c-5f9e87b3856b",
   "metadata": {},
   "source": [
    "<h2 style=\"direction:rtl;font-size: px;font-family: 'XB Zar';color:#0288d1;\">حذف فضای خالی از انتهای رشته</h2> <a id=''></a>"
   ]
  },
  {
   "cell_type": "markdown",
   "id": "573be82a-83b6-4ae8-9280-322478ac30f2",
   "metadata": {},
   "source": [
    "<div style=\"direction:rtl; font-size: 17px; font-family: 'XB Zar'; line-height: 200%\">با متد\n",
    "    rstrip\n",
    "    فضاهای خالی را از انتهای رشته حذف می‌کنیم:\n",
    "</div>"
   ]
  },
  {
   "cell_type": "code",
   "execution_count": null,
   "id": "8719755b-8f35-4e35-bae2-5451876a3dda",
   "metadata": {},
   "outputs": [],
   "source": [
    "sentence.rstrip()"
   ]
  },
  {
   "cell_type": "markdown",
   "id": "2f95539b-7162-48d9-bb66-12216a35f635",
   "metadata": {},
   "source": [
    "<div style=\"direction:rtl; font-size: 17px; font-family: 'XB Zar'; line-height: 200%\">همان‌طور که خروجی‌ها نشان می‌دهند، این متدها انواع فضاهای خالی نظیر \n",
    "    space\n",
    "    ها، \n",
    "    newline\n",
    "    ها و \n",
    "    tab\n",
    "    ها را از بین می‌برند.\n",
    "</div>"
   ]
  },
  {
   "cell_type": "markdown",
   "id": "e253b917-dd87-4092-836c-85b11390fe62",
   "metadata": {},
   "source": [
    "<h1 style=\"direction:rtl;font-size: 35px;font-family: 'XB Zar';color:#8e24aa;\">8.5 <span style=\"color:#F50057;\">تغییر بزرگی و یا کوچکی حروف</span></h1> <a id='10'></a>"
   ]
  },
  {
   "cell_type": "markdown",
   "id": "b61d4b49-3a00-476c-8a9e-07b6c87b693d",
   "metadata": {},
   "source": [
    "<div style=\"direction:rtl; font-size: 17px; font-family: 'XB Zar'; line-height: 200%\">در فصل‌های قبلی، از متدهای \n",
    "    lower\n",
    "    و \n",
    "    upper\n",
    "    در رشته برای تبدیل تمامی کاراکترهای یک رشته به حروف کوچک یا حروف بزرگ استفاده کرده‌اید. با استفاده از متدهای \n",
    "    capitalize\n",
    "    و \n",
    "    title\n",
    "    می‌توانید اولین حرف یک رشته و یا اولین حرف تمامی کلمات یک رشته را به حرف بزرگ تغییر دهید.\n",
    "</div>"
   ]
  },
  {
   "cell_type": "markdown",
   "id": "477ae971-a27c-4681-bf78-0d6b2a825aed",
   "metadata": {},
   "source": [
    "<h2 style=\"direction:rtl;font-size: px;font-family: 'XB Zar';color:#0288d1;\">تبدیل اولین کاراکتر رشته به حرف بزرگ</h2> <a id=''></a>"
   ]
  },
  {
   "cell_type": "markdown",
   "id": "188f53ad-a410-42d4-8171-d6afda5c4bd9",
   "metadata": {},
   "source": [
    "<div style=\"direction:rtl; font-size: 17px; font-family: 'XB Zar'; line-height: 200%\">متد \n",
    "     capitalize\n",
    "    یک کپی از رشته اصلی تهیه می‌کند، سپس فقط اولین حرف آن را به حرف بزرگ تبدیل کرده و در انتها رشته جدید را برمی‌گرداند:\n",
    "</div>"
   ]
  },
  {
   "cell_type": "code",
   "execution_count": null,
   "id": "02ed93df-69b9-4166-81c0-cab610c7cc4d",
   "metadata": {},
   "outputs": [],
   "source": [
    "'happy birthday'.capitalize()"
   ]
  },
  {
   "cell_type": "markdown",
   "id": "8398e9c9-c341-4c93-8c68-6f450c7ea67b",
   "metadata": {},
   "source": [
    "<h2 style=\"direction:rtl;font-size: px;font-family: 'XB Zar';color:#0288d1;\">تبدیل اولین کاراکتر هر کلمه در رشته به حرف بزرگ</h2> <a id=''></a>"
   ]
  },
  {
   "cell_type": "markdown",
   "id": "3f6d5f71-c34d-4bc3-83d7-9ff7b866fa05",
   "metadata": {},
   "source": [
    "<div style=\"direction:rtl; font-size: 17px; font-family: 'XB Zar'; line-height: 200%\">متد \n",
    "    title\n",
    "    یک کپی از رشته اصلی تهیه می‌کند، سپس اولین حرف هر کلمه در رشته را به حرف بزرگ تبدیل کرده و در انتها رشته جدید را برمی‌گرداند:\n",
    "</div>"
   ]
  },
  {
   "cell_type": "code",
   "execution_count": null,
   "id": "06669515-ec1c-44e5-871c-c46b4a959a39",
   "metadata": {},
   "outputs": [],
   "source": [
    "'strings: a deeper look'.title()"
   ]
  },
  {
   "cell_type": "markdown",
   "id": "d6913f12-f338-4a89-b3fa-d83b204e2072",
   "metadata": {},
   "source": [
    "<h1 style=\"direction:rtl;font-size: 35px;font-family: 'XB Zar';color:#8e24aa;\">8.6 <span style=\"color:#F50057;\">عملگرهای مقایسه‌ای برای رشته‌ها</span></h1> <a id='11'></a>"
   ]
  },
  {
   "cell_type": "markdown",
   "id": "27a05080-7ad2-4a47-a1e9-2708cfe39663",
   "metadata": {},
   "source": [
    "<div style=\"direction:rtl; font-size: 17px; font-family: 'XB Zar'; line-height: 200%\">با استفاده از عملگرهای مقایسه می‌توان رشته‌ها را مقایسه کرد. به یاد بیاورید که رشته‌ها بر اساس مقادیر صحیح عددی آن‌ها مقایسه می‌شوند. حروف بزرگ از حروف کوچک، کمتر هستند؛ به دلیل آن‌که حروف بزرگ مقادیر عددی کمتری دارند. به عنوان مثال، کد کاراکتر \n",
    "    a\n",
    "    برابر ۹۷ و کد کاراکتر \n",
    "    A\n",
    "    برابر ۶۵ است. همانطوری‌که قبلا هم مشاهده کرده‌اید با تابع \n",
    "    ord\n",
    "    می‌توان کد هر کاراکتر را مشخص کرد:\n",
    "</div>"
   ]
  },
  {
   "cell_type": "code",
   "execution_count": null,
   "id": "17816770-af23-45bc-9a85-d9b6ed623696",
   "metadata": {},
   "outputs": [],
   "source": [
    "print(f'A: {ord(\"A\")}; a: {ord(\"a\")}')"
   ]
  },
  {
   "cell_type": "markdown",
   "id": "fe3811c2-a68a-4dd8-b87a-394935327eb6",
   "metadata": {},
   "source": [
    "<div style=\"direction:rtl; font-size: 17px; font-family: 'XB Zar'; line-height: 200%\">کد زیر با استفاده از عملگرهای مقایسه، دو رشته \n",
    "    'Orange'\n",
    "    و \n",
    "    'orange'\n",
    "    را با یکدیگر مقایسه می‌کند:\n",
    "</div>"
   ]
  },
  {
   "cell_type": "code",
   "execution_count": null,
   "id": "7afeab2b-62dd-4dcb-a3d4-cd1f5c6f14b9",
   "metadata": {},
   "outputs": [],
   "source": [
    "'Orange' == 'orange'"
   ]
  },
  {
   "cell_type": "code",
   "execution_count": null,
   "id": "2e15163b-5d6e-4563-abf2-efd45afe214b",
   "metadata": {},
   "outputs": [],
   "source": [
    "'Orange' != 'orange'"
   ]
  },
  {
   "cell_type": "code",
   "execution_count": null,
   "id": "9668e5d5-21e4-4954-868d-48eab3d956cd",
   "metadata": {},
   "outputs": [],
   "source": [
    "'Orange' < 'orange'"
   ]
  },
  {
   "cell_type": "code",
   "execution_count": null,
   "id": "9103ca59-ddee-4525-ac65-f6fa636074b7",
   "metadata": {},
   "outputs": [],
   "source": [
    "'Orange' <= 'orange'"
   ]
  },
  {
   "cell_type": "code",
   "execution_count": null,
   "id": "28a1f0f9-1564-4e38-91a1-6718cab06ee1",
   "metadata": {},
   "outputs": [],
   "source": [
    "'Orange' > 'orange'"
   ]
  },
  {
   "cell_type": "code",
   "execution_count": null,
   "id": "0b173718-c607-4991-83b8-f9ec30a0e712",
   "metadata": {},
   "outputs": [],
   "source": [
    "'Orange' >= 'orange'"
   ]
  },
  {
   "cell_type": "markdown",
   "id": "0e2520d7-633e-41b4-b513-a473578578db",
   "metadata": {},
   "source": [
    "<h1 style=\"direction:rtl;font-size: 35px;font-family: 'XB Zar';color:#8e24aa;\">8.7 <span style=\"color:#F50057;\">جست‌وجو برای زیررشته‌ها</span></h1> <a id='12'></a>"
   ]
  },
  {
   "cell_type": "markdown",
   "id": "a34ecb14-ba37-4bae-bad9-b1d61ac93ee0",
   "metadata": {},
   "source": [
    "<div style=\"direction:rtl; font-size: 17px; font-family: 'XB Zar'; line-height: 200%\">یک یا چند کاراکتر مجاور در یک رشته، زیررشته نامیده می‌شود. در این قسمت می‌توانید تعداد دفعات وجود یک زیررشته را شمارش کنید، می‌توانید تعیین کنید آیا رشته حاوی یک زیررشته می‌باشد و یا اندیسی که زیررشته در آن قرار دارد را تعیین کنید. تمامی متدهایی که در این بخش نشان داده شده‌اند، کاراکترها را با استفاده از مقادیرعددی و از لحاظ لغوی مقایسه می‌کنند.\n",
    "</div>"
   ]
  },
  {
   "cell_type": "markdown",
   "id": "6fd7d7ac-c0e3-492d-a721-f562417236a4",
   "metadata": {},
   "source": [
    "<h2 style=\"direction:rtl;font-size: px;font-family: 'XB Zar';color:#0288d1;\">شمارش دفعات تکرار یک زیررشته</h2> <a id=''></a>"
   ]
  },
  {
   "cell_type": "markdown",
   "id": "6d02513f-af77-4db3-83f2-161ea6a8e157",
   "metadata": {},
   "source": [
    "<div style=\"direction:rtl; font-size: 17px; font-family: 'XB Zar'; line-height: 200%\">متد \n",
    "    count\n",
    "    تعداد دفعات تکرار آرگومان خود در رشته‌ای که این متد را فراخوانی کرده، برمی‌گرداند:\n",
    "</div>"
   ]
  },
  {
   "cell_type": "code",
   "execution_count": null,
   "id": "d0891cb0-8c4d-4dd4-ba80-0915ab076361",
   "metadata": {},
   "outputs": [],
   "source": [
    "sentence = 'to be or not to be that is the question'"
   ]
  },
  {
   "cell_type": "code",
   "execution_count": null,
   "id": "0df2fe61-90da-49be-9964-de81e00fbc7a",
   "metadata": {},
   "outputs": [],
   "source": [
    "sentence.count('to')"
   ]
  },
  {
   "cell_type": "markdown",
   "id": "80317d92-3e4c-4fe4-89de-562339503e41",
   "metadata": {},
   "source": [
    "<div style=\"direction:rtl; font-size: 17px; font-family: 'XB Zar'; line-height: 200%\">اگر \n",
    "    start_index\n",
    "    را به عنوان آرگومان دوم وارد کنید، متد \n",
    "    count\n",
    "    جست‌وجو را در برش \n",
    "    string[start_index:]\n",
    "    انجام می‌دهد، یعنی از اندیس \n",
    "    start_index\n",
    "    تا انتهای رشته:\n",
    "</div>"
   ]
  },
  {
   "cell_type": "code",
   "execution_count": null,
   "id": "7f1098f7-a7e6-4abe-a561-5bfc33acc114",
   "metadata": {},
   "outputs": [],
   "source": [
    "sentence.count('to', 12)"
   ]
  },
  {
   "cell_type": "markdown",
   "id": "48e0f988-ef51-47e5-a945-58cb103f01f0",
   "metadata": {},
   "source": [
    "<div style=\"direction:rtl; font-size: 17px; font-family: 'XB Zar'; line-height: 200%\">اگر \n",
    "    start_index\n",
    "    و \n",
    "    end_index\n",
    "    را به عنوان آرگومان دوم و سوم وارد کنید، متد \n",
    "    count\n",
    "    جست‌وجو را در برش \n",
    "    string[start_index:end_index]\n",
    "    انجام می‌دهد، یعنی از اندیس \n",
    "    start_index\n",
    "    تا یک اندیس کمتر از \n",
    "    end_index\n",
    "    :\n",
    "</div>"
   ]
  },
  {
   "cell_type": "code",
   "execution_count": null,
   "id": "abb671a7-42b9-4140-8773-c4e2c9477079",
   "metadata": {},
   "outputs": [],
   "source": [
    "sentence.count('that', 12, 25)"
   ]
  },
  {
   "cell_type": "markdown",
   "id": "cea0becf-e71d-4274-bdb8-f532fcc76272",
   "metadata": {},
   "source": [
    "<div style=\"direction:rtl; font-size: 17px; font-family: 'XB Zar'; line-height: 200%\">تمام متدهای رشته که در این قسمت ارائه شده‌اند همانند متد \n",
    "    count\n",
    "    دارای آرگومان‌های \n",
    "    start_index\n",
    "    و \n",
    "    end_index\n",
    "    هستند. این دو آرگومان برای جست‌وجو در قسمتی از رشته اصلی به کار می‌روند.\n",
    "</div>"
   ]
  },
  {
   "cell_type": "markdown",
   "id": "89ae405b-a442-4c76-acee-097c0630e543",
   "metadata": {},
   "source": [
    "<h2 style=\"direction:rtl;font-size: px;font-family: 'XB Zar';color:#0288d1;\">تعیین اندیس یک زیررشته در رشته</h2> <a id=''></a>"
   ]
  },
  {
   "cell_type": "markdown",
   "id": "d00a661c-5bbe-49fd-bbdb-2d4f3f1e9964",
   "metadata": {},
   "source": [
    "<div style=\"direction:rtl; font-size: 17px; font-family: 'XB Zar'; line-height: 200%\">متد \n",
    "    index\n",
    "    یک زیررشته را در رشته جست‌وجو می‌کند و اولین اندیس پیدا شدن زیررشته را برمی‌گرداند. در صورت پیدا نشدن زیررشته، یک خطای \n",
    "    ValueError\n",
    "    رخ می‌دهد:\n",
    "</div>"
   ]
  },
  {
   "cell_type": "code",
   "execution_count": null,
   "id": "6079a4ae-ac62-4b07-8b84-a450b1b95467",
   "metadata": {},
   "outputs": [],
   "source": [
    "sentence.index('be')"
   ]
  },
  {
   "cell_type": "markdown",
   "id": "78df7e88-b13d-43c9-8429-cc42af439f9a",
   "metadata": {},
   "source": [
    "<div style=\"direction:rtl; font-size: 17px; font-family: 'XB Zar'; line-height: 200%\">متد \n",
    "    rindex\n",
    "    شبیه متد \n",
    "    index\n",
    "    عمل می‌کند اما عمل جست‌وجوی زیررشته را از انتهای رشته انجام می‌دهد و آخرین پیدا شدن زیررشته را برمی‌گرداند. در صورت پیدا نشدن زیررشته، یک خطای \n",
    "    ValueError\n",
    "    رخ می‌دهد:\n",
    "</div>"
   ]
  },
  {
   "cell_type": "code",
   "execution_count": null,
   "id": "7864309f-0a9b-482a-9c8b-dd62c90951a4",
   "metadata": {},
   "outputs": [],
   "source": [
    "sentence.rindex('be')"
   ]
  },
  {
   "cell_type": "markdown",
   "id": "dcdc0759-90b0-4661-8954-a0a451e30b6d",
   "metadata": {},
   "source": [
    "<div style=\"direction:rtl; font-size: 17px; font-family: 'XB Zar'; line-height: 200%\">متدهای رشته‌ای \n",
    "    find\n",
    "    و \n",
    "    rfind\n",
    "    همان وظایف \n",
    "    index\n",
    "    و \n",
    "    rindex\n",
    "    را انجام می‌دهند اما در صورت پیدا نشدن زیررشته به جای بروز خطای \n",
    "     ValueError\n",
    "    مقدار ۱- را برمی‌گردانند.\n",
    "</div>"
   ]
  },
  {
   "cell_type": "markdown",
   "id": "a1059819-facf-4179-97cc-e048384803cb",
   "metadata": {},
   "source": [
    "<h2 style=\"direction:rtl;font-size: px;font-family: 'XB Zar';color:#0288d1;\">تعیین آن‌که یک رشته حاوی زیررشته هست و یا خیر</h2> <a id=''></a>"
   ]
  },
  {
   "cell_type": "markdown",
   "id": "eaa572a2-88fb-42c3-ac05-d2fb2e0a9ea9",
   "metadata": {},
   "source": [
    "<div style=\"direction:rtl; font-size: 17px; font-family: 'XB Zar'; line-height: 200%\">اگر فقط باید بدانید که آیا یک رشته حاوی یک زیررشته هست و یا خیر، از عملگرهای \n",
    "    in\n",
    "    و \n",
    "    not in\n",
    "    استفاده کنید:\n",
    "</div>"
   ]
  },
  {
   "cell_type": "code",
   "execution_count": null,
   "id": "def736b6-0420-4200-8a2b-9b021c05b323",
   "metadata": {},
   "outputs": [],
   "source": [
    "'that' in sentence"
   ]
  },
  {
   "cell_type": "code",
   "execution_count": null,
   "id": "d6b6dc42-fc6d-4b1f-8334-eba44552a0e7",
   "metadata": {},
   "outputs": [],
   "source": [
    "'THAT' in sentence"
   ]
  },
  {
   "cell_type": "code",
   "execution_count": null,
   "id": "7d990957-d0f9-4c27-aab0-9924c71b34c3",
   "metadata": {},
   "outputs": [],
   "source": [
    "'THAT' not in sentence"
   ]
  },
  {
   "cell_type": "markdown",
   "id": "61a5dd52-f020-4686-9a25-7c894a405e11",
   "metadata": {},
   "source": [
    "<h2 style=\"direction:rtl;font-size: px;font-family: 'XB Zar';color:#0288d1;\">پیدا کردن یک زیررشته در ابتدا یا انتهای یک رشته</h2> <a id=''></a>"
   ]
  },
  {
   "cell_type": "markdown",
   "id": "2166c100-3b49-4fa6-94dd-79ce9f511f4a",
   "metadata": {},
   "source": [
    "<div style=\"direction:rtl; font-size: 17px; font-family: 'XB Zar'; line-height: 200%\">اگر یک رشته با زیررشته مشخصی شروع شود و یا پایان یابد دو متد \n",
    "    startswith\n",
    "    و \n",
    "    endswith\n",
    "    در رشته مقدار \n",
    "    True\n",
    "    برمی‌گردانند:\n",
    "</div>"
   ]
  },
  {
   "cell_type": "code",
   "execution_count": null,
   "id": "32197b98-0d02-42ea-b2ab-894914c83858",
   "metadata": {},
   "outputs": [],
   "source": [
    "sentence.startswith('to')"
   ]
  },
  {
   "cell_type": "code",
   "execution_count": null,
   "id": "5fbdca89-96d9-4e81-8020-506919d1f590",
   "metadata": {},
   "outputs": [],
   "source": [
    "sentence.startswith('be')"
   ]
  },
  {
   "cell_type": "code",
   "execution_count": null,
   "id": "a6f94ce8-8e2a-4b7d-aef9-53f36a77882d",
   "metadata": {},
   "outputs": [],
   "source": [
    "sentence.endswith('question')"
   ]
  },
  {
   "cell_type": "code",
   "execution_count": null,
   "id": "575c5102-fcf7-4955-9910-935842ad91be",
   "metadata": {},
   "outputs": [],
   "source": [
    "sentence.endswith('quest')"
   ]
  },
  {
   "cell_type": "markdown",
   "id": "f565c9bc-87cd-427d-899b-eff05f17bccb",
   "metadata": {},
   "source": [
    "<h1 style=\"direction:rtl;font-size: 35px;font-family: 'XB Zar';color:#8e24aa;\">8.8 <span style=\"color:#F50057;\">جایگزین کردن زیررشته‌ها</span></h1> <a id='13'></a>"
   ]
  },
  {
   "cell_type": "markdown",
   "id": "5b4d5ba2-fd61-48b9-8f4b-97160d93fdcc",
   "metadata": {},
   "source": [
    "<div style=\"direction:rtl; font-size: 17px; font-family: 'XB Zar'; line-height: 200%\">یک روش معمول تغییر در متن، یافتن یک زیررشته و جایگزین کردن آن با یک مقدار دیگر است. متد \n",
    "    replace\n",
    "    دو زیررشته را می‌گیرد. این متد، اولین آرگومان خود را در رشته جست‌وجو می‌کند و در هر زمان که عمل جست‌وجو موفقیت‌آمیز بود، آرگومان دوم خود را در رشته جایگزین می‌کند. متد \n",
    "    replace\n",
    "    نتیجه را به صورت یک رشته جدید برمی‌گرداند. در کد زیر کاراکترهای \n",
    "     tab\n",
    "    را با کاما جایگزین می‌کنیم:\n",
    "</div>"
   ]
  },
  {
   "cell_type": "code",
   "execution_count": null,
   "id": "62d2605f-cfb4-4c08-803f-2536cb83a635",
   "metadata": {},
   "outputs": [],
   "source": [
    "values = '1\\t2\\t3\\t4\\t5'"
   ]
  },
  {
   "cell_type": "code",
   "execution_count": null,
   "id": "797a3405-2f0b-457e-b2cc-4a607c77986e",
   "metadata": {},
   "outputs": [],
   "source": [
    "values.replace('\\t', ',')"
   ]
  },
  {
   "cell_type": "markdown",
   "id": "b7888916-1353-47a7-94c8-344bae3fb708",
   "metadata": {},
   "source": [
    "<div style=\"direction:rtl; font-size: 17px; font-family: 'XB Zar'; line-height: 200%\">علاوه‌براین متد \n",
    "    replace\n",
    "    می‌تواند یک آرگومان سوم اختیاری دریافت کند. این آرگومان حداکثر دفعات جایگزینی را مشخص می‌کند.\n",
    "</div>"
   ]
  },
  {
   "cell_type": "markdown",
   "id": "75043f1d-4056-422e-a76c-3da63e79c4a9",
   "metadata": {},
   "source": [
    "<h1 style=\"direction:rtl;font-size: 35px;font-family: 'XB Zar';color:#8e24aa;\">8.9 <span style=\"color:#F50057;\">تفکیک و اتصال رشته‌ها</span></h1> <a id='14'></a>"
   ]
  },
  {
   "cell_type": "markdown",
   "id": "b641c481-2307-4d49-9ed4-3ea626dff650",
   "metadata": {},
   "source": [
    "<div style=\"direction:rtl; font-size: 17px; font-family: 'XB Zar'; line-height: 200%\">وقتی جمله‌ای را می‌خوانید، مغز شما آن جمله را به کلمات یا توکن‌های جداگانه تقسیم می‌کند و به هر یک از آن‌ها معنا می‌دهد. مفسرهایی مانند \n",
    "    IPython\n",
    "    دستورات را به توکن تبدیل می‌کنند و آن‌ها را به اجزای جداگانه‌ای مانند کلمات کلیدی، شناسه‌ها، عملگرها و سایر اجزای زبان برنامه نویسی تقسیم می‌کنند. معمولا توکن‌ها با کاراکترهای فضای خالی مانند \n",
    "    blank, tab \n",
    "    و \n",
    "    newline\n",
    "    از هم جدا می‌شوند ولی ممکن است برای این کار از کاراکترهای دیگری که به عنوان جداکننده شناخته می‌شوند، استفاده کنند.\n",
    "</div>"
   ]
  },
  {
   "cell_type": "markdown",
   "id": "ae53be4e-57bf-4640-a066-1d6b97f9ac1c",
   "metadata": {},
   "source": [
    "<h2 style=\"direction:rtl;font-size: px;font-family: 'XB Zar';color:#0288d1;\">تفکیک کردن رشته‌ها</h2> <a id=''></a>"
   ]
  },
  {
   "cell_type": "markdown",
   "id": "17b2f7b0-ca87-4753-a9a1-1884840f50b4",
   "metadata": {},
   "source": [
    "<div style=\"direction:rtl; font-size: 17px; font-family: 'XB Zar'; line-height: 200%\">قبلا نشان دادیم که \n",
    "    split\n",
    "    در رشته بدون هیچ آرگومانی، یک رشته را در موقعیت کاراکترهای فضای خالی، به چند زیررشته تقسیم می‌کند و سپس لیستی از توکن‌ها را برمی‌گرداند. برای تقسیم یک رشته با یک جداکننده دلخواه مانند جفت کاما و فاصله، رشته جداکننده را برای تابع \n",
    "    split\n",
    "    مشخص کنید:\n",
    "</div>"
   ]
  },
  {
   "cell_type": "code",
   "execution_count": null,
   "id": "c5926ec4-1436-466e-bf3c-427b0160c095",
   "metadata": {},
   "outputs": [],
   "source": [
    "letters = 'A, B, C, D'"
   ]
  },
  {
   "cell_type": "code",
   "execution_count": null,
   "id": "94e31f64-bca0-45fe-8480-29d880c48222",
   "metadata": {},
   "outputs": [],
   "source": [
    "letters.split(', ')"
   ]
  },
  {
   "cell_type": "markdown",
   "id": "fbfa07d0-e84b-45a5-abfe-0dda2c2f7580",
   "metadata": {},
   "source": [
    "<div style=\"direction:rtl; font-size: 17px; font-family: 'XB Zar'; line-height: 200%\">اگر یک عدد صحیح را به عنوان آرگومان دوم تخصیص دهید، حداکثر تعداد تقسیم‌ها را مشخص می‌کند. پس از تقسیم رشته اصلی به تعداد آرگومان دوم، مابقی رشته در آخرین توکن قرار می‌گیرند:\n",
    "</div>"
   ]
  },
  {
   "cell_type": "code",
   "execution_count": null,
   "id": "c7f8eb4a-c811-4d5c-b8fa-b407c15f71f5",
   "metadata": {},
   "outputs": [],
   "source": [
    "letters.split(', ', 2)"
   ]
  },
  {
   "cell_type": "markdown",
   "id": "c7f8091d-6a92-48e4-9ddd-4df69063b784",
   "metadata": {},
   "source": [
    "<div style=\"direction:rtl; font-size: 17px; font-family: 'XB Zar'; line-height: 200%\">همچنین یک متد به نام \n",
    "    rsplit\n",
    "    وجود دارد که همان وظیفه \n",
    "    split\n",
    "    را انجام می‌دهد اما حداکثر تعداد تقسیم‌ها را از انتهای رشته به سمت ابتدای رشته پردازش می‌کند.\n",
    "</div>"
   ]
  },
  {
   "cell_type": "markdown",
   "id": "2985452b-6513-4b90-9e2d-d36777b6923b",
   "metadata": {},
   "source": [
    "<h2 style=\"direction:rtl;font-size: px;font-family: 'XB Zar';color:#0288d1;\">اتصال رشته‌ها</h2> <a id=''></a>"
   ]
  },
  {
   "cell_type": "markdown",
   "id": "91cfca26-3e57-4010-a2e7-f335b9c60277",
   "metadata": {},
   "source": [
    "<div style=\"direction:rtl; font-size: 17px; font-family: 'XB Zar'; line-height: 200%\">متد \n",
    "    join\n",
    "    رشته‌های موجود در آرگومان خود را به یکدیگر متصل می‌کند. این آرگومان باید یک داده از نوع \n",
    "    iterable\n",
    "    بوده و فقط از مقادیر رشته‌ای تشکیل شود، در غیر این صورت، یک خطای \n",
    "     TypeError\n",
    "    رخ می‌دهد. جداکننده بین آرگومان‌ها، همان رشته‌ای است که متد \n",
    "    join\n",
    "    را برای آن فراخوانی کرده‌اید. کد زیر از مقادیر یک لیست که با کاما از یکدیگر جدا شده‌اند، یک رشته تولید می‌کند:\n",
    "</div>"
   ]
  },
  {
   "cell_type": "code",
   "execution_count": null,
   "id": "699ffd99-c0d9-42a5-b78d-37415933f1e4",
   "metadata": {},
   "outputs": [],
   "source": [
    "letters_list = ['A', 'B', 'C', 'D']"
   ]
  },
  {
   "cell_type": "code",
   "execution_count": null,
   "id": "e140557e-11be-44d8-93e4-d22b7cc67b54",
   "metadata": {},
   "outputs": [],
   "source": [
    "','.join(letters_list)"
   ]
  },
  {
   "cell_type": "markdown",
   "id": "e95a20ff-856e-4149-aead-3e616a033b9e",
   "metadata": {},
   "source": [
    "<div style=\"direction:rtl; font-size: 17px; font-family: 'XB Zar'; line-height: 200%\">کد زیر در ابتدا با روش \n",
    "    list comprehension\n",
    "    یک لیست از داده‌های رشته‌ای ایجاد می‌کند و سپس با متد \n",
    "    join\n",
    "    اجزای این لیست را به یکدیگر متصل می‌کند:\n",
    "</div>"
   ]
  },
  {
   "cell_type": "code",
   "execution_count": null,
   "id": "029d2141-9cdc-4e31-889c-203e79089f28",
   "metadata": {},
   "outputs": [],
   "source": [
    "','.join([str(i) for i in range(10)])"
   ]
  },
  {
   "cell_type": "markdown",
   "id": "6084adcd-b96e-48e0-aaf7-6a84065e4481",
   "metadata": {},
   "source": [
    "<div style=\"direction:rtl; font-size: 17px; font-family: 'XB Zar'; line-height: 200%\">در فصل فایل‌ها و استثناها، با نحوه کار با فایل‌هایی که حاوی مقادیر جداشده با کاما هستند، آشنا خواهید شد. این فایل‌ها به عنوان فایل‌های\n",
    "    CSV\n",
    "    شناخته می‌شوند و یک فرمت رایج برای ذخیره داده‌هایی هستند که توسط برنامه‌های \n",
    "    spreadsheet\n",
    "    مانند \n",
    "    Microsoft Excel\n",
    "    یا \n",
    "    Google Sheets\n",
    "    قابل بارگذاری هستند. در بخش‌های مطالعه موردی در خصوص علم داده، خواهید دید که بسیاری از کتابخانه‌های کلیدی، مانند \n",
    "    NumPy, Pandas \n",
    "    و\n",
    "    Seaborn\n",
    "    قابلیت‌های داخلی برای کار با داده‌های \n",
    "    CSV\n",
    "    را فراهم می‌کنند.\n",
    "</div>"
   ]
  },
  {
   "cell_type": "markdown",
   "id": "5fda2762-8408-4fe1-a54e-2b88707a1db6",
   "metadata": {},
   "source": [
    "<h2 style=\"direction:rtl;font-size: px;font-family: 'XB Zar';color:#0288d1;\">متدهای \n",
    "    partition\n",
    "    و \n",
    "    rpartition\n",
    "    در رشته‌ها</h2> <a id=''></a>"
   ]
  },
  {
   "cell_type": "markdown",
   "id": "1697e755-d736-435a-ba11-0ca42e77ef34",
   "metadata": {},
   "source": [
    "<div style=\"direction:rtl; font-size: 17px; font-family: 'XB Zar'; line-height: 200%\">متد \n",
    "    partition\n",
    "    در رشته بر اساس آرگومان جداکننده خود، یک رشته را به یک تاپل تقسیم می‌کند. این تاپل حاوی سه رشته به شرح زیر می‌باشد:\n",
    "</div>"
   ]
  },
  {
   "cell_type": "markdown",
   "id": "80479181-44fd-4d03-ab92-9e3dd7d005cc",
   "metadata": {},
   "source": [
    "<div style=\"direction:rtl; font-size: 17px; font-family: 'XB Zar'; line-height: 200%\">\n",
    "    <span style=\"color:#8e24aa;\">• </span>قسمتی از رشته اصلی قبل از جداکننده<br>\n",
    "    <span style=\"color:#8e24aa;\">• </span>خود جداکننده<br>\n",
    "    <span style=\"color:#8e24aa;\">• </span>قسمتی از رشته اصلی بعد از جداکننده<br>\n",
    "\n",
    "</div>"
   ]
  },
  {
   "cell_type": "markdown",
   "id": "4e156f18-4168-4d19-8ac3-f9b32baed4fd",
   "metadata": {},
   "source": [
    "<div style=\"direction:rtl; font-size: 17px; font-family: 'XB Zar'; line-height: 200%\">این متد برای تقسیم رشته‌های پیچیده مفید است. رشته‌ای را در نظر بگیرید که نشان‌دهنده نام و نمرات یک دانش‌آموز است:\n",
    "</div>"
   ]
  },
  {
   "cell_type": "markdown",
   "id": "b010b139-08f1-4676-b682-499ade26f8c2",
   "metadata": {},
   "source": [
    "```Python\n",
    "'Amanda: 89, 97, 92'\n",
    "```"
   ]
  },
  {
   "cell_type": "markdown",
   "id": "51573f5c-a69a-4715-b3d9-31d440f848e1",
   "metadata": {},
   "source": [
    "<div style=\"direction:rtl; font-size: 17px; font-family: 'XB Zar'; line-height: 200%\">کد زیر رشته اصلی را به نام دانش‌آموز، جداکننده \n",
    "    ' :'\n",
    "    و رشته‌ای حاوی لیست نمرات تقسیم می‌کند:\n",
    "</div>"
   ]
  },
  {
   "cell_type": "code",
   "execution_count": null,
   "id": "c51d7eb7-422d-4203-8b1f-5e82bb6bf0d2",
   "metadata": {},
   "outputs": [],
   "source": [
    "'Amanda: 89, 97, 92'.partition(': ')"
   ]
  },
  {
   "cell_type": "markdown",
   "id": "55d9862e-8db0-413b-8594-f64b82f5bdac",
   "metadata": {},
   "source": [
    "<div style=\"direction:rtl; font-size: 17px; font-family: 'XB Zar'; line-height: 200%\">برای جست‌وجوی جداکننده و عمل جداکردن از انتهای رشته، از متد \n",
    "    rpartition\n",
    "    استفاده کنید. به عنوان مثال، رشته \n",
    "    URL\n",
    "    زیر را درنظر بگیرید:\n",
    "    <br>\n",
    "    <a href=\"http://www.deitel.com/books/PyCDS/table_of_contents.html\">'http://www.deitel.com/books/PyCDS/table_of_contents.html'</a>\n",
    "</div>"
   ]
  },
  {
   "cell_type": "markdown",
   "id": "e8704c1e-e1ae-4064-8079-a5be47e3b327",
   "metadata": {},
   "source": [
    "<div style=\"direction:rtl; font-size: 17px; font-family: 'XB Zar'; line-height: 200%\">کد زیر با متد \n",
    "    rpartition\n",
    "    رشته \n",
    "    'table_of_contents.html'\n",
    "    را از مابقی \n",
    "    URL\n",
    "    جدا می‌کند:\n",
    "</div>"
   ]
  },
  {
   "cell_type": "code",
   "execution_count": null,
   "id": "e9535dd2-b59b-40b6-85a7-8312635d322c",
   "metadata": {},
   "outputs": [],
   "source": [
    "url = 'http://www.deitel.com/books/PyCDS/table_of_contents.html'"
   ]
  },
  {
   "cell_type": "code",
   "execution_count": null,
   "id": "1b0b4f42-9efa-4890-b27e-fb74d9333e91",
   "metadata": {},
   "outputs": [],
   "source": [
    "rest_of_url, separator, document = url.rpartition('/')"
   ]
  },
  {
   "cell_type": "code",
   "execution_count": null,
   "id": "a46515c5-060a-4038-aa67-3fe2647acd44",
   "metadata": {},
   "outputs": [],
   "source": [
    "document"
   ]
  },
  {
   "cell_type": "code",
   "execution_count": null,
   "id": "f02c82bb-08ae-4af0-8ba7-52a336c1cd18",
   "metadata": {},
   "outputs": [],
   "source": [
    "rest_of_url"
   ]
  },
  {
   "cell_type": "markdown",
   "id": "c9d281c0-c757-4012-9779-afb2fea74eb3",
   "metadata": {},
   "source": [
    "<h2 style=\"direction:rtl;font-size: px;font-family: 'XB Zar';color:#0288d1;\">متد \n",
    "    splitlines\n",
    "    در رشته‌ها</h2> <a id=''></a>"
   ]
  },
  {
   "cell_type": "markdown",
   "id": "9f4fdc4e-29cf-41fc-8d23-c5bb2a204e9c",
   "metadata": {},
   "source": [
    "<div style=\"direction:rtl; font-size: 17px; font-family: 'XB Zar'; line-height: 200%\">در فصل فایل‌ها و استثناها متنی را از یک فایل خواهید خواند. اگر متن بزرگی را به صورت یک رشته بخوانید، ممکن است بخواهید بر اساس کاراکترهای \n",
    "    newline\n",
    "    رشته را به لیستی از خطوط تقسیم کنید. متد \n",
    "    splitlines\n",
    "    لیستی از رشته‌های جدید را برمی‌گرداند. هر رشته در این لیست معرف یک خط از رشته اصلی است که در موقعیت کاراکتر \n",
    "    newline\n",
    "    در این رشته شکسته شده است. به یاد داشته باشید که مطابق اسنیپت [۱۳]، پایتون رشته‌های چندخطی را با کاراکترهای \n",
    "    newline\n",
    "    تعبیه شده ذخیره می‌کند:\n",
    "</div>"
   ]
  },
  {
   "cell_type": "code",
   "execution_count": null,
   "id": "8959ad13-6465-475b-9b24-a76183d3df6d",
   "metadata": {},
   "outputs": [],
   "source": [
    "lines = \"\"\"This is line 1\n",
    "This is line2\n",
    "This is line3\"\"\""
   ]
  },
  {
   "cell_type": "code",
   "execution_count": null,
   "id": "dff175d7-bb31-4bc6-8fb8-fb2850e3fadb",
   "metadata": {},
   "outputs": [],
   "source": [
    "lines"
   ]
  },
  {
   "cell_type": "code",
   "execution_count": null,
   "id": "7f09a15d-7d00-4310-ba1e-9e0fa822364f",
   "metadata": {},
   "outputs": [],
   "source": [
    "lines.splitlines()"
   ]
  },
  {
   "cell_type": "markdown",
   "id": "a023031d-1714-470b-a938-e3d966a400e0",
   "metadata": {},
   "source": [
    "<div style=\"direction:rtl; font-size: 17px; font-family: 'XB Zar'; line-height: 200%\">ارسال مقدار \n",
    "    True\n",
    "    به متد \n",
    "    splitlines\n",
    "    باعث حفظ کاراکتر \n",
    "    newline\n",
    "    در انتهای هر رشته می‌شود:\n",
    "</div>"
   ]
  },
  {
   "cell_type": "code",
   "execution_count": null,
   "id": "dbeca410-893c-45e7-8a74-b576641c76b2",
   "metadata": {},
   "outputs": [],
   "source": [
    "lines.splitlines(True)"
   ]
  },
  {
   "cell_type": "markdown",
   "id": "384d67da-4c38-4723-8a5f-4c6e9201e3c6",
   "metadata": {},
   "source": [
    "<h1 style=\"direction:rtl;font-size: 35px;font-family: 'XB Zar';color:#8e24aa;\">8.10 <span style=\"color:#F50057;\">متدهای مربوط به کاراکترها</span></h1> <a id='15'></a>"
   ]
  },
  {
   "cell_type": "markdown",
   "id": "244204e5-743d-4611-af5b-98a5a551e6e5",
   "metadata": {},
   "source": [
    "<div style=\"direction:rtl; font-size: 17px; font-family: 'XB Zar'; line-height: 200%\">در بسیاری از زبان‌های برنامه‌نویسی رشته‌ها و کاراکترها نوع داده‌های متفاوتی محسوب می‌شوند. در پایتون، یک کاراکتر به سادگی یک رشته تک کاراکتری است. در پایتون متدهای رشته‌ای مختلفی برای آزمایش انطباق یک رشته با ویژگی‌های خاص وجود دارد. به عنوان مثال متد \n",
    "    isdigit\n",
    "    زمانی مقدار \n",
    "    True\n",
    "    برمی‌گرداند که رشته‌ای آن را فراخوانی کرده، فقط شامل کاراکترهای رقمی (۰ - ۹) باشد. ممکن است برای مواردی که ورودی کاربر باید فقط از ارقام تشکیل شده باشد، این متد برای اعتبارسنجی ورودی کاربر به کار می‌رود:\n",
    "</div>"
   ]
  },
  {
   "cell_type": "code",
   "execution_count": null,
   "id": "7e6e634e-25a1-4d19-9b35-33a34118e567",
   "metadata": {},
   "outputs": [],
   "source": [
    "'-27'.isdigit()"
   ]
  },
  {
   "cell_type": "code",
   "execution_count": null,
   "id": "0a9f4343-6919-4389-98b5-ef98292e007e",
   "metadata": {},
   "outputs": [],
   "source": [
    "'27'.isdigit()"
   ]
  },
  {
   "cell_type": "markdown",
   "id": "0bb569cf-d11e-403c-b1a3-b62b06be8ad9",
   "metadata": {},
   "source": [
    "<div style=\"direction:rtl; font-size: 17px; font-family: 'XB Zar'; line-height: 200%\">و متد\n",
    "    isalnum\n",
    "    زمانی مقدار \n",
    "    True\n",
    "    را برمی‌گرداند که رشته‌ای آن را فراخوانی کرده و فقط شامل کاراکترهای رقمی (۰ - ۹) و حروف الفبا باشد:\n",
    "</div>"
   ]
  },
  {
   "cell_type": "code",
   "execution_count": null,
   "id": "41ba659e-db2b-470c-a501-361d2564c1be",
   "metadata": {},
   "outputs": [],
   "source": [
    "'A9876'.isalnum()"
   ]
  },
  {
   "cell_type": "code",
   "execution_count": null,
   "id": "2fb093e2-76ed-4eb8-8464-3d0ccbc9131d",
   "metadata": {},
   "outputs": [],
   "source": [
    "'123 Main Street'.isalnum()"
   ]
  },
  {
   "cell_type": "markdown",
   "id": "d1783703-540d-458c-af5e-2b9056c1b4d1",
   "metadata": {},
   "source": [
    "<div style=\"direction:rtl; font-size: 17px; font-family: 'XB Zar'; line-height: 200%\">جدول زیر بسیاری از متدهای \n",
    "    character-testing\n",
    "    را نشان می‌دهد. اگر شرط توصیف شده برقرار نباشد، متد مربوطه مقدار \n",
    "    False\n",
    "    را برمی‌گرداند:\n",
    "</div>"
   ]
  },
  {
   "attachments": {
    "2b9be77c-bedc-4ba0-996e-b25c952fa975.png": {
     "image/png": "[encoded data removed]"
    }
   },
   "cell_type": "markdown",
   "id": "9c352f5b-7ed9-4257-a2d9-c931a0367fa3",
   "metadata": {},
   "source": [
    "![Screenshot (84).png](attachment:2b9be77c-bedc-4ba0-996e-b25c952fa975.png)"
   ]
  },
  {
   "cell_type": "markdown",
   "id": "85fe8d88-68f2-4eea-9da4-4a15ad68f9d7",
   "metadata": {},
   "source": [
    "<h1 style=\"direction:rtl;font-size: 35px;font-family: 'XB Zar';color:#8e24aa;\">8.11 <span style=\"color:#F50057;\">Raw Strings</span></h1> <a id='16'></a>"
   ]
  },
  {
   "cell_type": "markdown",
   "id": "7a6a9a35-23b0-49b5-973d-ea8a2f7bf2e2",
   "metadata": {},
   "source": [
    "<div style=\"direction:rtl; font-size: 17px; font-family: 'XB Zar'; line-height: 200%\">به یاد بیاورید که کاراکتر بک‌اسلش در رشته‌ها کاراکترهای ویژه\n",
    "    (escape sequence)\n",
    "    را معرفی می‌کنند؛ برای مثال \n",
    "    $\\n$\n",
    "    برای خط جدید و \n",
    "    $\\t$\n",
    "    برای کاراکتر \n",
    "    tab\n",
    "    به کار می‌روند. اگر می‌خواهید یک کاراکتر بک‌اسلش در یک رشته قرار دهید، باید از دو کاراکتر بک‌اسلش \n",
    "    <code>\\\\</code>\n",
    "    استفاده کنید. این روش، خواندن برخی از رشته‌ها را دشوار می‌کند. به عنوان مثال، مایکروسافت ویندوز هنگام تعیین مکان یک فایل، از کاراکترهای بک‌اسلش برای جداکردن نام پوشه‌ها استفاده می‌کند. برای نشان دادن مکان یک فایل در ویندوز، می‌توانید از کد زیر استفاده کنید:\n",
    "</div>"
   ]
  },
  {
   "cell_type": "code",
   "execution_count": null,
   "id": "3c3291fa-a2a0-4751-b74b-eecbdd7dd4e1",
   "metadata": {},
   "outputs": [],
   "source": [
    "file_path = 'C:\\\\MyFolder\\\\MySubFolder\\\\MyFile.txt'"
   ]
  },
  {
   "cell_type": "code",
   "execution_count": null,
   "id": "cccc6ca3-b855-4524-b6db-d7865f019dee",
   "metadata": {},
   "outputs": [],
   "source": [
    "file_path"
   ]
  },
  {
   "cell_type": "markdown",
   "id": "4e895f4c-af39-40b8-9f9e-4e0f696f5f00",
   "metadata": {},
   "source": [
    "<div style=\"direction:rtl; font-size: 17px; font-family: 'XB Zar'; line-height: 200%\">برای چنین مواردی کار با \n",
    "    raw string\n",
    "    ها که قبل از آن حرف \n",
    "    r\n",
    "    قرار دارد، راحت‌تر می‌باشد. \n",
    "    raw string\n",
    "    ها با کاراکتر بک‌اسلش به عنوان یک کاراکتر معمولی رفتار می‌کنند و دیگر آن را قسمتی از یک \n",
    "    کاراکتر ویژه\n",
    "    (escape sequence)\n",
    "    قلمداد نمی‌کنند: \n",
    "</div>"
   ]
  },
  {
   "cell_type": "code",
   "execution_count": null,
   "id": "b2cf20c6-06a1-47dc-aadc-43a990c11632",
   "metadata": {},
   "outputs": [],
   "source": [
    "file_path = r'C:\\MyFolder\\MySubFolder\\MyFile.txt'"
   ]
  },
  {
   "cell_type": "code",
   "execution_count": null,
   "id": "05de92bc-b54d-4645-99da-092c91e7315d",
   "metadata": {},
   "outputs": [],
   "source": [
    "file_path"
   ]
  },
  {
   "cell_type": "markdown",
   "id": "5bea7f16-46df-4582-8087-51c3356e07a8",
   "metadata": {},
   "source": [
    "<div style=\"direction:rtl; font-size: 17px; font-family: 'XB Zar'; line-height: 200%\">همان طور که در آخرین اسنیپت نشان داده شده است، پایتون \n",
    "    raw string\n",
    "    را به یک رشته معمولی تبدیل می‌کند و در نمایش داخلی از دو کاراکتر بک‌اسلش متوالی استفاده می‌کند. \n",
    "    raw string\n",
    "    ها به‌ویژه هنگام استفاده از عبارات منظم که در بخش بعدی بحث می‌کنیم، می‌تواند کد شما را خواناتر کند. عبارات منظم اغلب حاوی کاراکترهای بک‌اسلش زیادی هستند.\n",
    "</div>"
   ]
  },
  {
   "cell_type": "markdown",
   "id": "d1dda59e-f05b-4705-88ef-e92b34555259",
   "metadata": {},
   "source": [
    "<h1 style=\"direction:rtl;font-size: 35px;font-family: 'XB Zar';color:#8e24aa;\">8.12 <span style=\"color:#F50057;\">مقدمه‌ای بر عبارات منظم</span></h1> <a id='17'></a>"
   ]
  },
  {
   "cell_type": "markdown",
   "id": "e5663e1a-4a63-40c8-8470-2d46d29a7d8a",
   "metadata": {},
   "source": [
    "<div style=\"direction:rtl; font-size: 17px; font-family: 'XB Zar'; line-height: 200%\">گاهی اوقات باید الگوهایی مانند شماره تلفن، آدرس ایمیل، کد پستی، آدرس صفحات وب، کد ملی و موارد دیگر را در متن شناسایی کنید. یک رشته منظم یک الگوی جست‌وجو را برای مطابقت با کاراکترها در رشته‌های دیگر توصیف می‌کند.\n",
    "</div>"
   ]
  },
  {
   "cell_type": "markdown",
   "id": "db940674-9d3f-49ad-81ad-4ace2d63de42",
   "metadata": {},
   "source": [
    "<div style=\"direction:rtl; font-size: 17px; font-family: 'XB Zar'; line-height: 200%\">عبارات منظم می‌توانند به شما کمک کنند داده‌ها را از متن بدون ساختار، مانند پست‌های شبکه اجتماعی استخراج کنید. عبارات منظم می‌توانند قبل از پردازش داده‌ها درستی فرمت داده‌ها را تضمین کنند و از این منظر بسیار حائز اهمیت هستند. مبحث عبارات منظم ممکن است از بیشتر ویژگی‌های پایتون که استفاده کرده‌اید چالش‌برانگیزتر باشد. پس از تسلط بر این موضوع، معمولا کد مختصرتری را نسبت به تکنیک‌های معمولی پردازش رشته می‌نویسید و این رویکرد روند توسعه کد را تسریع می‌کند. همچنین با موارد حاشیه‌ای که ممکن است به طور معمول به آن‌ها فکر نکنید، مقابله می‌کنید و احتمالا از اشکالات ظریف جلوگیری خواهید کرد.\n",
    "</div>"
   ]
  },
  {
   "cell_type": "markdown",
   "id": "15627e5f-7b48-4214-b568-9b8bf5c7ce74",
   "metadata": {},
   "source": [
    "<h2 style=\"direction:rtl;font-size: px;font-family: 'XB Zar';color:#0288d1;\">اعتبارسنجی داده‌ها</h2> <a id=''></a>"
   ]
  },
  {
   "cell_type": "markdown",
   "id": "58d0adc7-9e22-49ad-9157-6fe228c38376",
   "metadata": {},
   "source": [
    "<div style=\"direction:rtl; font-size: 17px; font-family: 'XB Zar'; line-height: 200%\">قبل از کار با داده‌های متنی، اغلب از عبارات منظم برای اعتبارسنجی داده‌ها استفاده می‌کنید. به عنوان مثال، می‌توانید موارد زیر را بررسی کنید:\n",
    "</div>"
   ]
  },
  {
   "cell_type": "markdown",
   "id": "eb5a8fad-2daa-4bb8-a02b-0dd2f64e8788",
   "metadata": {},
   "source": [
    "<div style=\"direction:rtl; font-size: 17px; font-family: 'XB Zar'; line-height: 200%\">\n",
    "    <span style=\"color:#8e24aa;\">• </span>کدپستی ایالات‌متحده از پنج رقم (مانند ۰۲۲۱۵) یا پنج رقم و به دنبال آن خط تیره و چهار رقم دیگر (مانند ۴۷۷۵-۰۲۲۱۵) تشکیل شده است.<br>\n",
    "    <span style=\"color:#8e24aa;\">• </span>نام‌خانوادگی رشته‌ای است که فقط شامل حروف، فاصله، \n",
    "    apostrophe\n",
    "    و خط تیره می‌باشد.<br>\n",
    "    <span style=\"color:#8e24aa;\">• </span>یک آدرس ایمیل فقط شامل کاراکترهای مجاز و با ترتیب مجاز است.<br>\n",
    "    <span style=\"color:#8e24aa;\">• </span>کدملی ایالات‌متحده شامل سه رقم، یک خط تیره، دو رقم، یک خط تیره و چهاررقم دیگر است. علاوه‌براین هر گروه از اعداد از قواعد خاصی پیروی می‌کنند.<br>\n",
    "\n",
    "</div>"
   ]
  },
  {
   "cell_type": "markdown",
   "id": "d28ec33b-8858-4aea-84a3-5a873907ae99",
   "metadata": {},
   "source": [
    "<div style=\"direction:rtl; font-size: 17px; font-family: 'XB Zar'; line-height: 200%\">به‌ندرت لازم است برای موارد این چنینی عبارات منظم خود را ایجاد کنید. وب‌سایت‌هایی مانند:\n",
    "    <br><br>\n",
    "    <a href=\"https://regex101.com\">https://regex101.com</a>\n",
    "    <br>\n",
    "    <a href=\"http://www.regexlib.com\">http://www.regexlib.com</a>\n",
    "    <br>\n",
    "    <a href=\"https://www.regular-expressions.info\">https://www.regular-expressions.info</a>\n",
    "</div>"
   ]
  },
  {
   "cell_type": "markdown",
   "id": "a5aa7205-56c4-4fcd-8f8d-c5776b1bb252",
   "metadata": {},
   "source": [
    "<div style=\"direction:rtl; font-size: 17px; font-family: 'XB Zar'; line-height: 200%\">و وب‌سایت‌های دیگر نمونه‌هایی از عبارات منظم موجود ارائه می‌دهند که می‌توانید آن‌ها را کپی کرده و استفاده کنید. بسیاری از سایت‌ها رابط‌هایی نیز ارائه می‌دهند که می‌توانید عبارات منظم را تست کنید و ببینید آیا پاسخگوی نیازهای شما هستند و یا خیر.\n",
    "</div>"
   ]
  },
  {
   "cell_type": "markdown",
   "id": "d9b948a3-708e-49cb-85b6-7ca6741c7b10",
   "metadata": {},
   "source": [
    "<h2 style=\"direction:rtl;font-size: px;font-family: 'XB Zar';color:#0288d1;\">سایر کاربردهای عبارات منظم</h2> <a id=''></a>"
   ]
  },
  {
   "cell_type": "markdown",
   "id": "1c1e10e8-06ca-44e2-8cd4-339e00808b2e",
   "metadata": {},
   "source": [
    "<div style=\"direction:rtl; font-size: 17px; font-family: 'XB Zar'; line-height: 200%\">از عبارات منظم علاوه‌بر اعتبارسنجی داده‌ها، اغلب برای موارد زیر استفاده می‌شود:\n",
    "</div>"
   ]
  },
  {
   "cell_type": "markdown",
   "id": "c390c5bc-ae5a-4d28-8cb4-57a8dfdba5ab",
   "metadata": {},
   "source": [
    "<div style=\"direction:rtl; font-size: 17px; font-family: 'XB Zar'; line-height: 200%\">\n",
    "    <span style=\"color:#8e24aa;\">• </span><b>استخراج داده‌ها از متن (گاهی اوقات به عنوان \n",
    "        scraping\n",
    "        شناخته می‌شود)</b> \n",
    "    - به عنوان مثال، پیداکردن همه \n",
    "    URL\n",
    "    ها در یک صفحه وب (ممکن است شما ابزارهایی مانند \n",
    "    BeautifulSoup, XPath \n",
    "    و\n",
    "    lxml\n",
    "    را ترجیح دهید).<br>\n",
    "    <span style=\"color:#8e24aa;\">• </span><b>پاکسازی داده‌ها</b>\n",
    "    - به عنوان مثال، حذف داده‌هایی که مورد نیاز نیستند، حذف داده‌های تکراری، مدیریت داده‌های ناقص، رفع اشتباه تایپی، اطمینان از سازگاری فرمت داده، برخورد با داده‌های پرت و سایر موارد دیگر.<br>\n",
    "    <span style=\"color:#8e24aa;\">• </span><b>تبدیل داده‌ها به فرمت‌های دیگر</b>\n",
    "    - به عنوان مثال ممکن است مجبور شوید داده‌های جداشده با کاراکتر \n",
    "    tab\n",
    "    را به فرمت داده‌های جداشده با کاراکتر کاما تبدیل کنید، چرا که برنامه مدنظر شما با داده‌هایی که در فرمت \n",
    "    CSV\n",
    "    هستند کار می‌کند.<br>\n",
    "\n",
    "</div>"
   ]
  },
  {
   "cell_type": "markdown",
   "id": "b676d478-1a5e-4fa9-8de5-de4523eb98a0",
   "metadata": {},
   "source": [
    "<h2 style=\"direction:rtl;font-size: 25px;font-family: 'XB Zar';color:#8e24aa;\">8.12.1 <span style=\"color:#8e24aa;\">ماژول re و تابع fullmatch</span></h2> <a id='18'></a>"
   ]
  },
  {
   "cell_type": "markdown",
   "id": "232ea7ac-0802-4ced-a16f-a76c65241e94",
   "metadata": {},
   "source": [
    "<div style=\"direction:rtl; font-size: 17px; font-family: 'XB Zar'; line-height: 200%\">برای استفاده از عبارات منظم، ماژول \n",
    "    re\n",
    "    از کتابخانه استاندارد پایتون را \n",
    "    import\n",
    "    کنید:\n",
    "</div>"
   ]
  },
  {
   "cell_type": "code",
   "execution_count": null,
   "id": "afd79b4b-9803-4c92-a221-05b03223cb68",
   "metadata": {},
   "outputs": [],
   "source": [
    "import re"
   ]
  },
  {
   "cell_type": "markdown",
   "id": "14077f46-8ec1-45dd-b1fe-a9f0d3ee531d",
   "metadata": {},
   "source": [
    "<div style=\"direction:rtl; font-size: 17px; font-family: 'XB Zar'; line-height: 200%\">تابع \n",
    "     fullmatch\n",
    "    یکی از ساده‌ترین توابع عبارات منظم محسوب می‌شود و بررسی می‌کند آیا کل رشته در آرگومان دوم با الگوی موجود در آرگومان اول مطابقت دارد یا خیر.\n",
    "</div>"
   ]
  },
  {
   "cell_type": "markdown",
   "id": "05a12066-3999-4f3c-978b-4a2c0c72c52e",
   "metadata": {},
   "source": [
    "<h2 style=\"direction:rtl;font-size: px;font-family: 'XB Zar';color:#0288d1;\">تطابق کاراکترهای لیترال</h2> <a id=''></a>"
   ]
  },
  {
   "cell_type": "markdown",
   "id": "343db892-bc09-4a84-b454-ee8f94118d20",
   "metadata": {},
   "source": [
    "<div style=\"direction:rtl; font-size: 17px; font-family: 'XB Zar'; line-height: 200%\">در این قسمت، تطابق کاراکترهای لیترال یعنی کاراکترهایی که با خود مقدار مطابقت دارند بررسی می‌شود:\n",
    "</div>"
   ]
  },
  {
   "cell_type": "code",
   "execution_count": null,
   "id": "3ba02043-de3a-4c5a-bb6a-cbe68045b447",
   "metadata": {},
   "outputs": [],
   "source": [
    "pattern = '02215'"
   ]
  },
  {
   "cell_type": "code",
   "execution_count": null,
   "id": "02e252bf-a7c8-4902-b5a6-013cd2484f7f",
   "metadata": {},
   "outputs": [],
   "source": [
    "'Match' if re.fullmatch(pattern, '02215') else 'No match'"
   ]
  },
  {
   "cell_type": "code",
   "execution_count": null,
   "id": "cd4e6cd1-300b-4a6e-a088-ecedf6f393cf",
   "metadata": {},
   "outputs": [],
   "source": [
    "'Match' if re.fullmatch(pattern, '51220') else 'No match'"
   ]
  },
  {
   "cell_type": "markdown",
   "id": "b1d3cf97-730b-4b02-8b4d-106812b63bc5",
   "metadata": {},
   "source": [
    "<div style=\"direction:rtl; font-size: 17px; font-family: 'XB Zar'; line-height: 200%\">اولین آرگومان تابع الگویی از نوع یک عبارت منظم است که برای مطابقت به کار می‌رود. هر رشته می‌تواند یک عبارت منظم باشد. مقدار متغیر \n",
    "    pattern\n",
    "    برابر \n",
    "    '02215'\n",
    "    می‌باشد و فقط از ارقام لیترال تشکیل شده است و باید به همین ترتیب فعلی مطابقت داده شود. آرگومان دوم رشته‌ای است که باید  تطابق کامل آن با الگو بررسی شود.\n",
    "</div>"
   ]
  },
  {
   "cell_type": "markdown",
   "id": "6bf5c9b7-aafb-4efb-8518-ba58d232a6a3",
   "metadata": {},
   "source": [
    "<div style=\"direction:rtl; font-size: 17px; font-family: 'XB Zar'; line-height: 200%\">اگر آرگومان دوم با الگوی موجود در آرگومان اول مطابقت داشته باشد، تابع \n",
    "    fullmatch\n",
    "    یک شیء \n",
    "    text\n",
    "    حاوی متن تطابق یافته را برمی‌گرداند و مقدار \n",
    "    True\n",
    "    ارزیابی می‌شود. بعدا در مورد این شیء بیشتر خواهیم گفت. در اسنیپت [۴] آرگومان دوم همان ارقام عبارت منظم را دارد، ولی ترتیب کاراکترهای این دو آرگومان تابع یکی نیست؛ بنابراین هیچ تطابقی وجود ندارد و تابع \n",
    "    fullmatch\n",
    "    مقدار \n",
    "    None\n",
    "    را برمی‌گرداند و \n",
    "    False\n",
    "    ارزیابی می‌شود.\n",
    "</div>"
   ]
  },
  {
   "cell_type": "markdown",
   "id": "8cc2866a-40a6-4c61-8e11-c262a1db25c1",
   "metadata": {},
   "source": [
    "<h2 style=\"direction:rtl;font-size: px;font-family: 'XB Zar';color:#0288d1;\">Metacharacters, Character Classes and Quantifiers</h2> <a id=''></a>"
   ]
  },
  {
   "cell_type": "markdown",
   "id": "70ae57a7-8e67-4017-af91-dbec5427ec82",
   "metadata": {},
   "source": [
    "<div style=\"direction:rtl; font-size: 17px; font-family: 'XB Zar'; line-height: 200%\">عبارات منظم به طور معمول حاوی نمادهای مختلفی به نام متاکاراکترها هستند ک در جدول زیر نشان داده شده‌اند:\n",
    "</div>"
   ]
  },
  {
   "attachments": {
    "4d208306-cc1c-4a0d-a0ae-5a4a30817ad9.png": {
     "image/png": "[encoded data removed]"
    }
   },
   "cell_type": "markdown",
   "id": "9bfe629d-2352-494a-98c9-5b2d3dc7eb25",
   "metadata": {},
   "source": [
    "![Screenshot (85).png](attachment:4d208306-cc1c-4a0d-a0ae-5a4a30817ad9.png)"
   ]
  },
  {
   "cell_type": "markdown",
   "id": "3fcac7ad-2624-4c13-8e8e-4026d2ff1928",
   "metadata": {},
   "source": [
    "<div style=\"direction:rtl; font-size: 17px; font-family: 'XB Zar'; line-height: 200%\">قبل از تمامی \n",
    "    character class\n",
    "    ها، متاکاراکتر بک‌اسلش \n",
    "    (\\)\n",
    "    قرار می‌گیرد و هر کدام از این کلاس‌ها با یک مجموعه خاص از کاراکترها مطابقت دارند. کد زیر کدپستی پنج رقمی را اعتبارسنجی می‌کند:\n",
    "</div>"
   ]
  },
  {
   "cell_type": "code",
   "execution_count": null,
   "id": "6324deff-e5f2-4e76-b2e6-9c3bc29b9996",
   "metadata": {},
   "outputs": [],
   "source": [
    "'Valid' if re.fullmatch(r'\\d{5}', '02215') else 'Invalid'"
   ]
  },
  {
   "cell_type": "code",
   "execution_count": null,
   "id": "3fbb87f9-1938-435e-bc5a-02def9c90bb6",
   "metadata": {},
   "outputs": [],
   "source": [
    "'Valid' if re.fullmatch(r'\\d{5}', '9876') else 'Invalid'"
   ]
  },
  {
   "cell_type": "markdown",
   "id": "502ca535-2fa2-49ab-bf7e-bc2216dd42b4",
   "metadata": {},
   "source": [
    "<div style=\"direction:rtl; font-size: 17px; font-family: 'XB Zar'; line-height: 200%\">در عبارت منظم \n",
    "    <code>d{5}\\</code>\n",
    "    ،\n",
    "    $\\d$\n",
    "    یک \n",
    "    character class\n",
    "    است که یک رقم (۹ - ۰) را نمایش می‌دهد. \n",
    "    character class\n",
    "    یک \n",
    "     regular expression escape sequence\n",
    "    است که با یک کاراکتر مطابقت دارد. برای مطابقت بیش از یک کاراکتر، بعد از \n",
    "    character class\n",
    "    یک \n",
    "    quantifier\n",
    "    قراردهید. \n",
    "    quantifier {5}\n",
    "    کلاس کاراکتری \n",
    "    $\\d$\n",
    "    را ۵ بار تکرار می‌کند و معادل آن است که از عبارت \n",
    "     $\\d\\d\\d\\d\\d$\n",
    "    برای مطابقت با پنج رقم متوالی استفاده شود. در اسنیپت [۶] تابع \n",
    "    fullmatch\n",
    "    مقدار \n",
    "    None\n",
    "    را برمی‌گرداند زیرا رشته \n",
    "    '9876'\n",
    "    فقط شامل چهار کاراکتر رقمی متوالی است.\n",
    "</div>"
   ]
  },
  {
   "cell_type": "markdown",
   "id": "fc8602e2-8120-4515-9ba3-621e054c0296",
   "metadata": {},
   "source": [
    "<h2 style=\"direction:rtl;font-size: px;font-family: 'XB Zar';color:#0288d1;\">سایر \n",
    "    Character Class\n",
    "    های از پیش تعیین شده</h2> <a id=''></a>"
   ]
  },
  {
   "cell_type": "markdown",
   "id": "8e835833-f92e-450f-a3ba-bf61038af16a",
   "metadata": {},
   "source": [
    "<div style=\"direction:rtl; font-size: 17px; font-family: 'XB Zar'; line-height: 200%\">جدول زیر برخی از کلاس‌های کاراکتر از پیش تعریف شده و گروهی از کاراکترها منطبق با کلاس مربوطه را نشان می‌دهد. برای مطابقت با هر متاکاراکتر با مقدار لیترال آن، قبل از مقدار لیترال یک بک‌اسلش \n",
    "    (\\)\n",
    "    قرار دهید. به عنوان مثال \n",
    "    (\\\\\\)\n",
    "    با یک بک‌اسلش \n",
    "    (\\)\n",
    "    مطابقت دارد. \n",
    "</div>"
   ]
  },
  {
   "attachments": {
    "9e05fb09-ef8e-4d99-bbbe-454423c52afd.png": {
     "image/png": "[encoded data removed]"
    }
   },
   "cell_type": "markdown",
   "id": "25a63ac4-45be-4d81-9106-c444659dd272",
   "metadata": {},
   "source": [
    "![Screenshot (86).png](attachment:9e05fb09-ef8e-4d99-bbbe-454423c52afd.png)"
   ]
  },
  {
   "cell_type": "markdown",
   "id": "6cc91b1d-af22-4f4d-b4a9-0c65bbcdfa08",
   "metadata": {},
   "source": [
    "<h2 style=\"direction:rtl;font-size: px;font-family: 'XB Zar';color:#0288d1;\">Custom Character Classes</h2> <a id=''></a>"
   ]
  },
  {
   "cell_type": "markdown",
   "id": "8f6f4a91-ec9a-40c4-b34e-67492322bd6e",
   "metadata": {},
   "source": [
    "<div style=\"direction:rtl; font-size: 17px; font-family: 'XB Zar'; line-height: 200%\">یک جفت براکت [] یک کلاس کاراکتر سفارشی تعریف می‌کند که با یک کاراکتر مطابقت دارد. به عنوان مثال، \n",
    "    [aeiou]\n",
    "    با یک حرف صدادار کوچک، \n",
    "    [A-Z]\n",
    "    با یک حرف بزرگ، \n",
    "    [a-z]\n",
    "    با یک حرف کوچک و \n",
    "     [a-zA-Z] \n",
    "    با هر حرف کوچک یا بزرگ مطابقت دارد. در این قسمت یک نام را با این شرط اعتبارسنجی می‌کنیم که فقط از حروف الفبا تشکیل شده باشد و در آن فضای خالی و علائم نگارشی نباشد. از کد زیر استفاده می‌کنیم تا مطمئن شویم که نام با یک حرف بزرگ شروع می‌شود \n",
    "    (A–Z)\n",
    "    و به دنبال آن حرف کوچک \n",
    "    (a–z)\n",
    "    به تعداد دلخواه قرار می‌گیرد:\n",
    "</div>"
   ]
  },
  {
   "cell_type": "code",
   "execution_count": null,
   "id": "2eb7903b-5687-4ec5-bcde-69bcdb3a6302",
   "metadata": {},
   "outputs": [],
   "source": [
    "'Valid' if re.fullmatch('[A-Z][a-z]*', 'Wally') else 'Invalid'"
   ]
  },
  {
   "cell_type": "code",
   "execution_count": null,
   "id": "fb5e57de-df73-49ec-bbe1-9d606e9ed38b",
   "metadata": {},
   "outputs": [],
   "source": [
    "'Valid' if re.fullmatch('[A-Z][a-z]*', 'eva') else 'Invalid'"
   ]
  },
  {
   "cell_type": "markdown",
   "id": "bb2be7fc-ecc3-4dde-beb2-945219c8bb4a",
   "metadata": {},
   "source": [
    "<div style=\"direction:rtl; font-size: 17px; font-family: 'XB Zar'; line-height: 200%\">نام ممکن است حروف زیادی داشته باشد. \n",
    "    quantifier *\n",
    "    با صفر یا تعداد بیشتری از رخداد عبارت سمت چپ خود مطابقت دارد (در این حالت \n",
    "    [a-z]\n",
    "    )، بنابراین \n",
    "     *[a-z][A-Z]\n",
    "    با یک حرف بزرگ و به دنبال آن صفر یا تعداد بیشتری از حروف کوچک مانند \n",
    "    'Amanda', 'Bo'\n",
    "    یا حتی \n",
    "    'E'\n",
    "    مطابقت دارد.\n",
    "</div>"
   ]
  },
  {
   "cell_type": "markdown",
   "id": "56573d3c-25ef-46e5-bf21-46e19f746436",
   "metadata": {},
   "source": [
    "<div style=\"direction:rtl; font-size: 17px; font-family: 'XB Zar'; line-height: 200%\">هنگامی که یک کلاس کاراکتر سفارشی با یک \n",
    "    (^) caret\n",
    "    شروع می‌شود، کلاس با هر کاراکتری که مشخص نشده باشد مطابقت دارد؛ بنابراین \n",
    "    [a-z^]\n",
    "    با هر کاراکتری که یک حرف کوچک نیست مطابقت دارد:\n",
    "</div>"
   ]
  },
  {
   "cell_type": "code",
   "execution_count": null,
   "id": "1bebbac2-115c-4622-a335-5c5e496c7de1",
   "metadata": {},
   "outputs": [],
   "source": [
    "'Match' if re.fullmatch('[^a-z]', 'A') else 'No match'"
   ]
  },
  {
   "cell_type": "code",
   "execution_count": null,
   "id": "8fe7c7a2-5563-4fee-bb39-e751eb447897",
   "metadata": {},
   "outputs": [],
   "source": [
    "'Match' if re.fullmatch('[^a-z]', 'a') else 'No match'"
   ]
  },
  {
   "cell_type": "markdown",
   "id": "78287724-078f-43b8-98e8-7332e68ce60f",
   "metadata": {},
   "source": [
    "<div style=\"direction:rtl; font-size: 17px; font-family: 'XB Zar'; line-height: 200%\">در یک کلاس کاراکتر سفارشی با متا کاراکتر به عنوان یک لیترال یعنی با مقدار واقعی‌اش رفتار می‌شود؛ بنابراین \n",
    "    [*+\\$]\n",
    "    با یک کاراکتر \n",
    "    *, +, \\$\n",
    "    مطابقت دارد:\n",
    "</div>"
   ]
  },
  {
   "cell_type": "code",
   "execution_count": null,
   "id": "1294e315-9bb7-4285-8db8-1514f472193f",
   "metadata": {},
   "outputs": [],
   "source": [
    "'Match' if re.fullmatch('[*+$]', '*') else 'No match'"
   ]
  },
  {
   "cell_type": "code",
   "execution_count": null,
   "id": "ee09fe1e-1f7b-443b-9ca2-32d2942cf29e",
   "metadata": {},
   "outputs": [],
   "source": [
    "'Match' if re.fullmatch('[*+$]', '!') else 'No match'"
   ]
  },
  {
   "cell_type": "markdown",
   "id": "f5c62902-ccc9-488f-8ae4-1214a0ce6d57",
   "metadata": {},
   "source": [
    "<h2 style=\"direction:rtl;font-size: px;font-family: 'XB Zar';color:#0288d1;\"> vs. + Quantifier *</h2> <a id=''></a>"
   ]
  },
  {
   "cell_type": "markdown",
   "id": "18c4488c-dc0c-4a25-a3f0-427fe1ee5ca5",
   "metadata": {},
   "source": [
    "<div style=\"direction:rtl; font-size: 17px; font-family: 'XB Zar'; line-height: 200%\">اگر بخواهید حداقل به یک حرف کوچک در رشته نام احتیاج داشته باشید، می‌توانید \n",
    "     * quantifier\n",
    "    در اسنیپت [۷] را با \n",
    "    + quantifier\n",
    "    جایگزین کنید. \n",
    "    + quantifier\n",
    "    حداقل با یک تکرار در یک زیرعبارت مطابقت دارد:\n",
    "</div>"
   ]
  },
  {
   "cell_type": "code",
   "execution_count": null,
   "id": "b5271d8e-d55f-4f79-abf6-7681d72c933d",
   "metadata": {},
   "outputs": [],
   "source": [
    "'Valid' if re.fullmatch('[A-Z][a-z]+', 'Wally') else 'Invalid'"
   ]
  },
  {
   "cell_type": "code",
   "execution_count": null,
   "id": "89496c7b-3a0c-4c57-ad7f-cc9ec63718d4",
   "metadata": {},
   "outputs": [],
   "source": [
    "'Valid' if re.fullmatch('[A-Z][a-z]+', 'E') else 'Invalid'"
   ]
  },
  {
   "cell_type": "markdown",
   "id": "7888ba92-d7f9-4dbe-928c-c6ed3e10e7a0",
   "metadata": {},
   "source": [
    "<div style=\"direction:rtl; font-size: 17px; font-family: 'XB Zar'; line-height: 200%\">\n",
    "    quantifier\n",
    "    های * و + حریصانه عمل می‌کنند و همیشه سعی می‌کنند با بیشترین کاراکتر ممکن مطابقت داشته باشند؛ بنابراین عبارت منظم \n",
    "    +[a-z][A-Z]\n",
    "    با رشته‌های \n",
    "    'Al', 'Eva', 'Samantha', 'Benjamin'\n",
    "    و هر کلمه دیگری که با یک حرف بزرگ شروع شده و حداقل با یک حرف کوچک دنبال شود، مطابقت دارد.\n",
    "</div>"
   ]
  },
  {
   "cell_type": "markdown",
   "id": "e067c435-ec40-4350-a171-a495fe010055",
   "metadata": {},
   "source": [
    "<h2 style=\"direction:rtl;font-size: px;font-family: 'XB Zar';color:#0288d1;\">سایر \n",
    "Quantifier\n",
    "ها</h2> <a id=''></a>"
   ]
  },
  {
   "cell_type": "markdown",
   "id": "a1ca8694-096e-4e04-97aa-299f4498a9c7",
   "metadata": {},
   "source": [
    "<div style=\"direction:rtl; font-size: 17px; font-family: 'XB Zar'; line-height: 200%\">? quantifier\n",
    "    با صفر یا یک مورد از یک زیرعبارت مطابقت دارد:\n",
    "</div>"
   ]
  },
  {
   "cell_type": "code",
   "execution_count": null,
   "id": "cb6162d5-cda6-4765-b0a2-6427c9deaa00",
   "metadata": {},
   "outputs": [],
   "source": [
    "'Match' if re.fullmatch('labell?ed', 'labelled') else 'No match'"
   ]
  },
  {
   "cell_type": "code",
   "execution_count": null,
   "id": "009225a6-f502-4f1a-b516-fbff6b5ebeb8",
   "metadata": {},
   "outputs": [],
   "source": [
    "'Match' if re.fullmatch('labell?ed', 'labeled') else 'No match'"
   ]
  },
  {
   "cell_type": "code",
   "execution_count": null,
   "id": "6e949428-56e5-4758-85e9-b93dedbc80f1",
   "metadata": {},
   "outputs": [],
   "source": [
    "'Match' if re.fullmatch('labell?ed', 'labellled') else 'No match'"
   ]
  },
  {
   "cell_type": "markdown",
   "id": "ebad0c0e-9f96-4da2-9377-d31e27f8edba",
   "metadata": {},
   "source": [
    "<div style=\"direction:rtl; font-size: 17px; font-family: 'XB Zar'; line-height: 200%\">عبارت منظم \n",
    "    labell?ed\n",
    "    با رشته \n",
    "    labelled\n",
    "    (بریتیش) و با رشته \n",
    "    labeled\n",
    "    (امریکن) مطابقت دارد ولی با رشته \n",
    "    labellled\n",
    "    که غلط املایی هم دارد، مطابق نیست. در اسنیپت بالا، پنج حرف اول لیترال \n",
    "    (label)\n",
    "    در عبارت منظم با پنج کاراکتر اول آرگومان دوم مطابقت دارند. عبارت \n",
    "    ?l\n",
    "    نشان می‌دهد قبل از کاراکترهای \n",
    "    ed\n",
    "    تعداد صفر یا یک کاراکتر \n",
    "    l\n",
    "    می‌تواند وجود داشته باشد.\n",
    "</div>"
   ]
  },
  {
   "cell_type": "markdown",
   "id": "83017251-9b95-4e30-baba-fb684e1d35f6",
   "metadata": {},
   "source": [
    "<div style=\"direction:rtl; font-size: 17px; font-family: 'XB Zar'; line-height: 200%\">با کمک\n",
    "    { ,n} quantifier\n",
    "    می‌توانید حداقل وقوع \n",
    "    n\n",
    "    بار یک زیرعبارت را مطابقت دهید. عبارت منظم زیر با رشته‌های حاوی حداقل سه رقم مطابقت دارد:\n",
    "</div>"
   ]
  },
  {
   "cell_type": "code",
   "execution_count": null,
   "id": "f7b057f1-bf44-48da-b364-0c8498e88636",
   "metadata": {},
   "outputs": [],
   "source": [
    "'Match' if re.fullmatch(r'\\d{3,}', '123') else 'No match'"
   ]
  },
  {
   "cell_type": "code",
   "execution_count": null,
   "id": "488182e7-d704-4380-a194-42354920ba78",
   "metadata": {},
   "outputs": [],
   "source": [
    "'Match' if re.fullmatch(r'\\d{3,}', '1234567890') else 'No match'"
   ]
  },
  {
   "cell_type": "code",
   "execution_count": null,
   "id": "6851cdf3-2564-48ec-a832-3d4894558ffa",
   "metadata": {},
   "outputs": [],
   "source": [
    "'Match' if re.fullmatch(r'\\d{3,}', '12') else 'No match'"
   ]
  },
  {
   "cell_type": "markdown",
   "id": "36ac2050-cf56-4abd-9f03-907a08cd3fa2",
   "metadata": {},
   "source": [
    "<div style=\"direction:rtl; font-size: 17px; font-family: 'XB Zar'; line-height: 200%\">با کمک\n",
    "    {n,m} quantifier\n",
    "    می‌توانید وقوع یک زیرعبارت را حداقل \n",
    "    n\n",
    "    و حداکثر \n",
    "    m\n",
    "    (شامل \n",
    "    m\n",
    "    هم می‌شود) بار مطابقت دهید. عبارت منظم زیر با رشته‌های حاوی حداقل سه رقم و حداکثر شش رقم مطابقت دارد:\n",
    "</div>"
   ]
  },
  {
   "cell_type": "code",
   "execution_count": null,
   "id": "5ddb01a2-1925-4c15-9319-a2b14a649aad",
   "metadata": {},
   "outputs": [],
   "source": [
    "'Match' if re.fullmatch(r'\\d{3,6}', '123') else 'No match'"
   ]
  },
  {
   "cell_type": "code",
   "execution_count": null,
   "id": "b1101ede-cae0-4d71-8e9d-2f29847a74f2",
   "metadata": {},
   "outputs": [],
   "source": [
    "'Match' if re.fullmatch(r'\\d{3,6}', '123456') else 'No match'"
   ]
  },
  {
   "cell_type": "code",
   "execution_count": null,
   "id": "f3cbf274-9197-492b-ada4-fa8331b882ef",
   "metadata": {},
   "outputs": [],
   "source": [
    "'Match' if re.fullmatch(r'\\d{3,6}', '1234567') else 'No match'"
   ]
  },
  {
   "cell_type": "code",
   "execution_count": null,
   "id": "4676e531-0825-453e-8f8f-944d8d1a55cf",
   "metadata": {},
   "outputs": [],
   "source": [
    "'Match' if re.fullmatch(r'\\d{3,6}', '12') else 'No match'"
   ]
  },
  {
   "cell_type": "markdown",
   "id": "4014b3d2-e37c-4020-87ab-b08b21e428e5",
   "metadata": {},
   "source": [
    "<h2 style=\"direction:rtl;font-size: 25px;font-family: 'XB Zar';color:#8e24aa;\">8.12.2 <span style=\"color:#8e24aa;\">جایگذاری زیررشته‌ها و تفکیک رشته‌ها</span></h2> <a id='19'></a>"
   ]
  },
  {
   "cell_type": "markdown",
   "id": "7730f5cd-f124-4b3e-bb15-409cba5617c9",
   "metadata": {},
   "source": [
    "<div style=\"direction:rtl; font-size: 17px; font-family: 'XB Zar'; line-height: 200%\">ماژول\n",
    "    re\n",
    "    برای جایگزین کردن الگوها در یک رشته تابع \n",
    "    sub\n",
    "    و برای شکستن یک رشته به چند زیررشته بر اساس الگوها، تابع \n",
    "    split\n",
    "    را ارائه می‌دهد.\n",
    "</div>"
   ]
  },
  {
   "cell_type": "markdown",
   "id": "02eb0497-a1f7-4272-b4ca-b2fae4eb0ddc",
   "metadata": {},
   "source": [
    "<h2 style=\"direction:rtl;font-size: px;font-family: 'XB Zar';color:#0288d1;\">تابع \n",
    "    sub\n",
    "    برای جایگزین کردن الگوها</h2> <a id=''></a>"
   ]
  },
  {
   "cell_type": "markdown",
   "id": "efb81111-46eb-4e2c-9b6a-c14049cc1e68",
   "metadata": {},
   "source": [
    "<div style=\"direction:rtl; font-size: 17px; font-family: 'XB Zar'; line-height: 200%\">به طور پیش‌فرض، تابع \n",
    "    sub\n",
    "    در ماژول \n",
    "    re\n",
    "    تمام رخدادهای یک الگو را با متن ثانویه‌ای که شما تعیین کرده‌اید، جایگزین می‌کند. کد زیر، رشته‌ای که با کاراکتر \n",
    "    tab\n",
    "    جداشده را به رشته‌ای که با کاما جداشده تبدیل می‌کند:\n",
    "</div>"
   ]
  },
  {
   "cell_type": "code",
   "execution_count": null,
   "id": "765d798b-bfd4-4066-96c6-94ad9a272ae8",
   "metadata": {},
   "outputs": [],
   "source": [
    "import re"
   ]
  },
  {
   "cell_type": "code",
   "execution_count": null,
   "id": "e0c0b541-5369-4037-8eae-c2c01e6187ec",
   "metadata": {},
   "outputs": [],
   "source": [
    "re.sub(r'\\t', ', ', '1\\t2\\t3\\t4')"
   ]
  },
  {
   "cell_type": "markdown",
   "id": "ff478615-01ac-43e1-8113-bfab48df0922",
   "metadata": {},
   "source": [
    "<div style=\"direction:rtl; font-size: 17px; font-family: 'XB Zar'; line-height: 200%\">تابع \n",
    "    sub\n",
    "    سه آرگومان موردنیاز را دریافت می‌کند:\n",
    "</div>"
   ]
  },
  {
   "cell_type": "markdown",
   "id": "1bbc1d4b-89d9-4c12-a336-395a2d593b44",
   "metadata": {},
   "source": [
    "<div style=\"direction:rtl; font-size: 17px; font-family: 'XB Zar'; line-height: 200%\">\n",
    "    <span style=\"color:#8e24aa;\">• </span>الگوی مطابقت (کاراکتر \n",
    "    '$\\t$'\n",
    "    )<br>\n",
    "    <span style=\"color:#8e24aa;\">• </span>متن جایگزین \n",
    "    (' ,')\n",
    "    <br>\n",
    "    <span style=\"color:#8e24aa;\">• </span>رشته مورد جست‌وجو \n",
    "    ('1\\t2\\t3\\t4')\n",
    "    <br>\n",
    "\n",
    "</div>"
   ]
  },
  {
   "cell_type": "markdown",
   "id": "25dba09b-ed0c-4232-9a49-e631ec8cf6ce",
   "metadata": {},
   "source": [
    "<div style=\"direction:rtl; font-size: 17px; font-family: 'XB Zar'; line-height: 200%\">و یک رشته جدید برمی‌گرداند. با آرگومان کلیدی \n",
    "    count\n",
    "    می‌توان حداکثر تعداد جایگزینی‌ها را تعیین کرد:\n",
    "</div>"
   ]
  },
  {
   "cell_type": "code",
   "execution_count": null,
   "id": "7d1a2b44-5293-402e-86ec-f38245cda2da",
   "metadata": {},
   "outputs": [],
   "source": [
    "re.sub(r'\\t', ', ', '1\\t2\\t3\\t4', count=2)"
   ]
  },
  {
   "cell_type": "markdown",
   "id": "8abbde9b-e94a-4fd9-bc11-de5e8349cc22",
   "metadata": {},
   "source": [
    "<h2 style=\"direction:rtl;font-size: px;font-family: 'XB Zar';color:#0288d1;\">تابع \n",
    "    split\n",
    "    </h2> <a id=''></a>"
   ]
  },
  {
   "cell_type": "markdown",
   "id": "bae82761-afde-4efd-ba59-adfd99d4b3ac",
   "metadata": {},
   "source": [
    "<div style=\"direction:rtl; font-size: 17px; font-family: 'XB Zar'; line-height: 200%\">تابع \n",
    "    split\n",
    "    با استفاده از یک عبارت منظم به عنوان جداکننده، یک رشته را به توکن تبدیل کرده و لیستی از رشته‌ها را برمی‌گرداند. کد زیر یک رشته را با تقسیم آن در هر اندیسی که یک ویرگول و بعد آن صفر یا چند کاراکتر \n",
    "    whitespace\n",
    "    قرار داشته باشد، به توکن تبدیل می‌کند. \n",
    "    $\\s$\n",
    "    کلاس کاراکتر \n",
    "    whitespace\n",
    "    بوده و * نشان دهنده صفر یا چند رخداد زیرعبارت قبل آن است:\n",
    "</div>"
   ]
  },
  {
   "cell_type": "code",
   "execution_count": null,
   "id": "6547116d-98ff-4769-a5eb-972bcbc2398c",
   "metadata": {},
   "outputs": [],
   "source": [
    "re.split(r',\\s*', '1,  2,  3,4,    5,6,7,8')"
   ]
  },
  {
   "cell_type": "markdown",
   "id": "b576caba-f87d-4a19-a0d3-f5029e4184b9",
   "metadata": {},
   "source": [
    "<div style=\"direction:rtl; font-size: 17px; font-family: 'XB Zar'; line-height: 200%\">برای تعیین حداکثر تقسیم‌ها از آرگومان کلیدی \n",
    "    maxsplit\n",
    "    استفاده کنید:\n",
    "</div>"
   ]
  },
  {
   "cell_type": "code",
   "execution_count": null,
   "id": "dc1a65d7-2036-4686-8f10-5a7418d694a2",
   "metadata": {},
   "outputs": [],
   "source": [
    "re.split(r',\\s*', '1,  2,  3,4,    5,6,7,8', maxsplit=3)"
   ]
  },
  {
   "cell_type": "markdown",
   "id": "3c1e04d4-5bbb-45bf-a878-0077eee34998",
   "metadata": {},
   "source": [
    "<div style=\"direction:rtl; font-size: 17px; font-family: 'XB Zar'; line-height: 200%\">در این حالت، پس از سه تقسیم، رشته چهارم شامل مابقی رشته اصلی خواهد بود.\n",
    "</div>"
   ]
  },
  {
   "cell_type": "markdown",
   "id": "966bad3e-e72f-4e3d-95cf-20687bcbe8c3",
   "metadata": {},
   "source": [
    "<h2 style=\"direction:rtl;font-size: 25px;font-family: 'XB Zar';color:#8e24aa;\">8.12.3 <span style=\"color:#8e24aa;\">سایر توابع جست‌جو؛ دسترسی به مطابقت‌ها</span></h2> <a id='20'></a>"
   ]
  },
  {
   "cell_type": "markdown",
   "id": "b879bce5-83d8-4937-95a4-904003847bf7",
   "metadata": {},
   "source": [
    "<div style=\"direction:rtl; font-size: 17px; font-family: 'XB Zar'; line-height: 200%\">پیش از این از تابع \n",
    "    fullmatch\n",
    "    استفاده کردیم تا تعیین کنیم آیا کل یک رشته با یک عبارت منظم مطابقت دارد و یا خیر. چند تابع جست‌وجوی دیگر نیز وجود دارد. در این قسمت، در مورد توابع \n",
    "    search, match, findall و finditer\n",
    "    توضیح می‌دهیم و نحوه دستیابی به زیررشته‌های تطابق یافته را نشان می‌دهیم.\n",
    "</div>"
   ]
  },
  {
   "cell_type": "markdown",
   "id": "c24c1b81-c33f-4155-8fda-10f53372cdec",
   "metadata": {},
   "source": [
    "<h2 style=\"direction:rtl;font-size: px;font-family: 'XB Zar';color:#0288d1;\">تابع \n",
    "    search\n",
    "    - یافتن اولین تطابق در هر مکان از یک رشته</h2> <a id=''></a>"
   ]
  },
  {
   "cell_type": "markdown",
   "id": "f68e48b1-8dbd-42a7-8a9b-ded708c6cc52",
   "metadata": {},
   "source": [
    "<div style=\"direction:rtl; font-size: 17px; font-family: 'XB Zar'; line-height: 200%\">تابع \n",
    "    search\n",
    "    یک رشته را برای یافتن اولین مطابقت یک زیررشته با عبارت منظم جست‌وجو می‌کند و یک شیء \n",
    "    match\n",
    "    (از نوع \n",
    "    SRE_Match\n",
    "    ) \n",
    "    برمی‌گرداند، این شیء حاوی زیررشته منطبق می‌باشد. متد \n",
    "    group\n",
    "    در شیء \n",
    "    match\n",
    "    این رشته را برمی‌گرداند:\n",
    "</div>"
   ]
  },
  {
   "cell_type": "code",
   "execution_count": null,
   "id": "e7bc5727-5500-46d1-9f02-6c932e7e5453",
   "metadata": {},
   "outputs": [],
   "source": [
    "import re"
   ]
  },
  {
   "cell_type": "code",
   "execution_count": null,
   "id": "a6c28e87-c204-4acc-a56a-701bbd008c87",
   "metadata": {},
   "outputs": [],
   "source": [
    "result = re.search('Python', 'Python is fun')"
   ]
  },
  {
   "cell_type": "code",
   "execution_count": null,
   "id": "57bdddb6-a066-481f-bca1-ce97f7176491",
   "metadata": {},
   "outputs": [],
   "source": [
    "result.group() if result else 'not found'"
   ]
  },
  {
   "cell_type": "markdown",
   "id": "cccc405d-a91e-497c-81ae-e0f9a7530236",
   "metadata": {},
   "source": [
    "<div style=\"direction:rtl; font-size: 17px; font-family: 'XB Zar'; line-height: 200%\">اگر رشته فاقد الگوی مورد نظر باشد، تابع \n",
    "    search\n",
    "    مقدار \n",
    "    None\n",
    "    را برمی‌گرداند:\n",
    "</div>"
   ]
  },
  {
   "cell_type": "code",
   "execution_count": null,
   "id": "1a39a543-6dcc-4287-8b03-51128e3bc529",
   "metadata": {},
   "outputs": [],
   "source": [
    "result2 = re.search('fun!', 'Python is fun')"
   ]
  },
  {
   "cell_type": "code",
   "execution_count": null,
   "id": "456a847b-8ccd-4d84-93f0-11d4e560c179",
   "metadata": {},
   "outputs": [],
   "source": [
    "result2.group() if result2 else 'not found'"
   ]
  },
  {
   "cell_type": "markdown",
   "id": "4cc3a333-375c-4ec4-a47d-e08a9e415501",
   "metadata": {},
   "source": [
    "<div style=\"direction:rtl; font-size: 17px; font-family: 'XB Zar'; line-height: 200%\">برای جست‌وجو فقط از ابتدای رشته می‌توانید از تابع \n",
    "    match\n",
    "    استفاده کنید.\n",
    "</div>"
   ]
  },
  {
   "cell_type": "markdown",
   "id": "154756bb-f747-485d-b35b-dd6b61960fef",
   "metadata": {},
   "source": [
    "<h2 style=\"direction:rtl;font-size: px;font-family: 'XB Zar';color:#0288d1;\">نادیده گرفتن بزرگ و یا کوچک بودن حروف با آرگومان کلیدی و اختیاری \n",
    "    flags\n",
    "</h2> <a id=''></a>"
   ]
  },
  {
   "cell_type": "markdown",
   "id": "69ea393c-31e5-45f9-baca-89ad9e3a9364",
   "metadata": {},
   "source": [
    "<div style=\"direction:rtl; font-size: 17px; font-family: 'XB Zar'; line-height: 200%\">بسیاری از توابع ماژول \n",
    "    re\n",
    "    یک آرگومان کلیدی و اختیاری \n",
    "    flags\n",
    "    را دریافت می‌کنند تا نحوه مطابقت عبارات منظم را تغییر دهند. به عنوان مثال، مطابقت‌ها به صورت پیش‌فرض به حروف کوچک و بزرگ حساس هستند اما با استفاده از ثابت \n",
    "    IGNORECASE\n",
    "    در ماژول \n",
    "    re\n",
    "    می‌توانید جست‌وجو را بدون توجه به بزرگی و یا کوچکی حروف انجام دهید.\n",
    "</div>"
   ]
  },
  {
   "cell_type": "code",
   "execution_count": null,
   "id": "df710d66-0846-404d-ad06-abfd1759c129",
   "metadata": {},
   "outputs": [],
   "source": [
    "result3 = re.search('Sam', 'SAM WHITE', flags=re.IGNORECASE)"
   ]
  },
  {
   "cell_type": "code",
   "execution_count": null,
   "id": "1d76ae7c-3a21-4368-a51b-563818179953",
   "metadata": {},
   "outputs": [],
   "source": [
    "result3.group() if result3 else 'not found'"
   ]
  },
  {
   "cell_type": "markdown",
   "id": "42833433-390d-46ef-bc65-f38d7ef99d29",
   "metadata": {},
   "source": [
    "<div style=\"direction:rtl; font-size: 17px; font-family: 'XB Zar'; line-height: 200%\">در اسنیپت بالا، با اینکه \n",
    "    'SAM'\n",
    "    فقط از حروف بزرگ تشکیل شده ولی \n",
    "    'SAM'\n",
    "    با الگوی \n",
    "    'Sam'\n",
    "    مطابقت دارد زیرا هردو حروف یکسانی دارند.\n",
    "</div>"
   ]
  },
  {
   "cell_type": "markdown",
   "id": "4434595a-2a59-4351-9442-6e3247e54372",
   "metadata": {},
   "source": [
    "<h2 style=\"direction:rtl;font-size: px;font-family: 'XB Zar';color:#0288d1;\">متاکاراکترهایی که فرآیند تطابق را به ابتدا و یا انتهای رشته محدود می‌کنند\n",
    "</h2> <a id=''></a>"
   ]
  },
  {
   "cell_type": "markdown",
   "id": "b35c606d-f6f0-424a-aeb6-c57712d356ff",
   "metadata": {},
   "source": [
    "<div style=\"direction:rtl; font-size: 17px; font-family: 'XB Zar'; line-height: 200%\">متاکاراکتر \n",
    "    ^\n",
    "    در ابتدای عبارت منظم (و نه در داخل یک جفت براکت) یک \n",
    "    لنگر\n",
    "    (anchor)\n",
    "    است و نشان می‌دهد این عبارت منظم فقط با ابتدای یک رشته مطابقت دارد:\n",
    "</div>"
   ]
  },
  {
   "cell_type": "code",
   "execution_count": null,
   "id": "592acb29-027f-403a-a7c3-f37ecc3924d3",
   "metadata": {},
   "outputs": [],
   "source": [
    "result = re.search('^Python', 'Python is fun')"
   ]
  },
  {
   "cell_type": "code",
   "execution_count": null,
   "id": "3e679073-99cd-4068-9c5b-513c2d33d673",
   "metadata": {},
   "outputs": [],
   "source": [
    "result.group() if result else 'not found'"
   ]
  },
  {
   "cell_type": "code",
   "execution_count": null,
   "id": "ee30db7f-046b-4049-8499-ab820e39896a",
   "metadata": {},
   "outputs": [],
   "source": [
    "result = re.search('^fun', 'Python is fun')"
   ]
  },
  {
   "cell_type": "code",
   "execution_count": null,
   "id": "7def0c67-98c0-4620-bc07-07a9dd11cd40",
   "metadata": {},
   "outputs": [],
   "source": [
    "result.group() if result else 'not found'"
   ]
  },
  {
   "cell_type": "markdown",
   "id": "c756f9dd-fb82-4acb-9c4e-ba6c437a5c66",
   "metadata": {},
   "source": [
    "<div style=\"direction:rtl; font-size: 17px; font-family: 'XB Zar'; line-height: 200%\">به طور مشابه متاکاراکتر \n",
    "    $\n",
    "    در انتهای عبارت منظم یک لنگر است و نشان می‌دهد این عبارت منظم فقط با انتهای یک رشته مطابقت دارد:\n",
    "</div>"
   ]
  },
  {
   "cell_type": "code",
   "execution_count": null,
   "id": "04e378ef-0003-43b5-afd7-f5bebbe2cc41",
   "metadata": {},
   "outputs": [],
   "source": [
    "result = re.search('Python$', 'Python is fun')"
   ]
  },
  {
   "cell_type": "code",
   "execution_count": null,
   "id": "4ceb4e29-35c0-4146-a9ac-728ae79b4562",
   "metadata": {},
   "outputs": [],
   "source": [
    "result.group() if result else 'not found'"
   ]
  },
  {
   "cell_type": "code",
   "execution_count": null,
   "id": "cc32268f-4bd3-47d5-984f-247eb7f30de1",
   "metadata": {},
   "outputs": [],
   "source": [
    "result = re.search('fun$', 'Python is fun')"
   ]
  },
  {
   "cell_type": "code",
   "execution_count": null,
   "id": "96f83b7b-8d7e-4a55-a8ad-de0ef6a17c12",
   "metadata": {},
   "outputs": [],
   "source": [
    "result.group() if result else 'not found'"
   ]
  },
  {
   "cell_type": "markdown",
   "id": "20d771d4-4367-4a3c-b111-d6c18fe4629b",
   "metadata": {},
   "source": [
    "<h2 style=\"direction:rtl;font-size: px;font-family: 'XB Zar';color:#0288d1;\">توابع \n",
    "    findall\n",
    "    و \n",
    "    finditer\n",
    "    - یافتن همه موارد تطابق در یک رشته\n",
    "</h2> <a id=''></a>"
   ]
  },
  {
   "cell_type": "markdown",
   "id": "821fc0a5-fd71-4cb2-a7d2-b5f54ab1f314",
   "metadata": {},
   "source": [
    "<div style=\"direction:rtl; font-size: 17px; font-family: 'XB Zar'; line-height: 200%\">تابع \n",
    "    findall\n",
    "    هر زیررشته منطبق را در یک رشته پیدا می‌کند و لیستی از زیررشته‌های منطبق را برمی‌گرداند. فرض کنید قصد داریم همه شماره تلفن‌های ایالات‌متحده را از یک رشته استخراج کنیم. برای سادگی فرض می‌کنیم شماره تلفن‌های ایالات‌متحده به شکل ####-###-### هستند:\n",
    "</div>"
   ]
  },
  {
   "cell_type": "code",
   "execution_count": null,
   "id": "0cb93abb-c33c-4986-a5f6-bd48b6ae92ba",
   "metadata": {},
   "outputs": [],
   "source": [
    "contact = 'Wally White, Home: 555-555-1234, Work: 555-555-4321'"
   ]
  },
  {
   "cell_type": "code",
   "execution_count": null,
   "id": "614b7a58-e021-440e-bf11-ccf87abb0ec5",
   "metadata": {},
   "outputs": [],
   "source": [
    "re.findall(r'\\d{3}-\\d{3}-\\d{4}', contact)"
   ]
  },
  {
   "cell_type": "markdown",
   "id": "6316056d-6534-44bd-ac20-8f3c99abe27d",
   "metadata": {},
   "source": [
    "<div style=\"direction:rtl; font-size: 17px; font-family: 'XB Zar'; line-height: 200%\">تابع\n",
    "    finditer\n",
    "    مانند \n",
    "    findall\n",
    "    کار می‌کند، اما یک شیء \n",
    "     lazy iterable\n",
    "    از اشیای منطبق برمی‌گرداند. اگر انطباق‌ها زیاد باشد، استفاده از \n",
    "    finditer\n",
    "    می‌تواند در مصرف حافظه صرفه‌جویی کند زیرا این تابع هر بار یک تطابق را برمی‌گرداند، درحالی که تابع \n",
    "    findall\n",
    "    همه انطباق‌ها را یک‌باره برمی‌گرداند:\n",
    "</div>"
   ]
  },
  {
   "cell_type": "code",
   "execution_count": null,
   "id": "92275718-c07f-47d6-a34e-2764506009ba",
   "metadata": {},
   "outputs": [],
   "source": [
    "for phone in re.finditer(r'\\d{3}-\\d{3}-\\d{4}', contact):\n",
    "    print(phone.group())"
   ]
  },
  {
   "cell_type": "markdown",
   "id": "8d553bf4-e5d3-4bb2-a34c-0a263f3616ce",
   "metadata": {},
   "source": [
    "<h2 style=\"direction:rtl;font-size: px;font-family: 'XB Zar';color:#0288d1;\">استخراج زیررشته‌ها از یک تطابق\n",
    "</h2> <a id=''></a>"
   ]
  },
  {
   "cell_type": "markdown",
   "id": "fb9b5c83-e668-4461-afc1-bba26b21ddee",
   "metadata": {},
   "source": [
    "<div style=\"direction:rtl; font-size: 17px; font-family: 'XB Zar'; line-height: 200%\">با استفاده از متاکاراکترهای پرانتز ( و ) می‌توانید زیررشته‌های یک تطابق را استخراج کنید. برای مثال اجازه دهید در رشته \n",
    "    text\n",
    "    زیررشته‌های نام و آدرس ایمیل را به طور جداگانه استخراج کنیم:\n",
    "</div>"
   ]
  },
  {
   "cell_type": "code",
   "execution_count": null,
   "id": "f32e68d1-9e4c-4e10-aef8-4bec20c43b3e",
   "metadata": {},
   "outputs": [],
   "source": [
    "text = 'Charlie Cyan, e-mail: demo1@deitel.com'"
   ]
  },
  {
   "cell_type": "code",
   "execution_count": null,
   "id": "3cd5232c-20c2-4fc8-93d0-0096c353d6f2",
   "metadata": {},
   "outputs": [],
   "source": [
    "pattern = r'([A-Z][a-z]+ [A-Z][a-z]+), e-mail: (\\w+@\\w+\\.\\w{3})'"
   ]
  },
  {
   "cell_type": "code",
   "execution_count": null,
   "id": "6092adfd-334a-4aff-be57-c5fee6a9276e",
   "metadata": {},
   "outputs": [],
   "source": [
    "result = re.search(pattern, text)"
   ]
  },
  {
   "cell_type": "markdown",
   "id": "ed441f21-976d-4a48-ada4-bf76ef97fc3a",
   "metadata": {},
   "source": [
    "<div style=\"direction:rtl; font-size: 17px; font-family: 'XB Zar'; line-height: 200%\">عبارت منظم دو زیررشته که هرکدام با متاکاراکترهای ( و ) مشخص شده‌اند را برای استخراج مشخص می‌کند. این متاکاراکترها بر یافتن الگو در رشته \n",
    "    text\n",
    "    هیچ تأثیری ندارند. تابع \n",
    "    match\n",
    "    فقط درصورتی‌که کل الگو در رشته \n",
    "    text\n",
    "    پیدا شود، یک شیء \n",
    "    match\n",
    "    را برمی‌گرداند. اجازه دهید عبارت منظم را با جزئیات بیشتر بررسی کنیم:\n",
    "</div>"
   ]
  },
  {
   "cell_type": "markdown",
   "id": "8b659156-edc1-45da-80b8-138205659506",
   "metadata": {},
   "source": [
    "<div style=\"direction:rtl; font-size: 17px; font-family: 'XB Zar'; line-height: 200%\">\n",
    "    <span style=\"color:#8e24aa;\">• </span><code>'(+[a-z][A-Z] +[a-z][A-Z])'</code>\n",
    "    با دو کلمه که با \n",
    "    space\n",
    "    جدا شده‌اند مطابقت دارد. هر کلمه باید با حرف بزرگ شروع شود.<br>\n",
    "    <span style=\"color:#8e24aa;\">• </span><code>' e-mail: , '</code>\n",
    "    حاوی کاراکترهای لیترال است که با خودشان مطابقت دارند.<br>\n",
    "    <span style=\"color:#8e24aa;\">• </span><code style=\"direction:ltr;\">(\\w+@\\w+\\.\\w{3})</code>\n",
    "    با یک آدرس ایمیل ساده متشکل از یک یا چند کاراکتر حرفی - عددی \n",
    "    (+w\\)\n",
    "    کاراکتر @ یک یا چند کاراکتر حرفی - عددی \n",
    "    (+w\\)\n",
    "    نقطه \n",
    "    (.\\)\n",
    "    و سه کاراکتر حرفی - عددی \n",
    "    (w{3}\\)\n",
    "    مطابقت دارد. قبل از نقطه کاراکتر \\ قرار داده‌ایم، زیرا یک نقطه (.) یک عبارت منظم است و با یک کاراکتر مطابقت دارد.<br>\n",
    "\n",
    "</div>"
   ]
  },
  {
   "cell_type": "markdown",
   "id": "7b82db52-0abe-423f-8211-e0ee16277133",
   "metadata": {},
   "source": [
    "<div style=\"direction:rtl; font-size: 17px; font-family: 'XB Zar'; line-height: 200%\">متد \n",
    "    groups\n",
    "    از شیء \n",
    "    match\n",
    "    یک تاپل حاوی زیررشته‌های استخراج شده برمی‌گرداند:\n",
    "</div>"
   ]
  },
  {
   "cell_type": "code",
   "execution_count": null,
   "id": "30d5fa69-0078-4eb3-b99f-d0a5833721b6",
   "metadata": {},
   "outputs": [],
   "source": [
    "result.groups()"
   ]
  },
  {
   "cell_type": "markdown",
   "id": "45216b18-06ec-4dd8-8c95-a8f79b3710a2",
   "metadata": {},
   "source": [
    "<div style=\"direction:rtl; font-size: 17px; font-family: 'XB Zar'; line-height: 200%\">متد \n",
    "    group\n",
    "    از شیء \n",
    "    match\n",
    "    ، کل تطابق را به صورت یک رشته برمی‌گرداند:\n",
    "</div>"
   ]
  },
  {
   "cell_type": "code",
   "execution_count": null,
   "id": "d604a805-f769-4bbd-ad19-93714bcbbc63",
   "metadata": {},
   "outputs": [],
   "source": [
    "result.group()"
   ]
  },
  {
   "cell_type": "markdown",
   "id": "276d4008-08dd-4027-abe2-5d3900f64f7b",
   "metadata": {},
   "source": [
    "<div style=\"direction:rtl; font-size: 17px; font-family: 'XB Zar'; line-height: 200%\">با ارسال یک عدد صحیح به متد \n",
    "    group\n",
    "    می‌توانید به هر زیررشته استخراج شده دسترسی پیدا کنید. زیررشته‌های استخراج شده از یک شماره‌گذاری می‌شوند (برخلاف اندیس‌های لیست که از صفر شروع می‌شوند):\n",
    "</div>"
   ]
  },
  {
   "cell_type": "code",
   "execution_count": null,
   "id": "6e086c9a-5c9e-4333-808d-2c8e0de9fca9",
   "metadata": {},
   "outputs": [],
   "source": [
    "result.group(1)"
   ]
  },
  {
   "cell_type": "code",
   "execution_count": null,
   "id": "e18fcd37-6d8d-462b-8ac5-c3e9dbc78227",
   "metadata": {},
   "outputs": [],
   "source": [
    "result.group(2)"
   ]
  },
  {
   "cell_type": "markdown",
   "id": "624f1840-dae7-45c6-9744-45588cac47dd",
   "metadata": {},
   "source": [
    "<h1 style=\"direction:rtl;font-size: 35px;font-family: 'XB Zar';color:#8e24aa;\">8.13 <span style=\"color:#F50057;\">مقدمه‌ای بر علم داده: Pandas، عبارات منظم و Data \n",
    "Munging</span></h1> <a id='21'></a>"
   ]
  },
  {
   "cell_type": "markdown",
   "id": "e9fa28b8-b9f2-49d4-aa91-dcf87d7279e8",
   "metadata": {},
   "source": [
    "<div style=\"direction:rtl; font-size: 17px; font-family: 'XB Zar'; line-height: 200%\">داده‌ها همیشه آماده تجزیه و تحلیل نیستند. برای مثال، می‌توانند در فرمت نادرست، مقدار نادرست یا حتی گم‌شده باشند. تجربه صنعت نشان داده است که دانشمندان علم داده قبل از شروع مطالعات تا سقف ۷۵% از وقت خود را صرف آماده‌سازی داده‌ها می‌کنند. آماده‌سازی داده‌ها برای تجزیه و تحلیل اطلاعات، \n",
    "    data munging\n",
    "    یا\n",
    "    data wrangling\n",
    "    نامیده می‌شود. پاک‌سازی داده‌ها و تبدیل داده‌ها به فرمت‌های مطلوب برای سیستم‌های پایگاه داده و نرم‌افزار تجزیه و تحلیل دو مورد از مهم‌ترین مراحل در \n",
    "    data munging\n",
    "    محسوب می‌شوند. برخی از نمونه‌های معمول پاک‌سازی داده عبارت‌اند از:\n",
    "</div>"
   ]
  },
  {
   "cell_type": "markdown",
   "id": "afb80124-2055-444e-a85c-298265ac8b1d",
   "metadata": {},
   "source": [
    "<div style=\"direction:rtl; font-size: 17px; font-family: 'XB Zar'; line-height: 200%\">\n",
    "    <span style=\"color:#8e24aa;\">• </span>حذف مشاهدات با مقادیر از دست رفته<br>\n",
    "    <span style=\"color:#8e24aa;\">• </span>جایگزینی مقادیر از دست رفته با مقادیر معقول<br>\n",
    "    <span style=\"color:#8e24aa;\">• </span>حذف مشاهدات با مقادیر بد<br>\n",
    "    <span style=\"color:#8e24aa;\">• </span>جایگزینی مقادیر بد با مقادیر مناسب<br>\n",
    "    <span style=\"color:#8e24aa;\">• </span>حذف داده‌های پرت (اگرچه گاهی اوقات می‌خواهید آن‌ها را نگه دارید)<br>\n",
    "    <span style=\"color:#8e24aa;\">• </span>حذف داده‌های تکراری (اگرچه گاهی اوقات داده‌های تکراری معتبر هستند)<br>\n",
    "    <span style=\"color:#8e24aa;\">• </span>مدیریت داده‌های ناسازگار<br>\n",
    "    <span style=\"color:#8e24aa;\">• </span>موارد دیگر<br>\n",
    "\n",
    "</div>"
   ]
  },
  {
   "cell_type": "markdown",
   "id": "39656795-a00c-4927-b7b3-6acc1bfd9dad",
   "metadata": {},
   "source": [
    "<div style=\"direction:rtl; font-size: 17px; font-family: 'XB Zar'; line-height: 200%\">احتمالا فکر کرده‌اید که پاک‌سازی داده‌ها فرآیندی دشوار و پیچیده است و ممکن است به راحتی تصمیمات بدی بگیرید  و این تصمیمات بر نتایج شما تأثیر منفی بگذارند. این مطلب درست است. زمانی‌که در بخش‌های بعدی به مطالعه موردی علم داده برسید، خواهید دید که علم داده بیشتر یک علم تجربی، مانند پزشکی است و کمتر یک علم نظری مانند فیزیک تلقی می‌شود. علوم تجربی نتیجه‌گیری‌های خود را براساس مشاهدات و تجربه قرار می‌دهند. به عنوان مثال، بسیاری از داروها که امروزه به طور موثر مشکلات پزشکی را حل می‌کنند با مشاهده تأثیراتی که نسخه‌های ابتدایی این داروها بر روی حیوانات آزمایشگاهی و درنهایت انسان‌ها داشته‌اند و با پالایش تدریجی مواد اولیه و تصحیح دوزهای مصرفی توسعه پیدا کردند. اقداماتی که دانشمندان داده در هر پروژه انجام می‌دهند، بر اساس کیفیت و ماهیت داده‌ها تفاوت دارند. این اقدامات برمبنای کیفیت و ماهیت داده‌ها، پی‌ریزی می‌شوند و تحت‌تأثیر سازمان‌های در حال تحول و استانداردهای حرفه‌ای قرار می‌گیرند.\n",
    "</div>"
   ]
  },
  {
   "cell_type": "markdown",
   "id": "193e8dfe-71e4-477f-9c96-5698132a9a65",
   "metadata": {},
   "source": [
    "<div style=\"direction:rtl; font-size: 17px; font-family: 'XB Zar'; line-height: 200%\">برخی از تبدیلات رایج داده‌ها شامل:\n",
    "</div>"
   ]
  },
  {
   "cell_type": "markdown",
   "id": "314c0376-21dc-4b12-8328-b691cbfba2d5",
   "metadata": {},
   "source": [
    "<div style=\"direction:rtl; font-size: 17px; font-family: 'XB Zar'; line-height: 200%\">\n",
    "    <span style=\"color:#8e24aa;\">• </span>حذف داده‌ها و ویژگی‌های غیرضروری (در مطالعات موردی در بخش علم داده در مورد ویژگی‌ها بیشتر توضیح خواهیم داد)<br>\n",
    "    <span style=\"color:#8e24aa;\">• </span>ترکیب ویژگی‌های مرتبط<br>\n",
    "    <span style=\"color:#8e24aa;\">• </span>نمونه‌برداری از داده‌ها برای به دست آوردن زیرمجموعه نماینده (در مطالعات موردی علم داده خواهیم دید که نمونه‌گیری تصادفی به ویژه برای این کار موثرتر است و دلیل آن را نیز توضیح خواهیم داد)<br>\n",
    "    <span style=\"color:#8e24aa;\">• </span>استاندارد کردن فرمت‌های داده<br>\n",
    "    <span style=\"color:#8e24aa;\">• </span>گروه‌بندی داده‌ها<br>\n",
    "    <span style=\"color:#8e24aa;\">• </span>موارد دیگر<br>\n",
    "\n",
    "</div>"
   ]
  },
  {
   "cell_type": "markdown",
   "id": "6eb75185-0a12-4e7d-8f67-ab266c86b774",
   "metadata": {},
   "source": [
    "<div style=\"direction:rtl; font-size: 17px; font-family: 'XB Zar'; line-height: 200%\">نگه‌داشتن اطلاعات اصلی همیشه عاقلانه است. نمونه‌های ساده‌ای از پاک‌سازی و تبدیل داده‌ها را در محیط \n",
    "    Pandas\n",
    "    با\n",
    "    Series \n",
    "    و \n",
    "    DataFrames\n",
    "    نشان خواهیم داد.\n",
    "</div>"
   ]
  },
  {
   "cell_type": "markdown",
   "id": "36070ce7-31ab-41bb-8cba-a7924b344e67",
   "metadata": {},
   "source": [
    "<h2 style=\"direction:rtl;font-size: px;font-family: 'XB Zar';color:#0288d1;\">پاک‌سازی داده‌های شما\n",
    "</h2> <a id=''></a>"
   ]
  },
  {
   "cell_type": "markdown",
   "id": "8d5306e8-fca7-4ee7-adf0-403ea261922f",
   "metadata": {},
   "source": [
    "<div style=\"direction:rtl; font-size: 17px; font-family: 'XB Zar'; line-height: 200%\">مقادیر بد داده و مقادیر از دست‌رفته می‌توانند به طور قابل‌توجهی بر تجزیه و تحلیل داده‌ها تأثیر بگذارند. برخی از دانشمندان داده‌ها، با هرگونه تلاش برای درج مقادیر معقول مخالفت می‌کنند. در عوض، آن‌ها براین عقیده‌اند که باید داده‌های از دست رفته به روشنی علامت‌گذاری شوند و سپس آن‌ها را در اختیار پکیج نرم‌افزاری تجزیه و تحلیل داده‌ها قرار دهند تا مشکل برطرف شود. برخی دیگر احتیاط‌های شدیدی را توصیه می‌کنند.\n",
    "\n",
    "</div>"
   ]
  },
  {
   "cell_type": "markdown",
   "id": "7c5595ac-c6a0-4e18-aea9-03419087c74a",
   "metadata": {},
   "source": [
    "<div style=\"direction:rtl; font-size: 17px; font-family: 'XB Zar'; line-height: 200%\">بیمارستانی را درنظر بگیرید که درجه حرارت بیماران (و احتمالا سایر علائم حیاتی) را چهاربار در روز ثبت می‌کند. فرض کنید داده‌ها از یک نام و چهار مقدار اعشاری تشکیل شده باشد:\n",
    "</div>"
   ]
  },
  {
   "cell_type": "markdown",
   "id": "a90a2a15-40ba-4c59-9e04-ac9981f358dc",
   "metadata": {},
   "source": [
    "```Python\n",
    "['Brown, Sue', 98.6, 98.4, 98.7, 0.0]\n",
    "```"
   ]
  },
  {
   "cell_type": "markdown",
   "id": "c5d8f683-82ee-49fe-94ca-3e919460d0de",
   "metadata": {},
   "source": [
    "<div style=\"direction:rtl; font-size: 17px; font-family: 'XB Zar'; line-height: 200%\">سه درجه حرارت ثبت‌شده برای بیمار بالا ۹۸.۷، ۹۸.۴، ۹۸.۶ می‌باشند. آخرین درجه حرارت، درست اندازه‌گیری نشده و برای آن مقدار ۰.۰ ثبت شده است، ممکن است این اتفاق به دلیل خرابی سنسور روی داده باشد. میانگین سه مقدار اول ۹۸.۵۷ است که نزدیک به حد نرمال است. با این حال، اگر شما میانگین دما را همراه با مقدار ازدست‌رفته‌ای که ۰.۰ برای آن جایگزین شده محاسبه کنید، میانگین ۷۳.۹۳ به‌دست می‌آید و واضح است که یک نتیجه سوال برانگیز است. مطمئنا پزشکان نمی‌خواهند برای این بیمار اقدامات درمانی جدی انجام دهند - به همین دلیل دریافت درست داده‌ها حیاتی است.\n",
    "</div>"
   ]
  },
  {
   "cell_type": "markdown",
   "id": "63ce67a1-2d88-44c4-8e92-a6d623c3679c",
   "metadata": {},
   "source": [
    "<div style=\"direction:rtl; font-size: 17px; font-family: 'XB Zar'; line-height: 200%\">یک روش معمول برای پاک‌سازی داده‌ها، جایگزینی مقدار معقولی برای دمای ازدست‌رفته است، برای مثال میانگین سایر دماهای قرائت شده بیمار گزینه مناسبی محسوب می‌شود. اگر این کار را در بالا انجام می‌دادیم، میانگین دمای بیمار ۹۸.۵۷ باقی می‌ماند و براساس داده‌های از قبل خوانده‌شده به دمای متوسط نزدیک‌تر است.\n",
    "</div>"
   ]
  },
  {
   "cell_type": "markdown",
   "id": "611345ac-f607-491f-a98a-a11fc95b0b31",
   "metadata": {},
   "source": [
    "<h2 style=\"direction:rtl;font-size: px;font-family: 'XB Zar';color:#0288d1;\">اعتبارسنجی داده‌ها\n",
    "</h2> <a id=''></a>"
   ]
  },
  {
   "cell_type": "markdown",
   "id": "6bbb2b5c-8b40-42cd-9ab7-d765ff28ac2d",
   "metadata": {},
   "source": [
    "<div style=\"direction:rtl; font-size: 17px; font-family: 'XB Zar'; line-height: 200%\">در این قسمت با استفاده از یک دیکشنری، یک \n",
    "    Series\n",
    "    حاوی نام شهر و کدپستی ایجاد می‌کنیم. دیکشنری از زوج‌های کلید-مقدار تشکیل شده و نام شهر کلید و کدهای پنج‌رقمی مقدار محسوب می‌شوند. در زیر، برای \n",
    "    Miami\n",
    "    عمدا یک کدپستی نامعتبر وارد کرده‌ایم:\n",
    "</div>"
   ]
  },
  {
   "cell_type": "code",
   "execution_count": null,
   "id": "b15292b8-0dbd-485b-b873-e53960872470",
   "metadata": {},
   "outputs": [],
   "source": [
    "import pandas as pd"
   ]
  },
  {
   "cell_type": "code",
   "execution_count": null,
   "id": "7eb51c28-b88d-4404-9626-c32af3db9854",
   "metadata": {},
   "outputs": [],
   "source": [
    "zips = pd.Series({'Boston': '02215', 'Miami': '3310'})"
   ]
  },
  {
   "cell_type": "code",
   "execution_count": null,
   "id": "5affdea9-4a64-49ca-98e9-b82cf4677601",
   "metadata": {},
   "outputs": [],
   "source": [
    "zips"
   ]
  },
  {
   "cell_type": "markdown",
   "id": "0b35c03a-f30b-4287-abb0-3898cbcbacca",
   "metadata": {},
   "source": [
    "<div style=\"direction:rtl; font-size: 17px; font-family: 'XB Zar'; line-height: 200%\">اگرچه\n",
    "    zips\n",
    "    مانند یک آرایه دوبعدی به نظر می‌رسد، اما در واقع یک آرایه یک‌بعدی محسوب می‌شود. ستون دوم نشان‌دهنده مقادیر \n",
    "    Series\n",
    "    یا همان کدهای پستی (از مقادیر دیکشنری) است و ستون اول اندیس‌های آن‌ها را نشان می‌دهد (از کلیدهای دیکشنری).\n",
    "</div>"
   ]
  },
  {
   "cell_type": "markdown",
   "id": "e761ab85-c3bd-40ba-9a09-ba11eba72584",
   "metadata": {},
   "source": [
    "<div style=\"direction:rtl; font-size: 17px; font-family: 'XB Zar'; line-height: 200%\">برای اعتبارسنجی داده‌ها می‌توانیم از عبارات منظم در \n",
    "    Pandas\n",
    "    استفاده کنیم. \n",
    "    str attribute\n",
    "    در\n",
    "    Series\n",
    "    متدهای مختلفی برای پردازش رشته و عبارات منظم فراهم می‌کند. برای بررسی صحت هر کدپستی از متد \n",
    "    match\n",
    "    در \n",
    "    str attribute\n",
    "    استفاده می‌کنیم:\n",
    "</div>"
   ]
  },
  {
   "cell_type": "code",
   "execution_count": null,
   "id": "89af9d24-6e26-432b-99ed-53fb57a70bfe",
   "metadata": {},
   "outputs": [],
   "source": [
    "zips.str.match(r'\\d{5}')"
   ]
  },
  {
   "cell_type": "markdown",
   "id": "d176e890-bf2a-4e76-82cb-a692861ea825",
   "metadata": {},
   "source": [
    "<div style=\"direction:rtl; font-size: 17px; font-family: 'XB Zar'; line-height: 200%\">متد \n",
    "    match\n",
    "    عبارت منظم \n",
    "     d{5}\\\n",
    "    را برای هر عنصر \n",
    "    Series\n",
    "    اعمال می‌کند و سعی می‌کند اطمینان حاصل کند که هر عنصر دقیقا از پنج رقم تشکیل شده باشد. نیازی نیست که تمامی مقادیر کدهای پستی را پیمایش کنید، چرا که متد \n",
    "    match\n",
    "    این کار را برای شما انجام می‌دهد. این اسنیپت مثال دیگری از برنامه‌نویسی به سبک تابعی است که در آن به جای استفاده از حلقه تکرار خارجی از حلقه تکرار داخلی استفاده شده است. متد \n",
    "    match\n",
    "    یک \n",
    "    Series\n",
    "    جدید را برمی‌گرداند که برای هر عنصر معتبر حاوی مقدار \n",
    "    True\n",
    "    است. در این حالت، کد پستی برای \n",
    "    Miami\n",
    "    مطابقت ندارد و به همین دلیل عنصر مربوط به آن \n",
    "    False\n",
    "    است.\n",
    "</div>"
   ]
  },
  {
   "cell_type": "markdown",
   "id": "a55d4d3c-faa9-4bfe-adc7-64408c242630",
   "metadata": {},
   "source": [
    "<div style=\"direction:rtl; font-size: 17px; font-family: 'XB Zar'; line-height: 200%\">روش‌های مختلفی برای مدیریت داده‌های نامعتبر وجود دارد. در یکی از این روش‌ها باید در منبع داده خود جست‌وجو کنید و برای اصلاح مقدار با منبع داده تعامل داشته باشید. این روش همیشه ممکن نیست. به عنوان مثال، داده‌ها می‌توانند از سنسورهای سرعت بالا در اینترنت اشیاء به دست بیایند؛ در این صورت نمی‌توانیم آن‌ها را در منبع داده اصلاح کنیم، بنابراین می‌توانیم از روش‌های پاک‌سازی داده‌ها استفاده کنیم. در مورد کدپستی نامناسب ۳۳۱۰ برای \n",
    "    Miami\n",
    "    ممکن است به دنبال کدپستی \n",
    "    Miami\n",
    "    باشیم که با ۳۳۱۰ شروع شود. دو مورد وجود دارد - ۳۳۱۰۱ و ۳۳۱۰۹ - و می‌توانیم یکی از این دو مورد را انتخاب کنیم.\n",
    "</div>"
   ]
  },
  {
   "cell_type": "markdown",
   "id": "434b9615-6a2a-49db-af49-43a2a9ff3a13",
   "metadata": {},
   "source": [
    "<div style=\"direction:rtl; font-size: 17px; font-family: 'XB Zar'; line-height: 200%\">گاهی اوقات، به جای تطبیق کل یک مقدار با یک الگو می‌خواهید بدانید که آیا آن مقدار حاوی زیررشته‌ای است که با الگو مطابقت دارد یا خیر. در این حالت، به جای متد \n",
    "    match.\n",
    "    از متد \n",
    "    contains\n",
    "    استفاده کنید. در این قسمت یک \n",
    "    Series\n",
    "    از رشته‌ها ایجاد می‌کنیم به‌طوری‌که هر رشته حاوی نام یک شهر ایالات‌متحده، ایالت و کدپستی باشد، سپس تعیین می‌کنیم که آیا هر رشته شامل یک زیررشته مطابق با الگوی \n",
    "    ' {2}[A-Z] '\n",
    "    (یک فاصله، به دنبال آن دو حرف بزرگ و به دنبال آن یک فاصله) است و یا خیر:\n",
    "</div>"
   ]
  },
  {
   "cell_type": "code",
   "execution_count": null,
   "id": "c641afcc-ac63-475b-910f-af1f1240162a",
   "metadata": {},
   "outputs": [],
   "source": [
    "cities = pd.Series(['Boston, MA 02215', 'Miami, FL 33101'])"
   ]
  },
  {
   "cell_type": "code",
   "execution_count": null,
   "id": "81ec8505-0bbe-4410-9068-9089f7021f24",
   "metadata": {},
   "outputs": [],
   "source": [
    "cities"
   ]
  },
  {
   "cell_type": "code",
   "execution_count": null,
   "id": "d52e8bf8-25f5-4632-8fe4-498015165684",
   "metadata": {},
   "outputs": [],
   "source": [
    "cities.str.contains(r' [A-Z]{2} ')"
   ]
  },
  {
   "cell_type": "code",
   "execution_count": null,
   "id": "9acf8e39-c683-4dd9-b8b6-dc315cc8bdd1",
   "metadata": {},
   "outputs": [],
   "source": [
    "cities.str.match(r' [A-Z]{2} ')"
   ]
  },
  {
   "cell_type": "markdown",
   "id": "cc0f9931-a404-4f32-b121-89e14e0684ca",
   "metadata": {},
   "source": [
    "<div style=\"direction:rtl; font-size: 17px; font-family: 'XB Zar'; line-height: 200%\">از آنجایی‌که مقادیر اندیس را مشخص نکردیم \n",
    "    Series\n",
    "    به‌طور پیش‌فرض اندیس‌ها را از صفر شروع می‌کند (اسنیپت [۶]). اسنیپت [۷] از متد \n",
    "    contains\n",
    "    استفاده می‌کند تا نشان دهد هر دو عنصر \n",
    "    Series\n",
    "    شامل زیررشته‌هایی هستند که با الگوی \n",
    "    ' {2}[A-Z] '\n",
    "    مطابقت دارند. اسنیپت [۸] از متد \n",
    "    match\n",
    "    استفاده می‌کند تا نشان دهد که هیچ یک از عناصر \n",
    "    Series\n",
    "    به طور کامل با آن الگو مطابقت ندارد، زیرا هر یک از آن‌ها حاوی کاراکترهای دیگر هستند.\n",
    "</div>"
   ]
  },
  {
   "cell_type": "markdown",
   "id": "5e8f4e2d-dd18-487f-bc90-172158344a44",
   "metadata": {},
   "source": [
    "<h2 style=\"direction:rtl;font-size: px;font-family: 'XB Zar';color:#0288d1;\">فرمت مجدد داده‌ها\n",
    "</h2> <a id=''></a>"
   ]
  },
  {
   "cell_type": "markdown",
   "id": "238d0e02-e53d-4584-b1ec-0c9e0a90d224",
   "metadata": {},
   "source": [
    "<div style=\"direction:rtl; font-size: 17px; font-family: 'XB Zar'; line-height: 200%\">در مورد پاک‌سازی داده‌ها توضیح داده‌ایم. در این قسمت با \n",
    "    data munging\n",
    "    داده‌ها را به فرمت دیگری تبدیل می‌کنیم. به عنوان یک مثال ساده فرض کنید که یک برنامه به شماره تلفن‌های ایالات‌متحده با فرمت ####-###-### نیاز دارد. در این فرمت از خط تیره برای گروه‌بندی ارقام استفاده می‌شود. شماره تلفن‌ها به صورت رشته‌های ۱۰ رقمی و بدون خط تیره در اختیار ما قرار گرفته است. در ابتدا یک \n",
    "    DataFrame\n",
    "    ایجاد می‌کنیم:\n",
    "</div>"
   ]
  },
  {
   "cell_type": "code",
   "execution_count": null,
   "id": "02eefa8d-0513-4c55-8b85-5eb3b17de635",
   "metadata": {},
   "outputs": [],
   "source": [
    "contacts = [['Mike Green', 'demo1@deitel.com', '5555555555'],\n",
    "            ['Sue Brown', 'demo2@deitel.com', '5555551234']]"
   ]
  },
  {
   "cell_type": "code",
   "execution_count": null,
   "id": "980f75e8-d064-41d7-981a-46a9bc762630",
   "metadata": {},
   "outputs": [],
   "source": [
    "contactsdf = pd.DataFrame(contacts, \n",
    "                          columns=['Name', 'Email', 'Phone'])"
   ]
  },
  {
   "cell_type": "code",
   "execution_count": null,
   "id": "04aa9461-dc8c-4b28-b720-c55e7fbb40e3",
   "metadata": {},
   "outputs": [],
   "source": [
    "contactsdf"
   ]
  },
  {
   "cell_type": "markdown",
   "id": "bf9c3b68-4867-4446-b397-11de1c14db19",
   "metadata": {},
   "source": [
    "<div style=\"direction:rtl; font-size: 17px; font-family: 'XB Zar'; line-height: 200%\">در این\n",
    "    DataFrame\n",
    "    ، اندیس‌های ستون را با آرگومان کلیدی \n",
    "    columns\n",
    "    مشخص کردیم اما برای سطرها اندیسی تعیین نکردیم، بنابراین سطرها از صفر \n",
    "    اندیس‌گذاری می‌شوند. خروجی نشان می‌دهد که مقادیر ستون به طور پیش‌فرض از راست تراز می‌شوند. این فرمت‌بندی با فرمت‌بندی پایتون تفاوت دارد. در پایتون به طور پیش‌فرض اعداد از سمت راست تراز می‌شوند و مقادیرغیرعددی از سمت چپ تراز می‌شوند.\n",
    "</div>"
   ]
  },
  {
   "cell_type": "markdown",
   "id": "1f9aef24-2481-4f01-8d35-ff86b2136ced",
   "metadata": {},
   "source": [
    "<div style=\"direction:rtl; font-size: 17px; font-family: 'XB Zar'; line-height: 200%\">در این قسمت با روش برنامه نویسی به سبک تابعی فرآیند \n",
    "    data munging\n",
    "    را انجام می‌دهیم. با فراخوانی متد \n",
    "    map\n",
    "    در \n",
    "    Series\n",
    "    می‌توانیم هر شماره تلفن در ستون \n",
    "    'Phone'\n",
    "    در \n",
    "    DataFrame\n",
    "    را به فرمت موردنظرمان نگاشت کنیم. آرگومان متد \n",
    "    map\n",
    "    تابعی است که مقداری را دریافت کرده و مقدار نگاشت شده را برمی‌گرداند. تابع \n",
    "    get_formatted_phone\n",
    "    ده رقم متوالی را به فرمت ####-###-### نگاشت می‌کند:\n",
    "</div>"
   ]
  },
  {
   "cell_type": "code",
   "execution_count": null,
   "id": "d81f1b50-f73e-4d56-a8d4-4da22a64b602",
   "metadata": {},
   "outputs": [],
   "source": [
    "import re"
   ]
  },
  {
   "cell_type": "code",
   "execution_count": null,
   "id": "18e8b8b7-73a0-42c8-ba42-f42b0c6094a3",
   "metadata": {},
   "outputs": [],
   "source": [
    "def get_formatted_phone(value):\n",
    "    result = re.fullmatch(r'(\\d{3})(\\d{3})(\\d{4})', value)\n",
    "    return '-'.join(result.groups()) if result else value"
   ]
  },
  {
   "cell_type": "markdown",
   "id": "f5685f9f-7020-44b9-b884-c049b5b82f78",
   "metadata": {},
   "source": [
    "<div style=\"direction:rtl; font-size: 17px; font-family: 'XB Zar'; line-height: 200%\">عبارت منظم در اولین دستور بلوک فقط با ده رقم متوالی مطابقت دارد. این دستور زیررشته‌هایی حاوی سه رقم اول، سه رقم بعدی و چهار رقم آخر استخراج می‌کند. دستور \n",
    "    return\n",
    "    به شرح زیر عمل می‌کند:\n",
    "</div>"
   ]
  },
  {
   "cell_type": "markdown",
   "id": "782f5071-daf8-49dd-a2cc-6c066d001b40",
   "metadata": {},
   "source": [
    "<div style=\"direction:rtl; font-size: 17px; font-family: 'XB Zar'; line-height: 200%\">\n",
    "    <span style=\"color:#8e24aa;\">• </span>اگر \n",
    "    result\n",
    "    برابر \n",
    "    None\n",
    "    باشد، به سادگی مقدار تغییرنیافته \n",
    "    value\n",
    "    را برمی‌گردانیم.<br>\n",
    "    <span style=\"color:#8e24aa;\">• </span>درغیراین‌صورت \n",
    "    result.groups()\n",
    "    را برای دریافت یک تاپل حاوی چند زیررشته فراخوانی می‌کنیم و این تاپل را به متد \n",
    "    join\n",
    "    در رشته ارسال می‌کنیم تا اعضای آن را به یکدیگر متصل کند. برای تطابق با فرمت موردنظر ما، هر زیررشته با کاراکتر - از زیررشته بعدی تفکیک می‌شود.<br>\n",
    "\n",
    "</div>"
   ]
  },
  {
   "cell_type": "markdown",
   "id": "7c9d01cf-98c4-4ea1-8552-d9f3951f10c1",
   "metadata": {},
   "source": [
    "<div style=\"direction:rtl; font-size: 17px; font-family: 'XB Zar'; line-height: 200%\">متد \n",
    "    map\n",
    "    در \n",
    "    Series\n",
    "    یک \n",
    "    Series\n",
    "    جدید برمی‌گرداند که شامل نتایج فراخوانی آرگومان تابع این متد برای هر مقدار در ستون است. اسنیپت [۱۵] نتیجه را همراه با نام ستون و نوع آن نشان می‌دهد:\n",
    "</div>"
   ]
  },
  {
   "cell_type": "code",
   "execution_count": null,
   "id": "80f3ddeb-d056-4993-974c-166bd9626ff8",
   "metadata": {},
   "outputs": [],
   "source": [
    "formatted_phone = contactsdf['Phone'].map(get_formatted_phone)"
   ]
  },
  {
   "cell_type": "code",
   "execution_count": null,
   "id": "ca540bf2-8121-4f0f-8ebf-fdd2b79cd90f",
   "metadata": {},
   "outputs": [],
   "source": [
    "formatted_phone"
   ]
  },
  {
   "cell_type": "markdown",
   "id": "71815ba7-29dc-460a-91af-cdc1fa729399",
   "metadata": {},
   "source": [
    "<div style=\"direction:rtl; font-size: 17px; font-family: 'XB Zar'; line-height: 200%\">هنگامی که درستی فرمت داده‌ها را تأیید کردید، می‌توانید با انتساب \n",
    "    Series\n",
    "    جدید به ستون \n",
    "    'Phone'\n",
    "    در \n",
    "    DataFrame\n",
    "    اولیه، آن را به‌روزرسانی کنید:\n",
    "</div>"
   ]
  },
  {
   "cell_type": "code",
   "execution_count": null,
   "id": "6b7851af-1b07-4376-a256-7065a5127cad",
   "metadata": {},
   "outputs": [],
   "source": [
    "contactsdf['Phone'] = formatted_phone"
   ]
  },
  {
   "cell_type": "code",
   "execution_count": null,
   "id": "97caf1a0-8097-40fd-99fa-5723d4d70f7a",
   "metadata": {},
   "outputs": [],
   "source": [
    "contactsdf"
   ]
  },
  {
   "cell_type": "markdown",
   "id": "77266ed3-1e35-4c2a-8b4e-0641edac4fc0",
   "metadata": {},
   "source": [
    "<div style=\"direction:rtl; font-size: 17px; font-family: 'XB Zar'; line-height: 200%\">در فصل بعدی و در بخش مقدمه‌ای بر علم داده، بحث در مورد \n",
    "    pandas\n",
    "    را ادامه خواهیم داد و در چند فصل بعدی از \n",
    "    pandas\n",
    "    استفاده خواهیم کرد.\n",
    "</div>"
   ]
  },
  {
   "cell_type": "markdown",
   "id": "0a4f1d92-37eb-47f9-8035-50eb112ef9f3",
   "metadata": {},
   "source": [
    "<h1 style=\"direction:rtl;font-size: 35px;font-family: 'XB Zar';color:#8e24aa;\">8.14 <span style=\"color:#F50057;\">جمع‌بندی</span></h1> <a id='22'></a>"
   ]
  },
  {
   "cell_type": "markdown",
   "id": "e7deccc3-ba35-41e0-88a0-b8a3e3188b26",
   "metadata": {},
   "source": [
    "<div style=\"direction:rtl; font-size: 17px; font-family: 'XB Zar'; line-height: 200%\">در این فصل، قابلیت‌های مختلف فرمت کردن و پردازش رشته را ارائه داده‌ایم. با کمک \n",
    "    f-string\n",
    "    و متد \n",
    "    format\n",
    "    در رشته‌ها، داده‌ها را فرمت کردید. با روش \n",
    "    augmented assignment\n",
    "    نحوه اتصال و تکرار رشته‌ها را نشان دادیم. با متدهای رشته، فضای خالی را از ابتدا و انتهای رشته‌ها حذف کردید و حروف بزرگ را به کوچک و بالعکس تغییر دادید. در مورد سایر متدها برای \n",
    "    split\n",
    "    کردن رشته‌ها و \n",
    "    join\n",
    "    کردن یک \n",
    "    iterable\n",
    "    از رشته‌ها صحبت کردیم. متدهای مختلف سنجش کاراکترها را معرفی کردیم.\n",
    "</div>"
   ]
  },
  {
   "cell_type": "markdown",
   "id": "2240cb5e-16a6-4435-8ee7-c502477077ec",
   "metadata": {},
   "source": [
    "<div style=\"direction:rtl; font-size: 17px; font-family: 'XB Zar'; line-height: 200%\">نشان دادیم که \n",
    "    raw string\n",
    "    ها با کاراکتر بک‌اسلش (\\) به عنوان شروع یک \n",
    "    escape sequence\n",
    "    رفتار نمی‌کنند و آن را یک کاراکتر لیترال قلمداد می‌کنند. این رویکرد برای تعریف عبارات منظم که غالبا شامل تعداد زیادی کاراکتر بک‌اسلش هستند، مفید می‌باشد.\n",
    "</div>"
   ]
  },
  {
   "cell_type": "markdown",
   "id": "19e05a0d-f966-433f-bab0-e480afabe474",
   "metadata": {},
   "source": [
    "<div style=\"direction:rtl; font-size: 17px; font-family: 'XB Zar'; line-height: 200%\">در مرحله بعد، با استفاده از توابع موجود در ماژول \n",
    "    re\n",
    "    ، قابلیت‌های قدرتمند تطبیق الگو در عبارات منظم را معرفی کردیم. از تابع \n",
    "    fullmatch\n",
    "    استفاده کردیم تا اطمینان حاصل کنیم که کل یک رشته با یک الگو مطابقت دارد، این روش برای اعتبارسنجی داده‌ها مفید می‌باشد. نشان دادیم که چگونه از تابع \n",
    "    replace\n",
    "    برای جست‌وجو و جایگزینی زیررشته‌ها استفاده کنیم. از تابع \n",
    "    split\n",
    "    برای توکن کردن رشته‌ها بر اساس جداکننده‌هایی که با یک الگو از نوع عبارت منظم مطابقت دارند استفاده کردیم. سپس روش‌های مختلفی را برای جست‌وجوی الگوها در رشته‌ها و دسترسی به تطابق‌های حاصل نشان دادیم.\n",
    "</div>"
   ]
  },
  {
   "cell_type": "markdown",
   "id": "f764100c-ec6f-4787-94db-769a2dd5adbe",
   "metadata": {},
   "source": [
    "<div style=\"direction:rtl; font-size: 17px; font-family: 'XB Zar'; line-height: 200%\">در بخش مقدمه‌ای بر علم داده، فرآیند \n",
    "    data munging و\n",
    "    data wrangling\n",
    "    را معرفی کردیم و مثال کوچکی از \n",
    "    data munging\n",
    "    یعنی تبدیل داده را ارائه کردیم. بحث خود را در مورد \n",
    "    Series و DataFrames\n",
    "    در \n",
    "    Pandas\n",
    "    با استفاده از عبارات منظم برای اعتبارسنجی داده‌ها ادامه دادیم.\n",
    "</div>"
   ]
  },
  {
   "cell_type": "markdown",
   "id": "f279d4ee-27ff-42e5-8265-415567dae2d0",
   "metadata": {},
   "source": [
    "<div style=\"direction:rtl; font-size: 17px; font-family: 'XB Zar'; line-height: 200%\">در فصل بعدی زمانی که خواندن متن از فایل‌ها و نوشتن متن در فایل‌ها را معرفی کردیم، استفاده از قابلیت‌های مختلف پردازش رشته را ادامه خواهیم داد. برای کار با فایل‌هایی که مقادیر آن با کاما از یکدیگر جدا شده‌اند (فایل \n",
    "    CSV\n",
    "    ) از ماژول \n",
    "    csv\n",
    "    استفاده خواهیم کرد. همچنین مدیریت استثناها را معرفی خواهیم کرد و هنگام بروز استثناها به جای نشان دادن یک \n",
    "    traceback\n",
    "    استثناها را پردازش می‌کنیم.\n",
    "</div>"
   ]
  }
 ],
 "metadata": {
  "kernelspec": {
   "display_name": "Python 3 (ipykernel)",
   "language": "python",
   "name": "python3"
  },
  "language_info": {
   "codemirror_mode": {
    "name": "ipython",
    "version": 3
   },
   "file_extension": ".py",
   "mimetype": "text/x-python",
   "name": "python",
   "nbconvert_exporter": "python",
   "pygments_lexer": "ipython3",
   "version": "3.13.5"
  }
 },
 "nbformat": 4,
 "nbformat_minor": 5
}
