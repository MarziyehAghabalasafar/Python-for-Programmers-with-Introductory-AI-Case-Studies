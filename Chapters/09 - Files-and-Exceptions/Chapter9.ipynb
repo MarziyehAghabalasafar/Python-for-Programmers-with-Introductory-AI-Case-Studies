{
 "cells": [
  {
   "cell_type": "markdown",
   "id": "8c098b29-084f-4f11-a7e9-957362eef094",
   "metadata": {},
   "source": [
    "<img src=\"https://deitel.com/wp-content/uploads/2020/01/python-for-programmers.jpg\" align = \"left\">\n",
    "\n",
    "\n",
    "<!DOCTYPE html>\n",
    "<html>\n",
    "<head>\n",
    "    <style>\n",
    "    </style>\n",
    "</head>\n",
    "<body>\n",
    "    <h1 style=\"text-align:right;font-size:250%; font-family: 'XB Zar';\"><span style=\"color:#9575cd;font-size:300%;\">پایتون</span> <br>برای برنامه‌نویسان</h1>\n",
    "    <hr>\n",
    "    <p style=\"text-align:right;font-size:150%;font-family: 'XB Zar';\"><b>با مطالعات مقدماتی هوش مصنوعی</b></p>\n",
    "    <p style=\"text-align:right;font-size:150%;font-family: 'XB Zar';\">مولفین : پل دایتل و هاروی دایتل</p>\n",
    "</body>\n",
    "</html>"
   ]
  },
  {
   "cell_type": "markdown",
   "id": "f1f4f1db-6dd8-4db9-b942-0b4dbf6b86a9",
   "metadata": {},
   "source": [
    "\n",
    "<html>\n",
    "<head>\n",
    "    <style>\n",
    "    </style>\n",
    "</head>\n",
    "<body>\n",
    "    <hr>\n",
    "    <p style=\"text-align:right;font-size:150%;font-family:XB Zar;\"><b>استاد:</b> جناب آقای دکتر صالحی</p>\n",
    "    <p style=\"text-align:right;font-size:150%;font-family:XB Zar;\"><b>گردآورنده:</b> مرضیه آقابالاصفر</p>\n",
    "    <p style=\"text-align:right;font-size:150%;font-family:XB Zar;\">دپارتمان علوم‌کامپیوتر، دانشکده علوم ریاضی، دانشگاه شهرکرد</p>\n",
    "    <hr>\n",
    "</body>\n",
    "</html>\n"
   ]
  },
  {
   "cell_type": "markdown",
   "id": "0e004c1a-216b-4b2d-a623-379015244b93",
   "metadata": {},
   "source": [
    "<h1 style=\"text-align:center;font-size:450%; font-family: 'XB Zar';\"><span style=\"color:#8e24aa;\">فصل ۹: فایل‌ها و استثناها</span></h1> <a id='1'></a>"
   ]
  },
  {
   "cell_type": "markdown",
   "id": "d1c51150-1847-403d-a5d5-d7c6a348a6ff",
   "metadata": {},
   "source": [
    "<h1 style=\"direction:rtl;font-size: 35px;font-family: 'XB Zar';\"><span style=\"color:#F50057;\">اهداف</span></h1>\n",
    "<p style=\"text-align:right;\">\n",
    "<div style=\"direction:rtl; font-size: 17px; font-family: 'XB Zar'; line-height: 200%\">\n",
    "در این فصل :\n",
    "</div>\n",
    "    <div style=\"direction:rtl; font-size: 17px; font-family: 'XB Zar'; line-height: 200%\">\n",
    "    <span style=\"color:#F50057;\">■ </span>مفهوم فایل‌ها و داده‌های پایدار را درک خواهید کرد.<br>\n",
    "    <span style=\"color:#F50057;\">■ </span>فایل‌ها را می‌خوانید و فایل‌ها را به‌روزرسانی خواهید کرد.<br>\n",
    "    <span style=\"color:#F50057;\">■ </span>فایل‌های\n",
    "        CSV \n",
    "        را می‌خوانید و در آن‌ها می‌نویسید،\n",
    "        CSV\n",
    "        یک فرمت رایج برای دیتاست‌های یادگیری ماشین محسوب می‌شود.\n",
    "        <br>\n",
    "    <span style=\"color:#F50057;\">■ </span>اشیاء را به فرمت تبادل اطلاعات \n",
    "        JSON\n",
    "        سریالایز کرده و سپس \n",
    "        JSON\n",
    "        را به اشیاء دیگر دی‌سریالایز خواهید کرد. \n",
    "        JSON\n",
    "        فرمت رایج برای ارسال داده از بستر اینترنت محسوب می شود.\n",
    "        <br>\n",
    "    <span style=\"color:#F50057;\">■ </span>از دستور \n",
    "        with\n",
    "        استفاده می‌کنید تا مطمئن شوید منابع به‌درستی آزاد شده‌اند و از نشت منابع جلوگیری خواهید کرد.\n",
    "        <br>\n",
    "    <span style=\"color:#F50057;\">■ </span>برای کنترل کدی که ممکن است در آن استثناء رخ دهد، از دستور \n",
    "        try\n",
    "        استفاده می‌کنید و با دستور مربوط به قسمت \n",
    "        except\n",
    "        استثناها را مدیریت خواهید کرد.\n",
    "        <br>\n",
    "    <span style=\"color:#F50057;\">■ </span>برای مواقعی که هیچ استثنایی در قسمت \n",
    "        try \n",
    "        اتفاق نیفتاده است، از دستور \n",
    "        try \n",
    "        با \n",
    "        else \n",
    "        برای اجرای کد استفاده خواهید کرد.\n",
    "        <br>\n",
    "    <span style=\"color:#F50057;\">■ </span>بدون در نظر گرفتن این که آیا استثنایی در \n",
    "        try\n",
    "        رخ داده و یا خیر، از دستور \n",
    "        try\n",
    "        با \n",
    "        finally \n",
    "        برای اجرای کد استفاده خواهید کرد.\n",
    "        <br>\n",
    "    <span style=\"color:#F50057;\">■ </span>برای نشان دادن ارورهای زمان اجرا، استثناها را ایجاد خواهید کرد.<br>\n",
    "    <span style=\"color:#F50057;\">■ </span>نحوه \n",
    "        trackback \n",
    "        کردن توابع و متدهایی که منجر به یک استثنا شده‌اند را درک خواهید کرد.\n",
    "        <br>\n",
    "    <span style=\"color:#F50057;\">■ </span>از\n",
    "        Pandas\n",
    "        برای بارگذاری در یک \n",
    "        DataFrame \n",
    "        استفاده خواهید کرد و دیتاست \n",
    "        CSV\n",
    "        مربوط به فاجعه تایتانیک را پردازش خواهید کرد.\n",
    "        <br>\n",
    "    </div>\n",
    "</p>"
   ]
  },
  {
   "cell_type": "markdown",
   "id": "c026cefb-5476-4a1e-82a3-6b879288c418",
   "metadata": {},
   "source": [
    "<h1 style=\"direction:rtl;font-size: 35px;font-family: 'XB Zar';\"><span style=\"color:#8e24aa;\">رئوس مطالب</span></h1>\n",
    "<hr>\n",
    "<div style=\"direction:rtl; font-size: 17px; font-family: 'XB Zar'; line-height: 200%\">\n",
    "  \n",
    "9. [فصل ۹: فایل‌ها و استثناها](#1)\n",
    "    * 9.1 [مقدمه](#2)\n",
    "    * 9.2 [فایل‌ها](#3)\n",
    "    * 9.3 [پردازش فایل‌های متنی](#4)\n",
    "        * 9.3.1 [نوشتن در یک فایل متنی: معرفی دستور with](#5)\n",
    "        * 9.3.2 [خواندن داده از یک فایل متنی](#6)\n",
    "    * 9.4 [به روز رسانی فایل‌های متنی](#7)\n",
    "    * 9.5 [Serialization با JSON](#8)\n",
    "    * 9.6 [تمرکز بر روی امنیت: pickle Serialization and Deserialization](#9)\n",
    "    * 9.7 [مطالب بیشتر در مورد فایل‌ها](#10)\n",
    "    * 9.8 [مدیریت استثناها](#11)\n",
    "        * 9.8.1 [Division by Zero و Invalid Input](#12)\n",
    "        * 9.8.2 [دستور try](#13)\n",
    "        * 9.8.3 [مدیریت چندین استثنا در یک دستور except](#14)\n",
    "        * 9.8.4 [یک تابع یا یک متد چه استثنائاتی را ایجاد می‌کنند؟](#15)\n",
    "        * 9.8.5 [چه کدی باید در بلاک try قرار گیرد؟](#16)\n",
    "    * 9.9 [عبارت finally](#17)\n",
    "    * 9.10 [ایجاد یک استثنا به طور صریح](#18)\n",
    "    * 9.11 [(Optional) Stack Unwinding و Tracebacks](#19)\n",
    "    * 9.12 [مقدمه‌ای بر علم داده: کار با فایل‌های CSV](#20)\n",
    "        * 9.12.1 [ماژول CSV در کتابخانه استاندارد پایتون](#21)\n",
    "        * 9.12.2 [خواندن فایل‌های CSV و وارد کردن داده‌های آنها به Pandas DataFrame ](#22)\n",
    "        * 9.12.3 [خواندن دیتاست Titanic](#23)\n",
    "        * 9.12.4 [تجزیه و تحلیل داده‌ها با دیتاست Titanic](#24)\n",
    "        * 9.12.5 [هیستوگرام Passenger Age ](#25)\n",
    "    * 9.13 [جمع‌بندی](#26)\n",
    "    \n",
    "</div>\n"
   ]
  },
  {
   "cell_type": "markdown",
   "id": "b3e0a4cf-8c0d-4b92-a31e-8b31e8eb4110",
   "metadata": {},
   "source": [
    "<h1 style=\"direction:rtl;font-size: 35px;font-family: 'XB Zar';color:#8e24aa;\">9.1 <span style=\"color:#F50057;\">مقدمه</span></h1> <a id='2'></a>"
   ]
  },
  {
   "cell_type": "markdown",
   "id": "d0dbcdcc-1e91-4346-bd9f-9ce5449a8939",
   "metadata": {},
   "source": [
    "<div style=\"direction:rtl; font-size: 17px; font-family: 'XB Zar'; line-height: 200%\">متغیرها، لیست‌ها، تاپل‌ها، دیکشنری‌ها، مجموعه‌ها، آرایه‌ها،\n",
    "    pandas Series\n",
    "    و \n",
    "    pandas DataFrames\n",
    "    داده‌ها را به طور موقت ذخیره می‌کنند. وقتی متغیر محلی از محدود برنامه خارج شود و یا هنگام خاتمه برنامه، داده‌هایی از این دست از بین می‌روند. فایل‌ها حتی پس از خاتمه برنامه ایجاد کننده داده، معمولا داده‌های زیادی را حفظ می‌کنند، بنابراین داده‌های نگهداری شده در فایل‌ها پایدار هستند. کامپیوترها فایل‌ها را بر روی دستگاه‌های ذخیره‌سازی ثانویه مانند دیسک‌های حالت جامد، هارد دیسک و سایر دستگاه‌ها ذخیره می‌کنند. در این فصل، نحوه ایجاد، به‌روزرسانی و پردازش فایل‌های داده به‌وسیله برنامه‌های پایتون را شرح می‌دهیم.\n",
    "</div>"
   ]
  },
  {
   "cell_type": "markdown",
   "id": "20aa9733-7f32-4363-a393-c9a678f98e11",
   "metadata": {},
   "source": [
    "<div style=\"direction:rtl; font-size: 17px; font-family: 'XB Zar'; line-height: 200%\">فایل‌های متنی را در چند فرمت رایج نظیر متن ساده، \n",
    "    JSON (JavaScript Object Notation)\n",
    "    و \n",
    "    CSV (comma-separated values)\n",
    "    بررسی می‌کنیم. برای سهولت ذخیره کردن اشیاء در حافظه‌های ثانویه و انتقال آنها از طریق اینترنت، از \n",
    "    JSON\n",
    "    برای سریالایز کردن و دی‌سریالایز کردن اشیاء استفاده خواهیم کرد.\n",
    "    حتماً بخش مقدمه‌ای بر علم داده در این فصل را\n",
    "    بخوانید، در این قسمت از ماژول \n",
    "    CSV\n",
    "    کتابخانه استاندارد پایتون و \n",
    "    Pandas\n",
    "    برای بارگذاری و دستکاری داده‌های \n",
    "    CSV\n",
    "    استفاده خواهیم کرد. به طور خاص نسخه \n",
    "    CSV\n",
    "    دیتاست تایتانیک را بررسی خواهیم کرد. در فصل‌های آینده مطالعه موردی علم داده در مورد پردازش زبان طبیعی، داده کاوی\n",
    "    توییتر، آی‌بی‌ام واتسون، یادگیری ماشین، یادگیری عمیق و کلان داده از تعداد زیادی دیتاست‌های رایج استفاده خواهیم کرد.\n",
    "</div>"
   ]
  },
  {
   "cell_type": "markdown",
   "id": "8533d160-5681-4cd1-be2b-abf700c976f1",
   "metadata": {},
   "source": [
    "<div style=\"direction:rtl; font-size: 17px; font-family: 'XB Zar'; line-height: 200%\">به عنوان \n",
    "    بخشی از تاکید\n",
    "    مستمر ما بر امنیت پایتون، درباره آسیب پذیری‌های امنیتی سریالایز کردن و دی‌سریالایز کردن داده‌ها با ماژول \n",
    "    Pickle\n",
    "    در کتابخانه استاندارد پایتون صحبت خواهیم کرد.\n",
    "    توصیه می‌کنیم از سریالایز کردن\n",
    "    JSON\n",
    "    استفاده کنید.\n",
    "</div>"
   ]
  },
  {
   "cell_type": "markdown",
   "id": "0796be55-c562-4703-bc68-1d78fd4583dc",
   "metadata": {},
   "source": [
    "<div style=\"direction:rtl; font-size: 17px; font-family: 'XB Zar'; line-height: 200%\">همچنین مدیریت استثناها را معرفی می‌کنیم. یک استثنا نشان دهنده یک مشکل در زمان اجرا است. شما استثناهایی از انواع \n",
    "    ZeroDivisionError, NameError, ValueError,\n",
    "StatisticsError, TypeError, IndexError, KeyError و RuntimeError\n",
    "    را مشاهده کرده‌اید.\n",
    "    نحوه مدیریت و برخورد با استثناها را با دستور\n",
    "    try\n",
    "    و\n",
    "    except\n",
    "    نشان می‌دهیم. همچنین در مورد دستور\n",
    "    try \n",
    "    همراه با \n",
    "    except\n",
    "    و \n",
    "    finally \n",
    "    صحبت می‌کنیم.\n",
    "    قابلیت‌های ارائه شده در این‌جا به شما کمک می‌کنند تا برنامه‌های قابل اعتماد و تحمل‌پذیر خطا بنویسید، این برنامه‌ها می‌توانند با ارورها روبرو شوند، به اجرا خود ادامه دهند و یا با ظرافت خاتمه یابند. \n",
    "</div>"
   ]
  },
  {
   "cell_type": "markdown",
   "id": "621696bd-0f4e-4fcf-a871-2d9b13efe967",
   "metadata": {},
   "source": [
    "<div style=\"direction:rtl; font-size: 17px; font-family: 'XB Zar'; line-height: 200%\">برنامه‌ها معمولاً در حین اجرا منابعی مانند فایل‌ها را درخواست و آزاد می‌کنند. \n",
    "    اغلب، این‌ها در عرضه محدود هستند یا می‌توانند در هر زمان تنها توسط یک برنامه استفاده شوند.\n",
    "    نشان می‌دهیم که چگونه اطمینان حاصل کنیم بعد از اینکه برنامه‌ای از منبعی استفاده کرد، آن را برای استفاده سایر برنامه‌ها رها کند حتی اگر استثنایی رخ داده باشد. برای این منظور از دستور \n",
    "    with\n",
    "    استفاده خواهید کرد.\n",
    "</div>"
   ]
  },
  {
   "cell_type": "markdown",
   "id": "05c434c0-043d-4892-a0a4-fc03782be8f6",
   "metadata": {},
   "source": [
    "<h1 style=\"direction:rtl;font-size: 35px;font-family: 'XB Zar';color:#8e24aa;\">9.2 <span style=\"color:#F50057;\">فایل‌ها</span></h1> <a id='3'></a>"
   ]
  },
  {
   "cell_type": "markdown",
   "id": "6a7d42ad-f010-4a68-9072-f33341616f66",
   "metadata": {},
   "source": [
    "<div style=\"direction:rtl; font-size: 17px; font-family: 'XB Zar'; line-height: 200%\">\n",
    "    پایتون یک فایل متنی را به عنوان دنباله‌ای از کاراکترها و یک فایل باینری (برای تصاویر، فیلم‌ها و موارد دیگر) را به عنوان دنباله‌ای از بایت‌ها در نظر می‌گیرد. همانند لیست‌ها و آرایه‌ها، اولین کاراکتر در یک فایل متنی و اولین بایت در یک فایل باینری در موقعیت صفر قرار دارد، بنابراین در فایلی با \n",
    "    n\n",
    "    کاراکتر یا \n",
    "    n\n",
    "    بایت، بالاترین عدد موقعیت \n",
    "    n - 1\n",
    "    است.\n",
    "    نمودار زیر نمای مفهومی یک فایل را نشان می‌دهد:\n",
    "</div>"
   ]
  },
  {
   "attachments": {
    "ccc02ab4-2e7b-4ca3-ba91-196761372050.jpeg": {
     "image/jpeg": "[encoded data removed]"
    }
   },
   "cell_type": "markdown",
   "id": "97a2e693-cc58-41ca-9918-b4516b136712",
   "metadata": {},
   "source": [
    "![Screenshot_7-2-2025_14836_.jpeg](attachment:ccc02ab4-2e7b-4ca3-ba91-196761372050.jpeg)"
   ]
  },
  {
   "cell_type": "markdown",
   "id": "d08d43b6-3ddf-4f60-8fe1-ea4009e452ba",
   "metadata": {},
   "source": [
    "<div style=\"direction:rtl; font-size: 17px; font-family: 'XB Zar'; line-height: 200%\">\n",
    "    پایتون برای هر فایلی که باز می‌کنید، یک شیء \n",
    "    file\n",
    "    ایجاد می‌کند و برای تعامل با فایل از این شیء استفاده خواهید کرد.\n",
    "</div>"
   ]
  },
  {
   "cell_type": "markdown",
   "id": "b2e76879-18d0-49df-84b1-41ee8be85485",
   "metadata": {},
   "source": [
    "<h2 style=\"direction:rtl;font-size: px;font-family: 'XB Zar';color:#0288d1;\">انتهای فایل</h2> <a id=''></a>"
   ]
  },
  {
   "cell_type": "markdown",
   "id": "48cc9a9a-8f5a-4ef8-9e23-d6f154dea81e",
   "metadata": {},
   "source": [
    "<div style=\"direction:rtl; font-size: 17px; font-family: 'XB Zar'; line-height: 200%\">هر \n",
    "    سیستم عامل راهکاری برای مشخص کردن انتهای فایل فراهم می‌کند. برخی انتهای فایل را با نشانگر انتهای فایل نشان می‌دهند (مانند شکل قبل) و برخی دیگر ممکن است تعداد کل کاراکترها یا بایت‌های فایل را ذخیره کنند. به طور کلی زبان‌های برنامه نویسی\n",
    "    این جزئیات سیستم عامل را از شما پنهان می‌کنند.\n",
    "</div>"
   ]
  },
  {
   "cell_type": "markdown",
   "id": "2f41f862-33fe-4cf8-a266-f63ea5ced4d2",
   "metadata": {},
   "source": [
    "<h2 style=\"direction:rtl;font-size: px;font-family: 'XB Zar';color:#0288d1;\">اشیای استاندارد فایل</h2> <a id=''></a>"
   ]
  },
  {
   "cell_type": "markdown",
   "id": "3c179316-6af3-484f-a458-1bd0799f4d8e",
   "metadata": {},
   "source": [
    "<div style=\"direction:rtl; font-size: 17px; font-family: 'XB Zar'; line-height: 200%\">\n",
    "    هنگامی که یک برنامه پایتون اجرا می‌شود، سه شیء استاندارد فایل ایجاد می‌کند:\n",
    "</div>"
   ]
  },
  {
   "cell_type": "markdown",
   "id": "786c0208-4394-4eb3-803e-a645e2546814",
   "metadata": {},
   "source": [
    "<div style=\"direction:rtl; font-size: 17px; font-family: 'XB Zar'; line-height: 200%\">\n",
    "    <span style=\"color:#8e24aa;\">• </span><b>sys.stdin - </b>\n",
    "    شیء استاندارد فایل ورودی\n",
    "    <br>\n",
    "    <span style=\"color:#8e24aa;\">• </span><b>sys.stdout - </b>\n",
    "    شیء استاندارد فایل خروجی\n",
    "    <br>\n",
    "    <span style=\"color:#8e24aa;\">• </span><b> sys.stderr - </b>\n",
    "    شیء استاندارد فایل ارور\n",
    "    <br>\n",
    "\n",
    "</div>"
   ]
  },
  {
   "cell_type": "markdown",
   "id": "be2f4bb1-8dba-4e25-9674-f54586e074b7",
   "metadata": {},
   "source": [
    "<div style=\"direction:rtl; font-size: 17px; font-family: 'XB Zar'; line-height: 200%\">\n",
    "    اگرچه این‌ها به عنوان اشیاء فایل در نظر گرفته می‌شوند، اما به طور پیش‌فرض از فایل‌ها نمی‌خوانند یا نمی‌نویسند. تابع ورودی به طور ضمنی از \n",
    "    sys.stdin\n",
    "    برای دریافت ورودی کاربر از صفحه کلید استفاده می‌کند. تابع \n",
    "    print\n",
    "    به طور ضمنی به \n",
    "    sys.stdout\n",
    "    که در خط فرمان ظاهر می‌شود خروجی می‌دهد. پایتون به طور ضمنی خطاها و ردیابی‌های برنامه را به \n",
    "    sys.stderr\n",
    "    خروجی می‌دهد که در خط فرمان نیز ظاهر می‌شود. اگر نیاز دارید به این اشیاء در کد خود به صراحت اشاره کنید، باید ماژول \n",
    "    sys\n",
    "    را وارد کنید، اما این اتفاق نادر است.\n",
    "</div>"
   ]
  },
  {
   "cell_type": "markdown",
   "id": "f2a73b6f-aa13-45a8-b427-eef0079963d4",
   "metadata": {},
   "source": [
    "<h1 style=\"direction:rtl;font-size: 35px;font-family: 'XB Zar';color:#8e24aa;\">9.3 <span style=\"color:#F50057;\">پردازش فایل‌های متنی</span></h1> <a id='4'></a>"
   ]
  },
  {
   "cell_type": "markdown",
   "id": "5f6c561a-7510-4447-b7d8-bb26ce34cf1e",
   "metadata": {},
   "source": [
    "<div style=\"direction:rtl; font-size: 17px; font-family: 'XB Zar'; line-height: 200%\">در این بخش، ما یک فایل متنی ساده می‌نویسیم که ممکن است توسط یک سیستم حساب‌های دریافتی برای ردیابی پول بدهی مشتریان یک شرکت استفاده شود. سپس آن فایل متنی را می‌خوانیم تا تأیید کنیم که حاوی داده است. برای هر مشتری، شماره حساب مشتری، نام‌خانوادگی و موجودی حساب بدهکار به شرکت را ذخیره می‌کنیم. این فیلدهای داده با هم یک رکورد مشتری را نشان می‌دهند. پایتون هیچ ساختاری را بر فایل تحمیل نمی کند، بنابراین مفاهیمی مانند رکوردها به صورت ذاتی در پایتون وجود ندارند. برنامه نویسان باید فایل‌ها را طوری ساختار بدهند که نیازهای برنامه‌هایشان را برآورده کنند. ما این فایل را به ترتیب با شماره حساب ایجاد و نگهداری می‌کنیم. از این نظر، شماره حساب ممکن است به عنوان یک کلید رکورد در نظر گرفته شود. برای این فصل، فرض می‌کنیم که \n",
    "    IPython\n",
    "    را از پوشه نمونه‌های \n",
    "    ch09\n",
    "    اجرا می‌کنید.\n",
    "</div>"
   ]
  },
  {
   "cell_type": "markdown",
   "id": "7abec578-0b6c-42e2-8b0d-88ba69ff076e",
   "metadata": {},
   "source": [
    "<h2 style=\"direction:rtl;font-size: 25px;font-family: 'XB Zar';color:#8e24aa;\">9.3.1 <span style=\"color:#8e24aa;\">نوشتن در یک فایل متنی: معرفی دستور\n",
    "with\n",
    "</span></h2> <a id='5'></a>"
   ]
  },
  {
   "cell_type": "markdown",
   "id": "4a9ffd5b-216d-4379-b058-046576d2ec92",
   "metadata": {},
   "source": [
    "<div style=\"direction:rtl; font-size: 17px; font-family: 'XB Zar'; line-height: 200%\">بیایید یک فایل \n",
    "    accounts.txt\n",
    "    ایجاد کنیم و پنج رکورد مشتری را در فایل بنویسیم. به طور کلی، هر رکورد در فایل‌های متنی در یک خط ذخیره می‌شود، بنابراین هر رکورد را با یک کاراکتر \n",
    "    newline\n",
    "    خاتمه می‌دهیم:\n",
    "</div>"
   ]
  },
  {
   "cell_type": "code",
   "execution_count": null,
   "id": "0bf5787f-4ce1-49dd-8bb5-f87002e043e6",
   "metadata": {},
   "outputs": [],
   "source": [
    "with open('accounts.txt', mode='w') as accounts:\n",
    "    accounts.write('100 Jones 24.98\\n')\n",
    "    accounts.write('200 Doe 345.67\\n')\n",
    "    accounts.write('300 White 0.00\\n')\n",
    "    accounts.write('400 Stone -42.16\\n')\n",
    "    accounts.write('500 Rich 224.62\\n')"
   ]
  },
  {
   "cell_type": "markdown",
   "id": "5d1104b8-c07f-4d56-9b4a-08590c4c65f3",
   "metadata": {},
   "source": [
    "<div style=\"direction:rtl; font-size: 17px; font-family: 'XB Zar'; line-height: 200%\">\n",
    "    همچنین می‌‌توانید با \n",
    "    print\n",
    "    روی یک فایل بنویسید\n",
    "    (که به طور خودکار یک \n",
    "    n\\\n",
    "    در خروجی نشان می‌دهد)\n",
    "    مانند:\n",
    "</div>"
   ]
  },
  {
   "cell_type": "markdown",
   "id": "785a1d0b-1c42-4cd8-b19e-7e5ed65aa2bf",
   "metadata": {},
   "source": [
    "```Python\n",
    "print('100 Jones 24.98', file=accounts)\n",
    "```"
   ]
  },
  {
   "cell_type": "markdown",
   "id": "8b8fc5c8-5c97-4438-94bd-dbc319820ca5",
   "metadata": {},
   "source": [
    "<h2 style=\"direction:rtl;font-size: px;font-family: 'XB Zar';color:#0288d1;\">دستور\n",
    "with\n",
    "</h2> <a id=''></a>"
   ]
  },
  {
   "cell_type": "markdown",
   "id": "ada58619-9546-47f4-9832-ffb5e31759df",
   "metadata": {},
   "source": [
    "<div style=\"direction:rtl; font-size: 17px; font-family: 'XB Zar'; line-height: 200%\">\n",
    "    بسیاری از برنامه‌ها منابعی مانند فایل‌ها، اتصالات شبکه، اتصالات پایگاه داده و غیره را دریافت می‌کنند. شما باید منابع را به محض اینکه دیگر نیازی به آنها ندارید، آزاد کنید. این کار تضمین می‌کند که سایر برنامه‌ها بتوانند از این منابع استفاده کنند. عبارت \n",
    "    with\n",
    "    در پایتون:\n",
    "</div>"
   ]
  },
  {
   "cell_type": "markdown",
   "id": "67592744-3195-43a2-b20e-37e700312abd",
   "metadata": {},
   "source": [
    "<div style=\"direction:rtl; font-size: 17px; font-family: 'XB Zar'; line-height: 200%\">\n",
    "    <span style=\"color:#8e24aa;\">• </span>\n",
    "    یک منبع (در این مورد، شیء فایل \n",
    "    accounts.txt\n",
    "    ) را دریافت می‌کند و شیء مربوطه را به یک متغیر (در این مثال \n",
    "    accounts\n",
    "    ) اختصاص می‌دهد،\n",
    "    <br>\n",
    "    <span style=\"color:#8e24aa;\">• </span>\n",
    "    به برنامه اجازه می‌دهد از این منبع از طریق آن متغیر استفاده کند، و\n",
    "    <br>\n",
    "    <span style=\"color:#8e24aa;\">• </span>\n",
    "    متد \n",
    "    close\n",
    "    شیء منبع را برای آزاد کردن منبع زمانی که کنترل برنامه به پایان بلوک \n",
    "    with\n",
    "    می‌رسد، فراخوانی می‌کند.\n",
    "    <br>\n",
    "\n",
    "</div>"
   ]
  },
  {
   "cell_type": "markdown",
   "id": "42650f73-cefb-41dc-9333-e7ebd95b1858",
   "metadata": {},
   "source": [
    "<h2 style=\"direction:rtl;font-size: px;font-family: 'XB Zar';color:#0288d1;\">\n",
    "    تابع داخلی open\n",
    "</h2> <a id=''></a>"
   ]
  },
  {
   "cell_type": "markdown",
   "id": "8d98bcd8-3a60-4598-9068-ec0c349628e1",
   "metadata": {},
   "source": [
    "<div style=\"direction:rtl; font-size: 17px; font-family: 'XB Zar'; line-height: 200%\">\n",
    "    تابع داخلی \n",
    "    open\n",
    "    فایل \n",
    "    accounts.txt\n",
    "    را باز می‌کند و آن را با یک شیء فایل مرتبط می‌سازد. آرگومان \n",
    "    mode\n",
    "    حالت باز کردن فایل را مشخص می‌کند و نشان می‌دهد که آیا فایل برای خواندن، نوشتن یا هر دو باز می‌شود. حالت \n",
    "    'w'\n",
    "    فایل را برای نوشتن باز می‌کند و اگر فایل وجود نداشته باشد، آن را ایجاد می‌کند. اگر مسیر فایل را مشخص نکنید، پایتون آن را در پوشه جاری (در اینجا \n",
    "    ch09\n",
    "    ) ایجاد می‌کند. مراقب باشید — باز کردن یک فایل برای نوشتن، تمام داده‌های موجود در فایل را پاک می‌کند. به طور معمول، پسوند \n",
    "    txt.\n",
    "    نشان‌دهنده یک فایل متنی ساده است.\n",
    "</div>"
   ]
  },
  {
   "cell_type": "markdown",
   "id": "9eb58cbd-9f01-4f04-bfff-46f507b45ef8",
   "metadata": {},
   "source": [
    "<h2 style=\"direction:rtl;font-size: px;font-family: 'XB Zar';color:#0288d1;\">\n",
    "    نوشتن در فایل\n",
    "</h2> <a id=''></a>"
   ]
  },
  {
   "cell_type": "markdown",
   "id": "ec25edd7-cbc6-47c7-90b0-7d3fe3fd60dc",
   "metadata": {},
   "source": [
    "<div style=\"direction:rtl; font-size: 17px; font-family: 'XB Zar'; line-height: 200%\">\n",
    "    عبارت \n",
    "    with\n",
    "    شیء بازگشتی از تابع \n",
    "    open\n",
    "    را به متغیر \n",
    "    accounts\n",
    "    در بخش \n",
    "    as\n",
    "    اختصاص می‌دهد. در بلوک \n",
    "    with\n",
    "    ، از متغیر \n",
    "    accounts\n",
    "    برای تعامل با فایل استفاده می‌کنیم. در این مورد، پنج بار متد \n",
    "    write\n",
    "    شیء فایل را فراخوانی می‌کنیم تا پنج رکورد را در فایل بنویسیم، هر کدام به عنوان یک خط متنی جداگانه که با یک کاراکتر \n",
    "    newline\n",
    "    به پایان می‌رسد. در پایان بلوک \n",
    "    with\n",
    "    ، عبارت \n",
    "    with\n",
    "    به طور ضمنی متد \n",
    "    close\n",
    "    شیء فایل را برای بستن فایل فراخوانی می‌کند.\n",
    "</div>"
   ]
  },
  {
   "cell_type": "markdown",
   "id": "da7eef2e-0fda-478e-9c88-39e76b88b24f",
   "metadata": {},
   "source": [
    "<h2 style=\"direction:rtl;font-size: px;font-family: 'XB Zar';color:#0288d1;\">\n",
    "    محتوای فایل accounts.txt\n",
    "</h2> <a id=''></a>"
   ]
  },
  {
   "cell_type": "markdown",
   "id": "fa5bdcbe-58d0-4a60-b17d-7749a7e27d47",
   "metadata": {},
   "source": [
    "<div style=\"direction:rtl; font-size: 17px; font-family: 'XB Zar'; line-height: 200%\">پس از اجرای قطعه کد قبلی، پوشه \n",
    "    ch09\n",
    "    شما حاوی فایل \n",
    "    accounts.txt\n",
    "    با محتوای زیر خواهد بود که می‌توانید آن را در یک ویرایشگر متن مشاهده کنید:\n",
    "</div>"
   ]
  },
  {
   "cell_type": "code",
   "execution_count": null,
   "id": "33a89d26-8baf-4850-9d9f-de45e62fd11a",
   "metadata": {},
   "outputs": [],
   "source": [
    "# macOS/Linux Users: View file contents\n",
    "!cat accounts.txt"
   ]
  },
  {
   "cell_type": "code",
   "execution_count": null,
   "id": "ccaab247-798c-4792-b3d9-973421307fca",
   "metadata": {},
   "outputs": [],
   "source": [
    "# Windows Users: View file contents\n",
    "!more accounts.txt"
   ]
  },
  {
   "cell_type": "markdown",
   "id": "9ba1f832-5b96-4012-8ec0-122296032e4d",
   "metadata": {},
   "source": [
    "```Python\n",
    "100 Jones 24.98\n",
    "200 Doe 345.67\n",
    "300 White 0.00\n",
    "400 Stone -42.16\n",
    "500 Rich 224.62\n",
    "```"
   ]
  },
  {
   "cell_type": "markdown",
   "id": "5a88769b-8eb3-4b04-815d-6a7ba523b0c7",
   "metadata": {},
   "source": [
    "<div style=\"direction:rtl; font-size: 17px; font-family: 'XB Zar'; line-height: 200%\">در بخش بعدی، فایل را می‌خوانیم و محتوای آن را نمایش می‌دهیم.\n",
    "</div>"
   ]
  },
  {
   "cell_type": "markdown",
   "id": "7f786679-73bc-4535-ad99-bf533fab66d6",
   "metadata": {},
   "source": [
    "<h2 style=\"direction:rtl;font-size: 25px;font-family: 'XB Zar';color:#8e24aa;\">9.3.2 <span style=\"color:#8e24aa;\">خواندن داده از یک فایل متنی</span></h2> <a id='6'></a>"
   ]
  },
  {
   "cell_type": "markdown",
   "id": "0fc8df80-e6d0-41f3-bc58-e7b46c8652aa",
   "metadata": {},
   "source": [
    "<div style=\"direction:rtl; font-size: 17px; font-family: 'XB Zar'; line-height: 200%\">ما به تازگی فایل متنی \n",
    "    accounts.txt\n",
    "    را ایجاد کردیم و داده‌هایی را در آن نوشتیم. حالا بیایید آن داده‌ها را از فایل به ترتیب از ابتدا تا انتها بخوانیم. قطعه کد زیر رکوردها را از فایل \n",
    "    accounts.txt\n",
    "    می‌خواند و محتوای هر رکورد را در ستون‌هایی نمایش می‌دهد که ستون‌های \n",
    "    Account\n",
    "    و \n",
    "    Name\n",
    "    به چپ تراز شده‌اند و ستون \n",
    "    Balance\n",
    "    به راست تراز شده است، به طوری که نقاط اعشار به صورت عمودی تراز شوند:\n",
    "</div>"
   ]
  },
  {
   "cell_type": "code",
   "execution_count": null,
   "id": "e0ee8d82-c0ec-4506-ac85-792a1be994a4",
   "metadata": {},
   "outputs": [],
   "source": [
    "with open('accounts.txt', mode='r') as accounts:\n",
    "    print(f'{\"Account\":<10}{\"Name\":<10}{\"Balance\":>10}')\n",
    "    for record in accounts:\n",
    "        account, name, balance = record.split()\n",
    "        print(f'{account:<10}{name:<10}{balance:>10}')\n",
    "        "
   ]
  },
  {
   "cell_type": "markdown",
   "id": "f6d20ac0-31eb-4a9f-a7de-2f626881f822",
   "metadata": {},
   "source": [
    "<div style=\"direction:rtl; font-size: 17px; font-family: 'XB Zar'; line-height: 200%\">اگر محتوای یک فایل نباید تغییر کند، فایل را فقط برای خواندن باز کنید. این کار از تغییر تصادفی فایل توسط برنامه جلوگیری می‌کند. شما می‌توانید با ارسال حالت \n",
    "    'r'\n",
    "    به عنوان آرگومان دوم تابع \n",
    "    open\n",
    "    ، فایل را برای خواندن باز کنید. اگر پوشه‌ای را برای ذخیره فایل مشخص نکنید، تابع \n",
    "    open\n",
    "    فرض می‌کند که فایل در پوشه جاری قرار دارد.\n",
    "</div>"
   ]
  },
  {
   "cell_type": "markdown",
   "id": "a31708e3-bb6c-4064-a42e-a647c410b518",
   "metadata": {},
   "source": [
    "<div style=\"direction:rtl; font-size: 17px; font-family: 'XB Zar'; line-height: 200%\">\n",
    "تکرار از طریق یک شیء فایل، همان‌طور که در عبارت \n",
    "    for\n",
    "    قبلی نشان داده شد، در هر بار یک خط از فایل می‌خواند و آن را به عنوان یک رشته برمی‌گرداند. برای هر رکورد (یعنی خط) در فایل، متد \n",
    "    split\n",
    "    رشته، توکن‌های خط را به عنوان یک لیست برمی‌گرداند که ما آن‌ها را در متغیرهای \n",
    "    account\n",
    "    ، \n",
    "    name\n",
    "    و \n",
    "    balance\n",
    "    باز می‌کنیم. آخرین عبارت در بلوک \n",
    "    for\n",
    "    این متغیرها را در ستون‌ها با استفاده از عرض فیلد \n",
    "    نمایش می‌دهد.\n",
    "    هنگام تقسیم رشته‌ها بر اساس کارکتر \n",
    "    space\n",
    "    (پیش فرض)، \n",
    "    split\n",
    "    به طور خودکار کاراکتر \n",
    "    newline\n",
    "    را حذف می کند.\n",
    "</div>"
   ]
  },
  {
   "cell_type": "markdown",
   "id": "7367a671-2eaa-44b3-bdf9-21935914ad8b",
   "metadata": {},
   "source": [
    "<h2 style=\"direction:rtl;font-size: px;font-family: 'XB Zar';color:#0288d1;\">\n",
    "    متد readlines فایل\n",
    "</h2> <a id=''></a>"
   ]
  },
  {
   "cell_type": "markdown",
   "id": "b8f63658-bc65-4dc0-ae91-52b4eb1ef8c3",
   "metadata": {},
   "source": [
    "<div style=\"direction:rtl; font-size: 17px; font-family: 'XB Zar'; line-height: 200%\">\n",
    "    متد \n",
    "    readlines\n",
    "    شیء فایل نیز می‌تواند برای خواندن کل یک فایل متنی استفاده شود. این متد هر خط را به عنوان یک رشته در یک لیست از رشته‌ها برمی‌گرداند. برای فایل‌های کوچک، این روش خوب کار می‌کند، اما تکرار از طریق خطوط یک شیء فایل، همان‌طور که در بالا نشان داده شد، می‌تواند کارآمدتر باشد. فراخوانی \n",
    "    readlines\n",
    "    برای یک فایل بزرگ می‌تواند یک عملیات زمان‌بر باشد که باید قبل از شروع استفاده از لیست رشته‌ها کامل شود. استفاده از شیء فایل در یک عبارت \n",
    "    for\n",
    "    به برنامه شما اجازه می‌دهد هر خط متنی را به محض خواندن پردازش کند.\n",
    "</div>"
   ]
  },
  {
   "cell_type": "markdown",
   "id": "e4a70af2-5604-42e5-b6ba-2e966eadda44",
   "metadata": {},
   "source": [
    "<h2 style=\"direction:rtl;font-size: px;font-family: 'XB Zar';color:#0288d1;\">\n",
    "   جستجو به یک موقعیت خاص در فایل\n",
    "</h2> <a id=''></a>"
   ]
  },
  {
   "cell_type": "markdown",
   "id": "26fd72d7-2c4a-49d5-b770-7c3188599176",
   "metadata": {},
   "source": [
    "<div style=\"direction:rtl; font-size: 17px; font-family: 'XB Zar'; line-height: 200%\">\n",
    "    هنگام خواندن یک فایل، سیستم یک اشاره‌گر موقعیت فایل را نگه می‌دارد که نشان‌دهنده مکان کاراکتر بعدی برای خواندن است. گاهی اوقات لازم است یک فایل را چندین بار به ترتیب از ابتدا پردازش کنید. هر بار، باید اشاره‌گر موقعیت فایل را به ابتدای فایل بازگردانید، که می‌توانید این کار را با بستن و باز کردن مجدد فایل یا با فراخوانی متد \n",
    "    seek\n",
    "    شیء فایل انجام دهید، مانند:\n",
    "</div>"
   ]
  },
  {
   "cell_type": "markdown",
   "id": "51d219aa-1fb0-49f4-8941-1959ff1a0a7a",
   "metadata": {},
   "source": [
    "```Python\n",
    "file_object.seek(0)\n",
    "```"
   ]
  },
  {
   "cell_type": "markdown",
   "id": "7f74c73c-a879-4d2e-a7c5-25b701727d1c",
   "metadata": {},
   "source": [
    "<div style=\"direction:rtl; font-size: 17px; font-family: 'XB Zar'; line-height: 200%\">\n",
    "    روش دوم سریع‌تر است.\n",
    "</div>"
   ]
  },
  {
   "cell_type": "markdown",
   "id": "9690c8e0-1077-40b9-8ed0-9f11fa40687c",
   "metadata": {},
   "source": [
    "<h1 style=\"direction:rtl;font-size: 35px;font-family: 'XB Zar';color:#8e24aa;\">9.4 <span style=\"color:#F50057;\">به‌روزرسانی فایل‌های متنی</span></h1> <a id='7'></a>"
   ]
  },
  {
   "cell_type": "markdown",
   "id": "11945fd2-70d3-4a1b-8287-cbe95b4393f4",
   "metadata": {},
   "source": [
    "<div style=\"direction:rtl; font-size: 17px; font-family: 'XB Zar'; line-height: 200%\">داده‌های قالب‌بندی شده که در یک فایل متنی نوشته می‌شوند، بدون خطر از بین بردن داده‌های دیگر قابل تغییر نیستند. اگر نام \n",
    "    'white'\n",
    "    در فایل \n",
    "    accounts.txt\n",
    "    نیاز به تغییر به \n",
    "    'williams'\n",
    "    داشته باشد، نام قدیمی نمی‌تواند به سادگی بازنویسی شود. رکورد اصلی برای \n",
    "    white\n",
    "    به صورت زیر ذخیره شده است:\n",
    "</div>"
   ]
  },
  {
   "cell_type": "markdown",
   "id": "9e293ef2-cb1c-47ad-9f16-9e3b151d55ba",
   "metadata": {},
   "source": [
    "```Python\n",
    "300 White 0.00\n",
    "```"
   ]
  },
  {
   "cell_type": "markdown",
   "id": "6068a124-e2d4-4e35-91e6-f76eca6fedc2",
   "metadata": {},
   "source": [
    "<div style=\"direction:rtl; font-size: 17px; font-family: 'XB Zar'; line-height: 200%\">\n",
    "    اگر نام \n",
    "    'white'\n",
    "    را با نام \n",
    "    'williams'\n",
    "    بازنویسی کنید، رکورد به صورت زیر در می‌آید:\n",
    "</div>"
   ]
  },
  {
   "cell_type": "markdown",
   "id": "4dd74b1c-65b7-45b1-9018-badc00a44b9e",
   "metadata": {},
   "source": [
    "```Python\n",
    "300 Williams00\n",
    "```"
   ]
  },
  {
   "cell_type": "markdown",
   "id": "437005d0-5b9d-48ba-96a4-2f5ef4c1af29",
   "metadata": {},
   "source": [
    "<div style=\"direction:rtl; font-size: 17px; font-family: 'XB Zar'; line-height: 200%\">\n",
    "    نام خانوادگی جدید سه کاراکتر بیشتر از نام اصلی دارد، بنابراین کاراکترهای بعد از دومین \n",
    "    'i'\n",
    "    در \n",
    "    'williams'\n",
    "    کاراکترهای دیگر در خط را بازنویسی می‌کنند. مشکل این است که در مدل ورودی-خروجی قالب‌بندی شده، رکوردها و فیلدهای آن‌ها می‌توانند اندازه‌های متفاوتی داشته باشند. برای مثال، اعداد ۷، ۱۴، -۱۱۷، ۲۰۷۴ و ۲۷۳۸۳ همگی اعداد صحیح هستند و به همان تعداد بایت داده خام (معمولاً ۴ یا ۸ بایت در سیستم‌های امروزی) ذخیره می‌شوند. با این حال، زمانی که این اعداد به عنوان متن قالب‌بندی شده خروجی داده می‌شوند، فیلدهایی با اندازه‌های متفاوت می‌شوند. برای مثال، ۷ یک کاراکتر، ۱۴ دو کاراکتر و ۲۷۳۸۳ پنج کاراکتر است.\n",
    "</div>"
   ]
  },
  {
   "cell_type": "markdown",
   "id": "a1975391-f1ec-400c-9c7f-a611fbc88137",
   "metadata": {},
   "source": [
    "<div style=\"direction:rtl; font-size: 17px; font-family: 'XB Zar'; line-height: 200%\">\n",
    "    برای انجام تغییر نام فوق، می‌توانیم:\n",
    "</div>"
   ]
  },
  {
   "cell_type": "markdown",
   "id": "b1e3c911-4ca0-4984-a783-418a1bb2100a",
   "metadata": {},
   "source": [
    "<div style=\"direction:rtl; font-size: 17px; font-family: 'XB Zar'; line-height: 200%\">\n",
    "    <span style=\"color:#8e24aa;\">• </span>\n",
    "    رکوردهای قبل از \n",
    "    $ 300\\quad white\\quad 0.00 $\n",
    "    را در یک فایل موقت کپی کنیم،\n",
    "    <br>\n",
    "    <span style=\"color:#8e24aa;\">• </span>\n",
    "    رکورد به‌روزرسانی و قالب‌بندی شده صحیح برای حساب ۳۰۰ را در این فایل بنویسیم،\n",
    "    <br>\n",
    "    <span style=\"color:#8e24aa;\">• </span>\n",
    "    رکوردهای بعد از \n",
    "    $ 300\\quad white\\quad 0.00 $\n",
    "    را در فایل موقت کپی کنیم،\n",
    "    <br>\n",
    "    <span style=\"color:#8e24aa;\">• </span>\n",
    "    فایل قدیمی را حذف کنیم و\n",
    "    <br>\n",
    "    <span style=\"color:#8e24aa;\">• </span>\n",
    "    فایل موقت را به نام فایل اصلی تغییر نام دهیم.\n",
    "    <br>\n",
    "</div>"
   ]
  },
  {
   "cell_type": "markdown",
   "id": "c5750b4f-b914-47b7-9c3d-a09cff97dbfa",
   "metadata": {},
   "source": [
    "<div style=\"direction:rtl; font-size: 17px; font-family: 'XB Zar'; line-height: 200%\">این کار می‌تواند خسته‌کننده باشد زیرا نیاز به پردازش هر رکورد در فایل دارد، حتی اگر فقط نیاز به به‌روزرسانی یک رکورد داشته باشید. به‌روزرسانی یک فایل به این روش زمانی کارآمدتر است که یک برنامه نیاز به به‌روزرسانی بسیاری از رکوردها در یک بار پیمایش از فایل داشته باشد.\n",
    "</div>"
   ]
  },
  {
   "cell_type": "markdown",
   "id": "270c3657-b357-4830-822d-f3baebb2105b",
   "metadata": {},
   "source": [
    "<h2 style=\"direction:rtl;font-size: px;font-family: 'XB Zar';color:#0288d1;\">\n",
    "   به‌روزرسانی فایل accounts.txt\n",
    "</h2> <a id=''></a>"
   ]
  },
  {
   "cell_type": "markdown",
   "id": "4a33efbd-7fd5-43b4-8664-53436f581e7c",
   "metadata": {},
   "source": [
    "<div style=\"direction:rtl; font-size: 17px; font-family: 'XB Zar'; line-height: 200%\">بیایید از عبارت \n",
    "    with\n",
    "    برای به‌روزرسانی فایل \n",
    "    accounts.txt\n",
    "    استفاده کنیم تا نام حساب ۳۰۰ را از \n",
    "    'white'\n",
    "    به \n",
    "    'williams'\n",
    "    تغییر دهیم:\n",
    "</div>"
   ]
  },
  {
   "cell_type": "code",
   "execution_count": null,
   "id": "b59909f0-6e01-40e9-901a-c9af10dabd9f",
   "metadata": {},
   "outputs": [],
   "source": [
    "accounts = open('accounts.txt', 'r')"
   ]
  },
  {
   "cell_type": "code",
   "execution_count": null,
   "id": "40ebd305-4063-4b15-bc23-0c52bb36c2b4",
   "metadata": {},
   "outputs": [],
   "source": [
    "temp_file = open('temp_file.txt', 'w')"
   ]
  },
  {
   "cell_type": "code",
   "execution_count": null,
   "id": "86b91347-7156-48ad-9d99-e03c1f99a3be",
   "metadata": {},
   "outputs": [],
   "source": [
    "with accounts, temp_file:\n",
    "    for record in accounts:\n",
    "        account, name, balance = record.split()\n",
    "        if account != '300':\n",
    "            temp_file.write(record)\n",
    "        else:\n",
    "            new_record = ' '.join([account, 'Williams', balance])\n",
    "            temp_file.write(new_record + '\\n')\n",
    "                    "
   ]
  },
  {
   "cell_type": "markdown",
   "id": "daffb8ed-2184-4f71-883f-27cce5eeaed6",
   "metadata": {},
   "source": [
    "<div style=\"direction:rtl; font-size: 17px; font-family: 'XB Zar'; line-height: 200%\">\n",
    "    برای خوانایی بهتر، ابتدا شیء‌های فایل را باز کردیم (قطعه‌های کد [۱] و [۲])، سپس نام متغیرهای آن‌ها را در خط اول قطعه کد [۳] مشخص کردیم. این عبارت with دو شیء منبع را مدیریت می‌کند که در یک لیست جدا شده با کاما بعد از with مشخص شده‌اند. عبارت for هر رکورد را به account، name و balance تفکیک می‌کند. اگر حساب '300' نباشد، رکورد (که شامل یک کاراکتر newline\n",
    "    است) را در\n",
    "    temp_file می‌نویسیم. در غیر این صورت، رکورد جدید حاوی 'Williams' به جای 'white' را می‌سازیم و آن را در فایل می‌نویسیم. پس از قطعه کد [۳]، فایل temp_file.txt حاوی موارد زیر است:\n",
    "</div>"
   ]
  },
  {
   "cell_type": "markdown",
   "id": "8b9e4c53-a899-47fe-b88d-61199648c35d",
   "metadata": {},
   "source": [
    "```Python\n",
    "100 Jones 24.98\n",
    "200 Doe 345.67\n",
    "300 Williams 0.00\n",
    "400 Stone -42.16\n",
    "500 Rich 224.62\n",
    "```"
   ]
  },
  {
   "cell_type": "markdown",
   "id": "af3554b9-173b-4ce1-89e8-0889d624d525",
   "metadata": {},
   "source": [
    "<h2 style=\"direction:rtl;font-size: px;font-family: 'XB Zar';color:#0288d1;\">\n",
    "   توابع پردازش فایل در ماژول os\n",
    "</h2> <a id=''></a>"
   ]
  },
  {
   "cell_type": "markdown",
   "id": "de55e0aa-2553-4291-a94f-d59bec7e7739",
   "metadata": {},
   "source": [
    "<div style=\"direction:rtl; font-size: 17px; font-family: 'XB Zar'; line-height: 200%\">\n",
    "    در این مرحله، ما فایل قدیمی accounts.txt و فایل جدید temp_file.txt را داریم. برای تکمیل به‌روزرسانی، بیایید فایل قدیمی accounts.txt را حذف کنیم، سپس فایل موقت temp_file.txt را به نام accounts.txt تغییر نام دهیم. ماژول os توابعی برای تعامل با سیستم عامل فراهم می‌کند، از جمله چندین تابع که فایل‌ها و پوشه‌های سیستم شما را دستکاری می‌کنند. حالا که فایل موقت را ایجاد کرده‌ایم، بیایید از تابع remove برای حذف فایل اصلی استفاده کنیم:\n",
    "</div>"
   ]
  },
  {
   "cell_type": "code",
   "execution_count": null,
   "id": "4fcb42ae-4030-432c-b82a-3acee819e2a6",
   "metadata": {},
   "outputs": [],
   "source": [
    "import os"
   ]
  },
  {
   "cell_type": "code",
   "execution_count": null,
   "id": "0df4ea8e-b914-471d-81d4-cfe8febe9478",
   "metadata": {},
   "outputs": [],
   "source": [
    "os.remove('accounts.txt')"
   ]
  },
  {
   "cell_type": "markdown",
   "id": "20a9a725-3542-4d41-aa50-2c49cd187ab6",
   "metadata": {},
   "source": [
    "<div style=\"direction:rtl; font-size: 17px; font-family: 'XB Zar'; line-height: 200%\">\n",
    "    سپس، از تابع rename برای تغییر نام فایل موقت به 'accounts.txt' استفاده می‌کنیم:\n",
    "</div>"
   ]
  },
  {
   "cell_type": "code",
   "execution_count": null,
   "id": "617fc502-a742-405d-a183-deae0bee359b",
   "metadata": {},
   "outputs": [],
   "source": [
    "os.rename('temp_file.txt', 'accounts.txt')"
   ]
  },
  {
   "cell_type": "code",
   "execution_count": null,
   "id": "81f06859-fbf2-4147-8b5e-7b710d0fa2c5",
   "metadata": {},
   "outputs": [],
   "source": [
    "# macOS/Linux Users: View file contents\n",
    "!cat accounts.txt"
   ]
  },
  {
   "cell_type": "code",
   "execution_count": null,
   "id": "7079ed94-cb8e-4945-9959-a8a9b4887c78",
   "metadata": {},
   "outputs": [],
   "source": [
    "# Windows Users: View file contents\n",
    "!more accounts.txt"
   ]
  },
  {
   "cell_type": "markdown",
   "id": "df01fd75-3c70-4f70-a8f6-9a50a4d7d90c",
   "metadata": {},
   "source": [
    "<h1 style=\"direction:rtl;font-size: 35px;font-family: 'XB Zar';color:#8e24aa;\">9.5 <span style=\"color:#F50057;\"> Serialization\n",
    "با\n",
    " JSON     \n",
    "</span></h1> <a id='8'></a>"
   ]
  },
  {
   "cell_type": "markdown",
   "id": "f023e8a4-91e4-4ea6-81ae-ca5c6b88d95b",
   "metadata": {},
   "source": [
    "<div style=\"direction:rtl; font-size: 17px; font-family: 'XB Zar'; line-height: 200%\">\n",
    "    بسیاری از کتابخانه‌هایی که برای تعامل با سرویس‌های مبتنی بر ابر مانند توییتر، IBM Watson و غیره استفاده می‌کنیم، با برنامه‌های شما از طریق اشیاء JSON ارتباط برقرار می‌کنند. JSON (JavaScript Object Notation) یک فرمت متنی، قابل خواندن توسط انسان و کامپیوتر، برای تبادل داده است که برای نمایش اشیاء به عنوان مجموعه‌ای از جفت‌های نام-مقدار استفاده می‌شود. JSON حتی می‌تواند اشیاء کلاس‌های سفارشی مانند آن‌هایی که در فصل بعد می‌سازید را نیز نمایش دهد.\n",
    "</div>"
   ]
  },
  {
   "cell_type": "markdown",
   "id": "cc785d9c-ad98-42ba-9f2e-242a74402479",
   "metadata": {},
   "source": [
    "<div style=\"direction:rtl; font-size: 17px; font-family: 'XB Zar'; line-height: 200%\">\n",
    "    JSON به فرمت داده ترجیحی برای انتقال اشیاء در بین پلتفرم‌ها تبدیل شده است. این موضوع به ویژه برای فراخوانی سرویس‌های وب مبتنی بر ابر صادق است، که توابع و متدهایی هستند که شما از طریق اینترنت فراخوانی می‌کنید. شما در کار با داده‌های JSON مهارت پیدا خواهید کرد. در فصل \"داده‌کاوی توییتر\"، به اشیاء JSON حاوی توییت‌ها و متاداده‌های آن‌ها دسترسی خواهید داشت. در فصل \"IBM Watson و محاسبات شناختی\"، به داده‌های موجود در پاسخ‌های JSON بازگشتی از سرویس‌های Watson دسترسی خواهید داشت. در فصل \"داده‌های بزرگ: Hadoop، Spark، NoSQL و IoT\"، اشیاء JSON توییت‌هایی که از توییتر به دست می‌آوریم را در MongoDB، یک پایگاه داده NoSQL محبوب، ذخیره خواهیم کرد. در آن فصل، با سایر سرویس‌های وب که داده‌ها را به صورت اشیاء JSON ارسال و دریافت می‌کنند نیز کار خواهیم کرد.\n",
    "</div>"
   ]
  },
  {
   "cell_type": "markdown",
   "id": "4f32e12d-5cb6-46f2-8697-33636f42aa9c",
   "metadata": {},
   "source": [
    "<h2 style=\"direction:rtl;font-size: px;font-family: 'XB Zar';color:#0288d1;\">\n",
    "   فرمت داده JSON\n",
    "</h2> <a id=''></a>"
   ]
  },
  {
   "cell_type": "markdown",
   "id": "cb13f20a-8ba5-4a84-a1e4-70687d3ab87b",
   "metadata": {},
   "source": [
    "<div style=\"direction:rtl; font-size: 17px; font-family: 'XB Zar'; line-height: 200%\">اشیاء JSON شبیه به دیکشنری‌های پایتون هستند. هر شیء JSON شامل یک لیست جدا شده با کاما از نام‌ها و مقادیر در داخل آکولاد است. برای مثال، جفت‌های کلید-مقدار زیر ممکن است یک رکورد مشتری را نمایش دهند:\n",
    "</div>"
   ]
  },
  {
   "cell_type": "markdown",
   "id": "8fd8ebf1-c683-4134-bb4b-9e0748f1aa61",
   "metadata": {},
   "source": [
    "```Python\n",
    "{\"account\": 100, \"name\": \"Jones\", \"balance\": 24.98}\n",
    "```"
   ]
  },
  {
   "cell_type": "markdown",
   "id": "ea9441d9-a008-4035-9d87-6bb6f7cc73ed",
   "metadata": {},
   "source": [
    "<div style=\"direction:rtl; font-size: 17px; font-family: 'XB Zar'; line-height: 200%\">JSON همچنین از آرایه‌ها پشتیبانی می‌کند که مانند لیست‌های پایتون، مقادیر جدا شده با کاما در داخل براکت‌ها هستند. برای مثال، آرایه زیر یک آرایه JSON قابل قبول از اعداد است:\n",
    "</div>"
   ]
  },
  {
   "cell_type": "markdown",
   "id": "e4040855-27ea-4773-8329-a5ac936bf7ae",
   "metadata": {},
   "source": [
    "```Python\n",
    "[100, 200, 300]\n",
    "```"
   ]
  },
  {
   "cell_type": "markdown",
   "id": "9189b3de-78c2-494f-8998-aa3ce02b4863",
   "metadata": {},
   "source": [
    "<div style=\"direction:rtl; font-size: 17px; font-family: 'XB Zar'; line-height: 200%\">مقادیر در اشیاء و آرایه‌های JSON می‌توانند:\n",
    "</div>"
   ]
  },
  {
   "cell_type": "markdown",
   "id": "c861e607-6b68-4d4b-b6e1-7065367c4e8f",
   "metadata": {},
   "source": [
    "<div style=\"direction:rtl; font-size: 17px; font-family: 'XB Zar'; line-height: 200%\">\n",
    "    <span style=\"color:#8e24aa;\">• </span>\n",
    "    رشته‌ها در داخل دابل کوتیشن (مانند \"Jones\")،\n",
    "    <br>\n",
    "    <span style=\"color:#8e24aa;\">• </span>\n",
    "    اعداد (مانند 100 یا 24.98)،\n",
    "    <br>\n",
    "    <span style=\"color:#8e24aa;\">• </span>\n",
    "    مقادیر بولین JSON (که در JSON به صورت true یا false نمایش داده می‌شوند)،\n",
    "    <br>\n",
    "    <span style=\"color:#8e24aa;\">• </span>\n",
    "    null (برای نمایش عدم وجود مقدار، مانند None در پایتون)،\n",
    "    <br>\n",
    "    <span style=\"color:#8e24aa;\">• </span>\n",
    "    آرایه‌ها (مانند [100, 200, 300])، و\n",
    "    <br>\n",
    "    <span style=\"color:#8e24aa;\">• </span>\n",
    "    سایر اشیاء JSON باشند.\n",
    "    <br>\n",
    "</div>"
   ]
  },
  {
   "cell_type": "markdown",
   "id": "79fc9aac-673c-4535-a978-e92b1967d6b0",
   "metadata": {},
   "source": [
    "<h2 style=\"direction:rtl;font-size: px;font-family: 'XB Zar';color:#0288d1;\">\n",
    "  ماژول استاندارد \n",
    "    JSON\n",
    "    در پایتون\n",
    "</h2> <a id=''></a>"
   ]
  },
  {
   "cell_type": "markdown",
   "id": "05256cd5-42cd-4ab3-91be-f81a28b1d73d",
   "metadata": {},
   "source": [
    "<div style=\"direction:rtl; font-size: 17px; font-family: 'XB Zar'; line-height: 200%\">ماژول json به شما امکان می‌دهد اشیاء را به فرمت متنی JSON (JavaScript Object Notation) تبدیل کنید. این کار به عنوان سریال‌سازی داده‌ها شناخته می‌شود. دیکشنری زیر را در نظر بگیرید که شامل یک جفت کلید-مقدار است که کلید 'accounts' با مقدار آن که یک لیست از دیکشنری‌ها است، دو حساب را نمایش می‌دهد. هر دیکشنری حساب شامل سه جفت کلید-مقدار برای شماره حساب، نام و موجودی است:\n",
    "</div>"
   ]
  },
  {
   "cell_type": "code",
   "execution_count": null,
   "id": "4b26e9ef-c465-4aa0-a993-1dea69f21814",
   "metadata": {},
   "outputs": [],
   "source": [
    "accounts_dict = {'accounts': [\n",
    "    {'account': 100, 'name': 'Jones', 'balance': 24.98},\n",
    "    {'account': 200, 'name': 'Doe', 'balance': 345.67}]}"
   ]
  },
  {
   "cell_type": "markdown",
   "id": "f1a4cdc8-347d-4cd8-a336-4a7c536ec090",
   "metadata": {},
   "source": [
    "<h2 style=\"direction:rtl;font-size: px;font-family: 'XB Zar';color:#0288d1;\">\n",
    "   سریال‌سازی یک شیء به JSON\n",
    "</h2> <a id=''></a>"
   ]
  },
  {
   "cell_type": "markdown",
   "id": "f6a63555-af2c-4466-b827-a98abc7ff683",
   "metadata": {},
   "source": [
    "<div style=\"direction:rtl; font-size: 17px; font-family: 'XB Zar'; line-height: 200%\">بیایید این شیء را در قالب JSON در یک فایل بنویسیم:\n",
    "</div>"
   ]
  },
  {
   "cell_type": "code",
   "execution_count": null,
   "id": "c3d43c6b-e1a9-4500-9368-4f34d2c28b60",
   "metadata": {},
   "outputs": [],
   "source": [
    "import json"
   ]
  },
  {
   "cell_type": "code",
   "execution_count": null,
   "id": "613d23e6-fc81-40f9-b6ca-49fe0d6baeff",
   "metadata": {},
   "outputs": [],
   "source": [
    "with open('accounts.json', 'w') as accounts:\n",
    "    json.dump(accounts_dict, accounts)"
   ]
  },
  {
   "cell_type": "markdown",
   "id": "cdbbffcf-5385-44d2-a2e5-cf18c1fe7633",
   "metadata": {},
   "source": [
    "<div style=\"direction:rtl; font-size: 17px; font-family: 'XB Zar'; line-height: 200%\">قطعه کد [۳] فایل accounts.json را باز می‌کند و از تابع dump ماژول json برای سریال‌سازی دیکشنری accounts_dict در فایل استفاده می‌کند. فایل حاصل شامل متن زیر است که کمی برای خوانایی بهتر فرمت شده است:\n",
    "</div>"
   ]
  },
  {
   "cell_type": "markdown",
   "id": "08508476-1c9d-4800-b6b1-8df6cd34e613",
   "metadata": {},
   "source": [
    "```Json\n",
    "{\"accounts\": \n",
    " [{\"account\": 100, \"name\": \"Jones\", \"balance\": 24.98}, \n",
    " {\"account\": 200, \"name\": \"Doe\", \"balance\": 345.67}]}\n",
    "```"
   ]
  },
  {
   "cell_type": "markdown",
   "id": "55806a2d-eb4e-4c19-8215-bf901b6f12e1",
   "metadata": {},
   "source": [
    "<div style=\"direction:rtl; font-size: 17px; font-family: 'XB Zar'; line-height: 200%\">توجه داشته باشید که JSON رشته‌ها را با کاراکترهای دابل کوتیشن (\") محصور می‌کند.\n",
    "</div>"
   ]
  },
  {
   "cell_type": "markdown",
   "id": "4ef10543-2850-48a7-9d80-ba5403fe9192",
   "metadata": {},
   "source": [
    "<h2 style=\"direction:rtl;font-size: px;font-family: 'XB Zar';color:#0288d1;\">\n",
    "   دی‌سریال‌سازی متن JSON\n",
    "</h2> <a id=''></a>"
   ]
  },
  {
   "cell_type": "markdown",
   "id": "f5963223-105d-41c4-bf2a-d15ba546bdde",
   "metadata": {},
   "source": [
    "<div style=\"direction:rtl; font-size: 17px; font-family: 'XB Zar'; line-height: 200%\">تابع load ماژول json تمام محتوای JSON فایل را می‌خواند و آن را به یک شیء پایتون تبدیل می‌کند. این کار به عنوان دی‌سریال‌سازی داده‌ها شناخته می‌شود. بیایید شیء پایتون اصلی را از این متن JSON بازسازی کنیم:\n",
    "</div>"
   ]
  },
  {
   "cell_type": "code",
   "execution_count": null,
   "id": "75bea605-5bdf-4fdb-8032-9d093b89d53c",
   "metadata": {},
   "outputs": [],
   "source": [
    "with open('accounts.json', 'r') as accounts:\n",
    "    accounts_json = json.load(accounts)"
   ]
  },
  {
   "cell_type": "markdown",
   "id": "12f65ed0-72a4-4a75-aca7-aa9cf32db6ed",
   "metadata": {},
   "source": [
    "<div style=\"direction:rtl; font-size: 17px; font-family: 'XB Zar'; line-height: 200%\">\n",
    "    حالا می‌توانیم با شیء بارگذاری شده تعامل کنیم. برای مثال، می‌توانیم دیکشنری را نمایش دهیم:\n",
    "</div>"
   ]
  },
  {
   "cell_type": "code",
   "execution_count": null,
   "id": "189cbb09-f05f-49f4-bb12-7fc991f2e320",
   "metadata": {},
   "outputs": [],
   "source": [
    "accounts_json"
   ]
  },
  {
   "cell_type": "markdown",
   "id": "0288856c-f695-4735-96fc-3fc8d25ee5da",
   "metadata": {},
   "source": [
    "<div style=\"direction:rtl; font-size: 17px; font-family: 'XB Zar'; line-height: 200%\">\n",
    "    همان‌طور که انتظار دارید، می‌توانید به محتوای دیکشنری دسترسی پیدا کنید. بیایید لیست دیکشنری‌های مرتبط با کلید 'accounts' را دریافت کنیم:\n",
    "</div>"
   ]
  },
  {
   "cell_type": "code",
   "execution_count": null,
   "id": "ada1ad5b-daaa-4498-8bb8-b6b8db8c5338",
   "metadata": {},
   "outputs": [],
   "source": [
    "accounts_json['accounts']"
   ]
  },
  {
   "cell_type": "markdown",
   "id": "d1445a37-f136-4a4d-af69-ab4b0035236e",
   "metadata": {},
   "source": [
    "<div style=\"direction:rtl; font-size: 17px; font-family: 'XB Zar'; line-height: 200%\">\n",
    "    حالا بیایید دیکشنری‌های حساب‌های فردی را دریافت کنیم:\n",
    "</div>"
   ]
  },
  {
   "cell_type": "code",
   "execution_count": null,
   "id": "4980259a-4e94-4607-a71a-88272c1fbaa9",
   "metadata": {},
   "outputs": [],
   "source": [
    "accounts_json['accounts'][0]"
   ]
  },
  {
   "cell_type": "code",
   "execution_count": null,
   "id": "ff7b3ea4-f69e-415a-a06a-2a0e12ed409c",
   "metadata": {},
   "outputs": [],
   "source": [
    "accounts_json['accounts'][1]"
   ]
  },
  {
   "cell_type": "markdown",
   "id": "db77ee45-256c-4d48-885b-0c02f0c433c7",
   "metadata": {},
   "source": [
    "<div style=\"direction:rtl; font-size: 17px; font-family: 'XB Zar'; line-height: 200%\">\n",
    "    اگرچه ما این کار را اینجا انجام ندادیم، اما می‌توانید دیکشنری را نیز تغییر دهید. برای مثال، می‌توانید حساب‌هایی به لیست اضافه کنید یا حساب‌هایی را از لیست حذف کنید، سپس دیکشنری را دوباره در فایل JSON بنویسید.\n",
    "</div>"
   ]
  },
  {
   "cell_type": "markdown",
   "id": "929209ef-cca9-4c3d-af1a-fef6361d0f42",
   "metadata": {},
   "source": [
    "<h2 style=\"direction:rtl;font-size: px;font-family: 'XB Zar';color:#0288d1;\">\n",
    "   نمایش متن\n",
    "    JSON\n",
    "</h2> <a id=''></a>"
   ]
  },
  {
   "cell_type": "markdown",
   "id": "cd06422b-6625-4f6f-9529-560bb3766a94",
   "metadata": {},
   "source": [
    "<div style=\"direction:rtl; font-size: 17px; font-family: 'XB Zar'; line-height: 200%\">\n",
    "    تابع dumps ماژول json (مخفف \"dump string\") یک نمایش رشته‌ای از یک شیء در قالب JSON برمی‌گرداند. با استفاده از dumps همراه با load، می‌توانید JSON را از فایل بخوانید و آن را در یک فرمت تو رفته (indented) نمایش دهید — که گاهی اوقات به آن \"چاپ زیبا\" (pretty printing) JSON می‌گویند. وقتی فراخوانی تابع dumps شامل آرگومان کلیدی indent باشد، رشته حاوی کاراکترهای جدیدخط و تو رفتگی برای چاپ زیبا خواهد بود — شما همچنین می‌توانید از indent با تابع dump هنگام نوشتن در یک فایل استفاده کنید:\n",
    "</div>"
   ]
  },
  {
   "cell_type": "code",
   "execution_count": null,
   "id": "4e36daac-5d0a-4c86-9a0d-4d67c5842699",
   "metadata": {},
   "outputs": [],
   "source": [
    "with open('accounts.json', 'r') as accounts:\n",
    "    print(json.dumps(json.load(accounts), indent=4))"
   ]
  },
  {
   "cell_type": "markdown",
   "id": "80ab9b0a-aa89-4662-ae1c-46767aa02d9d",
   "metadata": {},
   "source": [
    "<h1 style=\"direction:rtl;font-size: 35px;font-family: 'XB Zar';color:#8e24aa;\">9.6 <span style=\"color:#F50057;\">تمرکز بر روی امنیت: \n",
    " pickle\n",
    "Serialization and Deserialization \n",
    "</span></h1> <a id='9'></a>"
   ]
  },
  {
   "cell_type": "markdown",
   "id": "06f971b1-0252-4b22-9d94-f5ef8126bad5",
   "metadata": {},
   "source": [
    "<div style=\"direction:rtl; font-size: 17px; font-family: 'XB Zar'; line-height: 200%\">\n",
    "    ماژول pickle در کتابخانه استاندارد پایتون می‌تواند اشیاء را در یک فرمت داده خاص پایتون سریال‌سازی کند. \n",
    "    <br>\n",
    "    هشدار:\n",
    "    مستندات پایتون هشدارهای زیر را در مورد pickle ارائه می‌دهد:\n",
    "</div>"
   ]
  },
  {
   "cell_type": "markdown",
   "id": "cf357958-1593-4140-b6ea-e557ea4becea",
   "metadata": {},
   "source": [
    "<div style=\"direction:rtl; font-size: 17px; font-family: 'XB Zar'; line-height: 200%\">\n",
    "    <span style=\"color:#8e24aa;\">• </span>\n",
    "    فایل‌های pickle می‌توانند هک شوند. اگر یک فایل pickle خام را از طریق شبکه دریافت کردید، به آن اعتماد نکنید! ممکن است حاوی کد مخربی باشد که هنگام دی‌سریال‌سازی آن، کد پایتون دلخواهی را اجرا کند. با این حال، اگر خودتان فایل‌های pickle را می‌نویسید و می‌خوانید، در امان هستید (البته به شرطی که هیچ کس دیگری به فایل pickle دسترسی نداشته باشد).\n",
    "    <br>\n",
    "    <span style=\"color:#8e24aa;\">• </span>\n",
    "    pickle یک پروتکل است که امکان سریال‌سازی اشیاء پیچیده پایتون را فراهم می‌کند. به همین دلیل، این پروتکل خاص پایتون است و نمی‌تواند برای ارتباط با برنامه‌های نوشته شده به زبان‌های دیگر استفاده شود. همچنین به طور پیش‌فرض ناامن است: دی‌سریال‌سازی داده‌های pickle از یک منبع غیرقابل اعتماد می‌تواند کد دلخواهی را اجرا کند، اگر داده‌ها توسط یک مهاجم ماهر ساخته شده باشد\n",
    "    <br>\n",
    "</div>"
   ]
  },
  {
   "cell_type": "markdown",
   "id": "165afef0-5f4f-42cf-8a67-27383cca3cda",
   "metadata": {},
   "source": [
    "<div style=\"direction:rtl; font-size: 17px; font-family: 'XB Zar'; line-height: 200%\">\n",
    "    ما استفاده از pickle را توصیه نمی‌کنیم، اما از آنجایی که این ماژول سال‌ها مورد استفاده قرار گرفته است، احتمالاً در کدهای قدیمی (legacy code) — کدهایی که اغلب دیگر پشتیبانی نمی‌شوند — با آن مواجه خواهید شد.\n",
    "</div>"
   ]
  },
  {
   "cell_type": "markdown",
   "id": "f6cece1b-86b5-4144-8cf0-4049b96f1db4",
   "metadata": {},
   "source": [
    "<h1 style=\"direction:rtl;font-size: 35px;font-family: 'XB Zar';color:#8e24aa;\">9.7 <span style=\"color:#F50057;\">مطالب بیشتر در مورد فایل‌ها</span></h1> <a id='10'></a>"
   ]
  },
  {
   "cell_type": "markdown",
   "id": "f8ecb5b0-313a-4fd2-8b32-0f44cc3c3857",
   "metadata": {},
   "source": [
    "<div style=\"direction:rtl; font-size: 17px; font-family: 'XB Zar'; line-height: 200%\">\n",
    "    جدول زیر حالت‌های مختلف باز کردن فایل‌های متنی را خلاصه می‌کند، از جمله حالت‌های خواندن و نوشتن که معرفی کرده‌ایم. حالت‌های نوشتن و افزودن، فایل را ایجاد می‌کنند اگر وجود نداشته باشد. حالت‌های خواندن اگر فایل وجود نداشته باشد، یک خطای FileNotFoundError ایجاد می‌کنند. هر حالت فایل متنی یک حالت متناظر برای فایل‌های باینری دارد که با b مشخص می‌شود، مانند 'rb' یا 'wb+'. از این حالت‌ها مثلاً زمانی استفاده می‌کنید که فایل‌های باینری مانند تصاویر، صدا، ویدئو، فایل‌های فشرده ZIP و بسیاری از فرمت‌های فایل سفارشی محبوب دیگر را می‌خوانید یا می‌نویسید.\n",
    "</div>"
   ]
  },
  {
   "attachments": {
    "37b78cde-0149-4b63-98f6-e065d209d6ae.jpeg": {
     "image/jpeg": "[encoded data removed]"
    }
   },
   "cell_type": "markdown",
   "id": "93c00e49-60b9-4932-9446-0c0be57cabba",
   "metadata": {},
   "source": [
    "![Screenshot_7-2-2025_74442_.jpeg](attachment:37b78cde-0149-4b63-98f6-e065d209d6ae.jpeg)"
   ]
  },
  {
   "cell_type": "markdown",
   "id": "aec3a167-f32a-4800-bb3a-9381975b9430",
   "metadata": {},
   "source": [
    "<h2 style=\"direction:rtl;font-size: px;font-family: 'XB Zar';color:#0288d1;\">\n",
    "    سایر متدهای شیء فایل\n",
    "</h2> <a id=''></a>"
   ]
  },
  {
   "cell_type": "markdown",
   "id": "53c6ee8d-b83d-4c60-a91f-3165d3e51f7a",
   "metadata": {},
   "source": [
    "<div style=\"direction:rtl; font-size: 17px; font-family: 'XB Zar'; line-height: 200%\">در اینجا چند متد مفید دیگر برای شیء فایل آورده شده است:\n",
    "</div>"
   ]
  },
  {
   "cell_type": "markdown",
   "id": "256ff440-f210-4753-b12e-658aa80d5cea",
   "metadata": {},
   "source": [
    "<div style=\"direction:rtl; font-size: 17px; font-family: 'XB Zar'; line-height: 200%\">\n",
    "    <span style=\"color:#8e24aa;\">• </span>\n",
    "    برای یک فایل متنی، متد read یک رشته حاوی تعداد کاراکترهای مشخص شده توسط آرگومان عددی متد را برمی‌گرداند. برای یک فایل باینری، این متد تعداد بایت‌های مشخص شده را برمی‌گرداند. اگر هیچ آرگومانی مشخص نشده باشد، این متد تمام محتوای فایل را برمی‌گرداند.\n",
    "    <br>\n",
    "    <span style=\"color:#8e24aa;\">• </span>\n",
    "    متد readline یک خط از متن را به عنوان یک رشته برمی‌گرداند، که شامل کاراکتر newline (اگر وجود داشته باشد) نیز می‌شود. این متد زمانی که به انتهای فایل برسد، یک رشته خالی برمی‌گرداند.\n",
    "    <br>\n",
    "    <span style=\"color:#8e24aa;\">• </span>\n",
    "    متد writelines یک لیست از رشته‌ها را دریافت می‌کند و محتوای آن‌ها را در یک فایل می‌نویسد.\n",
    "    <br>\n",
    "</div>"
   ]
  },
  {
   "cell_type": "markdown",
   "id": "d43caf55-a214-408e-b213-1d5af87d7b30",
   "metadata": {},
   "source": [
    "<div style=\"direction:rtl; font-size: 17px; font-family: 'XB Zar'; line-height: 200%\">\n",
    "    کلاس‌هایی که پایتون برای ایجاد اشیاء فایل استفاده می‌کند، در ماژول \n",
    "    io\n",
    "    کتابخانه استاندارد پایتون تعریف شده‌اند \n",
    "    <a href=\"https://docs.python.org/3/library/io.html\">(لینک)</a>\n",
    "    .\n",
    "</div>"
   ]
  },
  {
   "cell_type": "markdown",
   "id": "2b039c1a-ba14-4971-88f0-4414851246a6",
   "metadata": {},
   "source": [
    "<h1 style=\"direction:rtl;font-size: 35px;font-family: 'XB Zar';color:#8e24aa;\">9.8 <span style=\"color:#F50057;\">مدیریت استثناها</span></h1> <a id='11'></a>"
   ]
  },
  {
   "cell_type": "markdown",
   "id": "a08c4dbd-768e-46a7-8824-ddad431a84a7",
   "metadata": {},
   "source": [
    "<div style=\"direction:rtl; font-size: 17px; font-family: 'XB Zar'; line-height: 200%\">\n",
    "    انواع مختلفی از استثناها ممکن است هنگام کار با فایل‌ها رخ دهند، از جمله:\n",
    "</div>"
   ]
  },
  {
   "cell_type": "markdown",
   "id": "e19e9892-3d66-49bd-ae43-f377532611ae",
   "metadata": {},
   "source": [
    "<div style=\"direction:rtl; font-size: 17px; font-family: 'XB Zar'; line-height: 200%\">\n",
    "    <span style=\"color:#8e24aa;\">• </span>\n",
    "    اگر سعی کنید یک فایل غیرموجود را برای خواندن با حالت‌های 'r' یا 'r+' باز کنید، یک FileNotFoundError رخ می‌دهد.\n",
    "    <br>\n",
    "    <span style=\"color:#8e24aa;\">• </span>\n",
    "    اگر عملیاتی را انجام دهید که مجوز آن را ندارید، یک PermissionError رخ می‌دهد. این ممکن است اتفاق بیفتد اگر سعی کنید فایلی را باز کنید که حساب کاربری شما اجازه دسترسی به آن را ندارد یا فایلی را در پوشه‌ای ایجاد کنید که حساب کاربری شما مجوز نوشتن در آن را ندارد، مانند جایی که سیستم عامل کامپیوتر شما ذخیره شده است.\n",
    "    <br>\n",
    "    <span style=\"color:#8e24aa;\">• </span>\n",
    "    یک ValueError (با پیام خطای 'I/O operation on closed file.') زمانی رخ می‌دهد که سعی کنید در فایلی که قبلاً بسته شده است، بنویسید.\n",
    "    <br>\n",
    "</div>"
   ]
  },
  {
   "cell_type": "markdown",
   "id": "2b8c4f48-d3ea-4d90-9606-e66cf859206c",
   "metadata": {},
   "source": [
    "<h2 style=\"direction:rtl;font-size: 25px;font-family: 'XB Zar';color:#8e24aa;\">9.8.1 <span style=\"color:#8e24aa;\"> Division by Zero \n",
    "    و\n",
    "    Invalid Input\n",
    "</span></h2> <a id='12'></a>"
   ]
  },
  {
   "cell_type": "markdown",
   "id": "473b91d6-fb06-4adb-b190-519e5004c310",
   "metadata": {},
   "source": [
    "<div style=\"direction:rtl; font-size: 17px; font-family: 'XB Zar'; line-height: 200%\">بیایید دو استثنایی که قبلاً در کتاب دیدید را دوباره بررسی کنیم.\n",
    "</div>"
   ]
  },
  {
   "cell_type": "markdown",
   "id": "f4282f3a-acbd-4744-b084-3109d4efcf50",
   "metadata": {},
   "source": [
    "<h2 style=\"direction:rtl;font-size: px;font-family: 'XB Zar';color:#0288d1;\">\n",
    "    تقسیم بر صفر\n",
    "</h2> <a id=''></a>"
   ]
  },
  {
   "cell_type": "markdown",
   "id": "115e0d73-b96e-4bc2-86ae-308d17feedfa",
   "metadata": {},
   "source": [
    "<div style=\"direction:rtl; font-size: 17px; font-family: 'XB Zar'; line-height: 200%\">به یاد داشته باشید که تلاش برای تقسیم بر 0 منجر به ZeroDivisionError می‌شود:\n",
    "</div>"
   ]
  },
  {
   "cell_type": "code",
   "execution_count": null,
   "id": "5ca750cf-a32b-4761-9bd1-4db25e32c970",
   "metadata": {},
   "outputs": [],
   "source": [
    "10 / 0 "
   ]
  },
  {
   "cell_type": "markdown",
   "id": "921a623c-8102-4ddb-a348-c0b46ed549c4",
   "metadata": {},
   "source": [
    "<div style=\"direction:rtl; font-size: 17px; font-family: 'XB Zar'; line-height: 200%\">در این حالت، مفسر یک استثنای نوع ZeroDivisionError را ایجاد می‌کند. وقتی یک استثنا در IPython ایجاد می‌شود، این کارها انجام می‌شود:\n",
    "</div>"
   ]
  },
  {
   "cell_type": "markdown",
   "id": "1061012d-ed73-4f38-a5e9-fdb466d73f33",
   "metadata": {},
   "source": [
    "<div style=\"direction:rtl; font-size: 17px; font-family: 'XB Zar'; line-height: 200%\">\n",
    "    <span style=\"color:#8e24aa;\">• </span>\n",
    "    قطعه کد متوقف می‌شود،\n",
    "    <br>\n",
    "    <span style=\"color:#8e24aa;\">• </span>\n",
    "    traceback استثنا نمایش داده می‌شود، سپس\n",
    "    <br>\n",
    "    <span style=\"color:#8e24aa;\">• </span>\n",
    "    prompt بعدی [] In  نشان داده می‌شود تا بتوانید قطعه کد بعدی را وارد کنید.\n",
    "    <br>\n",
    "</div>"
   ]
  },
  {
   "cell_type": "markdown",
   "id": "b8680689-bab7-4bb8-a7db-d14cd0fb88e0",
   "metadata": {},
   "source": [
    "<div style=\"direction:rtl; font-size: 17px; font-family: 'XB Zar'; line-height: 200%\">اگر یک استثنا در یک اسکریپت رخ دهد، اسکریپت متوقف می‌شود و \n",
    "    (IPython)\n",
    "    traceback\n",
    "    را نمایش می‌دهد.\n",
    "</div>"
   ]
  },
  {
   "cell_type": "markdown",
   "id": "4bcf241b-aba8-46fd-9e1e-51daae5a71ca",
   "metadata": {},
   "source": [
    "<h2 style=\"direction:rtl;font-size: px;font-family: 'XB Zar';color:#0288d1;\">\n",
    "    ورودی نامعتبر\n",
    "</h2> <a id=''></a>"
   ]
  },
  {
   "cell_type": "markdown",
   "id": "8a82a249-fbe3-4cbc-8b97-9ba910c274b7",
   "metadata": {},
   "source": [
    "<div style=\"direction:rtl; font-size: 17px; font-family: 'XB Zar'; line-height: 200%\">به یاد داشته باشید که تابع int یک ValueError ایجاد می‌کند، اگر سعی کنید رشته‌ای (مانند 'hello') را که نشان‌دهنده یک عدد نیست، به یک عدد صحیح تبدیل کنید:\n",
    "</div>"
   ]
  },
  {
   "cell_type": "code",
   "execution_count": null,
   "id": "de79f9a3-25a0-4a3c-9c96-90bcea782a96",
   "metadata": {},
   "outputs": [],
   "source": [
    "value = int(input('Enter an integer: '))"
   ]
  },
  {
   "cell_type": "markdown",
   "id": "8d04ef74-2fcd-4ec9-b57a-5b6172420802",
   "metadata": {},
   "source": [
    "<h2 style=\"direction:rtl;font-size: 25px;font-family: 'XB Zar';color:#8e24aa;\">9.8.2 <span style=\"color:#8e24aa;\">دستور\n",
    "try\n",
    "</span></h2> <a id='13'></a>"
   ]
  },
  {
   "cell_type": "markdown",
   "id": "c9fba0d3-8368-4525-8aab-210d57c90d1b",
   "metadata": {},
   "source": [
    "<div style=\"direction:rtl; font-size: 17px; font-family: 'XB Zar'; line-height: 200%\">حال بیایید ببینیم چگونه می‌توان این استثناها را مدیریت کرد تا کد بتواند به پردازش ادامه دهد. اسکریپت زیر و اجرای نمونه آن را در نظر بگیرید. حلقه آن سعی می‌کند دو عدد صحیح از کاربر بخواند، سپس عدد اول را بر عدد دوم تقسیم کرده و نمایش دهد. این اسکریپت از مدیریت استثنا استفاده می‌کند تا هرگونه ZeroDivisionError و ValueError را بگیرد و مدیریت کند — در این مورد، به کاربر اجازه می‌دهد تا ورودی را دوباره وارد کند.\n",
    "</div>"
   ]
  },
  {
   "cell_type": "code",
   "execution_count": null,
   "id": "a8bcbfc6-6ff1-458c-aab0-118a596b83e1",
   "metadata": {},
   "outputs": [],
   "source": [
    "# dividebyzero.py\n",
    "\"\"\"Simple exception handling example.\"\"\"\n",
    "\n",
    "while True:\n",
    "    # attempt to convert and divide values\n",
    "    try:\n",
    "        number1 = int(input('Enter numerator: '))\n",
    "        number2 = int(input('Enter denominator: '))\n",
    "        result = number1 / number2\n",
    "    except ValueError:  # tried to convert non-numeric value to int\n",
    "        print('You must enter two integers\\n')\n",
    "    except ZeroDivisionError:  # denominator was 0\n",
    "        print('Attempted to divide by zero\\n')\n",
    "    else:  # executes only if no exceptions occur\n",
    "        print(f'{number1:.3f} / {number2:.3f} = {result:.3f}')\n",
    "        break  # terminate the loop"
   ]
  },
  {
   "cell_type": "markdown",
   "id": "7af4ca1d-776f-40c0-bc69-23263920c090",
   "metadata": {},
   "source": [
    "<h2 style=\"direction:rtl;font-size: px;font-family: 'XB Zar';color:#0288d1;\">\n",
    "    بند try\n",
    "</h2> <a id=''></a>"
   ]
  },
  {
   "cell_type": "markdown",
   "id": "42a8d247-484b-4973-8af8-def7bc45b9d6",
   "metadata": {},
   "source": [
    "<div style=\"direction:rtl; font-size: 17px; font-family: 'XB Zar'; line-height: 200%\">پایتون از دستورات try (مانند خطوط ۶–۱۶) برای فعال‌سازی مدیریت استثنا استفاده می‌کند. بند try (خطوط ۶–۹) با کلمه کلیدی try شروع می‌شود، به دنبال آن یک دونقطه (:) و مجموعه‌ای از دستورات که ممکن است استثنا ایجاد کنند، قرار می‌گیرد.\n",
    "</div>"
   ]
  },
  {
   "cell_type": "markdown",
   "id": "f0094ac4-049a-4883-bfd2-d12676c00682",
   "metadata": {},
   "source": [
    "<h2 style=\"direction:rtl;font-size: px;font-family: 'XB Zar';color:#0288d1;\">\n",
    "    بند except\n",
    "</h2> <a id=''></a>"
   ]
  },
  {
   "cell_type": "markdown",
   "id": "6e52dd4f-fd65-4ced-aaff-2eaf65079731",
   "metadata": {},
   "source": [
    "<div style=\"direction:rtl; font-size: 17px; font-family: 'XB Zar'; line-height: 200%\">یک بند try ممکن است به دنبال یک یا چند بند except (خطوط ۱۰–۱۱ و ۱۲–۱۳) باشد که بلافاصله پس از مجموعه دستورات بند try قرار می‌گیرند. این‌ها به عنوان مدیریت‌کننده‌های استثنا نیز شناخته می‌شوند. هر بند except نوع استثنایی را که مدیریت می‌کند، مشخص می‌کند. در این مثال، هر مدیریت‌کننده استثنا فقط یک پیام نشان می‌دهد که مشکل رخ داده است.\n",
    "</div>"
   ]
  },
  {
   "cell_type": "markdown",
   "id": "34a3e69a-7d6d-46f2-9758-afd5213cfc50",
   "metadata": {},
   "source": [
    "<h2 style=\"direction:rtl;font-size: px;font-family: 'XB Zar';color:#0288d1;\">\n",
    "    بند else\n",
    "</h2> <a id=''></a>"
   ]
  },
  {
   "cell_type": "markdown",
   "id": "c32132b3-5f08-49c7-bc88-0bc1f8ff298f",
   "metadata": {},
   "source": [
    "<div style=\"direction:rtl; font-size: 17px; font-family: 'XB Zar'; line-height: 200%\">پس از آخرین بند except، یک بند else اختیاری (خطوط ۱۴–۱۶) وجود دارد که کدی را مشخص می‌کند که فقط در صورتی اجرا می‌شود که کد در مجموعه try هیچ استثنایی ایجاد نکرده باشد. اگر هیچ استثنایی در مجموعه try این مثال رخ ندهد، خط ۱۵ نتیجه تقسیم را نمایش می‌دهد و خط ۱۶ حلقه را خاتمه می‌دهد.\n",
    "</div>"
   ]
  },
  {
   "cell_type": "markdown",
   "id": "00961241-4307-4ded-a464-cee8e8cadee1",
   "metadata": {},
   "source": [
    "<h2 style=\"direction:rtl;font-size: px;font-family: 'XB Zar';color:#0288d1;\">\n",
    "    جریان کنترل برای ZeroDivisionError\n",
    "</h2> <a id=''></a>"
   ]
  },
  {
   "cell_type": "markdown",
   "id": "0819e697-52d7-4879-9acd-9f59387d1f41",
   "metadata": {},
   "source": [
    "<div style=\"direction:rtl; font-size: 17px; font-family: 'XB Zar'; line-height: 200%\">\n",
    "    حال بیایید جریان کنترل این مثال را بر اساس سه خط اول خروجی نمونه در نظر بگیریم:\n",
    "</div>"
   ]
  },
  {
   "cell_type": "markdown",
   "id": "f245a839-dc54-4f13-acaa-7ecebf23be28",
   "metadata": {},
   "source": [
    "<div style=\"direction:rtl; font-size: 17px; font-family: 'XB Zar'; line-height: 200%\">\n",
    "    <span style=\"color:#8e24aa;\">• </span>\n",
    "    ابتدا کاربر در پاسخ به خط ۷ در مجموعه try، عدد ۱۰۰ را به عنوان صورت وارد می‌کند.\n",
    "    <br>\n",
    "    <span style=\"color:#8e24aa;\">• </span>\n",
    "    سپس کاربر در پاسخ به خط ۸ در مجموعه try، عدد ۰ را به عنوان مخرج وارد می‌کند.\n",
    "    <br>\n",
    "    <span style=\"color:#8e24aa;\">• </span>\n",
    "    در این مرحله، ما دو مقدار صحیح داریم، بنابراین خط ۹ سعی می‌کند ۱۰۰ را بر ۰ تقسیم کند، که باعث می‌شود پایتون یک ZeroDivisionError ایجاد کند. نقطه‌ای در برنامه که یک استثنا رخ می‌دهد، اغلب به عنوان نقطه ایجاد استثنا شناخته می‌شود.\n",
    "    <br>\n",
    "</div>"
   ]
  },
  {
   "cell_type": "markdown",
   "id": "ba62c31c-da00-4a46-a246-4abcb109462d",
   "metadata": {},
   "source": [
    "<div style=\"direction:rtl; font-size: 17px; font-family: 'XB Zar'; line-height: 200%\">\n",
    "    وقتی یک استثنا در مجموعه try رخ می‌دهد، بلافاصله متوقف می‌شود. اگر هرگونه مدیریت‌کننده except پس از مجموعه try وجود داشته باشد، کنترل برنامه به اولین مدیریت‌کننده منتقل می‌شود. اگر هیچ مدیریت‌کننده except وجود نداشته باشد، فرآیندی به نام باز شدن پشته (stack unwinding) رخ می‌دهد که بعداً در فصل درباره آن بحث خواهیم کرد.\n",
    "</div>"
   ]
  },
  {
   "cell_type": "markdown",
   "id": "54c69c3d-8a92-430a-8eed-6fa8e203d052",
   "metadata": {},
   "source": [
    "<div style=\"direction:rtl; font-size: 17px; font-family: 'XB Zar'; line-height: 200%\">\n",
    "    در این مثال، مدیریت‌کننده‌های except وجود دارند، بنابراین مفسر به دنبال اولین مدیریت‌کننده‌ای می‌گردد که با نوع استثنای ایجاد شده مطابقت دارد:\n",
    "</div>"
   ]
  },
  {
   "cell_type": "markdown",
   "id": "43fe14f7-1e46-494f-b8a9-60b630b0e72f",
   "metadata": {},
   "source": [
    "<div style=\"direction:rtl; font-size: 17px; font-family: 'XB Zar'; line-height: 200%\">\n",
    "    <span style=\"color:#8e24aa;\">• </span>\n",
    "    بند except در خطوط ۱۰–۱۱، ValueErrorها را مدیریت می‌کند. این با نوع ZeroDivisionError مطابقت ندارد، بنابراین مجموعه دستورات این بند except اجرا نمی‌شود و کنترل برنامه به مدیریت‌کننده بعدی منتقل می‌شود.\n",
    "    <br>\n",
    "    <span style=\"color:#8e24aa;\">• </span>\n",
    "    بند except در خطوط ۱۲–۱۳، ZeroDivisionErrorها را مدیریت می‌کند. این یک تطابق است، بنابراین مجموعه دستورات این بند except اجرا می‌شود و پیام \"Attempted to divide by zero\" نمایش داده می‌شود.\n",
    "    <br>\n",
    "</div>"
   ]
  },
  {
   "cell_type": "markdown",
   "id": "b260aadc-502d-441f-87b0-0f262ad0e787",
   "metadata": {},
   "source": [
    "<div style=\"direction:rtl; font-size: 17px; font-family: 'XB Zar'; line-height: 200%\">\n",
    "    وقتی یک بند except به طور موفقیت‌آمیز استثنا را مدیریت می‌کند، اجرای برنامه با بند finally (اگر وجود داشته باشد) ادامه می‌یابد، سپس با دستور بعدی پس از دستور try. در این مثال، ما به انتهای حلقه می‌رسیم، بنابراین اجرا با تکرار بعدی حلقه ادامه می‌یابد. توجه داشته باشید که پس از مدیریت یک استثنا، کنترل برنامه به نقطه ایجاد استثنا باز نمی‌گردد. بلکه کنترل پس از دستور try ادامه می‌یابد. به زودی در مورد بند finally بحث خواهیم کرد.\n",
    "</div>"
   ]
  },
  {
   "cell_type": "markdown",
   "id": "51592e16-6542-4302-ada2-a3947177d6fb",
   "metadata": {},
   "source": [
    "<h2 style=\"direction:rtl;font-size: px;font-family: 'XB Zar';color:#0288d1;\">\n",
    "    جریان کنترل برای ValueError\n",
    "</h2> <a id=''></a>"
   ]
  },
  {
   "cell_type": "markdown",
   "id": "0a1b53be-cd08-4127-b4e5-af9587fde786",
   "metadata": {},
   "source": [
    "<div style=\"direction:rtl; font-size: 17px; font-family: 'XB Zar'; line-height: 200%\">\n",
    "    حال بیایید جریان کنترل را بر اساس سه خط بعدی خروجی نمونه در نظر بگیریم:\n",
    "</div>"
   ]
  },
  {
   "cell_type": "markdown",
   "id": "bca7aed7-3f60-4ba0-a879-4990c5eea9f0",
   "metadata": {},
   "source": [
    "<div style=\"direction:rtl; font-size: 17px; font-family: 'XB Zar'; line-height: 200%\">\n",
    "    <span style=\"color:#8e24aa;\">• </span>\n",
    "    ابتدا کاربر در پاسخ به خط ۷ در مجموعه try، عدد ۱۰۰ را به عنوان صورت وارد می‌کند.\n",
    "    <br>\n",
    "    <span style=\"color:#8e24aa;\">• </span>\n",
    "    سپس کاربر در پاسخ به خط ۸ در مجموعه try، رشته hello را به عنوان مخرج وارد می‌کند. ورودی یک عدد صحیح معتبر نیست، بنابراین تابع int یک ValueError ایجاد می‌کند.\n",
    "    <br>\n",
    "</div>"
   ]
  },
  {
   "cell_type": "markdown",
   "id": "fa4fb3e5-826c-48af-baee-961b45ec05b6",
   "metadata": {},
   "source": [
    "<div style=\"direction:rtl; font-size: 17px; font-family: 'XB Zar'; line-height: 200%\">استثنا مجموعه try را متوقف می‌کند و کنترل برنامه به اولین مدیریت‌کننده except منتقل می‌شود. در این مورد، بند except در خطوط ۱۰–۱۱ یک تطابق است، بنابراین مجموعه دستورات آن اجرا می‌شود و پیام \"You must enter two integers\" نمایش داده می‌شود. سپس، اجرای برنامه با دستور بعدی پس از دستور try ادامه می‌یابد. دوباره، این انتهای حلقه است، بنابراین اجرا با تکرار بعدی حلقه ادامه می‌یابد.\n",
    "</div>"
   ]
  },
  {
   "cell_type": "markdown",
   "id": "a21afc1d-56c3-4d9b-a662-9bc7845a159c",
   "metadata": {},
   "source": [
    "<h2 style=\"direction:rtl;font-size: px;font-family: 'XB Zar';color:#0288d1;\">\n",
    "    جریان کنترل برای یک تقسیم موفق\n",
    "</h2> <a id=''></a>"
   ]
  },
  {
   "cell_type": "markdown",
   "id": "02315762-8406-42df-b4f7-2b40d81cfa39",
   "metadata": {},
   "source": [
    "<div style=\"direction:rtl; font-size: 17px; font-family: 'XB Zar'; line-height: 200%\">\n",
    "    حال بیایید جریان کنترل را بر اساس سه خط آخر خروجی نمونه در نظر بگیریم:\n",
    "</div>"
   ]
  },
  {
   "cell_type": "markdown",
   "id": "743b7216-df7a-4ec2-ad41-aa13718c59b1",
   "metadata": {},
   "source": [
    "<div style=\"direction:rtl; font-size: 17px; font-family: 'XB Zar'; line-height: 200%\">\n",
    "    <span style=\"color:#8e24aa;\">• </span>\n",
    "    ابتدا کاربر در پاسخ به خط ۷ در مجموعه try، عدد ۱۰۰ را به عنوان صورت وارد می‌کند.\n",
    "    <br>\n",
    "    <span style=\"color:#8e24aa;\">• </span>\n",
    "    سپس کاربر در پاسخ به خط ۸ در مجموعه try، عدد ۷ را به عنوان مخرج وارد می‌کند.\n",
    "    <br>\n",
    "    <span style=\"color:#8e24aa;\">• </span>\n",
    "    در این مرحله، ما دو مقدار صحیح معتبر داریم و مخرج ۰ نیست، بنابراین خط ۹ با موفقیت ۱۰۰ را بر ۷ تقسیم می‌کند.\n",
    "    <br>\n",
    "</div>"
   ]
  },
  {
   "cell_type": "markdown",
   "id": "b405a231-3271-477c-a96d-9880d5ab2d89",
   "metadata": {},
   "source": [
    "<div style=\"direction:rtl; font-size: 17px; font-family: 'XB Zar'; line-height: 200%\">\n",
    "    وقتی هیچ استثنایی در مجموعه try رخ نمی‌دهد، اجرای برنامه با بند else (اگر وجود داشته باشد) ادامه می‌یابد؛ در غیر این صورت، اجرای برنامه با دستور بعدی پس از دستور try ادامه می‌یابد. در بند else این مثال، نتیجه تقسیم را نمایش می‌دهیم، سپس حلقه را خاتمه می‌دهیم و برنامه به پایان می‌رسد.\n",
    "</div>"
   ]
  },
  {
   "cell_type": "markdown",
   "id": "73de0980-9675-46f1-829a-384c0a16b466",
   "metadata": {},
   "source": [
    "<h2 style=\"direction:rtl;font-size: 25px;font-family: 'XB Zar';color:#8e24aa;\">9.8.3 <span style=\"color:#8e24aa;\">مدیریت چندین استثنا در یک دستور\n",
    "except\n",
    "</span></h2> <a id='14'></a>"
   ]
  },
  {
   "cell_type": "markdown",
   "id": "d790c6cb-1307-4120-8db5-ff27f308959d",
   "metadata": {},
   "source": [
    "<div style=\"direction:rtl; font-size: 17px; font-family: 'XB Zar'; line-height: 200%\">معمول است که یک بند try به دنبال چند بند except باشد تا انواع مختلف استثناها را مدیریت کند. اگر چند مجموعه except یکسان باشند، می‌توانید آن انواع استثناها را با مشخص کردن آن‌ها به عنوان یک تاپل در یک مدیریت‌کننده except بگیرید، مانند:\n",
    "</div>"
   ]
  },
  {
   "cell_type": "markdown",
   "id": "a89c64ea-6607-495d-9193-69d87c594c08",
   "metadata": {},
   "source": [
    "```Python\n",
    "except (type1, type2, ...) as variable_name:\n",
    "```"
   ]
  },
  {
   "cell_type": "markdown",
   "id": "9aa93dd5-42bf-4118-86cc-4c5a788a1203",
   "metadata": {},
   "source": [
    "<div style=\"direction:rtl; font-size: 17px; font-family: 'XB Zar'; line-height: 200%\">\n",
    "    بند as اختیاری است. معمولاً برنامه‌ها نیازی به ارجاع مستقیم به شیء استثنای گرفته شده ندارند. اگر نیاز دارید، می‌توانید از متغیر در بند as برای ارجاع به شیء استثنا در مجموعه except استفاده کنید.\n",
    "</div>"
   ]
  },
  {
   "cell_type": "markdown",
   "id": "fbf99c77-4921-40cf-a26a-7d28d7e3c9df",
   "metadata": {},
   "source": [
    "<h2 style=\"direction:rtl;font-size: 25px;font-family: 'XB Zar';color:#8e24aa;\">9.8.4 <span style=\"color:#8e24aa;\">یک تابع یا یک متد چه استثنائاتی را ایجاد می‌کنند؟</span></h2> <a id='15'></a>"
   ]
  },
  {
   "cell_type": "markdown",
   "id": "e9d7c203-d4dd-4a1b-9563-4c589e824c1d",
   "metadata": {},
   "source": [
    "<div style=\"direction:rtl; font-size: 17px; font-family: 'XB Zar'; line-height: 200%\">\n",
    "    استثناها ممکن است از طریق دستورات در مجموعه try، از طریق توابع یا متدهایی که مستقیماً یا غیرمستقیم از مجموعه try فراخوانی می‌شوند، یا از طریق مفسر پایتون در حین اجرای کد (مثلاً ZeroDivisionError) ایجاد شوند.\n",
    "</div>"
   ]
  },
  {
   "cell_type": "markdown",
   "id": "6b5c0f08-74af-48ea-9de0-53cf0f99d5c9",
   "metadata": {},
   "source": [
    "<div style=\"direction:rtl; font-size: 17px; font-family: 'XB Zar'; line-height: 200%\">\n",
    "    قبل از استفاده از هر تابع یا متد، مستندات API آن‌ها را به صورت آنلاین بخوانید، که مشخص می‌کند چه استثناهایی (در صورت وجود) توسط تابع یا متد ایجاد می‌شوند و دلایل احتمالی ایجاد چنین استثناهایی را نشان می‌دهد. سپس، مستندات API هر نوع استثنا را بخوانید تا دلایل احتمالی ایجاد چنین استثناهایی را ببینید.\n",
    "</div>"
   ]
  },
  {
   "cell_type": "markdown",
   "id": "488eab17-cf46-4def-a2d4-0d77f84f8fcd",
   "metadata": {},
   "source": [
    "<h2 style=\"direction:rtl;font-size: 25px;font-family: 'XB Zar';color:#8e24aa;\">9.8.5 <span style=\"color:#8e24aa;\">چه کدی باید در بلاک \n",
    "try\n",
    "قرار گیرد؟\n",
    "</span></h2> <a id='16'></a>"
   ]
  },
  {
   "cell_type": "markdown",
   "id": "25797e72-311a-473c-948c-0c5e16effeec",
   "metadata": {},
   "source": [
    "<div style=\"direction:rtl; font-size: 17px; font-family: 'XB Zar'; line-height: 200%\">\n",
    "    در مجموعه try یک بخش منطقی مهم از برنامه را قرار دهید که در آن چندین دستور ممکن است استثنا ایجاد کنند، به جای اینکه هر دستوری که استثنا ایجاد می‌کند را در یک دستور try جداگانه بپیچید. با این حال، برای دانه‌بندی مناسب مدیریت استثنا، هر دستور try باید بخشی از کد را محصور کند که به اندازه‌ای کوچک باشد که وقتی یک استثنا رخ می‌دهد، زمینه خاص آن مشخص باشد و مدیریت‌کننده‌های except بتوانند استثنا را به درستی پردازش کنند. اگر بسیاری از دستورات در یک مجموعه try همان انواع استثناها را ایجاد کنند، ممکن است به چندین دستور try نیاز باشد تا زمینه هر استثنا مشخص شود.\n",
    "</div>"
   ]
  },
  {
   "cell_type": "markdown",
   "id": "a235b059-b673-4f15-b83f-cd5f4c6e752f",
   "metadata": {},
   "source": [
    "<h1 style=\"direction:rtl;font-size: 35px;font-family: 'XB Zar';color:#8e24aa;\">9.9 <span style=\"color:#F50057;\">عبارت\n",
    "finally\n",
    "</span></h1> <a id='17'></a>"
   ]
  },
  {
   "cell_type": "markdown",
   "id": "35720b6e-289c-45e1-b02d-70df150c886f",
   "metadata": {},
   "source": [
    "<div style=\"direction:rtl; font-size: 17px; font-family: 'XB Zar'; line-height: 200%\">\n",
    "    سیستم‌های عامل معمولاً می‌توانند از دستکاری همزمان یک فایل توسط بیش از یک برنامه جلوگیری کنند. وقتی یک برنامه پردازش یک فایل را به پایان می‌رساند، باید آن را ببندد تا منبع آزاد شود و برنامه‌های دیگر بتوانند به آن دسترسی داشته باشند. بستن فایل به جلوگیری از نشت منابع کمک می‌کند.\n",
    "</div>"
   ]
  },
  {
   "cell_type": "markdown",
   "id": "155838f5-303e-4db9-9a0c-7162e125869b",
   "metadata": {},
   "source": [
    "<h2 style=\"direction:rtl;font-size: px;font-family: 'XB Zar';color:#0288d1;\">\n",
    "    بند finally دستور try\n",
    "</h2> <a id=''></a>"
   ]
  },
  {
   "cell_type": "markdown",
   "id": "b53674ff-59fa-4007-8e26-bda6358349f9",
   "metadata": {},
   "source": [
    "<div style=\"direction:rtl; font-size: 17px; font-family: 'XB Zar'; line-height: 200%\">\n",
    "    یک دستور try ممکن است یک بند finally پس از هر بند except یا بند else داشته باشد. بند finally تضمین می‌شود که اجرا شود. در زبان‌های دیگر که finally دارند، این باعث می‌شود که مجموعه finally مکان ایده‌آلی برای قرار دادن کد آزادسازی منابع برای منابعی باشد که در مجموعه try مربوطه به دست آمده‌اند. در پایتون، ما ترجیح می‌دهیم از دستور with برای این منظور استفاده کنیم و انواع دیگر کدهای \"تمیزکاری\" را در مجموعه finally قرار دهیم.\n",
    "</div>"
   ]
  },
  {
   "cell_type": "markdown",
   "id": "0d89af76-5a1b-48c0-9637-7117b339927e",
   "metadata": {},
   "source": [
    "<h2 style=\"direction:rtl;font-size: px;font-family: 'XB Zar';color:#0288d1;\">\n",
    "    مثال\n",
    "</h2> <a id=''></a>"
   ]
  },
  {
   "cell_type": "markdown",
   "id": "3d0f6669-fe18-458e-b7c7-18ab3fcf1e59",
   "metadata": {},
   "source": [
    "<div style=\"direction:rtl; font-size: 17px; font-family: 'XB Zar'; line-height: 200%\">\n",
    "    جلسه IPython زیر نشان می‌دهد که بند finally همیشه اجرا می‌شود، صرف نظر از اینکه آیا استثنایی در مجموعه try مربوطه رخ داده است یا خیر. ابتدا، بیایید یک دستور try را در نظر بگیریم که در مجموعه try آن هیچ استثنایی رخ نمی‌دهد:\n",
    "</div>"
   ]
  },
  {
   "cell_type": "code",
   "execution_count": null,
   "id": "233c562c-4b05-43ba-acb3-ad19f5de3db3",
   "metadata": {},
   "outputs": [],
   "source": [
    "try:\n",
    "    print('try suite with no exceptions raised')\n",
    "except:\n",
    "    print('this will not execute')\n",
    "else:\n",
    "    print('else executes because no exceptions in the try suite')\n",
    "finally:  \n",
    "    print('finally always executes')\n",
    "    "
   ]
  },
  {
   "cell_type": "markdown",
   "id": "09120299-3221-437a-bf66-aa2181ae4ea7",
   "metadata": {},
   "source": [
    "<div style=\"direction:rtl; font-size: 17px; font-family: 'XB Zar'; line-height: 200%\">\n",
    "    مجموعه try قبل‌تر یک پیام نمایش می‌دهد اما هیچ استثنایی ایجاد نمی‌کند. وقتی کنترل برنامه با موفقیت به انتهای مجموعه try می‌رسد، بند except رد می‌شود، بند else اجرا می‌شود و بند finally یک پیام نشان می‌دهد که نشان می‌دهد همیشه اجرا می‌شود. وقتی بند finally خاتمه می‌یابد، کنترل برنامه با دستور بعدی پس از دستور try ادامه می‌یابد. در یک جلسه \n",
    "    (IPython)\n",
    "    ، prompt بعدی [] In ظاهر می‌شود.\n",
    "</div>"
   ]
  },
  {
   "cell_type": "markdown",
   "id": "003f42a8-bbf6-41a0-bb55-7286e1b6969b",
   "metadata": {},
   "source": [
    "<div style=\"direction:rtl; font-size: 17px; font-family: 'XB Zar'; line-height: 200%\">\n",
    "    حال بیایید یک دستور try را در نظر بگیریم که در مجموعه try آن یک استثنا رخ می‌دهد:\n",
    "</div>"
   ]
  },
  {
   "cell_type": "code",
   "execution_count": null,
   "id": "ff2046c5-8c0f-453b-a7ac-a82c1359ee49",
   "metadata": {},
   "outputs": [],
   "source": [
    "try:\n",
    "    print('try suite that raises an exception')\n",
    "    int('hello')\n",
    "    print('this will not execute')\n",
    "except ValueError:\n",
    "    print('a ValueError occurred')\n",
    "else:\n",
    "    print('else will not execute because an exception occurred')\n",
    "finally:  \n",
    "    print('finally always executes')\n",
    "    "
   ]
  },
  {
   "cell_type": "markdown",
   "id": "340cee6d-9cd1-4bdc-a53f-a4584e45ac56",
   "metadata": {},
   "source": [
    "<div style=\"direction:rtl; font-size: 17px; font-family: 'XB Zar'; line-height: 200%\">\n",
    "     این مجموعه try با نمایش یک پیام شروع می‌شود. دستور دوم سعی می‌کند رشته 'hello' را به یک عدد صحیح تبدیل کند، که باعث می‌شود تابع int یک ValueError ایجاد کند. مجموعه try بلافاصله متوقف می‌شود و آخرین دستور print آن رد می‌شود. بند except استثنای ValueError را می‌گیرد و یک پیام نمایش می‌دهد. بند else اجرا نمی‌شود زیرا یک استثنا رخ داده است. سپس، بند finally یک پیام نشان می‌دهد که نشان می‌دهد همیشه اجرا می‌شود. وقتی بند finally خاتمه می‌یابد، کنترل برنامه با دستور بعدی پس از دستور try ادامه می‌یابد. در یک جلسه \n",
    "    (IPython)\n",
    "    ، prompt بعدی [] In ظاهر می‌شود.\n",
    "</div>"
   ]
  },
  {
   "cell_type": "markdown",
   "id": "9e80fd31-7f6f-4337-8bdf-e82eb0b562c0",
   "metadata": {},
   "source": [
    "<h2 style=\"direction:rtl;font-size: px;font-family: 'XB Zar';color:#0288d1;\">\n",
    "    ترکیب دستورات with و try...except\n",
    "</h2> <a id=''></a>"
   ]
  },
  {
   "cell_type": "markdown",
   "id": "806c2272-65f3-469a-8686-e6183e5a9f42",
   "metadata": {},
   "source": [
    "<div style=\"direction:rtl; font-size: 17px; font-family: 'XB Zar'; line-height: 200%\">\n",
    "    بیشتر منابعی که نیاز به آزادسازی صریح دارند، مانند فایل‌ها، اتصالات شبکه و اتصالات پایگاه داده، استثناهای بالقوه‌ای در ارتباط با پردازش آن منابع دارند. به عنوان مثال، برنامه‌ای که یک فایل را پردازش می‌کند ممکن است IOError ایجاد کند. به همین دلیل، کد پردازش فایل قوی معمولاً در یک مجموعه try حاوی یک دستور with قرار می‌گیرد تا تضمین شود که منبع آزاد می‌شود. کد در یک مجموعه try قرار دارد، بنابراین می‌توانید هر استثنایی که رخ می‌دهد را در مدیریت‌کننده‌های except بگیرید و نیازی به بند finally ندارید زیرا دستور with آزادسازی منابع را مدیریت می‌کند.\n",
    "</div>"
   ]
  },
  {
   "cell_type": "markdown",
   "id": "177866aa-9e1d-4ce4-90bb-4e490f8d360b",
   "metadata": {},
   "source": [
    "<div style=\"direction:rtl; font-size: 17px; font-family: 'XB Zar'; line-height: 200%\">\n",
    "    برای نشان دادن این موضوع، ابتدا فرض کنید که از کاربر می‌خواهید نام یک فایل را ارائه دهد و او نام را به اشتباه وارد می‌کند، مثلاً gradez.txt به جای فایلی که قبلاً ایجاد کردیم grades.txt. در این حالت، فراخوانی open با تلاش برای باز کردن یک فایل غیرموجود، یک FileNotFoundError ایجاد می‌کند:\n",
    "</div>"
   ]
  },
  {
   "cell_type": "code",
   "execution_count": null,
   "id": "78e789ff-86ff-4563-966b-96734065a5f4",
   "metadata": {},
   "outputs": [],
   "source": [
    "open('gradez.txt')"
   ]
  },
  {
   "cell_type": "markdown",
   "id": "fc1d0ee1-fc47-4202-b9d0-c8aa7737d72d",
   "metadata": {},
   "source": [
    "<div style=\"direction:rtl; font-size: 17px; font-family: 'XB Zar'; line-height: 200%\">\n",
    "    برای گرفتن استثناهایی مانند FileNotFoundError که هنگام تلاش برای باز کردن یک فایل برای خواندن رخ می‌دهند، دستور \n",
    "    with\n",
    "    را در یک مجموعه \n",
    "    try\n",
    "    بگذارید، مانند:\n",
    "</div>"
   ]
  },
  {
   "cell_type": "code",
   "execution_count": null,
   "id": "fc0b9fe8-4161-47a2-8bfc-3653a10dd280",
   "metadata": {},
   "outputs": [],
   "source": [
    "try:\n",
    "    with open('gradez.txt', 'r') as accounts:\n",
    "        print(f'{\"ID\":<3}{\"Name\":<7}{\"Grade\"}')\n",
    "        for record in accounts:  \n",
    "            student_id, name, grade = record.split()\n",
    "            print(f'{student_id:<3}{name:<7}{grade}')\n",
    "except FileNotFoundError:\n",
    "    print('The file name you specified does not exist')\n",
    "    "
   ]
  },
  {
   "cell_type": "markdown",
   "id": "5ce5dfc5-c060-4692-8765-db77321c990e",
   "metadata": {},
   "source": [
    "<h1 style=\"direction:rtl;font-size: 35px;font-family: 'XB Zar';color:#8e24aa;\">9.10 <span style=\"color:#F50057;\">ایجاد یک استثنا به طور صریح</span></h1> <a id='18'></a>"
   ]
  },
  {
   "cell_type": "markdown",
   "id": "38ec5951-7500-44cb-85ad-d6844237dd79",
   "metadata": {},
   "source": [
    "<div style=\"direction:rtl; font-size: 17px; font-family: 'XB Zar'; line-height: 200%\">شما تاکنون استثناهای مختلفی را که توسط کد پایتون شما ایجاد شده‌اند، دیده‌اید. گاهی اوقات ممکن است نیاز داشته باشید توابعی بنویسید که استثنا ایجاد کنند تا خطاهایی که رخ می‌دهند را به فراخواننده‌ها اطلاع دهند. دستور raise به طور صریح یک استثنا ایجاد می‌کند. ساده‌ترین شکل دستور raise به صورت زیر است:\n",
    "</div>"
   ]
  },
  {
   "cell_type": "markdown",
   "id": "73724a52-9c2a-4991-81e2-ba60469cda5f",
   "metadata": {},
   "source": [
    "```Python\n",
    "raise ExceptionClassName\n",
    "```"
   ]
  },
  {
   "cell_type": "markdown",
   "id": "f3168e67-11e5-41ad-b960-0c09e3ddcd00",
   "metadata": {},
   "source": [
    "<div style=\"direction:rtl; font-size: 17px; font-family: 'XB Zar'; line-height: 200%\">\n",
    "    دستور raise یک شیء از کلاس استثنای مشخص شده ایجاد می‌کند. به طور اختیاری، نام کلاس استثنا می‌تواند به دنبال پرانتزهایی باشد که حاوی آرگومان‌هایی برای مقداردهی اولیه شیء استثنا هستند — معمولاً برای ارائه یک پیام خطای سفارشی. کدی که یک استثنا ایجاد می‌کند، ابتدا باید هر منبعی که قبل از وقوع استثنا به دست آورده است را آزاد کند. در بخش بعدی، مثالی از ایجاد یک استثنا را نشان خواهیم داد.\n",
    "</div>"
   ]
  },
  {
   "cell_type": "markdown",
   "id": "f15cc6ea-2b9d-4ce6-a2e0-95f3369bf3eb",
   "metadata": {},
   "source": [
    "<div style=\"direction:rtl; font-size: 17px; font-family: 'XB Zar'; line-height: 200%\">\n",
    "    در بیشتر موارد، زمانی که نیاز به ایجاد یک استثنا دارید، توصیه می‌شود که از یکی از انواع استثناهای داخلی پایتون استفاده کنید که در لینک زیر فهرست شده‌اند:\n",
    "    <a href=\"https://docs.python.org/3/library/exceptions.html\">(لینک).</a>\n",
    "</div>"
   ]
  },
  {
   "cell_type": "markdown",
   "id": "60efa338-9689-4fe6-8146-cd3f94c86998",
   "metadata": {},
   "source": [
    "<h1 style=\"direction:rtl;font-size: 35px;font-family: 'XB Zar';color:#8e24aa;\">9.11 <span style=\"color:#F50057;\">(Optional) Stack Unwinding and \n",
    "Tracebacks</span></h1> <a id='19'></a>"
   ]
  },
  {
   "cell_type": "markdown",
   "id": "e16d8438-021d-4038-918a-827be5ce4e87",
   "metadata": {},
   "source": [
    "<div style=\"direction:rtl; font-size: 17px; font-family: 'XB Zar'; line-height: 200%\">\n",
    "    هر شیء استثنا اطلاعاتی را ذخیره می‌کند که نشان‌دهنده سری دقیق فراخوانی‌های تابعی است که منجر به استثنا شده است. این اطلاعات هنگام اشکال‌زدایی کد شما مفید هستند. تعاریف تابع زیر را در نظر بگیرید — تابع function1 تابع function2 را فراخوانی می‌کند و تابع function2 یک استثنا ایجاد می‌کند:\n",
    "</div>"
   ]
  },
  {
   "cell_type": "code",
   "execution_count": null,
   "id": "139f396e-12af-4e62-a4d4-bfb955193e07",
   "metadata": {},
   "outputs": [],
   "source": [
    "def function1():\n",
    "    function2()\n",
    "    "
   ]
  },
  {
   "cell_type": "code",
   "execution_count": null,
   "id": "a2e45584-9936-460b-be4e-f06b48b37a77",
   "metadata": {},
   "outputs": [],
   "source": [
    "def function2():\n",
    "    raise Exception('An exception occurred')"
   ]
  },
  {
   "cell_type": "markdown",
   "id": "fcb18363-1278-408f-9abf-f1d7ab8324d3",
   "metadata": {},
   "source": [
    "<div style=\"direction:rtl; font-size: 17px; font-family: 'XB Zar'; line-height: 200%\">\n",
    "    فراخوانی تابع function1 منجر به traceback زیر می‌شود. برای تأکید، بخش‌هایی از traceback که نشان‌دهنده خطوط کد منجر به استثنا هستند را پررنگ کرده‌ایم:\n",
    "</div>"
   ]
  },
  {
   "cell_type": "code",
   "execution_count": null,
   "id": "56d3813b-9e4b-4596-882b-8a21214863ea",
   "metadata": {},
   "outputs": [],
   "source": [
    "function1()"
   ]
  },
  {
   "attachments": {
    "3a9ba550-9b68-4331-864e-fe2566dc4f4e.jpeg": {
     "image/jpeg": "[encoded data removed]"
    }
   },
   "cell_type": "markdown",
   "id": "5b887d5c-42be-4e75-bedb-213c394d79f2",
   "metadata": {},
   "source": [
    "![Screenshot_8-2-2025_45415_.jpeg](attachment:3a9ba550-9b68-4331-864e-fe2566dc4f4e.jpeg)"
   ]
  },
  {
   "cell_type": "markdown",
   "id": "b2be122b-31b8-4794-ba97-c75ec848e7bb",
   "metadata": {},
   "source": [
    "<h2 style=\"direction:rtl;font-size: px;font-family: 'XB Zar';color:#0288d1;\">\n",
    "    جزئیات Traceback\n",
    "</h2> <a id=''></a>"
   ]
  },
  {
   "cell_type": "markdown",
   "id": "c70e683d-19b9-4177-a930-c24fb1b22271",
   "metadata": {},
   "source": [
    "<div style=\"direction:rtl; font-size: 17px; font-family: 'XB Zar'; line-height: 200%\">\n",
    "    Traceback نوع استثنایی که رخ داده است (Exception) را نشان می‌دهد و به دنبال آن پشته کامل فراخوانی‌های تابعی که منجر به نقطه ایجاد استثنا شده است، آورده می‌شود. پایین‌ترین فراخوانی تابع در پشته ابتدا فهرست می‌شود و بالاترین فراخوانی آخر است، بنابراین مفسر متن زیر را به عنوان یادآوری نمایش می‌دهد:\n",
    "</div>"
   ]
  },
  {
   "cell_type": "markdown",
   "id": "d8328f1a-9493-4258-9806-b9e8fbea646b",
   "metadata": {},
   "source": [
    "```Python\n",
    "Traceback (most recent call last)\n",
    "```"
   ]
  },
  {
   "cell_type": "markdown",
   "id": "8bfc0565-3594-4f8b-be5e-042f1c9ed8ec",
   "metadata": {},
   "source": [
    "<div style=\"direction:rtl; font-size: 17px; font-family: 'XB Zar'; line-height: 200%\">\n",
    "    در این traceback، متن زیر نشان‌دهنده پایین پشته فراخوانی تابع — فراخوانی function1 در قطعه کد [۳] (که با ipython-input-3 نشان داده شده است) — است:\n",
    "</div>"
   ]
  },
  {
   "cell_type": "markdown",
   "id": "22a123db-e6b8-468b-8ca5-242ea5ad91bb",
   "metadata": {},
   "source": [
    "```Python\n",
    "<ipython-input-3-c0b3cafe2087> in <module>()\n",
    "----> 1 function1()\n",
    "```"
   ]
  },
  {
   "cell_type": "markdown",
   "id": "2b82c876-c7e7-4241-ad14-cab8064d482e",
   "metadata": {},
   "source": [
    "<div style=\"direction:rtl; font-size: 17px; font-family: 'XB Zar'; line-height: 200%\">\n",
    "    سپس می‌بینیم که function1 تابع function2 را از خط ۲ در قطعه کد [۱] فراخوانی کرده است:\n",
    "</div>"
   ]
  },
  {
   "cell_type": "markdown",
   "id": "77eed7cd-796f-4d79-af1b-51fcbf71c588",
   "metadata": {},
   "source": [
    "```Python\n",
    "<ipython-input-1-a9f4faeeeb0c> in function1()\n",
    "    1 def function1():\n",
    "----> 2 function2()\n",
    "    3\n",
    "```"
   ]
  },
  {
   "cell_type": "markdown",
   "id": "932a6ba8-d89f-42b7-8f74-f580bf9c4fe0",
   "metadata": {},
   "source": [
    "<div style=\"direction:rtl; font-size: 17px; font-family: 'XB Zar'; line-height: 200%\">\n",
    "    در نهایت، نقطه ایجاد استثنا را می‌بینیم — در این مورد، خط ۲ در قطعه کد [۲] استثنا را ایجاد کرده است:\n",
    "</div>"
   ]
  },
  {
   "cell_type": "markdown",
   "id": "2e7b73c3-447a-490d-9221-1a472a1c1020",
   "metadata": {},
   "source": [
    "```Python\n",
    "<ipython-input-2-c65e1966b45b> in function2()\n",
    "    1 def function2():\n",
    "----> 2 raise Exception('An exception occurred')\n",
    "```"
   ]
  },
  {
   "cell_type": "markdown",
   "id": "31239696-2db3-43d5-987c-d2fcb1f45925",
   "metadata": {},
   "source": [
    "<h2 style=\"direction:rtl;font-size: px;font-family: 'XB Zar';color:#0288d1;\">\n",
    "    Stack Unwinding\n",
    "</h2> <a id=''></a>"
   ]
  },
  {
   "cell_type": "markdown",
   "id": "95d5a31f-113d-42dd-90f3-f874becc3d23",
   "metadata": {},
   "source": [
    "<div style=\"direction:rtl; font-size: 17px; font-family: 'XB Zar'; line-height: 200%\">\n",
    "    در مثال‌های قبلی مدیریت استثنا، نقطه ایجاد استثنا در مجموعه try رخ داده است و استثنا در یکی از مدیریت‌کننده‌های except مربوط به دستور try مدیریت شده است. وقتی یک استثنا در یک تابع مشخص گرفته نشود، باز شدن پشته رخ می‌دهد. بیایید باز شدن پشته را در چارچوب این مثال در نظر بگیریم:\n",
    "</div>"
   ]
  },
  {
   "cell_type": "markdown",
   "id": "f34bd81c-b0ba-4a93-9394-7106a0165b23",
   "metadata": {},
   "source": [
    "<div style=\"direction:rtl; font-size: 17px; font-family: 'XB Zar'; line-height: 200%\">\n",
    "    <span style=\"color:#8e24aa;\">• </span>\n",
    "    در تابع function2، دستور raise یک استثنا ایجاد می‌کند. این در مجموعه try نیست، بنابراین function2 خاتمه می‌یابد، فریم پشته آن از پشته فراخوانی تابع حذف می‌شود و کنترل به دستوری در function1 که function2 را فراخوانی کرده است، باز می‌گردد.\n",
    "    <br>\n",
    "    <span style=\"color:#8e24aa;\">• </span>\n",
    "    در function1، دستوری که function2 را فراخوانی کرده است در مجموعه try نیست، بنابراین function1 خاتمه می‌یابد، فریم پشته آن از پشته فراخوانی تابع حذف می‌شود و کنترل به دستوری که function1 را فراخوانی کرده است — قطعه کد [۳] در جلسه IPython — باز می‌گردد.\n",
    "    <br>\n",
    "    <span style=\"color:#8e24aa;\">• </span>\n",
    "    فراخوانی در قطعه کد [۳] در مجموعه try نیست، بنابراین این فراخوانی تابع خاتمه می‌یابد. از آنجا که استثنا گرفته نشده است (که به عنوان استثنای گرفته نشده شناخته می‌شود)، (IPython) traceback را نمایش می‌دهد، سپس منتظر ورودی بعدی شما می‌ماند. اگر این اتفاق در یک اسکریپت معمولی رخ دهد، اسکریپت خاتمه می‌یابد.\n",
    "    <br>\n",
    "</div>"
   ]
  },
  {
   "cell_type": "markdown",
   "id": "9a497c14-f1d6-448e-8df7-1dbb75bdfba1",
   "metadata": {},
   "source": [
    "<h2 style=\"direction:rtl;font-size: px;font-family: 'XB Zar';color:#0288d1;\">\n",
    "    نکته برای خواندن Traceback\n",
    "</h2> <a id=''></a>"
   ]
  },
  {
   "cell_type": "markdown",
   "id": "62ec8de3-e70f-42a0-a73e-214c4c6c7645",
   "metadata": {},
   "source": [
    "<div style=\"direction:rtl; font-size: 17px; font-family: 'XB Zar'; line-height: 200%\">\n",
    "    شما اغلب توابع و متدهایی را فراخوانی می‌کنید که متعلق به کتابخانه‌هایی هستند که شما ننوشته‌اید. گاهی اوقات این توابع و متدها استثنا ایجاد می‌کنند. هنگام خواندن traceback، از انتهای traceback شروع کنید و ابتدا پیام خطا را بخوانید. سپس، به سمت بالا در traceback حرکت کنید و به دنبال اولین خطی باشید که نشان‌دهنده کدی است که شما در برنامه خود نوشته‌اید. معمولاً این مکان در کد شما است که منجر به استثنا شده است.\n",
    "</div>"
   ]
  },
  {
   "cell_type": "markdown",
   "id": "29a3f722-c1f0-43eb-aed7-a845e464269a",
   "metadata": {},
   "source": [
    "<h2 style=\"direction:rtl;font-size: px;font-family: 'XB Zar';color:#0288d1;\">\n",
    "    استثناها در مجموعه‌های finally\n",
    "</h2> <a id=''></a>"
   ]
  },
  {
   "cell_type": "markdown",
   "id": "5af22b52-1d5a-406d-ae08-659bbb9c726e",
   "metadata": {},
   "source": [
    "<div style=\"direction:rtl; font-size: 17px; font-family: 'XB Zar'; line-height: 200%\">\n",
    "    ایجاد یک استثنا در مجموعه finally می‌تواند منجر به مشکلات ظریف و سخت‌ شود. اگر یک استثنا رخ دهد و تا زمان اجرای مجموعه finally پردازش نشده باشد، باز شدن پشته رخ می‌دهد. اگر مجموعه finally یک استثنای جدید ایجاد کند که مجموعه آن را نگیرد، استثنای اول از دست می‌رود و استثنای جدید به دستور try بعدی منتقل می‌شود. به همین دلیل، یک مجموعه finally باید همیشه هر کدی که ممکن است استثنا ایجاد کند را در یک دستور try قرار دهد، تا استثناها در آن مجموعه پردازش شوند.\n",
    "</div>"
   ]
  },
  {
   "cell_type": "markdown",
   "id": "faec9d69-bbac-4de0-92e7-4c90b827ac2a",
   "metadata": {},
   "source": [
    "<h1 style=\"direction:rtl;font-size: 35px;font-family: 'XB Zar';color:#8e24aa;\">9.12 <span style=\"color:#F50057;\">مقدمه‌ای بر علم داده: کار با فایل‌های \n",
    "CSV\n",
    "</span></h1> <a id='20'></a>"
   ]
  },
  {
   "cell_type": "markdown",
   "id": "0b63473d-4e27-4859-b8da-a6865cd06f7b",
   "metadata": {},
   "source": [
    "<div style=\"direction:rtl; font-size: 17px; font-family: 'XB Zar'; line-height: 200%\">\n",
    "    در سراسر این کتاب، شما با بسیاری از مجموعه‌داده‌ها کار خواهید کرد تا مفاهیم علم داده را ارائه دهیم. فرمت فایل CSV (مقادیر جدا شده با کاما) یک فرمت فایل بسیار محبوب است. در این بخش، پردازش فایل‌های CSV را با استفاده از یک ماژول کتابخانه استاندارد پایتون و pandas نشان خواهیم داد.\n",
    "</div>"
   ]
  },
  {
   "cell_type": "markdown",
   "id": "b4dcf995-2117-44b3-aa73-9b74efe1369e",
   "metadata": {},
   "source": [
    "<h2 style=\"direction:rtl;font-size: 25px;font-family: 'XB Zar';color:#8e24aa;\">9.12.1 <span style=\"color:#8e24aa;\">ماژول\n",
    "CSV\n",
    "در کتابخانه استاندارد پایتون</span></h2> <a id='21'></a>"
   ]
  },
  {
   "cell_type": "markdown",
   "id": "dca2aa22-9e19-42be-8677-ddf5e2204073",
   "metadata": {},
   "source": [
    "<div style=\"direction:rtl; font-size: 17px; font-family: 'XB Zar'; line-height: 200%\">\n",
    "    ماژول csv\n",
    "  توابعی برای کار با فایل‌های CSV ارائه می‌دهد. بسیاری از کتابخانه‌های دیگر پایتون نیز از CSV پشتیبانی می‌کنند.\n",
    "</div>"
   ]
  },
  {
   "cell_type": "markdown",
   "id": "52640434-3c45-4ef6-88c0-64b4e9788a93",
   "metadata": {},
   "source": [
    "<h2 style=\"direction:rtl;font-size: px;font-family: 'XB Zar';color:#0288d1;\">\n",
    "    نوشتن در یک فایل CSV\n",
    "</h2> <a id=''></a>"
   ]
  },
  {
   "cell_type": "markdown",
   "id": "c4159806-0994-457d-a9da-efaf0f9a322b",
   "metadata": {},
   "source": [
    "<div style=\"direction:rtl; font-size: 17px; font-family: 'XB Zar'; line-height: 200%\">\n",
    "    بیایید یک فایل accounts.csv با فرمت CSV ایجاد کنیم. مستندات ماژول csv توصیه می‌کند که فایل‌های CSV را با آرگومان کلیدی اضافی \n",
    "    ' '=newline\n",
    "    باز کنید تا اطمینان حاصل شود که خطوط جدید به درستی پردازش می‌شوند:\n",
    "</div>"
   ]
  },
  {
   "cell_type": "code",
   "execution_count": null,
   "id": "05b0acb5-be0a-438b-bcfe-15d32369aaef",
   "metadata": {},
   "outputs": [],
   "source": [
    "import csv"
   ]
  },
  {
   "cell_type": "code",
   "execution_count": null,
   "id": "3965c547-c96f-4b41-a59b-e200ecd8a33a",
   "metadata": {},
   "outputs": [],
   "source": [
    "with open('accounts.csv', mode='w', newline='') as accounts:\n",
    "    writer = csv.writer(accounts)\n",
    "    writer.writerow([100, 'Jones', 24.98])\n",
    "    writer.writerow([200, 'Doe', 345.67])\n",
    "    writer.writerow([300, 'White', 0.00])\n",
    "    writer.writerow([400, 'Stone', -42.16])\n",
    "    writer.writerow([500, 'Rich', 224.62])\n",
    "    "
   ]
  },
  {
   "cell_type": "markdown",
   "id": "cc0980b6-f99a-4230-bd7b-715ddca1b029",
   "metadata": {},
   "source": [
    "<div style=\"direction:rtl; font-size: 17px; font-family: 'XB Zar'; line-height: 200%\">\n",
    "    پسوند فایل csv. نشان‌دهنده یک فایل با فرمت CSV است. تابع writer ماژول csv یک شیء برمی‌گرداند که داده‌های CSV را در فایل مشخص شده می‌نویسد. هر فراخوانی به متد writerow شیء writer یک iterable دریافت می‌کند تا در فایل ذخیره شود. در اینجا ما از لیست‌ها استفاده می‌کنیم. به طور پیش‌فرض، writerow مقادیر را با کاما جدا می‌کند، اما می‌توانید جداکننده‌های سفارشی را مشخص کنید.\n",
    "  پس از قطعه کد قبلی، فایل accounts.csv حاوی موارد زیر است:\n",
    "</div>"
   ]
  },
  {
   "cell_type": "markdown",
   "id": "806e249e-5946-42e8-bc23-f89ff87716ba",
   "metadata": {},
   "source": [
    "```Python\n",
    "100,Jones,24.98\n",
    "200,Doe,345.67\n",
    "300,White,0.00\n",
    "400,Stone,-42.16\n",
    "500,Rich,224.62\n",
    "```"
   ]
  },
  {
   "cell_type": "markdown",
   "id": "a4b91658-77dd-4218-bf19-aea2ebb88cfb",
   "metadata": {},
   "source": [
    "<div style=\"direction:rtl; font-size: 17px; font-family: 'XB Zar'; line-height: 200%\">\n",
    "    فایل‌های CSV معمولاً فاصله‌هایی بعد از کاما ندارند، اما برخی افراد از آن‌ها برای بهبود خوانایی استفاده می‌کنند. فراخوانی‌های writerow بالا را می‌توان با یک فراخوانی writerows جایگزین کرد که یک لیست جدا شده با کاما از iterable‌ها که نشان‌دهنده رکوردها هستند را خروجی می‌دهد.\n",
    "</div>"
   ]
  },
  {
   "cell_type": "markdown",
   "id": "c5b74577-64ca-4538-976c-85d45221ebf6",
   "metadata": {},
   "source": [
    "<div style=\"direction:rtl; font-size: 17px; font-family: 'XB Zar'; line-height: 200%\">\n",
    "    اگر داده‌ای بنویسید که حاوی کاما در یک رشته مشخص باشد، writerow آن رشته را درون کوتیشن‌های دوتایی قرار می‌دهد. به عنوان مثال، لیست پایتون زیر را در نظر بگیرید:\n",
    "</div>"
   ]
  },
  {
   "cell_type": "markdown",
   "id": "1730e375-3961-4802-97fa-3b1cdac2c00f",
   "metadata": {},
   "source": [
    "```Python\n",
    "[100, 'Jones, Sue', 24.98]\n",
    "```"
   ]
  },
  {
   "cell_type": "markdown",
   "id": "3ddfd861-36ce-42e3-93dc-5adfece418b2",
   "metadata": {},
   "source": [
    "<div style=\"direction:rtl; font-size: 17px; font-family: 'XB Zar'; line-height: 200%\">\n",
    "    رشته 'Jones, Sue' حاوی یک کاما است که نام خانوادگی و نام را جدا می‌کند. در این مورد، writerow رکورد را به صورت زیر خروجی می‌دهد:\n",
    "</div>"
   ]
  },
  {
   "cell_type": "markdown",
   "id": "8e30d07a-2038-4931-bccc-b18a16f62757",
   "metadata": {},
   "source": [
    "```Python\n",
    "100, \"Jones, Sue\", 24.98\n",
    "```"
   ]
  },
  {
   "cell_type": "markdown",
   "id": "f7b27192-0fe1-4bd1-8d6e-5f92bc6cd9fa",
   "metadata": {},
   "source": [
    "<div style=\"direction:rtl; font-size: 17px; font-family: 'XB Zar'; line-height: 200%\">\n",
    "    کوتیشن\n",
    "    های دور \"Jones, Sue\" نشان‌دهنده این است که این یک مقدار واحد است. برنامه‌هایی که این را از یک فایل CSV می‌خوانند، رکورد را به سه بخش تقسیم می‌کنند — ۱۰۰، 'Jones, Sue' و ۲۴.۹۸.\n",
    "</div>"
   ]
  },
  {
   "cell_type": "markdown",
   "id": "6b77509c-642c-4eff-94f3-10994ff20fdd",
   "metadata": {},
   "source": [
    "<h2 style=\"direction:rtl;font-size: px;font-family: 'XB Zar';color:#0288d1;\">\n",
    "    خواندن از یک فایل CSV\n",
    "</h2> <a id=''></a>"
   ]
  },
  {
   "cell_type": "markdown",
   "id": "44d7cef1-7bc2-4592-a2d1-0792d7d2065a",
   "metadata": {},
   "source": [
    "<div style=\"direction:rtl; font-size: 17px; font-family: 'XB Zar'; line-height: 200%\">\n",
    "    حال بیایید داده‌های CSV را از فایل بخوانیم. قطعه کد زیر رکوردها را از فایل accounts.csv می‌خواند و محتوای هر رکورد را نمایش می‌دهد، که همان خروجی قبلی را تولید می‌کند:\n",
    "</div>"
   ]
  },
  {
   "cell_type": "code",
   "execution_count": null,
   "id": "bbc3a2cf-0cc6-4123-ab95-2889868c42c7",
   "metadata": {},
   "outputs": [],
   "source": [
    "with open('accounts.csv', 'r', newline='') as accounts:\n",
    "    print(f'{\"Account\":<10}{\"Name\":<10}{\"Balance\":>10}')\n",
    "    reader = csv.reader(accounts)\n",
    "    for record in reader:  \n",
    "        account, name, balance = record\n",
    "        print(f'{account:<10}{name:<10}{balance:>10}')\n",
    "        "
   ]
  },
  {
   "cell_type": "markdown",
   "id": "ce0f5cdf-0b5e-4b8c-a6d0-647994740570",
   "metadata": {},
   "source": [
    "<div style=\"direction:rtl; font-size: 17px; font-family: 'XB Zar'; line-height: 200%\">\n",
    "    تابع reader ماژول csv یک شیء برمی‌گرداند که داده‌های با فرمت CSV را از فایل مشخص شده می‌خواند. همان‌طور که می‌توانید از طریق یک شیء فایل تکرار کنید، می‌توانید از طریق شیء reader نیز یک رکورد از مقادیر جدا شده با کاما در هر بار تکرار کنید. دستور for قبل‌تر هر رکورد را به عنوان یک لیست از مقادیر برمی‌گرداند، که ما آن‌ها را در متغیرهای account، name و balance باز می‌کنیم و سپس نمایش می‌دهیم.\n",
    "</div>"
   ]
  },
  {
   "cell_type": "markdown",
   "id": "3a5e2aa7-ff97-43bb-af1c-036475cabccd",
   "metadata": {},
   "source": [
    "<h2 style=\"direction:rtl;font-size: px;font-family: 'XB Zar';color:#0288d1;\">\n",
    "    هشدار: کاما در فیلدهای داده CSV\n",
    "</h2> <a id=''></a>"
   ]
  },
  {
   "cell_type": "markdown",
   "id": "5bf99941-343d-480c-a25d-57ab02927c9b",
   "metadata": {},
   "source": [
    "<div style=\"direction:rtl; font-size: 17px; font-family: 'XB Zar'; line-height: 200%\">\n",
    "    هنگام کار با رشته‌هایی که حاوی کاماهای توکار هستند، مانند نام 'Jones, Sue'، مراقب باشید. اگر به اشتباه این را به عنوان دو رشته 'Jones' و 'Sue' وارد کنید، writerow به طور طبیعی یک رکورد CSV با چهار فیلد ایجاد می‌کند، نه سه. برنامه‌هایی که فایل‌های CSV را می‌خوانند، معمولاً انتظار دارند که هر رکورد تعداد فیلدهای یکسانی داشته باشد؛ در غیر این صورت، مشکلاتی رخ می‌دهد. به عنوان مثال، دو لیست زیر را در نظر بگیرید:\n",
    "</div>"
   ]
  },
  {
   "cell_type": "markdown",
   "id": "3bacfe88-55ac-42d8-aac1-ed94c838333f",
   "metadata": {},
   "source": [
    "```Python\n",
    "[100, 'Jones', 'Sue', 24.98]\n",
    "[200, 'Doe', 345.67]\n",
    "```"
   ]
  },
  {
   "cell_type": "markdown",
   "id": "4a9cc296-dd11-4617-95ac-059b95b52ea5",
   "metadata": {},
   "source": [
    "<div style=\"direction:rtl; font-size: 17px; font-family: 'XB Zar'; line-height: 200%\">\n",
    "    لیست اول حاوی چهار مقدار و لیست دوم فقط سه مقدار دارد. اگر این دو رکورد در فایل CSV نوشته شوند، سپس در برنامه‌ای با استفاده از قطعه کد قبلی خوانده شوند، دستور زیر هنگام تلاش برای باز کردن رکورد چهار فیلدی در فقط سه متغیر شکست می‌خورد:\n",
    "</div>"
   ]
  },
  {
   "cell_type": "markdown",
   "id": "afc635da-48c9-4792-a192-2cfb0b2232ee",
   "metadata": {},
   "source": [
    "```Python\n",
    "account, name, balance = record\n",
    "```"
   ]
  },
  {
   "cell_type": "markdown",
   "id": "adb6ee63-6b0b-402d-9007-79f6974846cb",
   "metadata": {},
   "source": [
    "<h2 style=\"direction:rtl;font-size: px;font-family: 'XB Zar';color:#0288d1;\">\n",
    "    هشدار: کاماهای گم‌شده و اضافی در فایل‌های CSV\n",
    "</h2> <a id=''></a>"
   ]
  },
  {
   "cell_type": "markdown",
   "id": "73dfacbb-4e89-460d-9fab-589cd38690e4",
   "metadata": {},
   "source": [
    "<div style=\"direction:rtl; font-size: 17px; font-family: 'XB Zar'; line-height: 200%\">\n",
    "    هنگام آماده‌سازی و پردازش فایل‌های CSV مراقب باشید. به عنوان مثال، فرض کنید فایل شما از رکوردهایی تشکیل شده است که هر کدام حاوی چهار مقدار عددی صحیح جدا شده با کاما هستند، مانند:\n",
    "</div>"
   ]
  },
  {
   "cell_type": "markdown",
   "id": "ae959f4e-e1e4-466f-b46d-3fc888f289db",
   "metadata": {},
   "source": [
    "```Python\n",
    "100,85,77,9\n",
    "```"
   ]
  },
  {
   "cell_type": "markdown",
   "id": "a3d667a4-dbe5-4bb4-8ef0-691e1d19ff1a",
   "metadata": {},
   "source": [
    "<div style=\"direction:rtl; font-size: 17px; font-family: 'XB Zar'; line-height: 200%\">اگر به اشتباه یکی از این کاماها را حذف کنید، مانند:\n",
    "</div>"
   ]
  },
  {
   "cell_type": "markdown",
   "id": "a42d300f-d02d-48ed-ae47-df1f886d8d96",
   "metadata": {},
   "source": [
    "```Python\n",
    "100,8577,9\n",
    "```"
   ]
  },
  {
   "cell_type": "markdown",
   "id": "450fdf64-b5e8-4bb6-bd4b-9e6ed457e49d",
   "metadata": {},
   "source": [
    "<div style=\"direction:rtl; font-size: 17px; font-family: 'XB Zar'; line-height: 200%\">سپس رکورد فقط سه فیلد دارد، که یکی از آن‌ها مقدار نامعتبر ۸۵۷۷ است.\n",
    "اگر دو کاما مجاور در جایی که فقط یک کاما انتظار می‌رود قرار دهید، مانند:\n",
    "</div>"
   ]
  },
  {
   "cell_type": "markdown",
   "id": "f2e361b4-7973-4ac0-9a9f-7d97bdf38d25",
   "metadata": {},
   "source": [
    "```Python\n",
    "100,85,,77,9\n",
    "```"
   ]
  },
  {
   "cell_type": "markdown",
   "id": "45127d36-ac2a-4b65-a37f-445b50b55658",
   "metadata": {},
   "source": [
    "<div style=\"direction:rtl; font-size: 17px; font-family: 'XB Zar'; line-height: 200%\">سپس پنج فیلد به جای چهار فیلد دارید و یکی از فیلدها به اشتباه خالی خواهد بود.\n",
    "هر یک از این خطاهای مربوط به کاما می‌تواند برنامه‌هایی را که سعی در پردازش رکورد دارند، گیج کند.\n",
    "</div>"
   ]
  },
  {
   "cell_type": "markdown",
   "id": "281b4aed-ddfc-4f21-9080-2fd737f68fdc",
   "metadata": {},
   "source": [
    "<h2 style=\"direction:rtl;font-size: 25px;font-family: 'XB Zar';color:#8e24aa;\">9.12.2 <span style=\"color:#8e24aa;\">خواندن فایل‌های \n",
    "CSV\n",
    " و وارد کردن داده‌های آن‌ها به\n",
    "Pandas \n",
    "DataFrames\n",
    "</span></h2> <a id='22'></a>"
   ]
  },
  {
   "cell_type": "markdown",
   "id": "12658cbb-f0bb-4ca4-91a2-6f88f3d52c9f",
   "metadata": {},
   "source": [
    "<div style=\"direction:rtl; font-size: 17px; font-family: 'XB Zar'; line-height: 200%\">در بخش‌های مقدمه‌ای بر علم داده در دو فصل قبل، بسیاری از مبانی pandas را معرفی کردیم. در اینجا، توانایی pandas برای بارگیری فایل‌ها با فرمت CSV و سپس انجام برخی کارهای تحلیل داده پایه را نشان می‌دهیم.\n",
    "</div>"
   ]
  },
  {
   "cell_type": "markdown",
   "id": "4c437be4-244a-4174-9586-8a023f73f254",
   "metadata": {},
   "source": [
    "<h2 style=\"direction:rtl;font-size: px;font-family: 'XB Zar';color:#0288d1;\">\n",
    "    مجموعه‌داده‌ها\n",
    "</h2> <a id=''></a>"
   ]
  },
  {
   "cell_type": "markdown",
   "id": "54539740-ec49-4225-b3c5-ea883cd678f6",
   "metadata": {},
   "source": [
    "<div style=\"direction:rtl; font-size: 17px; font-family: 'XB Zar'; line-height: 200%\">در مطالعات موردی علم داده، از مجموعه‌داده‌های رایگان و متن‌باز مختلفی برای نشان دادن مفاهیم یادگیری ماشین و پردازش زبان طبیعی استفاده خواهیم کرد. انواع زیادی از مجموعه‌داده‌های رایگان به صورت آنلاین موجود است. مخزن محبوب Rdatasets لینک‌هایی به بیش از ۱۱۰۰ مجموعه‌داده رایگان در فرمت CSV ارائه می‌دهد. این مجموعه‌داده‌ها در اصل با زبان برنامه‌نویسی R برای افرادی که در حال یادگیری و توسعه نرم‌افزارهای آماری هستند، ارائه شده‌اند، اگرچه مختص R نیستند. آن‌ها اکنون در GitHub در دسترس هستند:\n",
    "    <a href=\"https://vincentare1bundock.github.io/Rdatasets/datasets.html\">(لینک)</a>\n",
    "</div>"
   ]
  },
  {
   "cell_type": "markdown",
   "id": "81f392dd-d320-460a-8883-c148a65fac29",
   "metadata": {},
   "source": [
    "<div style=\"direction:rtl; font-size: 17px; font-family: 'XB Zar'; line-height: 200%\">این مخزن آنقدر محبوب است که یک ماژول pydataset به طور خاص برای دسترسی به Rdatasets وجود دارد. برای دستورالعمل‌های نصب pydataset و دسترسی به مجموعه‌داده‌ها با آن، به لینک زیر مراجعه کنید:\n",
    "    <a href=\"https://github.com/iamaziz/PyDataset\">(لینک)</a>\n",
    "    منبع بزرگ دیگر مجموعه‌داده‌ها:\n",
    "    <a href=\"https://github.com/awesomedata/awesome-public-datasets\">(لینک)</a>\n",
    "</div>"
   ]
  },
  {
   "cell_type": "markdown",
   "id": "548d02aa-ba77-4351-b9a2-0507ad6295a7",
   "metadata": {},
   "source": [
    "<div style=\"direction:rtl; font-size: 17px; font-family: 'XB Zar'; line-height: 200%\">یک مجموعه‌داده معمول یادگیری ماشین برای مبتدیان، مجموعه‌داده فاجعه تایتانیک است که تمام مسافران و اینکه آیا آن‌ها زنده ماندند یا خیر را فهرست می‌کند، زمانی که کشتی تایتانیک در ۱۴-۱۵ آوریل ۱۹۱۲ به یک کوه یخ برخورد کرد و غرق شد. در اینجا از آن استفاده می‌کنیم تا نشان دهیم چگونه یک مجموعه‌داده را بارگیری کنیم، برخی از داده‌های آن را مشاهده کنیم و برخی آمار توصیفی را نمایش دهیم. در فصل‌های بعدی کتاب، عمیق‌تر به مجموعه‌داده‌های محبوب مختلف خواهیم پرداخت.\n",
    "</div>"
   ]
  },
  {
   "cell_type": "markdown",
   "id": "ee29aa73-8a9c-44bd-bb07-fd012b1acae3",
   "metadata": {},
   "source": [
    "<h2 style=\"direction:rtl;font-size: px;font-family: 'XB Zar';color:#0288d1;\">\n",
    "    کار با فایل‌های CSV ذخیره شده محلی\n",
    "</h2> <a id=''></a>"
   ]
  },
  {
   "cell_type": "markdown",
   "id": "dfc7f1e1-eecf-487f-9436-55a2c5ee11fa",
   "metadata": {},
   "source": [
    "<div style=\"direction:rtl; font-size: 17px; font-family: 'XB Zar'; line-height: 200%\">می‌توانید یک مجموعه‌داده CSV را با تابع read_csv \n",
    "    (pandas)\n",
    "    در یک DataFrame بارگیری کنید. موارد زیر فایل (CSV) accounts.csv را که قبلاً در این فصل ایجاد کردید، بارگیری و نمایش می‌دهد:\n",
    "</div>"
   ]
  },
  {
   "cell_type": "code",
   "execution_count": null,
   "id": "1c31d74a-8186-4294-989f-83e9186d32d5",
   "metadata": {},
   "outputs": [],
   "source": [
    "import pandas as pd"
   ]
  },
  {
   "cell_type": "code",
   "execution_count": null,
   "id": "13463df5-1f2c-4b40-92ff-c46eb5adad0a",
   "metadata": {},
   "outputs": [],
   "source": [
    "df = pd.read_csv('accounts.csv', \n",
    "                 names=['account', 'name', 'balance'])"
   ]
  },
  {
   "cell_type": "code",
   "execution_count": null,
   "id": "ae76cef7-1525-489c-8290-f8acf405b89a",
   "metadata": {},
   "outputs": [],
   "source": [
    "df"
   ]
  },
  {
   "cell_type": "markdown",
   "id": "a868e64e-e4ff-4fd0-a8b7-12431d61841c",
   "metadata": {},
   "source": [
    "<div style=\"direction:rtl; font-size: 17px; font-family: 'XB Zar'; line-height: 200%\">\n",
    "    آرگومان names نام‌های ستون‌های DataFrame را مشخص می‌کند. بدون این آرگومان، read_csv فرض می‌کند که اولین ردیف فایل CSV یک لیست جدا شده با کاما از نام ستون‌ها است.\n",
    "برای ذخیره یک DataFrame در یک فایل با فرمت CSV، از متد to_csv (DataFrame) استفاده کنید:\n",
    "</div>"
   ]
  },
  {
   "cell_type": "code",
   "execution_count": null,
   "id": "bef60c65-b55a-444e-9e51-0ee11be8069b",
   "metadata": {},
   "outputs": [],
   "source": [
    "df.to_csv('accounts_from_dataframe.csv', index=False)"
   ]
  },
  {
   "cell_type": "markdown",
   "id": "8815081a-7330-4b13-a66d-eee28b472f2c",
   "metadata": {},
   "source": [
    "<div style=\"direction:rtl; font-size: 17px; font-family: 'XB Zar'; line-height: 200%\">آرگومان کلیدی index=False نشان می‌دهد که نام‌های ردیف‌ها (۰-۴ در سمت چپ خروجی DataFrame در قطعه کد [۳]) در فایل نوشته نمی‌شوند. فایل حاصل حاوی نام ستون‌ها به عنوان اولین ردیف است:\n",
    "</div>"
   ]
  },
  {
   "cell_type": "markdown",
   "id": "14ba1891-055b-4f04-ae7a-78285339d587",
   "metadata": {},
   "source": [
    "```Python\n",
    "account, name, balance\n",
    "100, Jones, 24.98\n",
    "200, Doe, 345.67\n",
    "300, White, 0.0\n",
    "400, Stone, -42.16\n",
    "500, Rich, 224.62\n",
    "```"
   ]
  },
  {
   "cell_type": "markdown",
   "id": "af40c641-f150-48c6-8acf-4aacab0a43a7",
   "metadata": {},
   "source": [
    "<h2 style=\"direction:rtl;font-size: 25px;font-family: 'XB Zar';color:#8e24aa;\">9.12.3 <span style=\"color:#8e24aa;\">خواندن دیتاست\n",
    " Titanic</span></h2> <a id='23'></a>"
   ]
  },
  {
   "cell_type": "markdown",
   "id": "ec2b5948-3ced-4464-9ac8-0dd86832cf82",
   "metadata": {},
   "source": [
    "<div style=\"direction:rtl; font-size: 17px; font-family: 'XB Zar'; line-height: 200%\">\n",
    "    مجموعه‌داده فاجعه تایتانیک یکی از محبوب‌ترین مجموعه‌داده‌های یادگیری ماشین است. این مجموعه‌داده در بسیاری از فرمت‌ها، از جمله CSV، موجود است.\n",
    "</div>"
   ]
  },
  {
   "cell_type": "markdown",
   "id": "f877b4e6-6aef-46ca-99c0-7c94d80b1a6a",
   "metadata": {},
   "source": [
    "<h2 style=\"direction:rtl;font-size: px;font-family: 'XB Zar';color:#0288d1;\">\n",
    "    بارگیری مجموعه‌داده تایتانیک از طریق URL\n",
    "</h2> <a id=''></a>"
   ]
  },
  {
   "cell_type": "markdown",
   "id": "30c91feb-04e1-4c18-9109-e5c096bcb60b",
   "metadata": {},
   "source": [
    "<div style=\"direction:rtl; font-size: 17px; font-family: 'XB Zar'; line-height: 200%\">اگر URLای دارید که نشان‌دهنده یک مجموعه‌داده CSV است، می‌توانید آن را با read_csv در یک DataFrame بارگیری کنید. بیایید مجموعه‌داده فاجعه تایتانیک را مستقیماً از GitHub بارگیری کنیم:\n",
    "</div>"
   ]
  },
  {
   "cell_type": "code",
   "execution_count": null,
   "id": "824120fe-8f9b-4ead-8c77-5ace28148824",
   "metadata": {},
   "outputs": [],
   "source": [
    "import pandas as pd"
   ]
  },
  {
   "cell_type": "code",
   "execution_count": null,
   "id": "82d0f378-685a-4323-abc5-cdf2729794f9",
   "metadata": {},
   "outputs": [],
   "source": [
    "titanic = pd.read_csv('https://vincentarelbundock.github.io/' +\n",
    "    'Rdatasets/csv/carData/TitanicSurvival.csv')"
   ]
  },
  {
   "cell_type": "markdown",
   "id": "893e8de9-23b3-4616-b032-c9394c356d4b",
   "metadata": {},
   "source": [
    "<h2 style=\"direction:rtl;font-size: px;font-family: 'XB Zar';color:#0288d1;\">\n",
    "    مشاهده برخی از ردیف‌ها در مجموعه‌داده تایتانیک\n",
    "</h2> <a id=''></a>"
   ]
  },
  {
   "cell_type": "markdown",
   "id": "481265ee-dc1f-4986-b8cb-9cdf219510ae",
   "metadata": {},
   "source": [
    "<div style=\"direction:rtl; font-size: 17px; font-family: 'XB Zar'; line-height: 200%\">\n",
    "    این مجموعه‌داده حاوی بیش از ۱۳۰۰ ردیف است که هر کدام نشان‌دهنده یک مسافر است. بر اساس ویکی‌پدیا، حدود ۱۳۱۷ مسافر و ۸۱۵ نفر از آن‌ها جان باختند.\n",
    "  برای مجموعه‌داده‌های بزرگ، نمایش DataFrame فقط ۳۰ ردیف اول و سپس \"...\" و ۳۰ ردیف آخر را نشان می‌دهد. برای صرفه‌جویی در فضا، بیایید پنج ردیف اول و آخر را با متدهای head و tail DataFrame مشاهده کنیم. هر دو متد به طور پیش‌فرض پنج ردیف را برمی‌گردانند، اما می‌توانید تعداد ردیف‌ها را به عنوان آرگومان مشخص کنید:\n",
    "    <a href=\"https://en.wikipedia.org/wiki/Passengers_of_the_RWS_Titanic\">(لینک)</a>\n",
    "</div>"
   ]
  },
  {
   "cell_type": "code",
   "execution_count": null,
   "id": "757344e4-4da6-4d28-937e-0077a2365eaa",
   "metadata": {},
   "outputs": [],
   "source": [
    "pd.set_option('precision', 2)  # format for floating-point values"
   ]
  },
  {
   "cell_type": "code",
   "execution_count": null,
   "id": "89c007f2-8969-4e9d-9f21-c7003262e5c6",
   "metadata": {},
   "outputs": [],
   "source": [
    "titanic.head()"
   ]
  },
  {
   "cell_type": "code",
   "execution_count": null,
   "id": "79b70ee4-a33e-4c22-86aa-3aa557e1bed0",
   "metadata": {},
   "outputs": [],
   "source": [
    "titanic.tail()"
   ]
  },
  {
   "cell_type": "markdown",
   "id": "8a1935b4-a14b-433b-a236-c8c998976ab3",
   "metadata": {},
   "source": [
    "<div style=\"direction:rtl; font-size: 17px; font-family: 'XB Zar'; line-height: 200%\">\n",
    "    توجه داشته باشید که pandas عرض هر ستون را بر اساس گسترده‌ترین مقدار در ستون یا بر اساس نام ستون، هر کدام که بزرگ‌تر باشد، تنظیم می‌کند. همچنین، مقدار در ستون age ردیف ۱۳۰۵ NaN (نه یک عدد) است که نشان‌دهنده یک مقدار گم‌شده در مجموعه‌داده است.\n",
    "</div>"
   ]
  },
  {
   "cell_type": "markdown",
   "id": "55fa16e5-0ee8-4553-bf70-c91524a410a9",
   "metadata": {},
   "source": [
    "<h2 style=\"direction:rtl;font-size: px;font-family: 'XB Zar';color:#0288d1;\">\n",
    "    سفارشی‌سازی نام ستون‌ها\n",
    "</h2> <a id=''></a>"
   ]
  },
  {
   "cell_type": "markdown",
   "id": "728c5e02-f208-4436-9248-ef942adb7396",
   "metadata": {},
   "source": [
    "<div style=\"direction:rtl; font-size: 17px; font-family: 'XB Zar'; line-height: 200%\">\n",
    "    اولین ستون در این مجموعه‌داده یک نام عجیب دارد ('Unnamed: 0'). می‌توانیم آن را با تنظیم نام ستون‌ها تمیز کنیم. بیایید 'Unnamed: 0' را به 'name' و 'passengerClass' را به 'class' تغییر دهیم:\n",
    "</div>"
   ]
  },
  {
   "cell_type": "code",
   "execution_count": null,
   "id": "295c879b-98b4-41c5-8a21-1ef91627880b",
   "metadata": {},
   "outputs": [],
   "source": [
    "titanic.columns = ['name', 'survived', 'sex', 'age', 'class']"
   ]
  },
  {
   "cell_type": "code",
   "execution_count": null,
   "id": "6014d003-bc03-4637-8536-bbaa405722a1",
   "metadata": {},
   "outputs": [],
   "source": [
    "titanic.head()"
   ]
  },
  {
   "cell_type": "markdown",
   "id": "8d698233-2081-44a0-8cdc-d1439afb490e",
   "metadata": {},
   "source": [
    "<h2 style=\"direction:rtl;font-size: 25px;font-family: 'XB Zar';color:#8e24aa;\">9.12.4 <span style=\"color:#8e24aa;\">تجزیه و تحلیل داده‌ها با\n",
    "    دیتاست\n",
    " Titanic\n",
    "</span></h2> <a id='24'></a>"
   ]
  },
  {
   "cell_type": "markdown",
   "id": "cb0d8e1a-8ff7-4314-bcb7-579e46ae8f22",
   "metadata": {},
   "source": [
    "<div style=\"direction:rtl; font-size: 17px; font-family: 'XB Zar'; line-height: 200%\">\n",
    "    حال می‌توانید از pandas برای انجام برخی تحلیل‌های ساده استفاده کنید. به عنوان مثال، بیایید به برخی آمار توصیفی نگاه کنیم. وقتی describe را روی یک DataFrame که حاوی ستون‌های عددی و غیر عددی است فراخوانی می‌کنید، describe این آمار را فقط برای ستون‌های عددی محاسبه می‌کند — در این مورد، فقط ستون age:\n",
    "</div>"
   ]
  },
  {
   "cell_type": "code",
   "execution_count": null,
   "id": "4a80afd4-f09b-4c8a-a370-8ee826c85195",
   "metadata": {},
   "outputs": [],
   "source": [
    "titanic.describe()"
   ]
  },
  {
   "cell_type": "markdown",
   "id": "fd8cdfcd-449a-4e19-a65c-01624e03fd62",
   "metadata": {},
   "source": [
    "<div style=\"direction:rtl; font-size: 17px; font-family: 'XB Zar'; line-height: 200%\">\n",
    "    توجه داشته باشید که اختلاف در تعداد (count) (۱۰۴۶) در مقابل تعداد ردیف‌های مجموعه‌داده (۱۳۰۹ — آخرین ردیف هنگام فراخوانی tail شاخص ۱۳۰۸ داشت). فقط ۱۰۴۶ (تعداد بالا) از رکوردها حاوی یک مقدار age بودند. بقیه گم‌شده بودند و به عنوان NaN علامت‌گذاری شده بودند، مانند ردیف ۱۳۰۵. هنگام انجام محاسبات، Pandas به طور پیش‌فرض داده‌های گم‌شده (NaN) را نادیده می‌گیرد. برای ۱۰۴۶ نفری که سن معتبر داشتند، میانگین سن (mean) ۲۹.۸۸ سال بود. جوان‌ترین مسافر (min) کمی بیش از دو ماه سن داشت (۰.۱۷ * ۱۲ برابر است با ۲.۰۴)، و مسن‌ترین (max) ۸۰ سال داشت. میانه سن (median) ۲۸ سال بود (که با چارک ۵۰٪ نشان داده شده است). چارک ۲۵٪ میانه سن در نیمه اول مسافران (مرتب‌شده بر اساس سن) است، و چارک ۷۵٪ میانه سن در نیمه دوم مسافران است.\n",
    "</div>"
   ]
  },
  {
   "cell_type": "markdown",
   "id": "bfb45679-560b-4b6d-bd0e-1798586919b8",
   "metadata": {},
   "source": [
    "<div style=\"direction:rtl; font-size: 17px; font-family: 'XB Zar'; line-height: 200%\">بیایید بگوییم می‌خواهید برخی آمار در مورد افرادی که زنده ماندند را تعیین کنید. می‌توانیم ستون survived را با 'yes' مقایسه کنیم تا یک Series جدید حاوی مقادیر True/False به دست آوریم، سپس از describe برای خلاصه‌سازی نتایج استفاده کنیم:\n",
    "</div>"
   ]
  },
  {
   "cell_type": "code",
   "execution_count": null,
   "id": "23dbfddf-06ab-4132-82d3-f6472e1090d5",
   "metadata": {},
   "outputs": [],
   "source": [
    "(titanic.survived == 'yes').describe()"
   ]
  },
  {
   "cell_type": "markdown",
   "id": "53eaee6d-f1dd-4336-a717-4b87fdf28921",
   "metadata": {},
   "source": [
    "<div style=\"direction:rtl; font-size: 17px; font-family: 'XB Zar'; line-height: 200%\">\n",
    "    برای داده‌های غیر عددی، describe آمار توصیفی متفاوتی را نمایش می‌دهد:\n",
    "</div>"
   ]
  },
  {
   "cell_type": "markdown",
   "id": "7c2f3ea9-7388-4249-845b-7dc1a284543d",
   "metadata": {},
   "source": [
    "<div style=\"direction:rtl; font-size: 17px; font-family: 'XB Zar'; line-height: 200%\">\n",
    "    <span style=\"color:#8e24aa;\">• </span><b>count - </b>\n",
    "    تعداد کل موارد در نتیجه است.\n",
    "    <br>\n",
    "    <span style=\"color:#8e24aa;\">• </span><b>unique - </b>\n",
    "    تعداد مقادیر منحصر به فرد (۲) در نتیجه است — True (زنده ماند) و False (جان باخت).\n",
    "    <br>\n",
    "    <span style=\"color:#8e24aa;\">• </span><b>top - </b>\n",
    "    مقداری است که بیشترین تکرار را در نتیجه دارد.\n",
    "    <br>\n",
    "    <span style=\"color:#8e24aa;\">• </span><b>freq - </b>\n",
    "    تعداد تکرارهای مقدار top است.\n",
    "    <br>\n",
    "\n",
    "</div>"
   ]
  },
  {
   "cell_type": "markdown",
   "id": "aad1539e-54b3-408f-bbb7-0b40769e31f4",
   "metadata": {},
   "source": [
    "<h2 style=\"direction:rtl;font-size: 25px;font-family: 'XB Zar';color:#8e24aa;\">9.12.5 <span style=\"color:#8e24aa;\">هیستوگرام\n",
    " Passenger Age\n",
    "</span></h2> <a id='25'></a>"
   ]
  },
  {
   "cell_type": "markdown",
   "id": "4cbd79b9-398d-4612-90e6-257b711755bc",
   "metadata": {},
   "source": [
    "<div style=\"direction:rtl; font-size: 17px; font-family: 'XB Zar'; line-height: 200%\">\n",
    "    تجسم یک راه خوب برای شناخت داده‌های شما است. Pandas قابلیت‌های تجسم داخلی زیادی دارد که با Matplotlib پیاده‌سازی شده‌اند. برای استفاده از آن‌ها، ابتدا پشتیبانی Matplotlib را در IPython فعال کنید:\n",
    "</div>"
   ]
  },
  {
   "cell_type": "code",
   "execution_count": null,
   "id": "9f4806d2-d913-4d23-abfc-b5c9df1737bc",
   "metadata": {},
   "outputs": [],
   "source": [
    "%matplotlib inline"
   ]
  },
  {
   "cell_type": "markdown",
   "id": "39b053f1-3971-472a-8e6b-04a3c6b68434",
   "metadata": {},
   "source": [
    "<div style=\"direction:rtl; font-size: 17px; font-family: 'XB Zar'; line-height: 200%\">\n",
    "    یک هیستوگرام توزیع داده‌های عددی را در یک محدوده از مقادیر تجسم می‌کند. متد hist (DataFrame) به طور خودکار داده‌های هر ستون عددی را تحلیل می‌کند و یک هیستوگرام مربوطه ایجاد می‌کند. برای مشاهده هیستوگرام‌های هر ستون داده عددی، hist را روی DataFrame خود فراخوانی کنید:\n",
    "</div>"
   ]
  },
  {
   "cell_type": "code",
   "execution_count": null,
   "id": "500c2564-1c8e-4216-bd7b-2a703138b0e5",
   "metadata": {},
   "outputs": [],
   "source": [
    "histogram = titanic.hist()"
   ]
  },
  {
   "cell_type": "markdown",
   "id": "6cc37cdb-018e-4da9-9ae6-2babad0c1b19",
   "metadata": {},
   "source": [
    "<div style=\"direction:rtl; font-size: 17px; font-family: 'XB Zar'; line-height: 200%\">\n",
    "    مجموعه‌داده تایتانیک فقط یک ستون داده عددی دارد، بنابراین نمودار یک هیستوگرام برای توزیع سن نشان می‌دهد. برای مجموعه‌داده‌هایی با چندین ستون عددی، hist یک هیستوگرام جداگانه برای هر ستون عددی ایجاد می‌کند.\n",
    "</div>"
   ]
  },
  {
   "cell_type": "markdown",
   "id": "f48f20d4-0459-4ce9-83e5-3472221f6149",
   "metadata": {},
   "source": [
    "<h1 style=\"direction:rtl;font-size: 35px;font-family: 'XB Zar';color:#8e24aa;\">9.13 <span style=\"color:#F50057;\">جمع‌بندی\n",
    "</span></h1> <a id='26'></a>"
   ]
  },
  {
   "cell_type": "markdown",
   "id": "77363b2e-56dd-4d05-862d-2076c5a12785",
   "metadata": {},
   "source": [
    "<div style=\"direction:rtl; font-size: 17px; font-family: 'XB Zar'; line-height: 200%\">\n",
    "    در این فصل، پردازش فایل‌های متنی و مدیریت استثناها را معرفی کردیم. فایل‌ها برای ذخیره داده‌ها به صورت پایدار استفاده می‌شوند. ما در مورد اشیاء فایل صحبت کردیم و اشاره کردیم که پایتون یک فایل را به عنوان دنباله‌ای از کاراکترها یا بایت‌ها می‌بیند. همچنین به اشیاء فایل استانداردی اشاره کردیم که به طور خودکار هنگام شروع اجرای یک برنامه پایتون برای شما ایجاد می‌شوند.\n",
    "</div>"
   ]
  },
  {
   "cell_type": "markdown",
   "id": "e96f57be-c95f-4c4b-94e1-986d8571859e",
   "metadata": {},
   "source": [
    "<div style=\"direction:rtl; font-size: 17px; font-family: 'XB Zar'; line-height: 200%\">\n",
    "    نشان دادیم که چگونه فایل‌های متنی را ایجاد، خواندن، نوشتن و به‌روزرسانی کنیم. چندین فرمت فایل محبوب را بررسی کردیم — متن ساده، JSON (نشان‌گذاری شیء جاوااسکریپت) و CSV (مقادیر جدا شده با کاما). از تابع داخلی open و دستور with استفاده کردیم تا یک فایل را باز کنیم، در آن بنویسیم یا از آن بخوانیم و به طور خودکار فایل را ببندیم تا از نشت منابع هنگامی که دستور with خاتمه می‌یابد، جلوگیری کنیم. از ماژول json کتابخانه استاندارد پایتون استفاده کردیم تا اشیاء را به فرمت JSON سریال‌سازی کنیم و آن‌ها را در یک فایل ذخیره کنیم، اشیاء JSON را از یک فایل بارگیری کنیم، آن‌ها را به اشیاء پایتون تبدیل کنیم و یک شیء JSON را برای خوانایی بهتر چاپ کنیم.\n",
    "</div>"
   ]
  },
  {
   "cell_type": "markdown",
   "id": "9b0ac54f-1d4f-475e-a1ba-af2bddca3802",
   "metadata": {},
   "source": [
    "<div style=\"direction:rtl; font-size: 17px; font-family: 'XB Zar'; line-height: 200%\">\n",
    "    در مورد اینکه چگونه استثناها مشکلات زمان اجرا را نشان می‌دهند بحث کردیم و انواع استثناهایی که تاکنون دیده‌اید را فهرست کردیم. نشان دادیم که چگونه با استثناها برخورد کنیم با قرار دادن کد در دستورات try که بندهای except را برای مدیریت انواع خاصی از استثناهایی که ممکن است در مجموعه \n",
    "    try\n",
    "    رخ دهند، ارائه می‌دهند و برنامه‌های شما را مقاوم‌تر و تحمل‌پذیرتر در برابر خطا می‌کنند.\n",
    "</div>"
   ]
  },
  {
   "cell_type": "markdown",
   "id": "48071562-2d18-4721-ab84-1aeac5a21bc3",
   "metadata": {},
   "source": [
    "<div style=\"direction:rtl; font-size: 17px; font-family: 'XB Zar'; line-height: 200%\">\n",
    "    در مورد بند finally دستور try برای اجرای کد در صورتی که جریان برنامه وارد مجموعه try مربوطه شده باشد، بحث کردیم. شما می‌توانید از دستور with یا بند finally یک دستور try برای این منظور استفاده کنید — ما دستور with را ترجیح می‌دهیم.\n",
    "</div>"
   ]
  },
  {
   "cell_type": "markdown",
   "id": "a3501ecf-b2c2-43d8-bf42-20177403589c",
   "metadata": {},
   "source": [
    "<div style=\"direction:rtl; font-size: 17px; font-family: 'XB Zar'; line-height: 200%\">\n",
    "    در بخش مقدمه‌ای بر علم داده، از ماژول csv کتابخانه استاندارد پایتون و قابلیت‌های کتابخانه pandas برای بارگیری، دستکاری و ذخیره داده‌های CSV استفاده کردیم. در نهایت، مجموعه‌داده فاجعه تایتانیک را در یک DataFrame از pandas بارگیری کردیم، برخی نام‌های ستون‌ها را برای خوانایی بهتر تغییر دادیم، ابتدا و انتهای مجموعه‌داده را نمایش دادیم و تحلیل ساده‌ای از داده‌ها انجام دادیم. در فصل بعدی، در مورد قابلیت‌های برنامه‌نویسی شیء‌گرای پایتون بحث خواهیم کرد.\n",
    "</div>"
   ]
  }
 ],
 "metadata": {
  "kernelspec": {
   "display_name": "Python [conda env:base] *",
   "language": "python",
   "name": "conda-base-py"
  },
  "language_info": {
   "codemirror_mode": {
    "name": "ipython",
    "version": 3
   },
   "file_extension": ".py",
   "mimetype": "text/x-python",
   "name": "python",
   "nbconvert_exporter": "python",
   "pygments_lexer": "ipython3",
   "version": "3.11.10"
  }
 },
 "nbformat": 4,
 "nbformat_minor": 5
}
