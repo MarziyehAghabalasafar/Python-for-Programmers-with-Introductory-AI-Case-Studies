{
 "cells": [
  {
   "cell_type": "markdown",
   "id": "834a2984-ca21-4a2d-86c2-7db9f9011f54",
   "metadata": {},
   "source": [
    "<img src=\"https://camo.githubusercontent.com/f390d490947b7d19d74a518c866cc7065a0b2ce7d0c3f9e708e629aaface0cb4/68747470733a2f2f64656974656c2e636f6d2f77702d636f6e74656e742f75706c6f6164732f323032302f30312f707974686f6e2d666f722d70726f6772616d6d6572732e6a7067\" align = \"left\">\n",
    "\n",
    "\n",
    "<!DOCTYPE html>\n",
    "<html>\n",
    "<head>\n",
    "    <style>\n",
    "    </style>\n",
    "</head>\n",
    "<body>\n",
    "    <h1 style=\"text-align:right;font-size:250%; font-family: 'XB Zar';\"><span style=\"color:#9575cd;font-size:300%;\">پایتون</span> <br>برای برنامه‌نویسان</h1>\n",
    "    <hr>\n",
    "    <p style=\"text-align:right;font-size:150%;font-family: 'XB Zar';\"><b>با مطالعات مقدماتی هوش مصنوعی</b></p>\n",
    "    <p style=\"text-align:right;font-size:150%;font-family: 'XB Zar';\">مولفین : پل دایتل و هاروی دایتل</p>\n",
    "</body>\n",
    "</html>"
   ]
  },
  {
   "cell_type": "markdown",
   "id": "8861e41d-4bd6-4d8f-9bd8-b1dfd88e2cfb",
   "metadata": {},
   "source": [
    "\n",
    "<html>\n",
    "<head>\n",
    "    <style>\n",
    "    </style>\n",
    "</head>\n",
    "<body>\n",
    "    <hr>\n",
    "    <p style=\"text-align:right;font-size:150%;font-family:XB Zar;\"><b>استاد:</b> جناب آقای دکتر صالحی</p>\n",
    "    <p style=\"text-align:right;font-size:150%;font-family:XB Zar;\"><b>گردآورنده:</b> مرضیه آقابالاصفر</p>\n",
    "    <p style=\"text-align:right;font-size:150%;font-family:XB Zar;\">دپارتمان علوم‌کامپیوتر، دانشکده علوم ریاضی، دانشگاه شهرکرد</p>\n",
    "    <hr>\n",
    "</body>\n",
    "</html>\n"
   ]
  },
  {
   "cell_type": "markdown",
   "id": "5db07e9c-97d3-4242-ba7a-086962d003b2",
   "metadata": {},
   "source": [
    "<h1 style=\"text-align:center;font-size:450%; font-family: 'XB Zar';\"><span style=\"color:#8e24aa;\">فصل ۶: دیکشنری‌ها و مجموعه‌ها</span></h1> <a id='1'></a>"
   ]
  },
  {
   "cell_type": "markdown",
   "id": "bc3d7036-5060-4706-a6a0-09e5d4777025",
   "metadata": {},
   "source": [
    "<h1 style=\"direction:rtl;font-size: 35px;font-family: 'XB Zar';\"><span style=\"color:#F50057;\">اهداف</span></h1>\n",
    "<p style=\"text-align:right;\">\n",
    "<div style=\"direction:rtl; font-size: 17px; font-family: 'XB Zar'; line-height: 200%\">\n",
    "در این فصل :\n",
    "</div>\n",
    "    <div style=\"direction:rtl; font-size: 17px; font-family: 'XB Zar'; line-height: 200%\">\n",
    "    <span style=\"color:#F50057;\">■ </span>از دیکشنری‌ها برای نمایش کالکشنی غیرمرتب از زوج‌ها به شکل کلید - مقدار استفاده خواهید کرد.<br>\n",
    "    <span style=\"color:#F50057;\">■ </span>از مجموعه‌ها برای نشان دادن کالکشنی نامرتب از مقادیر منحصر به فرد استفاده خواهید کرد.<br>\n",
    "    <span style=\"color:#F50057;\">■ </span>ایجاد، مقداردهی اولیه و ارجاع به عناصر دیکشنری‌ها و مجموعه‌ها را خواهیم داشت.<br>\n",
    "    <span style=\"color:#F50057;\">■ </span>کلیدها، مقادیر و جفت‌های کلید-مقدار دیکشنری‌ها را پیمایش خواهید کرد.<br>\n",
    "    <span style=\"color:#F50057;\">■ </span>جفت‌های کلید-مقدار در دیکشنری را اضافه، حذف و به‌روزرسانی خواهید کرد.<br>\n",
    "    <span style=\"color:#F50057;\">■ </span>از عملگرهای مقایسه‌ای دیکشنری‌ها و مجموعه‌ها استفاده خواهید کرد.<br>\n",
    "    <span style=\"color:#F50057;\">■ </span>مجموعه‌ها را با استفاده از عملگرها و متدهای مجموعه ترکیب خواهید کرد.<br>\n",
    "    <span style=\"color:#F50057;\">■ </span>برای تعیین وجود یک کلید در دیکشنری و یا مجموعه از عملگرهای \n",
    "        in\n",
    "        و \n",
    "         not in\n",
    "        استفاده خواهید کرد.<br>\n",
    "    <span style=\"color:#F50057;\">■ </span>برای اصلاح محتویات یک مجموعه (قابل تغییر) از عملگرهای مربوطه استفاده خواهید کرد.<br>\n",
    "    <span style=\"color:#F50057;\">■ </span>برای ایجاد سریع و راحت دیکشنری و مجموعه از روش \n",
    "        comprehension\n",
    "        استفاده خواهید کرد.<br>\n",
    "    <span style=\"color:#F50057;\">■ </span>چگونگی ایجاد نمودارهای پویا را می‌آموزید.<br>\n",
    "    <span style=\"color:#F50057;\">■ </span>درک شما از مفاهیم تغییرپذیری و تغییرناپذیری افزایش خواهد یافت.<br>\n",
    "    </div>\n",
    "</p>"
   ]
  },
  {
   "cell_type": "markdown",
   "id": "f02549b6-11d4-4311-ba4e-1edd00dc6a7f",
   "metadata": {},
   "source": [
    "<h1 style=\"direction:rtl;font-size: 35px;font-family: 'XB Zar';\"><span style=\"color:#8e24aa;\">رئوس مطالب</span></h1>\n",
    "<hr>\n",
    "<div style=\"direction:rtl; font-size: 17px; font-family: 'XB Zar'; line-height: 200%\">\n",
    "  \n",
    "6. [دیکشنری‌ها و مجموعه‌ها](#1)\n",
    "    * 6.1 [مقدمه](#2)\n",
    "    * 6.2 [دیکشنری‌ها](#3)\n",
    "        * 6.2.1 [ایجاد یک دیکشنری](#4)\n",
    "        * 6.2.2 [پیمایش یک دیکشنری](#5)\n",
    "        * 6.2.3 [عملیات پایه دیکشنری](#6)\n",
    "        * 6.2.4 [متدهای keys و values در دیکشنری](#7)\n",
    "        * 6.2.5 [مقایسه در دیکشنری](#8)\n",
    "        * 6.2.6 [مثال: دیکشنری نمرات دانش آموزان](#9)\n",
    "        * 6.2.7 [مثال: شمارش کلمات](#10)\n",
    "        * 6.2.8 [متد  update در دیکشنری](#11)\n",
    "        * 6.2.9 [Dictionary Comprehensions](#12)\n",
    "    * 6.3 [مجموعه‌ها](#13)\n",
    "        * 6.3.1 [مقایسه مجموعه‌ها](#14)\n",
    "        * 6.3.2 [عملیات ریاضی مجموعه‌ها](#15)\n",
    "        * 6.3.3 [عملیات و متدهای مربوط به مجموعه‌های تغییر پذیر](#16)\n",
    "        * 6.3.4 [Set Comprehensions](#17)\n",
    "    * 6.4 [مقدمه‌ای بر علم داده: نمودارهای پویا](#18)\n",
    "        * 6.4.1 [نحوه عملکرد نمودارهای پویا](#19)\n",
    "        * 6.4.2 [پیاده سازی یک نمودار پویا](#20)\n",
    "    * 6.5 [جمع‌بندی](#21)\n",
    "\n",
    "    \n",
    "</div>\n"
   ]
  },
  {
   "cell_type": "markdown",
   "id": "2a8840b7-22db-47b1-b98e-e44a947ac053",
   "metadata": {},
   "source": [
    "<h1 style=\"direction:rtl;font-size: 35px;font-family: 'XB Zar';color:#8e24aa;\">6.1 <span style=\"color:#F50057;\">مقدمه</span></h1> <a id='2'></a>"
   ]
  },
  {
   "cell_type": "markdown",
   "id": "b809da86-a846-4370-9e8e-93718acfb2d5",
   "metadata": {},
   "source": [
    "<div style=\"direction:rtl; font-size: 17px; font-family: 'XB Zar'; line-height: 200%\">تا اینجای کار سه داده از قبل تعریف شده رشته، لیست و تاپل را به عنوان کالکشن‌های دنباله‌ای بررسی کردیم. در این قسمت، مجموعه‌ها و دیکشنری‌ها را به عنوان دنباله‌های غیرمرتب بررسی می‌کنیم. دیکشنری کالکشنی غیرمرتب است که زوج‌های مرتبی را به شکل کلید-مقدار ذخیره می‌کند و همانند یک فرهنگ لغت معمولی که هر کلمه را به معنای آن نگاشت می‌کند، یک دیکشنری کلیدهای تغییرناپذیر را به مقادیر نگاشت می‌کند. مجموعه، کالکشنی نامرتب از اعضای تغییرناپذیر و منحصربه فرد است.\n",
    "</div>"
   ]
  },
  {
   "cell_type": "markdown",
   "id": "8c496fdf-f8b1-4c9f-a5fe-236263894444",
   "metadata": {},
   "source": [
    "<h1 style=\"direction:rtl;font-size: 35px;font-family: 'XB Zar';color:#8e24aa;\">6.2 <span style=\"color:#F50057;\">دیکشنری‌ها</span></h1> <a id='3'></a>"
   ]
  },
  {
   "cell_type": "markdown",
   "id": "f0a7821a-4d97-4927-a958-e962cf101dd6",
   "metadata": {},
   "source": [
    "<div style=\"direction:rtl; font-size: 17px; font-family: 'XB Zar'; line-height: 200%\">یک دیکشنری، کلیدها را با مقادیر مرتبط می‌کند. هر کلید به یک مقدار خاص نگاشت می‌شود. جدول زیر شامل نمونه‌هایی از دیکشنری‌ها همراه کلیدها، نوع داده کلیدها، مقادیر و نوع داده مقادیر می‌باشد.\n",
    "</div>"
   ]
  },
  {
   "attachments": {
    "0857c359-ed84-4a2c-9568-2594f661323a.png": {
     "image/png": "[encoded data removed]"
    }
   },
   "cell_type": "markdown",
   "id": "9b6e42fb-1d91-4785-9971-eab8b38a11a2",
   "metadata": {},
   "source": [
    "![Screenshot (68).png](attachment:0857c359-ed84-4a2c-9568-2594f661323a.png)"
   ]
  },
  {
   "cell_type": "markdown",
   "id": "628b0df2-d43b-42ea-a9cc-0e4a31dbb27b",
   "metadata": {},
   "source": [
    "<h2 style=\"direction:rtl;font-size: px;font-family: 'XB Zar';color:#0288d1;\">کلیدهای منحصربه فرد</h2> <a id=''></a>"
   ]
  },
  {
   "cell_type": "markdown",
   "id": "f8504fc2-527f-437b-9ca2-e403abf8ea59",
   "metadata": {},
   "source": [
    "<div style=\"direction:rtl; font-size: 17px; font-family: 'XB Zar'; line-height: 200%\">کلیدهای دیکشنری باید تغییرناپذیر باشند مانند (رشته‌ها، اعداد یا تاپل‌ها) و منحصربه فرد باشند (تکراری نباشند). چندین کلید می‌توانند دارای مقادیر برابر باشند، برای مثال ممکن است دو کالایی که کدهای مختلفی دارند موجودی انبار برابری داشته باشند.\n",
    "</div>"
   ]
  },
  {
   "cell_type": "markdown",
   "id": "49d2bb5e-abd0-4b35-9272-f675f1db5ace",
   "metadata": {},
   "source": [
    "<h2 style=\"direction:rtl;font-size: 25px;font-family: 'XB Zar';color:#8e24aa;\">6.2.1 <span style=\"color:#8e24aa;\">ایجاد یک دیکشنری</span></h2> <a id='4'></a>"
   ]
  },
  {
   "cell_type": "markdown",
   "id": "7502fa63-fe3d-446e-b67b-238a914729b7",
   "metadata": {},
   "source": [
    "<div style=\"direction:rtl; font-size: 17px; font-family: 'XB Zar'; line-height: 200%\">برای ایجاد یک دیکشنری باید زوج‌های کلید و مقدار را با فرمت \r\n",
    "    key: value\r\n",
    "    با کاما از یکدیگر جدا کنید و آنها را میان بریس \r\n",
    "    {}\r\n",
    "    قرار دهید. استفاده از نماد \r\n",
    "    {}\r\n",
    "    یک دیکشنری خالی ایجاد می‌کند. در این قسمت یک دیکشنری ایجاد می‌کنیم که کلید آن نام کشورهای \r\n",
    "    'Finland', 'South Africa' و 'Nepal'\r\n",
    "    و دامنه اینترنتی آنها \r\n",
    "    'fi', 'za' و 'np'\r\n",
    "    می‌باشد:\n",
    "</div>"
   ]
  },
  {
   "cell_type": "code",
   "execution_count": null,
   "id": "47a203e7-92e3-4a55-ace6-cb4c6578e01a",
   "metadata": {},
   "outputs": [],
   "source": [
    "country_codes = {'Finland': 'fi', 'South Africa': 'za', \n",
    "                  'Nepal': 'np'}\n",
    "                 "
   ]
  },
  {
   "cell_type": "code",
   "execution_count": null,
   "id": "ba2f8aaf-0a04-4c79-b873-f3c12a455b77",
   "metadata": {},
   "outputs": [],
   "source": [
    "country_codes"
   ]
  },
  {
   "cell_type": "markdown",
   "id": "d48e2e91-d186-44b9-9438-e90e79389426",
   "metadata": {},
   "source": [
    "<div style=\"direction:rtl; font-size: 17px; font-family: 'XB Zar'; line-height: 200%\">هنگامی که یک دیکشنری را در خروجی نمایش می‌دهید، زوج‌های کلید-مقدار آن همیشه میان دو بریس قرار می‌گیرند. از آنجا که دیکشنری‌ها کالکشن‌های نامرتب محسوب می‌شوند، ترتیب نمایش آن‌ها می‌تواند با ترتیب زمانی که زوج‌های کلید-مقدار به دیکشنری اضافه می‌شود، متفاوت باشد. در خروجی اسنیپت [۲]، زوج‌های کلید-مقدار به ترتیب درج شدن نمایش داده می‌شوند. کدی ننویسید که به ترتیب زوج‌های کلید-مقدار بستگی داشته باشد.\n",
    "</div>"
   ]
  },
  {
   "cell_type": "markdown",
   "id": "5f1664fa-fd0e-4a10-aeb2-8ddc32bbba12",
   "metadata": {},
   "source": [
    "<h2 style=\"direction:rtl;font-size: px;font-family: 'XB Zar';color:#0288d1;\">تعیین خالی بودن یک دیکشنری</h2> <a id=''></a>"
   ]
  },
  {
   "cell_type": "markdown",
   "id": "df3aa73f-47e2-476e-a3d3-808717fe8621",
   "metadata": {},
   "source": [
    "<div style=\"direction:rtl; font-size: 17px; font-family: 'XB Zar'; line-height: 200%\">تابع از پیش تعریف شده \n",
    "    len\n",
    "    تعداد زوج‌های کلید-مقدار در یک دیکشنری را باز می‌گرداند:\n",
    "</div>"
   ]
  },
  {
   "cell_type": "code",
   "execution_count": null,
   "id": "5001bc96-ed93-4698-ac8f-4f6b6e33918f",
   "metadata": {},
   "outputs": [],
   "source": [
    "len(country_codes)"
   ]
  },
  {
   "cell_type": "markdown",
   "id": "d73c4a4e-2c4f-4f38-90c9-3a7fd6994ac8",
   "metadata": {},
   "source": [
    "<div style=\"direction:rtl; font-size: 17px; font-family: 'XB Zar'; line-height: 200%\">در قسمت شرطی دستور \n",
    "    if\n",
    "    می‌توانید از نام دیکشنری استفاده کنید تا خالی بودن آن را تعیین کنید، یک دیکشنری غیرخالی همیشه \n",
    "    True\n",
    "    ارزیابی می‌شود:\n",
    "</div>"
   ]
  },
  {
   "cell_type": "code",
   "execution_count": null,
   "id": "5f1e21f0-22db-4ba6-aebe-724ca871d9ba",
   "metadata": {},
   "outputs": [],
   "source": [
    "if country_codes:\n",
    "    print('country_codes is not empty')\n",
    "else:\n",
    "    print('country_codes is empty')\n",
    "    "
   ]
  },
  {
   "cell_type": "markdown",
   "id": "5e5eff21-4e98-48aa-a5f0-51df5834e4d1",
   "metadata": {},
   "source": [
    "<div style=\"direction:rtl; font-size: 17px; font-family: 'XB Zar'; line-height: 200%\">یک دیکشنری خالی \n",
    "    False\n",
    "    ارزیابی می‌شود. برای نشان دادن این موضوع، در کد زیر با فراخوانی متد \n",
    "     clear\n",
    "    زوج‌های کلید-مقدار را حذف می‌کنیم، سپس در اسنیپت [۶]، اسنیپت [۴] را فراخوانی کرده و دوباره آن را اجرا می‌کنیم:\n",
    "</div>"
   ]
  },
  {
   "cell_type": "code",
   "execution_count": null,
   "id": "9b08bf3c-0e2c-43aa-bc9b-131274cf5b5f",
   "metadata": {},
   "outputs": [],
   "source": [
    "country_codes.clear()"
   ]
  },
  {
   "cell_type": "code",
   "execution_count": null,
   "id": "9bff49ee-c792-4c46-b8ac-151215f36094",
   "metadata": {},
   "outputs": [],
   "source": [
    "if country_codes:\n",
    "    print('country_codes is not empty')\n",
    "else:\n",
    "    print('country_codes is empty')\n",
    "    "
   ]
  },
  {
   "cell_type": "markdown",
   "id": "a838f08d-8d46-4cea-a044-fca2a4d0b1d5",
   "metadata": {},
   "source": [
    "<h2 style=\"direction:rtl;font-size: 25px;font-family: 'XB Zar';color:#8e24aa;\">6.2.2 <span style=\"color:#8e24aa;\">پیمایش یک دیکشنری</span></h2> <a id='5'></a>"
   ]
  },
  {
   "cell_type": "markdown",
   "id": "c1fe3364-d172-408b-9489-60d220ad83c4",
   "metadata": {},
   "source": [
    "<div style=\"direction:rtl; font-size: 17px; font-family: 'XB Zar'; line-height: 200%\">دیکشنری زیر، رشته‌های نام ماه‌ها را به مقادیر \n",
    "    int\n",
    "    که تعداد روزهای ماه مربوطه را نشان می‌دهد، نگاشت می‌کند. توجه داشته باشید که چندین کلید می‌توانند مقادیر برابری داشته باشند:\n",
    "</div>"
   ]
  },
  {
   "cell_type": "code",
   "execution_count": null,
   "id": "7f026377-93d0-4070-80c7-6671d1fe9c89",
   "metadata": {},
   "outputs": [],
   "source": [
    "days_per_month = {'January': 31, 'February': 28, 'March': 31}"
   ]
  },
  {
   "cell_type": "code",
   "execution_count": null,
   "id": "60d0ef04-3e02-450f-a6dc-c4788f4c66a4",
   "metadata": {},
   "outputs": [],
   "source": [
    "days_per_month"
   ]
  },
  {
   "cell_type": "markdown",
   "id": "1d133be0-d215-4303-a0d4-53a1c569a228",
   "metadata": {},
   "source": [
    "<div style=\"direction:rtl; font-size: 17px; font-family: 'XB Zar'; line-height: 200%\">همان‌طور که مشاهده می‌کنید در نمایش رشته‌های دیکشنری، جفت‌های کلید-مقدار را به ترتیب درج آنها نشان می‌دهد، اما این تضمین نمی‌شود زیرا دیکشنری‌ها مرتب نیستند. در ادامه این فصل، نحوه پردازش کلیدها به شکل مرتب شده را نشان خواهیم داد.\n",
    "</div>"
   ]
  },
  {
   "cell_type": "markdown",
   "id": "ea0f2f99-1b58-4dab-9070-9a96aaa75094",
   "metadata": {},
   "source": [
    "<div style=\"direction:rtl; font-size: 17px; font-family: 'XB Zar'; line-height: 200%\">دستور \n",
    "    for\n",
    "    ذیل زوج کلید-مقدار موجود در دیکشنری \n",
    "    days_per_month\n",
    "    را پیمایش می‌کند. متد \n",
    "    items\n",
    "    در دیکشنری هر زوج کلید-مقدار را به صورت یک تاپل بازمی‌گرداند؛ در این قسمت تاپل‌ها را در \n",
    "    month\n",
    "    و \n",
    "    days\n",
    "    تفکیک کرده‌ایم:\n",
    "</div>"
   ]
  },
  {
   "cell_type": "code",
   "execution_count": null,
   "id": "cff23e15-8e66-4452-9b07-6f9c0172aeaa",
   "metadata": {},
   "outputs": [],
   "source": [
    "for month, days in days_per_month.items():\n",
    "    print(f'{month} has {days} days')\n",
    "    "
   ]
  },
  {
   "cell_type": "markdown",
   "id": "1e32202f-05bb-411f-9397-bee343a9b884",
   "metadata": {},
   "source": [
    "<h2 style=\"direction:rtl;font-size: 25px;font-family: 'XB Zar';color:#8e24aa;\">6.2.3 <span style=\"color:#8e24aa;\">عملیات پایه دیکشنری</span></h2> <a id='6'></a>"
   ]
  },
  {
   "cell_type": "markdown",
   "id": "88fa7ad2-747c-4db0-b4be-24112b6ad7c2",
   "metadata": {},
   "source": [
    "<div style=\"direction:rtl; font-size: 17px; font-family: 'XB Zar'; line-height: 200%\">این بخش را با ایجاد و نمایش یک دیکشنری به نام \n",
    "    roman_numerals\n",
    "    شروع می‌کنیم. عمدا مقدار نادرست ۱۰۰ را به کلید \n",
    "    'X'\n",
    "    اختصاص داده‌ایم و به زودی آن را اصلاح خواهیم کرد:\n",
    "</div>"
   ]
  },
  {
   "cell_type": "code",
   "execution_count": null,
   "id": "cf2e3a24-39ae-489c-8c80-2ec6c27d2171",
   "metadata": {},
   "outputs": [],
   "source": [
    "roman_numerals = {'I': 1, 'II': 2, 'III': 3, 'V': 5, 'X': 100}"
   ]
  },
  {
   "cell_type": "code",
   "execution_count": null,
   "id": "78bfdc33-1c30-445a-b7bf-84fd1f3617f4",
   "metadata": {},
   "outputs": [],
   "source": [
    "roman_numerals"
   ]
  },
  {
   "cell_type": "markdown",
   "id": "a57c0d4e-f466-4891-9fed-2b5cbf62d6db",
   "metadata": {},
   "source": [
    "<h2 style=\"direction:rtl;font-size: px;font-family: 'XB Zar';color:#0288d1;\">دسترسی به مقدار مرتبط با یک کلید</h2> <a id=''></a>"
   ]
  },
  {
   "cell_type": "markdown",
   "id": "4e8f9f8c-fbcf-4664-b865-aad6623aa0a3",
   "metadata": {},
   "source": [
    "<div style=\"direction:rtl; font-size: 17px; font-family: 'XB Zar'; line-height: 200%\">با کد زیر مقدار مرتبط با کلید \n",
    "    'V'\n",
    "    را به دست می‌آوریم:\n",
    "</div>"
   ]
  },
  {
   "cell_type": "code",
   "execution_count": null,
   "id": "71cc4c98-6704-4773-ab32-0f870280a2c1",
   "metadata": {},
   "outputs": [],
   "source": [
    "roman_numerals['V']"
   ]
  },
  {
   "cell_type": "markdown",
   "id": "1e25871d-c20b-43b5-a445-5c1f5097610f",
   "metadata": {},
   "source": [
    "<h2 style=\"direction:rtl;font-size: px;font-family: 'XB Zar';color:#0288d1;\">آپدیت کردن مقدار یک جفت کلید-مقدار موجود در دیکشنری</h2> <a id=''></a>"
   ]
  },
  {
   "cell_type": "markdown",
   "id": "08685a51-bb74-49c5-8265-45d16964385c",
   "metadata": {},
   "source": [
    "<div style=\"direction:rtl; font-size: 17px; font-family: 'XB Zar'; line-height: 200%\">با استفاده از یک دستور انتساب می‌توانید مقدار مربوط با یک کلید را تغییر دهید. در اینجا این فرآیند را برای تغییر مقدار نادرست مرتبط با کلید\n",
    "    'X'\n",
    "    انجام می‌دهیم:\n",
    "</div>"
   ]
  },
  {
   "cell_type": "code",
   "execution_count": null,
   "id": "f9768af4-ce2e-4839-8f65-86b95eea0d3a",
   "metadata": {},
   "outputs": [],
   "source": [
    "roman_numerals['X'] = 10"
   ]
  },
  {
   "cell_type": "code",
   "execution_count": null,
   "id": "bd3b8a06-b370-4695-af5b-fc0f8ad1aa35",
   "metadata": {},
   "outputs": [],
   "source": [
    "roman_numerals"
   ]
  },
  {
   "cell_type": "markdown",
   "id": "8c169da8-c9df-4353-84b8-0027ed3340b9",
   "metadata": {},
   "source": [
    "<h2 style=\"direction:rtl;font-size: px;font-family: 'XB Zar';color:#0288d1;\">اضافه کردن یک زوج کلید-مقدار به دیکشنری</h2> <a id=''></a>"
   ]
  },
  {
   "cell_type": "markdown",
   "id": "4b8df39f-2c29-42d1-bfca-fc3a2ffd5b89",
   "metadata": {},
   "source": [
    "<div style=\"direction:rtl; font-size: 17px; font-family: 'XB Zar'; line-height: 200%\">انتساب یک مقدار به کلیدی که در دیکشنری وجود ندارد، موجب می‌شود زوج کلید-مقدار در دیکشنری درج شود:\n",
    "</div>"
   ]
  },
  {
   "cell_type": "code",
   "execution_count": null,
   "id": "54259da0-8195-4233-a2f3-dee79c8979f0",
   "metadata": {},
   "outputs": [],
   "source": [
    "roman_numerals['L'] = 50"
   ]
  },
  {
   "cell_type": "code",
   "execution_count": null,
   "id": "7fc63d13-4a43-493c-a255-feba5fb4c7aa",
   "metadata": {},
   "outputs": [],
   "source": [
    "roman_numerals"
   ]
  },
  {
   "cell_type": "markdown",
   "id": "c090752d-5cd7-432b-af1c-69b92b58dc32",
   "metadata": {},
   "source": [
    "<div style=\"direction:rtl; font-size: 17px; font-family: 'XB Zar'; line-height: 200%\">کلیدهای رشته‌ای به حروف کوچک و بزرگ حساس هستند. اختصاص دادن کلیدی که وجود ندارد، یک زوج کلید-مقدار جدید را در دیکشنری ایجاد می‌کند. ممکن است این رویکرد مطابق با خواسته شما باشد و یا ممکن است یک خطای منطقی تلقی شود.\n",
    "</div>"
   ]
  },
  {
   "cell_type": "markdown",
   "id": "7d178323-d23f-4d29-af94-71cb4315a305",
   "metadata": {},
   "source": [
    "<h2 style=\"direction:rtl;font-size: px;font-family: 'XB Zar';color:#0288d1;\">حذف کردن یک زوج کلید-مقدار از دیکشنری</h2> <a id=''></a>"
   ]
  },
  {
   "cell_type": "markdown",
   "id": "41af60d5-388b-48da-b200-c26e6d167707",
   "metadata": {},
   "source": [
    "<div style=\"direction:rtl; font-size: 17px; font-family: 'XB Zar'; line-height: 200%\">با استفاده از دستور \n",
    "    del\n",
    "    می‌توانید یک زوج کلید-مقدار را از دیکشنری حذف کنید:\n",
    "</div>"
   ]
  },
  {
   "cell_type": "code",
   "execution_count": null,
   "id": "62beda51-7beb-4e8a-9ede-8415a2eabad4",
   "metadata": {},
   "outputs": [],
   "source": [
    "del roman_numerals['III']"
   ]
  },
  {
   "cell_type": "code",
   "execution_count": null,
   "id": "13907c8a-724f-45d6-b886-ef4068424918",
   "metadata": {},
   "outputs": [],
   "source": [
    "roman_numerals"
   ]
  },
  {
   "cell_type": "markdown",
   "id": "9c739fd6-6bfa-42cb-a123-57cd67de544e",
   "metadata": {},
   "source": [
    "<div style=\"direction:rtl; font-size: 17px; font-family: 'XB Zar'; line-height: 200%\">علاوه بر روش بالا، با استفاده از متد \n",
    "     pop\n",
    "    در دیکشنری می‌توانید یک زوج کلید-مقدار را از دیکشنری حذف کنید، این متد مقدار مرتبط با کلید حذف شده را برمی‌گرداند:\n",
    "</div>"
   ]
  },
  {
   "cell_type": "code",
   "execution_count": null,
   "id": "7564e64b-2e1d-4a7a-b573-fb29402de470",
   "metadata": {},
   "outputs": [],
   "source": [
    "roman_numerals.pop('X')"
   ]
  },
  {
   "cell_type": "code",
   "execution_count": null,
   "id": "44085538-fed8-404d-aa17-197fae6d9424",
   "metadata": {},
   "outputs": [],
   "source": [
    "roman_numerals"
   ]
  },
  {
   "cell_type": "markdown",
   "id": "79bea725-ce0a-426f-aac0-1e5a9e8bfc4a",
   "metadata": {},
   "source": [
    "<h2 style=\"direction:rtl;font-size: px;font-family: 'XB Zar';color:#0288d1;\">تلاش برای دستیابی به کلیدی که وجود ندارد</h2> <a id=''></a>"
   ]
  },
  {
   "cell_type": "markdown",
   "id": "74ea7754-d2b3-4057-aff5-bf63c43f3b85",
   "metadata": {},
   "source": [
    "<div style=\"direction:rtl; font-size: 17px; font-family: 'XB Zar'; line-height: 200%\">دسترسی به کلیدی که وجود ندارد منجر به بروز خطای \n",
    "    KeyError\n",
    "    می‌شود:\n",
    "</div>"
   ]
  },
  {
   "cell_type": "code",
   "execution_count": null,
   "id": "78a3169d-f7e0-44ac-b455-2ec4545a28e8",
   "metadata": {},
   "outputs": [],
   "source": [
    "roman_numerals['III']"
   ]
  },
  {
   "cell_type": "markdown",
   "id": "9969aa4d-8762-44d4-8c9e-0cefcaadea1b",
   "metadata": {},
   "source": [
    "<div style=\"direction:rtl; font-size: 17px; font-family: 'XB Zar'; line-height: 200%\">با استفاده از متد \n",
    "    get\n",
    "    می‌توانید از بروز این خطا جلوگیری کنید. این متد در حالت عادی مقدار مربوط به آرگومان خود را برمی‌گرداند. اگر آن کلید پیدا نشود، \n",
    "    None\n",
    "    را برمی‌گرداند. مطابق اسنیپت [۱۳] \n",
    "    IPython\n",
    "    هنگام بازگرداندن \n",
    "    None\n",
    "    چیزی را نمایش نمی‌دهد. اگر برای آرگومان دوم متد \n",
    "    get\n",
    "    مقداری تخصیص دهید، هنگام پیدا نشدن کلید، مقدار آرگومان دوم را برمی‌گرداند:\n",
    "</div>"
   ]
  },
  {
   "cell_type": "code",
   "execution_count": null,
   "id": "0833c076-6454-4994-8901-870c01c86e06",
   "metadata": {},
   "outputs": [],
   "source": [
    "roman_numerals.get('III')"
   ]
  },
  {
   "cell_type": "code",
   "execution_count": null,
   "id": "8b0105c3-5b02-4145-a094-be7640738783",
   "metadata": {},
   "outputs": [],
   "source": [
    "roman_numerals.get('III', 'III not in dictionary')"
   ]
  },
  {
   "cell_type": "code",
   "execution_count": null,
   "id": "4acd53fc-b40a-4635-8209-cf81456d77c9",
   "metadata": {},
   "outputs": [],
   "source": [
    "roman_numerals.get('V')"
   ]
  },
  {
   "cell_type": "markdown",
   "id": "fc397d38-f46c-427e-999b-dadde7be967c",
   "metadata": {},
   "source": [
    "<h2 style=\"direction:rtl;font-size: px;font-family: 'XB Zar';color:#0288d1;\">بررسی اینکه آیا دیکشنری حاوی کلید مشخصی است یا خیر</h2> <a id=''></a>"
   ]
  },
  {
   "cell_type": "markdown",
   "id": "40b14ebc-47d6-4511-9f72-e14847101acb",
   "metadata": {},
   "source": [
    "<div style=\"direction:rtl; font-size: 17px; font-family: 'XB Zar'; line-height: 200%\">برای بررسی وجود یک کلید در دیکشنری می‌توانید از عملگرهای \n",
    "    in\n",
    "    و \n",
    "    not in\n",
    "    استفاده کنید:\n",
    "</div>"
   ]
  },
  {
   "cell_type": "code",
   "execution_count": null,
   "id": "5438b3d0-b6ee-4d5a-a46a-800b960eeee5",
   "metadata": {},
   "outputs": [],
   "source": [
    "'V' in roman_numerals"
   ]
  },
  {
   "cell_type": "code",
   "execution_count": null,
   "id": "4b12682f-d997-44c9-bbaa-6b9633afcbd9",
   "metadata": {},
   "outputs": [],
   "source": [
    "'III' in roman_numerals"
   ]
  },
  {
   "cell_type": "code",
   "execution_count": null,
   "id": "5a4b6529-b8f6-4217-ab27-5d8e242e4ef5",
   "metadata": {},
   "outputs": [],
   "source": [
    "'III' not in roman_numerals"
   ]
  },
  {
   "cell_type": "markdown",
   "id": "c7b6aaf6-0011-48db-b087-dba2c5af5d8f",
   "metadata": {},
   "source": [
    "<h2 style=\"direction:rtl;font-size: 25px;font-family: 'XB Zar';color:#8e24aa;\">6.2.4 <span style=\"color:#8e24aa;\">متدهای \n",
    "    keys\n",
    "    و \n",
    "    values\n",
    "    در دیکشنری</span></h2> <a id='7'></a>"
   ]
  },
  {
   "cell_type": "markdown",
   "id": "c2367d58-4b7d-4918-90ba-b83c11d72b7d",
   "metadata": {},
   "source": [
    "<div style=\"direction:rtl; font-size: 17px; font-family: 'XB Zar'; line-height: 200%\">پیش از این، ما از متد \n",
    "     items\n",
    "    برای پیمایش تاپل‌های کلید-مقدار یک دیکشنری استفاده کردیم. به همین ترتیب با استفاده از متدهای \n",
    "     keys\n",
    "    و \n",
    "    values\n",
    "    می‌توان به ترتیب کلیدها و یا  مقادیر دیکشنری را پیمایش کرد:\n",
    "</div>"
   ]
  },
  {
   "cell_type": "code",
   "execution_count": null,
   "id": "d1ec0d38-6724-4bd5-8e8e-ac1a2d2cdd13",
   "metadata": {},
   "outputs": [],
   "source": [
    "months = {'January': 1, 'February': 2, 'March': 3}"
   ]
  },
  {
   "cell_type": "code",
   "execution_count": null,
   "id": "e27efe87-6eb2-499b-aef7-c726ac913399",
   "metadata": {},
   "outputs": [],
   "source": [
    "for month_name in months.keys():\n",
    "    print(month_name, end='  ')\n",
    "   "
   ]
  },
  {
   "cell_type": "code",
   "execution_count": null,
   "id": "2cf35a59-5d9d-44aa-9748-1bee4349a54d",
   "metadata": {},
   "outputs": [],
   "source": [
    "for month_number in months.values():\n",
    "    print(month_number, end='  ')"
   ]
  },
  {
   "cell_type": "markdown",
   "id": "ec1cdc56-30d2-4224-9f98-8d012e3e5f1b",
   "metadata": {},
   "source": [
    "<h2 style=\"direction:rtl;font-size: px;font-family: 'XB Zar';color:#0288d1;\">\n",
    "    view\n",
    "    های دیکشنری</h2> <a id=''></a>"
   ]
  },
  {
   "cell_type": "markdown",
   "id": "d5c36af1-631b-4160-89e8-d9d25bff1d00",
   "metadata": {},
   "source": [
    "<div style=\"direction:rtl; font-size: 17px; font-family: 'XB Zar'; line-height: 200%\">هر یک از متدهای دیکشنری نظیر \n",
    "    items, keys و values\n",
    "    یک \n",
    "    view\n",
    "    از داده‌های دیکشنری برمی‌گردانند. وقتی یک \n",
    "    view\n",
    "    را پیمایش می‌کنید، \n",
    "    view\n",
    "    داده‌های فعلی دیکشنری را می‌بیند و کپی اختصاصی از داده‌ها ندارد. برای نشان دادن این موضوع که \n",
    "    view\n",
    "    کپی اختصاصی از داده‌ها را ذخیره نمی‌کند، ابتدا \n",
    "    view\n",
    "    برگردانده شده توسط متد \n",
    "    keys\n",
    "    را در متغیر \n",
    "     months_view\n",
    "    ذخیره می‌کنیم و سپس این \n",
    "    view\n",
    "    را پیمایش می‌کنیم:\n",
    "</div>"
   ]
  },
  {
   "cell_type": "code",
   "execution_count": null,
   "id": "4ffec5bd-975c-4b12-82d9-6aa61319f85f",
   "metadata": {},
   "outputs": [],
   "source": [
    "months_view = months.keys()"
   ]
  },
  {
   "cell_type": "code",
   "execution_count": null,
   "id": "878b8b7f-3ac6-4eca-95ee-a99b65e81caa",
   "metadata": {},
   "outputs": [],
   "source": [
    "for key in months_view:\n",
    "    print(key, end='  ')\n",
    "    "
   ]
  },
  {
   "cell_type": "markdown",
   "id": "5f0ba785-819a-496e-86f9-9401b644f5d0",
   "metadata": {},
   "source": [
    "<div style=\"direction:rtl; font-size: 17px; font-family: 'XB Zar'; line-height: 200%\">در ادامه یک زوج کلید-مقدار را به دیکشنری \n",
    "    months\n",
    "    اضافه کرده و سپس دیکشنری به روز شده را نمایش می‌دهیم:\n",
    "</div>"
   ]
  },
  {
   "cell_type": "code",
   "execution_count": null,
   "id": "cd21047b-3ae5-4bee-af33-6d5bcdc795d5",
   "metadata": {},
   "outputs": [],
   "source": [
    "months['December'] = 12"
   ]
  },
  {
   "cell_type": "code",
   "execution_count": null,
   "id": "7245b02d-a721-4d9e-a2e6-6a41e0f82db4",
   "metadata": {},
   "outputs": [],
   "source": [
    "months"
   ]
  },
  {
   "cell_type": "markdown",
   "id": "35c0f556-f860-42f0-b251-498a6fb713d2",
   "metadata": {},
   "source": [
    "<div style=\"direction:rtl; font-size: 17px; font-family: 'XB Zar'; line-height: 200%\">اکنون دوباره \n",
    "    months_view\n",
    "    را پیمایش می‌کنیم. کلید اضافه شده در بالا نمایش داده می‌شود:\n",
    "</div>"
   ]
  },
  {
   "cell_type": "code",
   "execution_count": null,
   "id": "0df5ac89-af9e-4984-b816-1dd1a271d0dc",
   "metadata": {},
   "outputs": [],
   "source": [
    "for key in months_view:\n",
    "    print(key, end='  ')\n",
    "    "
   ]
  },
  {
   "cell_type": "markdown",
   "id": "95e119b1-e4f4-417d-b6da-1d23241d581d",
   "metadata": {},
   "source": [
    "<div style=\"direction:rtl; font-size: 17px; font-family: 'XB Zar'; line-height: 200%\">هنگام پیمایش \n",
    "    view\n",
    "    در دیکشنری تغییری اعمال نکنید. مطابق بخش \n",
    "    4.10.1\n",
    "    در\n",
    "    مستندات کتابخانه استاندارد پایتون، ممکن است با خطای \n",
    "    RuntimeError\n",
    "    مواجه شوید و یا ممکن است حلقه تمامی مقادیر \n",
    "    view\n",
    "    را پردازش نکند.\n",
    "</div>"
   ]
  },
  {
   "cell_type": "markdown",
   "id": "e5fd6a5c-4375-4324-8390-d96f69b62258",
   "metadata": {},
   "source": [
    "<h2 style=\"direction:rtl;font-size: px;font-family: 'XB Zar';color:#0288d1;\">\n",
    "تبدیل کلیدها، مقادیر و زوج‌های کلید-مقدار دیکشنری به لیست</h2> <a id=''></a>"
   ]
  },
  {
   "cell_type": "markdown",
   "id": "3c01aeaa-2a1e-4b6d-9672-0f971090da71",
   "metadata": {},
   "source": [
    "<div style=\"direction:rtl; font-size: 17px; font-family: 'XB Zar'; line-height: 200%\">گاهی اوقات ممکن است به لیست کلیدها، مقادیر یا زوج‌های کلید-مقدار یک دیکشنری نیاز داشته باشید. برای به دست آوردن چنین لیستی، باید\n",
    "    view\n",
    "    برگردانده شده توسط \n",
    "    keys, values یا items\n",
    "    را به تابع از پیش تعریف شده \n",
    "    list\n",
    "    ارسال کنید. تغییر دادن این لیست تغییری در دیکشنری مربوطه اعمال نخواهد کرد:\n",
    "</div>"
   ]
  },
  {
   "cell_type": "code",
   "execution_count": null,
   "id": "cc160686-a880-4877-bba2-1f527d1bbb27",
   "metadata": {},
   "outputs": [],
   "source": [
    "list(months.keys())"
   ]
  },
  {
   "cell_type": "code",
   "execution_count": null,
   "id": "4b032912-3573-43a3-8a9b-0b6029f14849",
   "metadata": {},
   "outputs": [],
   "source": [
    "list(months.values())"
   ]
  },
  {
   "cell_type": "code",
   "execution_count": null,
   "id": "a4ac5042-7cb8-4701-907d-230a8ec97df5",
   "metadata": {},
   "outputs": [],
   "source": [
    "list(months.items())"
   ]
  },
  {
   "cell_type": "markdown",
   "id": "f3341607-9d63-4d86-8ddf-2a39630496ed",
   "metadata": {},
   "source": [
    "<h2 style=\"direction:rtl;font-size: px;font-family: 'XB Zar';color:#0288d1;\">پردازش کلیدها به طور مرتب شده</h2> <a id=''></a>"
   ]
  },
  {
   "cell_type": "markdown",
   "id": "6e247e62-33a6-463b-aba0-4743687b3b2c",
   "metadata": {},
   "source": [
    "<div style=\"direction:rtl; font-size: 17px; font-family: 'XB Zar'; line-height: 200%\">برای پردازش کلیدها به طور مرتب شده، می‌توانید از تابع داخلی \n",
    "    sorted\n",
    "    به صورت زیر استفاده کنید:\n",
    "</div>"
   ]
  },
  {
   "cell_type": "code",
   "execution_count": null,
   "id": "05876fca-6c32-4492-887f-33ac633b02dc",
   "metadata": {},
   "outputs": [],
   "source": [
    "for month_name in sorted(months.keys()):\n",
    "     print(month_name, end='  ')"
   ]
  },
  {
   "cell_type": "markdown",
   "id": "17647c21-c806-4f40-9b06-1223a1fd3a5e",
   "metadata": {},
   "source": [
    "<h2 style=\"direction:rtl;font-size: 25px;font-family: 'XB Zar';color:#8e24aa;\">6.2.5 <span style=\"color:#8e24aa;\">مقایسه در دیکشنری</span></h2> <a id='8'></a>"
   ]
  },
  {
   "cell_type": "markdown",
   "id": "9ea4828d-2b2d-4ffb-bd7e-c5d9be8a764d",
   "metadata": {},
   "source": [
    "<div style=\"direction:rtl; font-size: 17px; font-family: 'XB Zar'; line-height: 200%\">برای بررسی یکی بودن و یا تفاوت محتویات دو دیکشنری می‌توان از عملگرهای مقایسه \n",
    "    ==\n",
    "    و \n",
    "    =!\n",
    "    استفاده کرد. عملگر \n",
    "    ==\n",
    "    در صورت یکی بودن تمامی زوج‌های کلید-مقدار و صرف نظر از ترتیب اضافه شدن این زوج‌ها به دیکشنری، \n",
    "    True\n",
    "    ارزیابی می‌شود:\n",
    "</div>"
   ]
  },
  {
   "cell_type": "code",
   "execution_count": null,
   "id": "671061c0-2f69-472f-97d4-796eef486fe6",
   "metadata": {},
   "outputs": [],
   "source": [
    "country_capitals1 = {'Belgium': 'Brussels',\n",
    "                     'Haiti': 'Port-au-Prince'}\n",
    "                        "
   ]
  },
  {
   "cell_type": "code",
   "execution_count": null,
   "id": "8078a5b7-6261-45bb-b7bd-5cc405c17114",
   "metadata": {},
   "outputs": [],
   "source": [
    "country_capitals2 = {'Nepal': 'Kathmandu',\n",
    "                     'Uruguay': 'Montevideo'}\n",
    "                        "
   ]
  },
  {
   "cell_type": "code",
   "execution_count": null,
   "id": "26aee350-7874-4d7b-96ba-6cadbf5c6c2a",
   "metadata": {},
   "outputs": [],
   "source": [
    "country_capitals3 = {'Haiti': 'Port-au-Prince',\n",
    "                     'Belgium': 'Brussels'}\n",
    "                        "
   ]
  },
  {
   "cell_type": "code",
   "execution_count": null,
   "id": "3ece5e1c-db2e-4bfc-8639-a5c1a5f3ba1b",
   "metadata": {},
   "outputs": [],
   "source": [
    "country_capitals1 == country_capitals2"
   ]
  },
  {
   "cell_type": "code",
   "execution_count": null,
   "id": "ffb7d287-29f0-4899-ad0a-99b9ac5f95c6",
   "metadata": {},
   "outputs": [],
   "source": [
    "country_capitals1 == country_capitals3"
   ]
  },
  {
   "cell_type": "code",
   "execution_count": null,
   "id": "47b2124b-b632-4e5e-90b3-e8482b0885f4",
   "metadata": {},
   "outputs": [],
   "source": [
    "country_capitals1 != country_capitals2"
   ]
  },
  {
   "cell_type": "markdown",
   "id": "2ce6f0e1-d396-4030-a7ac-baf33bc71ec8",
   "metadata": {},
   "source": [
    "<h2 style=\"direction:rtl;font-size: 25px;font-family: 'XB Zar';color:#8e24aa;\">6.2.6 <span style=\"color:#8e24aa;\">مثال: دیکشنری نمرات دانش‌آموزان</span></h2> <a id='9'></a>"
   ]
  },
  {
   "cell_type": "markdown",
   "id": "b68eef10-9d7f-4ebe-976a-89b673d84fad",
   "metadata": {},
   "source": [
    "<div style=\"direction:rtl; font-size: 17px; font-family: 'XB Zar'; line-height: 200%\">اسکریپت زیر دفترچه نمره یک مدرس را به عنوان یک دیکشنری نشان می‌دهد و نام هر دانش‌آموز (یک رشته) را به لیستی از اعداد صحیح حاوی نمرات آن دانش آموز در سه آزمون نگاشت می‌کند. در هر تکرار حلقه که داده‌ها را نشان می‌دهد (خطوط ۱۳ تا ۱۷)، یک زوج کلید-مقدار را در متغیرهای \n",
    "    name\n",
    "    و \n",
    "    grades\n",
    "    که به ترتیب حاوی نام یک دانش‌آموز و لیست مربوط به سه نمره آن دانش‌آموز است، تفکیک می‌کنیم. خط ۱۴ از تابع داخلی \n",
    "    sum\n",
    "    برای جمع کردن نمرات دانش‌آموز جاری استفاده می‌کند. خط ۱۵ معدل دانش‌آموز را با تقسیم \n",
    "    total\n",
    "    بر تعداد نمرات آن دانش‌آموز محاسبه و نمایش می‌دهد \n",
    "    (len(grades))\n",
    "    . خطوط ۱۶-۱۷ کل نمرات هر دانش‌آموز و تعداد نمرات آن‌ها را ذخیره می‌کنند. خط ۱۹ میانگین نمرات دانش‌آموزان را برای کل آزمون نمایش می‌دهد:\n",
    "</div>"
   ]
  },
  {
   "cell_type": "code",
   "execution_count": null,
   "id": "c5007bd0-5b31-4421-904b-26c7d267aca3",
   "metadata": {},
   "outputs": [],
   "source": [
    "# fig06_01.py\n",
    "\"\"\"Using a dictionary to represent an instructor's grade book.\"\"\"\n",
    "grade_book = {            \n",
    "    'Susan': [92, 85, 100], \n",
    "    'Eduardo': [83, 95, 79],\n",
    "    'Azizi': [91, 89, 82],  \n",
    "    'Pantipa': [97, 91, 92] \n",
    "}\n",
    "\n",
    "all_grades_total = 0\n",
    "all_grades_count = 0\n",
    "\n",
    "for name, grades in grade_book.items():\n",
    "    total = sum(grades)\n",
    "    print(f'Average for {name} is {total/len(grades):.2f}')\n",
    "    all_grades_total += total\n",
    "    all_grades_count += len(grades)\n",
    "    \n",
    "print(f\"Class's average is: {all_grades_total / all_grades_count:.2f}\")\n"
   ]
  },
  {
   "cell_type": "markdown",
   "id": "d6761c02-ad37-4add-952c-768429afcfbf",
   "metadata": {},
   "source": [
    "<h2 style=\"direction:rtl;font-size: 25px;font-family: 'XB Zar';color:#8e24aa;\">6.2.7 <span style=\"color:#8e24aa;\">مثال: شمارش کلمات</span></h2> <a id='10'></a>"
   ]
  },
  {
   "cell_type": "markdown",
   "id": "fed66565-021a-4aac-8b37-a0e8a47679d9",
   "metadata": {},
   "source": [
    "<div style=\"direction:rtl; font-size: 17px; font-family: 'XB Zar'; line-height: 200%\">روش‌هایی مانند شمارش دفعات تکرار کلمات، اغلب برای تجزیه و تحلیل آثار منتشر شده استفاده می‌شوند. به عنوان مثال، برخی معتقدند که آثار ویلیام شکسپیر در واقع ممکن است توسط سر فرانسیس بیکن، کریستوفر مارلو یا دیگران نوشته شده باشد. مقایسه دفعات تکرار کلمات آثار این افراد با آثار شکسپیر می‌تواند شباهت‌های سبک نوشتاری آن‌ها را آشکار کند. سایر تکنیک‌های تجزیه و تحلیل اسناد را در فصل پردازش زبان طبیعی \n",
    "    (NLP)\n",
    "    بررسی خواهیم کرد. \n",
    "</div>"
   ]
  },
  {
   "cell_type": "markdown",
   "id": "1a99131f-e5a1-42f9-b70f-ba95e49bafd9",
   "metadata": {},
   "source": [
    "<div style=\"direction:rtl; font-size: 17px; font-family: 'XB Zar'; line-height: 200%\">اسکریپت زیر یک دیکشنری را برای محاسبه دفعات تکرار هر کلمه در یک رشته ایجاد می‌کند. خطوط ۴-۵ رشته \n",
    "    text\n",
    "    را ایجاد می‌کند و با فرآیند توکن‌سازی یک رشته، کلمات را از هم تفکیک کرده و در \n",
    "    text\n",
    "    ذخیره می‌کند. پایتون به طور خودکار رشته‌هایی که با فضای خالی از هم جدا شده‌اند را درون پرانتز قرار می‌دهد. خط ۷ یک دیکشنری خالی ایجاد می‌کند. کلیدهای دیکشنری کلمات منحصربه فرد در \n",
    "    text\n",
    "    و مقادیر آن دفعات تکرار آن کلمه می‌باشند: \n",
    "</div>"
   ]
  },
  {
   "cell_type": "code",
   "execution_count": null,
   "id": "b1c22116-3ccf-45bb-94f1-ab9fa9424f59",
   "metadata": {},
   "outputs": [],
   "source": [
    "# fig06_02.py\n",
    "\"\"\"Tokenizing a string and counting unique words.\"\"\"\n",
    "\n",
    "text = ('this is sample text with several words ' \n",
    "        'this is more sample text with some different words')\n",
    "\n",
    "word_counts = {}\n",
    "\n",
    "# count occurrences of each unique word\n",
    "for word in text.split():\n",
    "    if word in word_counts: \n",
    "        word_counts[word] += 1  # update existing key-value pair\n",
    "    else:\n",
    "        word_counts[word] = 1  # insert new key-value pair\n",
    "\n",
    "print(f'{\"WORD\":<12}COUNT')\n",
    "\n",
    "for word, count in sorted(word_counts.items()):\n",
    "    print(f'{word:<12}{count}')\n",
    "\n",
    "print('\\nNumber of unique words:', len(word_counts))\n"
   ]
  },
  {
   "cell_type": "markdown",
   "id": "acfa39a2-6213-4a01-825b-ddae51385573",
   "metadata": {},
   "source": [
    "<div style=\"direction:rtl; font-size: 17px; font-family: 'XB Zar'; line-height: 200%\">خط ۱۰ با فراخوانی متد \n",
    "    split\n",
    "    از کلاس \n",
    "    String\n",
    "    متغیر \n",
    "    text\n",
    "    را به چند توکن تقسیم می‌کند، این متد کلمات را با استفاده از آرگومان جدا کننده رشته جدا می‌کند. اگر آرگومان جداکننده را مشخص نکنید، متد \n",
    "    split\n",
    "    به طور پیش‌فرض از کاراکتر \n",
    "    space\n",
    "    استفاده می‌کند. متد \n",
    "    split\n",
    "    لیستی از توکن‌ها را برمی‌گرداند (یعنی کلمات موجود در \n",
    "    text\n",
    "    ). خطوط ۱۰-۱۴ لیستی از کلمات را پیمایش می‌کند. خط ۱۱ به ازای هر \n",
    "    word\n",
    "    تعیین می‌کند که آیا این \n",
    "    word\n",
    "    (کلید) از قبل در دیکشنری وجود دارد یا خیر. اگر \n",
    "    word\n",
    "    در دیکشنری باشد، خط ۱۲ تعداد آن \n",
    "    word\n",
    "    را یک واحد افزایش می‌دهد. در غیر این صورت، خط ۱۴ یک زوج کلید-مقدار جدید برای آن \n",
    "    word\n",
    "    با تعداد اولیه ۱ در دیکشنری درج می‌کند.\n",
    "</div>"
   ]
  },
  {
   "cell_type": "markdown",
   "id": "d55ff4ca-e6c2-4805-86cb-c383ca6ad289",
   "metadata": {},
   "source": [
    "<div style=\"direction:rtl; font-size: 17px; font-family: 'XB Zar'; line-height: 200%\">خطوط ۱۶-۲۱ نتایج را در یک جدول دو ستونی شامل هر \n",
    "    word\n",
    "    و \n",
    "    count\n",
    "    مربوط به آن خلاصه می‌کند. دستور \n",
    "    for\n",
    "    در خطوط ۱۸ و ۱۹ زوج‌های کلید-مقدار موجود در دیکشنری را پیمایش می‌کند. دستور \n",
    "    for\n",
    "    هر زوج کلید-مقدار را در متغیرهای \n",
    "    word\n",
    "    و \n",
    "    count\n",
    "    ذخیره می‌کند و سپس آن‌ها را در دو ستون نمایش می‌دهد. خط ۲۱ تعداد کلمات منحصر به فرد را نشان می‌دهد.\n",
    "</div>"
   ]
  },
  {
   "cell_type": "markdown",
   "id": "e2237295-32a6-42f1-8c36-45896c2b71d8",
   "metadata": {},
   "source": [
    "<h2 style=\"direction:rtl;font-size: px;font-family: 'XB Zar';color:#0288d1;\">ماژول \n",
    "    collections\n",
    "    در کتابخانه استاندارد پایتون</h2> <a id=''></a>"
   ]
  },
  {
   "cell_type": "markdown",
   "id": "994a0544-0ada-41e1-9dcd-49430f771e72",
   "metadata": {},
   "source": [
    "<div style=\"direction:rtl; font-size: 17px; font-family: 'XB Zar'; line-height: 200%\">کتابخانه استاندارد پایتون دارای قابلیت شمارش است، به بیان دیگر کدی را که با استفاده از دیکشنری و حلقه تکرار در خطوط ۱۰-۱۴ پیاده سازی کردیم، با کمک این قابلیت قابل پیاده‌سازی است. ماژول \n",
    "    collections\n",
    "    نوع داده \n",
    "    Counter\n",
    "    دارد، \n",
    "    Counter\n",
    "    یک \n",
    "    iterable\n",
    "    را دریافت می‌کند و اعضای آن را خلاصه می‌کند. در این قسمت با استفاده از \n",
    "    Counter\n",
    "    اسکریپت قبلی را با کد کمتری پیاده‌سازی می‌کنیم: \n",
    "</div>"
   ]
  },
  {
   "cell_type": "code",
   "execution_count": null,
   "id": "e4a7f66e-c70b-4b35-9455-cacaa30750e7",
   "metadata": {},
   "outputs": [],
   "source": [
    "from collections import Counter"
   ]
  },
  {
   "cell_type": "code",
   "execution_count": null,
   "id": "c82c0ffa-a304-4c6c-ae9c-e190451754bb",
   "metadata": {},
   "outputs": [],
   "source": [
    "text = ('this is sample text with several words '\n",
    "        'this is more sample text with some different words')"
   ]
  },
  {
   "cell_type": "code",
   "execution_count": null,
   "id": "bfee89cd-d7d9-4a2a-be3f-8ae580056e04",
   "metadata": {},
   "outputs": [],
   "source": [
    "counter = Counter(text.split())"
   ]
  },
  {
   "cell_type": "code",
   "execution_count": null,
   "id": "077fcdc4-094f-4631-bd42-8269cac94fd8",
   "metadata": {},
   "outputs": [],
   "source": [
    "for word, count in sorted(counter.items()):\n",
    "    print(f'{word:<12}{count}')\n",
    "    "
   ]
  },
  {
   "cell_type": "code",
   "execution_count": null,
   "id": "fcc87760-9448-4195-8a1b-2dc3ecd825c0",
   "metadata": {},
   "outputs": [],
   "source": [
    "print('Number of unique keys:', len(counter.keys()))"
   ]
  },
  {
   "cell_type": "markdown",
   "id": "9cb84726-e99b-45a9-a5a5-f9956736d3a7",
   "metadata": {},
   "source": [
    "<div style=\"direction:rtl; font-size: 17px; font-family: 'XB Zar'; line-height: 200%\">اسنیپت [۳] \n",
    "    Counter\n",
    "    را ایجاد می‌کند و \n",
    "    Counter\n",
    "    لیست رشته‌های برگشتی توسط  \n",
    "    ()text.split\n",
    "    را خلاصه می‌کند. در اسنیپت [۴]، متد \n",
    "    items\n",
    "    از شیء \n",
    "    Counter\n",
    "    هر رشته و تعداد دفعات تکرار آن را به صورت تاپل برمی‌‌گرداند. برای به دست آوردن لیستی از این تاپل‌ها به ترتیب صعودی، از تابع داخلی \n",
    "    sorted\n",
    "    استفاده می‌کنیم. متد \n",
    "    sorted\n",
    "    به طور پیش‌فرض، تاپل‌ها را بر اساس اولین عضو آن‌ها مرتب می‌کند. اگر عضو اول برابر بود، عضو دوم بررسی می‌شود و الی آخر... دستور \n",
    "    for\n",
    "    در لیست مرتب شده به دست آمده پیمایش کرده و هر \n",
    "    word\n",
    "    و \n",
    "    count\n",
    "    را در دو ستون نمایش می‌دهد.\n",
    "</div>"
   ]
  },
  {
   "cell_type": "markdown",
   "id": "bd55a015-f1a6-4042-955d-82c638877303",
   "metadata": {},
   "source": [
    "<h2 style=\"direction:rtl;font-size: 25px;font-family: 'XB Zar';color:#8e24aa;\">6.2.8 <span style=\"color:#8e24aa;\">متد \n",
    "    update\n",
    "    در دیکشنری</span></h2> <a id='11'></a>"
   ]
  },
  {
   "cell_type": "markdown",
   "id": "24c34f79-30a9-4d71-8fe0-2e3507384a32",
   "metadata": {},
   "source": [
    "<div style=\"direction:rtl; font-size: 17px; font-family: 'XB Zar'; line-height: 200%\">با استفاده از متد \n",
    "    update\n",
    "    در دیکشنری، می‌توانید زوج‌های کلید-مقدار را در دیکشنری درج کنید و یا آن‌ها را تغییر دهید. در ابتدا یک دیکشنری خالی به نام\n",
    "    country_codes\n",
    "    ایجاد می‌کنیم:\n",
    "</div>"
   ]
  },
  {
   "cell_type": "code",
   "execution_count": null,
   "id": "3a2605b8-5361-4ab3-8f83-a993ec9ea160",
   "metadata": {},
   "outputs": [],
   "source": [
    "country_codes = {}"
   ]
  },
  {
   "cell_type": "markdown",
   "id": "60baf2e5-bef9-4c37-b186-ed75a87bfede",
   "metadata": {},
   "source": [
    "<div style=\"direction:rtl; font-size: 17px; font-family: 'XB Zar'; line-height: 200%\">فراخوانی متد \n",
    "    update\n",
    "    در کد ذیل یک زوج کلید-مقدار دریافت کرده و آن را در دیکشنری درج کرده و یا تغییر می‌دهد:\n",
    "</div>"
   ]
  },
  {
   "cell_type": "code",
   "execution_count": null,
   "id": "3e90f089-78dc-4c59-a712-9f528d83ad0f",
   "metadata": {},
   "outputs": [],
   "source": [
    "country_codes.update({'South Africa': 'za'})"
   ]
  },
  {
   "cell_type": "code",
   "execution_count": null,
   "id": "7d319712-8636-4d38-b438-2ebb18fe5f84",
   "metadata": {},
   "outputs": [],
   "source": [
    "country_codes"
   ]
  },
  {
   "cell_type": "markdown",
   "id": "95ebe584-d348-4056-8138-a6f1bb736b62",
   "metadata": {},
   "source": [
    "<div style=\"direction:rtl; font-size: 17px; font-family: 'XB Zar'; line-height: 200%\">متد \n",
    "    update\n",
    "    می‌تواند برای درج در دیکشنری آرگومان‌های کلیدی را به زوج‌های کلید-مقدار تبدیل کند. فراخوانی این متد در کد زیر به طور خودکار نام پارامتر \n",
    "    Australia\n",
    "    را به کلید رشته‌ای \n",
    "    'Australia'\n",
    "    تبدیل کرده و مقدار \n",
    "     'ar' \n",
    "    را به این کلید مرتبط می‌کند:\n",
    "</div>"
   ]
  },
  {
   "cell_type": "code",
   "execution_count": null,
   "id": "36135343-98a5-410d-8859-4cd2d3a9d46c",
   "metadata": {},
   "outputs": [],
   "source": [
    "country_codes.update(Australia='ar')"
   ]
  },
  {
   "cell_type": "code",
   "execution_count": null,
   "id": "fe2ffe3f-4eed-4d70-a7b0-c576ff184f74",
   "metadata": {},
   "outputs": [],
   "source": [
    "country_codes"
   ]
  },
  {
   "cell_type": "markdown",
   "id": "ae4baed1-3ec5-42e7-a2b3-f95756ad2f5f",
   "metadata": {},
   "source": [
    "<div style=\"direction:rtl; font-size: 17px; font-family: 'XB Zar'; line-height: 200%\">در اسنیپت [۴] برای \n",
    "    Australia\n",
    "    دامنه اینترنتی نادرست لحاظ شده است. این اشتباه را با استفاده از یک آرگومان کلیدی دیگر و تغییر مقدار مربوط به کلید \n",
    "    'Australia'\n",
    "    اصلاح می‌کنیم:\n",
    "</div>"
   ]
  },
  {
   "cell_type": "code",
   "execution_count": null,
   "id": "66d11465-2668-4b51-a9ea-ee30f8b0fbb2",
   "metadata": {},
   "outputs": [],
   "source": [
    "country_codes.update(Australia='au')"
   ]
  },
  {
   "cell_type": "code",
   "execution_count": null,
   "id": "b5e82498-b4ce-4d46-a46d-3a21f18739cd",
   "metadata": {},
   "outputs": [],
   "source": [
    "country_codes"
   ]
  },
  {
   "cell_type": "markdown",
   "id": "43fc004a-7c6e-4a5f-b9be-12cf845f7cc1",
   "metadata": {},
   "source": [
    "<div style=\"direction:rtl; font-size: 17px; font-family: 'XB Zar'; line-height: 200%\">متد \n",
    "    update\n",
    "    می‌تواند یک شیء نوع \n",
    "    iterable\n",
    "    که حاوی زوج‌های کلید-مقدار مانند لیستی از تاپل‌های دوعنصری را دریافت کند.\n",
    "</div>"
   ]
  },
  {
   "cell_type": "markdown",
   "id": "d6681675-a778-4b8e-b26e-a1d2e0e93ad3",
   "metadata": {},
   "source": [
    "<h2 style=\"direction:rtl;font-size: 25px;font-family: 'XB Zar';color:#8e24aa;\">6.2.9 <span style=\"color:#8e24aa;\">Dictionary comprehensions</span></h2> <a id='12'></a>"
   ]
  },
  {
   "cell_type": "markdown",
   "id": "9f0a78fc-af6b-4bc5-a06e-1028bebab6a3",
   "metadata": {},
   "source": [
    "<div style=\"direction:rtl; font-size: 17px; font-family: 'XB Zar'; line-height: 200%\">\n",
    "    Dictionary comprehension\n",
    "    یک روش سریع و مناسب برای ایجاد یک دیکشنری است و اغلب با نگاشت یک دیکشنری به دیکشنری دیگر انجام می‌‌شود. به عنوان مثال، در یک دیکشنری با مقادیر منحصر به فرد می‌توانید زوج‌های کلید-مقدار را معکوس کنید:\n",
    "</div>"
   ]
  },
  {
   "cell_type": "code",
   "execution_count": null,
   "id": "96c2df35-d3de-48c3-8c4f-439c82c22b0a",
   "metadata": {},
   "outputs": [],
   "source": [
    "months = {'January': 1, 'February': 2, 'March': 3}"
   ]
  },
  {
   "cell_type": "code",
   "execution_count": null,
   "id": "e5970c06-5d19-40c8-9025-2a1730a50f30",
   "metadata": {},
   "outputs": [],
   "source": [
    "months2 = {number: name for name, number in months.items()}"
   ]
  },
  {
   "cell_type": "code",
   "execution_count": null,
   "id": "6403aaa2-3e54-4e72-85a4-fc881b85bb2d",
   "metadata": {},
   "outputs": [],
   "source": [
    "months2"
   ]
  },
  {
   "cell_type": "markdown",
   "id": "8f7395d1-9b6d-40da-8e15-dc81c939a9b8",
   "metadata": {},
   "source": [
    "<div style=\"direction:rtl; font-size: 17px; font-family: 'XB Zar'; line-height: 200%\">آکولادها محدوده دستور \n",
    "    dictionary comprehension\n",
    "    را مشخص می‌کنند و عبارت سمت چپ \n",
    "    for\n",
    "    به شکل \n",
    "    key: value\n",
    "    یک زوج کلید-مقدار را مشخص می‌کند. این دستور با  \n",
    "    ()months.items\n",
    "    دیکشنری را پیمایش کرده و هر زوج کلید-مقدار را از هم تفکیک کرده و آن‌ها را در متغیرهای \n",
    "     name\n",
    "    و \n",
    "    number\n",
    "    ذخیره می‌کند. عبارت \n",
    "    number: name\n",
    "    کلید و مقدار را جابجا می‌کند و به همین دلیل دیکشنری جدید اعداد ماه را به نام ماه‌ها نگاشت می‌کند.\n",
    "</div>"
   ]
  },
  {
   "cell_type": "markdown",
   "id": "0ad79b9d-d783-4cdf-840a-9aa721e325ef",
   "metadata": {},
   "source": [
    "<div style=\"direction:rtl; font-size: 17px; font-family: 'XB Zar'; line-height: 200%\">اگر \n",
    "     months\n",
    "    حاوی مقادیر تکراری باشد، چه اتفاقی می‌افتد؟ از آنجایی که این مقادیر در دیکشنری \n",
    "    months2\n",
    "    به کلید تبدیل می‌شوند، تلاش برای درج کلید تکراری موجب به روز رسانی مقدار کلید موجود می‌شود. بنابراین اگر \n",
    "    'February'\n",
    "    و \n",
    "    'March'\n",
    "    از ابتدا به مقدار ۲ نگاشت می‌شدند، کد قبلی دیکشنری زیر را تولید می‌کرد:\n",
    "</div>"
   ]
  },
  {
   "cell_type": "markdown",
   "id": "7cfd820a-5331-4896-9a06-8c5eb1998427",
   "metadata": {},
   "source": [
    "```Python\n",
    "{1: 'January', 2: 'March'}\n",
    "```"
   ]
  },
  {
   "cell_type": "markdown",
   "id": "13c26cff-1a88-40e0-91a8-f64041ff0cef",
   "metadata": {},
   "source": [
    "<div style=\"direction:rtl; font-size: 17px; font-family: 'XB Zar'; line-height: 200%\">روش \n",
    "    dictionary comprehension\n",
    "    می‌تواند مقادیر دیکشنری را به مقادیر جدید نگاشت کند. کد زیر دیکشنری نام‌ها و لیست نمرات را به دیکشنری نام‌ها و میانگین نمرات نگاشت می‌کند. متغیرهای \n",
    "    k\n",
    "    و \n",
    "    v\n",
    "    معمولا به معنی کلید و مقدار هستند:\n",
    "</div>"
   ]
  },
  {
   "cell_type": "code",
   "execution_count": null,
   "id": "70e4ec1d-1bc1-49f8-8d54-75687976f79f",
   "metadata": {},
   "outputs": [],
   "source": [
    "grades = {'Sue': [98, 87, 94], 'Bob': [84, 95, 91]}"
   ]
  },
  {
   "cell_type": "code",
   "execution_count": null,
   "id": "8b080875-18b7-4284-b599-73723ab4cad9",
   "metadata": {},
   "outputs": [],
   "source": [
    "grades2 = {k: sum(v) / len(v) for k, v in grades.items()}"
   ]
  },
  {
   "cell_type": "code",
   "execution_count": null,
   "id": "baf01464-1481-493b-9cde-319e266581f4",
   "metadata": {},
   "outputs": [],
   "source": [
    "grades2"
   ]
  },
  {
   "cell_type": "markdown",
   "id": "2e792156-8753-439f-b4e6-8b2bc8cce7a7",
   "metadata": {},
   "source": [
    "<div style=\"direction:rtl; font-size: 17px; font-family: 'XB Zar'; line-height: 200%\">این کد تاپل برگردانده شده از \n",
    "    ()grades.items\n",
    "    را از حالت فشرده خارج کرده و در متغیرهای \n",
    "     k\n",
    "    (نام) و \n",
    "     v\n",
    "    (لیست نمرات) ذخیره می‌کند. در ادامه این کد یک زوج کلید-مقدار جدید ایجاد می‌کند. مقدار \n",
    "    k\n",
    "    کلید بوده و مقدار مربوط به کلید با رابطه \n",
    "    sum(v) / len(v)\n",
    "    مشخص می‌شود که میانگین عناصر لیست را نشان می‌دهد.\n",
    "</div>"
   ]
  },
  {
   "cell_type": "markdown",
   "id": "90baacbe-af84-48e2-a106-b99e9d9a7168",
   "metadata": {},
   "source": [
    "<h1 style=\"direction:rtl;font-size: 35px;font-family: 'XB Zar';color:#8e24aa;\">6.3 <span style=\"color:#F50057;\">مجموعه‌ها</span></h1> <a id='13'></a>"
   ]
  },
  {
   "cell_type": "markdown",
   "id": "e721094c-86d7-459a-a10b-3489e40d4af0",
   "metadata": {},
   "source": [
    "<div style=\"direction:rtl; font-size: 17px; font-family: 'XB Zar'; line-height: 200%\">مجموعه کالکشنی مرتب نشده از مقادیر منحصر به فرد می‌باشد. مجموعه‌ها فقط شامل اشیای تغییرناپذیر هستند. برای مثال رشته‌ها، اعداد صحیح، اعداد اعشاری و تاپل‌هایی که فقط از اعضای غیر قابل تغییر تشکیل شده‌اند، مثال‌هایی از این دست محسوب می‌شوند. اگرچه مجموعه‌ها\n",
    "    iterable\n",
    "    هستند، اما دنباله محسوب نمی‌شوند و از اندیس و \n",
    "    slicing\n",
    "    با عملگر \n",
    "     []\n",
    "    پشتیبانی نمی‌کنند. دیکشنری‌ها نیز از \n",
    "    slicing\n",
    "    پشتیبانی نمی‌کنند.\n",
    "</div>"
   ]
  },
  {
   "cell_type": "markdown",
   "id": "822215f8-25ee-4454-ab53-e3aed83d8bc7",
   "metadata": {},
   "source": [
    "<h2 style=\"direction:rtl;font-size: px;font-family: 'XB Zar';color:#0288d1;\">ایجاد مجموعه‌ها با آکولاد</h2> <a id=''></a>"
   ]
  },
  {
   "cell_type": "markdown",
   "id": "59e2527e-9e8c-4a05-aa93-d4fc209526d2",
   "metadata": {},
   "source": [
    "<div style=\"direction:rtl; font-size: 17px; font-family: 'XB Zar'; line-height: 200%\">کد زیر، مجموعه‌ای از رشته‌ها با نام \n",
    "    colors\n",
    "    را ایجاد می‌کند:\n",
    "</div>"
   ]
  },
  {
   "cell_type": "code",
   "execution_count": null,
   "id": "a02dbd06-1bcd-413a-9870-3705bdfe1773",
   "metadata": {},
   "outputs": [],
   "source": [
    "colors = {'red', 'orange', 'yellow', 'green', 'red', 'blue'}"
   ]
  },
  {
   "cell_type": "code",
   "execution_count": null,
   "id": "5cc6d8ea-0d2a-48e9-a25b-1171d26f564e",
   "metadata": {},
   "outputs": [],
   "source": [
    "colors"
   ]
  },
  {
   "cell_type": "markdown",
   "id": "77f30c74-014a-41c1-83df-a0b91004fd50",
   "metadata": {},
   "source": [
    "<div style=\"direction:rtl; font-size: 17px; font-family: 'XB Zar'; line-height: 200%\">توجه داشته باشید که رشته تکراری \n",
    "    'red'\n",
    "    نادیده گرفته شده است (بدون ایجاد خطا). یک استفاده مهم از مجموعه‌ها برای از بین بردن داده‌های تکراری است و این فرایند هنگام ایجاد یک مجموعه به طور خودکار انجام می‌گیرد. مطابق اسنیپت [۱] اعضای مجموعه با ترتیبی که لیست شده‌اند، نمایش داده نمی‌شوند. اگرچه نام‌های رنگی به ترتیب نمایش داده می‌شوند، ولی مجموعه‌ها نامرتب هستند. شما نباید کدی بنویسید که به ترتیب عناصر بستگی داشته باشد.\n",
    "</div>"
   ]
  },
  {
   "cell_type": "markdown",
   "id": "7a062fdf-2d12-4af4-8d8f-f45513aa9e4d",
   "metadata": {},
   "source": [
    "<h2 style=\"direction:rtl;font-size: px;font-family: 'XB Zar';color:#0288d1;\">مشخص کردن تعداد اعضای مجموعه</h2> <a id=''></a>"
   ]
  },
  {
   "cell_type": "markdown",
   "id": "7fd8c78e-a2b5-4b5f-93e4-1f9cb051db92",
   "metadata": {},
   "source": [
    "<div style=\"direction:rtl; font-size: 17px; font-family: 'XB Zar'; line-height: 200%\">با تابع از پیش تعریف شده \n",
    "len\n",
    "می‌توانید تعداد اعضای یک مجموعه را تعیین کنید:\n",
    "</div>"
   ]
  },
  {
   "cell_type": "markdown",
   "id": "49093db6-3a30-4f35-93e5-5fb9f585876d",
   "metadata": {},
   "source": [
    "len(colors)"
   ]
  },
  {
   "cell_type": "markdown",
   "id": "f00a542a-ecaa-47f8-9465-35d7e1246c95",
   "metadata": {},
   "source": [
    "<h2 style=\"direction:rtl;font-size: px;font-family: 'XB Zar';color:#0288d1;\">بررسی وجود یک مقدار در مجموعه</h2> <a id=''></a>"
   ]
  },
  {
   "cell_type": "markdown",
   "id": "d1a26db6-1041-491e-8f75-40ac145267e5",
   "metadata": {},
   "source": [
    "<div style=\"direction:rtl; font-size: 17px; font-family: 'XB Zar'; line-height: 200%\">با استفاده از عملگرهای \n",
    "    in\n",
    "    و \n",
    "    not in\n",
    "    می‌توانید وجود یک مقدار در مجموعه را بررسی کنید:\n",
    "</div>"
   ]
  },
  {
   "cell_type": "code",
   "execution_count": null,
   "id": "e7ab9afa-8d04-4198-871e-75d3e84e4912",
   "metadata": {},
   "outputs": [],
   "source": [
    "'red' in colors"
   ]
  },
  {
   "cell_type": "code",
   "execution_count": null,
   "id": "742c9f97-1a3d-4aa9-b4a8-0c537d74f484",
   "metadata": {},
   "outputs": [],
   "source": [
    "'purple' in colors"
   ]
  },
  {
   "cell_type": "code",
   "execution_count": null,
   "id": "14ce499c-073c-4b3d-808e-76933470ae4a",
   "metadata": {},
   "outputs": [],
   "source": [
    "'purple' not in colors"
   ]
  },
  {
   "cell_type": "markdown",
   "id": "820b9141-b9eb-4e21-83ec-4fd7f6819f1c",
   "metadata": {},
   "source": [
    "<h2 style=\"direction:rtl;font-size: px;font-family: 'XB Zar';color:#0288d1;\">پیمایش یک مجموعه</h2> <a id=''></a>"
   ]
  },
  {
   "cell_type": "markdown",
   "id": "f9721cbc-8884-4942-8898-2d021a34709d",
   "metadata": {},
   "source": [
    "<div style=\"direction:rtl; font-size: 17px; font-family: 'XB Zar'; line-height: 200%\">مجموعه‌ها از نوع \n",
    "    iterable\n",
    "    هستند و به همین دلیل می‌توانید هر یک از اعضای مجموعه را با حلقه \n",
    "    for\n",
    "    پردازش کنید:\n",
    "</div>"
   ]
  },
  {
   "cell_type": "code",
   "execution_count": null,
   "id": "c85dddfd-3d84-4f2f-b18f-d9437173f1f8",
   "metadata": {},
   "outputs": [],
   "source": [
    "for color in colors:\n",
    "    print(color.upper(), end=' ')\n",
    "    "
   ]
  },
  {
   "cell_type": "markdown",
   "id": "6e58ccdb-3f6c-4820-b8d1-60aa2d315384",
   "metadata": {},
   "source": [
    "<div style=\"direction:rtl; font-size: 17px; font-family: 'XB Zar'; line-height: 200%\">مجموعه‌ها مرتب نیستند، بنابراین ترتیب پیمایش آنها هیچ اهمیتی ندارد.\n",
    "</div>"
   ]
  },
  {
   "cell_type": "markdown",
   "id": "a2129371-2c8e-40d7-b9a6-6ced5c5a8171",
   "metadata": {},
   "source": [
    "<h2 style=\"direction:rtl;font-size: px;font-family: 'XB Zar';color:#0288d1;\">ایجاد یک مجموعه با تابع داخلی \n",
    "    set\n",
    "</h2> <a id=''></a>"
   ]
  },
  {
   "cell_type": "markdown",
   "id": "95e44df1-2ccd-43e1-99d4-f2476a9e171e",
   "metadata": {},
   "source": [
    "<div style=\"direction:rtl; font-size: 17px; font-family: 'XB Zar'; line-height: 200%\">با استفاده از تابع داخلی \n",
    "    set\n",
    "    می‌توانید یک مجموعه‌ از کالکشنی با سایر مقادیر ایجاد کنید. در اینجا لیستی از اعداد صحیح ایجاد می‌کنیم که بعضی از اعضای آنها تکراری هستند و از این لیست به عنوان آرگومان تابع \n",
    "    set\n",
    "    استفاده خواهیم کرد:\n",
    "</div>"
   ]
  },
  {
   "cell_type": "code",
   "execution_count": null,
   "id": "c5590065-ca93-41fc-a86f-07160d385f06",
   "metadata": {},
   "outputs": [],
   "source": [
    "numbers = list(range(10)) + list(range(5))"
   ]
  },
  {
   "cell_type": "code",
   "execution_count": null,
   "id": "8a7924ef-dd98-4220-b992-8f81c69d41fc",
   "metadata": {},
   "outputs": [],
   "source": [
    "numbers"
   ]
  },
  {
   "cell_type": "code",
   "execution_count": null,
   "id": "04ebe8fe-9885-4634-9d20-4cfed271d389",
   "metadata": {},
   "outputs": [],
   "source": [
    "set(numbers)"
   ]
  },
  {
   "cell_type": "markdown",
   "id": "cb8a80d8-bd5c-44ce-8f0f-5a070460b0cb",
   "metadata": {},
   "source": [
    "<div style=\"direction:rtl; font-size: 17px; font-family: 'XB Zar'; line-height: 200%\">برای ایجاد یک مجموعه تهی باید از تابع \n",
    "    set\n",
    "    به همراه پرانتزهای خالی استفاده کنید. برای این کار از آکولادهای خالی استفاده نکنید، نماد \n",
    "    {}\n",
    "    یک دیکشنری خالی را نشان می‌دهد:\n",
    "</div>"
   ]
  },
  {
   "cell_type": "code",
   "execution_count": null,
   "id": "1e53b61c-a4fc-4956-966a-1adc8c4e6714",
   "metadata": {},
   "outputs": [],
   "source": [
    "set()"
   ]
  },
  {
   "cell_type": "markdown",
   "id": "d109008b-6deb-4276-ac80-e4fc40b53d26",
   "metadata": {},
   "source": [
    "<div style=\"direction:rtl; font-size: 17px; font-family: 'XB Zar'; line-height: 200%\">پایتون برای نمایش مجموعه تهی از  \n",
    "    ()set\n",
    "    استفاده می‌کند تا با  \n",
    "    {}\n",
    "    که معرف یک دیکشنری خالی است اشتباه نشود.\n",
    "</div>"
   ]
  },
  {
   "cell_type": "markdown",
   "id": "bb37884c-93ae-42d3-ae62-f1d076972d66",
   "metadata": {},
   "source": [
    "<h2 style=\"direction:rtl;font-size: px;font-family: 'XB Zar';color:#0288d1;\">\n",
    "    Frozenset\n",
    "    : مجموعه غیرقابل تغییر\n",
    "</h2> <a id=''></a>"
   ]
  },
  {
   "cell_type": "markdown",
   "id": "dd8b9656-3809-4adb-9e0e-fc46b3d9412e",
   "metadata": {},
   "source": [
    "<div style=\"direction:rtl; font-size: 17px; font-family: 'XB Zar'; line-height: 200%\">مجموعه‌ها قابل تغییر هستند و به همین دلیل می‌توانید عناصری را به آن اضافه کنید و یا از آن حذف کنید، اما عناصر مجموعه باید غیرقابل تغییر باشند. بنابراین یک مجموعه نمی‌تواند مجموعه‌های دیگری را به عنوان عضو داشته باشد. \n",
    "    frozenset\n",
    "    مجموعه‌ای غیرقابل تغییر است و پس از ایجاد نمی‌توان آن را تغییر داد، بنابراین یک مجموعه می‌تواند حاوی عناصر \n",
    "    frozenset\n",
    "    باشد. تابع داخلی \n",
    "    frozenset\n",
    "    باعث ایجاد \n",
    "    frozenset\n",
    "    از هر نوع داده \n",
    "    iterable\n",
    "    می‌شود.\n",
    "</div>"
   ]
  },
  {
   "cell_type": "markdown",
   "id": "d281cfcf-db62-4329-bf6c-9b05b5b79914",
   "metadata": {},
   "source": [
    "<h2 style=\"direction:rtl;font-size: 25px;font-family: 'XB Zar';color:#8e24aa;\">6.3.1 <span style=\"color:#8e24aa;\">مقایسه مجموعه‌ها</span></h2> <a id='14'></a>"
   ]
  },
  {
   "cell_type": "markdown",
   "id": "cbb1752a-d199-4253-91d9-70bdf12a8671",
   "metadata": {},
   "source": [
    "<div style=\"direction:rtl; font-size: 17px; font-family: 'XB Zar'; line-height: 200%\">برای مقایسه مجموعه‌ها از عملگرهای مختلفی می‌توان استفاده کرد. دو مجموعه زیر دارای اعضای یکسانی هستند و به همین دلیل عملگر \n",
    "     ==\n",
    "    مقدار \n",
    "    True\n",
    "    و عملگر \n",
    "     =!\n",
    "    مقدار \n",
    "    False\n",
    "    را برمی‌گرداند:\n",
    "</div>"
   ]
  },
  {
   "cell_type": "code",
   "execution_count": null,
   "id": "c8fbbd56-c18b-4b5e-8141-cd091f575aa4",
   "metadata": {},
   "outputs": [],
   "source": [
    "{1, 3, 5} == {3, 5, 1}"
   ]
  },
  {
   "cell_type": "code",
   "execution_count": null,
   "id": "7da63251-1891-471d-a083-7572f32ea3f9",
   "metadata": {},
   "outputs": [],
   "source": [
    "{1, 3, 5} != {3, 5, 1}"
   ]
  },
  {
   "cell_type": "markdown",
   "id": "82ec297c-2471-408c-9eed-63b66e47294c",
   "metadata": {},
   "source": [
    "<div style=\"direction:rtl; font-size: 17px; font-family: 'XB Zar'; line-height: 200%\">عملگر > بررسی می‌کند که آیا مجموعه سمت چپ آن، زیرمجموعه محض عملوند سمت راست آن است و یا خیر. در این عملگر، زیر مجموعه محض یک مجموعه، مجموعه‌ای است که تمامی اعضای آن در مجموعه اصلی وجود داشته باشند و با خود آن مجموعه برابر نباشد:\n",
    "</div>"
   ]
  },
  {
   "cell_type": "code",
   "execution_count": null,
   "id": "a4b45c05-0259-456a-9eae-72ea6639cc31",
   "metadata": {},
   "outputs": [],
   "source": [
    "{1, 3, 5} < {3, 5, 1}"
   ]
  },
  {
   "cell_type": "code",
   "execution_count": null,
   "id": "18231bb3-021d-4172-8c6f-ed78ddba1a28",
   "metadata": {},
   "outputs": [],
   "source": [
    "{1, 3, 5} < {7, 3, 5, 1}"
   ]
  },
  {
   "cell_type": "markdown",
   "id": "c241ff57-47e9-40d8-949e-e0f76d465870",
   "metadata": {},
   "source": [
    "<div style=\"direction:rtl; font-size: 17px; font-family: 'XB Zar'; line-height: 200%\">عملگر => بررسی می‌کند که آیا مجموعه سمت چپ آن، زیرمجموعه غیر محض عملوند سمت راست آن است و یا خیر. در این عملگر، زیرمجموعه غیر محض یک مجموعه، مجموعه‌ای است که تمامی اعضای آن در مجموعه اصلی وجود داشته باشند و می‌تواند با آن برابر باشد:\n",
    "</div>"
   ]
  },
  {
   "cell_type": "code",
   "execution_count": null,
   "id": "7d9e2615-e4ee-4004-83bd-637a648fbf06",
   "metadata": {},
   "outputs": [],
   "source": [
    "{1, 3, 5} <= {3, 5, 1}"
   ]
  },
  {
   "cell_type": "code",
   "execution_count": null,
   "id": "76d27a8f-6026-4f27-b3cb-7a223df288be",
   "metadata": {},
   "outputs": [],
   "source": [
    "{1, 3} <= {3, 5, 1}"
   ]
  },
  {
   "cell_type": "markdown",
   "id": "58f8fa19-a5d8-415b-8e15-fb640fd7c323",
   "metadata": {},
   "source": [
    "<div style=\"direction:rtl; font-size: 17px; font-family: 'XB Zar'; line-height: 200%\">همچنین می‌توانید زیرمجموعه غیرمحض را با \n",
    "    issubset\n",
    "    بررسی کنید:\n",
    "</div>"
   ]
  },
  {
   "cell_type": "code",
   "execution_count": null,
   "id": "fff67d81-92ea-4bd5-851a-5ae7e439d9a3",
   "metadata": {},
   "outputs": [],
   "source": [
    "{1, 3, 5}.issubset({3, 5, 1})"
   ]
  },
  {
   "cell_type": "code",
   "execution_count": null,
   "id": "0a63a084-877a-45e1-aeae-30ac540ce6f5",
   "metadata": {},
   "outputs": [],
   "source": [
    "{1, 2}.issubset({3, 5, 1})"
   ]
  },
  {
   "cell_type": "markdown",
   "id": "79750d83-f350-446b-83dc-c1c9f1e03661",
   "metadata": {},
   "source": [
    "<div style=\"direction:rtl; font-size: 17px; font-family: 'XB Zar'; line-height: 200%\">عملگر < بررسی می‌کند که آیا مجموعه سمت چپ آن، ابرمجموعه محض عملوند سمت راست آن است و یا خیر- یعنی تمام عناصر در عملوند سمت راست در عملوند سمت چپ قرار دارند و عملوند سمت چپ دارای عناصر بیش‌تری است.\n",
    "</div>"
   ]
  },
  {
   "cell_type": "code",
   "execution_count": null,
   "id": "450019d7-2f9a-4c77-a4e5-a6317c4d9fb8",
   "metadata": {},
   "outputs": [],
   "source": [
    "{1, 3, 5} > {3, 5, 1}"
   ]
  },
  {
   "cell_type": "code",
   "execution_count": null,
   "id": "74cb022b-4252-4699-aa00-966eaabaae98",
   "metadata": {},
   "outputs": [],
   "source": [
    "{1, 3, 5, 7} > {3, 5, 1}"
   ]
  },
  {
   "cell_type": "markdown",
   "id": "23038c7e-a7ca-42a0-b7e8-4670e91013c4",
   "metadata": {},
   "source": [
    "<div style=\"direction:rtl; font-size: 17px; font-family: 'XB Zar'; line-height: 200%\">عملگر =< بررسی می‌کند که آیا مجموعه سمت چپ آن ابرمجموعه غیرمحض عملوند سمت راست آن است و یا خیر. در این عملگر، ابرمجموعه غیرمحض یک مجموعه، مجموعه‌ای است که تمامی اعضای آن در مجموعه اصلی وجود داشته باشند و می‌توانند با آن برابر باشد:\n",
    "</div>"
   ]
  },
  {
   "cell_type": "code",
   "execution_count": null,
   "id": "7b94ffcd-ccf1-431d-b542-455ac22e02ff",
   "metadata": {},
   "outputs": [],
   "source": [
    "{1, 3, 5} >= {3, 5, 1}"
   ]
  },
  {
   "cell_type": "code",
   "execution_count": null,
   "id": "3966789b-475a-4747-808d-ab91356bcc76",
   "metadata": {},
   "outputs": [],
   "source": [
    "{1, 3, 5} >= {3, 1}"
   ]
  },
  {
   "cell_type": "code",
   "execution_count": null,
   "id": "cd27d919-176a-4645-96ca-97bd8fe40ffb",
   "metadata": {},
   "outputs": [],
   "source": [
    "{1, 3} >= {3, 1, 7}"
   ]
  },
  {
   "cell_type": "markdown",
   "id": "63423fe6-b268-49f8-bb7c-36d84b862e77",
   "metadata": {},
   "source": [
    "<div style=\"direction:rtl; font-size: 17px; font-family: 'XB Zar'; line-height: 200%\">با استفاده از متد \n",
    "    issuperset\n",
    "    در \n",
    "    set\n",
    "    می‌توانید ابرمجموعه بودن غیرمحض را بررسی کنید:\n",
    "</div>"
   ]
  },
  {
   "cell_type": "code",
   "execution_count": null,
   "id": "de380fb0-f906-4121-b95d-40076030fe9b",
   "metadata": {},
   "outputs": [],
   "source": [
    "{1, 3, 5}.issuperset({3, 5, 1})"
   ]
  },
  {
   "cell_type": "code",
   "execution_count": null,
   "id": "4278710b-e290-447e-93ae-f952dca64ab0",
   "metadata": {},
   "outputs": [],
   "source": [
    "{1, 3, 5}.issuperset({3, 2})"
   ]
  },
  {
   "cell_type": "markdown",
   "id": "65557e3e-ad85-4a43-893a-f58fab0a99fa",
   "metadata": {},
   "source": [
    "<div style=\"direction:rtl; font-size: 17px; font-family: 'XB Zar'; line-height: 200%\">آرگومان متدهای \n",
    "    issubset\n",
    "    یا \n",
    "     issuperset\n",
    "    می‌تواند هر نوع داده \n",
    "    iterable\n",
    "    باشد. هنگامی که هر یک از این متدها یک آرگومان \n",
    "    iterable\n",
    "    و غیرمجموعه‌ای دریافت کند، ابتدا آن را به یک مجموعه تبدیل کرده و سپس عملیات مربوطه را انجام می‌دهد.\n",
    "</div>"
   ]
  },
  {
   "cell_type": "markdown",
   "id": "a56d897b-4fac-4740-81c7-7840130981b5",
   "metadata": {},
   "source": [
    "<h2 style=\"direction:rtl;font-size: 25px;font-family: 'XB Zar';color:#8e24aa;\">6.3.2 <span style=\"color:#8e24aa;\">عملیات ریاضی مجموعه‌ها</span></h2> <a id='15'></a>"
   ]
  },
  {
   "cell_type": "markdown",
   "id": "cbb208f2-9376-4f68-a386-76b80769efe1",
   "metadata": {},
   "source": [
    "<div style=\"direction:rtl; font-size: 17px; font-family: 'XB Zar'; line-height: 200%\">در این قسمت عملگرهای ریاضی مجموعه‌ها شامل \n",
    "     |, &, - و ^\n",
    "    و متدهای مربوطه را بررسی خواهیم کرد.\n",
    "</div>"
   ]
  },
  {
   "cell_type": "markdown",
   "id": "031d3647-86cf-41ac-aa46-700acc20f5d0",
   "metadata": {},
   "source": [
    "<h2 style=\"direction:rtl;font-size: px;font-family: 'XB Zar';color:#0288d1;\">اجتماع</h2> <a id=''></a>"
   ]
  },
  {
   "cell_type": "markdown",
   "id": "f7ef2b38-e619-4562-ab24-8c9ed7c1b915",
   "metadata": {},
   "source": [
    "<div style=\"direction:rtl; font-size: 17px; font-family: 'XB Zar'; line-height: 200%\">اجتماع دو مجموعه، مجموعه‌ای است که اعضای آن از اعضای منحصر به فرد دو مجموعه تشکیل شده است. برای محاسبه اجتماع می‌توانید از عملگر | و یا متد \n",
    "    union\n",
    "    در \n",
    "    set\n",
    "    استفاده کنید:\n",
    "</div>"
   ]
  },
  {
   "cell_type": "code",
   "execution_count": null,
   "id": "34e54627-c6ce-4415-b589-3a0ca7a51758",
   "metadata": {},
   "outputs": [],
   "source": [
    "{1, 3, 5} | {2, 3, 4}"
   ]
  },
  {
   "cell_type": "code",
   "execution_count": null,
   "id": "10154615-ee62-44fb-8ba6-9f943fa32736",
   "metadata": {},
   "outputs": [],
   "source": [
    "{1, 3, 5}.union([20, 20, 3, 40, 40])"
   ]
  },
  {
   "cell_type": "markdown",
   "id": "bff60252-9f35-49bb-a3e7-7ea411576587",
   "metadata": {},
   "source": [
    "<div style=\"direction:rtl; font-size: 17px; font-family: 'XB Zar'; line-height: 200%\">عملوندهای عملگرهای دودویی مجموعه، مانند | باید از جنس مجموعه باشند. متدهای مجموعه ممکن است هر شیء \n",
    "    iterable\n",
    "    را به عنوان آرگومان دریافت کنند، برای مثال در کد بالا یک لیست را به متد ارسال کرده‌ایم. هنگامی که یک متد ریاضی مجموعه، آرگومانی \n",
    "    iterable\n",
    "    دریافت کند و این آرگومان از جنس مجموعه نباشد، ابتدا آن را به یک مجموعه تبدیل می‌کند و سپس عملیات ریاضی را انجام می‌دهد. بازهم یادآور می‌شویم، اگرچه نمایش رشته‌ای مجموعه‌های جدید مقادیر را به ترتیب صعودی نشان می‌دهند ولی شما نباید کدی بنویسید که به این موضوع بستگی داشته باشد.\n",
    "</div>"
   ]
  },
  {
   "cell_type": "markdown",
   "id": "254a836b-7e8b-4d69-b71c-9f607efebaea",
   "metadata": {},
   "source": [
    "<h2 style=\"direction:rtl;font-size: px;font-family: 'XB Zar';color:#0288d1;\">اشتراک</h2> <a id=''></a>"
   ]
  },
  {
   "cell_type": "markdown",
   "id": "a12a8990-56cd-408f-b07a-4b6362bb62c7",
   "metadata": {},
   "source": [
    "<div style=\"direction:rtl; font-size: 17px; font-family: 'XB Zar'; line-height: 200%\">اشتراک دو مجموعه، مجموعه‌ای است که اعضای آن از اعضای منحصر به فرد مشترک دو مجموعه تشکیل شده است. برای محاسبه اشتراک می‌توانید از عملگر \n",
    "    &\n",
    "    و یا متد \n",
    "    intersection\n",
    "    در \n",
    "    set\n",
    "    استفاده کنید:\n",
    "</div>"
   ]
  },
  {
   "cell_type": "code",
   "execution_count": null,
   "id": "1fe2ec4b-f4e8-4c2e-9331-075b0c6600d3",
   "metadata": {},
   "outputs": [],
   "source": [
    "{1, 3, 5} & {2, 3, 4}"
   ]
  },
  {
   "cell_type": "code",
   "execution_count": null,
   "id": "a496adeb-e3f3-4564-bc39-9031d25077c1",
   "metadata": {},
   "outputs": [],
   "source": [
    "{1, 3, 5}.intersection([1, 2, 2, 3, 3, 4, 4])"
   ]
  },
  {
   "cell_type": "markdown",
   "id": "11b56453-aeff-48d7-8bdb-ecb46aa39959",
   "metadata": {},
   "source": [
    "<h2 style=\"direction:rtl;font-size: px;font-family: 'XB Zar';color:#0288d1;\">تفاضل</h2> <a id=''></a>"
   ]
  },
  {
   "cell_type": "markdown",
   "id": "96b41a10-9d59-475d-ad6d-6a2c27611075",
   "metadata": {},
   "source": [
    "<div style=\"direction:rtl; font-size: 17px; font-family: 'XB Zar'; line-height: 200%\">تفاضل دو مجموعه، مجموعه‌ای است که اعضای آن از اعضای مجموعه سمت چپ که در مجموعه سمت راست قرار ندارند، تشکیل شده است. برای محاسبه اشتراک می‌توانید از عملگر \n",
    "    -\n",
    "    و یا متد \n",
    "    difference\n",
    "    در \n",
    "    set\n",
    "    استفاده کنید:\n",
    "</div>"
   ]
  },
  {
   "cell_type": "code",
   "execution_count": null,
   "id": "a3da3f07-7966-40da-a261-1e1374bc9e93",
   "metadata": {},
   "outputs": [],
   "source": [
    "{1, 3, 5} - {2, 3, 4}"
   ]
  },
  {
   "cell_type": "code",
   "execution_count": null,
   "id": "337d2eee-9f20-468a-b46b-a7db3b600e18",
   "metadata": {},
   "outputs": [],
   "source": [
    "{1, 3, 5, 7}.difference([2, 2, 3, 3, 4, 4])"
   ]
  },
  {
   "cell_type": "markdown",
   "id": "d3e0d33a-ab27-4e53-ac9a-9b88d34cfeb3",
   "metadata": {},
   "source": [
    "<h2 style=\"direction:rtl;font-size: px;font-family: 'XB Zar';color:#0288d1;\">تفاضل متقارن</h2> <a id=''></a>"
   ]
  },
  {
   "cell_type": "markdown",
   "id": "071c3c39-feac-4ebc-b1ee-e3bb944e1134",
   "metadata": {},
   "source": [
    "<div style=\"direction:rtl; font-size: 17px; font-family: 'XB Zar'; line-height: 200%\">تفاضل متقارن دو مجموعه، مجموعه‌ای است که اعضای آن از اعضای دو مجموعه که در هر دو مجموعه قرار ندارند، تشکیل شده است. برای محاسبه تفاضل متقارن می‌توانید از عملگر \n",
    "    ^\n",
    "    و یا متد \n",
    "    symmetric_difference\n",
    "    در \n",
    "    set\n",
    "    استفاده کنید:\n",
    "</div>"
   ]
  },
  {
   "cell_type": "code",
   "execution_count": null,
   "id": "230963bb-21b7-4824-979f-79cb9b3e1575",
   "metadata": {},
   "outputs": [],
   "source": [
    "{1, 3, 5} ^ {2, 3, 4}"
   ]
  },
  {
   "cell_type": "code",
   "execution_count": null,
   "id": "a8e010f3-e1bb-4cdf-90e1-87d2490220cf",
   "metadata": {},
   "outputs": [],
   "source": [
    "{1, 3, 5, 7}.symmetric_difference([2, 2, 3, 3, 4, 4])"
   ]
  },
  {
   "cell_type": "markdown",
   "id": "e1e019b1-721b-448a-a763-df831ca86f5b",
   "metadata": {},
   "source": [
    "<h2 style=\"direction:rtl;font-size: px;font-family: 'XB Zar';color:#0288d1;\">Disjoint</h2> <a id=''></a>"
   ]
  },
  {
   "cell_type": "markdown",
   "id": "a0fd2a09-c91e-498a-8dd7-61dd33ffc7fa",
   "metadata": {},
   "source": [
    "<div style=\"direction:rtl; font-size: 17px; font-family: 'XB Zar'; line-height: 200%\">دو مجموعه‌ای که هیچ عضو مشترکی نداشته باشند، جدا از هم تلقی می‌شوند. با استفاده از متد \n",
    "    isdisjoint\n",
    "    می‌توانید جدا از هم بودن دو مجموعه را بررسی کنید:\n",
    "</div>"
   ]
  },
  {
   "cell_type": "code",
   "execution_count": null,
   "id": "9c7971ad-6878-4362-af2f-55a73e3fd868",
   "metadata": {},
   "outputs": [],
   "source": [
    "{1, 3, 5}.isdisjoint({2, 4, 6})"
   ]
  },
  {
   "cell_type": "code",
   "execution_count": null,
   "id": "0a91e491-ccd3-4829-986f-2b2ed213feef",
   "metadata": {},
   "outputs": [],
   "source": [
    "{1, 3, 5}.isdisjoint({4, 6, 1})"
   ]
  },
  {
   "cell_type": "markdown",
   "id": "b4d1656e-c317-4a9e-93d8-a1fe7eb3c00c",
   "metadata": {},
   "source": [
    "<h2 style=\"direction:rtl;font-size: 25px;font-family: 'XB Zar';color:#8e24aa;\">6.3.3 <span style=\"color:#8e24aa;\">عملیات و متدهای مربوط به مجموعه‌های تغییرپذیر</span></h2> <a id='16'></a>"
   ]
  },
  {
   "cell_type": "markdown",
   "id": "c18c0806-6474-460b-b4f3-02f1b51b9c58",
   "metadata": {},
   "source": [
    "<div style=\"direction:rtl; font-size: 17px; font-family: 'XB Zar'; line-height: 200%\">عملگرها و متدهای ارائه شده در بخش قبل هر یک منجر به ایجاد مجموعه جدید می‌شوند. در این قسمت ما درباره عملگرها و متدهایی که مجموعه موجود را تغییر می‌دهند صحبت می‌کنیم.\n",
    "</div>"
   ]
  },
  {
   "cell_type": "markdown",
   "id": "8f0c8149-a96f-40c4-bc84-5d199714eca8",
   "metadata": {},
   "source": [
    "<h2 style=\"direction:rtl;font-size: px;font-family: 'XB Zar';color:#0288d1;\">عملیات ریاضی مجموعه‌های تغییر پذیر</h2> <a id=''></a>"
   ]
  },
  {
   "cell_type": "markdown",
   "id": "298770d6-baeb-48f9-9163-b5f626d3486d",
   "metadata": {},
   "source": [
    "<div style=\"direction:rtl; font-size: 17px; font-family: 'XB Zar'; line-height: 200%\">عملگر\n",
    "    =|\n",
    "    همانند عملگر \n",
    "    |\n",
    "    عمل اجتماع را انجام می‌دهد ولی مجموعه سمت چپ خود را تغییر می‌دهد:\n",
    "</div>"
   ]
  },
  {
   "cell_type": "code",
   "execution_count": null,
   "id": "92797ffb-4806-4efb-8643-d99725de8d4c",
   "metadata": {},
   "outputs": [],
   "source": [
    "numbers = {1, 3, 5}"
   ]
  },
  {
   "cell_type": "code",
   "execution_count": null,
   "id": "5b79af3d-e912-4324-8f4f-539551af2074",
   "metadata": {},
   "outputs": [],
   "source": [
    "numbers |= {2, 3, 4}"
   ]
  },
  {
   "cell_type": "code",
   "execution_count": null,
   "id": "8d350ea2-05e9-4532-be1e-43c8d9c5c016",
   "metadata": {},
   "outputs": [],
   "source": [
    "numbers"
   ]
  },
  {
   "cell_type": "markdown",
   "id": "15ff0b94-4162-4337-aa7c-408856f09d69",
   "metadata": {},
   "source": [
    "<div style=\"direction:rtl; font-size: 17px; font-family: 'XB Zar'; line-height: 200%\">به طور مشابه، متد \n",
    "    update\n",
    "    عمل اجتماع را انجام می‌دهد و می‌تواند مجموعه‌ای که آن را فراخوانی کرده، تغییر دهد. این متد هر آرگومان از نوع \n",
    "    iterable\n",
    "    را قبول می‌کند:\n",
    "</div>"
   ]
  },
  {
   "cell_type": "code",
   "execution_count": null,
   "id": "579b39bc-3ca9-4754-8fe3-1f9cf7818374",
   "metadata": {},
   "outputs": [],
   "source": [
    "numbers.update(range(10))"
   ]
  },
  {
   "cell_type": "code",
   "execution_count": null,
   "id": "daf10a64-48c9-4ab5-96b5-a0e1823da7a5",
   "metadata": {},
   "outputs": [],
   "source": [
    "numbers"
   ]
  },
  {
   "cell_type": "markdown",
   "id": "8bf5acd7-c36c-4dbd-aa07-3ca4f83498b2",
   "metadata": {},
   "source": [
    "<div style=\"direction:rtl; font-size: 17px; font-family: 'XB Zar'; line-height: 200%\">سایر متدهای مجموعه‌ قابل تغییر عبارت‌اند از:\n",
    "</div>\n",
    "\n",
    "<div style=\"direction:rtl; font-size: 17px; font-family: 'XB Zar'; line-height: 200%\">\n",
    "    <span style=\"color:#8e24aa;\">• </span>اشتراک همراه با انتساب با نماد \n",
    "    =&\n",
    "    <br>\n",
    "    <span style=\"color:#8e24aa;\">• </span>تفاضل همراه با انتساب با نماد \n",
    "    =-\n",
    "    <br>\n",
    "    <span style=\"color:#8e24aa;\">• </span>تفاضل متقارن همراه با انتساب با نماد \n",
    "    =^\n",
    "    <br>\n",
    "</div>"
   ]
  },
  {
   "cell_type": "markdown",
   "id": "6588f6c1-84b6-476a-9293-b9f7c1ab9d2b",
   "metadata": {},
   "source": [
    "<div style=\"direction:rtl; font-size: 17px; font-family: 'XB Zar'; line-height: 200%\">و متدهایی با قابلیت دریافت هر نوع آرگومان \n",
    "    iterable\n",
    "    عبارت‌اند از:\n",
    "</div>\n",
    "\n",
    "<div style=\"direction:rtl; font-size: 17px; font-family: 'XB Zar'; line-height: 200%\">\n",
    "    <span style=\"color:#8e24aa;\">• </span>intersection_update<br>\n",
    "    <span style=\"color:#8e24aa;\">• </span>difference_update<br>\n",
    "    <span style=\"color:#8e24aa;\">• </span>symmetric_difference_update<br>\n",
    "</div>"
   ]
  },
  {
   "cell_type": "markdown",
   "id": "31018011-dc48-4cec-97ad-4d8c7a3c1a3b",
   "metadata": {},
   "source": [
    "<h2 style=\"direction:rtl;font-size: px;font-family: 'XB Zar';color:#0288d1;\">متدهایی برای اضافه کردن و یا حذف عناصر</h2> <a id=''></a>"
   ]
  },
  {
   "cell_type": "markdown",
   "id": "0bda3533-e344-435e-847f-14f52d3c4769",
   "metadata": {},
   "source": [
    "<div style=\"direction:rtl; font-size: 17px; font-family: 'XB Zar'; line-height: 200%\">متد \n",
    "    add\n",
    "    آرگومان خود را به مجموعه اضافه می‌کند، البته به شرط آنکه این آرگومان عضوی از مجموعه نباشد؛ در غیراین صورت، مجموعه بدون تغییر باقی می‌ماند:\n",
    "</div>"
   ]
  },
  {
   "cell_type": "code",
   "execution_count": null,
   "id": "3f223106-d922-4a54-a223-4ed7a98752e0",
   "metadata": {},
   "outputs": [],
   "source": [
    "numbers.add(17)"
   ]
  },
  {
   "cell_type": "code",
   "execution_count": null,
   "id": "eb7a40ea-9cdb-4693-8200-6d5be22586b9",
   "metadata": {},
   "outputs": [],
   "source": [
    "numbers.add(3)"
   ]
  },
  {
   "cell_type": "code",
   "execution_count": null,
   "id": "42a5b871-c4e5-4012-9ec0-80fb0a6861b5",
   "metadata": {},
   "outputs": [],
   "source": [
    "numbers"
   ]
  },
  {
   "cell_type": "markdown",
   "id": "443721d6-6200-436e-9098-792b5126dd9c",
   "metadata": {},
   "source": [
    "<div style=\"direction:rtl; font-size: 17px; font-family: 'XB Zar'; line-height: 200%\">متد \n",
    "    remove\n",
    "    آرگومان خود را از مجموعه حذف می‌کند، اگر این آرگومان عضوی از مجموعه نباشد، خطای \n",
    "    KeyError\n",
    "    روی می‌دهد:\n",
    "</div>"
   ]
  },
  {
   "cell_type": "code",
   "execution_count": null,
   "id": "9849cd01-0561-473b-9bbc-fa24c6e50983",
   "metadata": {},
   "outputs": [],
   "source": [
    "numbers.remove(3)"
   ]
  },
  {
   "cell_type": "code",
   "execution_count": null,
   "id": "cf75e5da-ba28-4a1f-bc9b-212babe476db",
   "metadata": {},
   "outputs": [],
   "source": [
    "numbers"
   ]
  },
  {
   "cell_type": "markdown",
   "id": "7bf90602-cd1d-4b84-a474-b338631d048f",
   "metadata": {},
   "source": [
    "<div style=\"direction:rtl; font-size: 17px; font-family: 'XB Zar'; line-height: 200%\">متد \n",
    "    discard\n",
    "    نیز آرگومان خود را از مجموعه حذف می‌کند اما اگر این مقدار عضوی از مجموعه نباشد، \n",
    "    exception\n",
    "    رخ نمی‌دهد. \r\n",
    "علاوه بر این می‌توانید با استفاده از متد\n",
    "     pop\n",
    "     یک عض دلخواه  مجموعه را حذف کنید و آن را برگردانید. از آنجایی که مجموعه‌ها مرتب نیستند، نمی‌دانید کدام عضو برگردانده می‌شود:\n",
    "</div>"
   ]
  },
  {
   "cell_type": "code",
   "execution_count": null,
   "id": "ec81a902-e10c-437f-b49c-23266da911d2",
   "metadata": {},
   "outputs": [],
   "source": [
    "numbers.pop()"
   ]
  },
  {
   "cell_type": "code",
   "execution_count": null,
   "id": "4a980b21-2ed2-43ad-99aa-6cb22ecafd66",
   "metadata": {},
   "outputs": [],
   "source": [
    "numbers"
   ]
  },
  {
   "cell_type": "markdown",
   "id": "7af07620-c265-43ab-9a2b-fd24586f7bbb",
   "metadata": {},
   "source": [
    "<div style=\"direction:rtl; font-size: 17px; font-family: 'XB Zar'; line-height: 200%\">اگر متد\n",
    "     pop\n",
    "    را برای یک مجموعه تهی فراخوانی کنید، خطای \n",
    "    KeyError\n",
    "    روی می‌دهد؛ و کلام آخر، متد \n",
    "    clear\n",
    "    تمامی اعضای مجموعه‌ای که این متد را فراخوانی کرده، حذف می‌کند:\n",
    "</div>"
   ]
  },
  {
   "cell_type": "code",
   "execution_count": null,
   "id": "503c4744-1df3-49e2-90a2-0ec4a272553f",
   "metadata": {},
   "outputs": [],
   "source": [
    "numbers.clear()"
   ]
  },
  {
   "cell_type": "code",
   "execution_count": null,
   "id": "9158ec1d-c2a2-4d36-b1e7-a19cd9664d8c",
   "metadata": {},
   "outputs": [],
   "source": [
    "numbers"
   ]
  },
  {
   "cell_type": "markdown",
   "id": "8f46a735-fc84-4e94-8de6-2bb19de7a01d",
   "metadata": {},
   "source": [
    "<h2 style=\"direction:rtl;font-size: 25px;font-family: 'XB Zar';color:#8e24aa;\">6.3.4 <span style=\"color:#8e24aa;\">Set comprehensions</span></h2> <a id='17'></a>"
   ]
  },
  {
   "cell_type": "markdown",
   "id": "6e2e4338-b4cd-4a96-9511-06650f20bae9",
   "metadata": {},
   "source": [
    "<div style=\"direction:rtl; font-size: 17px; font-family: 'XB Zar'; line-height: 200%\">برای ایجاد مجموعه با روش \n",
    "    set comprehensions\n",
    "    باید همانند دیکشنری تعریف مربوطه را در یک جفت آکولاد قرار دهید. در این قسمت یک مجموعه جدید ایجاد می‌کنیم که شامل اعداد زوج و منحصر به فرد لیست \n",
    "     numbers\n",
    "    باشد:\n",
    "</div>"
   ]
  },
  {
   "cell_type": "code",
   "execution_count": null,
   "id": "8f5bf0c9-ee3a-46ca-8e65-4c1c57788ff1",
   "metadata": {},
   "outputs": [],
   "source": [
    "numbers = [1, 2, 2, 3, 4, 5, 6, 6, 7, 8, 9, 10, 10]"
   ]
  },
  {
   "cell_type": "code",
   "execution_count": null,
   "id": "7a0d7666-3897-4b79-96cf-8019f30924a5",
   "metadata": {},
   "outputs": [],
   "source": [
    "evens = {item for item in numbers if item % 2 == 0}"
   ]
  },
  {
   "cell_type": "code",
   "execution_count": null,
   "id": "34192bbd-bbd6-4306-ae69-2ca823e3e8d9",
   "metadata": {},
   "outputs": [],
   "source": [
    "evens"
   ]
  },
  {
   "cell_type": "markdown",
   "id": "d78ffe3d-d976-4417-9b89-3f3206f8f98f",
   "metadata": {},
   "source": [
    "<h1 style=\"direction:rtl;font-size: 35px;font-family: 'XB Zar';color:#8e24aa;\">6.4 <span style=\"color:#F50057;\">مقدمه‌ای بر علم داده: نمودارهای پویا</span></h1> <a id='18'></a>"
   ]
  },
  {
   "cell_type": "markdown",
   "id": "31d4afcf-a360-42bf-ac7d-3b7ae39fea84",
   "metadata": {},
   "source": [
    "<div style=\"direction:rtl; font-size: 17px; font-family: 'XB Zar'; line-height: 200%\">در فصل قبلی و در بخش مقدمه‌ای بر علم داده، رسم نمودار را معرفی کردیم. پرتاب یک تاس شش وجهی را شبیه سازی کردیم و با استفاده از کتابخانه‌های گرافیکی \n",
    "    Seaborn\n",
    "    و \n",
    "    Matplotlib\n",
    "    نمودار میله‌ای ایستا و با کیفیتی بالا رسم کردیم. این نمودار دفعات تکرار هر عدد و درصد مربوطه را نشان می‌داد. در این بخش، همین کار را به صورت پویا انجام می‌دهیم.\n",
    "</div>"
   ]
  },
  {
   "cell_type": "markdown",
   "id": "a5fbb4c9-8d6f-4b6a-92aa-d712d66749ae",
   "metadata": {},
   "source": [
    "<h2 style=\"direction:rtl;font-size: px;font-family: 'XB Zar';color:#0288d1;\">قانون اعداد بزرگ</h2> <a id=''></a>"
   ]
  },
  {
   "cell_type": "markdown",
   "id": "72b9e703-9d4e-401e-8f5c-6f74923ad5ce",
   "metadata": {},
   "source": [
    "<div style=\"direction:rtl; font-size: 17px; font-family: 'XB Zar'; line-height: 200%\">وقتی که مولد اعداد تصادفی را معرفی کردیم، اشاره کردیم که اگر تابع \n",
    "    randrange\n",
    "    در ماژول \n",
    "    random\n",
    "    اعداد صحیح را به صورت تصادفی تولید کند، تمامی اعداد در محدوده و در هر بار فراخوانی این تابع، از احتمال انتخاب \n",
    "    (likelihood)\n",
    "    یکسانی برخوردار هستند. در پرتاب تاس شش وجهی، احتمال وقوع هر یک از اعداد ۱ تا ۶ برابر یک ششم یا در حدود \n",
    "    16.667%\n",
    "    است.\n",
    "</div>"
   ]
  },
  {
   "cell_type": "markdown",
   "id": "d5e29b99-e8fc-4c22-99b3-3145b3793182",
   "metadata": {},
   "source": [
    "<div style=\"direction:rtl; font-size: 17px; font-family: 'XB Zar'; line-height: 200%\">در بخش بعدی، یک اسکریپت شبیه سازی پرتاب تاس را به صورت پویا (یعنی متحرک) ایجاد کرده و آن را اجرا می‌کنیم. خواهید دید که هرچه تعداد پرتاب‌ها بیشتر باشد، درصد نسبی تکرار هر وجه تاس به مقدار \n",
    "    16.667%\n",
    "    نزدیک‌تر شده و ارتفاع میله‌ها به تدریج و تقریبا یکسان می‌شوند. این پدیده جلوه‌ای از قانون اعداد بزرگ است.\n",
    "</div>"
   ]
  },
  {
   "cell_type": "markdown",
   "id": "b13abc88-5bcf-4294-a0dd-6676a03c8e06",
   "metadata": {},
   "source": [
    "<h2 style=\"direction:rtl;font-size: 25px;font-family: 'XB Zar';color:#8e24aa;\">6.4.1 <span style=\"color:#8e24aa;\">طرز کار نمودارهای داینامیک</span></h2> <a id='19'></a>"
   ]
  },
  {
   "cell_type": "markdown",
   "id": "23c05377-fc72-4f24-94eb-eeaf3684ee94",
   "metadata": {},
   "source": [
    "<div style=\"direction:rtl; font-size: 17px; font-family: 'XB Zar'; line-height: 200%\">نمودارهای تولید شده با \n",
    "    Seaborn\n",
    "    و \n",
    "    Matplotlib\n",
    "    در بخش مقدمه‌ای برای علم داده در فصل قبلی به شما کمک می‌کند تا نتایج تعداد ثابتی از پرتاب تاس را پس از اتمام شبیه سازی تجزیه و تحلیل کنید. این بخش با استفاده از تابع \n",
    "    FuncAnimation\n",
    "    در  \n",
    "    animation\n",
    "    از \n",
    "    Matplotlib\n",
    "    کد یاد شده را بهبود می‌بخشد و موجب می‌شود نمودار میله‌ای به صورت پویا به‌روز شود. خواهید دید که میله‌های نمودار، دفعات تکرار هر عدد و فراوانی نسبی آن به طور مداوم و با هر پرتاب تاس به‌روز می‌شوند.\n",
    "</div>"
   ]
  },
  {
   "cell_type": "markdown",
   "id": "9091f066-0d34-4f85-9af7-bbca170a309e",
   "metadata": {},
   "source": [
    "<h2 style=\"direction:rtl;font-size: px;font-family: 'XB Zar';color:#0288d1;\">فریم‌های انیمیشن</h2> <a id=''></a>"
   ]
  },
  {
   "cell_type": "markdown",
   "id": "aa9540b1-1b5c-4ae8-a2dc-49adbd219fcd",
   "metadata": {},
   "source": [
    "<div style=\"direction:rtl; font-size: 17px; font-family: 'XB Zar'; line-height: 200%\">\n",
    "    FuncAnimation\n",
    "    یک انیمیشن را فریم به فریم اجرا می‌کند. همه مواردی که باید در طی یک به روزرسانی نمودار تغییر کند، به وسیله یک فریم انیمیشن مشخص می‌شوند. با ردیف کردن تعداد زیادی از این به روزرسانی‌ها در طول زمان، یک اثر انیمیشن خلق می‌شود. با تابعی که تعریف می‌کنید تصمیم می‌گیرید که هر فریم چه چیزی را نمایش دهد و چه چیزی را به \n",
    "    FuncAnimation\n",
    "    ارسال کند.\n",
    "</div>"
   ]
  },
  {
   "cell_type": "markdown",
   "id": "6cf34365-2d80-42f0-a8ec-eb9f89d79b6d",
   "metadata": {},
   "source": [
    "<div style=\"direction:rtl; font-size: 17px; font-family: 'XB Zar'; line-height: 200%\">هر فریم انیمیشن باید:\n",
    "</div>\n",
    "\n",
    "<div style=\"direction:rtl; font-size: 17px; font-family: 'XB Zar'; line-height: 200%\">\n",
    "    <span style=\"color:#8e24aa;\">• </span>تاس را به تعداد مشخصی پرتاب کند (از ۱ تا هر تعداد که می‌خواهید) و دفعات تکرار هر وجه را به روزرسانی نماید.<br>\n",
    "    <span style=\"color:#8e24aa;\">• </span>نمودار فعلی را پاک کند.<br>\n",
    "    <span style=\"color:#8e24aa;\">• </span>نمودارهای میله‌ای جدید را ایجاد کند، این میله‌ها معرف دفعات تکرار به روزرسانی شده هر وجه تاس هستند.<br>\n",
    "    <span style=\"color:#8e24aa;\">• </span>متن مربوط به دفعات تکرار هر وجه تاس و فراوانی نسبی برای هر میله نمودار را ایجاد کند.<br>\n",
    "\n",
    "</div>"
   ]
  },
  {
   "cell_type": "markdown",
   "id": "4dadf6a3-4816-40aa-a103-07cc8837d851",
   "metadata": {},
   "source": [
    "<div style=\"direction:rtl; font-size: 17px; font-family: 'XB Zar'; line-height: 200%\">به طور کلی، نمایش فریم‌های بیشتر در ثانیه، انیمیشن روان‌تری به همراه دارد. به عنوان مثال، در بازی‌های ویدیویی با عناصر متحرک سریع، سعی می‌شود در یک ثانیه حداقل ۳۰ فریم و اغلب بیشتر نمایش داده شود. اگرچه شما تعداد میلی ثانیه را بین فریم‌های انیمیشن مشخص خواهید کرد، اما تعداد واقعی فریم‌ها در ثانیه می‌تواند تحت تاثیر میزان کار شما در هر فریم و سرعت پردازنده کامپیوتر شما قرارگیرد. این مثال یک فریم انیمیشن را هر ۳۳ میلی ثانیه تقریبا ۳۰ فریم \n",
    "     (33 / 1000)\n",
    "    در ثانیه نشان می‌دهد. مقادیر بزرگ‌تر و کوچک‌تر را امتحان کنید تا بینید چه تاثیری بر انیمیشن دارند. آزمایش بهترین گزینه برای ایجاد بهترین مصورسازی است.\n",
    "</div>"
   ]
  },
  {
   "cell_type": "markdown",
   "id": "78023232-e7f1-4dab-b863-c4e0969170be",
   "metadata": {},
   "source": [
    "<h2 style=\"direction:rtl;font-size: px;font-family: 'XB Zar';color:#0288d1;\">اجرای برنامه \n",
    "    RollDieDynamic.py\n",
    "</h2> <a id=''></a>"
   ]
  },
  {
   "cell_type": "markdown",
   "id": "55f39ecd-a56c-44f4-9d04-d7ae9334e370",
   "metadata": {},
   "source": [
    "<div style=\"direction:rtl; font-size: 17px; font-family: 'XB Zar'; line-height: 200%\">در فصل قبلی و در بخش مقدمه‌ای بر علم داده، نمودار میله‌ای استاتیک را به صورت تعاملی توسعه دادیم تا بتوانید هنگام اجرای هر دستور نحوه به روزرسانی نمودار را مشاهده کنید. نمودار میله‌ای واقعی با دفعات تکرار و درصدهای نهایی فقط یک‌بار ترسیم شد.\n",
    "</div>"
   ]
  },
  {
   "cell_type": "markdown",
   "id": "8808d779-a131-400f-b75a-07c60dbf0143",
   "metadata": {},
   "source": [
    "<div style=\"direction:rtl; font-size: 17px; font-family: 'XB Zar'; line-height: 200%\">برای رسم نمودار به صورت پویا، نتایج صفحه به طور مداوم به روز می‌شوند تا بتوانید انیمیشن را مشاهده کنید. بسیاری از پارامترها به طور مداوم تغییر می‌کنند، برای مثال طول میله‌ها، دفعات تکرار هر عدد و درصد مربوطه در بالای میله‌ها، فاصله و برچسب‌ها در محورها و تعداد کل پرتاب‌ها که در قسمت عنوان نمودار نشان داده می‌شود. به همین دلیل به جای آن که رسم نمودار را به صورت تعاملی توسعه دهیم، کدهای مربوطه را در یک اسکریپت ذخیره کرده‌ایم.\n",
    "</div>"
   ]
  },
  {
   "cell_type": "markdown",
   "id": "65fba916-ab89-4af2-a87c-d31d45bd4dc2",
   "metadata": {},
   "source": [
    "<div style=\"direction:rtl; font-size: 17px; font-family: 'XB Zar'; line-height: 200%\">این اسکریپت دو آرگومان در خط فرمان می‌گیرد:\n",
    "</div>\n",
    "\n",
    "<div style=\"direction:rtl; font-size: 17px; font-family: 'XB Zar'; line-height: 200%\">\n",
    "    <span style=\"color:#8e24aa;\">• </span><b>number_of_frames</b>\n",
    "    این آرگومان تعداد فریم‌های انیمیشن برای نمایش را تعیین می‌کند. این مقدار تعداد دفعاتی را که \n",
    "    FuncAnimation\n",
    "    نمودار را به روز می‌کند تعیین می‌کند. \n",
    "    FuncAnimation\n",
    "    برای هر فریم انیمیشن تابعی را فراخوانی می‌کند که شما تعریف کرده‌اید (در این مثال، \n",
    "    update\n",
    "    ) تا نحوه تغییر طرح را مشخص کند.<br>\n",
    "    <span style=\"color:#8e24aa;\">• </span><b>rolls_per_frame</b>\n",
    "    این آرگومان تعداد پرتاب تاس را برای هر فریم انیمیشن تعیین می‌کند. برای پرتاب تاس به تعداد \n",
    "    rolls_per_frame\n",
    "    از یک حلقه تکرار استفاده می‌کنیم، نتایج را خلاصه می‌کنیم و سپس نمودار را با میله‌ها و متن نشان دهنده دفعات تکرار جدید به روز می‌کنیم.<br>\n",
    "\n",
    "</div>"
   ]
  },
  {
   "cell_type": "markdown",
   "id": "c5fc797d-4df7-49e1-9f35-360401d1baac",
   "metadata": {},
   "source": [
    "<div style=\"direction:rtl; font-size: 17px; font-family: 'XB Zar'; line-height: 200%\">برای درک نحوه استفاده از این دو مقدار دستور زیر را در نظر بگیرید:\n",
    "</div>"
   ]
  },
  {
   "cell_type": "markdown",
   "id": "7c5300c3-e58f-4ffd-a6e1-473db3a94103",
   "metadata": {},
   "source": [
    "```Python\n",
    "ipython RollDieDynamic.py 6000 1\n",
    "```"
   ]
  },
  {
   "cell_type": "markdown",
   "id": "38519b8f-abfc-46d6-9f78-da30508bee43",
   "metadata": {},
   "source": [
    "<div style=\"direction:rtl; font-size: 17px; font-family: 'XB Zar'; line-height: 200%\">در این حالت تابع \n",
    "    FuncAnimation\n",
    "    تابع \n",
    "    update\n",
    "    را ۶۰۰۰ بار فراخوانی می‌کند و برای هر فریم، از  ۶۰۰۰ فریم یک بار تاس را پرتاب می‌کند. این رویکرد این امکان را برای شما فراهم می‌کند تا میله‌های نمودار، دفعات تکرار هر عدد و درصدهای مربوط به یک پرتاب را هربار مشاهده کنید. در سیستم ما، این انیمیشن حدود ۳.۳۳ دقیقه (۶۰۰۰ فریم/ ۳۰ فریم در ثانیه/ ۶۰ ثانیه در دقیقه) به طول انجامید تا فقط ۶۰۰۰ پرتاب تاس را به شما نشان دهد.\n",
    "</div>"
   ]
  },
  {
   "cell_type": "markdown",
   "id": "fffc8fc4-36b3-40b5-a5e8-a0f732929fbf",
   "metadata": {},
   "source": [
    "<div style=\"direction:rtl; font-size: 17px; font-family: 'XB Zar'; line-height: 200%\">نمایش فریم‌های انیمیشن روی صفحه نمایش در مقایسه با عملیات پرتاب تاس که در پردازنده فوق العاده سریع کامپیوتر اتفاق می‌افتد یک عملیات ورودی-خروجی نسبتا کند محسوب می‌شود. اگر در هر فریم انیمیشن فقط یک بار تاس را پرتاب کنیم، نمی‌توانیم تعداد زیادی پرتاب تاس را در مدت زمان معقولی اجرا کنیم. علاوه بر این موارد، به نظر می‌رسد بعید است در تعداد پرتاب‌های کم تاس درصد فراوانی هر وجه تاس به مقدار \n",
    "    16.667%\n",
    "    همگرا شود.\n",
    "</div>"
   ]
  },
  {
   "cell_type": "markdown",
   "id": "d160c62d-2e70-49ad-bcff-c63e78777b6d",
   "metadata": {},
   "source": [
    "<div style=\"direction:rtl; font-size: 17px; font-family: 'XB Zar'; line-height: 200%\">برای دیدن قانون اعداد بزرگ در عمل می‌توانید سرعت اجرا را با افزایش تعداد پرتاب‌های تاس در هر فریم انیمیشن بیشتر کنید. دستور زیر را در نظر بگیرید:\n",
    "</div>"
   ]
  },
  {
   "cell_type": "markdown",
   "id": "7b3dc3c9-c50e-4fac-8a67-903fe8bb88a2",
   "metadata": {},
   "source": [
    "```Python\n",
    "ipython RollDieDynamic.py 10000 600\n",
    "```"
   ]
  },
  {
   "cell_type": "markdown",
   "id": "97646f52-f7d5-48b1-beb3-673c028c54dc",
   "metadata": {},
   "source": [
    "<div style=\"direction:rtl; font-size: 17px; font-family: 'XB Zar'; line-height: 200%\">در این حالت تابع \n",
    "    FuncAnimation\n",
    "    تابع \n",
    "    update\n",
    "    را ۱۰۰۰۰ فراخوانی می‌کند و در هر فریم از۶۰۰۰۰۰۰ کل پرتاب ۶۰۰ بار تاس را پرتاب می‌کند. در سیستم ما، این کار حدود ۵.۵۵ دقیقه به طول انجامید (۱۰۰۰۰ فریم/ ۳۰ فریم در دقیقه/ ۶۰ ثانیه در دقیقه) و تقریبا ۱۸۰۰۰ پرتاب در ثانیه (۳۰ فریم در ثانیه * ۶۰۰ پرتاب در هر فریم) نمایش داده شد، بنابراین به سرعت توانستیم ببینیم که دفعات تکرار هر وجه و درصد نسبی فرآوانی آن به مقادیر مورد انتظار آن‌ها به ۱۰۰۰۰۰۰ بار تکرار به ازای هر وجه و فراوانی نسبی \n",
    "    16.667%\n",
    "    همگرا شده است.\n",
    "</div>"
   ]
  },
  {
   "cell_type": "markdown",
   "id": "f6cdfe10-8c61-4bee-9a39-b8dcf12c1c7c",
   "metadata": {},
   "source": [
    "<div style=\"direction:rtl; font-size: 17px; font-family: 'XB Zar'; line-height: 200%\">برنامه را با مقادیر مختلف پرتاب تاس و فریم‌ها آزمایش کنید تا زمانی که احساس کنید این برنامه به شما کمک می‌کند تا نتایج را به طور موثری مصور کنید. تماشای اجرای برنامه و تغییر آن تا زمانی که کیفیت انیمیشن رضایت شما را جلب کند جالب و آموزنده است.\n",
    "</div>"
   ]
  },
  {
   "cell_type": "markdown",
   "id": "1d8f3f49-1126-4582-b6ea-df7cc1cf8109",
   "metadata": {},
   "source": [
    "<h2 style=\"direction:rtl;font-size: px;font-family: 'XB Zar';color:#0288d1;\">اجراهای نمونه\n",
    "</h2> <a id=''></a>"
   ]
  },
  {
   "cell_type": "markdown",
   "id": "d4854f5d-ef9e-4841-b623-ed720612db54",
   "metadata": {},
   "source": [
    "<div style=\"direction:rtl; font-size: 17px; font-family: 'XB Zar'; line-height: 200%\">در طول هر دو اجرای نمونه برنامه، چهار تصویر از صفحه نمایش گرفته‌ایم. تصویر اول نمودار را فقط پس از ۶۴ پرتاب تاس نشان می‌دهد و تصویر دوم پرتاب ۶۰۴ از ۶۰۰۰ کل پرتاب را نشان می‌دهد. اسکریپت را اجرا کنید تا به مرور ببینید که چگونه میله‌های نمودار به صورت پویا به روز می‌شوند. تصویر سوم، نمودار را بعد از ۷۲۰۰ پرتاب و تصویر چهارم پرتاب ۱۶۶۲۰۰ از ۶۰۰۰۰۰۰ پرتاب را نشان می‌دهد. با افزایش تعداد پرتاب‌های تاس، می‌توانید نزدیک شدن درصد فراوانی نسبی دفعات پرتاب به مقدار مورد انتظار آن‌ها یعنی \n",
    "    16.667%\n",
    "    را ببینید. مقدار \n",
    "    16.667%\n",
    "    با قانون اعداد بزرگ پیش‌بینی شده است.\n",
    "</div>"
   ]
  },
  {
   "attachments": {
    "97cd5d98-34dd-4c8c-97f2-0c43a13f0f09.png": {
     "image/png": "[encoded data removed]"
    }
   },
   "cell_type": "markdown",
   "id": "cf5b008b-979d-43d9-8d16-ca135c9fef60",
   "metadata": {},
   "source": [
    "![Screenshot (70).png](attachment:97cd5d98-34dd-4c8c-97f2-0c43a13f0f09.png)"
   ]
  },
  {
   "attachments": {
    "94f9663e-b70f-4b38-8c4f-a80ee831dc41.png": {
     "image/png": "[encoded data removed]"
    }
   },
   "cell_type": "markdown",
   "id": "debfbfb4-4a31-44a9-9ede-650645a7c00b",
   "metadata": {},
   "source": [
    "![Screenshot (71).png](attachment:94f9663e-b70f-4b38-8c4f-a80ee831dc41.png)"
   ]
  },
  {
   "cell_type": "markdown",
   "id": "5b945917-6500-47fb-a19f-8d43dac6122a",
   "metadata": {},
   "source": [
    "<h2 style=\"direction:rtl;font-size: 25px;font-family: 'XB Zar';color:#8e24aa;\">6.4.2 <span style=\"color:#8e24aa;\">پیاده سازی نمودارهای داینامیک</span></h2> <a id='20'></a>"
   ]
  },
  {
   "cell_type": "markdown",
   "id": "28044a80-cf10-4abb-9234-b7b0ca461548",
   "metadata": {},
   "source": [
    "<div style=\"direction:rtl; font-size: 17px; font-family: 'XB Zar'; line-height: 200%\">اسکریپتی که در این بخش ارائه می‌دهیم از همان ویژگی‌های \n",
    "    Seaborn\n",
    "    و \n",
    "    Matplotlib\n",
    "    گفته شده در فصل قبلی و در بخش مقدمه‌ای بر علم داده استفاده می‌کند. کد را برای استفاده از قابلیت انیمیشن \n",
    "    Matplotlib\n",
    "    تا حدودی تغییر داده‌ایم.\n",
    "</div>"
   ]
  },
  {
   "cell_type": "markdown",
   "id": "58b2bf5b-a9cc-405e-8d7a-dc390b7b87e5",
   "metadata": {},
   "source": [
    "<h2 style=\"direction:rtl;font-size: px;font-family: 'XB Zar';color:#0288d1;\">\n",
    "    import\n",
    "    کردن ماژول \n",
    "    animation\n",
    "    از \n",
    "    Matplotlib\n",
    "</h2> <a id=''></a>"
   ]
  },
  {
   "cell_type": "markdown",
   "id": "8d575b88-57c1-4800-8f77-0cf096847817",
   "metadata": {},
   "source": [
    "<div style=\"direction:rtl; font-size: 17px; font-family: 'XB Zar'; line-height: 200%\">در ابتدا، روی ویژگی‌های جدید استفاده شده در این مثال تمرکز می‌کنیم. خط ۳ ماژول \n",
    "    animation\n",
    "    از \n",
    "    Matplotlib\n",
    "    را \n",
    "    import\n",
    "    می‌کند.\n",
    "</div>"
   ]
  },
  {
   "cell_type": "markdown",
   "id": "fab5d3bd-e9b3-4459-af57-1a93115e600a",
   "metadata": {},
   "source": [
    "```Python\n",
    "# RollDieDynamic.py\n",
    "\"\"\"Dynamically graphing frequencies of die rolls.\"\"\"\n",
    "from matplotlib import animation\n",
    "import matplotlib.pyplot as plt\n",
    "import random \n",
    "import seaborn as sns\n",
    "import sys\n",
    "```"
   ]
  },
  {
   "cell_type": "markdown",
   "id": "820416e1-c1ff-4f6c-bdc2-c80c9a2890fe",
   "metadata": {},
   "source": [
    "<h2 style=\"direction:rtl;font-size: px;font-family: 'XB Zar';color:#0288d1;\">\n",
    "تابع \n",
    "    update\n",
    "</h2> <a id=''></a>"
   ]
  },
  {
   "cell_type": "markdown",
   "id": "11ea613c-eb1f-4842-ae52-b043f5204a74",
   "metadata": {},
   "source": [
    "<div style=\"direction:rtl; font-size: 17px; font-family: 'XB Zar'; line-height: 200%\">خطوط ۹ تا ۲۷ تابع \n",
    "    update\n",
    "    را تعریف می‌کند. تابع \n",
    "    FuncAnimation\n",
    "    به ازای هر فریم انیمیشن یک بار تابع \n",
    "    update\n",
    "    را فراخوانی می‌کند. این تابع باید حداقل یک آرگومان داشته باشد. خطوط ۹ تا ۱۰ ابتدای تعریف تابع را نشان می‌دهد. پارامترها عبارت‌اند از:\n",
    "</div>\n",
    "\n",
    "<div style=\"direction:rtl; font-size: 17px; font-family: 'XB Zar'; line-height: 200%\">\n",
    "    <span style=\"color:#8e24aa;\">• </span><b>frame_number</b>\n",
    "    مقدار بعدی آرگومان \n",
    "    frames\n",
    "    از تابع \n",
    "    FuncAnimation\n",
    "    . به زودی در این مورد توضیح خواهیم داد؛ اگرچه تابع \n",
    "    FuncAnimation\n",
    "    برای داشتن این پارامتر به تابع \n",
    "    update\n",
    "    نیاز دارد، اما از آن در تابع \n",
    "    update\n",
    "    استفاده نمی‌کنیم.<br>\n",
    "    <span style=\"color:#8e24aa;\">• </span><b>rolls</b>\n",
    "    تعداد پرتاب‌های تاس به ازای هر فریم در انیمیشن.<br>\n",
    "    <span style=\"color:#8e24aa;\">• </span><b>faces</b>\n",
    "    مقادیر وجوه تاس که به عنوان برچسب در راستای محور افقی استفاده می‌شود.<br>\n",
    "    <span style=\"color:#8e24aa;\">• </span><b>frequencies</b>\n",
    "    لیستی حاوی تعداد دفعات هر وجه تاس.<br>\n",
    "\n",
    "</div>\n"
   ]
  },
  {
   "cell_type": "markdown",
   "id": "6bbf2f95-4a30-40f1-a244-ba82e7d6e35f",
   "metadata": {},
   "source": [
    "<div style=\"direction:rtl; font-size: 17px; font-family: 'XB Zar'; line-height: 200%\">در چند بخش بعدی، در مورد بقیه بخش‌های تابع توضیح خواهیم داد.\n",
    "</div>"
   ]
  },
  {
   "cell_type": "markdown",
   "id": "e918b0f9-cce7-4d94-8685-fa2cd7876802",
   "metadata": {},
   "source": [
    "```Python\n",
    "def update(frame_number, rolls, faces, frequencies):\n",
    "    \"\"\"Configures bar plot contents for each animation frame.\"\"\"\n",
    "```"
   ]
  },
  {
   "cell_type": "markdown",
   "id": "114f8e56-16fd-4315-adc8-32fd0587c8e4",
   "metadata": {},
   "source": [
    "<h2 style=\"direction:rtl;font-size: px;font-family: 'XB Zar';color:#0288d1;\">\n",
    "تابع \n",
    "    update:\n",
    "پرتاب تاس و به روزرسانی لیست \n",
    "    frequencies\n",
    "</h2> <a id=''></a>"
   ]
  },
  {
   "cell_type": "markdown",
   "id": "2e20275d-7d62-487f-b9c4-70b9c9d25187",
   "metadata": {},
   "source": [
    "<div style=\"direction:rtl; font-size: 17px; font-family: 'XB Zar'; line-height: 200%\">خطوط ۱۲ و ۱۳ تاس را \n",
    "    rolls\n",
    "    بار پرتاب می‌کنند و متغیر \n",
    "    frequencies\n",
    "    مربوط به وجه مورد نظر را یک واحد افزایش می‌دهند. توجه داشته باشید که قبل از افزایش \n",
    "    frequencies\n",
    "    ، ۱ را از مقدار عدد تاس (۱ تا ۶) کم می‌کنیم. همان طور که مشاهده خواهید کرد، \n",
    "    frequencies\n",
    "    یک لیست شش عضوی است (در خط ۳۶ تعریف شده است) و به همین دلیل اندیس‌های آن از ۰ تا ۵ می‌باشد.\n",
    "</div>"
   ]
  },
  {
   "cell_type": "markdown",
   "id": "d1c98a11-f755-4b20-badb-2fe5b3090b70",
   "metadata": {},
   "source": [
    "```Python\n",
    "    # roll die and update frequencies\n",
    "    for i in range(rolls):\n",
    "        frequencies[random.randrange(1, 7) - 1] += 1 \n",
    "\n",
    "```"
   ]
  },
  {
   "cell_type": "markdown",
   "id": "b441c031-df8f-4b55-8a7d-18bd5b30d778",
   "metadata": {},
   "source": [
    "<h2 style=\"direction:rtl;font-size: px;font-family: 'XB Zar';color:#0288d1;\">\n",
    "تابع \n",
    "    update:\n",
    "پیکربندی \n",
    "    Bar Plot\n",
    "    و متن\n",
    "</h2> <a id=''></a>"
   ]
  },
  {
   "cell_type": "markdown",
   "id": "14155c13-35a6-444e-b8d5-39476a4143bc",
   "metadata": {},
   "source": [
    "<div style=\"direction:rtl; font-size: 17px; font-family: 'XB Zar'; line-height: 200%\">خط ۱۶ در تابع \n",
    "    update\n",
    "    تابع \n",
    "    cla\n",
    "    (پاک کردن متن) از \n",
    "    matplotlib.pyplot\n",
    "    را فراخوانی می‌کند تا قبل از ترسیم عناصر جدید برای فریم انیمیشن فعلی، عناصر نمودار میله‌ای موجود را حذف کند. در فصل قبل و در بخش مقدمه‌ای بر علم داده در مورد کدهای خطوط ۱۷ تا ۲۷ توضیح دادیم. خطوط ۱۷ تا ۲۰ میله‌ها را ایجاد می‌کنند، عنوان نمودار میله‌ای را تنظیم می‌کنند، برچسب‌ها را در راستای محورهای افقی وعمودی تنظیم می‌کنند و نمودار را به گونه‌ای مقیاس بندی می‌کنند تا فضای کافی برای نمایش متن مربوطه به دفعات تکرار و درصد فراوانی نسبی بالای هر نوار جا بگیرد. خطوط ۲۳ تا ۲۷ دفعات و درصد مربوطه را نشان می‌دهند. \n",
    "</div>"
   ]
  },
  {
   "cell_type": "markdown",
   "id": "9ab7c046-e13c-4f77-afb4-099ec64107f8",
   "metadata": {},
   "source": [
    "```Python\n",
    "    # reconfigure plot for updated die frequencies\n",
    "    plt.cla()  # clear old contents contents of current Figure\n",
    "    axes = sns.barplot(x=faces, y=frequencies, palette='bright')  # new bars\n",
    "    axes.set_title(f'Die Frequencies for {sum(frequencies):,} Rolls')\n",
    "    axes.set(xlabel='Die Value', ylabel='Frequency')  \n",
    "    axes.set_ylim(top=max(frequencies) * 1.10)  # scale y-axis by 10%\n",
    "\n",
    "    # display frequency & percentage above each patch (bar)\n",
    "    for bar, frequency in zip(axes.patches, frequencies):\n",
    "        text_x = bar.get_x() + bar.get_width() / 2.0  \n",
    "        text_y = bar.get_height() \n",
    "        text = f'{frequency:,}\\n{frequency / sum(frequencies):.3%}'\n",
    "        axes.text(text_x, text_y, text, ha='center', va='bottom')\n",
    "\n",
    "```"
   ]
  },
  {
   "cell_type": "markdown",
   "id": "6f6018a5-7edd-4292-8cef-972b67673164",
   "metadata": {},
   "source": [
    "<h2 style=\"direction:rtl;font-size: px;font-family: 'XB Zar';color:#0288d1;\">\n",
    "متغیرهایی که برای پیکربندی نمودار و حفظ حالت استفاده می‌شوند\n",
    "</h2> <a id=''></a>"
   ]
  },
  {
   "cell_type": "markdown",
   "id": "47427d2f-d6b9-4f36-9a4e-e29f463a6379",
   "metadata": {},
   "source": [
    "<div style=\"direction:rtl; font-size: 17px; font-family: 'XB Zar'; line-height: 200%\">خطوط ۳۰ و ۳۱ برای به دست آوردن آرگومان‌های خط فرمان اسکریپت، از لیست \n",
    "    argv\n",
    "    در  \n",
    "    sys\n",
    "    استفاده می‌کند. خط ۳۳ سبک \n",
    "    'whitegrid'\n",
    "    در \n",
    "    Seaborn\n",
    "    را مشخص می‌کند. خط ۳۴ تابع \n",
    "    figure\n",
    "    در  \n",
    "    matplotlib.pyplot\n",
    "    را فراخوانی می‌کند تا شیء \n",
    "    Figure\n",
    "    را به دست آورد. تابع \n",
    "    FuncAnimation\n",
    "    انیمیشن را در شیء \n",
    "    Figure\n",
    "    نمایش می‌دهد. این آرگومان تابع، عنوان پنجره است. همان طور که به زودی خواهید دید، این آرگومان یکی از آرگومان‌های مورد نیاز تابع \n",
    "    FuncAnimation\n",
    "    است. خط ۳۵ لیستی حاوی مقادیر ۱ تا ۶ یا همان اعداد روی وجوه تاس را برای نمایش در راستای محور افقی نمودار ایجاد می‌کند. خط ۳۶ لیست شش عضوی \n",
    "    frequencies\n",
    "    را ایجاد می‌کند و با هر پرتاب تاس داده‌های این لیست را به روز می‌کنیم.\n",
    "</div>"
   ]
  },
  {
   "cell_type": "markdown",
   "id": "66ed0a4f-6712-4f7d-b0cd-2192bd10bae1",
   "metadata": {},
   "source": [
    "```Python\n",
    "# read command-line arguments for number of frames and rolls per frame\n",
    "number_of_frames = int(sys.argv[1])  \n",
    "rolls_per_frame = int(sys.argv[2])  \n",
    "\n",
    "sns.set_style('whitegrid')  # white background with gray grid lines\n",
    "figure = plt.figure('Rolling a Six-Sided Die')  # Figure for animation\n",
    "values = list(range(1, 7))  # die faces for display on x-axis\n",
    "frequencies = [0] * 6  # six-element list of die frequencies\n",
    "\n",
    "```"
   ]
  },
  {
   "cell_type": "markdown",
   "id": "8070ccdf-0f21-4383-a45d-e456b0bcb2d7",
   "metadata": {},
   "source": [
    "<h2 style=\"direction:rtl;font-size: px;font-family: 'XB Zar';color:#0288d1;\">\n",
    "فراخوانی تابع انیمیشن \n",
    "    FuncAnimation\n",
    "    از  \n",
    "    animation\n",
    "</h2> <a id=''></a>"
   ]
  },
  {
   "cell_type": "markdown",
   "id": "c09bd743-f589-4fef-8a1d-0ee1fd310c24",
   "metadata": {},
   "source": [
    "<div style=\"direction:rtl; font-size: 17px; font-family: 'XB Zar'; line-height: 200%\">خطوط ۳۹ تا ۴۱ برای به روزرسانی نمودار میله‌ای تابع \n",
    "     FuncAnimation\n",
    "    از \n",
    "    animation\n",
    "    در \n",
    "    Matplotlib\n",
    "    را فراخوانی می‌کند. این تابع شیئی را برای انیمیشن برمی‌گرداند. اگرچه از این شیء به صراحت استفاده نشده است، ولی باید ارجاع به انیمیشن را ذخیره کنید؛ درغیر این صورت، پایتون بلافاصله انیمیشن را خاتمه می‌دهد و حافظه خود را به سیستم برمی‌گرداند.\n",
    "</div>"
   ]
  },
  {
   "cell_type": "markdown",
   "id": "36a2c6e2-50ca-4614-87c6-f3a1dd27bea3",
   "metadata": {},
   "source": [
    "```Python\n",
    "# configure and start animation that calls function update\n",
    "die_animation = animation.FuncAnimation(\n",
    "    figure, update, repeat=False, frames=number_of_frames, interval=33,\n",
    "    fargs=(rolls_per_frame, values, frequencies))\n",
    "\n",
    "plt.show()  # display window\n",
    "\n",
    "```"
   ]
  },
  {
   "cell_type": "markdown",
   "id": "dfe1d221-4029-4dde-bcf5-e117471646cc",
   "metadata": {},
   "source": [
    "<div style=\"direction:rtl; font-size: 17px; font-family: 'XB Zar'; line-height: 200%\">تابع \n",
    "    FuncAnimation\n",
    "    به دو آرگومان نیاز دارد:\n",
    "</div>\n",
    "<br>\n",
    "\n",
    "<div style=\"direction:rtl; font-size: 17px; font-family: 'XB Zar'; line-height: 200%\">\n",
    "    <span style=\"color:#8e24aa;\">• </span><b>figure</b>\n",
    "    تابع \n",
    "    FuncAnimation\n",
    "    انیمیشن را در شیء \n",
    "    Figure\n",
    "    نشان می‌دهد.<br>\n",
    "    <span style=\"color:#8e24aa;\">• </span><b>update</b>\n",
    "    تابعی است که \n",
    "    FuncAnimation\n",
    "    برای هر فریم انیمیشن آن را فراخوانی می‌کند.<br>\n",
    "\n",
    "</div>\n",
    "\n",
    "<br>\n",
    "<br>\n",
    "<div style=\"direction:rtl; font-size: 17px; font-family: 'XB Zar'; line-height: 200%\">در این حالت آرگومان‌های کلیدی و البته اختیاری زیر را به تابع ارسال کرده‌ایم:\n",
    "</div>\n",
    "\n",
    "<br>\n",
    "<div style=\"direction:rtl; font-size: 17px; font-family: 'XB Zar'; line-height: 200%\">\n",
    "    <span style=\"color:#8e24aa;\">• </span><b>repeat</b>\n",
    "    اگر مقدار این آرگومان \n",
    "    False\n",
    "    باشد، پس از تعداد مشخصی فریم، انیمیشن خاتمه می‌یابد. اگر مقدار این آرگومان \n",
    "    True\n",
    "    (پیش‌فرض) باشد، بعد از تکمیل انیمیشن، از ابتدا دوباره شروع می‌کند.<br>\n",
    "    <span style=\"color:#8e24aa;\">• </span><b>frames</b>\n",
    "    این آرگومان تعداد کل فریم‌های انیمیشن و دفعات فراخوانی شدن تابع \n",
    "    update\n",
    "    به وسیله تابع \n",
    "    FunctAnimation\n",
    "    را کنترل می‌کند. ارسال یک عدد صحیح معادل ارسال یک \n",
    "    range\n",
    "    است - به عنوان مثال ۶۰۰ به معنای \n",
    "     range(600)\n",
    "    است. \n",
    "    FunctAnimation\n",
    "    در هر فراخوانی تابع \n",
    "    update\n",
    "    ، یک مقدار از این محدوده را به عنوان اولین آرگومان به تابع \n",
    "    update\n",
    "    ارسال می‌کند.<br>\n",
    "    <span style=\"color:#8e24aa;\">• </span><b>interval</b>\n",
    "    این آرگومان تعداد میلی ثانیه‌ها (در این حالت ۳۳) بین فریم‌های انیمیشن (پیش فرض ۲۰۰ است) را تعیین می‌کند. تابع \n",
    "    FuncAnimation\n",
    "    بعد از فراخوانی تابع \n",
    "    update\n",
    "    برای فراخوانی مجدد این تابع به مدت ۳۳ میلی ثانیه منتظر می‌ماند.<br>\n",
    "    <span style=\"color:#8e24aa;\">• </span><b>fargs</b>\n",
    "    (مخفف \n",
    "    “function arguments”\n",
    "    ) این آرگومان یک تاپل است که شامل چند آرگومان دیگر می‌باشد. این آرگومان‌ها در حقیقت آرگومان‌هایی هستند که به تابعی که در آرگومان دوم \n",
    "    FuncAnimation\n",
    "    مشخص کرده‌اید، ارسال می‌شوند. آرگومان‌هایی که در تاپل \n",
    "    fargs\n",
    "    مشخص می‌کنید، مربوط به پارامترهای \n",
    "    rolls, facesdو  frequencie\n",
    "    تابع \n",
    "    update\n",
    "     (خط ۹) هستند.<br>\n",
    "\n",
    "</div>"
   ]
  },
  {
   "cell_type": "markdown",
   "id": "f6b0f08d-ed84-491c-84a9-188ba84f99ac",
   "metadata": {},
   "source": [
    "<div style=\"direction:rtl; font-size: 17px; font-family: 'XB Zar'; line-height: 200%\">برای مشاهده آرگومان‌های اختیاری تابع \n",
    "    FuncAnimation\n",
    "    به آدرس زیر مراجعه کنید:\n",
    "    <br>\n",
    "    <a href=\"https://matplotlib.org/api/_as_gen/\n",
    "matplotlib.animation.FuncAnimation.html\">\n",
    "https://matplotlib.org/api/_as_gen/\r\n",
    "matplotlib.animation.FuncAnimation.html</  \n",
    "</div>"
   ]
  },
  {
   "cell_type": "markdown",
   "id": "a2f3c683-1344-4bbd-b1b9-c5d404c671e6",
   "metadata": {},
   "source": [
    "<div style=\"direction:rtl; font-size: 17px; font-family: 'XB Zar'; line-height: 200%\">در نهایت خط ۴۳ پنجره را نشان می‌دهد.\n",
    "</div>"
   ]
  },
  {
   "cell_type": "code",
   "execution_count": null,
   "id": "1d0cced4-4a2b-46ed-8840-0d48962450be",
   "metadata": {},
   "outputs": [],
   "source": [
    "# RollDieDynamic.py\n",
    "\"\"\"Dynamically graphing frequencies of die rolls.\"\"\"\n",
    "from matplotlib import animation\n",
    "import matplotlib.pyplot as plt\n",
    "import random \n",
    "import seaborn as sns\n",
    "import sys\n",
    "\n",
    "def update(frame_number, rolls, faces, frequencies):\n",
    "    \"\"\"Configures bar plot contents for each animation frame.\"\"\"\n",
    "    # roll die and update frequencies\n",
    "    for i in range(rolls):\n",
    "        frequencies[random.randrange(1, 7) - 1] += 1 \n",
    "\n",
    "    # reconfigure plot for updated die frequencies\n",
    "    plt.cla()  # clear old contents contents of current Figure\n",
    "    axes = sns.barplot(x=faces, y=frequencies, palette='bright')  # new bars\n",
    "    axes.set_title(f'Die Frequencies for {sum(frequencies):,} Rolls')\n",
    "    axes.set(xlabel='Die Value', ylabel='Frequency')  \n",
    "    axes.set_ylim(top=max(frequencies) * 1.10)  # scale y-axis by 10%\n",
    "\n",
    "    # display frequency & percentage above each patch (bar)\n",
    "    for bar, frequency in zip(axes.patches, frequencies):\n",
    "        text_x = bar.get_x() + bar.get_width() / 2.0  \n",
    "        text_y = bar.get_height() \n",
    "        text = f'{frequency:,}\\n{frequency / sum(frequencies):.3%}'\n",
    "        axes.text(text_x, text_y, text, ha='center', va='bottom')\n",
    "\n",
    "# read command-line arguments for number of frames and rolls per frame\n",
    "number_of_frames = int(sys.argv[1])  \n",
    "rolls_per_frame = int(sys.argv[2])  \n",
    "\n",
    "sns.set_style('whitegrid')  # white background with gray grid lines\n",
    "figure = plt.figure('Rolling a Six-Sided Die')  # Figure for animation\n",
    "values = list(range(1, 7))  # die faces for display on x-axis\n",
    "frequencies = [0] * 6  # six-element list of die frequencies\n",
    "\n",
    "# configure and start animation that calls function update\n",
    "die_animation = animation.FuncAnimation(\n",
    "    figure, update, repeat=False, frames=number_of_frames, interval=33,\n",
    "    fargs=(rolls_per_frame, values, frequencies))\n",
    "\n",
    "plt.show()  # display window\n",
    "\n"
   ]
  },
  {
   "cell_type": "markdown",
   "id": "de35d3fc-a8a2-4237-a8f3-72257ecd1b64",
   "metadata": {},
   "source": [
    "<h1 style=\"direction:rtl;font-size: 35px;font-family: 'XB Zar';color:#8e24aa;\">6.5 <span style=\"color:#F50057;\">جمع‌بندی</span></h1> <a id='21'></a>"
   ]
  },
  {
   "cell_type": "markdown",
   "id": "a8afd02e-64af-4e23-9f61-d74899b6c0a5",
   "metadata": {},
   "source": [
    "<div style=\"direction:rtl; font-size: 17px; font-family: 'XB Zar'; line-height: 200%\">در این فصل، درباره دیکشنری و مجموعه در پایتون توضیح دادیم. شرح دادیم که دیکشنری چیست و چندین مثال ارائه دادیم. زوج کلید-مقدار را نشان دادیم و توضیح دادیم که چگونه از آن‌ها برای ایجاد یک دیکشنری استفاده کنیم. برای این کار، زوج‌های کلید-مقدار را با کاما جدا کرده و آنها را میان یک جفت آکولاد \n",
    "    {}\n",
    "    قرار دادیم. علاوه بر این، با روش \n",
    "    dictionary comprehension\n",
    "    چند دیکشنری ایجاد کردید.\n",
    "</div>"
   ]
  },
  {
   "cell_type": "markdown",
   "id": "64100707-5ab1-49e4-8787-e3eda083dd79",
   "metadata": {},
   "source": [
    "<div style=\"direction:rtl; font-size: 17px; font-family: 'XB Zar'; line-height: 200%\">از یک جفت براکت \n",
    "    []\n",
    "    برای بازیابی مقدار مربوط به یک کلید، درج و به روزرسانی زوج‌های کلید-مقدار استفاده کردید. علاوه بر این برای تغییر مقدار مرتبط با یک کلید از متد \n",
    "    update\n",
    "    استفاده کرده‌اید. از طریق کلیدها، مقادیر و آیتم‌های یک دیکشنری را پیمایش کردید.\n",
    "</div>"
   ]
  },
  {
   "cell_type": "markdown",
   "id": "fd8f4aeb-780d-4f90-a4ba-1025607af020",
   "metadata": {},
   "source": [
    "<div style=\"direction:rtl; font-size: 17px; font-family: 'XB Zar'; line-height: 200%\">مجموعه‌هایی از مقادیر منحصربه فرد و تغییر ناپذیر ایجاد کردید. با عملگرهای مقایسه، مجموعه‌ها را با یکدیگر مقایسه کردید، با متدها و عملگرها مجموعه‌ها را با یکدیگر تلفیق کردید، با عملگرهای قابل تغییر اعضای مجموعه را تغییر دادید و با روش \n",
    "    set comprehension\n",
    "    مجموعه‌هایی را ایجاد کردید. مشاهده کردید که مجموعه‌ها قابل تغییر هستند. مجموعه‌های \n",
    "    frozenset\n",
    "    غیرقابل تغییر هستند، بنابراین می‌توان برای اعضای مجموعه از \n",
    "    frozenset\n",
    "    استفاده کرد.\n",
    "</div>"
   ]
  },
  {
   "cell_type": "markdown",
   "id": "4ebae5ec-0718-435e-a591-9ea39fcf6a5c",
   "metadata": {},
   "source": [
    "<div style=\"direction:rtl; font-size: 17px; font-family: 'XB Zar'; line-height: 200%\">در بخش مقدمه‌ای بر علم داده، نتایج شبیه‌سازی پرتاب یک تاس را با نمودار میله‌ای به صورت پویا نشان دادیم و قانون اعداد بزرگ را در عمل تجربه کردیم. علاوه بر ویژگی‌های \n",
    "    Seaborn\n",
    "    و \n",
    "    Matplotlib\n",
    "    که در بخش قبلی مقدمه‌ای بر علم داده بررسی کردیم، از تابع \n",
    "    FuncAnimation\n",
    "    در \n",
    "    Matplotlib\n",
    "    برای کنترل فریم به فریم یک انیمیشن استفاده کردیم. \n",
    "    FuncAnimation\n",
    "    تابعی را فراخوانی کرد که ما مشخص کردیم، این تابع تعیین می‌کرد در هر فریم انیمیشن چه چیزی نمایش داده شود.\n",
    "</div>"
   ]
  },
  {
   "cell_type": "markdown",
   "id": "c6770b81-b84d-4e68-9df5-70e222633df1",
   "metadata": {},
   "source": [
    "<div style=\"direction:rtl; font-size: 17px; font-family: 'XB Zar'; line-height: 200%\">در فصل بعدی، درباره برنامه نویسی آرایه گرا با کتابخانه محبوب \n",
    "    NumPy\n",
    "    بحث می‌کنیم. همانطور که مشاهده خواهید کرد، کالکشن \n",
    "    ndarray\n",
    "    در قیاس با لیست‌های از پیش تعریف شده در \n",
    "    Python\n",
    "    بسیاری از عملیات مشابه را دو برابر سریع‌تر انجام می‌دهد. این قدرت برای برنامه‌های کاربردی مرتبط با کلان داده امروزی مفید خواهد بود.\n",
    "</div>"
   ]
  }
 ],
 "metadata": {
  "kernelspec": {
   "display_name": "Python 3 (ipykernel)",
   "language": "python",
   "name": "python3"
  },
  "language_info": {
   "codemirror_mode": {
    "name": "ipython",
    "version": 3
   },
   "file_extension": ".py",
   "mimetype": "text/x-python",
   "name": "python",
   "nbconvert_exporter": "python",
   "pygments_lexer": "ipython3",
   "version": "3.11.5"
  }
 },
 "nbformat": 4,
 "nbformat_minor": 5
}
