{
 "cells": [
  {
   "cell_type": "markdown",
   "id": "af513081-e918-42fe-bac1-6ba0afefb35a",
   "metadata": {},
   "source": [
    "# Chapter 3"
   ]
  },
  {
   "cell_type": "markdown",
   "id": "74c6b462",
   "metadata": {},
   "source": [
    "<img src=\"https://deitel.com/wp-content/uploads/2020/01/python-for-programmers.jpg\" align = \"left\">\n",
    "\n",
    "\n",
    "<!DOCTYPE html>\n",
    "<html>\n",
    "<head>\n",
    "    <style>\n",
    "    </style>\n",
    "</head>\n",
    "<body>\n",
    "    <h1 style=\"text-align:right;font-size:250%; font-family: 'XB Zar';\"><span style=\"color:#9575cd;font-size:300%;\">پایتون</span> <br>برای برنامه‌نویسان</h1>\n",
    "    <hr>\n",
    "    <p style=\"text-align:right;font-size:150%;font-family: 'XB Zar';\"><b>با مطالعات مقدماتی هوش مصنوعی</b></p>\n",
    "    <p style=\"text-align:right;font-size:150%;font-family: 'XB Zar';\">مولفین : پل دایتل و هاروی دایتل</p>\n",
    "</body>\n",
    "</html>"
   ]
  },
  {
   "cell_type": "markdown",
   "id": "f71f2074",
   "metadata": {},
   "source": [
    "\n",
    "<html>\n",
    "<head>\n",
    "    <style>\n",
    "    </style>\n",
    "</head>\n",
    "<body>\n",
    "    <hr>\n",
    "    <p style=\"text-align:right;font-size:150%;font-family:XB Zar;\"><b>استاد:</b> جناب آقای دکتر صالحی</p>\n",
    "    <p style=\"text-align:right;font-size:150%;font-family:XB Zar;\"><b>گردآورنده:</b> مرضیه آقابالاصفر</p>\n",
    "    <p style=\"text-align:right;font-size:150%;font-family:XB Zar;\">دپارتمان علوم‌کامپیوتر، دانشکده علوم ریاضی، دانشگاه شهرکرد</p>\n",
    "    <hr>\n",
    "</body>\n",
    "</html>\n"
   ]
  },
  {
   "cell_type": "markdown",
   "id": "5494a2e7",
   "metadata": {},
   "source": [
    "<h1 style=\"text-align:center;font-size:450%; font-family: 'XB Zar';\"><span style=\"color:#8e24aa;\">فصل ۳: دستورات کنترلی</span></h1> <a id='1'></a>"
   ]
  },
  {
   "cell_type": "markdown",
   "id": "1cd3874c",
   "metadata": {},
   "source": [
    "<h1 style=\"direction:rtl;font-size: 35px;font-family: 'XB Zar';\"><span style=\"color:#F50057;\">اهداف</span></h1>\n",
    "<p style=\"text-align:right;\">\n",
    "<div style=\"direction:rtl; font-size: 17px; font-family: 'XB Zar'; line-height: 200%\">\n",
    "در این فصل :\n",
    "</div>\n",
    "    <div style=\"direction:rtl; font-size: 17px; font-family: 'XB Zar'; line-height: 200%\">\n",
    "    <span style=\"color:#F50057;\">■ </span>با دستور  \n",
    "    if\n",
    "    ،\n",
    "    if…else\n",
    "    و \n",
    "    if…elif…else\n",
    "    تصمیم گیری خواهید کرد.<br>\n",
    "    <span style=\"color:#F50057;\">■ </span>با  \n",
    "    for\n",
    "    و \n",
    "    while \n",
    "    دستورهایی را چندین بار اجرا خواهید کرد.<br>\n",
    "    <span style=\"color:#F50057;\">■ </span>با استفاده از دستورات کوتاه شده، دستورات انتساب را کوتاه‌تر می‌کنید.<br>\n",
    "    <span style=\"color:#F50057;\">■ </span>با استفاده از دستور \n",
    "    for\n",
    "    و تابع از پیش تعریف‌شده \n",
    "    range\n",
    "    ، اعمالی را روی دنباله‌ای از مقادیر انجام خواهید داد.<br>\n",
    "    <span style=\"color:#F50057;\">■ </span>با دستور \n",
    "    while\n",
    "    حلقه‌هایی تعریف می‌کنید که با نشانه خاص کنترل می‌شوند.<br>\n",
    "    <span style=\"color:#F50057;\">■ </span>با کمک دستورات منطقی \n",
    "    and\n",
    "    ، \n",
    "    or \n",
    "    و \n",
    "    not\n",
    "    شرط‌های پیچیده‌تری ایجاد می‌کنید.<br> \n",
    "    <span style=\"color:#F50057;\">■ </span>با دستور \n",
    "    break\n",
    "    حلقه تکرار را متوقف می‌کنید.<br> \n",
    "    <span style=\"color:#F50057;\">■ </span>با دستور \n",
    "    continue\n",
    "    دور بعدی حلقه را تکرار می‌کنید.<br>\n",
    "    <span style=\"color:#F50057;\">■ </span>از ویژگی‌های برنامه نویسی به سبک تابعی استفاده می‌کنید تا اسکریپت‌هایی که می‌نویسید کوتاه‌تر و خواناتر بوده و قابلیت اشغال زدایی و موازی کردن راحت‌تری داشته باشند.<br> \n",
    "    </div>\n",
    "</p>"
   ]
  },
  {
   "cell_type": "markdown",
   "id": "364db03b",
   "metadata": {},
   "source": [
    "<h1 style=\"direction:rtl;font-size: 35px;font-family: 'XB Zar';\"><span style=\"color:#8e24aa;\">رئوس مطالب</span></h1>\n",
    "<hr>\n",
    "<div style=\"direction:rtl; font-size: 17px; font-family: 'XB Zar'; line-height: 200%\">\n",
    "  \n",
    "3. [دستورات کنترلی](#1)\n",
    "    * 3.1 [مقدمه](#2)\n",
    "    * 3.2 [دستورهای کنترلی](#3)\n",
    "    * 3.3 [دستور if](#4)\n",
    "    * 3.4 [دستور if…else و if…elif…else](#5)\n",
    "    * 3.5 [دستور while](#6)\n",
    "    * 3.6 [دستور for](#7)\n",
    "        * 3.6.1 [Iterableها، Listها و Iteratorها](#8)\n",
    "        * 3.6.2 [تابع درونی range](#9)\n",
    "    * 3.7 [دستورات انتساب کوتاه شده](#10)\n",
    "    * 3.8 [تکرارهای کنترل‌شده روی دنباله‌ها؛ رشته‌های فرمت‌شده](#11)\n",
    "    * 3.9 [حلقه‌هایی که با نشانه خاص کنترل می‌شوند](#12)\n",
    "    * 3.10 [بررسی عمیق‌تر تابع range](#13)\n",
    "    * 3.11 [استفاده از نوع  Decimal برای مبالغ پولی](#14)\n",
    "    * 3.12 [دستورات break و continue](#15)\n",
    "    * 3.13 [عملگرهای منطقی and، or و  not](#16)\n",
    "    * 3.14 [مقدمه‌ای بر علم‌داده: سنجش شاخص مرکزی - میانه، مد و میانگین](#17)\n",
    "    * 3.15 [جمع‌بندی](#18)\n",
    "    \n",
    "</div>\n"
   ]
  },
  {
   "cell_type": "markdown",
   "id": "06a56a38",
   "metadata": {},
   "source": [
    "<h1 style=\"direction:rtl;font-size: 35px;font-family: 'XB Zar';color:#8e24aa;\">3.1 <span style=\"color:#F50057;\">مقدمه</span></h1> <a id='2'></a>"
   ]
  },
  {
   "cell_type": "markdown",
   "id": "b478be55",
   "metadata": {},
   "source": [
    "<div style=\"direction:rtl; font-size: 17px; font-family: 'XB Zar'; line-height: 200%\">در این فصل، دستورات کنترلی پایتون را ارائه می‌کنیم - if، if...else، if...elif...else،while، for، break و continue.\n",
    "شما از دستور for برای انجام تکرارهای کنترل شده با ترتیب استفاده خواهید کرد - خواهید دید که تعداد موارد در دنباله‌ای از آیتم‌ها، تعداد تکرارهای دستور for را تعیین می‌کند.\n",
    "شما از تابع داخلی  range برای تولید دنباله‌ای از اعداد صحیح استفاده خواهید کرد.\n",
    "</div>\n",
    "\n",
    "<div style=\"direction:rtl; font-size: 17px; font-family: 'XB Zar'; line-height: 200%\">نحوه کار با دستور while را برای حلقه‌هایی نشان می‌دهیم که با نشانه خاص کنترل می‌شوند.\n",
    "شما از کتابخانه استاندارد Decimal در پایتون برای محاسبات پولی دقیق استفاده خواهید کرد.\n",
    "ما داده‌ها را در رشته‌های f (format strings) با استفاده از مشخص‌کننده‌های فرمت مختلف قالب‌بندی می‌کنیم.\n",
    "همچنین عملگرهای Boolean and, or و not را برای ایجاد شرایط ترکیبی نشان خواهیم داد.\n",
    "در بخش مقدمه ای بر علم‌داده، با استفاده از ماژول statistics کتابخانه استاندارد پایتون، معیارهای گرایش مرکزی - میانگین، میانه و مد را در نظر خواهیم گرفت.\n",
    "</div>"
   ]
  },
  {
   "cell_type": "markdown",
   "id": "9a37def7",
   "metadata": {},
   "source": [
    "<h1 style=\"direction:rtl;font-size: 35px;font-family: 'XB Zar';color:#8e24aa;\">3.2 <span style=\"color:#F50057;\">دستورهای کنترلی</span></h1> <a id='3'></a>"
   ]
  },
  {
   "cell_type": "markdown",
   "id": "41de7e25",
   "metadata": {},
   "source": [
    "<div style=\"direction:rtl; font-size: 17px; font-family: 'XB Zar'; line-height: 200%\">در پایتون سه دستور کنترلی وجود دارد و بسته به درست بودن و یا نادرست بودن شرط،  دستوراتی را اجرا می‌کند.\n",
    "</div>\n",
    "\n",
    "<div style=\"direction:rtl; font-size: 17px; font-family: 'XB Zar'; line-height: 200%\">\n",
    "    <span style=\"color:#8e24aa;\">• </span><b>دستور if:</b>  در صورت True بودن یک شرط، دستور if عملی را انجام می‌دهد یا اگر شرط نادرست باشد از آن عمل می‌گذرد.<br>\n",
    "    <span style=\"color:#8e24aa;\">• </span><b>دستور  if…else:</b> اگر یک شرط True باشد دستور if…else عملی را انجام می‌دهد یا اگر شرط False باشد عمل دیگری را انجام می‌دهد.<br>\n",
    "    <span style=\"color:#8e24aa;\">• </span><b>دستور if…elif…else:</b> دستور if…elif…else بسته به درستی یا نادرستی چند شرط، یکی از چندین عمل مختلف را انجام می‌دهد.<br>\n",
    "</div>\n",
    "\n",
    "<br>\n",
    "<div style=\"direction:rtl; font-size: 17px; font-family: 'XB Zar'; line-height: 200%\">در هر جایی که بتوان یک عمل واحد را قرار داد، گروهی از اقدامات را نیز می‌توان قرار داد.\n",
    "پایتون دو دستور تکرار را ارائه می کند\n",
    "    - \n",
    "    while\n",
    "    و \n",
    "    for:\n",
    "</div>\n",
    "\n",
    "\n",
    "<div style=\"direction:rtl; font-size: 17px; font-family: 'XB Zar'; line-height: 200%\">\n",
    "    <span style=\"color:#8e24aa;\">• </span><b></b>دستور while یک عمل (یا گروهی از اقدامات) را تا زمانی که یک شرط True باقی بماند، تکرار می‌کند.<br>\n",
    "    <span style=\"color:#8e24aa;\">• </span><b></b>دستور for یک عمل (یا گروهی از اقدامات) را برای هر آیتم در دنباله ای از آیتم ها تکرار می‌کند.<br>\n",
    "</div>"
   ]
  },
  {
   "cell_type": "markdown",
   "id": "2d2c8d4f",
   "metadata": {},
   "source": [
    "<h2 style=\"direction:rtl;font-size: px;font-family: 'XB Zar';color:#0288d1;\">کلمات کلیدی</h2> <a id=''></a>"
   ]
  },
  {
   "cell_type": "markdown",
   "id": "f8458156",
   "metadata": {},
   "source": [
    "<div style=\"direction:rtl; font-size: 17px; font-family: 'XB Zar'; line-height: 200%\">کلمات if، elif، else، while، for، True و False کلمات کلیدی پایتون هستند. استفاده از یک کلمه کلیدی به عنوان یک شناسه مانند نام متغیر یک  syntax error است.\n",
    "جدول زیر کلمات کلیدی پایتون را فهرست می‌کند:\n",
    "</div>"
   ]
  },
  {
   "attachments": {
    "Screenshot%20%2833%29.png": {
     "image/png": "[encoded data removed]"
    }
   },
   "cell_type": "markdown",
   "id": "2ca15925",
   "metadata": {},
   "source": [
    "![Screenshot%20%2833%29.png](attachment:Screenshot%20%2833%29.png)"
   ]
  },
  {
   "cell_type": "markdown",
   "id": "bf6a3f97",
   "metadata": {},
   "source": [
    "<h1 style=\"direction:rtl;font-size: 35px;font-family: 'XB Zar';color:#8e24aa;\">3.3 <span style=\"color:#F50057;\">دستور if</span></h1> <a id='4'></a>"
   ]
  },
  {
   "cell_type": "markdown",
   "id": "34159182",
   "metadata": {},
   "source": [
    "<div style=\"direction:rtl; font-size: 17px; font-family: 'XB Zar'; line-height: 200%\">اجازه دهید یک دستور \n",
    "    if\n",
    "    را در پایتون اجرا کنیم:\n",
    "</div>"
   ]
  },
  {
   "cell_type": "code",
   "execution_count": null,
   "id": "6fbae661",
   "metadata": {},
   "outputs": [],
   "source": [
    "grade = 85"
   ]
  },
  {
   "cell_type": "code",
   "execution_count": null,
   "id": "d8f884df",
   "metadata": {},
   "outputs": [],
   "source": [
    "if grade >= 60:\n",
    "    print('Passed')"
   ]
  },
  {
   "cell_type": "markdown",
   "id": "80887c6c",
   "metadata": {},
   "source": [
    "<div style=\"direction:rtl; font-size: 17px; font-family: 'XB Zar'; line-height: 200%\">از آنجایی که شرط \n",
    "    grade >= ۶۰ \n",
    "    برقرار است، تابع \n",
    "    print\n",
    "    با تورفتگی در قسمت \n",
    "    suite\n",
    "    دستور \n",
    "    if\n",
    "    ، کلمه \n",
    "    'Passed'\n",
    "    را نمایش می‌دهد.\n",
    "</div>"
   ]
  },
  {
   "cell_type": "markdown",
   "id": "f22cbf7d",
   "metadata": {},
   "source": [
    "<h2 style=\"direction:rtl;font-size: px;font-family: 'XB Zar';color:#0288d1;\">تورفتگی Suite</h2> <a id=''></a>"
   ]
  },
  {
   "cell_type": "markdown",
   "id": "f231d01d",
   "metadata": {},
   "source": [
    "<div style=\"direction:rtl; font-size: 17px; font-family: 'XB Zar'; line-height: 200%\">رعایت تورفتگی برای قسمت \n",
    "    suite\n",
    "    ضروری است و در غیر این صورت یک خطای گرامری \n",
    "    IndentationError\n",
    "    روی می‌دهد.\n",
    "</div>"
   ]
  },
  {
   "cell_type": "code",
   "execution_count": null,
   "id": "7d49dae5",
   "metadata": {},
   "outputs": [],
   "source": [
    "if grade >= 60:\n",
    "print('Passed')  # statement is not indented properly"
   ]
  },
  {
   "cell_type": "markdown",
   "id": "3ef33372",
   "metadata": {},
   "source": [
    "<div style=\"direction:rtl; font-size: 17px; font-family: 'XB Zar'; line-height: 200%\">اگر در یک \n",
    "    suite\n",
    "    بیش از یک دستور باشد و تورفتگی این دستورات یکی نباشد، مجدداً خطای گرامری \n",
    "    IndentationError\n",
    "    روی می‌دهد.\n",
    "</div>"
   ]
  },
  {
   "cell_type": "code",
   "execution_count": null,
   "id": "a43b850c",
   "metadata": {},
   "outputs": [],
   "source": [
    "if grade >= 60:\n",
    "    print('Passed')  # indented 4 spaces\n",
    "  print('Good job!)  # incorrectly indented only two spaces"
   ]
  },
  {
   "cell_type": "markdown",
   "id": "479f6f15",
   "metadata": {},
   "source": [
    "<div style=\"direction:rtl; font-size: 17px; font-family: 'XB Zar'; line-height: 200%\">گاهی اوقات ممکن است پیام‌های خطا واضح نباشند. این واقعیت که پایتون توجه شما را معطوف به شماره خطی می‌کند که خطا در آن روی داده است، برای یافتن علت خطا کفایت می‌کند. سعی کنید فاصله گذاری و تورفتگی یکنواخت و متعارف را در کل کد اعمال کنید، خواندن و درک برنامه‌هایی که فاصله گذاری و تورفتگی یکنواختی ندارند، دشوار است.\n",
    "</div>"
   ]
  },
  {
   "cell_type": "markdown",
   "id": "34fb6924",
   "metadata": {},
   "source": [
    "<h2 style=\"direction:rtl;font-size: px;font-family: 'XB Zar';color:#0288d1;\">هر عبارت را می‌توان به صورت \n",
    "    True\n",
    "    و یا \n",
    "    False\n",
    "    تفسیر کرد</h2> <a id=''></a>"
   ]
  },
  {
   "cell_type": "markdown",
   "id": "afb54e41",
   "metadata": {},
   "source": [
    "<div style=\"direction:rtl; font-size: 17px; font-family: 'XB Zar'; line-height: 200%\">می‌توانید بر اساس هر عبارت تصمیم گیری کنید. مقدار غیر صفر \n",
    "    True\n",
    "    و صفر \n",
    "    False\n",
    "    قلمداد می‌شود:\n",
    "</div>"
   ]
  },
  {
   "cell_type": "code",
   "execution_count": null,
   "id": "7e5d7d62",
   "metadata": {},
   "outputs": [],
   "source": [
    "if 1:\n",
    "    print('Nonzero values are true, so this will print')"
   ]
  },
  {
   "cell_type": "code",
   "execution_count": null,
   "id": "c51a90a1",
   "metadata": {},
   "outputs": [],
   "source": [
    "if 0:\n",
    "    print('Zero is false, so this will not print')"
   ]
  },
  {
   "cell_type": "markdown",
   "id": "a81f5279",
   "metadata": {},
   "source": [
    "<div style=\"direction:rtl; font-size: 17px; font-family: 'XB Zar'; line-height: 200%\">رشته های حاوی کاراکتر True و رشته های خالی (''، \"\" یا \"\"\"\"\"\") False هستند.\n",
    "</div>"
   ]
  },
  {
   "cell_type": "markdown",
   "id": "fcdb2481",
   "metadata": {},
   "source": [
    "<h2 style=\"direction:rtl;font-size: px;font-family: 'XB Zar';color:#0288d1;\">اشتباه گرفتن =  با ==</h2><a id=''></a>"
   ]
  },
  {
   "cell_type": "markdown",
   "id": "a7e642b6",
   "metadata": {},
   "source": [
    "<div style=\"direction:rtl; font-size: 17px; font-family: 'XB Zar'; line-height: 200%\">استفاده از عملگر برابری == به جای = در یک دستور انتساب می‌تواند منجر به مشکلات ظریف شود.\n",
    "به عنوان مثال، در کد ذیل، اسنیپت [1] متغیر \n",
    "    grade\n",
    "    را با یک دستور انتساب تعریف کرد:\n",
    "</div>"
   ]
  },
  {
   "cell_type": "code",
   "execution_count": null,
   "id": "91813bc3",
   "metadata": {},
   "outputs": [],
   "source": [
    "grade = 85"
   ]
  },
  {
   "cell_type": "markdown",
   "id": "0d3e3e3e",
   "metadata": {},
   "source": [
    "<div style=\"direction:rtl; font-size: 17px; font-family: 'XB Zar'; line-height: 200%\">اگر به طور اتفاقی از کد ذیل استفاده کنیم:\n",
    "</div>"
   ]
  },
  {
   "cell_type": "code",
   "execution_count": null,
   "id": "33c97caf",
   "metadata": {},
   "outputs": [],
   "source": [
    "grade == 85"
   ]
  },
  {
   "cell_type": "markdown",
   "id": "16bf0f82",
   "metadata": {},
   "source": [
    "<div style=\"direction:rtl; font-size: 17px; font-family: 'XB Zar'; line-height: 200%\">متغیر \n",
    "    grade\n",
    "    تعریف نشده است و \n",
    "    NameError\n",
    "    دریافت می‌کنیم.\n",
    "اگر \n",
    "    grade\n",
    "    قبل از عبارت قبلی تعریف شده باشد، \n",
    "    grade == 85\n",
    "    به سادگی به \n",
    "    True یا False\n",
    "    ارزیابی می‌شود ولی هیچ دستور انتسابی انجام نمی‌گیرد. این اشتباه یک خطای منطقی\n",
    "     logic error\n",
    "    است.\n",
    "</div>"
   ]
  },
  {
   "cell_type": "markdown",
   "id": "9dc2584a",
   "metadata": {},
   "source": [
    "<h1 style=\"direction:rtl;font-size: 35px;font-family: 'XB Zar';color:#8e24aa;\">3.4 <span style=\"color:#F50057;\">دستور if…else و if…elif…else</span></h1> <a id='5'></a>"
   ]
  },
  {
   "cell_type": "markdown",
   "id": "7ad9f083",
   "metadata": {},
   "source": [
    "<div style=\"direction:rtl; font-size: 17px; font-family: 'XB Zar'; line-height: 200%\">دستور \n",
    "    if…else\n",
    "    بر اساس برقرار بودن و یا عدم برقراری شرط، \n",
    "     suite\n",
    "    های مختلفی را اجرا می‌کند.\n",
    "</div>"
   ]
  },
  {
   "cell_type": "code",
   "execution_count": null,
   "id": "305feb44",
   "metadata": {},
   "outputs": [],
   "source": [
    "grade = 85"
   ]
  },
  {
   "cell_type": "code",
   "execution_count": null,
   "id": "e87c142c",
   "metadata": {},
   "outputs": [],
   "source": [
    "if grade >= 60: \n",
    "    print('Passed')\n",
    "else:\n",
    "    print('Failed')"
   ]
  },
  {
   "cell_type": "markdown",
   "id": "d9728903",
   "metadata": {},
   "source": [
    "<div style=\"direction:rtl; font-size: 17px; font-family: 'XB Zar'; line-height: 200%\">قسمت شرطی دستور \n",
    "    if\n",
    "    برقرار است و به همین دلیل \n",
    "    suite\n",
    "    دستور \n",
    "    if\n",
    "    عبارت \n",
    "    'Passed'\n",
    "    را نشان می‌دهد. توجه کنید زمانی که بعد از تایپ \n",
    "    print('Passed')\n",
    "    کلید \n",
    "    Enter\n",
    "    را می‌زنید، \n",
    "    IPython\n",
    "    در خط بعدی چهار فضای خالی \n",
    "    یا space\n",
    "    قرار می‌دهد. باید این چهار فضای خالی را حذف کنید تا \n",
    "    else\n",
    "    و \n",
    "    suite\n",
    "    آن با \n",
    "    if\n",
    "    کاملا تراز شوند.\n",
    "</div>\n",
    "\n",
    "<br>\n",
    "<div style=\"direction:rtl; font-size: 17px; font-family: 'XB Zar'; line-height: 200%\">کد ذیل مقدار متغیر \n",
    "    grade\n",
    "    را با ۵۷ مقداردهی می‌کند و نشان می‌دهد زمانی که قسمت شرط در دستور \n",
    "     if…else\n",
    "    برقرار نباشد، \n",
    "    suite\n",
    "    های قسمت \n",
    "    else\n",
    "    اجرا می‌شوند:\n",
    "</div>"
   ]
  },
  {
   "cell_type": "code",
   "execution_count": null,
   "id": "d3239c86",
   "metadata": {},
   "outputs": [],
   "source": [
    "grade = 57"
   ]
  },
  {
   "cell_type": "code",
   "execution_count": null,
   "id": "38022c26",
   "metadata": {},
   "outputs": [],
   "source": [
    "if grade >= 60: \n",
    "    print('Passed')\n",
    "else:\n",
    "    print('Failed')"
   ]
  },
  {
   "cell_type": "markdown",
   "id": "9728c1f8",
   "metadata": {},
   "source": [
    "<div style=\"direction:rtl; font-size: 17px; font-family: 'XB Zar'; line-height: 200%\">از کلیدهای پیکان بالا و پایین برای پیمایش به عقب و جلو در \n",
    "    اسنیپت‌های\n",
    "    جلسه تعاملی فعلی استفاده کنید.\n",
    "با فشار دادن Enter \n",
    "    اسنیپت\n",
    "    نمایش داده‌شده مجددا اجرا می‌شود. بیایید \n",
    "    grade\n",
    "    را روی ۹۹ تنظیم کنیم، کلید پیکان رو به بالا را دو بار فشار دهید تا کد از \n",
    "    اسنیپت\n",
    "    [4] فراخوانی شود، سپس Enter را فشار دهید تا آن کد دوباره به عنوان \n",
    "    اسنیپت\n",
    "    [6] اجرا شود. هر \n",
    "    اسنیپت\n",
    "    فراخوانی شده‌ای که اجرا می‌کنید یک شناسه جدید دریافت می‌کند:\n",
    "</div>"
   ]
  },
  {
   "cell_type": "code",
   "execution_count": null,
   "id": "da016d27",
   "metadata": {},
   "outputs": [],
   "source": [
    "grade = 99"
   ]
  },
  {
   "cell_type": "code",
   "execution_count": null,
   "id": "08fb7197",
   "metadata": {},
   "outputs": [],
   "source": [
    "if grade >= 60: \n",
    "    print('Passed')\n",
    "else:\n",
    "    print('Failed')"
   ]
  },
  {
   "cell_type": "markdown",
   "id": "42b8d3d1",
   "metadata": {},
   "source": [
    "<h2 style=\"direction:rtl;font-size: px;font-family: 'XB Zar';color:#0288d1;\">عبارت‌های شرطی</h2><a id=''></a>"
   ]
  },
  {
   "cell_type": "markdown",
   "id": "b692724e",
   "metadata": {},
   "source": [
    "<div style=\"direction:rtl; font-size: 17px; font-family: 'XB Zar'; line-height: 200%\">برقراری شرط و یا عدم برقراری آن در \n",
    "    if…else\n",
    "    موجب می‌شود قسمت \n",
    "    suite\n",
    "    دستور \n",
    "    if\n",
    "    دستورهای انتساب متفاوتی را انجام دهد:\n",
    "</div>"
   ]
  },
  {
   "cell_type": "code",
   "execution_count": null,
   "id": "eabdde23",
   "metadata": {},
   "outputs": [],
   "source": [
    "grade = 87"
   ]
  },
  {
   "cell_type": "code",
   "execution_count": null,
   "id": "64a8e869",
   "metadata": {},
   "outputs": [],
   "source": [
    "if grade >= 60:\n",
    "    result = 'Passed'\n",
    "else:\n",
    "    result = 'Failed'"
   ]
  },
  {
   "cell_type": "markdown",
   "id": "d8d0c398",
   "metadata": {},
   "source": [
    "<div style=\"direction:rtl; font-size: 17px; font-family: 'XB Zar'; line-height: 200%\">می‌توانیم با تابع \n",
    "    print\n",
    "    و یا ارزیابی مقادیر مقدار آن را ببینیم:\n",
    "</div>"
   ]
  },
  {
   "cell_type": "code",
   "execution_count": null,
   "id": "34a40980",
   "metadata": {},
   "outputs": [],
   "source": [
    "result"
   ]
  },
  {
   "cell_type": "markdown",
   "id": "53b0356d",
   "metadata": {},
   "source": [
    "<div style=\"direction:rtl; font-size: 17px; font-family: 'XB Zar'; line-height: 200%\">با استفاده از عبارت‌های شرطی کوتاه می‌توانید اسنیپت را به این شکل بنویسید:\n",
    "</div>"
   ]
  },
  {
   "cell_type": "code",
   "execution_count": null,
   "id": "b9f19e10",
   "metadata": {},
   "outputs": [],
   "source": [
    "result = ('Passed' if grade >= 60 else 'Failed')"
   ]
  },
  {
   "cell_type": "code",
   "execution_count": null,
   "id": "6fd31ead",
   "metadata": {},
   "outputs": [],
   "source": [
    "result"
   ]
  },
  {
   "cell_type": "markdown",
   "id": "05475a0e",
   "metadata": {},
   "source": [
    "<div style=\"direction:rtl; font-size: 17px; font-family: 'XB Zar'; line-height: 200%\">استفاده از پرانتزها ضروری نیست ولی موجب افزایش خوانایی کد شده و نشان می‌دهد مقدار یک عبارت شرطی در متغیر \n",
    "     result\n",
    "    ذخیره می‌گردد. در ابتدا پایتون شرط \n",
    "     grade >= 60\n",
    "    را تست می‌کند:\n",
    "</div>\n",
    "\n",
    "<div style=\"direction:rtl; font-size: 17px; font-family: 'XB Zar'; line-height: 200%\">\n",
    "    <span style=\"color:#8e24aa;\">• </span>اگر شرط برقرار باشد \n",
    "    اسنیپت \n",
    "    [۱۰] مقدار سمت چپ دستور \n",
    "    if\n",
    "    یعنی \n",
    "    'Passed'\n",
    "    را در متغیر \n",
    "    result\n",
    "    ذخیره می‌کند. قسمت \n",
    "     else\n",
    "    اجرا نمی‌شود.<br>\n",
    "    <span style=\"color:#8e24aa;\">• </span>اگر شرط برقرار نباشد اسنیپت [۱۰] مقدار سمت راست دستور \n",
    "    else\n",
    "    یعنی \n",
    "    'Failed'\n",
    "    را در متغیر \n",
    "    result\n",
    "    ذخیره می‌کند.<br>\n",
    "</div>\n",
    "\n",
    "<div style=\"direction:rtl; font-size: 17px; font-family: 'XB Zar'; line-height: 200%\">در حالت محاوره‌ای به راحتی می‌توانید عبارات شرطی را ارزیابی کنید:\n",
    "</div>"
   ]
  },
  {
   "cell_type": "code",
   "execution_count": null,
   "id": "de86aae0",
   "metadata": {},
   "outputs": [],
   "source": [
    "'Passed' if grade >= 60 else 'Failed'"
   ]
  },
  {
   "cell_type": "markdown",
   "id": "111a3a23",
   "metadata": {},
   "source": [
    "<h2 style=\"direction:rtl;font-size: px;font-family: 'XB Zar';color:#0288d1;\">چند دستور در یک suite</h2><a id=''></a>"
   ]
  },
  {
   "cell_type": "markdown",
   "id": "6221ac97",
   "metadata": {},
   "source": [
    "<div style=\"direction:rtl; font-size: 17px; font-family: 'XB Zar'; line-height: 200%\">در قسمت else کد ذیل دو دستور قرار گرفته‌اند:\n",
    "</div>"
   ]
  },
  {
   "cell_type": "code",
   "execution_count": null,
   "id": "70106a13",
   "metadata": {},
   "outputs": [],
   "source": [
    "grade = 49"
   ]
  },
  {
   "cell_type": "code",
   "execution_count": null,
   "id": "2c6a5bd5",
   "metadata": {},
   "outputs": [],
   "source": [
    "if grade >= 60:\n",
    "    print('Passed')\n",
    "else:\n",
    "    print('Failed')\n",
    "    print('You must take this course again')"
   ]
  },
  {
   "cell_type": "markdown",
   "id": "8f05a65e",
   "metadata": {},
   "source": [
    "<div style=\"direction:rtl; font-size: 17px; font-family: 'XB Zar'; line-height: 200%\">اگر \n",
    "    grade\n",
    "    کمتر از ۶۰ باشد، هر دو دستور در \n",
    "    suite\n",
    "    قسمت \n",
    "    else\n",
    "    اجرا می‌شوند. اگر تورفتگی \n",
    "    print\n",
    "    دوم را رعایت نکنید به عنوان بخشی از \n",
    "    suite\n",
    "    قسمت \n",
    "    else\n",
    "    محسوب نخواهد شد. به همین دلیل این دستور اجرا شده و نتایج عجیب و غریبی تولید می‌شود.\n",
    "</div>"
   ]
  },
  {
   "cell_type": "code",
   "execution_count": null,
   "id": "64404f4a",
   "metadata": {},
   "outputs": [],
   "source": [
    "grade = 100"
   ]
  },
  {
   "cell_type": "code",
   "execution_count": null,
   "id": "c8a9131a",
   "metadata": {},
   "outputs": [],
   "source": [
    "if grade >= 60:\n",
    "    print('Passed')\n",
    "else:\n",
    "    print('Failed')\n",
    "print('You must take this course again')"
   ]
  },
  {
   "cell_type": "markdown",
   "id": "7449bea9",
   "metadata": {},
   "source": [
    "<h2 style=\"direction:rtl;font-size: px;font-family: 'XB Zar';color:#0288d1;\">دستور \n",
    "if…elif…else</h2><a id=''></a>"
   ]
  },
  {
   "cell_type": "markdown",
   "id": "feedf7ef",
   "metadata": {},
   "source": [
    "<div style=\"direction:rtl; font-size: 17px; font-family: 'XB Zar'; line-height: 200%\">با دستور \n",
    "    if…elif…else\n",
    "    می‌توانید حالت‌های زیادی را بررسی و تست کنید. کد ذیل برای نمراتی که بزرگتر و یا مساوی ۹۰ هستند حرف \n",
    "    A\n",
    "    ، نمراتی که بین ۸۰ تا ۸۹ هستند \n",
    "    B\n",
    "    ، نمراتی که بین ۷۰ تا ۷۹ هستند \n",
    "    C\n",
    "    ، نمراتی که بین ۶۰ تا ۶۹ هستند \n",
    "    D\n",
    "    و برای سایر نمرات \n",
    "    F\n",
    "    را نمایش می‌دهد. فقط دستورات اولین شرطی که درست باشند، اجرا می‌شوند. از آنجایی که مقدار \n",
    "    grade\n",
    "    برابر ۷۲ است، اسنیپت [۱۸] حرف \n",
    "    C\n",
    "    را نمایش می‌دهد.\n",
    "</div>"
   ]
  },
  {
   "cell_type": "code",
   "execution_count": null,
   "id": "43393213",
   "metadata": {},
   "outputs": [],
   "source": [
    "grade = 77"
   ]
  },
  {
   "cell_type": "code",
   "execution_count": null,
   "id": "672ea4a2",
   "metadata": {},
   "outputs": [],
   "source": [
    "if grade >= 90:\n",
    "    print('A')\n",
    "elif grade >= 80:\n",
    "    print('B')\n",
    "elif grade >= 70:\n",
    "    print('C')\n",
    "elif grade >= 60:\n",
    "    print('D')\n",
    "else:\n",
    "    print('F')"
   ]
  },
  {
   "cell_type": "markdown",
   "id": "a4070b44",
   "metadata": {},
   "source": [
    "<div style=\"direction:rtl; font-size: 17px; font-family: 'XB Zar'; line-height: 200%\">اولین شرط یعنی \n",
    "    grade >= 90\n",
    "    برقرار نیست و به همین دلیل از \n",
    "    print('A')\n",
    "    صرف نظر می‌شود. دومین شرط یعنی \n",
    "    grade >= 80\n",
    "    برقرار نیست و به همین دلیل از \n",
    "    print('B')\n",
    "    صرف نظر می‌شود. سومین شرط یعنی \n",
    "    grade >= 70\n",
    "    برقرار است و به همین دلیل دستور \n",
    "    print('C')\n",
    "    اجرا می‌شود. از مابقی کدهای دستور \n",
    "    if…elif…else\n",
    "    صرف نظر می‌شود. دستور \n",
    "    if…elif…else\n",
    "    از دستور \n",
    "    if\n",
    "    سریع‌تر است به دلیل آنکه به محض برقراری اولین شرط مابقی شرط‌ها تست نمی‌شوند.\n",
    "</div>"
   ]
  },
  {
   "cell_type": "markdown",
   "id": "8c68b5ba",
   "metadata": {},
   "source": [
    "<h2 style=\"direction:rtl;font-size: px;font-family: 'XB Zar';color:#0288d1;\">قسمت \n",
    "    else\n",
    "    اختیاری است</h2><a id=''></a>"
   ]
  },
  {
   "cell_type": "markdown",
   "id": "f99b9777",
   "metadata": {},
   "source": [
    "<div style=\"direction:rtl; font-size: 17px; font-family: 'XB Zar'; line-height: 200%\">قسمت \n",
    "    else\n",
    "    در دستور \n",
    "     if…elif…else\n",
    "    اختیاری است. اگر دستور \n",
    "     if…elif\n",
    "    فاقد قسمت \n",
    "    else\n",
    "    باشد و مقدار بررسی شده با هیچ یک از شرط‌ها مطابقت نداشته باشد، هیچ یک از دستورات \n",
    "    suite\n",
    "    اجرا نمی‌شوند و دستور بعد از \n",
    "     if…elif…else\n",
    "    اجرا خواهد شد. اگر می‌خواهید در دستور \n",
    "     if…elif…else\n",
    "    قسمت \n",
    "    else\n",
    "    قرار دهید آن را بعد از آخرین \n",
    "    elif\n",
    "    قرار دهید، در غیر این صورت با خطای \n",
    "    SyntaxError\n",
    "    مواجه خواهید شد.\n",
    "</div>"
   ]
  },
  {
   "cell_type": "markdown",
   "id": "5631d24b",
   "metadata": {},
   "source": [
    "<h2 style=\"direction:rtl;font-size: px;font-family: 'XB Zar';color:#0288d1;\">خطاهای منطقی</h2><a id=''></a>"
   ]
  },
  {
   "cell_type": "markdown",
   "id": "9a0f3539",
   "metadata": {},
   "source": [
    "<div style=\"direction:rtl; font-size: 17px; font-family: 'XB Zar'; line-height: 200%\">تو رفتگی نادرست در قسمتی از کد مربوط به اسنیپت [۱۶] مثالی از یک خطای منطقی غیر بحرانی است. این کد اجرا می‌شود ولی نتایج درستی تولید می‌کند. خطای منطقی بحرانی موجب بروز یک استثنا (برای مثال نظیر \n",
    "    ZeroDivisionError\n",
    "    که به دلیل تقسیم بر صفر روی می‌دهد) می‌شود، پایتون یک \n",
    "    traceback\n",
    "    نشان می‌دهد و اجرای اسکریپت خاتمه می‌یابد. هنگامی که در مد محاوره‌ای یک خطای بحرانی روی دهد، پایتون اجرای اسنیپت جاری را متوقف کرده و منتظر ورودی بعدی می‌ماند.\n",
    "</div>"
   ]
  },
  {
   "cell_type": "markdown",
   "id": "b3c2da01",
   "metadata": {},
   "source": [
    "<h1 style=\"direction:rtl;font-size: 35px;font-family: 'XB Zar';color:#8e24aa;\">3.5 <span style=\"color:#F50057;\">دستور while</span></h1> <a id='6'></a>"
   ]
  },
  {
   "cell_type": "markdown",
   "id": "decd5580",
   "metadata": {},
   "source": [
    "<div style=\"direction:rtl; font-size: 17px; font-family: 'XB Zar'; line-height: 200%\">دستور \n",
    "    while\n",
    "    این امکان را به شما می‌دهد یک یا چند دستور را تا زمانی که شرط تکرار حلقه درست باشد اجرا کنید. مثال ذیل با استفاده از دستور \n",
    "    while\n",
    "    اولین توانی از ۳ که بزرگتر از ۵۰ باشد را پیدا می‌کند.\n",
    "</div>"
   ]
  },
  {
   "cell_type": "code",
   "execution_count": null,
   "id": "210ce1fc",
   "metadata": {},
   "outputs": [],
   "source": [
    "product = 3"
   ]
  },
  {
   "cell_type": "code",
   "execution_count": null,
   "id": "ccf40c71",
   "metadata": {},
   "outputs": [],
   "source": [
    "while product <= 50:\n",
    "    product = product * 3    "
   ]
  },
  {
   "cell_type": "code",
   "execution_count": null,
   "id": "548a9827",
   "metadata": {},
   "outputs": [],
   "source": [
    "product"
   ]
  },
  {
   "cell_type": "markdown",
   "id": "e2c50d4e",
   "metadata": {},
   "source": [
    "<div style=\"direction:rtl; font-size: 17px; font-family: 'XB Zar'; line-height: 200%\">اسنیپت [۳] متغیر \n",
    "    product\n",
    "    را ارزیابی کرده و مقدار ۸۱ را نشان می‌دهد. ۸۱ اولین توان بزرگتر از ۵۰ عدد ۳ می‌باشد. در داخل \n",
    "    suite\n",
    "    حلقه \n",
    "    while\n",
    "    باید مقدار \n",
    "    product\n",
    "    تغییر کند تا در نهایت شرط تکرار حلقه نادرست شود، در غیر این صورت یک حلقه تکرار نامتناهی رخ می‌دهد. هنگام اجرای برنامه‌ها در ترمینال، خط فرمان \n",
    "    آناکوندا\n",
    "    Anaconda Command Prompt\n",
    "    یا \n",
    "    shell\n",
    "    با زدن \n",
    "    $ Ctrl + c \\ or \\ control + c $\n",
    "    حلقه بی‌نهایت خاتمه می‌یابد. معمولا \n",
    "    IDEها\n",
    "    یک دکمه روی نوار ابزار یا گزینه‌ای در منو برای توقف اجرای برنامه دارند.\n",
    "</div>"
   ]
  },
  {
   "cell_type": "markdown",
   "id": "83ffae0c",
   "metadata": {},
   "source": [
    "<h1 style=\"direction:rtl;font-size: 35px;font-family: 'XB Zar';color:#8e24aa;\">3.6 <span style=\"color:#F50057;\">دستور for</span></h1> <a id='7'></a>"
   ]
  },
  {
   "cell_type": "markdown",
   "id": "5dd3d453",
   "metadata": {},
   "source": [
    "<div style=\"direction:rtl; font-size: 17px; font-family: 'XB Zar'; line-height: 200%\">دستور \n",
    "    for\n",
    "    به شما این امکان را می‌دهد که یک عمل یا چند عمل را برای هر یک از داده‌های یک دنباله تکرار کنید. به عنوان مثال، یک رشته دنباله‌ای از کاراکترهای منفرد است. برنامه ذیل کاراکترهای کلمه \n",
    "    Programming\n",
    "    را با دو فاصله از هم نشان می‌دهد:\n",
    "</div>"
   ]
  },
  {
   "cell_type": "code",
   "execution_count": null,
   "id": "18fda125",
   "metadata": {},
   "outputs": [],
   "source": [
    "for character in 'Programming':\n",
    "    print(character, end='  ')"
   ]
  },
  {
   "cell_type": "markdown",
   "id": "d9797c8e",
   "metadata": {},
   "source": [
    "<div style=\"direction:rtl; font-size: 17px; font-family: 'XB Zar'; line-height: 200%\">دستور \n",
    "    for\n",
    "    به شرح زیر اجرا می‌شود:\n",
    "</div>\n",
    "\n",
    "<div style=\"direction:rtl; font-size: 17px; font-family: 'XB Zar'; line-height: 200%\">\n",
    "    <span style=\"color:#8e24aa;\">• </span>با وارد شدن به دستور \n",
    "    for\n",
    "    کاراکتر \n",
    "    'P'\n",
    "    از کلمه \n",
    "    Programming \n",
    "    به متغیر \n",
    "    target\n",
    "    (در این مثال \n",
    "     character\n",
    "    ) که بین دو کلمه کلیدی \n",
    "    for\n",
    "    و \n",
    "    in\n",
    "    قرار دارد، اختصاص می‌یابد.<br>\n",
    "    <span style=\"color:#8e24aa;\">• </span>در مرحله بعد دستور داخل \n",
    "    suite\n",
    "    اجرا شده و مقدار متغیر \n",
    "    character\n",
    "    با دو فضای خالی چاپ می‌شود، به زودی در این مورد توضیح می‌دهیم.<br>\n",
    "    <span style=\"color:#8e24aa;\">• </span>پایتون بعد از اجرای \n",
    "    suite\n",
    "    کاراکتر بعدی در دنباله یعنی (\n",
    "    'r'\n",
    "    در \n",
    "    Programming\n",
    "    ) را به متغیر \n",
    "    character\n",
    "    اختصاص داده و \n",
    "    suite\n",
    "    را اجرا می‌کند.<br>\n",
    "    <span style=\"color:#8e24aa;\">• </span>این روند تا زمانی که تمامی کاراکترها در دنباله پردازش شوند، ادامه می‌یابد. در این مرحله بعد از نمایش \n",
    "    'g'\n",
    "    به همراه دو کاراکتر \n",
    "    space\n",
    "    ، اجرای حلقه \n",
    "    for\n",
    "    خاتمه می‌یابد.<br>\n",
    "</div>\n",
    "\n",
    "<div style=\"direction:rtl; font-size: 17px; font-family: 'XB Zar'; line-height: 200%\">استفاده از متغیر \n",
    "    target\n",
    "    در \n",
    "    suite\n",
    "    همانطور که در اینجا برای نمایش مقدار آن انجام داده‌ایم، رایج است اما لازم نیست.\n",
    "</div>"
   ]
  },
  {
   "cell_type": "markdown",
   "id": "b7163806",
   "metadata": {},
   "source": [
    "<h2 style=\"direction:rtl;font-size: px;font-family: 'XB Zar';color:#0288d1;\">تابع print و آرگومان کلیدی end</h2><a id=''></a>"
   ]
  },
  {
   "cell_type": "markdown",
   "id": "42cc7c2c",
   "metadata": {},
   "source": [
    "<div style=\"direction:rtl; font-size: 17px; font-family: 'XB Zar'; line-height: 200%\">تابع \n",
    "    print\n",
    "    آرگومان‌های خود را نمایش می‌دهد و سپس مکان نما را به خط بعدی منتقل می‌کند. با کمک آرگومان\n",
    "    end\n",
    "    می‌توانید این رفتار را تغییر دهید، برای مثال در کد بالا مقدار \n",
    "    character\n",
    "    به همراه دو فاصله نمایش داده شد؛ بنابراین تمام کاراکترها به صورت افقی در یک خط نمایش داده شده‌اند. پایتون کلمه \n",
    "    end\n",
    "    را به عنوان یک آرگومان کلیدی فراخوانی می‌کند، اما \n",
    "    end\n",
    "    یک کلمه کلیدی در پایتون محسوب نمی‌شود. گاهی اوقات آرگومان‌های کلیدی را آرگومان‌های با نام می‌نامند. آرگومان \n",
    "    end\n",
    "    اختیاری است. اگر آن را وارد نکنید تابع \n",
    "    print\n",
    "    به‌طور پیش‌فرض از یک کاراکتر خط جدید \n",
    "    $\\n$\n",
    "    استفاده می‌کند. راهنمای سبک کدنویسی پایتون توصیه می‌کند در دو طرف آرگومان‌های کلیدی فضای خالی قرار ندهید.\n",
    "</div>"
   ]
  },
  {
   "cell_type": "markdown",
   "id": "02ebb1c0",
   "metadata": {},
   "source": [
    "<h2 style=\"direction:rtl;font-size: px;font-family: 'XB Zar';color:#0288d1;\">تابع print و آرگومان کلیدی sep</h2><a id=''></a>"
   ]
  },
  {
   "cell_type": "markdown",
   "id": "3acbaeab",
   "metadata": {},
   "source": [
    "<div style=\"direction:rtl; font-size: 17px; font-family: 'XB Zar'; line-height: 200%\">برای تعیین رشته‌ای که در بین داده‌های نمایش داده شده توسط تابع \n",
    "     print\n",
    "    قرار می‌گیرد، می‌توانید از کلمه کلیدی \n",
    "    sep\n",
    "    مخفف\n",
    "    separator\n",
    "    استفاده کنید. وقتی این کلمه کلیدی را مشخص نکنید، تابع \n",
    "     print\n",
    "    به‌طور پیش‌فرض از یک کاراکتر فاصله استفاده می‌کند. بگذارید سه عدد نمایش دهیم و به جای آنکه آن‌ها را فقط با یک فاصله از هم جدا کنیم، از یک کاما و یک فاصله برای این کار استفاده کنیم:\n",
    "</div>"
   ]
  },
  {
   "cell_type": "code",
   "execution_count": null,
   "id": "18534ce9",
   "metadata": {},
   "outputs": [],
   "source": [
    "print(10, 20, 30, sep=', ')"
   ]
  },
  {
   "cell_type": "markdown",
   "id": "ad8c29f9",
   "metadata": {},
   "source": [
    "<div style=\"direction:rtl; font-size: 17px; font-family: 'XB Zar'; line-height: 200%\">برای حذف فضاهای پیش‌فرض، از \n",
    "</div> \n",
    "\n",
    "```python\n",
    "sep=''\n",
    "```\n",
    "\n",
    "<div style=\"direction:rtl; font-size: 17px; font-family: 'XB Zar'; line-height: 200%\">\n",
    "    (یعنی یک رشته خالی) استفاده کنید.\n",
    "</div>"
   ]
  },
  {
   "cell_type": "markdown",
   "id": "72f4ef06",
   "metadata": {},
   "source": [
    "<h2 style=\"direction:rtl;font-size: 25px;font-family: 'XB Zar';color:#8e24aa;\">3.6.1 <span style=\"color:#8e24aa;\">Iterableها، Listها و Iteratorها</span></h2> <a id='8'></a>"
   ]
  },
  {
   "cell_type": "markdown",
   "id": "e921479e",
   "metadata": {},
   "source": [
    "<div style=\"direction:rtl; font-size: 17px; font-family: 'XB Zar'; line-height: 200%\">دنباله سمت راست کلمه \n",
    "    in \n",
    "    در دستور \n",
    "    for\n",
    "     باید یک شیء از نوع  \n",
    "    iterable\n",
    "    باشد - یعنی یک شیء که دستور \n",
    "    for\n",
    "    می‌تواند هر بار یک داده از آن بگیرد تا زمانی که هیچ داده دیگری باقی نماند.\n",
    "پایتون علاوه بر رشته‌ها، انواع دیگری از دنباله‌های \n",
    "    iterable\n",
    "    دارد.\n",
    "یکی از رایج‌ترین آن‌ها \n",
    "    list\n",
    "    است که مجموعه‌ای از آیتم‌های جدا شده با کاما است که بین دو براکت \n",
    "    ([ ])\n",
    "    محصور شده‌اند.\n",
    "کد زیر حاصل جمع پنج عدد صحیح در یک \n",
    "    list\n",
    "    است:\n",
    "</div>"
   ]
  },
  {
   "cell_type": "code",
   "execution_count": null,
   "id": "873a1958",
   "metadata": {},
   "outputs": [],
   "source": [
    "total = 0"
   ]
  },
  {
   "cell_type": "code",
   "execution_count": null,
   "id": "c1920623",
   "metadata": {},
   "outputs": [],
   "source": [
    "for number in [2, -3, 0, 17, 9]:\n",
    "    total = total + number"
   ]
  },
  {
   "cell_type": "code",
   "execution_count": null,
   "id": "4dfc59d2",
   "metadata": {},
   "outputs": [],
   "source": [
    "total"
   ]
  },
  {
   "cell_type": "markdown",
   "id": "2bf0f30b",
   "metadata": {},
   "source": [
    "<div style=\"direction:rtl; font-size: 17px; font-family: 'XB Zar'; line-height: 200%\">هر دنباله دارای یک \n",
    "    iterator\n",
    "    است.\n",
    "دستور \n",
    "    for\n",
    "    از \n",
    "    iterator\n",
    "    در\n",
    "    \"پشت صحنه\" برای دریافت هر آیتم متوالی استفاده می‌کند تا زمانی که دیگر داده‌ای برای پردازش وجود نداشته باشد.\n",
    "    iterator\n",
    "    مانند یک نشانک است - همیشه می‌داند در کجای دنباله قرار دارد، بنابراین می‌تواند مورد بعدی را هنگامی که برای انجام این کار فراخوانده شد، برگرداند.\n",
    "ما \n",
    "    list \n",
    "    ها را به‌طور مفصل در فصل \"دنباله‌ها: لیست‌ها و تاپل‌ها\" پوشش می‌دهیم.\n",
    "در آن‌جا خواهید دید که ترتیب موارد موجود در یک لیست مهم است و موارد یک لیست \n",
    "    mutable\n",
    "    هستند (یعنی قابل تغییر).\n",
    "</div>"
   ]
  },
  {
   "cell_type": "markdown",
   "id": "0ed0006d",
   "metadata": {},
   "source": [
    "<h2 style=\"direction:rtl;font-size: 25px;font-family: 'XB Zar';color:#8e24aa;\">3.6.2 <span style=\"color:#8e24aa;\">تابع از پیش تعریف‌شده \n",
    "    range</span></h2> <a id='9'></a>"
   ]
  },
  {
   "cell_type": "markdown",
   "id": "6b6c5552",
   "metadata": {},
   "source": [
    "<div style=\"direction:rtl; font-size: 17px; font-family: 'XB Zar'; line-height: 200%\">برنامه ذیل با استفاده از دستور \n",
    "    for\n",
    "    و تابع از پیش تعریف‌شده \n",
    "    range\n",
    "    و با ۱۰ بار تکرار، اعداد صحیح از ۰ تا ۹ را نشان می‌دهد:\n",
    "</div>"
   ]
  },
  {
   "cell_type": "code",
   "execution_count": null,
   "id": "a87a9c5e",
   "metadata": {},
   "outputs": [],
   "source": [
    "for counter in range(10):\n",
    "    print(counter, end=' ')"
   ]
  },
  {
   "cell_type": "markdown",
   "id": "b87db02f",
   "metadata": {},
   "source": [
    "<div style=\"direction:rtl; font-size: 17px; font-family: 'XB Zar'; line-height: 200%\">فراخوانی تابع \n",
    "    range(10)\n",
    "    یک شیء \n",
    "    iterable\n",
    "    ایجاد می‌کند. شیء اخیر دنباله‌ای است از اعداد صحیح از صفر تا یک واحد کمتر از آرگومان ورودی تابع.\n",
    "    به‌بیانی دیگر، دنباله فوق حاوی اعداد ۰،۱،۲،۳،۴،۵،۶،۷،۸،۹ می‌باشد. دستور \n",
    "    for\n",
    "    بعد از پردازش آخرین عدد تولید شده به‌وسیله تابع \n",
    "    range\n",
    "    خاتمه می‌یابد. \n",
    "    Iterator\n",
    "    و \n",
    "    iterable\n",
    "    ویژگی‌های برنامه نویسی به سبک رویه‌ای زبان پایتون محسوب می‌شوند. در این مورد بیشتر شرح خواهیم داد.\n",
    "</div>"
   ]
  },
  {
   "cell_type": "markdown",
   "id": "8a124d56",
   "metadata": {},
   "source": [
    "<h2 style=\"direction:rtl;font-size: px;font-family: 'XB Zar';color:#0288d1;\">خطاهای Off-By-One</h2><a id=''></a>"
   ]
  },
  {
   "cell_type": "markdown",
   "id": "3373a119",
   "metadata": {},
   "source": [
    "<div style=\"direction:rtl; font-size: 17px; font-family: 'XB Zar'; line-height: 200%\">یکی از خطاهای \n",
    "    Off-By-One\n",
    "    زمانی رخ می‌دهد که شما فرض کنید مقدار آرگومان تابع \n",
    "    range\n",
    "    در دنباله ایجاد‌شده قرار گرفته است. به‌عنوان مثال، اگر برای تولید دنباله ۰ تا ۹ تابع \n",
    "    range\n",
    "    را با آرگومان ۹ فراخوانی کنید، فقط دنباله ۰ تا ۸ تولید می‌شود.\n",
    "</div>"
   ]
  },
  {
   "cell_type": "markdown",
   "id": "d4262f21",
   "metadata": {},
   "source": [
    "<h1 style=\"direction:rtl;font-size: 35px;font-family: 'XB Zar';color:#8e24aa;\">3.7 <span style=\"color:#F50057;\">دستورات انتساب کوتاه شده</span></h1> <a id='10'></a>"
   ]
  },
  {
   "cell_type": "markdown",
   "id": "9ee8c3a0",
   "metadata": {},
   "source": [
    "<div style=\"direction:rtl; font-size: 17px; font-family: 'XB Zar'; line-height: 200%\">دستورات انتساب کوتاه شده در حقیقت عملگر کوتاه شده‌ای است که یک متغیر در دو طرف نماد انتساب = قرار می‌گیرد. به کد ذیل برای محاسبه \n",
    "    total\n",
    "    توجه کنید:\n",
    "</div>"
   ]
  },
  {
   "cell_type": "markdown",
   "id": "944efec4",
   "metadata": {},
   "source": [
    "```Python\n",
    "for number in [1, 2, 3, 4, 5]:\n",
    " total = total + number\n",
    "```"
   ]
  },
  {
   "cell_type": "markdown",
   "id": "018b7eab",
   "metadata": {},
   "source": [
    "<div style=\"direction:rtl; font-size: 17px; font-family: 'XB Zar'; line-height: 200%\">اسنیپت [2] از دستور کوتاه شده \n",
    "    $ += $\n",
    "    برای محاسبه \n",
    "    total\n",
    "    استفاده می‌کند:\n",
    "</div>"
   ]
  },
  {
   "cell_type": "code",
   "execution_count": null,
   "id": "2f3f5dfa",
   "metadata": {},
   "outputs": [],
   "source": [
    "total = 0"
   ]
  },
  {
   "cell_type": "code",
   "execution_count": null,
   "id": "6d9290a6",
   "metadata": {},
   "outputs": [],
   "source": [
    "for number in [1, 2, 3, 4, 5]:\n",
    "    total += number  # add number to total"
   ]
  },
  {
   "cell_type": "code",
   "execution_count": null,
   "id": "7cc41ddb",
   "metadata": {},
   "outputs": [],
   "source": [
    "total"
   ]
  },
  {
   "cell_type": "markdown",
   "id": "027dedef",
   "metadata": {},
   "source": [
    "<div style=\"direction:rtl; font-size: 17px; font-family: 'XB Zar'; line-height: 200%\">دستور \n",
    "    $ += $\n",
    "    مقدار متغیر \n",
    "    number\n",
    "    را با مقدار فعلی \n",
    "    total\n",
    "    جمع کرده و حاصل را در \n",
    "    total\n",
    "    به‌عنوان مقدار جدید ذخیره می‌کند. جدول ذیل عملگرهای کوتاه شده را نشان می‌دهد:\n",
    "</div>"
   ]
  },
  {
   "attachments": {
    "Screenshot%20%2834%29.png": {
     "image/png": "[encoded data removed]"
    }
   },
   "cell_type": "markdown",
   "id": "7fb625d2",
   "metadata": {},
   "source": [
    "![Screenshot%20%2834%29.png](attachment:Screenshot%20%2834%29.png)"
   ]
  },
  {
   "cell_type": "markdown",
   "id": "696a8a0e",
   "metadata": {},
   "source": [
    "<h1 style=\"direction:rtl;font-size: 35px;font-family: 'XB Zar';color:#8e24aa;\">3.8 <span style=\"color:#F50057;\">تکرارهای کنترل شده روی دنباله‌ها؛ رشته‌های فرمت شده</span></h1> <a id='11'></a>"
   ]
  },
  {
   "cell_type": "markdown",
   "id": "ef88f4b9",
   "metadata": {},
   "source": [
    "<div style=\"direction:rtl; font-size: 17px; font-family: 'XB Zar'; line-height: 200%\">این بخش و بخش بعدی دو مسئله در ارتباط با محاسبه میانگین یک کلاس را حل می‌کند. به صورت مسئله توجه کنید:\n",
    "    <br>\n",
    "    <br>\n",
    "    <i>\n",
    "    از دانشجویان یک کلاس ۱۰ نفره کوئیزی گرفته شده است. نمرات دانشجویان عبارت است از \n",
    "    ۹۸, ۷۶, ۷۱, ۸۷, ۸۳, ۹۰, ۵۷, ۷۹, ۸۲, ۹۴\n",
    "    . میانگین نمرات کلاس را تعیین کنید.\n",
    "    </i>\n",
    "</div>\n",
    "\n",
    "<br>\n",
    "<div style=\"direction:rtl; font-size: 17px; font-family: 'XB Zar'; line-height: 200%\">اسکریپت زیر برای حل این مسئله مجموع نمرات را نگه می‌دارد، میانگین را محاسبه کرده و نتیجه را نمایش می‌دهد. ۱۰ نمره را در یک لیست قرار دادیم، اما شما می‌توانید نمرات را از طریق صفحه کلید کاربر وارد کنید (همانطور که در مثال بعدی انجام خواهیم داد) یا آنها را از یک فایل بخوانید (نحوه انجام کار را در فصل فایل‌ها و استثناها مشاهده خواهید کرد). در فصل ۱۶ نحوه خواندن داده‌ها از پایگاه داده‌های \n",
    "    SQL\n",
    "    و \n",
    "    NoSQL\n",
    "    را نشان می‌دهیم.\n",
    "</div>"
   ]
  },
  {
   "cell_type": "code",
   "execution_count": null,
   "id": "717eced3",
   "metadata": {},
   "outputs": [],
   "source": [
    "# class_average.py\n",
    "\"\"\"Class average program with sequence-controlled iteration.\"\"\"\n",
    "\n",
    "# initialization phase\n",
    "total = 0  # sum of grades\n",
    "grade_counter = 0\n",
    "grades = [98, 76, 71, 87, 83, 90, 57, 79, 82, 94]  # list of 10 grades\n",
    "\n",
    "# processing phase\n",
    "for grade in grades:  \n",
    "    total += grade  # add current grade to the running total\n",
    "    grade_counter += 1  # indicate that one more grade was processed\n",
    "\n",
    "# termination phase\n",
    "average = total / grade_counter\n",
    "print(f'Class average is {average}')\n"
   ]
  },
  {
   "cell_type": "markdown",
   "id": "a3d4471f",
   "metadata": {},
   "source": [
    "<div style=\"direction:rtl; font-size: 17px; font-family: 'XB Zar'; line-height: 200%\">خطوط ۵ و ۶ متغیرهای \n",
    "    total\n",
    "    و \n",
    "     grade_counter\n",
    "    را ایجاد کرده و هر یک را با مقدار ۰ مقدار دهی می‌کند. خط ۷ متغیر \n",
    "     grade\n",
    "    را ایجاد کرده و آن را با یک لیست ۱۰ تایی از اعداد صحیح مقداردهی می‌کند.\n",
    "</div>\n",
    "\n",
    "```Python\n",
    "grades = [98, 76, 71, 87, 83, 90, 57, 79, 82, 94] # list of 10 grades\n",
    "```"
   ]
  },
  {
   "cell_type": "markdown",
   "id": "53488a72",
   "metadata": {},
   "source": [
    "<div style=\"direction:rtl; font-size: 17px; font-family: 'XB Zar'; line-height: 200%\">دستور for هر نمره را در لیست نمرات پردازش می‌کند. در خط ۱۱، نمره فعلی به total اضافه می‌شود. سپس، در خط ۱۲، یک واحد به متغیر grade_counter اضافه می‌شود تا تعداد نمرات پردازش شده تاکنون را پیگیری کند. اجرا به پایان می‌رسد وقتی که تمام ۱۰ نمره در لیست پردازش شده باشند. راهنمای سبک کدنویسی پایتون توصیه می‌کند که یک خط خالی قبل و بعد از هر دستور کنترلی قرار داده شود (مانند خطوط ۸ و ۱۳). وقتی دستور for پایان می‌یابد، خط ۱۵ میانگین را محاسبه کرده و خط ۱۶ آن را نمایش می‌دهد. در فصل‌های بعدی، از برنامه‌نویسی به سبک تابعی برای محاسبه میانگین موارد یک لیست به صورت مختصرتر استفاده می‌کنیم.\n",
    "</div>"
   ]
  },
  {
   "cell_type": "markdown",
   "id": "d2cb346b",
   "metadata": {},
   "source": [
    "<h2 style=\"direction:rtl;font-size: px;font-family: 'XB Zar';color:#0288d1;\">مقدمه‌ای بر رشته‌های فرمت‌شده</h2><a id=''></a>"
   ]
  },
  {
   "cell_type": "markdown",
   "id": "0d418605",
   "metadata": {},
   "source": [
    "<div style=\"direction:rtl; font-size: 17px; font-family: 'XB Zar'; line-height: 200%\">خط ۱۶ برای درج نتایج این اسکریپت از \n",
    "     f-string\n",
    "    ساده زیر (مخفف رشته فرمت شده) استفاده کرده و مقدار میانگین را در یک رشته درج می‌کند:\n",
    "</div>"
   ]
  },
  {
   "cell_type": "markdown",
   "id": "894ae21e",
   "metadata": {},
   "source": [
    "```Python\n",
    "f'Class average is {average}'\n",
    "```"
   ]
  },
  {
   "cell_type": "markdown",
   "id": "8253e4de",
   "metadata": {},
   "source": [
    "<div style=\"direction:rtl; font-size: 17px; font-family: 'XB Zar'; line-height: 200%\">حرف \n",
    "    f\n",
    "    قبل از نقل‌قول باز رشته نشان می‌دهد که آن یک رشته \n",
    "     f-string\n",
    "    است. برای تعیین موقعیت مقادیری که باید در رشته درج شوند از متغیرهای \n",
    "     placeholder\n",
    "    محصور بین \n",
    "    ({ })\n",
    "    استفاده کنید.\n",
    "</div>"
   ]
  },
  {
   "cell_type": "markdown",
   "id": "a7ec19e9",
   "metadata": {},
   "source": [
    "```Python\n",
    "{average}\n",
    "```"
   ]
  },
  {
   "cell_type": "markdown",
   "id": "e08c3928",
   "metadata": {},
   "source": [
    "<div style=\"direction:rtl; font-size: 17px; font-family: 'XB Zar'; line-height: 200%\">\n",
    "    placeholder\n",
    "    متغیر\n",
    "     average\n",
    "    را به نمایش رشته‌ای تبدیل کرده و سپس متن جایگزین را به جای \n",
    "     {average}\n",
    "    قرار می‌دهد. عبارت‌های مربوط به جایگزین می‌تواند شامل مقادیر، متغیرها، عبارات ریاضی و یا فراخوانی توابع باشند. در خط ۱۶ به جای متغیر \n",
    "     average\n",
    "    از \n",
    "    total / grade_counter\n",
    "    استفاده خواهیم کرد و عملاً خط ۱۵ حذف می‌شود\n",
    "</div>"
   ]
  },
  {
   "cell_type": "markdown",
   "id": "27753f21",
   "metadata": {},
   "source": [
    "<h1 style=\"direction:rtl;font-size: 35px;font-family: 'XB Zar';color:#8e24aa;\">3.9 <span style=\"color:#F50057;\">حلقه‌هایی که با نشانه خاص کنترل می‌شوند</span></h1> <a id='12'></a>"
   ]
  },
  {
   "cell_type": "markdown",
   "id": "af976f78",
   "metadata": {},
   "source": [
    "<div style=\"direction:rtl; font-size: 17px; font-family: 'XB Zar'; line-height: 200%\">اجازه دهید مسئله میانگین نمرات کلاس را تعمیم دهیم. صورت مسئله و نیازمندی‌های آن را در نظر بگیرید:\n",
    "</div>\n",
    "<br>\n",
    "\n",
    "<div style=\"direction:rtl; font-size: 17px; font-family: 'XB Zar'; line-height: 200%\"><i>یک برنامه میانگین نمرات کلاس ایجاد کنید که هر بار که برنامه اجرا می شود، تعداد دلخواهی نمره را پردازش می کند.</i>\n",
    "</div>\n",
    "<br>\n",
    "\n",
    "<div style=\"direction:rtl; font-size: 17px; font-family: 'XB Zar'; line-height: 200%\">شرح نیازمندی‌های برنامه تعداد نمرات و یا نحوه تعداد آنها را مشخص نکرده است، بنابراین می‌خواهیم که کاربر این نمرات را وارد کند. این برنامه تعداد دلخواهی از نمرات را پردازش می‌کند. کاربر هر بار یک نمره را وارد می‌کند تا زمانی که همه نمرات وارد شوند، سپس یک مقدار خاص \n",
    "    (همچنین یک مقدار سیگنال، یک مقدار ساختگی یا یک مقدار \n",
    "    flag\n",
    "    نیز نامیده می شود)\n",
    "    وارد می‌کند تا نشان دهد که نمره دیگری برای وارد کردن وجود ندارد.\n",
    "</div>"
   ]
  },
  {
   "cell_type": "markdown",
   "id": "6e418081",
   "metadata": {},
   "source": [
    "<h2 style=\"direction:rtl;font-size: px;font-family: 'XB Zar';color:#0288d1;\">پیاده‌سازی حلقه‌هایی که با نشانه خاص کنترل می‌شوند</h2><a id=''></a>"
   ]
  },
  {
   "cell_type": "markdown",
   "id": "80ba4536",
   "metadata": {},
   "source": [
    "<div style=\"direction:rtl; font-size: 17px; font-family: 'XB Zar'; line-height: 200%\">اسکریپت زیر با استفاده از حلقه‌های کنترل شونده با نشانه خاص، مسئله میانگین نمرات کلاس را حل می‌کند. توجه داشته باشید که احتمال تقسیم بر صفر را بررسی کنید. اگر چنین مشکلی شناسایی نشود، ممکن است یک خطای منطقی مهلک ایجاد شود. در فصل فایل‌ها و استثناها، برنامه‌هایی می‌نویسیم که چنین استثناهایی را تشخیص می‌دهند و کدهای مناسب و مربوط به استثنا را اجرا می‌کنند.\n",
    "</div>"
   ]
  },
  {
   "cell_type": "code",
   "execution_count": null,
   "id": "3a9c9626",
   "metadata": {},
   "outputs": [],
   "source": [
    "# class_average_sentinel.py\n",
    "\"\"\"Class average program with sentinel-controlled iteration.\"\"\"\n",
    "\n",
    "# initialization phase\n",
    "total = 0  # sum of grades\n",
    "grade_counter = 0  # number of grades entered\n",
    "\n",
    "# processing phase\n",
    "grade = int(input('Enter grade, -1 to end: '))  # get one grade\n",
    "\n",
    "while grade != -1:\n",
    "    total += grade\n",
    "    grade_counter += 1\n",
    "    grade = int(input('Enter grade, -1 to end: '))\n",
    "\n",
    "# termination phase\n",
    "if grade_counter != 0:\n",
    "    average = total / grade_counter\n",
    "    print(f'Class average is {average:.2f}')\n",
    "else:\n",
    "    print('No grades were entered')\n"
   ]
  },
  {
   "attachments": {
    "Screenshot%20%2835%29.png": {
     "image/png": "[encoded data removed]"
    }
   },
   "cell_type": "markdown",
   "id": "eec7cdc3",
   "metadata": {},
   "source": [
    "![Screenshot%20%2835%29.png](attachment:Screenshot%20%2835%29.png)"
   ]
  },
  {
   "cell_type": "markdown",
   "id": "4d64250d",
   "metadata": {},
   "source": [
    "<h2 style=\"direction:rtl;font-size: px;font-family: 'XB Zar';color:#0288d1;\">منطق حلقه‌هایی که با نشانه خاص کنترل می‌شوند</h2><a id=''></a>"
   ]
  },
  {
   "cell_type": "markdown",
   "id": "e9da7062",
   "metadata": {},
   "source": [
    "<div style=\"direction:rtl; font-size: 17px; font-family: 'XB Zar'; line-height: 200%\">در چنین حلقه‌ای، برنامه اولین مقدار ورودی (سطر ۹) را قبل از رسیدن به دستور \n",
    "    while\n",
    "    می‌خواند. مقدار وارد شده در خط ۹ تعیین می‌کند که آیا کنترل برنامه باید وارد \n",
    "    suite\n",
    "    دستور \n",
    "    while\n",
    "    (خطوط ۱۲ تا ۱۴) شود و یا خیر. اگر شرط موجود در خط ۱۱ نادرست باشد، کاربر مقدار خاص ۱- را وارد می‌کند و به همین دلیل \n",
    "    suite\n",
    "    اجرا نمی‌شود زیرا کاربر هیچ نمره‌ای را وارد نکرده است. اگر شرط درست باشد، \n",
    "    suite\n",
    "    اجرا می‌شود، مقدار \n",
    "     grade\n",
    "    را با \n",
    "    total\n",
    "    جمع کرده و \n",
    "    grade_counter\n",
    "    را یک واحد افزایش می‌دهد.\n",
    "</div>\n",
    "\n",
    "\n",
    "<div style=\"direction:rtl; font-size: 17px; font-family: 'XB Zar'; line-height: 200%\">در ادامه، خط ۱۴ نمره دیگری از کاربر دریافت می‌کند و شرط حلقه (خط ۱۱) با استفاده از آخرین \n",
    "    grade\n",
    "    وارد شده توسط کاربر، مجدداً بررسی می‌شود. مقدار \n",
    "    grade\n",
    "    همیشه و بلافاصله قبل از آزمایش شرط حلقه وارد می‌شود، بنابراین می‌توانیم قبل از پردازش آن تعیین کنیم که آیا مقدار \n",
    "    grade\n",
    "    مقدار خاص است و یا خیر.\n",
    "</div>\n",
    "\n",
    "<div style=\"direction:rtl; font-size: 17px; font-family: 'XB Zar'; line-height: 200%\">هنگامی که مقدار ۱- وارد می‌شود، حلقه تکرار خاتمه می‌یابد و برنامه مقدار ۱- را با \n",
    "    total\n",
    "    جمع نمی‌کند. در چنین حلقه‌ای که کاربر داده‌ها را وارد می‌کند، باید مقدار خاص (خطوط ۹ و ۱۴) با یک اعلان به کاربر یادآوری شود.\n",
    "</div>"
   ]
  },
  {
   "cell_type": "markdown",
   "id": "e022a22a",
   "metadata": {},
   "source": [
    "<h2 style=\"direction:rtl;font-size: px;font-family: 'XB Zar';color:#0288d1;\">فرمت برنامه میانگین کلاس با دو رقم اعشار</h2><a id=''></a>"
   ]
  },
  {
   "cell_type": "markdown",
   "id": "2cc38f46",
   "metadata": {},
   "source": [
    "<div style=\"direction:rtl; font-size: 17px; font-family: 'XB Zar'; line-height: 200%\">این مثال میانگین کلاس را با دو رقم در سمت راست نقطه اعشاری فرمت کرده است. در یک f-string می‌توانید به صورت اختیاری بعد از عبارت متن جایگزین، کاراکتر (:) و یک مشخص کننده فرمت قرار دهید تا نحوه فرمت بندی متن جایگزین را توصیف کند. مشخص کننده فرمت .2f  (خط ۱۹) میانگین را به صورت یک عدد اعشار (f) با دو رقم در سمت راست نقطه اعشاری (.2f) فرمت می‌کند. در این مثال مجموع نمرات ۲۵۷ بود و اگر بر ۳ تقسیم شود، عدد ۸۵.۶۶۶۶۶۶۶۶۶ به دست می‌آید. فرمت کردن average با .2f مقدار آن را با صدم اعشار تقریب می‌زند و مقدار ۸۵.۶۷ را برای جایگزین شدن در متن تولید می‌کند. میانگین فقط با یک رقم در سمت راست نقطه اعشاری با صفر انتهایی فرمت می‌شود (به عنوان مثال ۸۵.۵۰). در فصل رشته‌ها: نگاهی عمیق‌تر،\n",
    "بسیاری از ویژگی‌های فرمت کردن رشته‌ها مورد بررسی قرار می‌گیرد.\n",
    "</div>"
   ]
  },
  {
   "cell_type": "markdown",
   "id": "65e5dc21",
   "metadata": {},
   "source": [
    "<h1 style=\"direction:rtl;font-size: 35px;font-family: 'XB Zar';color:#8e24aa;\">3.10 <span style=\"color:#F50057;\">بررسی عمیق‌تر تابع  range</span></h1> <a id='13'></a>"
   ]
  },
  {
   "cell_type": "markdown",
   "id": "ee984e9e",
   "metadata": {},
   "source": [
    "<div style=\"direction:rtl; font-size: 17px; font-family: 'XB Zar'; line-height: 200%\">تابع \n",
    "    range\n",
    "    با نسخه دو و سه آرگومان هم وجود دارد. همان‌طور که مشاهده کردید، نسخه یک آرگومان، دنباله‌ای از اعداد صحیح متوالی از۰ تا یک واحد کم‌تر از آرگومان ورودی تولید می‌کند. نسخه دو آرگومان تابع \n",
    "    range\n",
    "    دنباله‌ای از اعداد صحیح متوالی از آرگومان اول تا یک واحد کمتر از آرگومان دوم تولید می‌کند.\n",
    "</div>"
   ]
  },
  {
   "cell_type": "code",
   "execution_count": null,
   "id": "b8dbf77d",
   "metadata": {},
   "outputs": [],
   "source": [
    "for number in range(5, 10):\n",
    "    print(number, end=' ')"
   ]
  },
  {
   "cell_type": "markdown",
   "id": "443da1fe",
   "metadata": {},
   "source": [
    "<div style=\"direction:rtl; font-size: 17px; font-family: 'XB Zar'; line-height: 200%\">نسخه سه آرگومان تابع \n",
    "    range\n",
    "    دنباله‌ای از اعداد صحیح متوالی از آرگومان اول تا آرگومان دوم تولید می‌کند. آرگومان دوم داخل دنباله نیست و عدد بعدی با جمع عدد قبلی و آرگومان سوم که گام نامیده می‌شود، به دست می‌آید.\n",
    "</div>"
   ]
  },
  {
   "cell_type": "code",
   "execution_count": null,
   "id": "bbcbc870",
   "metadata": {},
   "outputs": [],
   "source": [
    "for number in range(0, 10, 2):\n",
    "    print(number, end=' ')"
   ]
  },
  {
   "cell_type": "markdown",
   "id": "4db63940",
   "metadata": {},
   "source": [
    "<div style=\"direction:rtl; font-size: 17px; font-family: 'XB Zar'; line-height: 200%\">اگر آرگومان سوم منفی باشد، دنباله حاصل از آرگومان اول تا شروع و به‌طور نزولی تا آرگومان دوم تولید می‌شود. آرگومان دوم داخل دنباله نیست و عدد بعدی با تفریق عدد قبلی و آرگومان سوم به دست می‌آید.\n",
    "</div>"
   ]
  },
  {
   "cell_type": "code",
   "execution_count": null,
   "id": "2ed96f30",
   "metadata": {},
   "outputs": [],
   "source": [
    "for number in range(10, 0, -2):\n",
    "    print(number, end=' ')"
   ]
  },
  {
   "cell_type": "markdown",
   "id": "0b18d5c4",
   "metadata": {},
   "source": [
    "<h1 style=\"direction:rtl;font-size: 35px;font-family: 'XB Zar';color:#8e24aa;\">3.11 <span style=\"color:#F50057;\">استفاده از نوع Decimal برای مبالغ پولی</span></h1> <a id='14'></a>"
   ]
  },
  {
   "cell_type": "markdown",
   "id": "eb56e5f8",
   "metadata": {},
   "source": [
    "<div style=\"direction:rtl; font-size: 17px; font-family: 'XB Zar'; line-height: 200%\">در این بخش، قابلیت‌های نوع \n",
    "    Decimal\n",
    "    را برای محاسبات دقیق پولی معرفی می‌کنیم. اگر در کار بانکی یا سایر زمینه‌هایی هستید که به دقت بالای مالی نیاز دارند، باید قابلیت‌های \n",
    "    Decimal\n",
    "    را به‌طور عمیق بررسی کنید. اعداد اعشاری در پایتون برای اکثر کاربردهای علمی و ریاضیاتی که از اعداد با نقطه اعشار استفاده می‌کنند، به‌خوبی کار می‌کنند. به‌عنوان مثال، وقتی از دمای طبیعی بدن یعنی ۹۸.۶ فارنهایت صحبت می‌کنیم، لازم نیست ارقام زیادی را بخوانیم. وقتی دما را روی یک دماسنج مشاهده می‌کنیم و آن را ۹۸.۶ می‌خوانیم، ممکن است مقدار واقعی ۹۸.۵۹۹۴۷۳۲۱۰۶۴۳ باشد. نکته اینجاست که خواندن این دما یعنی ۹۸.۶ فارنهایت به عنوان دمای بدن، برای بیشتر موارد کافی است.\n",
    "</div>\n",
    "\n",
    "\n",
    "<div style=\"direction:rtl; font-size: 17px; font-family: 'XB Zar'; line-height: 200%\">مقادیر اعشاری به صورت دودویی ذخیره می‌شوند(مبحث سیستم عددی دودویی را در فصل اول معرفی کردیم و در پیوست آنلاین با عنوان سیستم‌های اعداد دودویی به طور عمیق این مبحث را شرح داده‌ایم). برخی از مقادیر اعشاری بعد از تبدیل شدن به حالت دودویی، یک مقدار تقریبی را نشان می‌دهند. به‌عنوان مثال، مقدار \n",
    "     amount\n",
    "    را با ارزش دلار و سنت و به مبلغ ۱۱۲.۳۱ دلار در نظر بگیرید. اگر مقدار \n",
    "     amount\n",
    "    را نمایش دهید، به نظر می‌رسد مقدار دقیقی که به آن اختصاص داده‌اید نشان داده می‌شود:\n",
    "</div>"
   ]
  },
  {
   "cell_type": "code",
   "execution_count": null,
   "id": "f20116e1",
   "metadata": {},
   "outputs": [],
   "source": [
    "amount = 112.31"
   ]
  },
  {
   "cell_type": "code",
   "execution_count": null,
   "id": "787e7de8",
   "metadata": {},
   "outputs": [],
   "source": [
    "print(amount)"
   ]
  },
  {
   "cell_type": "markdown",
   "id": "25b292dd",
   "metadata": {},
   "source": [
    "<div style=\"direction:rtl; font-size: 17px; font-family: 'XB Zar'; line-height: 200%\">با این حال اگر مقدار \n",
    "    amount\n",
    "    را با دقت ۲۰ رقم در سمت راست نقطه اعشاری چاپ کنید، می‌بینید که مقدار واقعی عدد اعشاری در حافظه دقیقاً ۱۱۲.۳۱ نیست و فقط یک تقریب است:\n",
    "</div>"
   ]
  },
  {
   "cell_type": "code",
   "execution_count": null,
   "id": "e8a4d8ef",
   "metadata": {},
   "outputs": [],
   "source": [
    "print(f'{amount:.20f}')"
   ]
  },
  {
   "cell_type": "markdown",
   "id": "7d4aacf5",
   "metadata": {},
   "source": [
    "<div style=\"direction:rtl; font-size: 17px; font-family: 'XB Zar'; line-height: 200%\">بسیاری از برنامه‌ها نیاز به نمایش دقیق اعداد اعشاری دارند. مؤسساتی مانند بانک‌ها که روزانه با میلیون‌ها یا حتی میلیاردها تراکنش سروکار دارند، باید این تراکنش‌ها را با دقت کافی انجام دهند. اعداد اعشاری تا حدودی ولی نه با دقت کامل این مقادیر را نشان می‌دهند.\n",
    "</div>\n",
    "\n",
    "<div style=\"direction:rtl; font-size: 17px; font-family: 'XB Zar'; line-height: 200%\">کتابخانه استاندارد پایتون قابلیت‌های بسیاری را فراهم می‌کند و می‌توانید از آنها در برنامه‌های خود استفاده کنید و نیازی به کدنویسی مجدد نداشته باشید. برای محاسبات مالی و سایر برنامه‌هایی که نیاز به نمایش دقیق اعداد اعشاری و کار با این اعداد را دارند، کتابخانه استاندارد پایتون نوع \n",
    "    Decimal\n",
    "    را ارائه می‌دهد. نوع \n",
    "    Decimal\n",
    "    از یک کدنویسی خاص برای حل مشکل دقت اعداد اعشاری استفاده می‌کند. این روش برای نگهداری اعداد به حافظه بیشتر و برای انجام محاسبات خود به زمان پردازش بیشتری نیاز دارد ولی دقت مورد نیاز برای محاسبات پولی را فراهم می‌کند. بانک‌ها هنگام محاسبه سود روزانه حساب‌ها باید با مواردی مانند الگوریتم گرد کردن اعداد عادلانه رفتار کنند. نوع \n",
    "    Decimal\n",
    "    چنین قابلیت‌هایی را ارائه می‌دهد.\n",
    "</div>\n",
    "\n",
    "<div style=\"direction:rtl; font-size: 17px; font-family: 'XB Zar'; line-height: 200%\">برای دیدن ویژگی‌های ماژول \n",
    "    Decimal\n",
    "    به آدرس ذیل مراجعه کنید:\n",
    "    <a href=\"https://docs.python.org/3.7/library/decimal.html\">https://docs.python.org/3.7/library/decimal.html</a>\n",
    "</div>"
   ]
  },
  {
   "cell_type": "markdown",
   "id": "4bb923f2",
   "metadata": {},
   "source": [
    "<h2 style=\"direction:rtl;font-size: px;font-family: 'XB Zar';color:#0288d1;\">Import کردن نوع Decimal از ماژول decimal</h2><a id=''></a>"
   ]
  },
  {
   "cell_type": "markdown",
   "id": "407ec5f2",
   "metadata": {},
   "source": [
    "<div style=\"direction:rtl; font-size: 17px; font-family: 'XB Zar'; line-height: 200%\">تا اینجای کار از چندین نوع داده داخلی استفاده کردیم، برای مثال \n",
    "    int\n",
    "    (برای اعداد صحیح مانند ۱۰)\n",
    "    float\n",
    "    (برای اعداد اعشاری مانند ۷.۵) \n",
    "    و \n",
    "    str\n",
    "    (برای رشته‌هایی مانند \n",
    "    \"Python\")\n",
    "    . نوع \n",
    "    Decimal\n",
    "    در پایتون از قبل ساخته نشده است. \n",
    "    decimal\n",
    "    بخشی از کتابخانه استاندارد پایتون محسوب می‌شود. این کتابخانه به گروه‌هایی به نام ماژول با قابلیت‌های مرتبط تقسیم می‌شود. ماژول \n",
    "    decimal\n",
    "    نوع \n",
    "    Decimal\n",
    "    و قابلیت‌های آن را تعریف می‌کند. برای استفاده از نوع \n",
    "    Decimal\n",
    "    باید با دستور ذیل ماژول \n",
    "    decimal\n",
    "    را در برنامه خود \n",
    "    import\n",
    "    کنید.\n",
    "</div>"
   ]
  },
  {
   "cell_type": "markdown",
   "id": "5a54c751",
   "metadata": {},
   "source": [
    "```Python\n",
    "import decimal\n",
    "```"
   ]
  },
  {
   "cell_type": "markdown",
   "id": "614819d9",
   "metadata": {},
   "source": [
    "<div style=\"direction:rtl; font-size: 17px; font-family: 'XB Zar'; line-height: 200%\">و برای ارجاع به نوع \n",
    "    Decimal\n",
    "    باید عبارت \n",
    "    decimal.Decimal\n",
    "    را تایپ کنید و یا آنکه از قابلیت دستور \n",
    "    import\n",
    "    استفاده کنید:\n",
    "</div>"
   ]
  },
  {
   "cell_type": "code",
   "execution_count": null,
   "id": "462660d8",
   "metadata": {},
   "outputs": [],
   "source": [
    "from decimal import Decimal"
   ]
  },
  {
   "cell_type": "markdown",
   "id": "c79196c2",
   "metadata": {},
   "source": [
    "<div style=\"direction:rtl; font-size: 17px; font-family: 'XB Zar'; line-height: 200%\">دستور بالا فقط نوع \n",
    "    Decimal\n",
    "    را از ماژول \n",
    "    decimal\n",
    "    داخل برنامه شما \n",
    "    import\n",
    "    می‌کند. در فصل‌های بعدی فرم‌های مختلف دستور \n",
    "    import\n",
    "    را شرح می‌دهیم.\n",
    "</div>"
   ]
  },
  {
   "cell_type": "markdown",
   "id": "20709b81",
   "metadata": {},
   "source": [
    "<h2 style=\"direction:rtl;font-size: px;font-family: 'XB Zar';color:#0288d1;\">ایجاد Decimalها</h2><a id=''></a>"
   ]
  },
  {
   "cell_type": "markdown",
   "id": "c3c31c9f",
   "metadata": {},
   "source": [
    "<div style=\"direction:rtl; font-size: 17px; font-family: 'XB Zar'; line-height: 200%\">به طور معمول با استفاده از یک رشته یک نوع \n",
    "    Decimal\n",
    "    ایجاد می‌کنید:\n",
    "</div>"
   ]
  },
  {
   "cell_type": "code",
   "execution_count": null,
   "id": "f7981582",
   "metadata": {},
   "outputs": [],
   "source": [
    "principal = Decimal('1000.00')"
   ]
  },
  {
   "cell_type": "code",
   "execution_count": null,
   "id": "fcd9929b",
   "metadata": {},
   "outputs": [],
   "source": [
    "principal"
   ]
  },
  {
   "cell_type": "code",
   "execution_count": null,
   "id": "dec12815",
   "metadata": {},
   "outputs": [],
   "source": [
    "rate = Decimal('0.05')"
   ]
  },
  {
   "cell_type": "code",
   "execution_count": null,
   "id": "0279f4ee",
   "metadata": {},
   "outputs": [],
   "source": [
    "rate"
   ]
  },
  {
   "cell_type": "markdown",
   "id": "9b179e55",
   "metadata": {},
   "source": [
    "<div style=\"direction:rtl; font-size: 17px; font-family: 'XB Zar'; line-height: 200%\">به زودی از متغیرهای \n",
    "    principal\n",
    "    و \n",
    "    rate\n",
    "    برای محاسبه سود مرکب استفاده خواهیم کرد.\n",
    "</div>"
   ]
  },
  {
   "cell_type": "markdown",
   "id": "012b3dcf",
   "metadata": {},
   "source": [
    "<h2 style=\"direction:rtl;font-size: px;font-family: 'XB Zar';color:#0288d1;\">محاسبات Decimal</h2><a id=''></a>"
   ]
  },
  {
   "cell_type": "markdown",
   "id": "3da713b0",
   "metadata": {},
   "source": [
    "<div style=\"direction:rtl; font-size: 17px; font-family: 'XB Zar'; line-height: 200%\">نوع \n",
    "    Decimal\n",
    "    از عملگرهای استاندارد ریاضی نظیر +, -, *, /, //, ** و % و همچنین عملگرهای مختصر شده مربوط به آنها پشتیبانی می‌کند.\n",
    "</div>"
   ]
  },
  {
   "cell_type": "code",
   "execution_count": null,
   "id": "f8ca5e41",
   "metadata": {},
   "outputs": [],
   "source": [
    "x = Decimal('10.5')"
   ]
  },
  {
   "cell_type": "code",
   "execution_count": null,
   "id": "c8cbee83",
   "metadata": {},
   "outputs": [],
   "source": [
    "y = Decimal('2')"
   ]
  },
  {
   "cell_type": "code",
   "execution_count": null,
   "id": "dcefa855",
   "metadata": {},
   "outputs": [],
   "source": [
    "x + y"
   ]
  },
  {
   "cell_type": "code",
   "execution_count": null,
   "id": "8acd9e6d",
   "metadata": {},
   "outputs": [],
   "source": [
    "x // y"
   ]
  },
  {
   "cell_type": "code",
   "execution_count": null,
   "id": "cffc434b",
   "metadata": {},
   "outputs": [],
   "source": [
    "x += y"
   ]
  },
  {
   "cell_type": "code",
   "execution_count": null,
   "id": "17f6c06d",
   "metadata": {},
   "outputs": [],
   "source": [
    "x"
   ]
  },
  {
   "cell_type": "markdown",
   "id": "d7c95e1c",
   "metadata": {},
   "source": [
    "<div style=\"direction:rtl; font-size: 17px; font-family: 'XB Zar'; line-height: 200%\">شما می‌توانید از عملگرهای حسابی میان اعداد صحیح و \n",
    "    Decimalها\n",
    "    استفاده کنید ولی انجام این کار میان اعداد اعشاری و \n",
    "    Decimalها\n",
    "    مجاز نیست.\n",
    "</div>"
   ]
  },
  {
   "cell_type": "markdown",
   "id": "de4d9c32",
   "metadata": {},
   "source": [
    "<h2 style=\"direction:rtl;font-size: px;font-family: 'XB Zar';color:#0288d1;\">شرح مسئله نرخ مرکب و نیازمندی‌های آن</h2><a id=''></a>"
   ]
  },
  {
   "cell_type": "markdown",
   "id": "c3428846",
   "metadata": {},
   "source": [
    "<div style=\"direction:rtl; font-size: 17px; font-family: 'XB Zar'; line-height: 200%\">در این قسمت قصد داریم با استفاده از نوع \n",
    "    Decimal\n",
    "    برای محاسبات دقیق پولی سود مرکب را محاسبه کنیم. به صورت مسئله و نیازمندی‌های آن دقت کنید:\n",
    "</div>\n",
    "\n",
    "<div style=\"direction:rtl; font-size: 17px; font-family: 'XB Zar'; line-height: 200%\"><i>\n",
    "    شخصی ۱۰۰۰ دلار در حساب پس‌انداز با نرخ سود %۵ سرمایه‌گذاری می‌کند. با این فرض که شخص به سود سپرده حساب خود دست نزند، مقدار مانده حساب را برای هر سال محاسبه کرده و نشان دهید. برای تعیین این مبالغ از فرمول زیر استفاده کنید:\n",
    "    <br>\n",
    "    $a = p{(1 + r)}^{n}$\n",
    "    <br>\n",
    "    در فرمول بالا \n",
    "    p\n",
    "    مبلغ اصلی سرمایه‌گذاری شده است، \n",
    "    r\n",
    "    نرخ بهره سالانه است، \n",
    "    n\n",
    "    تعداد سال است و \n",
    "    a\n",
    "    مبلغ سپرده گذاری شده در پایان سال \n",
    "    n\n",
    "    م است.\n",
    "    </i>\n",
    "</div>"
   ]
  },
  {
   "cell_type": "markdown",
   "id": "2501e216",
   "metadata": {},
   "source": [
    "<h2 style=\"direction:rtl;font-size: px;font-family: 'XB Zar';color:#0288d1;\">محاسبه نرخ مرکب</h2><a id=''></a>"
   ]
  },
  {
   "cell_type": "markdown",
   "id": "97810ef0",
   "metadata": {},
   "source": [
    "<div style=\"direction:rtl; font-size: 17px; font-family: 'XB Zar'; line-height: 200%\">در اسنیپت‌های [۵] و [۷] متغیرهای \n",
    "    principal\n",
    "    و \n",
    "    rate\n",
    "    را تعریف کرده و از آنها استفاده خواهیم کرد. برای محاسبه سود هر سال و با فرض آنکه طی این ۱۰ سال برداشتی از این حساب انجام نگیرد از حلقه \n",
    "    for\n",
    "    استفاده می‌کنیم. حلقه تکرار با استفاده از فرمت رشته‌ها شماره سال و مبلغ سپرده در پایان سال را نشان می‌دهد:\n",
    "</div>"
   ]
  },
  {
   "cell_type": "code",
   "execution_count": null,
   "id": "701960a2",
   "metadata": {},
   "outputs": [],
   "source": [
    "for year in range(1, 11):\n",
    "    amount = principal * (1 + rate) ** year \n",
    "    print(f'{year:>2}{amount:>10.2f}')"
   ]
  },
  {
   "cell_type": "markdown",
   "id": "02cdcf2b",
   "metadata": {},
   "source": [
    "<div style=\"direction:rtl; font-size: 17px; font-family: 'XB Zar'; line-height: 200%\">رابطه ریاضی \n",
    "    ${(1 + r)}^{n}$\n",
    "    با کد ذیل محاسبه می‌شود:\n",
    "</div>"
   ]
  },
  {
   "cell_type": "markdown",
   "id": "f54ddbc4",
   "metadata": {},
   "source": [
    "```Python\n",
    "(1 + rate) ** year\n",
    "```"
   ]
  },
  {
   "cell_type": "markdown",
   "id": "e96fdba7",
   "metadata": {},
   "source": [
    "<div style=\"direction:rtl; font-size: 17px; font-family: 'XB Zar'; line-height: 200%\">در رابطه بالا \n",
    "    year\n",
    "    معرف \n",
    "    n\n",
    "    و \n",
    "    rate\n",
    "    معرف \n",
    "    r\n",
    "    می‌باشد.\n",
    "</div>"
   ]
  },
  {
   "cell_type": "markdown",
   "id": "522ba6f3",
   "metadata": {},
   "source": [
    "<h2 style=\"direction:rtl;font-size: px;font-family: 'XB Zar';color:#0288d1;\">فرمت کردن سال و مبلغ سپرده</h2><a id=''></a>"
   ]
  },
  {
   "cell_type": "markdown",
   "id": "dfc9f658",
   "metadata": {},
   "source": [
    "<div style=\"direction:rtl; font-size: 17px; font-family: 'XB Zar'; line-height: 200%\">دستور ذیل با استفاده از یک \n",
    "    f-string\n",
    "    و دو \n",
    "    placeholder\n",
    "    خروجی حلقه را فرمت می‌کند:\n",
    "</div>"
   ]
  },
  {
   "cell_type": "markdown",
   "id": "a4e05550",
   "metadata": {},
   "source": [
    "```Python\n",
    "print(f'{year:>2}{amount:>10.2f}')\n",
    "```"
   ]
  },
  {
   "cell_type": "markdown",
   "id": "f785ab5e",
   "metadata": {},
   "source": [
    "<div style=\"direction:rtl; font-size: 17px; font-family: 'XB Zar'; line-height: 200%\">placeholder\n",
    "    ذیل:\n",
    "</div>"
   ]
  },
  {
   "cell_type": "markdown",
   "id": "6266631f",
   "metadata": {},
   "source": [
    "```Python\n",
    "{year:>2}\n",
    "```"
   ]
  },
  {
   "cell_type": "markdown",
   "id": "e7b111f4",
   "metadata": {},
   "source": [
    "<div style=\"direction:rtl; font-size: 17px; font-family: 'XB Zar'; line-height: 200%\">از مشخص کننده فرمت \n",
    "    $ >2 $\n",
    "    استفاده می‌کند تا نشان دهد مقدار سال باید به اندازه ۲ کاراکتر نشان داده شود و از سمت راست تراز گردد. \n",
    "     field width\n",
    "    شماره مکانی کاراکتر را هنگام نمایش مقدار مشخص می‌کند. مشخص کننده فرمت \n",
    "    $ >2 $\n",
    "    برای نمایش مقادیری از سال که یک رقمی هستند یعنی از ۱ تا ۹، قبل از مقدار سال یک فضای خالی قرار می‌دهد و به همین دلیل در ستون مقادیر سال از سمت راست تراز شده‌اند. شکل ذیل نحوه فرمت شدن اعداد ۱ تا ۱۰ را در فضای دو کاراکتر نشان می‌دهد.\n",
    "</div>"
   ]
  },
  {
   "attachments": {
    "Screenshot%20%2836%29.png": {
     "image/png": "[encoded data removed]"
    }
   },
   "cell_type": "markdown",
   "id": "cbd65c0f",
   "metadata": {},
   "source": [
    "![Screenshot%20%2836%29.png](attachment:Screenshot%20%2836%29.png)"
   ]
  },
  {
   "cell_type": "markdown",
   "id": "663fce2f",
   "metadata": {},
   "source": [
    "<div style=\"direction:rtl; font-size: 17px; font-family: 'XB Zar'; line-height: 200%\">با کمک \n",
    "    $ < $\n",
    "    می‌توانید متن را از سمت چپ تراز کنید. مشخص کننده فرمت \n",
    "    10.2f\n",
    "    در \n",
    "    placeholder\n",
    "    ذیل\n",
    "</div>"
   ]
  },
  {
   "cell_type": "markdown",
   "id": "83ea939b",
   "metadata": {},
   "source": [
    "```Python\n",
    "{amount:>10.2f}\n",
    "```"
   ]
  },
  {
   "cell_type": "markdown",
   "id": "31d1017d",
   "metadata": {},
   "source": [
    "<div style=\"direction:rtl; font-size: 17px; font-family: 'XB Zar'; line-height: 200%\">مقدار \n",
    "    amount\n",
    "    را به عنوان یک مقدار اعشاری \n",
    "    (f)\n",
    "    ، تراز شده از سمت راست \n",
    "    ($>$)\n",
    "    و به اندازه ۱۰ کاراکتر به همراه نقطه اعشار و ۲ رقم بعد از نقطه اعشار \n",
    "    ($.2$)\n",
    "    فرمت می‌کند. فرمت کردن مقادیر \n",
    "    amount\n",
    "    با این روش نقاط اعشاری به‌طور عمودی تراز می‌شوند و این روش در محاسبات پولی معمول است. در فضای ۱۰ کاراکتری که به متغیر \n",
    "    amount\n",
    "    اختصاص یافته، سه فضای سمت راست برای نقطه اعشار و دو رقم سمت راست اعشار است. ۷ فضای باقیمانده برای ارقام سمت چپ و فضای خالی اختصاص یافته است. در این مثال تمامی مقادیر \n",
    "    amount\n",
    "    دارای ۴ رقم در سمت چپ نقطه اعشار هستند و به همین دلیل هر عدد با سه فضای خالی در ابتدا فرمت می‌شود. شکل ذیل نحوه فرمت شدن مقدار ۱۰۵۰٫۰۰ را نشان می‌دهد.\n",
    "</div>"
   ]
  },
  {
   "attachments": {
    "Screenshot%20%2837%29.png": {
     "image/png": "[encoded data removed]"
    }
   },
   "cell_type": "markdown",
   "id": "40d68a0d",
   "metadata": {},
   "source": [
    "![Screenshot%20%2837%29.png](attachment:Screenshot%20%2837%29.png)"
   ]
  },
  {
   "cell_type": "markdown",
   "id": "93efd7a4",
   "metadata": {},
   "source": [
    "<h1 style=\"direction:rtl;font-size: 35px;font-family: 'XB Zar';color:#8e24aa;\">3.12 <span style=\"color:#F50057;\">دستورات break و  continue</span></h1> <a id='15'></a>"
   ]
  },
  {
   "cell_type": "markdown",
   "id": "4926ff55",
   "metadata": {},
   "source": [
    "<div style=\"direction:rtl; font-size: 17px; font-family: 'XB Zar'; line-height: 200%\">دستورات \n",
    "    break\n",
    "    و \n",
    "    continue\n",
    "    جریان کنترل یک حلقه را تغییر می‌دهند. اجرای دستور \n",
    "    break\n",
    "    در حلقه \n",
    "    while\n",
    "    و یا \n",
    "    for\n",
    "    موجب خروج فوری از حلقه تکرار می‌شود. در کد زیر، تابع \n",
    "    range\n",
    "    دنباله‌ای از اعداد صحیح در محدوده ۰ تا ۹۹ تولید می‌کند، اما وقتی مقدار \n",
    "    number\n",
    "    برابر ۱۰ شود، حلقه خاتمه می‌یابد:\n",
    "</div>"
   ]
  },
  {
   "cell_type": "code",
   "execution_count": null,
   "id": "c5abd553",
   "metadata": {},
   "outputs": [],
   "source": [
    "for number in range(100):\n",
    "    if number == 10:\n",
    "        break\n",
    "    print(number, end=' ')"
   ]
  },
  {
   "cell_type": "markdown",
   "id": "c7062bd1",
   "metadata": {},
   "source": [
    "<div style=\"direction:rtl; font-size: 17px; font-family: 'XB Zar'; line-height: 200%\">در این اسکریپت، اجرای کدها با اولین دستور بعد از حلقه \n",
    "    for\n",
    "    ادامه می‌یابد. دستورات \n",
    "    while\n",
    "    و \n",
    "    for\n",
    "    یک قسمت اختیاری \n",
    "    else\n",
    "    هم دارند و فقط در صورت خاتمه حلقه به طور معمول اجرا می‌شود؛ یعنی اگر حلقه با دستور \n",
    "     break\n",
    "    خاتمه یابد، قسمت \n",
    "    else\n",
    "    اجرا نمی‌شود.\n",
    "</div>"
   ]
  },
  {
   "cell_type": "markdown",
   "id": "c6eae726",
   "metadata": {},
   "source": [
    "<div style=\"direction:rtl; font-size: 17px; font-family: 'XB Zar'; line-height: 200%\">اجرای یک دستور \n",
    "     continue\n",
    "    در یک حلقه \n",
    "    while\n",
    "    و یا \n",
    "    for\n",
    "    موجب می‌شود از اجرای دستورات بعدی در حلقه صرف نظر شود. در حلقه \n",
    "    while\n",
    "    شرط تکرار مورد آزمایش قرار می‌گیرد تا مشخص شود آیا حلقه باید ادامه یابد یا خیر. در حلقه \n",
    "    for\n",
    "    داده بعدی در دنباله پردازش می‌شود (در صورت وجود):\n",
    "</div>"
   ]
  },
  {
   "cell_type": "code",
   "execution_count": null,
   "id": "ecc9eb62",
   "metadata": {},
   "outputs": [],
   "source": [
    "for number in range(10):\n",
    "    if number == 5:\n",
    "        continue\n",
    "    print(number, end=' ')"
   ]
  },
  {
   "cell_type": "markdown",
   "id": "817dec15",
   "metadata": {},
   "source": [
    "<h1 style=\"direction:rtl;font-size: 35px;font-family: 'XB Zar';color:#8e24aa;\">3.13 <span style=\"color:#F50057;\">عملگرهای منطقی and، or و  not</span></h1> <a id='16'></a>"
   ]
  },
  {
   "cell_type": "markdown",
   "id": "7a3913bb",
   "metadata": {},
   "source": [
    "<div style=\"direction:rtl; font-size: 17px; font-family: 'XB Zar'; line-height: 200%\">با استفاده از عملگرهای شرطی \n",
    "    $>$, \n",
    "    $<$, $>=$, $<=$, $==$ و $!=$\n",
    "    می‌توان شرط‌های ساده‌ای مانند \n",
    "    grade >= 60\n",
    "    ایجاد کرد. برای ایجاد شرایط پیچیده‌تر که در حقیقت از تلفیق شرایط ساده به دست می‌آیند از عملگرهای منطقی \n",
    "    and، or و  not\n",
    "    استفاده کنید.\n",
    "</div>"
   ]
  },
  {
   "cell_type": "markdown",
   "id": "54ca9775",
   "metadata": {},
   "source": [
    "<h2 style=\"direction:rtl;font-size: px;font-family: 'XB Zar';color:#0288d1;\">عملگر منطقی and</h2><a id=''></a>"
   ]
  },
  {
   "cell_type": "markdown",
   "id": "b07cc649",
   "metadata": {},
   "source": [
    "<div style=\"direction:rtl; font-size: 17px; font-family: 'XB Zar'; line-height: 200%\">برای اطمینان از درست بودن دو شرط، قبل از اجرای دستورات کنترل و برای تلفیق شرط‌ها از عملگر منطقی \n",
    "    and\n",
    "    استفاده کنید. کد زیر دو متغیر را تعریف می‌کند، سپس درستی یک شرط ترکیبی را آزمایش می‌کند. این شرط در صورتی درست است که اگر و تنها اگر هر دو شرط ساده آن درست باشند، اگر فقط یکی از شرط‌های ساده نادرست باشد، کل دستور \n",
    "    and\n",
    "    نادرست تلقی می‌شود:\n",
    "</div>"
   ]
  },
  {
   "cell_type": "code",
   "execution_count": null,
   "id": "3f1c5842",
   "metadata": {},
   "outputs": [],
   "source": [
    "gender = 'Female'"
   ]
  },
  {
   "cell_type": "code",
   "execution_count": null,
   "id": "13793534",
   "metadata": {},
   "outputs": [],
   "source": [
    "age = 70"
   ]
  },
  {
   "cell_type": "code",
   "execution_count": null,
   "id": "a490fa13",
   "metadata": {},
   "outputs": [],
   "source": [
    "if gender == 'Female' and age >= 65:\n",
    "    print('Senior female')"
   ]
  },
  {
   "cell_type": "markdown",
   "id": "7e6065e8",
   "metadata": {},
   "source": [
    "<div style=\"direction:rtl; font-size: 17px; font-family: 'XB Zar'; line-height: 200%\">دستور if دو شرط ساده دارد:\n",
    "</div>\n",
    "\n",
    "<div style=\"direction:rtl; font-size: 17px; font-family: 'XB Zar'; line-height: 200%\">\n",
    "    <span style=\"color:#8e24aa;\">• </span>شرط gender == 'Female' مونث بودن یک شخص را تعیین می‌کند.<br>\n",
    "    <span style=\"color:#8e24aa;\">• </span>شرط age >= 65 تعیین می‌کند که آیا آن شخص یک شهروند سالخورده است یا خیر.<br>\n",
    "    \n",
    "</div>    "
   ]
  },
  {
   "cell_type": "markdown",
   "id": "4af0b717",
   "metadata": {},
   "source": [
    "<div style=\"direction:rtl; font-size: 17px; font-family: 'XB Zar'; line-height: 200%\">شرط ساده در سمت چپ عملگر \n",
    "    and\n",
    "    ابتدا ارزیابی می‌شود، چرا که عملگر \n",
    "    $ == $\n",
    "    نسبت به عملگر \n",
    "    and\n",
    "    اولویت بالاتری دارد. در مرحله بعد و در صورت لزوم، شرط ساده سمت راست عملگر \n",
    "    and\n",
    "    ارزیابی می‌شود، به دلیل آنکه عملگر \n",
    "    $ >= $\n",
    "    دارای اولویت بیشتری نسبت به عملگر \n",
    "    and\n",
    "    است. (به زودی توضیح خواهیم داد که چرا سمت راست یک عملگر \n",
    "    and\n",
    "    فقط در صورت درستی شرط سمت چپ ارزیابی می‌شود.) کل شرط \n",
    "    if\n",
    "    زمانی درست است که اگر و تنها اگر هر دو شرط ساده درست باشند. با افزودن پرانتز اضافی می‌توان شرایط ترکیبی را واضح‌تر نشان داد.\n",
    "</div>"
   ]
  },
  {
   "cell_type": "markdown",
   "id": "56842262",
   "metadata": {},
   "source": [
    "```Python\n",
    "(gender == 'Female') and (age >= 65)\n",
    "```"
   ]
  },
  {
   "cell_type": "markdown",
   "id": "349a499d",
   "metadata": {},
   "source": [
    "<div style=\"direction:rtl; font-size: 17px; font-family: 'XB Zar'; line-height: 200%\">جدول زیر عملگر and را با نشان دادن هر چهار ترکیب ممکن از مقادیر False و True برای expression1 و expression2 خلاصه می‌کند—این جداول را 'truth table' می‌نامند:\n",
    "</div>"
   ]
  },
  {
   "attachments": {
    "Screenshot%20%2838%29.png": {
     "image/png": "[encoded data removed]"
    }
   },
   "cell_type": "markdown",
   "id": "711d3fe3",
   "metadata": {},
   "source": [
    "![Screenshot%20%2838%29.png](attachment:Screenshot%20%2838%29.png)"
   ]
  },
  {
   "cell_type": "markdown",
   "id": "9f74379f",
   "metadata": {},
   "source": [
    "<h2 style=\"direction:rtl;font-size: px;font-family: 'XB Zar';color:#0288d1;\">عملگر منطقی or</h2><a id=''></a>"
   ]
  },
  {
   "cell_type": "markdown",
   "id": "ece26099",
   "metadata": {},
   "source": [
    "<div style=\"direction:rtl; font-size: 17px; font-family: 'XB Zar'; line-height: 200%\">از عملگر منطقی \n",
    "    or\n",
    "    برای بررسی درست بودن یکی از دو شرط و یا هر دو شرط استفاده کنید. کد زیر نشان می‌دهد اگر حداقل یکی از دو شرط ساده در دو طرف عملگر \n",
    "    or\n",
    "    درست باشند، کل شرط درست ارزیابی می‌شود و فقط زمانی که هر دو شرط نادرست باشند، کل شرط نادرست خواهد بود:\n",
    "</div>"
   ]
  },
  {
   "cell_type": "code",
   "execution_count": null,
   "id": "6f64e4bb",
   "metadata": {},
   "outputs": [],
   "source": [
    "semester_average = 83"
   ]
  },
  {
   "cell_type": "code",
   "execution_count": null,
   "id": "ee0a0134",
   "metadata": {},
   "outputs": [],
   "source": [
    "final_exam = 95"
   ]
  },
  {
   "cell_type": "code",
   "execution_count": null,
   "id": "8c80edd2",
   "metadata": {},
   "outputs": [],
   "source": [
    "if semester_average >= 90 or final_exam >= 90:\n",
    "    print('Student gets an A')"
   ]
  },
  {
   "cell_type": "markdown",
   "id": "c262651c",
   "metadata": {},
   "source": [
    "<div style=\"direction:rtl; font-size: 17px; font-family: 'XB Zar'; line-height: 200%\">اسنیپت [۶] از دو شرط ساده ذیل تشکیل شده است:\n",
    "</div>\n",
    "\n",
    "<div style=\"direction:rtl; font-size: 17px; font-family: 'XB Zar'; line-height: 200%\">\n",
    "    <span style=\"color:#8e24aa;\">• </span>شرط \n",
    "    semester_average >= 90\n",
    "    مشخص می‌کند که آیا متوسط نمره دانشجو در طول ترم بیشتر از ۹۰ یعنی نمره \n",
    "    A\n",
    "    هست و یا خیر.<br>\n",
    "    <span style=\"color:#8e24aa;\">• </span>شرط \n",
    "    final_exam >= 90\n",
    "    مشخص می‌کند که آیا نمره پایان‌ترم دانشجو \n",
    "     A\n",
    "    می‌باشد و یا خیر.<br>\n",
    "    \n",
    "</div> \n",
    "\n",
    "<div style=\"direction:rtl; font-size: 17px; font-family: 'XB Zar'; line-height: 200%\">جدول ذیل چهار حالت ممکن عملگر \n",
    "    or\n",
    "    را نشان می‌دهد .عملگر \n",
    "    and\n",
    "    از عملگر \n",
    "    or\n",
    "    اولویت بیشتری دارد.\n",
    "</div>"
   ]
  },
  {
   "attachments": {
    "Screenshot%20%2839%29.png": {
     "image/png": "[encoded data removed]"
    }
   },
   "cell_type": "markdown",
   "id": "b2d2be64",
   "metadata": {},
   "source": [
    "![Screenshot%20%2839%29.png](attachment:Screenshot%20%2839%29.png)"
   ]
  },
  {
   "cell_type": "markdown",
   "id": "23b6572d",
   "metadata": {},
   "source": [
    "<h2 style=\"direction:rtl;font-size: px;font-family: 'XB Zar';color:#0288d1;\">بهبود عملکرد با Short-Circuit Evaluation</h2><a id=''></a>"
   ]
  },
  {
   "cell_type": "markdown",
   "id": "1b7e91f7",
   "metadata": {},
   "source": [
    "<div style=\"direction:rtl; font-size: 17px; font-family: 'XB Zar'; line-height: 200%\">اگر زبان پایتون هنگام ارزیابی یک دستور \n",
    "    and\n",
    "    بداند که کل دستور نادرست است، ارزیابی را متوقف می‌کند. به همین نحوه، اگر پایتون هنگام ارزیابی یک دستور \n",
    "    or\n",
    "    بداند که کل دستور درست است، ارزیابی را متوقف می‌کند. به این روش، \n",
    "    Short-Circuit Evaluation\n",
    "    گفته می‌شود.\n",
    "</div>"
   ]
  },
  {
   "cell_type": "markdown",
   "id": "e26298c9",
   "metadata": {},
   "source": [
    "```Python\n",
    "gender == 'Female' and age >= 65\n",
    "```"
   ]
  },
  {
   "cell_type": "markdown",
   "id": "80189a92",
   "metadata": {},
   "source": [
    "<div style=\"direction:rtl; font-size: 17px; font-family: 'XB Zar'; line-height: 200%\">اگر در دستور بالا مقدار \n",
    "    gender\n",
    "    برابر \n",
    "    'Female'\n",
    "    نباشد، کل دستور نادرست بوده و ارزیابی آن متوقف می‌شود. اگر مقدار \n",
    "    gender\n",
    "    برابر \n",
    "    'Female'\n",
    "    باشد، ارزیابی ادامه خواهد داشت، به دلیل آنکه دستور زمانی برقرار خواهد بود که \n",
    "    age\n",
    "    بیشتر یا مساوی ۶۵ باشد.\n",
    "</div>"
   ]
  },
  {
   "cell_type": "markdown",
   "id": "ee82a1bc",
   "metadata": {},
   "source": [
    "```Python\n",
    "semester_average >= 90 or final_exam >= 90\n",
    "```"
   ]
  },
  {
   "cell_type": "markdown",
   "id": "a968dfe7",
   "metadata": {},
   "source": [
    "<div style=\"direction:rtl; font-size: 17px; font-family: 'XB Zar'; line-height: 200%\">به همین نحو در کد بالا اگر مقدار \n",
    "    semester_average\n",
    "    بیش‌تر و یا مساوی ۹۰ باشد، ارزیابی کل عبارت متوقف می‌شود، چرا که کل شرط درست است. اگر \n",
    "    semester_average\n",
    "    کوچکتر از ۹۰ باشد، ارزیابی ادامه خواهد داشت، به دلیل آنکه درستی کل شرط منوط به بزرگ‌تر و یا مساوی بودن \n",
    "    final_exam\n",
    "    از ۹۰ خواهد بود.\n",
    "</div>\n",
    "\n",
    "<br>\n",
    "<div style=\"direction:rtl; font-size: 17px; font-family: 'XB Zar'; line-height: 200%\">هنگام استفاده از دستور \n",
    "    and\n",
    "    ، شرطی که احتمال نادرستی بیشتری دارد را در سمت چپ عملگر \n",
    "    and\n",
    "    قرار دهید. در دستور \n",
    "    or\n",
    "    شرطی که احتمال درستی بیشتری دارد را در سمت چپ عملگر \n",
    "    or\n",
    "    قرار دهید. این تکنیک‌ها می‌توانند زمان اجرای برنامه را کاهش دهند.\n",
    "</div>"
   ]
  },
  {
   "cell_type": "markdown",
   "id": "c4483ed7",
   "metadata": {},
   "source": [
    "<h2 style=\"direction:rtl;font-size: px;font-family: 'XB Zar';color:#0288d1;\">عملگر منطقی not</h2><a id=''></a>"
   ]
  },
  {
   "cell_type": "markdown",
   "id": "f1c9bb4c",
   "metadata": {},
   "source": [
    "<div style=\"direction:rtl; font-size: 17px; font-family: 'XB Zar'; line-height: 200%\">عملگر \n",
    "    not\n",
    "    معنای یک شرط را برعکس می‌کند، اگر شرطی درست باشد، نادرست و اگر شرطی نادرست باشد، درست می‌شود. از آن‌جایی که این عملگر فقط یک عملوند دارد، یک عملگر تک عملوندی نامیده می‌شود. برای انتخاب یک مسیر اجرا برای یک شرط نادرست، مطابق کد ذیل قبل از آن شرط عملگر \n",
    "    not\n",
    "    قرار دهید:\n",
    "</div>"
   ]
  },
  {
   "cell_type": "code",
   "execution_count": null,
   "id": "80ffe433",
   "metadata": {},
   "outputs": [],
   "source": [
    "grade = 87"
   ]
  },
  {
   "cell_type": "code",
   "execution_count": null,
   "id": "1a0de69f",
   "metadata": {},
   "outputs": [],
   "source": [
    "if not grade == -1:\n",
    "   print('The next grade is', grade)"
   ]
  },
  {
   "cell_type": "markdown",
   "id": "11cad06d",
   "metadata": {},
   "source": [
    "<div style=\"direction:rtl; font-size: 17px; font-family: 'XB Zar'; line-height: 200%\">غالباً، می‌توانید با یک دستور شرطی متعارف‌تر و راحت‌تر، از دستور \n",
    "    not\n",
    "    استفاده نکنید. به عنوان مثال، دستور \n",
    "    if\n",
    "    قبلی را می‌توان به فرم زیر نوشت:\n",
    "</div>"
   ]
  },
  {
   "cell_type": "code",
   "execution_count": null,
   "id": "cb24336c",
   "metadata": {},
   "outputs": [],
   "source": [
    "if grade != -1:\n",
    "   print('The next grade is', grade)"
   ]
  },
  {
   "cell_type": "markdown",
   "id": "744bfd93",
   "metadata": {},
   "source": [
    "<div style=\"direction:rtl; font-size: 17px; font-family: 'XB Zar'; line-height: 200%\">جدول ذیل دو حالت ممکن عملگر \n",
    "    not\n",
    "    را نشان می‌دهد:\n",
    "</div>"
   ]
  },
  {
   "attachments": {
    "Screenshot%20%2841%29.png": {
     "image/png": "[encoded data removed]"
    }
   },
   "cell_type": "markdown",
   "id": "85ef0945",
   "metadata": {},
   "source": [
    "![Screenshot%20%2841%29.png](attachment:Screenshot%20%2841%29.png)"
   ]
  },
  {
   "cell_type": "markdown",
   "id": "b775b669",
   "metadata": {},
   "source": [
    "<div style=\"direction:rtl; font-size: 17px; font-family: 'XB Zar'; line-height: 200%\">جدول ذیل اولویت عملگرهای بررسی شده تا این فصل را نشان می‌دهد. عملگرهای بالای جدول اولویت بالاتر و عملگرهای پایین جدول اولویت کمتری دارند:\n",
    "</div>"
   ]
  },
  {
   "attachments": {
    "Screenshot%20%2842%29.png": {
     "image/png": "[encoded data removed]"
    }
   },
   "cell_type": "markdown",
   "id": "252183df",
   "metadata": {},
   "source": [
    "![Screenshot%20%2842%29.png](attachment:Screenshot%20%2842%29.png)"
   ]
  },
  {
   "cell_type": "markdown",
   "id": "13b67da5",
   "metadata": {},
   "source": [
    "<h1 style=\"direction:rtl;font-size: 35px;font-family: 'XB Zar';color:#8e24aa;\">3.14 <span style=\"color:#F50057;\">مقدمه‌ای بر علم داده: سنجش شاخص مرکزی - میانه، مد و میانگین</span></h1> <a id='17'></a>"
   ]
  },
  {
   "cell_type": "markdown",
   "id": "6e35bd1d",
   "metadata": {},
   "source": [
    "<div style=\"direction:rtl; font-size: 17px; font-family: 'XB Zar'; line-height: 200%\">در این قسمت با استفاده از چند تابع آمار توصیفی جدید، بحث استفاده از آمار توصیفی برای تجزیه و تحلیل داده‌ها را ادامه می‌دهیم:\n",
    "</div>\n",
    "\n",
    "\n",
    "<div style=\"direction:rtl; font-size: 17px; font-family: 'XB Zar'; line-height: 200%\">\n",
    "    <span style=\"color:#8e24aa;\">• </span><b>mean:</b> یعنی میانگین مجموعه‌ای از مقادیر.<br>\n",
    "    <span style=\"color:#8e24aa;\">• </span><b>median:</b> مقدار میانه زمانی که همه مقادیر مرتب باشند.<br>\n",
    "    <span style=\"color:#8e24aa;\">• </span><b>mode:</b> مقداری که بیشترین فراوانی را داشته باشد.<br>\n",
    "</div>"
   ]
  },
  {
   "cell_type": "markdown",
   "id": "f2af0482",
   "metadata": {},
   "source": [
    "<div style=\"direction:rtl; font-size: 17px; font-family: 'XB Zar'; line-height: 200%\">این توابع شاخص‌های مرکزی را توصیف می‌کنند. این توابع، داده‌های تک مقداری را برای نشان دادن یک مقدار مرکزی در مجموعه‌ای از داده‌ها تولید می‌کنند. به عنوان مثال، داده‌ای که به نوعی نمونه‌ای از داده‌های دیگر است.\n",
    "</div>\n",
    "\n",
    "\n",
    "<div style=\"direction:rtl; font-size: 17px; font-family: 'XB Zar'; line-height: 200%\">اجازه دهید میانگین، میانه و مد لیستی از اعداد صحیح را محاسبه کنیم. کد ذیل لیستی به نام \n",
    "    grades\n",
    "    ایجاد می‌کند، سپس از توابع درونی \n",
    "    sum\n",
    "    و \n",
    "    len\n",
    "    برای محاسبه میانگین به صورت دستی استفاده می‌کند. تابع \n",
    "    sum\n",
    "    مجموع کل نمرات \n",
    "    (۳۹۷)\n",
    "    را محاسبه می‌کند و تابع \n",
    "    len\n",
    "    تعداد نمرات \n",
    "    (۵)\n",
    "    را برمی‌گرداند:\n",
    "</div>"
   ]
  },
  {
   "cell_type": "code",
   "execution_count": null,
   "id": "54ff8f22",
   "metadata": {},
   "outputs": [],
   "source": [
    "grades = [85, 93, 45, 89, 85]"
   ]
  },
  {
   "cell_type": "code",
   "execution_count": null,
   "id": "fb87c0ee",
   "metadata": {},
   "outputs": [],
   "source": [
    "sum(grades) / len(grades)"
   ]
  },
  {
   "cell_type": "markdown",
   "id": "7fc56c30",
   "metadata": {},
   "source": [
    "<div style=\"direction:rtl; font-size: 17px; font-family: 'XB Zar'; line-height: 200%\">در فصل قبلی اشاره کردیم که دو تابع \n",
    "    count\n",
    "    و \n",
    "    sum\n",
    "    در آمار توصیفی به صورت دو تابع درونی با نام‌های \n",
    "    len\n",
    "    و \n",
    "    sum\n",
    "    در پایتون پیاده‌سازی شده‌اند. دو تابع اخیر همانند توابع \n",
    "    min\n",
    "    و \n",
    "    max\n",
    "    مثال‌هایی از برنامه نویسی تابعی و کاهشی هستند. این توابع مجموعه‌ای از مقادیر را به یک مقدار نگاشت می‌کنند، برای مثال دو تابع \n",
    "    sum\n",
    "    و \n",
    "    len\n",
    "    به ترتیب جمع و تعداد داده‌ها در یک مجموعه مقادیر را برمی‌گردانند. در مثال میانگین نمرات کلاس در \n",
    "    <a href=\"#11\">قسمت 3.8</a>\n",
    "    ،\n",
    "    می‌توانیم خطوط ۱۰ تا ۱۵ را حذف کنیم و در خط ۱۶ اسنیپت [2] را با تابع \n",
    "    average\n",
    "    جایگزین کنیم.\n",
    "</div>"
   ]
  },
  {
   "cell_type": "markdown",
   "id": "7703c88a",
   "metadata": {},
   "source": [
    "<div style=\"direction:rtl; font-size: 17px; font-family: 'XB Zar'; line-height: 200%\">ماژول \n",
    "    statistics\n",
    "    در کتابخانه استاندارد پایتون، توابعی برای محاسبه میانگین، مد و میانه ارائه می‌دهد. تمام این توابع از نوع کاهش‌دهنده هستند. برای استفاده از این قابلیت‌ها باید ماژول \n",
    "    statistics\n",
    "    را در برنامه خودتان \n",
    "    import\n",
    "    کنید:\n",
    "</div>"
   ]
  },
  {
   "cell_type": "code",
   "execution_count": null,
   "id": "98327bc1",
   "metadata": {},
   "outputs": [],
   "source": [
    "import statistics"
   ]
  },
  {
   "cell_type": "markdown",
   "id": "3b00ed84",
   "metadata": {},
   "source": [
    "<div style=\"direction:rtl; font-size: 17px; font-family: 'XB Zar'; line-height: 200%\">سپس با قرار دادن کلمه \n",
    "     .statistics\n",
    "    قبل از نام توابع می‌توانید از آنها استفاده کنید. کد ذیل با استفاده از توابع \n",
    "    mean\n",
    "    ، \n",
    "    median\n",
    "    و \n",
    "    mode\n",
    "    در ماژول \n",
    "    statistics\n",
    "    مقادیر میانگین، میانه و مد لیست \n",
    "    grades\n",
    "    را محاسبه می‌کند:\n",
    "</div>"
   ]
  },
  {
   "cell_type": "code",
   "execution_count": null,
   "id": "aa1d81f9",
   "metadata": {},
   "outputs": [],
   "source": [
    "statistics.mean(grades)"
   ]
  },
  {
   "cell_type": "code",
   "execution_count": null,
   "id": "97352fbb",
   "metadata": {},
   "outputs": [],
   "source": [
    "statistics.median(grades)"
   ]
  },
  {
   "cell_type": "code",
   "execution_count": null,
   "id": "c6ea8832",
   "metadata": {},
   "outputs": [],
   "source": [
    "statistics.mode(grades)"
   ]
  },
  {
   "cell_type": "markdown",
   "id": "3d493aee",
   "metadata": {},
   "source": [
    "<div style=\"direction:rtl; font-size: 17px; font-family: 'XB Zar'; line-height: 200%\">آرگومان هر تابع باید از نوع \n",
    "    iterable\n",
    "    باشد. در این مثال، لیست \n",
    "    grades\n",
    "    چنین خاصیتی دارد. برای اطمینان از درست بودن میانه و مد، با استفاده از تابع درونی \n",
    "    sorted \n",
    "    یک کپی از لیست \n",
    "    grades\n",
    "    که به طور صعودی مرتب شده است، تهیه کنید:\n",
    "</div>"
   ]
  },
  {
   "cell_type": "code",
   "execution_count": null,
   "id": "ec40bcbb",
   "metadata": {},
   "outputs": [],
   "source": [
    "sorted(grades)"
   ]
  },
  {
   "cell_type": "markdown",
   "id": "0b171977",
   "metadata": {},
   "source": [
    "<div style=\"direction:rtl; font-size: 17px; font-family: 'XB Zar'; line-height: 200%\">تعداد عناصر لیست \n",
    "    grades\n",
    "    یک عدد فرد \n",
    "    (۵)\n",
    "    است و به همین دلیل تابع \n",
    "    median\n",
    "    مقدار میانی \n",
    "    (۸۵)\n",
    "    را برمی‌گرداند. اگر تعداد عناصر یک لیست عددی زوج باشد، تابع \n",
    "    median\n",
    "    میانگین دو مقدار وسطی را برمی‌گرداند. با بررسی لیست مرتب شده می‌بینید که مد برابر ۸۵ است؛ چرا که بیشترین فراوانی (در اینجا ۲) را دارد. استفاده از تابع \n",
    "    mode\n",
    "    در لیست ذیل یک خطای \n",
    "    StatisticsError\n",
    "    تولید می‌کند:\n",
    "</div>"
   ]
  },
  {
   "cell_type": "markdown",
   "id": "b8a14dca",
   "metadata": {},
   "source": [
    "```Python\n",
    "[85, 93, 45, 89, 85, 93]\n",
    "```"
   ]
  },
  {
   "cell_type": "markdown",
   "id": "b62a1e98",
   "metadata": {},
   "source": [
    "<div style=\"direction:rtl; font-size: 17px; font-family: 'XB Zar'; line-height: 200%\">این خطا به این دلیل رخ می‌دهد که بیش از دو و یا چند داده فراوانی‌های برابر دارند. به چنین مجموعه‌ای از داده‌ها \n",
    "    bimodal\n",
    "    می‌گویند. در این لیست ۸۵ و ۹۳ دو بار تکرار شده‌اند.\n",
    "</div>"
   ]
  },
  {
   "cell_type": "markdown",
   "id": "ebb5ab74",
   "metadata": {},
   "source": [
    "<h1 style=\"direction:rtl;font-size: 35px;font-family: 'XB Zar';color:#8e24aa;\">3.15 <span style=\"color:#F50057;\">جمع‌بندی</span></h1> <a id='18'></a>"
   ]
  },
  {
   "cell_type": "markdown",
   "id": "36acebd6",
   "metadata": {},
   "source": [
    "<div style=\"direction:rtl; font-size: 17px; font-family: 'XB Zar'; line-height: 200%\">در این فصل، دستورات کنترلی پایتون نظیر \n",
    "    if, if…else, if…elif…else, while, for, break و continue\n",
    "    را مورد بحث قرار دادیم. مشاهده کردید که دستور \n",
    "    for\n",
    "    یک حلقه تکرار را روی دنباله‌ای از داده‌ها انجام می‌دهد. دستور \n",
    "    for\n",
    "    روی داده‌های \n",
    "    iterable\n",
    "    نظیر محدوده‌ای (رنجی) از اعداد صحیح، یک رشته و یا یک لیست عمل می‌کند. از تابع درونی \n",
    "    range\n",
    "    برای ایجاد دنباله‌ای از اعداد صحیح از صفر تا یک واحد کمتر از آرگومان آن استفاده کردید. برای تعیین تعداد تکرار دستور \n",
    "    for\n",
    "    از این تابع استفاده کردید.\n",
    "</div>\n",
    "\n",
    "\n",
    "<div style=\"direction:rtl; font-size: 17px; font-family: 'XB Zar'; line-height: 200%\">با استفاده از دستور \n",
    "    while\n",
    "    یک حلقه کنترل شده با مقدار خاص ایجاد کردید، اجرای حلقه تا زمان وارد کردن مقدار خاص ادامه می‌یابد. از تابع درونی \n",
    "    range\n",
    "    با دو آرگومان برای ایجاد دنباله‌ای از اعداد صحیح استفاده کردید. دنباله حاصل از آرگومان اول تا یک واحد کمتر از آرگومان دوم تشکیل می‌شود. در نسخه سه آرگومان تابع \n",
    "    range\n",
    "    ، عدد بعدی با جمع عدد قبلی و آرگومان سوم که گام نامیده می‌شود، به دست می‌آید.\n",
    "</div>\n",
    "\n",
    "\n",
    "\n",
    "<div style=\"direction:rtl; font-size: 17px; font-family: 'XB Zar'; line-height: 200%\">نوع داده \n",
    "    Decimal\n",
    "    را بررسی کردیم، این داده برای محاسبات مالی دقیق به کار می‌رود و برای محاسبه سود مرکب از آن استفاده کردید. از \n",
    "    f-string\n",
    "    ها و سایر مشخص کننده‌ها برای تولید خروجی فرمت شده استفاده کردید. دستورات کنترلی \n",
    "    break\n",
    "    و \n",
    "    continue\n",
    "    را معرفی کردیم، این دو دستور روند اجرای حلقه را تغییر می‌دهند. برای ترکیب شرط‌های ساده عملگرهای منطقی \n",
    "     and، \n",
    "    or \n",
    "    و \n",
    "    not\n",
    "    را معرفی کردیم.\n",
    "</div>\n",
    "\n",
    "\n",
    "\n",
    "<div style=\"direction:rtl; font-size: 17px; font-family: 'XB Zar'; line-height: 200%\">در انتها با معرفی معیارهای سنجش مرکزی نظیر میانه،  مد و میانگین بحث خود را در مورد آمار توصیفی ادامه دادیم. با استفاده از توابع موجود در ماژول \n",
    "    statistics\n",
    "    این سه مقدار را محاسبه کردیم.\n",
    "</div>\n",
    "\n",
    "\n",
    "\n",
    "<div style=\"direction:rtl; font-size: 17px; font-family: 'XB Zar'; line-height: 200%\">در بخش بعد، توابع خودتان را ایجاد خواهید کرد و توابع موجود در ماژول‌های \n",
    "    math\n",
    "    و \n",
    "    random\n",
    "    در پایتون استفاده خواهید کرد. چندین برنامه نویسی کاهشی از پیش تعریف شده را نشان می‌دهیم و با دیگر قابلیت‌های برنامه نویسی تابعی آشنا خواهید شد.\n",
    "</div>"
   ]
  }
 ],
 "metadata": {
  "kernelspec": {
   "display_name": "Python 3 (ipykernel)",
   "language": "python",
   "name": "python3"
  },
  "language_info": {
   "codemirror_mode": {
    "name": "ipython",
    "version": 3
   },
   "file_extension": ".py",
   "mimetype": "text/x-python",
   "name": "python",
   "nbconvert_exporter": "python",
   "pygments_lexer": "ipython3",
   "version": "3.13.5"
  }
 },
 "nbformat": 4,
 "nbformat_minor": 5
}
