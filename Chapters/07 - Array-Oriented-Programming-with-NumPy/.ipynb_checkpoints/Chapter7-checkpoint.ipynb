{
 "cells": [
  {
   "cell_type": "markdown",
   "id": "3a6b61cc-609e-4a97-afc7-d4b8a8b19fd9",
   "metadata": {},
   "source": [
    "<img src=\"https://deitel.com/wp-content/uploads/2020/01/python-for-programmers.jpg\" align = \"left\">\n",
    "\n",
    "\n",
    "<!DOCTYPE html>\n",
    "<html>\n",
    "<head>\n",
    "    <style>\n",
    "    </style>\n",
    "</head>\n",
    "<body>\n",
    "    <h1 style=\"text-align:right;font-size:250%; font-family: 'XB Zar';\"><span style=\"color:#9575cd;font-size:300%;\">پایتون</span> <br>برای برنامه‌نویسان</h1>\n",
    "    <hr>\n",
    "    <p style=\"text-align:right;font-size:150%;font-family: 'XB Zar';\"><b>با مطالعات مقدماتی هوش مصنوعی</b></p>\n",
    "    <p style=\"text-align:right;font-size:150%;font-family: 'XB Zar';\">مولفین : پل دایتل و هاروی دایتل</p>\n",
    "</body>\n",
    "</html>"
   ]
  },
  {
   "cell_type": "markdown",
   "id": "697f0365-aacf-4621-8588-2dcea80e8c41",
   "metadata": {},
   "source": [
    "\n",
    "<html>\n",
    "<head>\n",
    "    <style>\n",
    "    </style>\n",
    "</head>\n",
    "<body>\n",
    "    <hr>\n",
    "    <p style=\"text-align:right;font-size:150%;font-family:XB Zar;\"><b>استاد:</b> جناب آقای دکتر صالحی</p>\n",
    "    <p style=\"text-align:right;font-size:150%;font-family:XB Zar;\"><b>گردآورنده:</b> مرضیه آقابالاصفر</p>\n",
    "    <p style=\"text-align:right;font-size:150%;font-family:XB Zar;\">دپارتمان علوم‌کامپیوتر، دانشکده علوم ریاضی، دانشگاه شهرکرد</p>\n",
    "    <hr>\n",
    "</body>\n",
    "</html>\n"
   ]
  },
  {
   "cell_type": "markdown",
   "id": "75d6df4b-1a61-49ad-96f7-dffa602eb162",
   "metadata": {},
   "source": [
    "<h1 style=\"text-align:center;font-size:450%; font-family: 'XB Zar';\"><span style=\"color:#8e24aa;\">NumPyفصل ۷: برنامه نویسی آرایه‌گرا با\n",
    "    </span></h1> <a id='1'></a>"
   ]
  },
  {
   "cell_type": "markdown",
   "id": "92ab2d0a-26f4-419c-876a-dad9348edf8a",
   "metadata": {},
   "source": [
    "<h1 style=\"direction:rtl;font-size: 35px;font-family: 'XB Zar';\"><span style=\"color:#F50057;\">اهداف</span></h1>\n",
    "<p style=\"text-align:right;\">\n",
    "<div style=\"direction:rtl; font-size: 17px; font-family: 'XB Zar'; line-height: 200%\">\n",
    "در این فصل :\n",
    "</div>\n",
    "    <div style=\"direction:rtl; font-size: 17px; font-family: 'XB Zar'; line-height: 200%\">\n",
    "    <span style=\"color:#F50057;\">■ </span>یاد می‌گیرید که آرایه‌ها و لیست‌ها چه تفاوت‌هایی با هم دارند.<br>\n",
    "    <span style=\"color:#F50057;\">■ </span>از \n",
    "        ndarrays\n",
    "        در \n",
    "        numpy\n",
    "        که کارایی بالایی دارد، استفاده خواهید کرد.<br>\n",
    "    <span style=\"color:#F50057;\">■ </span>با دستور \n",
    "        timeit%\n",
    "        در \n",
    "        IPython\n",
    "        ، کارایی \n",
    "        ndarray\n",
    "        را با لیست‌ها مقایسه خواهید کرد.<br>\n",
    "    <span style=\"color:#F50057;\">■ </span>با استفاده از \n",
    "        ndarray\n",
    "        داده‌ها را به طور کارآمدی ذخیره و بازیابی خواهید کرد.<br>\n",
    "    <span style=\"color:#F50057;\">■ </span>ndarray\n",
    "        ها را ایجاد کرده و آنها را مقداردهی خواهید کرد.<br>\n",
    "    <span style=\"color:#F50057;\">■ </span>به هر عضو \n",
    "        ndarray\n",
    "        دسترسی پیدا خواهید کرد.<br>\n",
    "    <span style=\"color:#F50057;\">■ </span>ndarray\n",
    "        ها را پیمایش خواهید کرد.<br>\n",
    "    <span style=\"color:#F50057;\">■ </span>ndarray\n",
    "        های چند بعدی را ایجاد کرده و آنها را تغییر خواهید داد.<br>\n",
    "    <span style=\"color:#F50057;\">■ </span>دستکاری‌های رایج \n",
    "        ndarray\n",
    "        را انجام خواهید داد.<br>\n",
    "    <span style=\"color:#F50057;\">■ </span>داده‌های یک بعدی \n",
    "        Series\n",
    "        و دو بعدی \n",
    "        DataFrames\n",
    "        در کتابخانه \n",
    "        pandas\n",
    "        را ایجاد کرده و آنها را دستکاری خواهید کرد.<br>\n",
    "    <span style=\"color:#F50057;\">■ </span>اندیس‌های \n",
    "        Series\n",
    "        و \n",
    "         DataFrame\n",
    "        را تنظیم خواهید کرد.<br>\n",
    "    <span style=\"color:#F50057;\">■ </span>شاخص‌های پایه آمار توصیفی را برای داده‌های \n",
    "        Series\n",
    "        و \n",
    "        DataFrame\n",
    "        محاسبه خواهید کرد.<br>\n",
    "    <span style=\"color:#F50057;\">■ </span>دقت اعداد اعشاری در خروجی فرمت شده \n",
    "        pandas\n",
    "        را تنظیم خواهید کرد.<br>\n",
    "    </div>\n",
    "</p>"
   ]
  },
  {
   "cell_type": "markdown",
   "id": "dcd36818-0d63-441f-94ee-5366766fe0da",
   "metadata": {},
   "source": [
    "<h1 style=\"direction:rtl;font-size: 35px;font-family: 'XB Zar';\"><span style=\"color:#8e24aa;\">رئوس مطالب</span></h1>\n",
    "<hr>\n",
    "<div style=\"direction:rtl; font-size: 17px; font-family: 'XB Zar'; line-height: 200%\">\n",
    "  \n",
    "7. [فصل ۷: برنامه نویسی آرایه‌گرا با NumPy](#1)\n",
    "    * 7.1 [مقدمه](#2)\n",
    "    * 7.2 [ایجاد آرایه با استفاده از داده‌های موجود](#3)\n",
    "    * 7.3 [Attribute ‌های آرایه](#4)\n",
    "    * 7.4 [پر کردن آرایه‌ها با مقادیر خاص](#5)\n",
    "    * 7.5 [ایجاد آرایه با استفاده از  محدوده‌ها](#6)\n",
    "    * 7.6 [کارایی لیست در مقایسه با آرایه: مقدمه‌ای بر timeit%](#7)\n",
    "    * 7.7 [عملگرهای آرایه](#8)\n",
    "    * 7.8 [متدهای محاسباتی NumPy](#9)\n",
    "    * 7.9 [توابع Universal](#10)\n",
    "    * 7.10 [اندیس و Slice](#11)\n",
    "    * 7.11 [Views: کپی‌های سطحی](#12)\n",
    "    * 7.12 [کپی‌های عمیق](#13)\n",
    "    * 7.13 [ترانهاده و تغییر شکل](#14)\n",
    "    * 7.14 [مقدمه‌ای بر علم داده: Series و DataFrames در کتابخانه  pandas](#15)\n",
    "        * 7.14.1 [Series در کتابخانه  pandas](#16)\n",
    "        * 7.14.2 [DataFrames](#17)\n",
    "    * 7.15 [جمع‌بندی](#18)\n",
    "\n",
    "    \n",
    "</div>\n"
   ]
  },
  {
   "cell_type": "markdown",
   "id": "5e39036c-d824-455f-b3ad-19aef36dd413",
   "metadata": {},
   "source": [
    "<h1 style=\"direction:rtl;font-size: 35px;font-family: 'XB Zar';color:#8e24aa;\">7.1 <span style=\"color:#F50057;\">مقدمه</span></h1> <a id='2'></a>"
   ]
  },
  {
   "cell_type": "markdown",
   "id": "b7ae696a-263a-4568-92c4-7fef5ead87fe",
   "metadata": {},
   "source": [
    "<div style=\"direction:rtl; font-size: 17px; font-family: 'XB Zar'; line-height: 200%\">کتابخانه\n",
    "    NumPy\n",
    "    اولین بار در سال ۲۰۰۶ ارائه شد و روش برتر پیاده‌سازی آرایه در پایتون محسوب می‌شود. این کتابخانه کارایی بالایی داشته و توابع بسیار زیاد و غنی برای کار با آرایه \n",
    "    n-dimensional\n",
    "    موسوم به \n",
    "    ndarray\n",
    "    دارد. از این به بعد \n",
    "    ndarray\n",
    "    را با همان نام متعارف آرایه مورد استفاده قرار خواهیم داد. \n",
    "    NumPy\n",
    "    یکی از چندین کتابخانه‌های منبع باز است که توزیع \n",
    "    Anaconda\n",
    "    پایتون نصب می‌کند. سرعت عملیات در آرایه دوبرابر سریع‌تر از لیست است. در دنیای کلان داده‌ها که ممکن است برنامه‌ها پردازش خیلی زیادی روی مقادیر عظیمی از داده‌های آرایه‌ای انجام دهند، این کارایی بالا می‌تواند حیاتی باشد. طبق گزارش \n",
    "    <a href=\"libraries.io\">libraries.io</a>\n",
    "    بیش از ۴۵۰ کتابخانه در پایتون به \n",
    "    NumPy\n",
    "    وابسته هستند. بسیاری از کتابخانه‌های معروف علم داده مانند \n",
    "    Pandas, SciPy (Scientific Python) , Keras (for deep learning)\n",
    "    بر اساس \n",
    "    NumPy\n",
    "    ساخته شده‌اند یا به آن وابسته هستند.\n",
    "</div>"
   ]
  },
  {
   "cell_type": "markdown",
   "id": "24e00a6f-c9e8-43f7-8d44-fd53e0831b5f",
   "metadata": {},
   "source": [
    "<div style=\"direction:rtl; font-size: 17px; font-family: 'XB Zar'; line-height: 200%\">در این فصل، قابلیت‌های پایه‌ای آرایه را بررسی می‌کنیم. لیست‌ها می‌توانند چند بعدی باشند. به طور کلی، لیست‌های چند بعدی را با استفاده از حلقه‌های تودرتو و یا روش \n",
    "    list comprehension\n",
    "    همراه با چندین دستور پردازش می‌کنید. نقطه قوت \n",
    "    NumPy\n",
    "    برنامه نویسی آرایه‌گرا و استفاده از روش برنامه نویسی به سبک تابعی است و باعث می‌شود ایجاد و یا دستکاری آرایه‌ها مختصر و ساده انجام شود. این روش \n",
    "    bug\n",
    "    های مختلفی که می‌توانند با تکرار خارجی حلقه‌های برنامه ریزی شده ایجاد شوند را برطرف می‌کند.\n",
    "</div>"
   ]
  },
  {
   "cell_type": "markdown",
   "id": "f2767725-0099-4814-b2f7-c71dc2703497",
   "metadata": {},
   "source": [
    "<div style=\"direction:rtl; font-size: 17px; font-family: 'XB Zar'; line-height: 200%\">در بخش مقدمه‌ای بر علم داده این فصل، یک مقدمه چند بخشی درباره کتابخانه \n",
    "    pandas\n",
    "    آغاز می‌کنیم. از این کتابخانه در بسیاری از فصل‌های مطالعه موردی در رابطه با علم داده استفاده خواهید کرد. برنامه‌های مرتبط با کلان داده‌ها غالبا به مجموعه‌های انعطاف‌پذیرتر از آرایه‌های \n",
    "    NumPy\n",
    "    احتیاج دارند - مجموعه‌هایی از انواع داده‌های مختلف، اندیس‌گذاری سفارشی، داده‌های از دست رفته، داده‌هایی که ساختار ثابتی ندارند و داده‌هایی که باید به اشکال مناسب برای پایگاه داده‌ها و \n",
    "    package\n",
    "    های تجزیه و تحلیل داده‌ها مورد استفاده ما تبدیل شوند؛ پشتیبانی کنند. در این بخش \n",
    "    Series \n",
    "    و \n",
    "    DataFrames \n",
    "    و قابلیت‌های قدرتمند آن‌ها را نشان خواهیم داد. این دو نوع داده به ترتیب معادل آرایه‌های یک‌بعدی و دوبعدی هستند. پس از خواندن این فصل، با چهار کالکشن آرایه‌ای - \n",
    "    Lists, arrays, Series و DataFrames\n",
    "    آشنا خواهید شد.\n",
    "    پنجمین مورد یعنی \n",
    "    tensor\n",
    "    را در فصل \"یادگیری عمیق\" اضافه می‌کنیم.\n",
    "</div>"
   ]
  },
  {
   "cell_type": "markdown",
   "id": "f3bc1b09-871a-45fe-85dc-1673c815fc20",
   "metadata": {},
   "source": [
    "<h1 style=\"direction:rtl;font-size: 35px;font-family: 'XB Zar';color:#8e24aa;\">7.2 <span style=\"color:#F50057;\">ایجاد آرایه با استفاده از داده‌های موجود</span></h1> <a id='3'></a>"
   ]
  },
  {
   "cell_type": "markdown",
   "id": "db62a144-e561-4fc5-9021-3692ece33c79",
   "metadata": {},
   "source": [
    "<div style=\"direction:rtl; font-size: 17px; font-family: 'XB Zar'; line-height: 200%\">مستندات\n",
    "    NumPy\n",
    "    توصیه می‌کند ماژول \n",
    "    numpy\n",
    "    را با نام \n",
    "     np\n",
    "    وارد کنید تا بتوانید با عبارت \n",
    "    \".np\"\n",
    "    به اعضای آن دسترسی داشته باشید:\n",
    "</div>"
   ]
  },
  {
   "cell_type": "code",
   "execution_count": null,
   "id": "2859d535-dfab-4007-89e5-d12a27821f1c",
   "metadata": {},
   "outputs": [],
   "source": [
    "import numpy as np"
   ]
  },
  {
   "cell_type": "markdown",
   "id": "2fcafde0-ac81-4f29-a107-20b01cf266b0",
   "metadata": {},
   "source": [
    "<div style=\"direction:rtl; font-size: 17px; font-family: 'XB Zar'; line-height: 200%\">در ماژول\n",
    "    numpy\n",
    "    برای ایجاد آرایه‌ها توابع مختلفی وجود دارد. در اینجا از تابع \n",
    "    array\n",
    "    استفاده می‌کنیم؛ این تابع یک آرایه یا کالکشن دیگری از داده‌ها را به عنوان آرگومان دریافت می‌کند و یک آرایه جدید با اعضای آرگومان برمی‌گرداند. در کد زیر لیستی را به عنوان آرگومان منتقل می‌کنیم:\n",
    "</div>"
   ]
  },
  {
   "cell_type": "code",
   "execution_count": null,
   "id": "993d5444-5e47-436c-805d-992bc95e76e0",
   "metadata": {},
   "outputs": [],
   "source": [
    "numbers = np.array([2, 3, 5, 7, 11])"
   ]
  },
  {
   "cell_type": "markdown",
   "id": "2202b45b-cf7c-48e9-ba01-397e34390188",
   "metadata": {},
   "source": [
    "<div style=\"direction:rtl; font-size: 17px; font-family: 'XB Zar'; line-height: 200%\">تابع \n",
    "    array\n",
    "    محتویات آرگومان خود را در آرایه کپی می‌کند. در ادامه نوع شیئی را که تابع \n",
    "    array\n",
    "    برگردانده بررسی می‌کنیم و محتوای آن را نمایش می‌دهیم:\n",
    "</div>"
   ]
  },
  {
   "cell_type": "code",
   "execution_count": null,
   "id": "7ccda3b9-a640-4c23-9836-6caacdb0f51c",
   "metadata": {},
   "outputs": [],
   "source": [
    "type(numbers)"
   ]
  },
  {
   "cell_type": "code",
   "execution_count": null,
   "id": "79742816-bc19-4df2-b8f0-cd4efa1e0a44",
   "metadata": {},
   "outputs": [],
   "source": [
    "numbers"
   ]
  },
  {
   "cell_type": "markdown",
   "id": "3ca72a93-c8fa-47e0-ae0a-95fecec38290",
   "metadata": {},
   "source": [
    "<div style=\"direction:rtl; font-size: 17px; font-family: 'XB Zar'; line-height: 200%\">توجه داشته باشید که نوع داده \n",
    "     numpy.ndarray\n",
    "    است، اما همه آرایه‌ها به صورت \n",
    "    \"array\"\n",
    "    نشان داده می‌شوند. \n",
    "    NumPy\n",
    "    هنگام نمایش یک آرایه، هر مقدار را با یک کاما و یک فاصله از مقدار بعدی جدا کرده و همه داده‌ها را با عرض فیلد برابر و از سمت راست تراز می‌کند. عرض فیلد را بر اساس مقداری تعیین می‌کند که بیشترین تعداد کاراکتر را اشغال می‌کند. در این حالت، مقدار ۱۱ به اندازه دو کاراکتر فضا اشغال می‌کند، بنابراین تمام مقادیر در دو کاراکتر فرمت می‌شوند. دلیل قرارگرفتن یک فضای خالی بین ] و ۲ همین موضوع است.\n",
    "</div>"
   ]
  },
  {
   "cell_type": "markdown",
   "id": "e9b7e900-d2e7-4dda-a44b-14c8b5d4e844",
   "metadata": {},
   "source": [
    "<h2 style=\"direction:rtl;font-size: px;font-family: 'XB Zar';color:#0288d1;\">آرایه‌های چند بعدی</h2> <a id=''></a>"
   ]
  },
  {
   "cell_type": "markdown",
   "id": "2f5b4f12-d125-4df8-ab6d-2295dcb11a8b",
   "metadata": {},
   "source": [
    "<div style=\"direction:rtl; font-size: 17px; font-family: 'XB Zar'; line-height: 200%\">تابع \n",
    "    array\n",
    "    ابعاد آرگومان خود را کپی می‌کند. کد زیر با لیستی که دو سطر و سه ستون دارد، آرایه‌ای ایجاد می‌کند:\n",
    "</div>"
   ]
  },
  {
   "cell_type": "code",
   "execution_count": null,
   "id": "aeb33270-281c-4b71-ab93-a578b67f5ff2",
   "metadata": {},
   "outputs": [],
   "source": [
    "np.array([[1, 2, 3], [4, 5, 6]])"
   ]
  },
  {
   "cell_type": "markdown",
   "id": "c29f2ec1-4a61-48c4-83c3-71e275d6ac9e",
   "metadata": {},
   "source": [
    "<div style=\"direction:rtl; font-size: 17px; font-family: 'XB Zar'; line-height: 200%\">قابلیت خودکار فرمت‌بندی آرایه‌ها در \n",
    "    NumPy\n",
    "    ، بر اساس ابعاد آرایه‌ها، ستون‌ها را در هر ردیف تراز می‌کند.\n",
    "</div>"
   ]
  },
  {
   "cell_type": "markdown",
   "id": "8638db1b-4ce5-41ee-95bc-3354f4e0a6de",
   "metadata": {},
   "source": [
    "<h1 style=\"direction:rtl;font-size: 35px;font-family: 'XB Zar';color:#8e24aa;\">7.3 <span style=\"color:#F50057;\">Attribute\n",
    "    های آرایه</span></h1> <a id='4'></a>"
   ]
  },
  {
   "cell_type": "markdown",
   "id": "81825f0f-554d-49ce-810a-6531f73afd79",
   "metadata": {},
   "source": [
    "<div style=\"direction:rtl; font-size: 17px; font-family: 'XB Zar'; line-height: 200%\">شیء آرایه دارای ویژگی‌هایی است که به شما این امکان را می‌دهد که اطلاعات مربوط به ساختار و محتوای آرایه را مشخص کنید. در این بخش از آرایه‌های زیر استفاده خواهیم کرد:\n",
    "</div>"
   ]
  },
  {
   "cell_type": "code",
   "execution_count": null,
   "id": "ae8eece2-55d4-4674-9058-cf2ba2b90e20",
   "metadata": {},
   "outputs": [],
   "source": [
    "import numpy as np"
   ]
  },
  {
   "cell_type": "code",
   "execution_count": null,
   "id": "bbb5bc81-03ad-44c9-90c0-d02655076aee",
   "metadata": {},
   "outputs": [],
   "source": [
    "integers = np.array([[1, 2, 3], [4, 5, 6]])"
   ]
  },
  {
   "cell_type": "code",
   "execution_count": null,
   "id": "8ade083d-450b-45a3-86a4-ac574f942001",
   "metadata": {},
   "outputs": [],
   "source": [
    "integers"
   ]
  },
  {
   "cell_type": "code",
   "execution_count": null,
   "id": "2f31e0b7-0064-4028-9aa7-b9c8d7b61ac5",
   "metadata": {},
   "outputs": [],
   "source": [
    "floats = np.array([0.0, 0.1, 0.2, 0.3, 0.4])"
   ]
  },
  {
   "cell_type": "code",
   "execution_count": null,
   "id": "af349901-cddf-4be5-baa6-530cae4bba0a",
   "metadata": {},
   "outputs": [],
   "source": [
    "floats"
   ]
  },
  {
   "cell_type": "markdown",
   "id": "506482b8-9f75-49fd-8196-ef6fc778ab20",
   "metadata": {},
   "source": [
    "<div style=\"direction:rtl; font-size: 17px; font-family: 'XB Zar'; line-height: 200%\">NumPy\n",
    "    در نمایش مقادیر اعشاری، دنباله‌ای از صفرها در سمت راست نقطه اعشار را نشان نمی‌دهد.\n",
    "</div>"
   ]
  },
  {
   "cell_type": "markdown",
   "id": "08435607-f73d-40d4-8ab1-a5510420a1bf",
   "metadata": {},
   "source": [
    "<h2 style=\"direction:rtl;font-size: px;font-family: 'XB Zar';color:#0288d1;\">تعیین نوع عناصر آرایه</h2> <a id=''></a>"
   ]
  },
  {
   "cell_type": "markdown",
   "id": "f98abb58-5de8-4359-94ba-82927b809100",
   "metadata": {},
   "source": [
    "<div style=\"direction:rtl; font-size: 17px; font-family: 'XB Zar'; line-height: 200%\">تابع \n",
    "    array\n",
    "    نوع عناصر آرایه را با استفاده از اعضای آرگومان خود مشخص می‌کند. نوع داده عناصر را می‌توان با ویژگی \n",
    "    dtype\n",
    "    در آرایه بررسی کرد:\n",
    "</div>"
   ]
  },
  {
   "cell_type": "code",
   "execution_count": null,
   "id": "84e880cc-1d3f-4790-9684-e0e932ac96f4",
   "metadata": {},
   "outputs": [],
   "source": [
    "integers.dtype"
   ]
  },
  {
   "cell_type": "code",
   "execution_count": null,
   "id": "6070a241-e265-4109-b413-1428867cb883",
   "metadata": {},
   "outputs": [],
   "source": [
    "floats.dtype"
   ]
  },
  {
   "cell_type": "markdown",
   "id": "727a975a-ea28-4c5e-b998-a6a0b03fe478",
   "metadata": {},
   "source": [
    "<div style=\"direction:rtl; font-size: 17px; font-family: 'XB Zar'; line-height: 200%\">همانطور که در بخش بعدی خواهید دید، توابع مختلف ایجاد آرایه، آرگومان کلیدی \n",
    "    dtype\n",
    "    را دریافت می‌کنند و به همین دلیل می‌توانید نوع عنصر آرایه را تعیین کنید. برای افزایش کارایی، \n",
    "    NumPy\n",
    "    به زبان برنامه نویسی \n",
    "    C\n",
    "    نوشته شده و از \n",
    "    data type\n",
    "    های زبان \n",
    "    C\n",
    "    استفاده می‌کند. به طور پیش‌فرض، \n",
    "    NumPy\n",
    "    عدد صحیح را به عنوان مقادیر \n",
    "    int64\n",
    "    ذخیره می‌کند که با عدد صحیح ۶۴ بیتی (۸ بایت) در \n",
    "    C\n",
    "    مطابقت دارد و اعداد اعشاری را به عنوان مقادیر \n",
    "    float64\n",
    "    ذخیره می‌کند که با مقادیر \n",
    "    ممیز شناور\n",
    "    ۶۴ بیتی (۸ بایت) در \n",
    "    C\n",
    "    مطابقت دارد. در مثال‌های ما، انواع \n",
    "    int64, float64, bool (for \n",
    "Boolean\n",
    "    و\n",
    "    object\n",
    "     را برای داده‌های غیرعددی مشاهده خواهید کرد (مانند\n",
    "    string\n",
    "     ). برای مشاهده لیست کامل انواع داده‌هایی که در \n",
    "    NumPy\n",
    "    پشتیبانی می‌شوند به آدرس زیر مراجعه کنید:    <br>\n",
    "    <a href=\"https://docs.scipy.org/doc/numpy/user/basics.types.html\">https://docs.scipy.org/doc/numpy/user/basics.types.html</a>\n",
    "\n",
    "</div>"
   ]
  },
  {
   "cell_type": "markdown",
   "id": "aee202b5-b610-40dd-b9fd-1cda53231c6e",
   "metadata": {},
   "source": [
    "<h2 style=\"direction:rtl;font-size: px;font-family: 'XB Zar';color:#0288d1;\">تعیین ابعاد آرایه</h2> <a id=''></a>"
   ]
  },
  {
   "cell_type": "markdown",
   "id": "1a5d52ca-4824-40ed-87a9-b2c3b77e38ab",
   "metadata": {},
   "source": [
    "<div style=\"direction:rtl; font-size: 17px; font-family: 'XB Zar'; line-height: 200%\">ویژگی\n",
    "    ndim\n",
    "    شامل تعداد ابعاد یک آرایه و ویژگی \n",
    "    shape\n",
    "    یک تاپل است که ابعاد یک آرایه را مشخص می‌کند.\n",
    "</div>"
   ]
  },
  {
   "cell_type": "code",
   "execution_count": null,
   "id": "3962b8c7-9a53-40be-bd98-8587b86d1bf7",
   "metadata": {},
   "outputs": [],
   "source": [
    "integers.ndim"
   ]
  },
  {
   "cell_type": "code",
   "execution_count": null,
   "id": "f4f143b4-86f0-461a-afb5-987817fc3d32",
   "metadata": {},
   "outputs": [],
   "source": [
    "floats.ndim"
   ]
  },
  {
   "cell_type": "code",
   "execution_count": null,
   "id": "471a3c23-1bb7-4579-8f41-651656f32c20",
   "metadata": {},
   "outputs": [],
   "source": [
    "integers.shape"
   ]
  },
  {
   "cell_type": "code",
   "execution_count": null,
   "id": "6c1b0c22-6537-4214-8f55-c09f7d0a07f7",
   "metadata": {},
   "outputs": [],
   "source": [
    "floats.shape"
   ]
  },
  {
   "cell_type": "markdown",
   "id": "114e59c1-99af-4adf-b3db-01f7ab2eb32f",
   "metadata": {},
   "source": [
    "<div style=\"direction:rtl; font-size: 17px; font-family: 'XB Zar'; line-height: 200%\">در اینجا،\n",
    "    integers\n",
    "    دارای ۲ سطر و ۳ ستون (۶ عنصر) است و \n",
    "    floats\n",
    "    یک بعدی است، بنابراین اسنیپت [۱۱] یک تاپل تک عضوی را نشان می‌دهد (با کاما نشان داده می‌شود) که حاوی ۵ عدد اعشاری است.\n",
    "</div>"
   ]
  },
  {
   "cell_type": "markdown",
   "id": "1dcc151f-4e0f-49a3-b183-de7572f554c4",
   "metadata": {},
   "source": [
    "<h2 style=\"direction:rtl;font-size: px;font-family: 'XB Zar';color:#0288d1;\">تعیین تعداد عناصر آرایه و اندازه هر عنصر</h2> <a id=''></a>"
   ]
  },
  {
   "cell_type": "markdown",
   "id": "4952ae03-40c2-4fbe-814f-7dc90c43e4bf",
   "metadata": {},
   "source": [
    "<div style=\"direction:rtl; font-size: 17px; font-family: 'XB Zar'; line-height: 200%\">با کمک ویژگی \n",
    "    size\n",
    "    می‌توانید تعداد کلی عناصر آرایه و با ویژگی \n",
    "    itemsize\n",
    "    تعداد بایت‌های مورد نیاز برای ذخیره کردن هر عضو را مشاهده کنید:\n",
    "</div>"
   ]
  },
  {
   "cell_type": "code",
   "execution_count": null,
   "id": "236add0b-ca20-4f04-b22a-5a2e9d94e65c",
   "metadata": {},
   "outputs": [],
   "source": [
    "integers.size"
   ]
  },
  {
   "cell_type": "code",
   "execution_count": null,
   "id": "aa51be60-5b49-41f9-b921-a55f0ce46bf1",
   "metadata": {},
   "outputs": [],
   "source": [
    "integers.itemsize"
   ]
  },
  {
   "cell_type": "code",
   "execution_count": null,
   "id": "f2973761-8707-4560-a644-7f99616dd7c1",
   "metadata": {},
   "outputs": [],
   "source": [
    "floats.size"
   ]
  },
  {
   "cell_type": "code",
   "execution_count": null,
   "id": "bf8283c2-10af-4dc4-ab50-e2ca3f3107dc",
   "metadata": {},
   "outputs": [],
   "source": [
    "floats.itemsize"
   ]
  },
  {
   "cell_type": "markdown",
   "id": "b38f8978-3fe3-462d-8014-071787a40426",
   "metadata": {},
   "source": [
    "<div style=\"direction:rtl; font-size: 17px; font-family: 'XB Zar'; line-height: 200%\">توجه داشته باشید که ویژگی \n",
    "    size\n",
    "    آرایه \n",
    "    integers\n",
    "    حاصل ضرب مولفه‌های تاپل \n",
    "    shape\n",
    "    است، در این آرایه ۲ سطر ۳ ستونی داریم که حاصل ضرب آن‌ها معادل ۶ عضو آرایه می‌باشد. مقدار \n",
    "    itemsize\n",
    "    برای هر عضو ۸ بایت است، زیرا عددهای صحیح از نوع \n",
    "    int64\n",
    "    و اعداد اعشاری از نوع \n",
    "    float64\n",
    "    هستند و هر کدام ۸ بایت فضا اشغال می‌کنند.\n",
    "</div>"
   ]
  },
  {
   "cell_type": "markdown",
   "id": "b16cc0cb-23da-461d-b650-cfaac0147c30",
   "metadata": {},
   "source": [
    "<h2 style=\"direction:rtl;font-size: px;font-family: 'XB Zar';color:#0288d1;\">پیمایش عناصر یک آرایه چند بعدی</h2> <a id=''></a>"
   ]
  },
  {
   "cell_type": "markdown",
   "id": "cb7d880b-4bc3-4191-af27-6ccfc73f2dc6",
   "metadata": {},
   "source": [
    "<div style=\"direction:rtl; font-size: 17px; font-family: 'XB Zar'; line-height: 200%\">به طور کلی آرایه‌ها را با استفاده از تکنیک‌های \n",
    "    مختصر\n",
    "    برنامه نویسی به سبک تابعی، دست‌کاری می‌کنید. با این حال از آن‌جایی که آرایه‌ها داده‌هایی از نوع \n",
    "    iterable\n",
    "    هستند، در صورت تمایل می‌توانید از حلقه‌های تکرار خارجی استفاده کنید: \n",
    "</div>"
   ]
  },
  {
   "cell_type": "code",
   "execution_count": null,
   "id": "116fc0c5-11a4-4b6d-9d77-7f9409898588",
   "metadata": {},
   "outputs": [],
   "source": [
    "for row in integers:\n",
    "    for column in row:\n",
    "        print(column, end='  ')\n",
    "    print() "
   ]
  },
  {
   "cell_type": "markdown",
   "id": "f4f2fa40-2f05-4a1b-b3f4-941ec54714fb",
   "metadata": {},
   "source": [
    "<div style=\"direction:rtl; font-size: 17px; font-family: 'XB Zar'; line-height: 200%\">با استفاده از ویژگی \n",
    "    flat\n",
    "    می‌توانید یک آرایه چند بعدی را همانند آرایه یک بعدی پیمایش کنید:\n",
    "</div>"
   ]
  },
  {
   "cell_type": "code",
   "execution_count": null,
   "id": "7ff30f76-501f-4b42-b625-225695fe9133",
   "metadata": {},
   "outputs": [],
   "source": [
    "for i in integers.flat:\n",
    "    print(i, end='  ')"
   ]
  },
  {
   "cell_type": "markdown",
   "id": "b2e1269b-6706-4772-9d8e-b61109780df4",
   "metadata": {},
   "source": [
    "<h1 style=\"direction:rtl;font-size: 35px;font-family: 'XB Zar';color:#8e24aa;\">7.4 <span style=\"color:#F50057;\">ایجاد آرایه با مقادیر خاص</span></h1> <a id='5'></a>"
   ]
  },
  {
   "cell_type": "markdown",
   "id": "bc545a9d-f201-4970-8373-88cf9086d2b8",
   "metadata": {},
   "source": [
    "<div style=\"direction:rtl; font-size: 17px; font-family: 'XB Zar'; line-height: 200%\">در \n",
    "    NumPy\n",
    "    توابع \n",
    "    zeros, ones و full\n",
    "    به ترتیب برای ایجاد آرایه‌هایی با مقادیر صفر، یک و یا یک مقدار مشخص تعبیه شده است. به طور پیش‌فرض، توابع \n",
    "    zeros\n",
    "    و \n",
    "    ones\n",
    "    یک آرایه حاوی مقادیر اعشاری \n",
    "    float64\n",
    "    ایجاد می‌کنند. به زودی نحوه تغییر نوع داده‌ها را نشان خواهیم داد. اولین آرگومان برای این تابع، باید یک عدد صحیح یا یک تاپل حاوی اعداد صحیح باشد تا ابعاد مورد نظر را مشخص کند. هر تابع به ازای هر عدد صحیح، یک آرایه یک بعدی با تعداد اعضای تعیین شده برمی‌گرداند:\n",
    "</div>"
   ]
  },
  {
   "cell_type": "code",
   "execution_count": null,
   "id": "6d9a2536-a239-4a60-a4b5-623475b96419",
   "metadata": {},
   "outputs": [],
   "source": [
    "import numpy as np"
   ]
  },
  {
   "cell_type": "code",
   "execution_count": null,
   "id": "e2444c70-2b74-45c5-afd1-a122846f6387",
   "metadata": {},
   "outputs": [],
   "source": [
    "np.zeros(5)"
   ]
  },
  {
   "cell_type": "markdown",
   "id": "03f6edb6-5106-4cf6-9af3-0586abaecea7",
   "metadata": {},
   "source": [
    "<div style=\"direction:rtl; font-size: 17px; font-family: 'XB Zar'; line-height: 200%\">این توابع برای یک تاپل از اعداد صحیح، یک آرایه چند بعدی با ابعاد مشخص برمی‌گردانند. با کمک آرگومان کلیدی \n",
    "    dtype\n",
    "    در توابع \n",
    "    zeros\n",
    "    و \n",
    "    ones\n",
    "    می‌توانید نوع عنصر آرایه را مشخص کنید:\n",
    "</div>"
   ]
  },
  {
   "cell_type": "code",
   "execution_count": null,
   "id": "34262544-7266-4f77-bfac-201515e41dff",
   "metadata": {},
   "outputs": [],
   "source": [
    "np.ones((2, 4), dtype=int)"
   ]
  },
  {
   "cell_type": "markdown",
   "id": "c1257501-95c3-4870-bbd6-2897301d15b7",
   "metadata": {},
   "source": [
    "<div style=\"direction:rtl; font-size: 17px; font-family: 'XB Zar'; line-height: 200%\">آرایه‌ای که به تابع \n",
    "    full\n",
    "    برگردانده می‌شود دارای اعضایی با مقدار آرگومان دوم و نوع این آرگومان است:\n",
    "</div>"
   ]
  },
  {
   "cell_type": "code",
   "execution_count": null,
   "id": "caf9de31-6952-4a99-8f0c-82f766467c9c",
   "metadata": {},
   "outputs": [],
   "source": [
    "np.full((3, 5), 13)"
   ]
  },
  {
   "cell_type": "markdown",
   "id": "f11da939-fd2d-495b-a123-a86567763bfa",
   "metadata": {},
   "source": [
    "<h1 style=\"direction:rtl;font-size: 35px;font-family: 'XB Zar';color:#8e24aa;\">7.5 <span style=\"color:#F50057;\">ایجاد آرایه با استفاده از \n",
    "    محدوده‌ها\n",
    "</span></h1> <a id='6'></a>"
   ]
  },
  {
   "cell_type": "markdown",
   "id": "c9c5171b-f80a-4092-9c97-10ba2e366b05",
   "metadata": {},
   "source": [
    "<div style=\"direction:rtl; font-size: 17px; font-family: 'XB Zar'; line-height: 200%\">در \n",
    "    NumPy\n",
    "    توابع بهینه‌شده‌ای برای ایجاد آرایه‌ها با استفاده از محدوده‌ها وجود دارد. عمدتا روی محدوده‌های اعداد صحیح و اعشاری یکنواخت با فاصله‌های برابر تمرکز می‌کنیم، اما \n",
    "    NumPy\n",
    "    از محدوده‌های غیرخطی نیز پشتیبانی می‌کند:\n",
    "    <br>\n",
    "    <a href=\"https://docs.scipy.org/doc/numpy/reference/routines.array-creation.html\">https://docs.scipy.org/doc/numpy/reference/routines.array-creation.html\r",
    "</a>\n",
    "</div>"
   ]
  },
  {
   "cell_type": "markdown",
   "id": "66133361-8be5-4272-a686-e9884f83e8cf",
   "metadata": {},
   "source": [
    "<h2 style=\"direction:rtl;font-size: px;font-family: 'XB Zar';color:#0288d1;\">ایجاد محدوده‌ای از اعداد صحیح با \n",
    "    arange\n",
    "</h2> <a id=''></a>"
   ]
  },
  {
   "cell_type": "markdown",
   "id": "a2be36c6-2ccf-43d0-88a4-71d77e192490",
   "metadata": {},
   "source": [
    "<div style=\"direction:rtl; font-size: 17px; font-family: 'XB Zar'; line-height: 200%\">در این قسمت همانند تابع داخلی \n",
    "    range\n",
    "    از تابع \n",
    "    arange\n",
    "    در \n",
    "    NumPy\n",
    "    برای ایجاد محدوده‌ای از اعداد صحیح استفاده می‌کنیم. \n",
    "    arange\n",
    "    در هر حالت، ابتدا تعداد عناصر \n",
    "    array\n",
    "    حاصل شده را تعیین می‌کند، سپس حافظه را تخصیص می‌دهد و در نهایت محدوده مشخص شده از مقادیر را در \n",
    "    array\n",
    "    ذخیره می‌کند:\n",
    "</div>"
   ]
  },
  {
   "cell_type": "code",
   "execution_count": null,
   "id": "64989f89-03d0-4ea7-89e5-ebf8908ff3b0",
   "metadata": {},
   "outputs": [],
   "source": [
    "import numpy as np"
   ]
  },
  {
   "cell_type": "code",
   "execution_count": null,
   "id": "c98d54d7-e590-40b5-99f7-8e79a800f097",
   "metadata": {},
   "outputs": [],
   "source": [
    "np.arange(5)"
   ]
  },
  {
   "cell_type": "code",
   "execution_count": null,
   "id": "2a24fd52-40bd-4823-97c0-1f9213125b17",
   "metadata": {},
   "outputs": [],
   "source": [
    "np.arange(5, 10)"
   ]
  },
  {
   "cell_type": "code",
   "execution_count": null,
   "id": "e268b813-3984-40f9-9cce-43b4fe29b2e3",
   "metadata": {},
   "outputs": [],
   "source": [
    "np.arange(10, 1, -2)"
   ]
  },
  {
   "cell_type": "markdown",
   "id": "0b827075-a71a-4ac5-80e1-4a69ba3fd60a",
   "metadata": {},
   "source": [
    "<div style=\"direction:rtl; font-size: 17px; font-family: 'XB Zar'; line-height: 200%\">اگرچه می‌توانید آرایه‌ها را با ارسال محدوده‌ها به عنوان آرگومان ایجاد کنید، اما همیشه از \n",
    "    arange\n",
    "    استفاده کنید زیرا برای آرایه‌ها بهینه سازی شده است. به زودی نشان خواهیم داد که چگونه زمان اجرای عملیات مختلف را تعیین کنیم تا بتوانید کارایی آن‌ها را مقایسه کنید.\n",
    "</div>"
   ]
  },
  {
   "cell_type": "markdown",
   "id": "98e6854e-5cbe-49af-8f3a-86fddeea7e13",
   "metadata": {},
   "source": [
    "<h2 style=\"direction:rtl;font-size: px;font-family: 'XB Zar';color:#0288d1;\">ایجاد محدوده‌ای از اعداد اعشاری با \n",
    "    linspace\n",
    "</h2> <a id=''></a>"
   ]
  },
  {
   "cell_type": "markdown",
   "id": "340f73fe-5c84-4362-9dde-bbf6964a1bc1",
   "metadata": {},
   "source": [
    "<div style=\"direction:rtl; font-size: 17px; font-family: 'XB Zar'; line-height: 200%\">با استفاده از تابع\n",
    "    linspace\n",
    "    در \n",
    "    NumPy\n",
    "    می‌توانید محدوده‌هایی از اعداد اعشاری و با فاصله‌های مساوی تولید کنید. دو آرگومان اول تابع، مقادیر شروع و پایان محدوده را مشخص می‌کنید و مقدار پایان در آرایه قرار می‌گیرد. آرگومان کلیدی و اختیاری \n",
    "    num\n",
    "    تعداد اعداد با فواصل مساوی را مشخص می‌کند و مقدار پیش‌فرض این آرگومان ۵۰ است:\n",
    "</div>"
   ]
  },
  {
   "cell_type": "code",
   "execution_count": null,
   "id": "ba84cba2-10c0-4822-b28d-9c04499d3cc9",
   "metadata": {},
   "outputs": [],
   "source": [
    "np.linspace(0.0, 1.0, num=5)"
   ]
  },
  {
   "cell_type": "markdown",
   "id": "781b31e0-9b77-4cae-ac78-37a083a3a3e6",
   "metadata": {},
   "source": [
    "<h2 style=\"direction:rtl;font-size: px;font-family: 'XB Zar';color:#0288d1;\">تغییر شکل آرایه\n",
    "</h2> <a id=''></a>"
   ]
  },
  {
   "cell_type": "markdown",
   "id": "1707e6b9-478c-4d53-8d6d-034f0fe88cb3",
   "metadata": {},
   "source": [
    "<div style=\"direction:rtl; font-size: 17px; font-family: 'XB Zar'; line-height: 200%\">با کمک محدوده‌ای از عناصر می‌توانید یک آرایه ایجاد کنید و سپس با استفاده از متد \n",
    "    reshape\n",
    "    آرایه یک بعدی را به آرایه چند بعدی تبدیل کنید. در قسمت یک آرایه ایجاد می‌کنیم که مقادیر آن از ۱ تا ۲۰ باشد و سپس آن را به آرایه‌ای با ۴ سطر و ۵ ستون تبدیل می‌کنیم:\n",
    "</div>"
   ]
  },
  {
   "cell_type": "code",
   "execution_count": null,
   "id": "a652b6ac-9803-4319-9082-c57d63226f68",
   "metadata": {},
   "outputs": [],
   "source": [
    "np.arange(1, 21).reshape(4, 5)"
   ]
  },
  {
   "cell_type": "markdown",
   "id": "dbb65105-18ce-4e9c-9c30-3135524b5516",
   "metadata": {},
   "source": [
    "<div style=\"direction:rtl; font-size: 17px; font-family: 'XB Zar'; line-height: 200%\">به فراخوانی زنجیره‌ای متدها در اسنیپت قبلی توجه کنید. ابتدا \n",
    "     arange\n",
    "    آرایه‌ای با مقادیر ۱ تا ۲۰ تولید می‌کند. سپس روی آن آرایه، متد \n",
    "    reshape\n",
    "    را فراخوانی می‌کنیم تا آرایه ۴ در ۵ نمایش داده شده را به دست آوریم. می‌توانید هر آرایه‌ای را تغییر شکل دهید، به شرطی که تعداد اعضای آرایه به همان اندازه آرایه اصلی باشد. به همین دلیل می‌توان یک آرایه یک بعدی ۶ عضوی را به یک آرایه ۳ در ۲ و یا ۲ در ۳ تبدیل کرد و برعکس؛ اما تلاش برای تغییر شکل آرایه ۱۵ عضوی به آرایه ۴ در ۴ (۱۶ عضوی) باعث ایجاد خطای \n",
    "    ValueError\n",
    "    می‌شود.\n",
    "</div>"
   ]
  },
  {
   "cell_type": "markdown",
   "id": "863a570b-197b-4c29-bf3f-6388da264241",
   "metadata": {},
   "source": [
    "<h2 style=\"direction:rtl;font-size: px;font-family: 'XB Zar';color:#0288d1;\">نمایش آرایه‌های بزرگ\n",
    "</h2> <a id=''></a>"
   ]
  },
  {
   "cell_type": "markdown",
   "id": "9c39acd7-cb5f-4b8a-9863-0be0d982ad4c",
   "metadata": {},
   "source": [
    "<div style=\"direction:rtl; font-size: 17px; font-family: 'XB Zar'; line-height: 200%\">هنگام نمایش یک آرایه در صورت وجود ۱۰۰۰ داده و بیشتر \n",
    "    NumPy\n",
    "    ردیف‌های میانی، ستون‌ها یا هر دو را در خروجی حذف می‌کند. اسنیپت‌های زیر ۱۰۰۰۰۰ عدد تولید می‌کنند. حالت اول هر چهار ردیف را نشان می‌دهد اما فقط سه ستون اول و آخر از ۲۵۰۰۰ ستون را نشان می‌دهد. علامت گذاری ... نشان دهنده داده‌های حذف شده در خروجی است. در حالت دوم سه ردیف اول و آخر از ۱۰۰ ردیف و سه ستون اول و آخر را از ۱۰۰۰ ستون نشان می‌دهد:\n",
    "</div>"
   ]
  },
  {
   "cell_type": "code",
   "execution_count": null,
   "id": "fe832a9a-b6b3-40e8-a42e-c3d98eb0f240",
   "metadata": {},
   "outputs": [],
   "source": [
    "np.arange(1, 100001).reshape(4, 25000)"
   ]
  },
  {
   "cell_type": "code",
   "execution_count": null,
   "id": "75e00ef7-651c-49d3-a3fd-ccbacfdd9801",
   "metadata": {},
   "outputs": [],
   "source": [
    "np.arange(1, 100001).reshape(100, 1000)"
   ]
  },
  {
   "cell_type": "markdown",
   "id": "96b1ec29-4a5f-4297-8a87-97ff1cc3f07c",
   "metadata": {},
   "source": [
    "<h1 style=\"direction:rtl;font-size: 35px;font-family: 'XB Zar';color:#8e24aa;\">7.6 <span style=\"color:#F50057;\">کارایی لیست در مقایسه با آرایه: مقدمه‌ای بر timeit%\n",
    "</span></h1> <a id='7'></a>"
   ]
  },
  {
   "cell_type": "markdown",
   "id": "82ec41ec-9ae2-4fb6-b541-72a9bfa4b1e0",
   "metadata": {},
   "source": [
    "<div style=\"direction:rtl; font-size: 17px; font-family: 'XB Zar'; line-height: 200%\">بیشتر عملیات آرایه به طور قابل توجهی سریع‌تر از همان عملیات در لیست اجرا می‌شوند. برای نشان دادن این مطلب، از دستور \n",
    "    timeit%\n",
    "    در \n",
    "    IPython\n",
    "    استفاده می‌کنیم تا میانگین مدت زمان انجام عملیات را اندازه‌گیری کنیم. توجه داشته باشید ممکن است زمان نمایش داده شده در سیستم شما با آنچه در اینجا نشان می‌دهیم متفاوت باشد.\n",
    "</div>"
   ]
  },
  {
   "cell_type": "markdown",
   "id": "e4dddd00-6ef9-4dac-8527-cdb9cbbb5852",
   "metadata": {},
   "source": [
    "<h2 style=\"direction:rtl;font-size: px;font-family: 'XB Zar';color:#0288d1;\">اندازه‌گیری مدت زمان ایجاد لیستی که حاوی نتایج ۶،۰۰۰،۰۰۰ بار پرتاب یک تاس می‌باشد</h2> <a id=''></a>"
   ]
  },
  {
   "cell_type": "markdown",
   "id": "d06481a8-879d-4687-8828-a083d4858751",
   "metadata": {},
   "source": [
    "<div style=\"direction:rtl; font-size: 17px; font-family: 'XB Zar'; line-height: 200%\">تا اینجای کار پرتاب یک تاس شش وجهی را به تعداد ۶،۰۰۰،۰۰۰ پرتاب نشان داده‌ایم. در این قسمت، با استفاده از تابع \n",
    "    randrange\n",
    "    در \n",
    "    random\n",
    "    با روش \n",
    "    list comprehension\n",
    "    لیستی حاوی نتایج پرتاب تاس به تعداد ۶،۰۰۰،۰۰۰ پرتاب ایجاد کرده و زمان مورد نیاز آن را با دستور \n",
    "    timeit%\n",
    "    اندازه می‌گیریم. توجه داشته باشید در اسنیپت [۲] از کاراکتر ادامه (\\) برای تقسیم دستور به دو خط استفاده کرده‌ایم:\n",
    "</div>"
   ]
  },
  {
   "cell_type": "code",
   "execution_count": null,
   "id": "f5b77d4d-34ae-40b9-b6fd-e029d3824cfc",
   "metadata": {},
   "outputs": [],
   "source": [
    "import random"
   ]
  },
  {
   "cell_type": "code",
   "execution_count": null,
   "id": "0f38e3f0-b6f3-4b14-871b-3e3588bcd1a4",
   "metadata": {},
   "outputs": [],
   "source": [
    "%timeit rolls_list = \\\n",
    "   [random.randrange(1, 7) for i in range(0, 6_000_000)]"
   ]
  },
  {
   "cell_type": "markdown",
   "id": "ae9bb6be-a405-4cc4-b32e-206bdf013f70",
   "metadata": {},
   "source": [
    "<div style=\"direction:rtl; font-size: 17px; font-family: 'XB Zar'; line-height: 200%\">به طور پیش‌فرض دستور \n",
    "    timeit%\n",
    "    یک دستور در یک حلقه اجرا کرده و این حلقه را ۷ بار تکرار می‌کند. اگر تعداد حلقه‌ها را مشخص نکنید \n",
    "    timeit%\n",
    "    مقدار مناسبی انتخاب می‌کند. در آزمایش ما، عملیاتی که به طور متوسط بیش از ۵۰۰ میلی‌ثانیه طول کشید فقط ‌۱ بار تکرار شدند و عملیاتی که کمتر از ۵۰۰ میلی‌ثانیه طول کشیدند ۱۰ بار یا بیشتر تکرار شدند.\n",
    "</div>"
   ]
  },
  {
   "cell_type": "markdown",
   "id": "44c31f06-a739-46be-872b-f13f4d45b871",
   "metadata": {},
   "source": [
    "<div style=\"direction:rtl; font-size: 17px; font-family: 'XB Zar'; line-height: 200%\">پس از اجرای دستور \n",
    "    timeit%\n",
    "    میانگین زمان اجرای دستور و همچنین انحراف معیار تمام اجراها را نشان می‌دهد. \n",
    "    timeit%\n",
    "    نشان می‌دهد به طور متوسط ایجاد لیست ۶.۲۹ ثانیه با انحراف استاندارد ۱۱۹ میلی‌ثانیه زمان می‌برد. در کل، حدود ۴۴ ثانیه طول می‌کشد تا اسنیپت قبلی به تعداد ۷ بار اجرا شود.\n",
    "</div>"
   ]
  },
  {
   "cell_type": "markdown",
   "id": "58474fed-1080-4287-8b90-7a9b3cda5706",
   "metadata": {},
   "source": [
    "<h2 style=\"direction:rtl;font-size: px;font-family: 'XB Zar';color:#0288d1;\">اندازه‌گیری مدت زمان ایجاد آرایه‌ای که حاوی نتایج ۶،۰۰۰،۰۰۰ بار پرتاب یک تاس می‌باشد</h2> <a id=''></a>"
   ]
  },
  {
   "cell_type": "markdown",
   "id": "efee0e19-64cf-4829-b3aa-3147eb690462",
   "metadata": {},
   "source": [
    "<div style=\"direction:rtl; font-size: 17px; font-family: 'XB Zar'; line-height: 200%\">در این قسمت با تابع \n",
    "    randint\n",
    "    از \n",
    "    numpy.random\n",
    "    آرایه‌ای حاوی نتایج پرتاب تاس به تعداد ۶،۰۰۰،۰۰۰ پرتاب ایجاد می‌کنیم:\n",
    "</div>"
   ]
  },
  {
   "cell_type": "code",
   "execution_count": null,
   "id": "9837e330-3579-4be0-907a-c59b0ddd5532",
   "metadata": {},
   "outputs": [],
   "source": [
    "import numpy as np"
   ]
  },
  {
   "cell_type": "code",
   "execution_count": null,
   "id": "0356537a-ae2c-410e-8297-f56a1e162aae",
   "metadata": {},
   "outputs": [],
   "source": [
    "%timeit rolls_array = np.random.randint(1, 7, 6_000_000)"
   ]
  },
  {
   "cell_type": "markdown",
   "id": "62f7c750-182d-42d8-bbcd-d10c1cd508ec",
   "metadata": {},
   "source": [
    "<div style=\"direction:rtl; font-size: 17px; font-family: 'XB Zar'; line-height: 200%\">به طور متوسط \n",
    "    timeit%\n",
    "    نشان می‌دهد که ایجاد آرایه فقط ۷۲.۴ میلی‌ثانیه با انحراف استاندارد ۶۳۵ میکروثانیه زمان می‌برد. در کل، اجرای اسنیپت قبلی در کامپیوتر ما تقریبا کمتر از نیم ثانیه زمان برد و این مقدار تقریبا یک‌صدم زمان اجرای اسنیپت [۲] است. سرعت اجرای این عملیات با آرایه دو برابر سریع‌تر است!\n",
    "</div>"
   ]
  },
  {
   "cell_type": "markdown",
   "id": "d085c2d1-6689-4b9f-8e94-90e5ec117936",
   "metadata": {},
   "source": [
    "<h2 style=\"direction:rtl;font-size: px;font-family: 'XB Zar';color:#0288d1;\">پرتاب تاس به تعداد ۶۰،۰۰۰،۰۰۰ و ۶۰۰،۰۰۰،۰۰۰ بار</h2> <a id=''></a>"
   ]
  },
  {
   "cell_type": "markdown",
   "id": "39caf346-d40e-4950-aee8-a0207a9c26e6",
   "metadata": {},
   "source": [
    "<div style=\"direction:rtl; font-size: 17px; font-family: 'XB Zar'; line-height: 200%\">در این قسمت آرایه‌ای ایجاد می‌کنیم که حاوی نتایج پرتاب تاس به تعداد ۶۰،۰۰۰،۰۰۰ پرتاب باشد:\n",
    "</div>"
   ]
  },
  {
   "cell_type": "code",
   "execution_count": null,
   "id": "aa12588e-1c28-4b6c-b8c8-eb8b59a057bc",
   "metadata": {},
   "outputs": [],
   "source": [
    "%timeit rolls_array = np.random.randint(1, 7, 60_000_000)"
   ]
  },
  {
   "cell_type": "markdown",
   "id": "ef1924e5-1900-4c46-b0f9-68273b0e80df",
   "metadata": {},
   "source": [
    "<div style=\"direction:rtl; font-size: 17px; font-family: 'XB Zar'; line-height: 200%\">به طور متوسط تنها ۸۷۳ میلی‌ثانیه طول کشید تا آرایه ایجاد شود. در انتها تاس را ۶۰۰،۰۰۰،۰۰۰ بار پرتاب می‌کنیم:\n",
    "</div>"
   ]
  },
  {
   "cell_type": "code",
   "execution_count": null,
   "id": "4526c638-e2dc-47a8-92f8-00d565ccfcd8",
   "metadata": {},
   "outputs": [],
   "source": [
    "%timeit rolls_array = np.random.randint(1, 7, 600_000_000)"
   ]
  },
  {
   "cell_type": "markdown",
   "id": "15db08fb-687e-4393-809e-66e365b369c4",
   "metadata": {},
   "source": [
    "<div style=\"direction:rtl; font-size: 17px; font-family: 'XB Zar'; line-height: 200%\">در حدود ۱۰ ثانیه طول کشید تا ۶۰۰،۰۰۰،۰۰۰ عضو با \n",
    "    NumPy\n",
    "    ایجاد شود، در حالی که ایجاد ۶،۰۰۰،۰۰۰ عضو با روش \n",
    "    list comprehension\n",
    "    حدود ۶ ثانیه زمان برد.\n",
    "</div>"
   ]
  },
  {
   "cell_type": "markdown",
   "id": "9f274e8f-9543-468b-897c-db34ff08e092",
   "metadata": {},
   "source": [
    "<div style=\"direction:rtl; font-size: 17px; font-family: 'XB Zar'; line-height: 200%\">براساس این مطالعات زمان سنجی، به روشنی می‌توانید ببینید که چرا آرایه‌ها برای عملیات محاسباتی سنگین نسبت به لیست‌ها گزینه بهتری محسوب می‌شوند. در مطالعات موردی علم داده وارد دنیای کلان داده و هوش مصنوعی خواهیم شد و می‌بینیم که چقدر کارایی محاسباتی اهمیت دارد. خواهیم دید که چگونه سخت‌افزار، نرم‌افزار، ارتباطات و الگوریتم‌های هوشمندانه با هم ترکیب می‌شوند تا با چالش‌های رایج برنامه‌های امروز روبرو شوند.\n",
    "</div>"
   ]
  },
  {
   "cell_type": "markdown",
   "id": "fb2b0cc6-80ab-4efe-b2bd-de1f057d3cd4",
   "metadata": {},
   "source": [
    "<h2 style=\"direction:rtl;font-size: px;font-family: 'XB Zar';color:#0288d1;\">تنظیم کردن تکرارهای دستور \n",
    "    timeit%\n",
    "</h2> <a id=''></a>"
   ]
  },
  {
   "cell_type": "markdown",
   "id": "a4d842a9-e465-4757-ae95-e171b11fa618",
   "metadata": {},
   "source": [
    "<div style=\"direction:rtl; font-size: 17px; font-family: 'XB Zar'; line-height: 200%\">تعداد تکرارها در هر حلقه \n",
    "    timeit%\n",
    "    و تعداد حلقه‌ها با گزینه‌های \n",
    "    n-\n",
    "    و \n",
    "    r-\n",
    "    قابل تنظیم هستند. اسنیپت زیر حلقه را ۲ بار اجرا کرده و دستورات اسنیپت [۴] را به ازای هر تکرار حلقه ۳ بار اجرا می‌کند. برای بسیاری از خوانندگان استفاده از تنظیمات پیش‌فرض \n",
    "    timeit%\n",
    "    کافی است:\n",
    "</div>"
   ]
  },
  {
   "cell_type": "code",
   "execution_count": null,
   "id": "40bda3f3-fc3f-445c-be0a-1ccff3e5e760",
   "metadata": {},
   "outputs": [],
   "source": [
    "%timeit -n3 -r2 rolls_array = np.random.randint(1, 7, 6_000_000)"
   ]
  },
  {
   "cell_type": "markdown",
   "id": "00db5ce5-9518-402d-ae37-a7464f4a5ebe",
   "metadata": {},
   "source": [
    "<h2 style=\"direction:rtl;font-size: px;font-family: 'XB Zar';color:#0288d1;\">سایر \n",
    "    magic\n",
    "    ها در \n",
    "    IPython\n",
    "</h2> <a id=''></a>"
   ]
  },
  {
   "cell_type": "markdown",
   "id": "ce23e412-c451-46f0-8072-8c4f0c86f6bb",
   "metadata": {},
   "source": [
    "<div style=\"direction:rtl; font-size: 17px; font-family: 'XB Zar'; line-height: 200%\">در \n",
    "    IPython\n",
    "    ده‌ها \n",
    "    magic\n",
    "    برای کارهای مختلف وجود دارد. برای مشاهده کامل لیست، به مستندات \n",
    "    magic\n",
    "    در \n",
    "    IPython\n",
    "    مراجعه کنید. در این قسمت چند مورد مفید ارائه شده است:\n",
    "    <br>\n",
    "    <a href=\"http://ipython.readthedocs.io/en/stable/interactive/magics.html\">http://ipython.readthedocs.io/en/stable/interactive/magics.html</a>\n",
    "</div>"
   ]
  },
  {
   "cell_type": "markdown",
   "id": "1e826849-000b-4c1d-b241-eeda113f7c51",
   "metadata": {},
   "source": [
    "<div style=\"direction:rtl; font-size: 17px; font-family: 'XB Zar'; line-height: 200%\">\n",
    "    <span style=\"color:#8e24aa;\">• </span><b>load%</b>\n",
    "    برای خواندن کد از یک فایل محلی یا \n",
    "    URL\n",
    "    و انتقال آن به \n",
    "    IPython<br>\n",
    "    <span style=\"color:#8e24aa;\">• </span><b>save%</b>\n",
    "    برای ذخیره کردن اسنیپت‌ها در فایل<br>\n",
    "    <span style=\"color:#8e24aa;\">• </span><b>run%</b>\n",
    "    برای اجرای یک فایل با پسوند \n",
    "    py.\n",
    "    از محیط \n",
    "    IPython<br>\n",
    "    <span style=\"color:#8e24aa;\">• </span><b>precision%</b>\n",
    "    برای تغییر دقت اعداد اعشاری برای خروجی‌های \n",
    "    IPython<br>\n",
    "    <span style=\"color:#8e24aa;\">• </span><b>cd%</b>\n",
    "    برای تغییر مسیر دایرکتوری‌ها بدون نیاز به خروج از محیط \n",
    "    IPython<br>\n",
    "    <span style=\"color:#8e24aa;\">• </span><b>edit%</b>\n",
    "    برای راه‌اندازی یک ویرایشگر خارجی. اگر بخواهید اسنیپت‌های پیچیده‌تری را ویرایش کنید، مفید است.<br>\n",
    "    <span style=\"color:#8e24aa;\">• </span><b>history%</b>\n",
    "    برای مشاهده لیستی از تمام اسنیپت‌ها و دستوراتی که در جلسه \n",
    "    IPython\n",
    "    فعلی اجرا کرده‌اید.<br>\n",
    "\n",
    "</div>"
   ]
  },
  {
   "cell_type": "markdown",
   "id": "3afcc5bb-33d3-426d-a6bf-c0db450b007d",
   "metadata": {},
   "source": [
    "<h1 style=\"direction:rtl;font-size: 35px;font-family: 'XB Zar';color:#8e24aa;\">7.7 <span style=\"color:#F50057;\">عملگرهای آرایه\n",
    "</span></h1> <a id='8'></a>"
   ]
  },
  {
   "cell_type": "markdown",
   "id": "135025db-d4a4-46b0-bbf1-e597bb8d31d2",
   "metadata": {},
   "source": [
    "<div style=\"direction:rtl; font-size: 17px; font-family: 'XB Zar'; line-height: 200%\">\n",
    "    NumPy\n",
    "    عملگرهای زیادی را ارائه می‌دهد که شما را قادر می‌سازد عبارات ساده‌ای بنویسید که عملیات را روی کل آرایه‌ها انجام دهد. در اینجا ما حساب بین آرایه‌ها و مقادیرعددی و بین آرایه‌های هم شکل را نشان می‌دهیم.\n",
    "</div>"
   ]
  },
  {
   "cell_type": "markdown",
   "id": "5fd30f6e-f9c9-45ca-8c7a-bc4222b6fd8f",
   "metadata": {},
   "source": [
    "<h2 style=\"direction:rtl;font-size: px;font-family: 'XB Zar';color:#0288d1;\">\n",
    "    عملیات حسابی بین آرایه‌ها و مقادیرعددی\n",
    "</h2> <a id=''></a>"
   ]
  },
  {
   "cell_type": "markdown",
   "id": "2da02043-01e0-4d46-9ca2-b1adb54c9dc7",
   "metadata": {},
   "source": [
    "<div style=\"direction:rtl; font-size: 17px; font-family: 'XB Zar'; line-height: 200%\">در ابتدا با استفاده از عملگرهای ریاضی و انتساب عملیات درایه‌ای را با آرایه‌ها و مقادیر عددی انجام می‌دهیم. عملیات درایه‌ای عملگر مورد نظر را روی هر عضو آرایه اعمال می‌کند، بنابراین اسنیپت [۴] هر عضو را در ۲ ضرب کرده و اسنیپت [۵] هر عضو را به توان ۳ می‌رساند. هر یک از این دو عملگر، آرایه جدیدی را برمی‌گردانند که حاوی نتیجه است:\n",
    "</div>"
   ]
  },
  {
   "cell_type": "code",
   "execution_count": null,
   "id": "c4166e25-a0bf-4f71-9c84-bfd4d8d5f422",
   "metadata": {},
   "outputs": [],
   "source": [
    "import numpy as np"
   ]
  },
  {
   "cell_type": "code",
   "execution_count": null,
   "id": "4b51a59a-87a7-45a2-bc99-ea3700639ec4",
   "metadata": {},
   "outputs": [],
   "source": [
    "numbers = np.arange(1, 6)"
   ]
  },
  {
   "cell_type": "code",
   "execution_count": null,
   "id": "e4489b34-3fdd-4e99-ae49-eb0e8483375e",
   "metadata": {},
   "outputs": [],
   "source": [
    "numbers"
   ]
  },
  {
   "cell_type": "code",
   "execution_count": null,
   "id": "2a237fdf-63c8-43a8-a544-58bdeafe61c0",
   "metadata": {},
   "outputs": [],
   "source": [
    "numbers * 2"
   ]
  },
  {
   "cell_type": "code",
   "execution_count": null,
   "id": "d340f63a-c0a6-444d-8f7b-c26ab22c9701",
   "metadata": {},
   "outputs": [],
   "source": [
    "numbers ** 3"
   ]
  },
  {
   "cell_type": "code",
   "execution_count": null,
   "id": "4c1af069-fc87-46dc-aeff-93716879299e",
   "metadata": {},
   "outputs": [],
   "source": [
    "numbers  # numbers is unchanged by the arithmetic operators"
   ]
  },
  {
   "cell_type": "markdown",
   "id": "16ddfee0-adda-4289-b1dd-9e7d32928f49",
   "metadata": {},
   "source": [
    "<div style=\"direction:rtl; font-size: 17px; font-family: 'XB Zar'; line-height: 200%\">اسنیپت [۶] نشان می‌دهد که عملگرهای حسابی \n",
    "     numbers\n",
    "    را تغییر نداده‌اند. عملگرهای + و * خاصیت جابجایی دارند و به همین دلیل، اسنیپت [۴] را می‌توان به صورت \n",
    "    $ 2 * numbers$ \n",
    "    نوشته شود. عملگرهای که همراه با دستور انتساب هستند می‌توانند عملوند سمت چپ خود را تغییر دهند:\n",
    "</div>"
   ]
  },
  {
   "cell_type": "code",
   "execution_count": null,
   "id": "ea230aba-63a5-43ef-b54d-bf78b93e9351",
   "metadata": {},
   "outputs": [],
   "source": [
    "numbers += 10"
   ]
  },
  {
   "cell_type": "code",
   "execution_count": null,
   "id": "c6bbfc6b-8124-4ce7-a6ba-5207cd3c463d",
   "metadata": {},
   "outputs": [],
   "source": [
    "numbers"
   ]
  },
  {
   "cell_type": "markdown",
   "id": "7852c4c5-5577-4fa0-aa8c-1b31c4200fc9",
   "metadata": {},
   "source": [
    "<h2 style=\"direction:rtl;font-size: px;font-family: 'XB Zar';color:#0288d1;\">Broadcasting\n",
    "</h2> <a id=''></a>"
   ]
  },
  {
   "cell_type": "markdown",
   "id": "bd83c66b-6669-42ec-b017-2796f3cbd6cd",
   "metadata": {},
   "source": [
    "<div style=\"direction:rtl; font-size: 17px; font-family: 'XB Zar'; line-height: 200%\">به طور معمول، عملگرهای حسابی به دو آرایه هم اندازه و هم شکل به عنوان عملوند نیاز دارند. وقتی عملوند یک مقدار منفرد باشد، اسکالر نامیده می‌شود. در این حالت \n",
    "    NumPy\n",
    "    محاسبات درایه‌ای انجام می‌دهد به طوری که انگار اسکالر آرایه‌ای هم اندازه و هم شکل عملوند دیگر است ولی تمامی عناصر آن مقدار اسکالر را دارند. یه این قابلیت \n",
    "    broadcasting\n",
    "    می‌گویند. تمامی اسنیپت‌های [۴]، [۵] و [۷] از این قابلیت استفاده می‌کنند. به عنوان مثال، اسنیپت [۴] معادل دستور زیر است:\n",
    "</div>"
   ]
  },
  {
   "cell_type": "markdown",
   "id": "a335aefc-86f3-4c75-92a9-d4e4509142a6",
   "metadata": {},
   "source": [
    "```Python\n",
    "numbers * [2, 2, 2, 2, 2]\n",
    "```"
   ]
  },
  {
   "cell_type": "markdown",
   "id": "8921fdc1-6623-4114-9642-7f1c7a92d98b",
   "metadata": {},
   "source": [
    "<div style=\"direction:rtl; font-size: 17px; font-family: 'XB Zar'; line-height: 200%\">علاوه بر این می‌توان \n",
    "    broadcasting\n",
    "    را بین آرایه‌هایی با اندازه و شکل‌های مختلف اعمال کرد. این کار برخی از دست‌کاری‌های مختصر و قدرتمند را امکان‌پذیر می‌کند. در ادامه همین فصل، هنگام معرفی \n",
    "    universal function\n",
    "    در \n",
    "    NumPy\n",
    "    نمونه‌های بیشتری در مورد \n",
    "    broadcasting\n",
    "    ارائه می‌دهیم.\n",
    "</div>"
   ]
  },
  {
   "cell_type": "markdown",
   "id": "dd0b59b1-47af-4fe1-81d6-c0b4d3837a1a",
   "metadata": {},
   "source": [
    "<h2 style=\"direction:rtl;font-size: px;font-family: 'XB Zar';color:#0288d1;\">عملگرهای ریاضی میان آرایه‌ها\n",
    "</h2> <a id=''></a>"
   ]
  },
  {
   "cell_type": "markdown",
   "id": "722e57ba-3e20-41c1-98c6-866f75f0a89f",
   "metadata": {},
   "source": [
    "<div style=\"direction:rtl; font-size: 17px; font-family: 'XB Zar'; line-height: 200%\">شما می‌توانید عملیات محاسباتی و عملیات محاسباتی همراه با انتساب را بین آرایه‌های یک شکل انجام دهید. در این قسمت، آرایه یک بعدی \n",
    "    numbers\n",
    "    را در آرایه \n",
    "    numbers2\n",
    "    ضرب می‌کنیم (که در زیر ایجاد شده است). این دو آرایه یک بعدی، ۵ عضو دارند:\n",
    "</div>"
   ]
  },
  {
   "cell_type": "code",
   "execution_count": null,
   "id": "5d1807f2-0524-4bef-bcb4-cc0f9e738aa1",
   "metadata": {},
   "outputs": [],
   "source": [
    "numbers2 = np.linspace(1.1, 5.5, 5)"
   ]
  },
  {
   "cell_type": "code",
   "execution_count": null,
   "id": "d161300d-31a3-499c-8d1d-ff6733bd9832",
   "metadata": {},
   "outputs": [],
   "source": [
    "numbers2"
   ]
  },
  {
   "cell_type": "code",
   "execution_count": null,
   "id": "eb3dbf76-7f02-4bf6-8082-b68b64978a8b",
   "metadata": {},
   "outputs": [],
   "source": [
    "numbers * numbers2"
   ]
  },
  {
   "cell_type": "markdown",
   "id": "1006afcc-0a91-4f12-9f86-b3e607358d40",
   "metadata": {},
   "source": [
    "<div style=\"direction:rtl; font-size: 17px; font-family: 'XB Zar'; line-height: 200%\">نتیجه یک آرایه جدید است که با ضرب آرایه‌ها به صورت درایه‌ای در هر عملوند تشکیل می‌شود - \n",
    "   $ 11 * 1.1, 12 * 2.2, 13 * 3.3 $\n",
    "    و غیره. عملیات ریاضی بین آرایه‌های حاوی اعداد صحیح و اعداد اعشاری منجر به آرایه‌ای از اعداد اعشاری می‌شود.\n",
    "</div>"
   ]
  },
  {
   "cell_type": "markdown",
   "id": "35ebe37e-a7a1-446c-b153-3d412d9fb3d9",
   "metadata": {},
   "source": [
    "<h2 style=\"direction:rtl;font-size: px;font-family: 'XB Zar';color:#0288d1;\">مقایسه آرایه‌ها\n",
    "</h2> <a id=''></a>"
   ]
  },
  {
   "cell_type": "markdown",
   "id": "40af1a07-8c14-48e7-82ea-9a0750b7ad9a",
   "metadata": {},
   "source": [
    "<div style=\"direction:rtl; font-size: 17px; font-family: 'XB Zar'; line-height: 200%\">می‌توانید آرایه‌ها را با مقادیر منفرد و سایر آرایه‌ها مقایسه کنید. مقایسه‌ها به صورت درایه‌ای انجام می‌شود. چنین مقایسه‌هایی، آرایه‌هایی از مقادیر بولین تولید می‌کنند که مقدار \n",
    "    True\n",
    "    یا \n",
    "    False\n",
    "    هر عضو، نتیجه مقایسه را نشان می‌دهد:\n",
    "</div>"
   ]
  },
  {
   "cell_type": "code",
   "execution_count": null,
   "id": "7187f367-9d73-4dd2-a061-be88a0e47e2d",
   "metadata": {},
   "outputs": [],
   "source": [
    "numbers"
   ]
  },
  {
   "cell_type": "code",
   "execution_count": null,
   "id": "c22133c9-18b6-43fc-89bf-a5f850040f63",
   "metadata": {},
   "outputs": [],
   "source": [
    "numbers >= 13"
   ]
  },
  {
   "cell_type": "code",
   "execution_count": null,
   "id": "300dcfd0-a83f-4e7d-b0d6-08bf26ea08c8",
   "metadata": {},
   "outputs": [],
   "source": [
    "numbers2"
   ]
  },
  {
   "cell_type": "code",
   "execution_count": null,
   "id": "048f1ba8-509e-47d4-93d3-4826d399193f",
   "metadata": {},
   "outputs": [],
   "source": [
    "numbers2 < numbers"
   ]
  },
  {
   "cell_type": "code",
   "execution_count": null,
   "id": "2247e64b-4d53-4a6c-b764-6b9bb4b98ee7",
   "metadata": {},
   "outputs": [],
   "source": [
    "numbers == numbers2"
   ]
  },
  {
   "cell_type": "code",
   "execution_count": null,
   "id": "286e2dd3-daf3-497b-9401-c8709b09a988",
   "metadata": {},
   "outputs": [],
   "source": [
    "numbers == numbers"
   ]
  },
  {
   "cell_type": "markdown",
   "id": "64e895e4-9279-488c-a30f-ba9580c12887",
   "metadata": {},
   "source": [
    "<div style=\"direction:rtl; font-size: 17px; font-family: 'XB Zar'; line-height: 200%\">اسنیپت [۱۳] با روش \n",
    "    broadcasting\n",
    "    مشخص می‌کند که آیا هر عضو \n",
    "    numbers\n",
    "    بزرگ‌تر یا برابر ۱۳ است یا خیر. اسنیپت‌های باقی‌مانده، اعضای مربوط به هر عملوند آرایه را مقایسه می‌کنند.\n",
    "</div>"
   ]
  },
  {
   "cell_type": "markdown",
   "id": "c07c410c-4e43-46f6-b541-2e73938020b0",
   "metadata": {},
   "source": [
    "<h1 style=\"direction:rtl;font-size: 35px;font-family: 'XB Zar';color:#8e24aa;\">7.8 <span style=\"color:#F50057;\">متدهای محاسباتی \n",
    "    NumPy\n",
    "</span></h1> <a id='9'></a>"
   ]
  },
  {
   "attachments": {},
   "cell_type": "markdown",
   "id": "e97c2f9d-2388-4078-8fe8-2f80a90a653d",
   "metadata": {
    "editable": true,
    "slideshow": {
     "slide_type": ""
    },
    "tags": []
   },
   "source": [
    "<div style=\"direction:rtl; font-size: 17px; font-family: 'XB Zar'; line-height: 200%\">یک آرایه متدهای مختلفی دارد که با استفاده از محتویات خود محاسباتی را انجام می‌دهد. به طور پیش‌فرض، این متدها شکل آرایه را نادیده می‌گیرند و از تمام اعضا در محاسبات استفاده می‌کنند. به عنوان مثال، برای محاسبه میانگین یک آرایه، مجموع عناصر آن را بدون توجه به شکل آن جمع کرده وسپس حاصل جمع را بر تعداد کل عناصر تقسیم می‌کند. این محاسبات را می‌توانید برای هر بعد هم انجام دهید. به عنوان مثال، در یک آرایه دو بعدی، می‌توانید میانگین هر سطر و میانگین هر ستون را محاسبه کنید.\n",
    "</div>"
   ]
  },
  {
   "cell_type": "markdown",
   "id": "1a346cb4-274d-4cbd-9041-eb59cfc5dff9",
   "metadata": {},
   "source": [
    "<div style=\"direction:rtl; font-size: 17px; font-family: 'XB Zar'; line-height: 200%\">به آرایه زیر که نمرات چهار دانش‌آموز را در سه امتحان نشان می‌دهد، توجه کنید:\n",
    "</div>"
   ]
  },
  {
   "cell_type": "code",
   "execution_count": null,
   "id": "4cc88eb9-a2a4-4745-9bf0-15b42b471a5e",
   "metadata": {},
   "outputs": [],
   "source": [
    "import numpy as np"
   ]
  },
  {
   "cell_type": "code",
   "execution_count": null,
   "id": "cbd4d67b-f31f-4be8-a840-8c26fe58feff",
   "metadata": {},
   "outputs": [],
   "source": [
    "grades = np.array([[87, 96, 70], [100, 87, 90],\n",
    "                   [94, 77, 90], [100, 81, 82]])"
   ]
  },
  {
   "cell_type": "code",
   "execution_count": null,
   "id": "1613a1a9-1ba1-4fd4-b924-4bf7871a7062",
   "metadata": {},
   "outputs": [],
   "source": [
    "grades"
   ]
  },
  {
   "cell_type": "markdown",
   "id": "807281f4-ccc8-4aa6-853d-92c2f55d63a2",
   "metadata": {},
   "source": [
    "<div style=\"direction:rtl; font-size: 17px; font-family: 'XB Zar'; line-height: 200%\">می‌توانید از متدها برای محاسبه \n",
    "    sum, min, max, mean, \n",
    "    std (standard deviation) \n",
    "    و \n",
    "    var \n",
    "(variance)\n",
    "    استفاده کنید - هر یک از این متدها معرف برنامه نویسی به سبک تابعی و کاهشی هستند:\n",
    "</div>"
   ]
  },
  {
   "cell_type": "code",
   "execution_count": null,
   "id": "9d4bc9c5-1340-41bf-b8ca-f2356092a541",
   "metadata": {},
   "outputs": [],
   "source": [
    "grades.sum()"
   ]
  },
  {
   "cell_type": "code",
   "execution_count": null,
   "id": "d65226df-7fdb-4bb9-9be8-eb86c7155f6f",
   "metadata": {},
   "outputs": [],
   "source": [
    "grades.min()"
   ]
  },
  {
   "cell_type": "code",
   "execution_count": null,
   "id": "38261cb9-216c-4782-9290-4a978b36ab88",
   "metadata": {},
   "outputs": [],
   "source": [
    "grades.max()"
   ]
  },
  {
   "cell_type": "code",
   "execution_count": null,
   "id": "f052eb06-0983-4016-a905-67718de24d05",
   "metadata": {},
   "outputs": [],
   "source": [
    "grades.mean()"
   ]
  },
  {
   "cell_type": "code",
   "execution_count": null,
   "id": "e6249541-4cf6-4653-8286-1f2682c544ec",
   "metadata": {},
   "outputs": [],
   "source": [
    "grades.std()"
   ]
  },
  {
   "cell_type": "code",
   "execution_count": null,
   "id": "59888f70-7ab7-4bad-85b0-2d1088103ecb",
   "metadata": {},
   "outputs": [],
   "source": [
    "grades.var()"
   ]
  },
  {
   "cell_type": "markdown",
   "id": "9ec7fe38-ca6c-42ed-b690-d54bc9727cc2",
   "metadata": {},
   "source": [
    "<h2 style=\"direction:rtl;font-size: px;font-family: 'XB Zar';color:#0288d1;\">محاسبات برحسب سطر یا ستون</h2> <a id=''></a>"
   ]
  },
  {
   "cell_type": "markdown",
   "id": "85d19ddb-6d4b-4b82-9771-daba742ae4b4",
   "metadata": {},
   "source": [
    "<div style=\"direction:rtl; font-size: 17px; font-family: 'XB Zar'; line-height: 200%\">بسیاری از متدهای محاسباتی را می‌توان بر روی ابعاد آرایه ویژه‌ای که به عنوان \n",
    "    axes\n",
    "    (محور) آرایه شناخته می‌شود، انجام داد. این متدها آرگومان کلیدی \n",
    "    axis\n",
    "    را دریافت می‌کنند و این آرگومان مشخص می‌کند از کدام بعد در محاسبه استفاده شود و یک روش سریع برای انجام محاسبات بر اساس سطر یا ستون در یک آرایه دوبعدی محسوب می‌شود. فرض کنید بخواهید میانگین نمره هر امتحان که با ستون‌های \n",
    "    grades\n",
    "    نشان داده می‌شوند را محاسبه کنید. دستور \n",
    "    axis=0\n",
    "    محاسبات را بر روی تمام مقادیر سطر در هر ستون انجام می‌دهد:\n",
    "</div>"
   ]
  },
  {
   "cell_type": "code",
   "execution_count": null,
   "id": "812c1cd2-c205-4e4e-a60e-c482081668b4",
   "metadata": {},
   "outputs": [],
   "source": [
    "grades.mean(axis=0)"
   ]
  },
  {
   "cell_type": "markdown",
   "id": "20ed3814-d73b-498f-9a3e-c90ff178a708",
   "metadata": {},
   "source": [
    "<div style=\"direction:rtl; font-size: 17px; font-family: 'XB Zar'; line-height: 200%\">بنابراین ۹۵.۲۵ بالا میانگین نمرات ستون اول، ۸۵.۲۵ میانگین نمرات ستون دوم و ۸۳ میانگین نمره ستون سوم می‌باشد. مجددا یادآوری می‌کنیم که \n",
    "    NumPy\n",
    "    صفرهای سمت راست نقطه اعشار ۸۳ را نشان نمی‌دهد. همچنین توجه داشته باشید که تمام مقادیر عناصر را در عرض فیلد برابر نشان می‌دهد و به همین دلیل بعد از ۸۳ دو فضای خالی قرار می‌گیرد. به طور مشابه، دستور \n",
    "    axis=1\n",
    "    محاسبه را برای تمام مقادیر ستون در هر ردیف جداگانه انجام می‌دهد. برای محاسبه میانگین نمره هر دانش‌آموز برای همه امتحانات، از کد زیر استفاده می‌کنیم:\n",
    "</div>"
   ]
  },
  {
   "cell_type": "code",
   "execution_count": null,
   "id": "b977735e-1990-4a0c-8475-b41ec7c662bf",
   "metadata": {},
   "outputs": [],
   "source": [
    "grades.mean(axis=1)"
   ]
  },
  {
   "cell_type": "markdown",
   "id": "964a7fd5-2c03-43f5-bd11-c2fce4e4faaf",
   "metadata": {},
   "source": [
    "<div style=\"direction:rtl; font-size: 17px; font-family: 'XB Zar'; line-height: 200%\">کد بالا برای هر ردیف یک میانگین و در کل چهار میانگین تولید می‌کند؛ بنابراین ۸۴.۳۳۳۳۳۳۳۳ میانگین نمرات سطر ۰ و سایر میانگین‌ها مربوط به ردیف‌های باقی‌مانده می‌باشد.\n",
    "</div>"
   ]
  },
  {
   "cell_type": "markdown",
   "id": "86ba7611-3cb5-40ba-863c-2f68bdf05b1a",
   "metadata": {},
   "source": [
    "<div style=\"direction:rtl; font-size: 17px; font-family: 'XB Zar'; line-height: 200%\">آرایه‌های\n",
    "    NumPy\n",
    "    متدهای محاسبه بسیار زیادی دارد. برای مشاهده لیست کامل به آدرس زیر مراجعه کنید:\n",
    "    <br>\n",
    "    <a href=\"https://docs.scipy.org/doc/numpy/reference/arrays.ndarray.html\">\n",
    "https://docs.scipy.org/doc/numpy/reference/arrays.ndarray.html</a>\n",
    "</div>"
   ]
  },
  {
   "cell_type": "markdown",
   "id": "aa90a8b6-dc1b-415c-b042-a7cb58a54c3f",
   "metadata": {},
   "source": [
    "<h1 style=\"direction:rtl;font-size: 35px;font-family: 'XB Zar';color:#8e24aa;\">7.9 <span style=\"color:#F50057;\">توابع Universal\n",
    "</span></h1> <a id='10'></a>"
   ]
  },
  {
   "cell_type": "markdown",
   "id": "31f96af7-fd7a-4509-9e68-9d807b75ae49",
   "metadata": {},
   "source": [
    "<div style=\"direction:rtl; font-size: 17px; font-family: 'XB Zar'; line-height: 200%\">در \n",
    "    NumPy\n",
    "    ده‌ها تابع \n",
    "    universal\n",
    "    و مستقل برای انجام محاسبات مختلف درایه‌ای وجود دارد. هر یک از این توابع با استفاده از یک یا دو آرگومان آرایه یا مشابه آرایه (مانند لیست) وظیفه خود را انجام می‌دهند. برخی از این توابع هنگام استفاده از عملگرهایی مانند + و * در آرایه‌ها فراخوانی می‌شوند. هر یک از این توابع آرایه جدیدی را به عنوان نتیجه برمی‌گردانند. در کد زیر یک آرایه ایجاد می‌کنیم و سپس با کمک تابع \n",
    "    sqrt\n",
    "    (که یک تابع \n",
    "    universal\n",
    "    است) جذر هر عضو آرایه را محاسبه می‌کنیم:\n",
    "</div>"
   ]
  },
  {
   "cell_type": "code",
   "execution_count": null,
   "id": "9cd7fb4f-3d64-49bc-8466-c69f9f4b36fa",
   "metadata": {},
   "outputs": [],
   "source": [
    "import numpy as np"
   ]
  },
  {
   "cell_type": "code",
   "execution_count": null,
   "id": "1ab4269c-afdf-4ac7-9291-557a0b4641d2",
   "metadata": {},
   "outputs": [],
   "source": [
    "numbers = np.array([1, 4, 9, 16, 25, 36])"
   ]
  },
  {
   "cell_type": "code",
   "execution_count": null,
   "id": "27bb1734-6e23-4ab1-89c6-2c3f375e3d7a",
   "metadata": {},
   "outputs": [],
   "source": [
    "np.sqrt(numbers)"
   ]
  },
  {
   "cell_type": "markdown",
   "id": "2d81e5fc-0b7d-4342-8186-30d94bbd1507",
   "metadata": {},
   "source": [
    "<div style=\"direction:rtl; font-size: 17px; font-family: 'XB Zar'; line-height: 200%\">کد زیر با استفاده از تابع \n",
    "    add\n",
    "    (که یک تابع \n",
    "    universal\n",
    "    است) دو آرایه هم‌شکل را جمع می‌کند:\n",
    "</div>"
   ]
  },
  {
   "cell_type": "code",
   "execution_count": null,
   "id": "885dfd6e-ecb7-4b87-87ea-599ef6db8302",
   "metadata": {},
   "outputs": [],
   "source": [
    "numbers2 = np.arange(1, 7) * 10"
   ]
  },
  {
   "cell_type": "code",
   "execution_count": null,
   "id": "c5f6fa53-6223-4dc8-81c9-7c8c848c73c6",
   "metadata": {},
   "outputs": [],
   "source": [
    "numbers2"
   ]
  },
  {
   "cell_type": "code",
   "execution_count": null,
   "id": "bd15d924-73f0-480a-b485-6c65c03387c4",
   "metadata": {},
   "outputs": [],
   "source": [
    "np.add(numbers, numbers2)"
   ]
  },
  {
   "cell_type": "markdown",
   "id": "2677133c-c430-4ce8-8531-1fe244b6306b",
   "metadata": {},
   "source": [
    "<div style=\"direction:rtl; font-size: 17px; font-family: 'XB Zar'; line-height: 200%\">دستور \n",
    "    np.add(numbers, numbers2)\n",
    "    در کد بالا معادل دستور زیر است:\n",
    "</div>"
   ]
  },
  {
   "cell_type": "markdown",
   "id": "79a64fa4-849a-484d-a51b-6952163d4a42",
   "metadata": {},
   "source": [
    "```Python\n",
    "numbers + numbers2\n",
    "```"
   ]
  },
  {
   "cell_type": "markdown",
   "id": "0d127bbc-1a6c-4c0e-8a6b-a742a139e42f",
   "metadata": {},
   "source": [
    "<h2 style=\"direction:rtl;font-size: px;font-family: 'XB Zar';color:#0288d1;\">Broadcasting\n",
    "    با توابع \n",
    "    Universal\n",
    "</h2> <a id=''></a>"
   ]
  },
  {
   "cell_type": "markdown",
   "id": "1f70aea3-1b8f-4c13-bf39-e2317bff2484",
   "metadata": {},
   "source": [
    "<div style=\"direction:rtl; font-size: 17px; font-family: 'XB Zar'; line-height: 200%\">در این قسمت با استفاده از تابع \n",
    "    multiply\n",
    "    که یک تابع \n",
    "    universal\n",
    "    است هر عضو \n",
    "    numbers2\n",
    "    را در اسکالر ۵ ضرب می‌کنیم:\n",
    "</div>"
   ]
  },
  {
   "cell_type": "code",
   "execution_count": null,
   "id": "293e4640-d21e-43a7-945f-38de86c1701f",
   "metadata": {},
   "outputs": [],
   "source": [
    "np.multiply(numbers2, 5)"
   ]
  },
  {
   "cell_type": "markdown",
   "id": "f79dd1e6-85d3-495b-96f1-5b4d7021ed7d",
   "metadata": {},
   "source": [
    "<div style=\"direction:rtl; font-size: 17px; font-family: 'XB Zar'; line-height: 200%\">دستور \n",
    "    np.multiply(numbers2, 5)\n",
    "    معادل کد زیر است:\n",
    "</div>"
   ]
  },
  {
   "cell_type": "markdown",
   "id": "48d16b2e-6ae8-41b5-bf1a-c1f9a82c4ad1",
   "metadata": {},
   "source": [
    "```Python\n",
    "numbers2 * 5\n",
    "```"
   ]
  },
  {
   "cell_type": "markdown",
   "id": "1ef3cbbb-7f99-48a1-a412-4838708a38dd",
   "metadata": {},
   "source": [
    "<div style=\"direction:rtl; font-size: 17px; font-family: 'XB Zar'; line-height: 200%\">در این قسمت \n",
    "    numbers2\n",
    "    را به یک آرایه ۲ در ۳ تغییر شکل می‌دهیم و سپس مقادیر آن را با یک آرایه یک بعدی ۳ عضوی ضرب می‌کنیم:\n",
    "</div>"
   ]
  },
  {
   "cell_type": "code",
   "execution_count": null,
   "id": "fb5ba59e-cc46-46d4-9ade-4dfebca67359",
   "metadata": {},
   "outputs": [],
   "source": [
    "numbers3 = numbers2.reshape(2, 3)"
   ]
  },
  {
   "cell_type": "code",
   "execution_count": null,
   "id": "554260b8-9955-4d33-97a1-a3e9876d56e6",
   "metadata": {},
   "outputs": [],
   "source": [
    "numbers3"
   ]
  },
  {
   "cell_type": "code",
   "execution_count": null,
   "id": "795dd9f7-37fb-4454-b089-70ceeb44d565",
   "metadata": {},
   "outputs": [],
   "source": [
    "numbers4 = np.array([2, 4, 6])"
   ]
  },
  {
   "cell_type": "code",
   "execution_count": null,
   "id": "703bdc3f-e75e-47b2-9e19-b668feea0183",
   "metadata": {},
   "outputs": [],
   "source": [
    "np.multiply(numbers3, numbers4)"
   ]
  },
  {
   "cell_type": "markdown",
   "id": "27b32600-bcab-46a9-a937-175def172ece",
   "metadata": {},
   "source": [
    "<div style=\"direction:rtl; font-size: 17px; font-family: 'XB Zar'; line-height: 200%\">این عمل ضرب به این دلیل انجام می‌گیرد که \n",
    "    numbers4\n",
    "    دارای طولی برابر با هر ردیف از \n",
    "    numbers3\n",
    "    می‌باشد و \n",
    "    NumPy\n",
    "    هنگام ضرب فرض می‌کند \n",
    "    numbers4\n",
    "    آرایه زیر است:\n",
    "</div>"
   ]
  },
  {
   "cell_type": "markdown",
   "id": "4717c26e-7b99-4b8d-b7b5-1dab7c1249b5",
   "metadata": {},
   "source": [
    "```Python\n",
    "array([[2, 4, 6],\r",
    "       [2, 4, 6]])\n",
    "```"
   ]
  },
  {
   "cell_type": "markdown",
   "id": "fbf96045-25e8-4459-ad01-e6c030d6e149",
   "metadata": {},
   "source": [
    "<div style=\"direction:rtl; font-size: 17px; font-family: 'XB Zar'; line-height: 200%\">اگر یک تابع \n",
    "    universal\n",
    "    دو آرایه با اشکال مختلف دریافت کند که از \n",
    "    broadcasting\n",
    "    پشتیبانی نکنند، یک خطای \n",
    "    ValueError\n",
    "    روی می‌دهد. برای مشاهده قوانین \n",
    "    broadcasting\n",
    "    به آدرس زیر مراجعه کنید:\n",
    "    <br>\n",
    "    <a href=\"https://docs.scipy.org/doc/numpy/user/basics.broadcasting.html\">\n",
    "https://docs.scipy.org/doc/numpy/user/basics.broadcasting.html</a>\n",
    "</div>"
   ]
  },
  {
   "cell_type": "markdown",
   "id": "11163086-3964-412c-9f59-2d2bc536c0ee",
   "metadata": {},
   "source": [
    "<h2 style=\"direction:rtl;font-size: px;font-family: 'XB Zar';color:#0288d1;\">سایر توابع \n",
    "    Universal\n",
    "</h2> <a id=''></a>"
   ]
  },
  {
   "cell_type": "markdown",
   "id": "bc0997cd-c0bb-403d-b5eb-86627d8f4462",
   "metadata": {},
   "source": [
    "<div style=\"direction:rtl; font-size: 17px; font-family: 'XB Zar'; line-height: 200%\">مستندات\n",
    "    NumPy\n",
    "    توابع \n",
    "    universal\n",
    "    را به ۵ دسته ریاضی، مثلثاتی، عملیات بیتی، مقایسه‌ای و اعداد اعشاری تقسیم می‌کند. در جدول زیر برخی از توابع از هر گروه لیست شده است. برای مشاهده لیست کامل توابع \n",
    "    universal\n",
    "    ، توضیحات مربوطه و اطلاعات بیشتر در این مورد به آدرس زیر مراجعه کنید:\n",
    "    <br>\n",
    "    <a href=\"https://docs.scipy.org/doc/numpy/reference/ufuncs.html\">\n",
    "https://docs.scipy.org/doc/numpy/reference/ufuncs.html</a>\n",
    "</div>"
   ]
  },
  {
   "attachments": {
    "285b69f9-5590-4f5f-8b26-b4ce73127b94.png": {
     "image/png": "[encoded data removed]"
    }
   },
   "cell_type": "markdown",
   "id": "bb1f6d6c-2ac3-41b2-a444-7edf749efe42",
   "metadata": {},
   "source": [
    "![Screenshot (72).png](attachment:285b69f9-5590-4f5f-8b26-b4ce73127b94.png)"
   ]
  },
  {
   "cell_type": "markdown",
   "id": "d898bf42-8d79-4b64-b087-a93dec812e29",
   "metadata": {},
   "source": [
    "<h1 style=\"direction:rtl;font-size: 35px;font-family: 'XB Zar';color:#8e24aa;\">7.10 <span style=\"color:#F50057;\">اندیس و Slice\n",
    "</span></h1> <a id='11'></a>"
   ]
  },
  {
   "cell_type": "markdown",
   "id": "0f7b9204-e040-49e6-a4ce-55371201d108",
   "metadata": {},
   "source": [
    "<div style=\"direction:rtl; font-size: 17px; font-family: 'XB Zar'; line-height: 200%\">آرایه‌های یک بعدی را می‌توان با استفاده از تکنیک‌هایی که در فصل دنباله‌ها: لیست‌ها و تاپل‌ها نشان دادیم، برش داد و اندیس گذاری کرد. در این قسمت روی ویژگی‌های خاص اندیس گذاری و برش آرایه تمرکز می‌کنیم.\n",
    "</div>"
   ]
  },
  {
   "cell_type": "markdown",
   "id": "01457401-7200-437e-bed3-b01e64bcc6b9",
   "metadata": {},
   "source": [
    "<h2 style=\"direction:rtl;font-size: px;font-family: 'XB Zar';color:#0288d1;\">اندیس گذاری آرایه‌های دو بعدی\n",
    "</h2> <a id=''></a>"
   ]
  },
  {
   "cell_type": "markdown",
   "id": "1580f8e1-eda0-47e8-86ac-96690bb2e2b8",
   "metadata": {},
   "source": [
    "<div style=\"direction:rtl; font-size: 17px; font-family: 'XB Zar'; line-height: 200%\">برای انتخاب یک عنصر در یک آرایه دو بعدی، اندیس‌های سطر و ستون عنصر مربوطه را میان دو براکت قرار دهید:\n",
    "</div>"
   ]
  },
  {
   "cell_type": "code",
   "execution_count": null,
   "id": "679c4822-aa14-4015-8954-4bd7fc04bb80",
   "metadata": {},
   "outputs": [],
   "source": [
    "import numpy as np"
   ]
  },
  {
   "cell_type": "code",
   "execution_count": null,
   "id": "b57d22f2-b57b-459c-9489-341019d0ca33",
   "metadata": {},
   "outputs": [],
   "source": [
    "grades = np.array([[87, 96, 70], [100, 87, 90],\n",
    "                   [94, 77, 90], [100, 81, 82]])"
   ]
  },
  {
   "cell_type": "code",
   "execution_count": null,
   "id": "beaacb11-4822-4a5e-bbf8-5daa6d8047b3",
   "metadata": {},
   "outputs": [],
   "source": [
    "grades"
   ]
  },
  {
   "cell_type": "code",
   "execution_count": null,
   "id": "bc95bc39-739e-4628-a9fa-fc93d54a90e4",
   "metadata": {},
   "outputs": [],
   "source": [
    "grades[0, 1]  # row 0, column 1"
   ]
  },
  {
   "cell_type": "markdown",
   "id": "8a292632-5b6b-43a6-b6d5-a0a922798170",
   "metadata": {},
   "source": [
    "<h2 style=\"direction:rtl;font-size: px;font-family: 'XB Zar';color:#0288d1;\">انتخاب زیرمجموعه‌ای از سطرهای یک آرایه دو بعدی\n",
    "</h2> <a id=''></a>"
   ]
  },
  {
   "cell_type": "markdown",
   "id": "36256729-5503-4bde-9919-588a7dca0e5a",
   "metadata": {},
   "source": [
    "<div style=\"direction:rtl; font-size: 17px; font-family: 'XB Zar'; line-height: 200%\">برای انتخاب یک سطر واحد، فقط یک اندیس را میان یک جفت براکت مشخص کنید:\n",
    "</div>"
   ]
  },
  {
   "cell_type": "code",
   "execution_count": null,
   "id": "17cc2cac-8154-4636-8b0a-9c628d9f9a93",
   "metadata": {},
   "outputs": [],
   "source": [
    "grades[1]"
   ]
  },
  {
   "cell_type": "markdown",
   "id": "4fc56248-76d1-475d-9b80-855308d95e64",
   "metadata": {},
   "source": [
    "<div style=\"direction:rtl; font-size: 17px; font-family: 'XB Zar'; line-height: 200%\">برای انتخاب چند سطر متوالی، از نماد و دستور برش استفاده کنید:\n",
    "</div>"
   ]
  },
  {
   "cell_type": "code",
   "execution_count": null,
   "id": "f8dae1bc-7b40-45b4-ad52-63fd5a163e3b",
   "metadata": {},
   "outputs": [],
   "source": [
    "grades[0:2]"
   ]
  },
  {
   "cell_type": "markdown",
   "id": "8ec8932f-5955-478c-97a7-449e4cd1d823",
   "metadata": {},
   "source": [
    "<div style=\"direction:rtl; font-size: 17px; font-family: 'XB Zar'; line-height: 200%\">برای انتخاب چند سطر غیرمتوالی، از لیستی که حاوی اندیس‌های سطرهای مورد نظر است، استفاده کنید:\n",
    "</div>"
   ]
  },
  {
   "cell_type": "code",
   "execution_count": null,
   "id": "d429e071-04ba-4eb4-8672-6ab64845b51d",
   "metadata": {},
   "outputs": [],
   "source": [
    "grades[[1, 3]]"
   ]
  },
  {
   "cell_type": "markdown",
   "id": "995d49cb-56fd-4f0d-9347-83950342ad4b",
   "metadata": {},
   "source": [
    "<h2 style=\"direction:rtl;font-size: px;font-family: 'XB Zar';color:#0288d1;\">انتخاب زیرمجموعه‌ای از ستون‌های یک آرایه دو بعدی\n",
    "</h2> <a id=''></a>"
   ]
  },
  {
   "cell_type": "markdown",
   "id": "9c08458a-9c3e-43f5-a5f0-2f1d3f7d37c3",
   "metadata": {},
   "source": [
    "<div style=\"direction:rtl; font-size: 17px; font-family: 'XB Zar'; line-height: 200%\">با مشخص کردن سطرها و ستون‌ها در یک تاپل می‌توانید زیرمجموعه‌ای از ستون‌های یک آرایه را انتخاب کنید. هر تاپل می‌تواند یک اندیس خاص، یک برش یا یک لیست باشد. کد زیر تمامی اعضای ستون اول را انتخاب می‌کند:\n",
    "</div>"
   ]
  },
  {
   "cell_type": "code",
   "execution_count": null,
   "id": "9e5bc56b-44d3-4647-9ee0-487c7859355d",
   "metadata": {},
   "outputs": [],
   "source": [
    "grades[:, 0]"
   ]
  },
  {
   "cell_type": "markdown",
   "id": "bd85c2cb-c381-4069-8e39-cadc0e97a8c7",
   "metadata": {},
   "source": [
    "<div style=\"direction:rtl; font-size: 17px; font-family: 'XB Zar'; line-height: 200%\">صفر بعد از کاما نشان می‌دهد که تنها ستون ۰ را انتخاب کرده‌ایم. کاراکتر : قبل از کاما نشان می‌دهد کدام سطرها در داخل ستون مورد نظر انتخاب شوند. در این حالت، این گزینه یاد شده یک برش از همه سطرها است. اندیس قبل از کاراکتر : می‌تواند یک عدد معرف شماره سطر خاص باشد، می‌تواند یک برش به صورت یک زیرمجموعه از سطرها باشد و یا فهرستی از اندیس‌های سطر انتخابی باشد. این مطلب در اسنیپت‌های [۵] - [۷] نشان داده شده است. با استفاده از یک برش می‌توانید ستون‌های متوالی را انتخاب کنید:\n",
    "</div>"
   ]
  },
  {
   "cell_type": "code",
   "execution_count": null,
   "id": "460dec0e-7755-4c40-b6b8-dc0abc024899",
   "metadata": {},
   "outputs": [],
   "source": [
    "grades[:, 1:3]"
   ]
  },
  {
   "cell_type": "markdown",
   "id": "e05212f0-85ef-4b05-92a1-3807d328dcf0",
   "metadata": {},
   "source": [
    "<div style=\"direction:rtl; font-size: 17px; font-family: 'XB Zar'; line-height: 200%\">با استفاده از لیستی از اندیس‌های ستون، ستون‌های موردنظرتان را انتخاب کنید:\n",
    "</div>"
   ]
  },
  {
   "cell_type": "code",
   "execution_count": null,
   "id": "f1812293-7ca6-4575-8e04-a0cdc497a613",
   "metadata": {},
   "outputs": [],
   "source": [
    "grades[:, [0, 2]]"
   ]
  },
  {
   "cell_type": "markdown",
   "id": "f6bace73-f6c2-435b-861f-1a04bfc19eb1",
   "metadata": {},
   "source": [
    "<h1 style=\"direction:rtl;font-size: 35px;font-family: 'XB Zar';color:#8e24aa;\">7.11 <span style=\"color:#F50057;\">Views: کپی‌های سطحی\n",
    "</span></h1> <a id='12'></a>"
   ]
  },
  {
   "cell_type": "markdown",
   "id": "1e0abab8-e604-404b-bbae-169524a7bb21",
   "metadata": {},
   "source": [
    "<div style=\"direction:rtl; font-size: 17px; font-family: 'XB Zar'; line-height: 200%\">در فصل قبل، اشیاء \n",
    "    view\n",
    "    معرفی شدند. \n",
    "    view\n",
    "    اشیائی هستند که به جای داشتن نسخه‌ای از خود داده‌ها، این داده‌ها را در اشیاء دیگر مشاهده می‌کنند. \n",
    "    view\n",
    "    ها کپی‌های کم‌عمق محسوب می‌شوند. متدهای مختلف آرایه  و عملیات برش، یک \n",
    "    view\n",
    "    از داده‌های آرایه ایجاد می‌کنند. متد \n",
    "    view\n",
    "    در آرایه یک شیء آرایه جدید را همراه با یک \n",
    "    view\n",
    "    از داده‌های اصلی برمی‌گرداند. در ابتدا یک آرایه و یک \n",
    "    view\n",
    "    از آن ایجاد می‌کنیم:\n",
    "</div>"
   ]
  },
  {
   "cell_type": "code",
   "execution_count": null,
   "id": "0acf1d74-694e-4100-91c3-0ea1420aaebf",
   "metadata": {},
   "outputs": [],
   "source": [
    "import numpy as np"
   ]
  },
  {
   "cell_type": "code",
   "execution_count": null,
   "id": "9a5f712f-0091-4fca-b3a0-e6ea9ab5eda6",
   "metadata": {},
   "outputs": [],
   "source": [
    "numbers = np.arange(1, 6)"
   ]
  },
  {
   "cell_type": "code",
   "execution_count": null,
   "id": "5784763c-e6cd-4480-9d28-f9f9576cfcfc",
   "metadata": {},
   "outputs": [],
   "source": [
    "numbers"
   ]
  },
  {
   "cell_type": "code",
   "execution_count": null,
   "id": "4f42b4ea-8edb-41ba-8a7a-7deedd3fd66f",
   "metadata": {},
   "outputs": [],
   "source": [
    "numbers2 = numbers.view()"
   ]
  },
  {
   "cell_type": "code",
   "execution_count": null,
   "id": "7a4be391-4bf8-4db5-8671-2f92161e25d5",
   "metadata": {},
   "outputs": [],
   "source": [
    "numbers2"
   ]
  },
  {
   "cell_type": "markdown",
   "id": "048cfffb-944f-477e-bdcc-a40c74378884",
   "metadata": {},
   "source": [
    "<div style=\"direction:rtl; font-size: 17px; font-family: 'XB Zar'; line-height: 200%\">با استفاده از تابع داخلی \n",
    "    id\n",
    "    می‌توانیم ببینیم که \n",
    "    numbers\n",
    "    و \n",
    "    numbers2\n",
    "    اشیاء مختلفی هستند:\n",
    "</div>"
   ]
  },
  {
   "cell_type": "code",
   "execution_count": null,
   "id": "bf4f8c79-f05f-4701-85db-9835b4890cf1",
   "metadata": {},
   "outputs": [],
   "source": [
    "id(numbers)"
   ]
  },
  {
   "cell_type": "code",
   "execution_count": null,
   "id": "cfd7aff1-6c82-4249-90bb-2b7d1ac21e7b",
   "metadata": {},
   "outputs": [],
   "source": [
    "id(numbers2)"
   ]
  },
  {
   "cell_type": "markdown",
   "id": "8fec2995-b2db-4c6c-8094-79b3d32c903e",
   "metadata": {},
   "source": [
    "<div style=\"direction:rtl; font-size: 17px; font-family: 'XB Zar'; line-height: 200%\">برای اثبات این که \n",
    "    numbers2\n",
    "    داده‌های مشابه \n",
    "    numbers\n",
    "    را \n",
    "    view\n",
    "    می‌کند، یک عضو در \n",
    "    numbers\n",
    "    را تغییر می‌دهیم و سپس هر دو آرایه را نمایش می‌دهیم:\n",
    "</div>"
   ]
  },
  {
   "cell_type": "code",
   "execution_count": null,
   "id": "7aa86b9f-7b50-4a74-ac3b-8ae2ba612c93",
   "metadata": {},
   "outputs": [],
   "source": [
    "numbers[1] *= 10"
   ]
  },
  {
   "cell_type": "code",
   "execution_count": null,
   "id": "283ff978-95dc-4b10-93a9-c2fc892847ca",
   "metadata": {},
   "outputs": [],
   "source": [
    "numbers2"
   ]
  },
  {
   "cell_type": "code",
   "execution_count": null,
   "id": "e7a340ed-4881-45ef-8d24-8ccfa0d18163",
   "metadata": {},
   "outputs": [],
   "source": [
    "numbers"
   ]
  },
  {
   "cell_type": "markdown",
   "id": "e89d4b92-490b-4edd-854c-620bbd100d97",
   "metadata": {},
   "source": [
    "<div style=\"direction:rtl; font-size: 17px; font-family: 'XB Zar'; line-height: 200%\">به همین ترتیب، تغییر یک مقدار در \n",
    "    view\n",
    "    ، موجب تغییر آن مقدار در آرایه اصلی می‌شود:\n",
    "</div>"
   ]
  },
  {
   "cell_type": "code",
   "execution_count": null,
   "id": "62050bf2-1267-430e-b6d0-ba7af9b10226",
   "metadata": {},
   "outputs": [],
   "source": [
    "numbers2[1] /= 10"
   ]
  },
  {
   "cell_type": "code",
   "execution_count": null,
   "id": "f347eb0a-238b-411d-b953-5ae4a652f54b",
   "metadata": {},
   "outputs": [],
   "source": [
    "numbers"
   ]
  },
  {
   "cell_type": "code",
   "execution_count": null,
   "id": "37f4844f-98e0-4f81-beab-f75ac4f6e1dc",
   "metadata": {},
   "outputs": [],
   "source": [
    "numbers2"
   ]
  },
  {
   "cell_type": "markdown",
   "id": "bf1ce968-109f-45eb-8958-ccbfe7cadaef",
   "metadata": {},
   "source": [
    "<h2 style=\"direction:rtl;font-size: px;font-family: 'XB Zar';color:#0288d1;\">view\n",
    "    های حاصل از برش\n",
    "</h2> <a id=''></a>"
   ]
  },
  {
   "cell_type": "markdown",
   "id": "2c9048db-a03b-4b58-9fa6-35e42588a10f",
   "metadata": {},
   "source": [
    "<div style=\"direction:rtl; font-size: 17px; font-family: 'XB Zar'; line-height: 200%\">برش‌ها هم می‌توانند \n",
    "    view\n",
    "    ها را ایجاد کنند. در این قسمت برشی به نام \n",
    "    numbers2\n",
    "    ایجاد می‌کنیم که فقط سه عضو اول \n",
    "    numbers\n",
    "    را \n",
    "    view\n",
    "    کند:\n",
    "</div>"
   ]
  },
  {
   "cell_type": "code",
   "execution_count": null,
   "id": "92177a0b-43e6-4ce2-ba5d-b94caad63235",
   "metadata": {},
   "outputs": [],
   "source": [
    "numbers2 = numbers[0:3]"
   ]
  },
  {
   "cell_type": "code",
   "execution_count": null,
   "id": "5c0d962c-85c6-4d6f-8a5b-3a104c56f09c",
   "metadata": {},
   "outputs": [],
   "source": [
    "numbers2"
   ]
  },
  {
   "cell_type": "markdown",
   "id": "380738b3-754d-4b14-bd86-c2cf70aefa1e",
   "metadata": {},
   "source": [
    "<div style=\"direction:rtl; font-size: 17px; font-family: 'XB Zar'; line-height: 200%\">دوباره با کمک تابع \n",
    "    id\n",
    "    تاکید می‌کنیم که \n",
    "    numbers\n",
    "    و \n",
    "    numbers2\n",
    "    اشیاء مختلفی هستند:\n",
    "</div>"
   ]
  },
  {
   "cell_type": "code",
   "execution_count": null,
   "id": "06875dee-ab7f-4a90-81b2-808703ff1fb9",
   "metadata": {},
   "outputs": [],
   "source": [
    "id(numbers)"
   ]
  },
  {
   "cell_type": "code",
   "execution_count": null,
   "id": "d547088b-3c4b-46ca-b889-13dd9c56f725",
   "metadata": {},
   "outputs": [],
   "source": [
    "id(numbers2)"
   ]
  },
  {
   "cell_type": "markdown",
   "id": "f4e56e70-75f8-4810-a2dc-b337c95591eb",
   "metadata": {},
   "source": [
    "<div style=\"direction:rtl; font-size: 17px; font-family: 'XB Zar'; line-height: 200%\">تلاش برای دستیابی به \n",
    "    numbers2[3]\n",
    "    ، منجر به بروز خطای \n",
    "     IndexError\n",
    "    می‌شود و این خطا موید آن است که \n",
    "    numbers2\n",
    "    فقط یک \n",
    "    view\n",
    "    از ۳ عضو اول \n",
    "    numbers\n",
    "    است:\n",
    "</div>"
   ]
  },
  {
   "cell_type": "code",
   "execution_count": null,
   "id": "e45a344b-ceb3-4bc3-b147-f1d3f70cb61e",
   "metadata": {},
   "outputs": [],
   "source": [
    "numbers2[3]"
   ]
  },
  {
   "cell_type": "markdown",
   "id": "cc51cfb8-af2e-4d6b-8251-2f394ac50773",
   "metadata": {},
   "source": [
    "<div style=\"direction:rtl; font-size: 17px; font-family: 'XB Zar'; line-height: 200%\">اکنون عضوی مشترک میان دو آرایه را تغییر می‌دهیم و سپس آن‌ها را نمایش می‌دهیم. دوباره به این نتیجه می‌رسیم که \n",
    "    numbers2\n",
    "    یک \n",
    "    view\n",
    "    از \n",
    "    numbers\n",
    "    است:\n",
    "</div>"
   ]
  },
  {
   "cell_type": "code",
   "execution_count": null,
   "id": "7b16f5d1-b5bf-4fbd-ae7f-d79bfed85688",
   "metadata": {},
   "outputs": [],
   "source": [
    "numbers[1] *= 20"
   ]
  },
  {
   "cell_type": "code",
   "execution_count": null,
   "id": "f63f302d-1f11-4bd5-885b-619aca7c46fb",
   "metadata": {},
   "outputs": [],
   "source": [
    "numbers"
   ]
  },
  {
   "cell_type": "code",
   "execution_count": null,
   "id": "2d31c89c-d409-4dca-affa-2a55ff4c296c",
   "metadata": {},
   "outputs": [],
   "source": [
    "numbers2"
   ]
  },
  {
   "cell_type": "markdown",
   "id": "625bce14-ef49-4add-8145-14d88e95e8ac",
   "metadata": {},
   "source": [
    "<h1 style=\"direction:rtl;font-size: 35px;font-family: 'XB Zar';color:#8e24aa;\">7.12 <span style=\"color:#F50057;\">کپی‌های عمیق\n",
    "</span></h1> <a id='13'></a>"
   ]
  },
  {
   "cell_type": "markdown",
   "id": "71745b91-8cc7-44b2-b2f6-07dae6462578",
   "metadata": {},
   "source": [
    "<div style=\"direction:rtl; font-size: 17px; font-family: 'XB Zar'; line-height: 200%\">اگرچه\n",
    "    view\n",
    "    ها اشیایی جداگانه از آرایه‌ها هستند، اما با اشتراک‌گذاری عناصر داده‌ای از آرایه‌های دیگر، موجب صرفه‌جویی در مصرف حافظه می‌شوند. با این حال گاهی اوقات لازم است هنگام اشتراک مقادیر قابل تغییر، یک کپی عمیق با نسخه‌های مستقل از داده‌های اصلی ایجاد کنید. این امر به ویژه در برنامه نویسی چندهسته‌ای بسیار حائز اهمیت است. در برنامه نویسی چندهسته‌ای، قسمت‌های مختلف برنامه می‌توانند هم‌زمان داده‌های شما را تغییر دهند و ممکن است موجب عملکرد نادرست برنامه شوند. متد \n",
    "    copy\n",
    "    در آرایه، یک شیء آرایه جدید را همراه با یک کپی عمیق از داده‌های شیء آرایه اصلی برمی‌گرداند. در این قسمت یک آرایه و یک کپی عمیق از آن آرایه را ایجاد می‌کنیم:\n",
    "</div>"
   ]
  },
  {
   "cell_type": "code",
   "execution_count": null,
   "id": "a6f73b6c-f754-44d0-b4d5-811ddbc5c22e",
   "metadata": {},
   "outputs": [],
   "source": [
    "import numpy as np"
   ]
  },
  {
   "cell_type": "code",
   "execution_count": null,
   "id": "5a05f54c-985c-47c1-8fbf-efd94c0f3308",
   "metadata": {},
   "outputs": [],
   "source": [
    "numbers = np.arange(1, 6)"
   ]
  },
  {
   "cell_type": "code",
   "execution_count": null,
   "id": "e7ba85ad-e074-4532-84ad-ac32473fdc91",
   "metadata": {},
   "outputs": [],
   "source": [
    "numbers"
   ]
  },
  {
   "cell_type": "code",
   "execution_count": null,
   "id": "8dc9b870-9362-49e5-bb6b-3f0a08e58809",
   "metadata": {},
   "outputs": [],
   "source": [
    "numbers2 = numbers.copy()"
   ]
  },
  {
   "cell_type": "code",
   "execution_count": null,
   "id": "5e8a82d0-ed62-4581-bee1-c129946a1d39",
   "metadata": {},
   "outputs": [],
   "source": [
    "numbers2"
   ]
  },
  {
   "cell_type": "markdown",
   "id": "79b61b17-d9ab-4ae3-9ea7-1ceb9f1fc484",
   "metadata": {},
   "source": [
    "<div style=\"direction:rtl; font-size: 17px; font-family: 'XB Zar'; line-height: 200%\">برای اثبات این که \n",
    "    numbers2\n",
    "    کپی جداگانه‌ای از داده‌ها در \n",
    "    numbers\n",
    "    دارد، یک عضو \n",
    "    numbers\n",
    "    را تغییر می‌دهیم و سپس هر دو آرایه را نمایش می‌دهیم:\n",
    "</div>"
   ]
  },
  {
   "cell_type": "code",
   "execution_count": null,
   "id": "d0750aea-bb4a-4753-af2a-cc20132e0671",
   "metadata": {},
   "outputs": [],
   "source": [
    "numbers[1] *= 10"
   ]
  },
  {
   "cell_type": "code",
   "execution_count": null,
   "id": "2a639cd0-f1dd-4594-8e34-6b3c68bda33e",
   "metadata": {},
   "outputs": [],
   "source": [
    "numbers"
   ]
  },
  {
   "cell_type": "code",
   "execution_count": null,
   "id": "5e4dc778-36ee-40e9-b85c-ed8187d914fe",
   "metadata": {},
   "outputs": [],
   "source": [
    "numbers2"
   ]
  },
  {
   "cell_type": "markdown",
   "id": "cf7f77e5-78e4-4aae-9d5b-c351260e33f5",
   "metadata": {},
   "source": [
    "<div style=\"direction:rtl; font-size: 17px; font-family: 'XB Zar'; line-height: 200%\">همان‌طور که مشاهده می‌کنید، تغییر فقط در \n",
    "    numbers\n",
    "    اعمال شده است.\n",
    "</div>"
   ]
  },
  {
   "cell_type": "markdown",
   "id": "8e52150c-2fd3-45f5-8af9-0b1cfe627a3d",
   "metadata": {},
   "source": [
    "<h2 style=\"direction:rtl;font-size: px;font-family: 'XB Zar';color:#0288d1;\">ماژول \n",
    "    copy\n",
    "    - کپی سطحی در قیاس با کپی عمیق برای انواع دیگر اشیاء در پایتون\n",
    "</h2> <a id=''></a>"
   ]
  },
  {
   "cell_type": "markdown",
   "id": "e0e56731-1035-43ee-9b1e-4b51866bbdcc",
   "metadata": {},
   "source": [
    "<div style=\"direction:rtl; font-size: 17px; font-family: 'XB Zar'; line-height: 200%\">در فصل‌های گذشته کپی سطحی را بررسی کردیم. در این فصل، نحوه کپی کردن عمیق اشیاء آرایه‌ای را با استفاده از متد \n",
    "    copy\n",
    "    توضیح دادیم. اگر به کپی عمیق دیگر انواع اشیاء در پایتون نیاز دارید، این اشیاء را به تابع \n",
    "     deepcopy\n",
    "    در ماژول \n",
    "    copy\n",
    "    ارسال کنید.\n",
    "</div>"
   ]
  },
  {
   "cell_type": "markdown",
   "id": "758c0cab-e950-4c4c-b0b7-a93855891ca1",
   "metadata": {},
   "source": [
    "<h1 style=\"direction:rtl;font-size: 35px;font-family: 'XB Zar';color:#8e24aa;\">7.13 <span style=\"color:#F50057;\">ترانهاده و تغییرشکل\n",
    "</span></h1> <a id='14'></a>"
   ]
  },
  {
   "cell_type": "markdown",
   "id": "3bf898bd-1994-4838-b0a1-29053662bcb7",
   "metadata": {},
   "source": [
    "<div style=\"direction:rtl; font-size: 17px; font-family: 'XB Zar'; line-height: 200%\">ما از متد \n",
    "    reshape\n",
    "    برای تولید آرایه‌های دو بعدی از محدوده‌های یک بعدی استفاده کردیم. در \n",
    "    NumPy\n",
    "    روش‌های مختلف دیگری برای تغییر شکل آرایه‌ها وجود دارد.\n",
    "</div>"
   ]
  },
  {
   "cell_type": "markdown",
   "id": "c120ca7f-f9d3-4cd6-9e07-a23c918695c8",
   "metadata": {},
   "source": [
    "<h2 style=\"direction:rtl;font-size: px;font-family: 'XB Zar';color:#0288d1;\">reshape\n",
    "    در قیاس با \n",
    "    resize\n",
    "</h2> <a id=''></a>"
   ]
  },
  {
   "cell_type": "markdown",
   "id": "ad7ac433-b6a3-4595-8c12-394a2cee96e1",
   "metadata": {},
   "source": [
    "<div style=\"direction:rtl; font-size: 17px; font-family: 'XB Zar'; line-height: 200%\">متدهای\n",
    "    reshape\n",
    "    و \n",
    "    resize\n",
    "    در آرایه این امکان را به شما می‌دهند تا ابعاد آرایه را تغییر دهید. متد \n",
    "    reshape\n",
    "    یک \n",
    "    view\n",
    "    (کپی سطحی) از آرایه اصلی با ابعاد جدید برمی‌گرداند. این متد تغییری در آرایه اصلی ایجاد نمی‌کند:\n",
    "</div>"
   ]
  },
  {
   "cell_type": "code",
   "execution_count": null,
   "id": "cabd06bc-1a2e-4e63-b8f4-5458467f0791",
   "metadata": {},
   "outputs": [],
   "source": [
    "import numpy as np"
   ]
  },
  {
   "cell_type": "code",
   "execution_count": null,
   "id": "521e4f63-e627-4efc-99a8-ef6e290fe6b6",
   "metadata": {},
   "outputs": [],
   "source": [
    "grades = np.array([[87, 96, 70], [100, 87, 90]])"
   ]
  },
  {
   "cell_type": "code",
   "execution_count": null,
   "id": "4756d3bd-ee18-4c21-880a-39f69e0c2166",
   "metadata": {},
   "outputs": [],
   "source": [
    "grades"
   ]
  },
  {
   "cell_type": "code",
   "execution_count": null,
   "id": "40122c1b-21e1-443d-9d4c-b5f16ad7b4ca",
   "metadata": {},
   "outputs": [],
   "source": [
    "grades.reshape(1, 6)"
   ]
  },
  {
   "cell_type": "code",
   "execution_count": null,
   "id": "fd4206a4-3c83-4918-90a0-015f10355695",
   "metadata": {},
   "outputs": [],
   "source": [
    "grades"
   ]
  },
  {
   "cell_type": "markdown",
   "id": "d8d28afe-ef89-4eb9-97cc-d2063efc5ed0",
   "metadata": {},
   "source": [
    "<div style=\"direction:rtl; font-size: 17px; font-family: 'XB Zar'; line-height: 200%\">متد \n",
    "    resize\n",
    "    شکل آرایه اصلی را تغییر می‌دهد:\n",
    "</div>"
   ]
  },
  {
   "cell_type": "code",
   "execution_count": null,
   "id": "e04bca42-e780-4ebc-9976-15833ca12e56",
   "metadata": {},
   "outputs": [],
   "source": [
    "grades.resize(1, 6)"
   ]
  },
  {
   "cell_type": "code",
   "execution_count": null,
   "id": "ee47ef9a-b09c-4828-b237-43527afed827",
   "metadata": {},
   "outputs": [],
   "source": [
    "grades"
   ]
  },
  {
   "cell_type": "markdown",
   "id": "ecb1ccf3-5962-4847-be62-6c0b2c931cf9",
   "metadata": {},
   "source": [
    "<h2 style=\"direction:rtl;font-size: px;font-family: 'XB Zar';color:#0288d1;\">flatten\n",
    "    در قیاس با \n",
    "    ravel\n",
    "</h2> <a id=''></a>"
   ]
  },
  {
   "cell_type": "markdown",
   "id": "bbf63b75-339d-463d-b9b5-cb2b5c2ca88e",
   "metadata": {},
   "source": [
    "<div style=\"direction:rtl; font-size: 17px; font-family: 'XB Zar'; line-height: 200%\">با متدهای \n",
    "    flatten\n",
    "    و \n",
    "    ravel\n",
    "    می‌توانید یک آرایه چندبعدی را به یک آرایه یک بعدی تبدیل کنید. متد \n",
    "    flatten\n",
    "    یک کپی عمیق از داده‌های آرایه اصلی ایجاد می‌کند:\n",
    "</div>"
   ]
  },
  {
   "cell_type": "code",
   "execution_count": null,
   "id": "91ea3ee4-d1f5-4344-aba8-0ab2d3921418",
   "metadata": {},
   "outputs": [],
   "source": [
    "grades = np.array([[87, 96, 70], [100, 87, 90]])"
   ]
  },
  {
   "cell_type": "code",
   "execution_count": null,
   "id": "49ef5e7a-d105-46f4-8049-91aecd7780a9",
   "metadata": {},
   "outputs": [],
   "source": [
    "grades"
   ]
  },
  {
   "cell_type": "code",
   "execution_count": null,
   "id": "7e9a3163-254b-49d5-8c08-4ae915a5f35d",
   "metadata": {},
   "outputs": [],
   "source": [
    "flattened = grades.flatten()"
   ]
  },
  {
   "cell_type": "code",
   "execution_count": null,
   "id": "fd0f0277-2d43-4e42-b283-a11b90297c02",
   "metadata": {},
   "outputs": [],
   "source": [
    "flattened"
   ]
  },
  {
   "cell_type": "code",
   "execution_count": null,
   "id": "1f3035d0-2d55-475a-88d3-dc9bab3a0802",
   "metadata": {},
   "outputs": [],
   "source": [
    "grades"
   ]
  },
  {
   "cell_type": "markdown",
   "id": "be57771a-df34-4c48-8018-2aa2dcb80a2d",
   "metadata": {},
   "source": [
    "<div style=\"direction:rtl; font-size: 17px; font-family: 'XB Zar'; line-height: 200%\">برای تأیید این که \n",
    "    grades\n",
    "    و \n",
    "    flattened\n",
    "    داده‌ها را به اشتراک نمی‌گذارند، یک عضو در \n",
    "    flattened\n",
    "    را تغییر می‌دهیم و سپس هر دو آرایه را نمایش می‌دهیم:\n",
    "</div>"
   ]
  },
  {
   "cell_type": "code",
   "execution_count": null,
   "id": "df87c891-02b9-48bc-a6c0-17b43d24dfee",
   "metadata": {},
   "outputs": [],
   "source": [
    "flattened[0] = 100"
   ]
  },
  {
   "cell_type": "code",
   "execution_count": null,
   "id": "1dddcad2-756e-4c4e-8a74-0431b23abac1",
   "metadata": {},
   "outputs": [],
   "source": [
    "flattened"
   ]
  },
  {
   "cell_type": "code",
   "execution_count": null,
   "id": "1dff4f7b-6a46-461e-b90e-63c1173f8f56",
   "metadata": {},
   "outputs": [],
   "source": [
    "grades"
   ]
  },
  {
   "cell_type": "markdown",
   "id": "c37e4d0d-6a10-4893-9e43-aa351c949828",
   "metadata": {},
   "source": [
    "<div style=\"direction:rtl; font-size: 17px; font-family: 'XB Zar'; line-height: 200%\">متد\n",
    "    ravel\n",
    "    یک \n",
    "    view\n",
    "    از آرایه اصلی تولید می‌کند و داده‌ها را با آرایه \n",
    "    grades\n",
    "    به اشتراک می‌گذارد:\n",
    "</div>"
   ]
  },
  {
   "cell_type": "code",
   "execution_count": null,
   "id": "d5dbf9f2-8158-4694-8e7d-42b3399f6d8c",
   "metadata": {},
   "outputs": [],
   "source": [
    "raveled = grades.ravel()"
   ]
  },
  {
   "cell_type": "code",
   "execution_count": null,
   "id": "4b5d1a11-1b1e-4f9d-8d73-58f4dce8fa9b",
   "metadata": {},
   "outputs": [],
   "source": [
    "raveled"
   ]
  },
  {
   "cell_type": "code",
   "execution_count": null,
   "id": "1a54dfb9-47e3-47fb-82d9-12a68d53e18d",
   "metadata": {},
   "outputs": [],
   "source": [
    "grades"
   ]
  },
  {
   "cell_type": "markdown",
   "id": "ed9ebcd1-1bee-4f3d-9856-cc38cd32ae66",
   "metadata": {},
   "source": [
    "<div style=\"direction:rtl; font-size: 17px; font-family: 'XB Zar'; line-height: 200%\">برای تأیید این که \n",
    "    grades\n",
    "    و \n",
    "    raveled\n",
    "    داده‌های یکسانی را به اشتراک می‌گذارند، یک عضو \n",
    "    raveled\n",
    "    را تغییر می‌دهیم و سپس هر دو آرایه را نمایش ‌می‌دهیم.\n",
    "</div>"
   ]
  },
  {
   "cell_type": "code",
   "execution_count": null,
   "id": "b0be07a7-3e8b-4790-84b1-ec2fc38ccbe7",
   "metadata": {},
   "outputs": [],
   "source": [
    "raveled[0] = 100"
   ]
  },
  {
   "cell_type": "code",
   "execution_count": null,
   "id": "d9fb3ce2-dd7d-468d-9715-6cfb066b7e82",
   "metadata": {},
   "outputs": [],
   "source": [
    "raveled"
   ]
  },
  {
   "cell_type": "code",
   "execution_count": null,
   "id": "3f0e864a-9389-459d-9163-8e93b8abfd03",
   "metadata": {},
   "outputs": [],
   "source": [
    "grades"
   ]
  },
  {
   "cell_type": "markdown",
   "id": "03c8d1bd-7904-4512-aad2-b1cf851a5a40",
   "metadata": {},
   "source": [
    "<h2 style=\"direction:rtl;font-size: px;font-family: 'XB Zar';color:#0288d1;\">ترانهاده کردن سطرها و ستون‌ها\n",
    "</h2> <a id=''></a>"
   ]
  },
  {
   "cell_type": "markdown",
   "id": "9ea2315c-16ce-4c80-b729-15aef706f282",
   "metadata": {},
   "source": [
    "<div style=\"direction:rtl; font-size: 17px; font-family: 'XB Zar'; line-height: 200%\">می‌توانید سطرها و ستون‌های یک آرایه را به سرعت ترانهاده کنید، ترانهاده کردن آرایه سطرها را به ستون‌ها و ستون‌ها را به سطرها تبدیل می‌کند. ویژگی \n",
    "    T\n",
    "    یک \n",
    "    view\n",
    "    ترانهاده شده (کپی سطحی) از آرایه را برمی‌گرداند. آرایه اصلی \n",
    "    grades\n",
    "    نمرات دو دانش‌آموز (سطرها) را در سه آزمون (ستون‌ها) نشان می‌دهد. با ترانهاده کردن این آرایه سطرها و ستون‌ها را جابجا می‌کنیم تا داده‌ها را به عنوان نمرات سه آزمون (سطرها) برای دو دانش‌آموز (ستون‌ها) مشاهده کنیم:\n",
    "</div>"
   ]
  },
  {
   "cell_type": "code",
   "execution_count": null,
   "id": "9ae6df99-50dc-4f41-9327-9c7ae941e8be",
   "metadata": {},
   "outputs": [],
   "source": [
    "grades.T"
   ]
  },
  {
   "cell_type": "markdown",
   "id": "2df4b306-673a-4fb1-9dfa-97c5bfe7f174",
   "metadata": {},
   "source": [
    "<div style=\"direction:rtl; font-size: 17px; font-family: 'XB Zar'; line-height: 200%\">ترانهاده کردن آرایه اصلی را تغییر نمی‌دهد:\n",
    "</div>"
   ]
  },
  {
   "cell_type": "code",
   "execution_count": null,
   "id": "d15d327f-98c6-409c-a93d-af2bd72e5460",
   "metadata": {},
   "outputs": [],
   "source": [
    "grades"
   ]
  },
  {
   "cell_type": "markdown",
   "id": "d156f9a8-ce3e-46fe-8e1f-20e0b9fd364b",
   "metadata": {},
   "source": [
    "<h2 style=\"direction:rtl;font-size: px;font-family: 'XB Zar';color:#0288d1;\">Stacking\n",
    "    افقی و عمودی\n",
    "</h2> <a id=''></a>"
   ]
  },
  {
   "cell_type": "markdown",
   "id": "9edc7a63-ca89-4a36-b804-dc408ef72ace",
   "metadata": {},
   "source": [
    "<div style=\"direction:rtl; font-size: 17px; font-family: 'XB Zar'; line-height: 200%\">با روش \n",
    "    stacking\n",
    "    افقی و \n",
    "    stacking\n",
    "    عمودی می‌توانید آرایه‌ها را با افزودن ستون‌های بیشتر یا سطرهای بیشتر ترکیب کنید. در ابتدا یک آرایه ۲ در ۳ دیگر از نمرات ایجاد می‌کنیم:\n",
    "</div>"
   ]
  },
  {
   "cell_type": "code",
   "execution_count": null,
   "id": "74456cd4-7f6a-4ba2-a1c2-153f822780d7",
   "metadata": {},
   "outputs": [],
   "source": [
    "grades2 = np.array([[94, 77, 90], [100, 81, 82]])"
   ]
  },
  {
   "cell_type": "markdown",
   "id": "3715cb2f-487a-4aaa-8844-734de211f85e",
   "metadata": {},
   "source": [
    "<div style=\"direction:rtl; font-size: 17px; font-family: 'XB Zar'; line-height: 200%\">فرض کنیم \n",
    "    grades2\n",
    "    نشان‌دهنده سه نمره امتحانی اضافی برای دو دانش‌آموز در آرایه \n",
    "    grades\n",
    "    است. با استفاده از تابع \n",
    "    hstack\n",
    "    در \n",
    "    NumPy\n",
    "    می‌توانیم \n",
    "    grades\n",
    "    و \n",
    "    grades2\n",
    "    را ترکیب کنیم. برای این کار دو آرایه را در قالب یک تاپل به تابع فوق ارسال می‌کنیم. پرانتز اضافی لازم است زیرا \n",
    "    hstack\n",
    "    انتظار یک آرگومان را دارد:\n",
    "</div>"
   ]
  },
  {
   "cell_type": "code",
   "execution_count": null,
   "id": "867b40b2-a4c5-41de-8e10-a242eb6c3548",
   "metadata": {},
   "outputs": [],
   "source": [
    "np.hstack((grades, grades2))"
   ]
  },
  {
   "cell_type": "markdown",
   "id": "17fdd9ac-7512-4a55-9da6-6d3622e0ec7f",
   "metadata": {},
   "source": [
    "<div style=\"direction:rtl; font-size: 17px; font-family: 'XB Zar'; line-height: 200%\">اکنون فرض کنیم که \n",
    "    grades2\n",
    "    نشان‌دهنده نمرات دو دانش‌آموز دیگر در سه امتحان است. در این حالت، می‌توانیم \n",
    "    grades\n",
    "    و \n",
    "    grades2\n",
    "    را با تابع \n",
    "    vstack\n",
    "    ترکیب کنیم:\n",
    "</div>"
   ]
  },
  {
   "cell_type": "code",
   "execution_count": null,
   "id": "a810ae14-e9c3-4d67-80cf-a1f4be93a085",
   "metadata": {},
   "outputs": [],
   "source": [
    "np.vstack((grades, grades2))"
   ]
  },
  {
   "cell_type": "markdown",
   "id": "f69dbf4c-1f1a-403f-9c7b-b2f3924e5c35",
   "metadata": {},
   "source": [
    "<h1 style=\"direction:rtl;font-size: 35px;font-family: 'XB Zar';color:#8e24aa;\">7.14 <span style=\"color:#F50057;\">مقدمه‌ای بر علم داده: Series و DataFrames در کتابخانه  pandas\n",
    "</span></h1> <a id='15'></a>"
   ]
  },
  {
   "cell_type": "markdown",
   "id": "150f4129-6471-4bd3-a665-b168fe1e8293",
   "metadata": {},
   "source": [
    "<div style=\"direction:rtl; font-size: 17px; font-family: 'XB Zar'; line-height: 200%\">آرایه\n",
    "    NumPy\n",
    "    برای داده‌های عددی همگن که از طریق اندیس‌های صحیح قابل دسترسی هستند، بهینه شده است. برنامه‌های مرتبط با کلان داده‌ها غالبا به ساختارهای داده‌ای انعطاف‌پذیرتری احتیاج دارند. علم داده به مجموعه‌هایی از انواع داده‌های مختلف، اندیس‌گذاری سفارشی، داده‌های از دست رفته، داده‌هایی که ساختار ثابتی ندارند و داده‌هایی که باید به اشکال مناسب برای پایگاه داده‌ها و پکیج‌های تجزیه و تحلیل داده‌های مورد استفاده ما تبدیل شوند؛ نیاز دارد.\n",
    "</div>"
   ]
  },
  {
   "cell_type": "markdown",
   "id": "ae6b621d-3531-462e-80d0-80baaef02dcd",
   "metadata": {},
   "source": [
    "<div style=\"direction:rtl; font-size: 17px; font-family: 'XB Zar'; line-height: 200%\">\n",
    "    Pandas\n",
    "    محبوب‌ترین کتابخانه برای کار با چنین داده‌هایی می‌باشد. این کتابخانه دو کالکشن کلیدی را در اختیار شما قرار می‌دهد و در چندین بخش مقدمه‌ای بر علم داده و مطالعات موردی علم داده در کل کتاب از این کالکشن‌ها استفاده خواهید کرد. \n",
    "    Series\n",
    "    برای کالکشن‌های یک بعدی و \n",
    "    DataFrames\n",
    "    برای کالکشن‌های دو بعدی استفاده می‌شوند. برای کار با داده‌های چند بعدی می‌توانید از \n",
    "    MultiIndex\n",
    "    در \n",
    "    Pandas\n",
    "    در چارچوب \n",
    "    Series\n",
    "    و \n",
    "    DataFrames\n",
    "    استفاده کنید.\n",
    "</div>"
   ]
  },
  {
   "cell_type": "markdown",
   "id": "18214f98-2161-4e3e-97f5-2d5e97d3c504",
   "metadata": {},
   "source": [
    "<div style=\"direction:rtl; font-size: 17px; font-family: 'XB Zar'; line-height: 200%\">\n",
    "    Wes McKinney\n",
    "    در سال ۲۰۰۸ که در صنعت مشغول به کار بود، \n",
    "    pandas\n",
    "    را ایجاد کرد. نام \n",
    "    pandas\n",
    "    از واژه \n",
    "    \"panel data\"\n",
    "    اقتباس شده است و معرف داده‌هایی است که در طول زمان اندازه‌گیری می‌شوند. برای مثال قیمت سهام و یا خواندن درجه حرارت نمونه‌هایی از این دست محسوب می‌شوند. \n",
    "    McKinney\n",
    "    به کتابخانه‌ای نیاز داشت که در آن ساختار داده بتواند داده‌های مبتنی بر زمان و غیرمبتنی بر زمان را با پشتیبانی از هم‌ترازی داده، داده از دست رفته، تغییر داده متداول در پایگاه داده و... را اداره کند.\n",
    "</div>"
   ]
  },
  {
   "cell_type": "markdown",
   "id": "1561efcc-de8d-4a00-86a4-6c8b366904bf",
   "metadata": {},
   "source": [
    "<div style=\"direction:rtl; font-size: 17px; font-family: 'XB Zar'; line-height: 200%\">\n",
    "    NumPy\n",
    "    و\n",
    "    pandas\n",
    "    با هم ارتباط نزدیک دارند. \n",
    "    Series\n",
    "    و \n",
    "    DataFrames\n",
    "    در اصل از آرایه استفاده می‌کنند. \n",
    "    Series\n",
    "    و \n",
    "    DataFrames\n",
    "    آرگومان‌های معتبری برای بسیاری از عملیات \n",
    "    NumPy\n",
    "    هستند. به همین ترتیب، آرایه‌ها آرگومان معتبری برای بسیاری از عملیات \n",
    "    Series\n",
    "    و \n",
    "    DataFrames\n",
    "    محسوب می‌شوند.\n",
    "</div>"
   ]
  },
  {
   "cell_type": "markdown",
   "id": "3d9d8936-5ac0-4859-a32a-02f702ef62b9",
   "metadata": {},
   "source": [
    "<div style=\"direction:rtl; font-size: 17px; font-family: 'XB Zar'; line-height: 200%\">\n",
    "    Pandas\n",
    "    یک موضوع گسترده است و مستندات \n",
    "    PDF\n",
    "    آن بیش از ۲۰۰۰ صفحه است. در این فصل و فصل‌های بعدی و در قسمت مقدمه‌ای بر علم داده، مقدمه‌ای درباره \n",
    "    Pandas\n",
    "    ارائه می‌دهیم. در مورد کالکشن‌های \n",
    "    Series\n",
    "    و \n",
    "    DataFrames\n",
    "    توضیح می‌دهیم و از آن‌ها برای آماده‌سازی اطلاعات استفاده می‌کنیم. خواهید دید که \n",
    "    Series\n",
    "    و \n",
    "    DataFrames\n",
    "    انجام کارهای معمول مانند انتخاب عناصر به روش‌های مختلف، فیلتر کردن، نگاشت، کاهش عملیات (نقطه عطف برنامه نویسی به سبک تابعی و داده‌های بزرگ)، عملیات ریاضی، رسم نمودار و موارد دیگر را برای شما آسان می‌کنند.\n",
    "</div>"
   ]
  },
  {
   "cell_type": "markdown",
   "id": "894a5d8e-d438-48b1-9ec3-97a9e98848e3",
   "metadata": {},
   "source": [
    "<div style=\"direction:rtl; font-size: 17px; font-family: 'XB Zar'; line-height: 200%\">برای مشاهده آخرین مستندات \n",
    "    Pandas\n",
    "    ، به آدرس زیر مراجعه کنید:\n",
    "    <br>\n",
    "    <a href=\"http://pandas.pydata.org/pandas-docs/stable/\">http://pandas.pydata.org/pandas-docs/stable/</a>\n",
    "</div>"
   ]
  },
  {
   "cell_type": "markdown",
   "id": "257af95b-dcc4-43de-a730-62e98a4147ed",
   "metadata": {},
   "source": [
    "<h2 style=\"direction:rtl;font-size: 25px;font-family: 'XB Zar';color:#8e24aa;\">7.14.1 <span style=\"color:#8e24aa;\">Series در کتابخانه  pandas</span></h2> <a id='16'></a>"
   ]
  },
  {
   "cell_type": "markdown",
   "id": "9c39de3b-7646-4e94-8159-5553b838246a",
   "metadata": {},
   "source": [
    "<div style=\"direction:rtl; font-size: 17px; font-family: 'XB Zar'; line-height: 200%\">یک\n",
    "    Series\n",
    "    یک آرایه یک بعدی بهینه شده است. آرایه‌ها فقط از اندیس‌های صحیح که با صفر شروع می‌شوند استفاده می‌کنند، در حالی که \n",
    "    Series\n",
    "    از اندیس‌گذاری سفارشی پشتیبانی می‌کند و می‌تواند از اندیس‌هایی غیر از عدد صحیح مانند رشته‌ها هم استفاده کند. علاوه بر این، \n",
    "    Series\n",
    "    دارای قابلیت‌های دیگری است که کارهای مربوط به علم داده با آن راحت‌تر انجام می‌گیرد. به عنوان مثال، ممکن است \n",
    "    Series\n",
    "    داده‌های گمشده‌ای داشته باشد و بسیاری از عملیات \n",
    "    Series\n",
    "    به طور پیش‌فرض داده‌های از دست رفته را نادیده می‌گیرند.\n",
    "</div>"
   ]
  },
  {
   "cell_type": "markdown",
   "id": "0905315b-fce4-4371-b3bc-2c209bca64ea",
   "metadata": {},
   "source": [
    "<h2 style=\"direction:rtl;font-size: px;font-family: 'XB Zar';color:#0288d1;\">ایجاد یک \n",
    "    Series\n",
    "    با اندیس‌های پیش‌فرض\n",
    "</h2> <a id=''></a>"
   ]
  },
  {
   "cell_type": "markdown",
   "id": "c578d6e8-59d9-44a4-9c63-c6b7148ff474",
   "metadata": {},
   "source": [
    "<div style=\"direction:rtl; font-size: 17px; font-family: 'XB Zar'; line-height: 200%\">به طور پیش‌فرض اندیس‌های یک \n",
    "    Series\n",
    "    اعداد صحیح هستند که به ترتیب از صفر شماره‌گذاری می‌شوند. کد زیر با کمک یک لیست، یک \n",
    "    Series\n",
    "    از نمرات دانش‌آموزان را ایجاد می‌کند:\n",
    "</div>"
   ]
  },
  {
   "cell_type": "code",
   "execution_count": null,
   "id": "7ea3a8dc-2a1c-47d3-926a-1cdef5075d91",
   "metadata": {},
   "outputs": [],
   "source": [
    "import pandas as pd"
   ]
  },
  {
   "cell_type": "code",
   "execution_count": null,
   "id": "4deccb74-1cf1-4a44-a94b-fc3a13ffb7bb",
   "metadata": {},
   "outputs": [],
   "source": [
    "grades = pd.Series([87, 100, 94])"
   ]
  },
  {
   "cell_type": "markdown",
   "id": "25d32920-401b-478f-b14e-04ac3378ce48",
   "metadata": {},
   "source": [
    "<div style=\"direction:rtl; font-size: 17px; font-family: 'XB Zar'; line-height: 200%\">ممکن است مقادیر اولیه یک تاپل، یک دیکشنری، یک آرایه، یک \n",
    "    Series\n",
    "    دیگر و یا یک مقدار واحد باشد. به زودی نحوه مقداردهی کردن اولیه با یک مقدار منفرد را نشان خواهیم داد.\n",
    "</div>"
   ]
  },
  {
   "cell_type": "markdown",
   "id": "b49e31a2-4e8a-4019-8d17-48c015eb86d3",
   "metadata": {},
   "source": [
    "<h2 style=\"direction:rtl;font-size: px;font-family: 'XB Zar';color:#0288d1;\">نمایش یک \n",
    "    Series\n",
    "</h2> <a id=''></a>"
   ]
  },
  {
   "cell_type": "markdown",
   "id": "27644a29-e1b7-407f-8989-3610431526ed",
   "metadata": {},
   "source": [
    "<div style=\"direction:rtl; font-size: 17px; font-family: 'XB Zar'; line-height: 200%\">\n",
    "    Pandas\n",
    "    یک \n",
    "    Series\n",
    "    را با فرمت دو ستونه نشان می‌دهد. اندیس‌ها را از سمت چپ تراز کرده و آن‌ها را در ستون سمت چپ نشان می‌دهد. مقادیر مربوطه را از راست تراز کرده و در سمت راست نشان می‌دهد. \n",
    "    Pandas\n",
    "    بعد از لیست کردن اعضای \n",
    "    Series\n",
    "    نوع داده \n",
    "    (dtype)\n",
    "    عناصر آرایه را زیر دو ستون یاد شده نشان می‌دهد:\n",
    "</div>"
   ]
  },
  {
   "cell_type": "code",
   "execution_count": null,
   "id": "03b5b4c7-0b9b-45c0-9c6e-3e9e25426003",
   "metadata": {},
   "outputs": [],
   "source": [
    "grades"
   ]
  },
  {
   "cell_type": "markdown",
   "id": "7c001dff-a4ab-45ca-93be-253f063a9eda",
   "metadata": {},
   "source": [
    "<div style=\"direction:rtl; font-size: 17px; font-family: 'XB Zar'; line-height: 200%\">توجه کنید نمایش یک \n",
    "    Series\n",
    "    با فرمت دو ستونه در قیاس با کدی برای نمایش یک لیست با این فرمت، بسیار آسان‌تر است.\n",
    "</div>"
   ]
  },
  {
   "cell_type": "markdown",
   "id": "6d5895e7-636b-46b8-87f6-bab93e1773a3",
   "metadata": {},
   "source": [
    "<h2 style=\"direction:rtl;font-size: px;font-family: 'XB Zar';color:#0288d1;\">ایجاد یک \n",
    "    Series\n",
    "    با اعضایی که دارای مقدار برابر هستند\n",
    "</h2> <a id=''></a>"
   ]
  },
  {
   "cell_type": "markdown",
   "id": "cf1d4d1b-3a68-425e-a83d-44822ca55cc4",
   "metadata": {},
   "source": [
    "<div style=\"direction:rtl; font-size: 17px; font-family: 'XB Zar'; line-height: 200%\">می‌توانید یک \n",
    "    Series\n",
    "    از عناصر را ایجاد کنید که همگی دارای ارزش یکسانی باشند:\n",
    "</div>"
   ]
  },
  {
   "cell_type": "code",
   "execution_count": null,
   "id": "51debb22-e255-4955-929a-172ab0201174",
   "metadata": {},
   "outputs": [],
   "source": [
    "pd.Series(98.6, range(3))"
   ]
  },
  {
   "cell_type": "markdown",
   "id": "9c70d8b8-b540-419e-a5bd-d8de0d08f732",
   "metadata": {},
   "source": [
    "<div style=\"direction:rtl; font-size: 17px; font-family: 'XB Zar'; line-height: 200%\">آرگومان دوم یک شیء \n",
    "    iterable\n",
    "    یک بعدی است (مانند یک لیست، یک آرایه یا یک محدوده) که حاوی چند اندیس است. تعداد اندیس‌ها تعداد عناصر را تعیین می‌کند.\n",
    "</div>"
   ]
  },
  {
   "cell_type": "markdown",
   "id": "5fc3e594-c9c6-4e5f-85f3-92fba01b1bc5",
   "metadata": {},
   "source": [
    "<h2 style=\"direction:rtl;font-size: px;font-family: 'XB Zar';color:#0288d1;\">دسترسی به اعضای یک \n",
    "    Series\n",
    "</h2> <a id=''></a>"
   ]
  },
  {
   "cell_type": "markdown",
   "id": "a52745df-e540-4e08-8dff-4d9483d6b15e",
   "metadata": {},
   "source": [
    "<div style=\"direction:rtl; font-size: 17px; font-family: 'XB Zar'; line-height: 200%\">با استفاده از یک جفت براکت که حاوی اندیس عنصر مورد نظر هستند، می‌توانید به عناصر یک \n",
    "    Series\n",
    "    دسترسی پیدا کنید:\n",
    "</div>"
   ]
  },
  {
   "cell_type": "code",
   "execution_count": null,
   "id": "49e24577-adb7-477f-a61b-c76f3210e6e5",
   "metadata": {},
   "outputs": [],
   "source": [
    "grades[0]"
   ]
  },
  {
   "cell_type": "markdown",
   "id": "22b8cb16-6f51-485c-99a6-b93284e24c39",
   "metadata": {},
   "source": [
    "<h2 style=\"direction:rtl;font-size: px;font-family: 'XB Zar';color:#0288d1;\">ایجاد شاخص‌های آمار توصیفی برای یک \n",
    "    Series\n",
    "</h2> <a id=''></a>"
   ]
  },
  {
   "cell_type": "markdown",
   "id": "b9cd7a2d-72c8-473b-a91e-15a215e29559",
   "metadata": {},
   "source": [
    "<div style=\"direction:rtl; font-size: 17px; font-family: 'XB Zar'; line-height: 200%\">در \n",
    "    Series\n",
    "    متدهای زیادی برای انجام کارهای معمول نظیر تولید شاخص‌های آمار توصیفی وجود دارد. در اینجا متدهای \n",
    "    count, mean, min, max و std\n",
    "    را نشان می‌دهیم:\n",
    "</div>"
   ]
  },
  {
   "cell_type": "code",
   "execution_count": null,
   "id": "1e70acfd-b419-40bb-84a0-ab5b32698617",
   "metadata": {},
   "outputs": [],
   "source": [
    "grades.count()"
   ]
  },
  {
   "cell_type": "code",
   "execution_count": null,
   "id": "c3696206-a08b-4ac0-b9e7-9cfd623eb6cc",
   "metadata": {},
   "outputs": [],
   "source": [
    "grades.mean()"
   ]
  },
  {
   "cell_type": "code",
   "execution_count": null,
   "id": "8f2a3133-7e7e-421f-a2a8-108904979d90",
   "metadata": {},
   "outputs": [],
   "source": [
    "grades.min()"
   ]
  },
  {
   "cell_type": "code",
   "execution_count": null,
   "id": "00b6c01a-a964-4cf0-b41c-670fcd2278b6",
   "metadata": {},
   "outputs": [],
   "source": [
    "grades.max()"
   ]
  },
  {
   "cell_type": "code",
   "execution_count": null,
   "id": "d32d0da3-f47c-4725-a3b3-464d6ce82a90",
   "metadata": {},
   "outputs": [],
   "source": [
    "grades.std()"
   ]
  },
  {
   "cell_type": "markdown",
   "id": "5dc3a119-0a6c-45ae-a629-c508389ac24f",
   "metadata": {},
   "source": [
    "<div style=\"direction:rtl; font-size: 17px; font-family: 'XB Zar'; line-height: 200%\">هر یک از این متدها معرف برنامه‌نویسی به سبک تابعی و کاهشی هستند. متد \n",
    "    describe\n",
    "    در \n",
    "    Series\n",
    "    تمامی این آمار و موارد بیشتری را تولید می‌کند:\n",
    "</div>"
   ]
  },
  {
   "cell_type": "code",
   "execution_count": null,
   "id": "7f318bc7-bfc9-42bc-8941-0ba681b37ca9",
   "metadata": {},
   "outputs": [],
   "source": [
    "grades.describe()"
   ]
  },
  {
   "cell_type": "markdown",
   "id": "675f6190-9496-41d8-9fcb-357907971519",
   "metadata": {},
   "source": [
    "<div style=\"direction:rtl; font-size: 17px; font-family: 'XB Zar'; line-height: 200%\">\n",
    "    25%, 50% و 75%\n",
    "    چارک‌ها هستند:\n",
    "</div>\n",
    "\n",
    "\n",
    "<div style=\"direction:rtl; font-size: 17px; font-family: 'XB Zar'; line-height: 200%\">\n",
    "    <span style=\"color:#8e24aa;\">• </span><b>50%</b>\n",
    "    میانه مقادیر مرتب شده را نشان می‌دهد.\n",
    "    <br>\n",
    "    <span style=\"color:#8e24aa;\">• </span><b>25%</b>\n",
    "    میانه نیمه اول مقادیر مرتب شده را نشان می‌دهد.\n",
    "    <br>\n",
    "    <span style=\"color:#8e24aa;\">• </span><b>75%</b>\n",
    "    میانه نیمه دوم مقادیر مرتب شده را نشان می‌دهد.\n",
    "    <br>\n",
    "\n",
    "</div>\n"
   ]
  },
  {
   "cell_type": "markdown",
   "id": "d9530467-6bae-496c-8e80-57fee78ca8b0",
   "metadata": {},
   "source": [
    "<div style=\"direction:rtl; font-size: 17px; font-family: 'XB Zar'; line-height: 200%\">هنگام محاسبه چارک، اگر دو عضو میانی وجود داشته باشد، میانگین آن‌ها چارک محسوب می‌شود. در فلان فقط سه مقدار داریم، بنابراین چارک ۲۵% میانگین ۸۷ و ۹۴ و چارک ۷۵% متوسط ۹۴ و ۱۰۰ می‌باشد. اختلاف بین چارک ۷۵% و چارک ۲۵% حوزه میان چارکی نامیده می‌شود و مانند انحراف معیار و واریانس یکی از معیارهای پراکندگی محسوب می‌شود. البته چارک و حوزه میان چارکی در مجموعه داده‌های بزرگ کاربرد بیشتری دارند.\n",
    "</div>"
   ]
  },
  {
   "cell_type": "markdown",
   "id": "63ca0718-3932-4369-87d6-45d8ed6f58a4",
   "metadata": {},
   "source": [
    "<h2 style=\"direction:rtl;font-size: px;font-family: 'XB Zar';color:#0288d1;\">ایجاد یک \n",
    "    Series\n",
    "    با اندیس‌های سفارشی\n",
    "</h2> <a id=''></a>"
   ]
  },
  {
   "cell_type": "markdown",
   "id": "2ba7f032-c3c2-424b-9e03-6c57267afca9",
   "metadata": {},
   "source": [
    "<div style=\"direction:rtl; font-size: 17px; font-family: 'XB Zar'; line-height: 200%\">با آرگومان کلیدی \n",
    "    index\n",
    "    می‌توانید اندیس‌های سفارشی خود را تعیین کنید:\n",
    "</div>"
   ]
  },
  {
   "cell_type": "code",
   "execution_count": null,
   "id": "85a8d9b0-b557-4965-a0ea-364b34ab165e",
   "metadata": {},
   "outputs": [],
   "source": [
    "grades = pd.Series([87, 100, 94], index=['Wally', 'Eva', 'Sam'])"
   ]
  },
  {
   "cell_type": "code",
   "execution_count": null,
   "id": "1e7279d1-2d5d-44a8-914b-b701820c823c",
   "metadata": {},
   "outputs": [],
   "source": [
    "grades"
   ]
  },
  {
   "cell_type": "markdown",
   "id": "2583d6dd-cb45-4360-8e73-22a994d172bb",
   "metadata": {},
   "source": [
    "<div style=\"direction:rtl; font-size: 17px; font-family: 'XB Zar'; line-height: 200%\">در این مثال، از اندیس‌های رشته‌ای استفاده کردیم، اما شما می‌توانید از انواع داده‌های تغییرناپذیر دیگری از جمله اعداد صحیح که از صفر شروع نمی‌شوند و متوالی هم نباشند استفاده کنید. بازهم توجه کنید که چگونه \n",
    "    pandas\n",
    "    یک \n",
    "    Series\n",
    "    را به سادگی فرمت کرده و به زیبایی نمایش می‌دهد.\n",
    "</div>"
   ]
  },
  {
   "cell_type": "markdown",
   "id": "edc61a1d-8d17-4866-8f03-bee70a00a605",
   "metadata": {},
   "source": [
    "<h2 style=\"direction:rtl;font-size: px;font-family: 'XB Zar';color:#0288d1;\">مقداردهی اولیه با دیکشنری‌ها\n",
    "</h2> <a id=''></a>"
   ]
  },
  {
   "cell_type": "markdown",
   "id": "99a02c45-f0f0-4746-a280-22685eb4bc31",
   "metadata": {},
   "source": [
    "<div style=\"direction:rtl; font-size: 17px; font-family: 'XB Zar'; line-height: 200%\">اگر یک \n",
    "    Series\n",
    "    را با دیکشنری مقداردهی اولیه کنید، کلیدهای دیکشنری به اندیس‌های \n",
    "    Series\n",
    "    و مقادیر دیکشنری به عناصر \n",
    "    Series\n",
    "    تبدیل می‌شوند:\n",
    "</div>"
   ]
  },
  {
   "cell_type": "code",
   "execution_count": null,
   "id": "3ffb8a80-db9d-43c5-a9cf-db9e2b9d4e67",
   "metadata": {},
   "outputs": [],
   "source": [
    "grades = pd.Series({'Wally': 87, 'Eva': 100, 'Sam': 94})"
   ]
  },
  {
   "cell_type": "code",
   "execution_count": null,
   "id": "68e970f7-0275-4ca5-b353-595973241272",
   "metadata": {},
   "outputs": [],
   "source": [
    "grades"
   ]
  },
  {
   "cell_type": "markdown",
   "id": "207d6ecd-16c4-4f33-9df3-b4e72c1b6022",
   "metadata": {},
   "source": [
    "<h2 style=\"direction:rtl;font-size: px;font-family: 'XB Zar';color:#0288d1;\">دسترسی به اعضای یک \n",
    "    Series\n",
    "    از طریق اندیس‌های سفارشی\n",
    "</h2> <a id=''></a>"
   ]
  },
  {
   "cell_type": "markdown",
   "id": "2d381a30-707c-4403-90c2-9b3be7375802",
   "metadata": {},
   "source": [
    "<div style=\"direction:rtl; font-size: 17px; font-family: 'XB Zar'; line-height: 200%\">برای دسترسی به هر عضو یک \n",
    "    Series\n",
    "    با اندیس‌های سفارشی، می‌توانید مقدار اندیس را میان یک جفت براکت [] قرار دهید:\n",
    "</div>"
   ]
  },
  {
   "cell_type": "code",
   "execution_count": null,
   "id": "6b07464c-096f-4156-b2e4-0c493e48cbcf",
   "metadata": {},
   "outputs": [],
   "source": [
    "grades['Eva']"
   ]
  },
  {
   "cell_type": "markdown",
   "id": "27bd395a-0ba8-485b-85a1-7edf11442e39",
   "metadata": {},
   "source": [
    "<div style=\"direction:rtl; font-size: 17px; font-family: 'XB Zar'; line-height: 200%\">اگر اندیس‌های سفارشی رشته‌هایی باشند که می‌توانند شناسه‌های معتبری را در پایتون نشان دهند، \n",
    "    pandas\n",
    "    به طور خودکار آن‌ها را به \n",
    "    attribute\n",
    "    های \n",
    "    Series\n",
    "    اضافه می‌کند و از طریق یک نقطه (.) می‌توانید به آن‌ها دسترسی داشته باشید:\n",
    "</div>"
   ]
  },
  {
   "cell_type": "code",
   "execution_count": null,
   "id": "b9c5aa74-bc5e-482a-9c9c-e872469cb785",
   "metadata": {},
   "outputs": [],
   "source": [
    "grades.Wally"
   ]
  },
  {
   "cell_type": "markdown",
   "id": "78caff13-4fd7-4276-bc5c-c2106856cd81",
   "metadata": {},
   "source": [
    "<div style=\"direction:rtl; font-size: 17px; font-family: 'XB Zar'; line-height: 200%\">علاوه بر این \n",
    "    Series\n",
    "    دارای \n",
    "    built-in attributes \n",
    "    می‌باشد. به عنوان مثال، ویژگی \n",
    "    dtype\n",
    "    نوع عنصر آرایه اصلی را برمی‌گرداند:\n",
    "</div>"
   ]
  },
  {
   "cell_type": "code",
   "execution_count": null,
   "id": "47278dd5-7587-43ec-b569-be00479c3d07",
   "metadata": {},
   "outputs": [],
   "source": [
    "grades.dtype"
   ]
  },
  {
   "cell_type": "markdown",
   "id": "f7be73ae-3f66-4f88-b8b2-ec3022a70016",
   "metadata": {},
   "source": [
    "<div style=\"direction:rtl; font-size: 17px; font-family: 'XB Zar'; line-height: 200%\">و ویژگی \n",
    "    values\n",
    "    آرایه اصلی را برمی‌گرداند:\n",
    "</div>"
   ]
  },
  {
   "cell_type": "code",
   "execution_count": null,
   "id": "41477d01-1ea8-47d8-8164-5b182ba67fc6",
   "metadata": {},
   "outputs": [],
   "source": [
    "grades.values"
   ]
  },
  {
   "cell_type": "markdown",
   "id": "e46c830f-83d1-4d4e-8136-7cf2df18516b",
   "metadata": {},
   "source": [
    "<h2 style=\"direction:rtl;font-size: px;font-family: 'XB Zar';color:#0288d1;\">ایجاد یک \n",
    "    Series\n",
    "    از رشته‌ها\n",
    "</h2> <a id=''></a>"
   ]
  },
  {
   "cell_type": "markdown",
   "id": "9554fcd9-aeaf-4fa1-a62a-4c9482abf2ac",
   "metadata": {},
   "source": [
    "<div style=\"direction:rtl; font-size: 17px; font-family: 'XB Zar'; line-height: 200%\">اگر یک \n",
    "    Series\n",
    "    شامل رشته باشد، با استفاده از ویژگی \n",
    "    str\n",
    "    در \n",
    "    Series\n",
    "    می‌توانید متدهای رشته را برای اعضای آن فراخوانی کنید. در ابتدا یک \n",
    "    Series\n",
    "    از رشته‌های مرتبط با ابزار ایجاد می‌کنیم:\n",
    "</div>"
   ]
  },
  {
   "cell_type": "code",
   "execution_count": null,
   "id": "253ee522-ca0f-4698-9060-543cfb4cf7ba",
   "metadata": {},
   "outputs": [],
   "source": [
    "hardware = pd.Series(['Hammer', 'Saw', 'Wrench'])"
   ]
  },
  {
   "cell_type": "code",
   "execution_count": null,
   "id": "eddc9c94-86de-4d2d-a408-6a6618b7b2d3",
   "metadata": {},
   "outputs": [],
   "source": [
    "hardware"
   ]
  },
  {
   "cell_type": "markdown",
   "id": "4d14a9a5-a99d-4795-8b95-fa86ca7ccfed",
   "metadata": {},
   "source": [
    "<div style=\"direction:rtl; font-size: 17px; font-family: 'XB Zar'; line-height: 200%\">توجه داشته باشید که \n",
    "    pandas\n",
    "    مقادیر رشته‌ای را از سمت راست تراز می‌کند و \n",
    "    dtype\n",
    "    برای اجزای رشته‌ای \n",
    "    object\n",
    "    است. در این قسمت متد \n",
    "    contains\n",
    "    از رشته را برای مقدار هر عنصر فراخوانی می‌کنیم تا تعیین کند که آیا مقدار هر عنصر شامل یک حرف کوچک \n",
    "    'a'\n",
    "    است و یا خیر:\n",
    "</div>"
   ]
  },
  {
   "cell_type": "code",
   "execution_count": null,
   "id": "6dd984db-fe3e-4c2a-a4a6-da361adc9768",
   "metadata": {},
   "outputs": [],
   "source": [
    "hardware.str.contains('a')"
   ]
  },
  {
   "cell_type": "markdown",
   "id": "07b7b32a-8be6-42c1-97ef-2d96e205f886",
   "metadata": {},
   "source": [
    "<div style=\"direction:rtl; font-size: 17px; font-family: 'XB Zar'; line-height: 200%\">\n",
    "    Pandas\n",
    "    یک \n",
    "    Series\n",
    "    از مقادیر \n",
    "    bool\n",
    "    بازمی‌گرداند که نشان‌دهنده نتایج متد \n",
    "    contains\n",
    "    برای هر عنصر است، برای مثال عنصری که در اندیس ۲ قرار دارد \n",
    "    ('Wrench')\n",
    "    شامل کاراکتر \n",
    "    'a'\n",
    "    نیست و همین دلیل عنصر به آن در \n",
    "    Series\n",
    "    مقدار \n",
    "    False\n",
    "    دارد. توجه داشته باشید که \n",
    "    Pandas\n",
    "    از تکرار داخلی استفاده می‌کند و این روش یک مثال دیگر از برنامه نویسی به سبک تابعی است. در ویژگی \n",
    "    str\n",
    "    متدهای زیادی برای پردازش رشته وجود دارد که شبیه نوع داده رشته در پایتون هستند. برای مشاهده لیست این متدها به آدرس زیر مراجعه کنید:\n",
    "    <br>\n",
    "    <a href=\"https://pandas.pydata.org/pandas-docs/stable/api.html#string-handling\">https://pandas.pydata.org/pandas-docs/stable/api.html#string-handling</a>\n",
    "</div>"
   ]
  },
  {
   "cell_type": "markdown",
   "id": "9ea07d5a-2a47-4f0a-8730-15706166b25b",
   "metadata": {},
   "source": [
    "<div style=\"direction:rtl; font-size: 17px; font-family: 'XB Zar'; line-height: 200%\">کد زیر با استفاده از متد \n",
    "    upper\n",
    "    در رشته، تمامی اعضای \n",
    "     hardware\n",
    "    را به حروف بزرگ تبدیل کرده و یک \n",
    "    Series\n",
    "    جدید ایجاد می‌کند:\n",
    "</div>"
   ]
  },
  {
   "cell_type": "code",
   "execution_count": null,
   "id": "d274619c-d77d-4a0c-8028-b9bb3fa722e3",
   "metadata": {},
   "outputs": [],
   "source": [
    "hardware.str.upper()"
   ]
  },
  {
   "cell_type": "markdown",
   "id": "327c1ffb-f2c9-4de2-bfe9-3a6ed9202c43",
   "metadata": {},
   "source": [
    "<h2 style=\"direction:rtl;font-size: 25px;font-family: 'XB Zar';color:#8e24aa;\">7.14.2 <span style=\"color:#8e24aa;\">DataFrames</span></h2> <a id='17'></a>"
   ]
  },
  {
   "cell_type": "markdown",
   "id": "ef64c73e-d824-49bd-9728-84aeb32cf57b",
   "metadata": {},
   "source": [
    "<div style=\"direction:rtl; font-size: 17px; font-family: 'XB Zar'; line-height: 200%\">\n",
    "    DataFrame\n",
    "    یک آرایه دو بعدی بهینه‌شده است. \n",
    "    DataFrame\n",
    "    ها\n",
    "    مانند\n",
    "    Series\n",
    "     می‌توانند دارای اندیس‌های سطر و ستون سفارشی باشند و با ارائه عملیات و قابلیت‌های افزون‌تر، بسیاری از کارهای مربوط به علم داده را آسان‌تر می‌کنند. علاوه بر این \n",
    "    DataFrame\n",
    "    از داده‌های از دست رفته پشتیبانی می‌کند. هر ستون در \n",
    "    DataFrame\n",
    "    یک \n",
    "    Series\n",
    "    است. \n",
    "    Series\n",
    "    که نمایانگر هر ستون است ممکن است انواع مختلفی از داده‌ها را داشته باشد و به زودی این مطلب را هنگام بحث در مورد بارگیری مجموعه‌های داده در \n",
    "    DataFrame\n",
    "    مشاهده خواهید کرد.\n",
    "</div>"
   ]
  },
  {
   "cell_type": "markdown",
   "id": "8c3f849e-1ee6-49cd-99f5-aad26fd8a8a0",
   "metadata": {},
   "source": [
    "<h2 style=\"direction:rtl;font-size: px;font-family: 'XB Zar';color:#0288d1;\">ایجاد یک \n",
    "    DataFrame\n",
    "    از دیکشنری\n",
    "</h2> <a id=''></a>"
   ]
  },
  {
   "cell_type": "markdown",
   "id": "8cf8be45-f636-47d9-b8a8-f1c1fda2bc9e",
   "metadata": {},
   "source": [
    "<div style=\"direction:rtl; font-size: 17px; font-family: 'XB Zar'; line-height: 200%\">در این قسمت با استفاده از دیکشنری یک \n",
    "    DataFrame\n",
    "    ایجاد می‌کنیم که نمرات دانش‌آموزان را در سه آزمون نشان می‌دهد:\n",
    "</div>"
   ]
  },
  {
   "cell_type": "code",
   "execution_count": null,
   "id": "232023d7-b782-4bc6-a33d-079f6543c471",
   "metadata": {},
   "outputs": [],
   "source": [
    "import pandas as pd"
   ]
  },
  {
   "cell_type": "code",
   "execution_count": null,
   "id": "8ec6fecd-eee7-4bd7-9a94-f6d62088db84",
   "metadata": {},
   "outputs": [],
   "source": [
    "grades_dict = {'Wally': [87, 96, 70], 'Eva': [100, 87, 90],\n",
    "               'Sam': [94, 77, 90], 'Katie': [100, 81, 82],\n",
    "               'Bob': [83, 65, 85]}"
   ]
  },
  {
   "cell_type": "code",
   "execution_count": null,
   "id": "96bb117c-2e48-449e-b181-43d853a8165e",
   "metadata": {},
   "outputs": [],
   "source": [
    "grades = pd.DataFrame(grades_dict)"
   ]
  },
  {
   "cell_type": "code",
   "execution_count": null,
   "id": "c1210cd5-f41a-427d-9766-e653d10b766b",
   "metadata": {},
   "outputs": [],
   "source": [
    "grades"
   ]
  },
  {
   "cell_type": "markdown",
   "id": "1d05858a-667e-472d-8584-579975710eaa",
   "metadata": {},
   "source": [
    "<div style=\"direction:rtl; font-size: 17px; font-family: 'XB Zar'; line-height: 200%\">\n",
    "    Pandas\n",
    "    یک \n",
    "    DataFrame\n",
    "    را به صورت جدول نشان ‌می‌دهد. اندیس‌ها از سمت چپ تراز شده و در ستون سمت چپ قرار می‌گیرند. مابقی ستون‌ها از سمت راست تراز شده و سایر مقادیر اختصاص می‌یابند. کلیدهای دیکشنری به نام ستون تبدیل می‌شوند و مقادیر مرتبط با هر کلید در ستون مربوطه قرار می‌گیرند. به زودی نحوه عوض کردن سطرها و ستون‌ها را نشان خواهیم داد. به طور پیش‌فرض، اندیس‌های سطر از نوع عدد صحیح هستند که به صورت خودکار تولید شده و از صفر شروع می‌شوند.\n",
    "</div>"
   ]
  },
  {
   "cell_type": "markdown",
   "id": "32220076-f158-4055-b7d7-bc8cd65cecd2",
   "metadata": {},
   "source": [
    "<h2 style=\"direction:rtl;font-size: px;font-family: 'XB Zar';color:#0288d1;\">سفارشی‌کردن اندیس‌های \n",
    "    DataFrame\n",
    "    با ویژگی \n",
    "    index\n",
    "</h2> <a id=''></a>"
   ]
  },
  {
   "cell_type": "markdown",
   "id": "3db8b59f-3842-4e71-8fe4-f141bb647f17",
   "metadata": {},
   "source": [
    "<div style=\"direction:rtl; font-size: 17px; font-family: 'XB Zar'; line-height: 200%\">هنگام ایجاد \n",
    "    DataFrame\n",
    "    می‌توانیم اندیس‌های سفارشی را با آرگومان کلیدی \n",
    "    index\n",
    "    مشخص کنیم:\n",
    "</div>"
   ]
  },
  {
   "cell_type": "markdown",
   "id": "4a4036b9-bd09-4bf4-9cdb-0dbcc000fc99",
   "metadata": {},
   "source": [
    "```Python\n",
    "pd.DataFrame(grades_dict, index=['Test1', 'Test2', 'Test3'])\n",
    "```"
   ]
  },
  {
   "cell_type": "markdown",
   "id": "9e729d27-8c22-4513-b9e3-6afced934fb4",
   "metadata": {},
   "source": [
    "<div style=\"direction:rtl; font-size: 17px; font-family: 'XB Zar'; line-height: 200%\">در این قسمت با استفاده از ویژگی \n",
    "    index\n",
    "    اندیس‌های \n",
    "    DataFrame\n",
    "    را از اعداد صحیح متوالی به برچسب تبدیل می‌کنیم:\n",
    "</div>"
   ]
  },
  {
   "cell_type": "code",
   "execution_count": null,
   "id": "c69ab5e4-ff97-4589-8ef0-5737dc17fcdc",
   "metadata": {},
   "outputs": [],
   "source": [
    "grades.index = ['Test1', 'Test2', 'Test3']"
   ]
  },
  {
   "cell_type": "code",
   "execution_count": null,
   "id": "d4ca62ba-a4e3-4310-8e3b-30aefba5eb34",
   "metadata": {},
   "outputs": [],
   "source": [
    "grades"
   ]
  },
  {
   "cell_type": "markdown",
   "id": "3dbfc57f-c654-4f1a-bff0-672541145754",
   "metadata": {},
   "source": [
    "<div style=\"direction:rtl; font-size: 17px; font-family: 'XB Zar'; line-height: 200%\">هنگام تعیین اندیس‌ها، باید از یک کالکشن یک بعدی استفاده کنید که تعداد اجزای آن با تعداد ردیف‌های موجود در \n",
    "    DataFrame\n",
    "    برابر باشد؛ در غیر این صورت، خطای \n",
    "    ValueError\n",
    "    رخ می‌دهد. در \n",
    "    Series\n",
    "    یک ویژگی به نام \n",
    "    index\n",
    "    برای تغییر اندیس‌های موجود تعبیه شده است. \n",
    "</div>"
   ]
  },
  {
   "cell_type": "markdown",
   "id": "1c8d44b9-9b2b-426d-b7c2-103fdafa7215",
   "metadata": {},
   "source": [
    "<h2 style=\"direction:rtl;font-size: px;font-family: 'XB Zar';color:#0288d1;\">دسترسی به ستون‌های یک \n",
    "    DataFrame\n",
    "</h2> <a id=''></a>"
   ]
  },
  {
   "cell_type": "markdown",
   "id": "4ff6e92a-a17d-402d-bfd1-3ad5baee909d",
   "metadata": {},
   "source": [
    "<div style=\"direction:rtl; font-size: 17px; font-family: 'XB Zar'; line-height: 200%\">یکی از مزیت‌های \n",
    "    pandas\n",
    "    این است که می‌توانید به سرعت و به راحتی اطلاعات خود را به طرق مختلف از جمله انتخاب بخش‌هایی از داده‌ها مشاهده کنید. در این قسمت با نمرات \n",
    "    Eva\n",
    "    شروع می‌کنیم و ستون مربوط به نمرات وی را به صورت \n",
    "    Series\n",
    "    نمایش می‌دهیم:\n",
    "</div>"
   ]
  },
  {
   "cell_type": "code",
   "execution_count": null,
   "id": "7de3361a-3f30-43a2-be41-a46bb97c4e3c",
   "metadata": {},
   "outputs": [],
   "source": [
    "grades['Eva']"
   ]
  },
  {
   "cell_type": "markdown",
   "id": "b360e5db-25b1-448c-a89e-b913328466ab",
   "metadata": {},
   "source": [
    "<div style=\"direction:rtl; font-size: 17px; font-family: 'XB Zar'; line-height: 200%\">اگر یک رشته‌ی نام ستون در \n",
    "    DataFrame\n",
    "    یک شناسه معتبر پایتون باشد، می‌توانید از آن به عنوان ویژگی استفاده کنید. در این قسمت نمرات \n",
    "    Sam\n",
    "    را با ویژگی \n",
    "    Sam\n",
    "    انتخاب می‌کنیم:\n",
    "</div>"
   ]
  },
  {
   "cell_type": "code",
   "execution_count": null,
   "id": "0a30bf40-d128-460d-b7ea-2837a1af74dc",
   "metadata": {},
   "outputs": [],
   "source": [
    "grades.Sam"
   ]
  },
  {
   "cell_type": "markdown",
   "id": "2798baa5-9468-45b5-bd68-752c5b437807",
   "metadata": {},
   "source": [
    "<h2 style=\"direction:rtl;font-size: px;font-family: 'XB Zar';color:#0288d1;\">انتخاب سطرها از طریق ویژگی‌های \n",
    "    loc\n",
    "    و \n",
    "    iloc\n",
    "</h2> <a id=''></a>"
   ]
  },
  {
   "cell_type": "markdown",
   "id": "1e28af2d-1300-4326-bdda-d962e72bc3fc",
   "metadata": {},
   "source": [
    "<div style=\"direction:rtl; font-size: 17px; font-family: 'XB Zar'; line-height: 200%\">اگرچه\n",
    "    DataFrame\n",
    "    از قابلیت اندیس‌گذاری با عملگر [] پشتیبانی می‌کند، اما مستندات \n",
    "    pandas\n",
    "    توصیه می‌کند از ویژگی‌های \n",
    "    loc, iloc, at و iat\n",
    "    استفاده کنید. این ویژگی‌ها برای دسترسی به \n",
    "    DataFrame\n",
    "    بهینه شده‌اند و توانایی‌های افزون‌تری فراتر از آن‌چه فقط با عملگر [] انجام می‌دهید، فراهم می‌کنند. همچنین در این مستندات اشاره شده است که اندیس‌گذاری با عملگر [] اغلب یک کپی از داده‌ها تولید می‌کند و اگر بخواهید با نتیجه عملیات [] مقادیر جدیدی را به \n",
    "    DataFrame\n",
    "    اختصاص دهید، یک خطای \n",
    "    logic error\n",
    "    مرتکب شده‌اید.\n",
    "</div>"
   ]
  },
  {
   "cell_type": "markdown",
   "id": "a4fed017-fbe8-4a28-9b87-bf3a6f086752",
   "metadata": {},
   "source": [
    "<div style=\"direction:rtl; font-size: 17px; font-family: 'XB Zar'; line-height: 200%\">با استفاده از ویژگی \n",
    "    loc\n",
    "    می‌توانید به یک سطر با برچسب آن دسترسی داشته باشید. در کد زیر همه نمرات در سطر \n",
    "    'Test1'\n",
    "    فهرست شده است: \n",
    "</div>"
   ]
  },
  {
   "cell_type": "code",
   "execution_count": null,
   "id": "339adfa1-10ed-450c-adfa-a3c0e8e2f003",
   "metadata": {},
   "outputs": [],
   "source": [
    "grades.loc['Test1']"
   ]
  },
  {
   "cell_type": "markdown",
   "id": "1a635e57-7696-4d7a-9944-692eb878f8d4",
   "metadata": {},
   "source": [
    "<div style=\"direction:rtl; font-size: 17px; font-family: 'XB Zar'; line-height: 200%\">با استفاده از ویژگی \n",
    "    iloc\n",
    "    (\n",
    "    i\n",
    "    در \n",
    "    iloc\n",
    "    به این معنی است که از اندیس‌های صحیح استفاده می‌شود) و اندیس‌هایی که از جنس اعداد صحیح هستند و با صفر شروع می‌شوند، می‌توانید به سطرها دسترسی داشته باشید. کد زیر تمامی نمرات سطر دوم را نمایش می‌دهد:\n",
    "</div>"
   ]
  },
  {
   "cell_type": "code",
   "execution_count": null,
   "id": "632715ca-c02a-4c63-9e22-5f597d05c770",
   "metadata": {},
   "outputs": [],
   "source": [
    "grades.iloc[1]"
   ]
  },
  {
   "cell_type": "markdown",
   "id": "5bcaee2c-f996-45b9-9337-bf2f7172a1f3",
   "metadata": {},
   "source": [
    "<h2 style=\"direction:rtl;font-size: px;font-family: 'XB Zar';color:#0288d1;\">انتخاب سطرها از طریق برش‌ها و لیست‌ها با ویژگی‌های \n",
    "    loc\n",
    "    و \n",
    "    iloc\n",
    "</h2> <a id=''></a>"
   ]
  },
  {
   "cell_type": "markdown",
   "id": "076f639b-c57b-4f03-841e-e48bc2880b5b",
   "metadata": {},
   "source": [
    "<div style=\"direction:rtl; font-size: 17px; font-family: 'XB Zar'; line-height: 200%\">اندیس می‌تواند یک \n",
    "    slice\n",
    "    باشد. هنگام استفاده از برش‌ها با ویژگی \n",
    "    loc\n",
    "     که حاوی برچسب هستند، محدوده مشخص شده شامل\n",
    "    high index ('Test3')\n",
    "    نیز می‌باشد:\n",
    "</div>"
   ]
  },
  {
   "cell_type": "code",
   "execution_count": null,
   "id": "3b65362f-7322-4693-9a85-99388c01c05b",
   "metadata": {},
   "outputs": [],
   "source": [
    "grades.loc['Test1':'Test3']"
   ]
  },
  {
   "cell_type": "markdown",
   "id": "2574c0ac-5e7b-4476-aa07-b7fb3c5946d0",
   "metadata": {},
   "source": [
    "<div style=\"direction:rtl; font-size: 17px; font-family: 'XB Zar'; line-height: 200%\">هنگام استفاده از برش‌ها با ویژگی \n",
    "    iloc\n",
    "    که حاوی اعداد صحیح هستند، محدوده مشخص‌شده فاقد \n",
    "    high index (2)\n",
    "    است:\n",
    "</div>"
   ]
  },
  {
   "cell_type": "code",
   "execution_count": null,
   "id": "34236102-9a6d-4b04-9b94-a0639c3998e0",
   "metadata": {},
   "outputs": [],
   "source": [
    "grades.iloc[0:2]"
   ]
  },
  {
   "cell_type": "markdown",
   "id": "a59ee388-3d75-48c6-bc59-27dc2497abff",
   "metadata": {},
   "source": [
    "<div style=\"direction:rtl; font-size: 17px; font-family: 'XB Zar'; line-height: 200%\">برای انتخاب سطرهای خاص با \n",
    "    loc\n",
    "    یا \n",
    "    iloc\n",
    "    به جای استفاده از نماد برش، از لیست استفاده کنید:\n",
    "</div>"
   ]
  },
  {
   "cell_type": "code",
   "execution_count": null,
   "id": "8dbbc27b-5e77-4b62-817d-a880f9b33e38",
   "metadata": {},
   "outputs": [],
   "source": [
    "grades.loc[['Test1', 'Test3']]"
   ]
  },
  {
   "cell_type": "code",
   "execution_count": null,
   "id": "62fac283-22de-4433-805b-86f6e9504e27",
   "metadata": {},
   "outputs": [],
   "source": [
    "grades.iloc[[0, 2]]"
   ]
  },
  {
   "cell_type": "markdown",
   "id": "6041ec07-a4fe-4b49-ae0e-dfa9e7fefa33",
   "metadata": {},
   "source": [
    "<h2 style=\"direction:rtl;font-size: px;font-family: 'XB Zar';color:#0288d1;\">انتخاب زیرمجموعه‌ای از سطرها و ستون‌ها\n",
    "</h2> <a id=''></a>"
   ]
  },
  {
   "cell_type": "markdown",
   "id": "59281456-dcd0-4923-a487-75c4bb54d1af",
   "metadata": {},
   "source": [
    "<div style=\"direction:rtl; font-size: 17px; font-family: 'XB Zar'; line-height: 200%\">تاکنون فقط کل سطرها را انتخاب کرده‌ایم. شما می‌توانید با انتخاب سطرها و ستون‌ها از طریق دو برش، دو لیست یا ترکیبی از برش‌ها و لیست‌ها، روی زیرمجموعه‌های کوچکی از \n",
    "    DataFrame\n",
    "    تمرکز کنید. فرض کنید بخواهیم فقط نمرات \n",
    "    Eva\n",
    "    و \n",
    "    Katie\n",
    "    را در درس‌های \n",
    "    Test1\n",
    "    و \n",
    "    Test2\n",
    "    مشاهده کنیم. با استفاده از \n",
    "    loc\n",
    "    و با کمک یک برش برای دو ردیف متوالی و یک لیست برای دو ستون غیرمتوالی می‌توان این کار را انجام داد:\n",
    "</div>"
   ]
  },
  {
   "cell_type": "code",
   "execution_count": null,
   "id": "0b575dbe-325e-44aa-8123-0f08ab819039",
   "metadata": {},
   "outputs": [],
   "source": [
    "grades.loc['Test1':'Test2', ['Eva', 'Katie']]"
   ]
  },
  {
   "cell_type": "markdown",
   "id": "b761dde2-4e97-4462-8ece-603a73b681b2",
   "metadata": {},
   "source": [
    "<div style=\"direction:rtl; font-size: 17px; font-family: 'XB Zar'; line-height: 200%\">برش\n",
    "    'Test1':'Test2'\n",
    "    سطرهای\n",
    "    Test1\n",
    "    و \n",
    "    Test2\n",
    "    را انتخاب می‌کند. لیست \n",
    "    ['Eva', \n",
    "'Katie']\n",
    "    فقط نمرات مربوطه را از این دو ستون انتخاب می‌کند. در کد زیر با کمک\n",
    "    iloc\n",
    "     و با یک لیست و یک برش، آزمون‌های اول و سوم و سه ستون اول را برای این آزمون‌ها انتخاب می‌کند:\n",
    "</div>"
   ]
  },
  {
   "cell_type": "code",
   "execution_count": null,
   "id": "cae0c0a8-69bf-4115-92ca-9d6e23dfb5d6",
   "metadata": {},
   "outputs": [],
   "source": [
    "grades.iloc[[0, 2], 0:3]"
   ]
  },
  {
   "cell_type": "markdown",
   "id": "d0b37acc-a79d-463b-b133-b35f029d9a97",
   "metadata": {},
   "source": [
    "<h2 style=\"direction:rtl;font-size: px;font-family: 'XB Zar';color:#0288d1;\">اندیس‌گذاری بولین\n",
    "</h2> <a id=''></a>"
   ]
  },
  {
   "cell_type": "markdown",
   "id": "529b5165-1f1a-4040-8866-cfe21211305f",
   "metadata": {},
   "source": [
    "<div style=\"direction:rtl; font-size: 17px; font-family: 'XB Zar'; line-height: 200%\">یکی از قدرتمندترین قابلیت‌های انتخاب \n",
    "    pandas\n",
    "    اندیس‌گذاری بولین است. به عنوان مثال، فرض کنید بخواهیم تمام نمرات \n",
    "    A\n",
    "    را انتخاب کنیم - یعنی نمراتی که بزرگ‌تر یا برابر با ۹۰ هستند:\n",
    "</div>"
   ]
  },
  {
   "cell_type": "code",
   "execution_count": null,
   "id": "532fd644-4131-4814-9349-61822cd98a3a",
   "metadata": {},
   "outputs": [],
   "source": [
    "grades[grades >= 90]"
   ]
  },
  {
   "cell_type": "markdown",
   "id": "28f86563-89c2-427f-aa41-2fca447da6cc",
   "metadata": {},
   "source": [
    "<div style=\"direction:rtl; font-size: 17px; font-family: 'XB Zar'; line-height: 200%\">\n",
    "    Pandas\n",
    "    هر نمره را بررسی می‌کند تا تعیین کند که آیا مقدار آن نمره بزرگ‌تر و یا برابر ۹۰ است. اگر چنین شرطی برقرار باشد، آن نمره را در \n",
    "    DataFrame\n",
    "    جدید قرار می‌دهد. نمراتی که در این شرط صدق نکنند به عنوان \n",
    "    NaN (not a number)\n",
    "    در \n",
    "    DataFrame\n",
    "    جدید نشان داده می‌شوند. \n",
    "    NaN\n",
    "    در \n",
    "    Pandas\n",
    "    معرف داده‌های فاقد مقدار می‌باشد.\n",
    "</div>"
   ]
  },
  {
   "cell_type": "markdown",
   "id": "8fcac3a5-03b6-43f9-9507-ff9bf1787882",
   "metadata": {},
   "source": [
    "<div style=\"direction:rtl; font-size: 17px; font-family: 'XB Zar'; line-height: 200%\">کد زیر تمام نمرات \n",
    "    B\n",
    "    یعنی نمراتی که در محدوده ۸۰ تا ۸۹ را انتخاب می‌کند:\n",
    "</div>"
   ]
  },
  {
   "cell_type": "code",
   "execution_count": null,
   "id": "388df8dd-f80a-4a0e-8a0a-00531cf8ab64",
   "metadata": {},
   "outputs": [],
   "source": [
    "grades[(grades >= 80) & (grades < 90)]"
   ]
  },
  {
   "cell_type": "markdown",
   "id": "6f6a1a12-d12f-4ffe-b25b-b48c6a1cbcb1",
   "metadata": {},
   "source": [
    "<div style=\"direction:rtl; font-size: 17px; font-family: 'XB Zar'; line-height: 200%\">اندیس‌های بولین در \n",
    "    Pandas\n",
    "    چندین شرط را با عملگرهای پایتون نظیر \n",
    "    & (bitwise AND)\n",
    "    و\n",
    "    not\n",
    "    تلفیق می‌کند. برای \n",
    "    or\n",
    "    از عملگر | استفاده کنید \n",
    "    (bitwise OR)\n",
    "    . علاوه بر این \n",
    "    NumPy\n",
    "    از اندیس‌های بولین برای آرایه‌ها پشتیبانی می‌کند، اما همیشه یک آرایه یک بعدی را برمی‌گرداند که مقادیر آن در شرط مورد صدق می‌کنند.\n",
    "</div>"
   ]
  },
  {
   "cell_type": "markdown",
   "id": "78ba4e78-ec8e-41ca-9961-597cce28dd0d",
   "metadata": {},
   "source": [
    "<h2 style=\"direction:rtl;font-size: px;font-family: 'XB Zar';color:#0288d1;\">دسترسی به یک سلول خاص \n",
    "    DataFrame\n",
    "    توسط سطر و ستون\n",
    "</h2> <a id=''></a>"
   ]
  },
  {
   "cell_type": "markdown",
   "id": "224693d6-b9ac-4e0a-bb05-9d85b85bf435",
   "metadata": {},
   "source": [
    "<div style=\"direction:rtl; font-size: 17px; font-family: 'XB Zar'; line-height: 200%\">برای به‌دست آوردن یک مقدار واحد از \n",
    "    DataFrame\n",
    "    می‌توانید از ویژگی‌های \n",
    "    at\n",
    "    و \n",
    "    iat\n",
    "    استفاده کنید. مانند \n",
    "    loc\n",
    "    و \n",
    "    iloc\n",
    "    از \n",
    "    at\n",
    "    برای اندیس‌های نوع برچسب و از \n",
    "    iat\n",
    "    برای اندیس‌های عدد صحیح استفاده می‌شود. در هر حالت، اندیس‌های سطر و ستون باید با کاما از هم جدا شوند. کد زیر نمره\n",
    "    Eva\n",
    "    در \n",
    "    Test2 grade (87)\n",
    "    و نمره \n",
    "    Wally\n",
    "    در \n",
    "    Test3 grade (70)\n",
    "    را انتخاب می‌کند:\n",
    "</div>"
   ]
  },
  {
   "cell_type": "code",
   "execution_count": null,
   "id": "7208d0a6-cab7-4ba6-96d5-9dafcca48d4a",
   "metadata": {},
   "outputs": [],
   "source": [
    "grades.at['Test2', 'Eva']"
   ]
  },
  {
   "cell_type": "code",
   "execution_count": null,
   "id": "7e65a3ad-e5ae-443d-ad12-7d91af04fb62",
   "metadata": {},
   "outputs": [],
   "source": [
    "grades.iat[2, 0]"
   ]
  },
  {
   "cell_type": "markdown",
   "id": "9a51bb07-3d4d-4976-9c4a-29169b7f2c18",
   "metadata": {},
   "source": [
    "<div style=\"direction:rtl; font-size: 17px; font-family: 'XB Zar'; line-height: 200%\">همچینین می‌توانید مقادیر جدیدی را به عناصر خاص اختصاص دهید. در کد زیر با استفاده از \n",
    "    at\n",
    "    نمره \n",
    "    Eva\n",
    "    در \n",
    "    Test2\n",
    "    را به ۱۰۰ تغییر می‌دهیم و سپس با استفاده از \n",
    "    iat\n",
    "    آن را دوباره به ۸۷ برمی‌گردانیم:\n",
    "</div>"
   ]
  },
  {
   "cell_type": "code",
   "execution_count": null,
   "id": "7564a092-b1dd-499a-81e9-6063f5a86326",
   "metadata": {},
   "outputs": [],
   "source": [
    "grades.at['Test2', 'Eva'] = 100"
   ]
  },
  {
   "cell_type": "code",
   "execution_count": null,
   "id": "8ce9a9f2-f9c5-4d47-91ab-d30e5a045b0c",
   "metadata": {},
   "outputs": [],
   "source": [
    "grades.at['Test2', 'Eva']"
   ]
  },
  {
   "cell_type": "code",
   "execution_count": null,
   "id": "31bc3b85-25ae-467c-b345-942b54055993",
   "metadata": {},
   "outputs": [],
   "source": [
    "grades.iat[1, 1] = 87"
   ]
  },
  {
   "cell_type": "code",
   "execution_count": null,
   "id": "b47df6d0-4fa1-4a5b-9aef-41bd5e659de6",
   "metadata": {},
   "outputs": [],
   "source": [
    "grades.iat[1, 1]"
   ]
  },
  {
   "cell_type": "markdown",
   "id": "bf6c7de5-3986-4726-9899-ac7d2f5c1415",
   "metadata": {},
   "source": [
    "<h2 style=\"direction:rtl;font-size: px;font-family: 'XB Zar';color:#0288d1;\">آمار توصیفی\n",
    "</h2> <a id=''></a>"
   ]
  },
  {
   "cell_type": "markdown",
   "id": "41cb4672-846a-46a9-8075-4a64e9e6e5db",
   "metadata": {},
   "source": [
    "<div style=\"direction:rtl; font-size: 17px; font-family: 'XB Zar'; line-height: 200%\">هر دو داده \n",
    "    Series\n",
    "    و \n",
    "    DataFrame\n",
    "    دارای متدهایی برای محاسبه شاخص‌های آمار توصیفی هستند، این متدها نتایج محاسبات را به صورت \n",
    "    DataFrame\n",
    "    برمی‌گردانند. در یک \n",
    "    DataFrame\n",
    "    آمار برحسب ستون محاسبه می‌شود:\n",
    "</div>"
   ]
  },
  {
   "cell_type": "code",
   "execution_count": null,
   "id": "8cdb8666-68cb-4865-ad15-c75566bc6277",
   "metadata": {},
   "outputs": [],
   "source": [
    "grades.describe()"
   ]
  },
  {
   "cell_type": "markdown",
   "id": "f454d265-3507-45b5-a53f-f7145f4dbd47",
   "metadata": {},
   "source": [
    "<div style=\"direction:rtl; font-size: 17px; font-family: 'XB Zar'; line-height: 200%\">همان‌طور که مشاهده می‌کنید، متد \n",
    "    describe\n",
    "    یک روش سریع برای جمع‌بندی داده‌های شما ارائه می‌دهد. کد بالا به خوبی قدرت برنامه‌نویسی آرایه‌گرا را نشان می‌دهد. این سبک برنامه نویسی از فراخوانی مختصر و شفاف توابع استفاده می‌کند. \n",
    "    Pandas\n",
    "    به طور داخلی تمام جزئیات محاسبه این آمار را برای هر ستون مدیریت می‌کند. شاید برای شما جالب باشد که آمار مشابهی را بر اساس نمرات آزمون به تفکیک هر درس استخراج کنید تا نحوه عملکرد همه دانش‌آموزان در آزمون‌های ۱، ۲ و ۳ را مشاهده کنید، به زودی نحوه این کار را نشان خواهیم داد. به طور پیش‌فرض، \n",
    "    Pandas\n",
    "    آمار توصیفی را با مقادیر اعشاری محاسبه کرده و آن‌ها را با شش رقم دقت نمایش می‌دهد. با تابع \n",
    "    set_option\n",
    "    می‌توانید تنظیمات \n",
    "    precision\n",
    "    و سایر تنظیمات پیش‌فرض را تغییر دهید:\n",
    "</div>"
   ]
  },
  {
   "cell_type": "code",
   "execution_count": null,
   "id": "97af17aa-f184-4456-812f-3e86d90c5de5",
   "metadata": {},
   "outputs": [],
   "source": [
    "pd.set_option('precision', 2)"
   ]
  },
  {
   "cell_type": "code",
   "execution_count": null,
   "id": "4bb7b9ed-8cd5-46e8-9e68-4d40f3d27b2d",
   "metadata": {},
   "outputs": [],
   "source": [
    "grades.describe()"
   ]
  },
  {
   "cell_type": "markdown",
   "id": "e6545dba-cbcb-4130-9b95-8359fb51ef26",
   "metadata": {},
   "source": [
    "<div style=\"direction:rtl; font-size: 17px; font-family: 'XB Zar'; line-height: 200%\">احتمالا معدل مهم‌ترین آمار برای نمرات دانش‌آموزان محسوب می‌شود. با فراخوانی تابع \n",
    "    mean\n",
    "    در \n",
    "    DataFrame\n",
    "    به سادگی می‌توانید میانگین را محاسبه کنید:\n",
    "</div>"
   ]
  },
  {
   "cell_type": "code",
   "execution_count": null,
   "id": "cd3ae014-6385-4bea-a429-c7f7ce6ce7d3",
   "metadata": {},
   "outputs": [],
   "source": [
    "grades.mean()"
   ]
  },
  {
   "cell_type": "markdown",
   "id": "53ebeb9f-1f33-41cd-aab8-17df63283a62",
   "metadata": {},
   "source": [
    "<div style=\"direction:rtl; font-size: 17px; font-family: 'XB Zar'; line-height: 200%\">به زودی نشان خواهیم داد که چگونه با اضافه کردن یک خط کد، میانگین نمره همه دانش‌آموزان را در هر آزمون محاسبه کنید.\n",
    "</div>"
   ]
  },
  {
   "cell_type": "markdown",
   "id": "0f226fd3-d2bc-4977-8d13-6af2c076a06b",
   "metadata": {},
   "source": [
    "<h2 style=\"direction:rtl;font-size: px;font-family: 'XB Zar';color:#0288d1;\">ترانهاده کردن \n",
    "    DataFrame\n",
    "    با ویژگی \n",
    "    T\n",
    "</h2> <a id=''></a>"
   ]
  },
  {
   "cell_type": "markdown",
   "id": "f96509be-99b5-4019-bf18-9339d56247c9",
   "metadata": {},
   "source": [
    "<div style=\"direction:rtl; font-size: 17px; font-family: 'XB Zar'; line-height: 200%\">با استفاده از ویژگی \n",
    "    T\n",
    "    می‌توانید سطرها و ستون‌ها را به سرعت ترانهاده کنید، با عمل ترانهاده، سطرها به ستون‌ها و ستون‌ها به سطرها تبدیل می‌شوند:\n",
    "</div>"
   ]
  },
  {
   "cell_type": "code",
   "execution_count": null,
   "id": "4bf79396-4f8c-45dc-bb24-7f812c7c3f21",
   "metadata": {},
   "outputs": [],
   "source": [
    "grades.T"
   ]
  },
  {
   "cell_type": "markdown",
   "id": "f97c8d43-3819-4e1e-bb84-ac01a5ef55c9",
   "metadata": {},
   "source": [
    "<div style=\"direction:rtl; font-size: 17px; font-family: 'XB Zar'; line-height: 200%\">ویژگی\n",
    "    T\n",
    "    یک \n",
    "    view\n",
    "    ترانهاده شده (نه یک کپی) را برمی‌گرداند. فرض کنیم بخواهید به جای دریافت خلاصه آمار برحسب دانش‌آموز، آماری برحسب آزمون به دست آورید. برای این کار کافی است که به سادگی متد \n",
    "    describe\n",
    "    را برای \n",
    "    grades.T\n",
    "    فراخوانی کنید:\n",
    "</div>"
   ]
  },
  {
   "cell_type": "code",
   "execution_count": null,
   "id": "e38811e4-c8b0-463a-8db7-85cd1bad42bd",
   "metadata": {},
   "outputs": [],
   "source": [
    "grades.T.describe()"
   ]
  },
  {
   "cell_type": "markdown",
   "id": "e5229194-3747-4d42-9531-920eb3170e67",
   "metadata": {},
   "source": [
    "<div style=\"direction:rtl; font-size: 17px; font-family: 'XB Zar'; line-height: 200%\">برای مشاهده میانگین نمره همه دانش‌آموزان در هر آزمون، کافی است تابع \n",
    "    mean\n",
    "    را برای ویژگی \n",
    "    T\n",
    "    فراخوانی کنید:\n",
    "</div>"
   ]
  },
  {
   "cell_type": "code",
   "execution_count": null,
   "id": "736757f8-5a68-4840-a53f-f6c82d7ce68c",
   "metadata": {},
   "outputs": [],
   "source": [
    "grades.T.mean()"
   ]
  },
  {
   "cell_type": "markdown",
   "id": "d2fb3764-41aa-4be3-b011-2d1fe91e2daf",
   "metadata": {},
   "source": [
    "<h2 style=\"direction:rtl;font-size: px;font-family: 'XB Zar';color:#0288d1;\">مرتب کردن سطرها برحسب اندیس آنها\n",
    "</h2> <a id=''></a>"
   ]
  },
  {
   "cell_type": "markdown",
   "id": "f4c6a335-2bc7-4b1e-8800-c33ab5d06e3c",
   "metadata": {},
   "source": [
    "<div style=\"direction:rtl; font-size: 17px; font-family: 'XB Zar'; line-height: 200%\">اغلب داده‌ها را برای سهولت خوانایی مرتب می‌کنید. یک \n",
    "    DataFrame\n",
    "    را می‌توانید بر اساس سطرها، ستون‌ها، اندیس‌ها و یا مقادیر آنها مرتب کنید. در این قسمت سطرها را بر اساس اندیس‌های آن‌ها و یا به کمک تابع \n",
    "    sort_index\n",
    "    به ترتیب نزولی مرتب می‌کنیم. این تابع را با آرگومان کلیدی \n",
    "    ascending=False\n",
    "    فراخوانی کنید (به طور پیش‌فرض به ترتیب صعودی مرتب می‌شوند). این تابع، یک \n",
    "    DataFrame\n",
    "    جدید را برمی‌گرداند که حاوی داده‌های مرتب شده می‌باشد:\n",
    "</div>"
   ]
  },
  {
   "cell_type": "code",
   "execution_count": null,
   "id": "dc9cd515-f249-4cdd-bcbb-d03cc9c1266b",
   "metadata": {},
   "outputs": [],
   "source": [
    "grades.sort_index(ascending=False)"
   ]
  },
  {
   "cell_type": "markdown",
   "id": "19f8626a-d862-4200-814e-f324241a02fb",
   "metadata": {},
   "source": [
    "<h2 style=\"direction:rtl;font-size: px;font-family: 'XB Zar';color:#0288d1;\">مرتب کردن ستون‌ها برحسب اندیس آنها\n",
    "</h2> <a id=''></a>"
   ]
  },
  {
   "cell_type": "markdown",
   "id": "9d37ff38-251d-416e-a16c-cb97c8a23f38",
   "metadata": {},
   "source": [
    "<div style=\"direction:rtl; font-size: 17px; font-family: 'XB Zar'; line-height: 200%\">اکنون ستون‌ها را به ترتیب صعودی (از چپ به راست) و بر اساس نام ستون مرتب می‌کنیم. ارسال آرگومان کلیدی \n",
    "    axis=1\n",
    "    نشان می‌دهد قصد داریم به جای اندیس‌های سطر، اندیس‌های ستون را مرتب کنیم. مقدار پیش‌فرض \n",
    "    axis=0\n",
    "    اندیس‌های سطر را مرتب می‌کند:\n",
    "</div>"
   ]
  },
  {
   "cell_type": "code",
   "execution_count": null,
   "id": "a301cdb0-9831-4698-806d-56e7c1686663",
   "metadata": {},
   "outputs": [],
   "source": [
    "grades.sort_index(axis=1)"
   ]
  },
  {
   "cell_type": "markdown",
   "id": "322743c1-9d29-478c-911f-a023d716a1b1",
   "metadata": {},
   "source": [
    "<h2 style=\"direction:rtl;font-size: px;font-family: 'XB Zar';color:#0288d1;\">مرتب کردن بر اساس مقادیر ستون‌ها\n",
    "</h2> <a id=''></a>"
   ]
  },
  {
   "cell_type": "markdown",
   "id": "f9b47a3d-228b-4423-9498-54a93d25723e",
   "metadata": {},
   "source": [
    "<div style=\"direction:rtl; font-size: 17px; font-family: 'XB Zar'; line-height: 200%\">فرض کنید بخواهیم نمرات درس \n",
    "    Test1\n",
    "    را به ترتیب نزولی ببینیم؛ بنابراین می‌توانیم اسامی دانش‌آموزان را از بالاترین نمره به پایین‌ترین نمره مشاهده کنیم. برای این کار می‌توانیم تابع \n",
    "    sort_values\n",
    "    را فراخوانی کنیم:\n",
    "</div>"
   ]
  },
  {
   "cell_type": "code",
   "execution_count": null,
   "id": "1ba0504e-9c46-4b0f-b67a-3c31226e7593",
   "metadata": {},
   "outputs": [],
   "source": [
    "grades.sort_values(by='Test1', axis=1, ascending=False)"
   ]
  },
  {
   "cell_type": "markdown",
   "id": "19686026-149a-406d-81a0-ed2c9b0fcee0",
   "metadata": {},
   "source": [
    "<div style=\"direction:rtl; font-size: 17px; font-family: 'XB Zar'; line-height: 200%\">آرگومان‌های کلیدی \n",
    "    by\n",
    "    و \n",
    "    axis\n",
    "    تعیین می‌کنند که کدام مقادیر می‌بایست مرتب شوند. در این مثال، مرتب‌سازی را بر اساس مقادیر ستون (\n",
    "    axis=1\n",
    "    ) و برای \n",
    "    Test1\n",
    "    انجام می‌دهیم. البته اگر نمرات و اسامی در یک ستون باشند، خواندن آن‌ها راحت‌تر می‌باشد. برای این کار می‌توانیم ترانهاده \n",
    "    DataFrame\n",
    "    را مرتب کنیم. در اینجا نیازی به مشخص کردن آرگومان کلیدی \n",
    "    axis\n",
    "    نداریم، چون \n",
    "    sort_values\n",
    "    داده‌ها را به طور پیش‌فرض بر اساس ستون مرتب می‌کند.\n",
    "</div>"
   ]
  },
  {
   "cell_type": "code",
   "execution_count": null,
   "id": "0454de96-de41-419b-9232-02dafe3cbdcc",
   "metadata": {},
   "outputs": [],
   "source": [
    "grades.T.sort_values(by='Test1', ascending=False)"
   ]
  },
  {
   "cell_type": "markdown",
   "id": "7b0f7453-71f0-4f4c-a034-69f7f9fe2a61",
   "metadata": {},
   "source": [
    "<div style=\"direction:rtl; font-size: 17px; font-family: 'XB Zar'; line-height: 200%\">در نهایت، از آن جایی که فقط نمرات \n",
    "    Test1\n",
    "    را مرتب می‌کنید، ممکن است تمایلی به دیدن نمرات سایر آزمون‌ها نداشته باشید، بنابراین انتخاب را با مرتب‌سازی ترکیب می‌کنیم:\n",
    "</div>"
   ]
  },
  {
   "cell_type": "code",
   "execution_count": null,
   "id": "7d91566c-7b09-470f-87c9-fb3565c6ea11",
   "metadata": {},
   "outputs": [],
   "source": [
    "grades.loc['Test1'].sort_values(ascending=False)"
   ]
  },
  {
   "cell_type": "markdown",
   "id": "cd911ddf-c8c4-4a1f-aa28-e587ae8056d4",
   "metadata": {},
   "source": [
    "<h2 style=\"direction:rtl;font-size: px;font-family: 'XB Zar';color:#0288d1;\">Copy\n",
    "    در قیاس با \n",
    "    In-Place Sorting\n",
    "</h2> <a id=''></a>"
   ]
  },
  {
   "cell_type": "markdown",
   "id": "7f44a390-1c83-4a2d-9000-65c97fa07378",
   "metadata": {},
   "source": [
    "<div style=\"direction:rtl; font-size: 17px; font-family: 'XB Zar'; line-height: 200%\">به طور پیش‌فرض \n",
    "    sort_index\n",
    "    و \n",
    "    sort_values\n",
    "    یک کپی از \n",
    "    DataFrame\n",
    "    اصلی را برمی‌گرداند و به همین دلیل ممکن است در یک برنامه کلان داده به حافظه قابل‌توجهی نیاز داشته باشد. به جای کپی کردن داده‌ها، می‌توانید \n",
    "    DataFrame\n",
    "    را به صورت \n",
    "    in-Place\n",
    "    مرتب کنید. برای انجام این کار، آرگومان کلیدی \n",
    "    inplace=True\n",
    "    را به \n",
    "    sort_index\n",
    "    و \n",
    "    sort_values\n",
    "    ارسال کنید.\n",
    "</div>"
   ]
  },
  {
   "cell_type": "markdown",
   "id": "389309a1-1c53-4dc6-ac58-4a2ff94f8095",
   "metadata": {},
   "source": [
    "<div style=\"direction:rtl; font-size: 17px; font-family: 'XB Zar'; line-height: 200%\">تا اینجای کار تعداد زیادی از ویژگی‌های \n",
    "    Series\n",
    "    و \n",
    "    DataFrame\n",
    "    در \n",
    "    pandas\n",
    "    را نشان داده‌ایم. در بخش بعدی مقدمه‌ای بر علم داده، از \n",
    "    Series\n",
    "    و \n",
    "    DataFrame\n",
    "    برای پاک‌سازی داده‌ها و فرآیند \n",
    "    data munging\n",
    "    استفاده می‌کنیم تا داده‌ها را برای استفاده در پایگاه داده یا نرم‌افزار تجزیه و تحلیل آماده نماییم.\n",
    "</div>"
   ]
  },
  {
   "cell_type": "markdown",
   "id": "7eb51983-ab3c-455d-8fe5-f490b1f53768",
   "metadata": {},
   "source": [
    "<h1 style=\"direction:rtl;font-size: 35px;font-family: 'XB Zar';color:#8e24aa;\">7.15 <span style=\"color:#F50057;\">جمع‌بندی\n",
    "</span></h1> <a id='18'></a>"
   ]
  },
  {
   "cell_type": "markdown",
   "id": "e2a5e566-132d-4b0d-a290-5594695385e8",
   "metadata": {},
   "source": [
    "<div style=\"direction:rtl; font-size: 17px; font-family: 'XB Zar'; line-height: 200%\">در این فصل کاربرد \n",
    "    ndarrays\n",
    "    از کتابخانه \n",
    "    NumPy\n",
    "    را بررسی کردیم. \n",
    "    ndarrays\n",
    "    برای عملیات مرتب‌سازی و بازیابی داده‌ها کارایی بالایی دارد. \n",
    "    ndarrays\n",
    "    با استفاده از سبک برنامه نویسی تابعی، بسیاری از کارهای رایج دست‌کاری داده‌ها را به طور خلاصه انجام می‌دهد و باعث کاهش خطای احتمالی می‌شود. برای سهولت کار \n",
    "    ndarrays\n",
    "    را آرایه می‌نامیم.\n",
    "</div>"
   ]
  },
  {
   "cell_type": "markdown",
   "id": "4750772d-4bc0-4d20-91db-ec6294bc6af6",
   "metadata": {},
   "source": [
    "<div style=\"direction:rtl; font-size: 17px; font-family: 'XB Zar'; line-height: 200%\">مثال‌های این فصل، نحوه ایجاد، مقداردهی اولیه و ارجاع به هر عنصر آرایه‌های یک بعدی و دو بعدی را نشان دادند. از ویژگی‌های آرایه برای تعیین اندازه، شکل و نوع عناصر آرایه استفاده کردیم. توابعی را معرفی کردیم که می‌توانند آرایه‌هایی از صفر، یک، مقادیر خاص و یا مقادیری در یک محدوده ایجاد کنند. با استفاده از \n",
    "    timeit%\n",
    "    در \n",
    "    IPython\n",
    "    کارایی لیست و آرایه را مقایسه کردیم و دیدیم سرعت آرایه‌ها تا دو برابر از لیست‌ها سریع‌تر است.\n",
    "</div>"
   ]
  },
  {
   "cell_type": "markdown",
   "id": "08940753-dc7c-461d-aa60-910636d0dee1",
   "metadata": {},
   "source": [
    "<div style=\"direction:rtl; font-size: 17px; font-family: 'XB Zar'; line-height: 200%\">از عملگرهای آرایه و توابع \n",
    "    universal\n",
    "    در \n",
    "    NumPy\n",
    "    استفاده کردیم تا محاسبات درایه‌ای را روی هر عنصر از آرایه‌های هم‌شکل انجام دهیم. همچنین مشاهده کردید که \n",
    "    NumPy\n",
    "    از \n",
    "    broadcasting\n",
    "    برای انجام عملیات درایه‌ای بین آرایه‌ها و مقادیر اسکالر بین آرایه‌هایی با اشکال مختلف استفاده می‌کند. متدهای داخلی و مختلف آرایه برای انجام محاسبات روی تمامی اعضای آرایه را معرفی کردیم و نحوه انجام محاسبات را سطر به سطر یا ستون به ستون نشان دادیم. قابلیت‌های مختلف برش و اندیس‌گذاری آرایه را نشان دادیم و مشاهده کردیم که نسبت به کالکشن‌های ساخته شده در پایتون قدرت بیشتری دارند. روش‌های مختلفی را برای تغییر شکل آرایه‌ها نشان دادیم. در مورد نحوه کپی سطحی آرایه‌ها و کپی عمیق آرایه‌ها و سایر اشیاء \n",
    "    پایتون توضیح دادیم.\n",
    "</div>"
   ]
  },
  {
   "cell_type": "markdown",
   "id": "407623f8-7b2f-4451-ad0d-f084bd832dc8",
   "metadata": {},
   "source": [
    "<div style=\"direction:rtl; font-size: 17px; font-family: 'XB Zar'; line-height: 200%\">در بخش مقدمه‌ای بر علم داده، استفاده از کتابخانه محبوب \n",
    "    pandas\n",
    "    را شروع کردیم. از این کتابخانه در بسیاری از مطالعات موردی مربوط به علم داده در فصول آینده استفاده خواهید کرد. دیدید که بسیاری از برنامه‌های کلان داده به کالکشن‌های انعطاف‌پذیرتری نسبت به آرایه‌های \n",
    "    NumPy\n",
    "    نیاز دارند. این کالکشن‌ها باید مجموعه‌هایی از انواع داده‌های مختلف، اندیس‌گذاری سفارشی، داده‌های از دست رفته، داده‌هایی که ساختار ثابتی ندارند و داده‌هایی که باید به اشکال مناسب برای پایگاه داده‌ها و پکیج‌های تجزیه و تحلیل داده‌ها مورد استفاده ما تبدیل شوند؛ پشتیبانی کنند.\n",
    "</div>"
   ]
  },
  {
   "cell_type": "markdown",
   "id": "2fec4705-e828-4d6e-b7a1-db0d2ae38f8e",
   "metadata": {},
   "source": [
    "<div style=\"direction:rtl; font-size: 17px; font-family: 'XB Zar'; line-height: 200%\">نحوه ایجاد و دست‌کاری \n",
    "    Series\n",
    "    و \n",
    "    DataFrame\n",
    "    در \n",
    "    pandas\n",
    "    را نشان دادیم. \n",
    "    Series\n",
    "    برای کالکشن‌های یک بعدی و \n",
    "    DataFrame\n",
    "    برای کالکشن‌های دو بعدی استفاده می‌شوند. اندیس‌های \n",
    "    Series\n",
    "    و \n",
    "    DataFrame\n",
    "    را سفارشی کردیم. مشاهده کردید که \n",
    "    pandas\n",
    "    خروجی‌ها را به خوبی فرمت می‌کند و نحوه تنظیم دقت اعشاری را هم دیدید. روش‌های مختلفی برای دسترسی و انتخاب داده‌ها در \n",
    "    Series\n",
    "    و \n",
    "    DataFrame\n",
    "    را نشان دادیم. از متد \n",
    "    describe\n",
    "    برای محاسبه شاخص‌های آمار توصیفی در \n",
    "    Series\n",
    "    و \n",
    "    DataFrame\n",
    "    استفاده کردیم. نحوه ترانهاده کردن سطرها و ستون‌ها در \n",
    "    DataFrame\n",
    "    از طریق ویژگی \n",
    "    T\n",
    "    را نشان دادیم. برای مرتب‌سازی \n",
    "    DataFrame\n",
    "    چندین روش با استفاده از مقادیر اندیس، نام ستون، داده‌ها در سطرها و داده‌ها در ستون‌های \n",
    "    DataFrame\n",
    "    را مشاهده کردید. تا اینجای کار با چهار کالکشن شبه قدرتمند همراه با زمینه‌های کاربرد هر یک آشنا شدید. این چهار کالکشن عبارت‌اند از \n",
    "    list, arrays, Series و DataFrame\n",
    "    . در فصل یادگیری عمیق \n",
    "    tensor\n",
    "    را به عنوان کالکشن پنجم معرفی خواهیم کرد.\n",
    "</div>"
   ]
  },
  {
   "cell_type": "markdown",
   "id": "171dfb84-b455-42d7-8e3d-78940537f208",
   "metadata": {},
   "source": [
    "<div style=\"direction:rtl; font-size: 17px; font-family: 'XB Zar'; line-height: 200%\">در فصل بعدی، رشته‌ها، فرمت‌کردن رشته‌ها و متدهای رشته را عمیق‌تر بررسی خواهیم کرد. علاوه بر این، عبارات منظم را معرفی می‌کنیم و برای مطابقت الگوها با متن از آن‌ها استفاده خواهیم کرد. قابلیت‌هایی که مشاهده خواهید کرد به شما کمک می‌کند تا برای فصل پردازش زبان طبیعی \n",
    "    (NLP)\n",
    "    و سایر فصل‌های اصلی علم داده آماده شوید. در فصل بعدی و در قسمت مقدمه‌ای بر علم داده، پاک‌سازی داده‌ها و فرآیند \n",
    "    data munging\n",
    "    را معرفی می‌کنیم. این قابلیت‌ها، داده‌ها را برای استفاده در پایگاه داده یا نرم‌افزار تجزیه و تحلیل آماده می‌کنند. در فصل‌های بعدی، از \n",
    "    pandas\n",
    "    برای تجزیه و تحلیل سری زمانی پایه استفاده خواهیم کرد و قابلیت‌های رسم نمودار \n",
    "    pandas\n",
    "    را معرفی خواهیم کرد.\n",
    "</div>"
   ]
  }
 ],
 "metadata": {
  "kernelspec": {
   "display_name": "Python 3 (ipykernel)",
   "language": "python",
   "name": "python3"
  },
  "language_info": {
   "codemirror_mode": {
    "name": "ipython",
    "version": 3
   },
   "file_extension": ".py",
   "mimetype": "text/x-python",
   "name": "python",
   "nbconvert_exporter": "python",
   "pygments_lexer": "ipython3",
   "version": "3.11.10"
  }
 },
 "nbformat": 4,
 "nbformat_minor": 5
}
